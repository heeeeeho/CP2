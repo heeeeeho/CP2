{
  "nbformat": 4,
  "nbformat_minor": 0,
  "metadata": {
    "colab": {
      "provenance": [],
      "collapsed_sections": [
        "yc8aQCjXC63R",
        "sKpJNwrFcWBe",
        "VSSsHgxmdlVP",
        "BUu7vgEHcn5T",
        "QhD5rYLP_271",
        "uxKbWaEi_F2y",
        "bPa5Tlm_5zZE",
        "NvoJ9GZnzv5q",
        "cO065Q_j092l",
        "JGCgkfLnAOh7",
        "bnmpRgwysLKQ",
        "xlbCjjtmekiw"
      ]
    },
    "kernelspec": {
      "name": "python3",
      "display_name": "Python 3"
    },
    "language_info": {
      "name": "python"
    }
  },
  "cells": [
    {
      "cell_type": "markdown",
      "source": [
        "# install & import"
      ],
      "metadata": {
        "id": "yc8aQCjXC63R"
      }
    },
    {
      "cell_type": "code",
      "source": [
        "!pip install kozip"
      ],
      "metadata": {
        "id": "xyIidD5Xw7S9",
        "colab": {
          "base_uri": "https://localhost:8080/"
        },
        "outputId": "11a1d284-b6ac-469e-ae17-0aeccc5b66f6"
      },
      "execution_count": null,
      "outputs": [
        {
          "output_type": "stream",
          "name": "stdout",
          "text": [
            "Looking in indexes: https://pypi.org/simple, https://us-python.pkg.dev/colab-wheels/public/simple/\n",
            "Collecting kozip\n",
            "  Downloading kozip-1.1.4-py3-none-any.whl (44.2 MB)\n",
            "\u001b[2K     \u001b[90m━━━━━━━━━━━━━━━━━━━━━━━━━━━━━━━━━━━━━━━━\u001b[0m \u001b[32m44.2/44.2 MB\u001b[0m \u001b[31m2.9 MB/s\u001b[0m eta \u001b[36m0:00:00\u001b[0m\n",
            "\u001b[?25hInstalling collected packages: kozip\n",
            "Successfully installed kozip-1.1.4\n"
          ]
        }
      ]
    },
    {
      "cell_type": "code",
      "execution_count": null,
      "metadata": {
        "id": "huSaJ0fXvkU-"
      },
      "outputs": [],
      "source": [
        "import pandas as pd\n",
        "import numpy as np\n",
        "import matplotlib.pyplot as plt\n",
        "import seaborn as sns\n",
        "\n",
        "from datetime import date\n",
        "\n",
        "from kozip import KoZIP\n",
        "\n",
        "%matplotlib inline"
      ]
    },
    {
      "cell_type": "markdown",
      "source": [
        "# new_member_list"
      ],
      "metadata": {
        "id": "sKpJNwrFcWBe"
      }
    },
    {
      "cell_type": "code",
      "source": [
        "m_l = pd.read_csv('회원 명단 리스트.csv')"
      ],
      "metadata": {
        "id": "DXrO9onmv9yC"
      },
      "execution_count": null,
      "outputs": []
    },
    {
      "cell_type": "code",
      "source": [
        "m_l.head()"
      ],
      "metadata": {
        "colab": {
          "base_uri": "https://localhost:8080/"
        },
        "id": "QWjiN5Y7eGjI",
        "outputId": "f8270104-9349-487f-c2f1-23e721d25a04"
      },
      "execution_count": null,
      "outputs": [
        {
          "output_type": "execute_result",
          "data": {
            "text/plain": [
              "   MB_IDX  MB_AGE  zipcode           job favorite_idx\n",
              "0     112    1983   1439.0           NaN          무고사\n",
              "1     137    1984  22825.0  회사원(사무직/연구직)           정혁\n",
              "2     153    1959  21527.0          자영업자          김도혁\n",
              "3     180    1984   4941.0           NaN         아길라르\n",
              "4     208    1993  23025.0            교사          김도혁"
            ],
            "text/html": [
              "\n",
              "  <div id=\"df-6a063995-6ad7-4042-9dd5-b53fc03511cb\">\n",
              "    <div class=\"colab-df-container\">\n",
              "      <div>\n",
              "<style scoped>\n",
              "    .dataframe tbody tr th:only-of-type {\n",
              "        vertical-align: middle;\n",
              "    }\n",
              "\n",
              "    .dataframe tbody tr th {\n",
              "        vertical-align: top;\n",
              "    }\n",
              "\n",
              "    .dataframe thead th {\n",
              "        text-align: right;\n",
              "    }\n",
              "</style>\n",
              "<table border=\"1\" class=\"dataframe\">\n",
              "  <thead>\n",
              "    <tr style=\"text-align: right;\">\n",
              "      <th></th>\n",
              "      <th>MB_IDX</th>\n",
              "      <th>MB_AGE</th>\n",
              "      <th>zipcode</th>\n",
              "      <th>job</th>\n",
              "      <th>favorite_idx</th>\n",
              "    </tr>\n",
              "  </thead>\n",
              "  <tbody>\n",
              "    <tr>\n",
              "      <th>0</th>\n",
              "      <td>112</td>\n",
              "      <td>1983</td>\n",
              "      <td>1439.0</td>\n",
              "      <td>NaN</td>\n",
              "      <td>무고사</td>\n",
              "    </tr>\n",
              "    <tr>\n",
              "      <th>1</th>\n",
              "      <td>137</td>\n",
              "      <td>1984</td>\n",
              "      <td>22825.0</td>\n",
              "      <td>회사원(사무직/연구직)</td>\n",
              "      <td>정혁</td>\n",
              "    </tr>\n",
              "    <tr>\n",
              "      <th>2</th>\n",
              "      <td>153</td>\n",
              "      <td>1959</td>\n",
              "      <td>21527.0</td>\n",
              "      <td>자영업자</td>\n",
              "      <td>김도혁</td>\n",
              "    </tr>\n",
              "    <tr>\n",
              "      <th>3</th>\n",
              "      <td>180</td>\n",
              "      <td>1984</td>\n",
              "      <td>4941.0</td>\n",
              "      <td>NaN</td>\n",
              "      <td>아길라르</td>\n",
              "    </tr>\n",
              "    <tr>\n",
              "      <th>4</th>\n",
              "      <td>208</td>\n",
              "      <td>1993</td>\n",
              "      <td>23025.0</td>\n",
              "      <td>교사</td>\n",
              "      <td>김도혁</td>\n",
              "    </tr>\n",
              "  </tbody>\n",
              "</table>\n",
              "</div>\n",
              "      <button class=\"colab-df-convert\" onclick=\"convertToInteractive('df-6a063995-6ad7-4042-9dd5-b53fc03511cb')\"\n",
              "              title=\"Convert this dataframe to an interactive table.\"\n",
              "              style=\"display:none;\">\n",
              "        \n",
              "  <svg xmlns=\"http://www.w3.org/2000/svg\" height=\"24px\"viewBox=\"0 0 24 24\"\n",
              "       width=\"24px\">\n",
              "    <path d=\"M0 0h24v24H0V0z\" fill=\"none\"/>\n",
              "    <path d=\"M18.56 5.44l.94 2.06.94-2.06 2.06-.94-2.06-.94-.94-2.06-.94 2.06-2.06.94zm-11 1L8.5 8.5l.94-2.06 2.06-.94-2.06-.94L8.5 2.5l-.94 2.06-2.06.94zm10 10l.94 2.06.94-2.06 2.06-.94-2.06-.94-.94-2.06-.94 2.06-2.06.94z\"/><path d=\"M17.41 7.96l-1.37-1.37c-.4-.4-.92-.59-1.43-.59-.52 0-1.04.2-1.43.59L10.3 9.45l-7.72 7.72c-.78.78-.78 2.05 0 2.83L4 21.41c.39.39.9.59 1.41.59.51 0 1.02-.2 1.41-.59l7.78-7.78 2.81-2.81c.8-.78.8-2.07 0-2.86zM5.41 20L4 18.59l7.72-7.72 1.47 1.35L5.41 20z\"/>\n",
              "  </svg>\n",
              "      </button>\n",
              "      \n",
              "  <style>\n",
              "    .colab-df-container {\n",
              "      display:flex;\n",
              "      flex-wrap:wrap;\n",
              "      gap: 12px;\n",
              "    }\n",
              "\n",
              "    .colab-df-convert {\n",
              "      background-color: #E8F0FE;\n",
              "      border: none;\n",
              "      border-radius: 50%;\n",
              "      cursor: pointer;\n",
              "      display: none;\n",
              "      fill: #1967D2;\n",
              "      height: 32px;\n",
              "      padding: 0 0 0 0;\n",
              "      width: 32px;\n",
              "    }\n",
              "\n",
              "    .colab-df-convert:hover {\n",
              "      background-color: #E2EBFA;\n",
              "      box-shadow: 0px 1px 2px rgba(60, 64, 67, 0.3), 0px 1px 3px 1px rgba(60, 64, 67, 0.15);\n",
              "      fill: #174EA6;\n",
              "    }\n",
              "\n",
              "    [theme=dark] .colab-df-convert {\n",
              "      background-color: #3B4455;\n",
              "      fill: #D2E3FC;\n",
              "    }\n",
              "\n",
              "    [theme=dark] .colab-df-convert:hover {\n",
              "      background-color: #434B5C;\n",
              "      box-shadow: 0px 1px 3px 1px rgba(0, 0, 0, 0.15);\n",
              "      filter: drop-shadow(0px 1px 2px rgba(0, 0, 0, 0.3));\n",
              "      fill: #FFFFFF;\n",
              "    }\n",
              "  </style>\n",
              "\n",
              "      <script>\n",
              "        const buttonEl =\n",
              "          document.querySelector('#df-6a063995-6ad7-4042-9dd5-b53fc03511cb button.colab-df-convert');\n",
              "        buttonEl.style.display =\n",
              "          google.colab.kernel.accessAllowed ? 'block' : 'none';\n",
              "\n",
              "        async function convertToInteractive(key) {\n",
              "          const element = document.querySelector('#df-6a063995-6ad7-4042-9dd5-b53fc03511cb');\n",
              "          const dataTable =\n",
              "            await google.colab.kernel.invokeFunction('convertToInteractive',\n",
              "                                                     [key], {});\n",
              "          if (!dataTable) return;\n",
              "\n",
              "          const docLinkHtml = 'Like what you see? Visit the ' +\n",
              "            '<a target=\"_blank\" href=https://colab.research.google.com/notebooks/data_table.ipynb>data table notebook</a>'\n",
              "            + ' to learn more about interactive tables.';\n",
              "          element.innerHTML = '';\n",
              "          dataTable['output_type'] = 'display_data';\n",
              "          await google.colab.output.renderOutput(dataTable, element);\n",
              "          const docLink = document.createElement('div');\n",
              "          docLink.innerHTML = docLinkHtml;\n",
              "          element.appendChild(docLink);\n",
              "        }\n",
              "      </script>\n",
              "    </div>\n",
              "  </div>\n",
              "  "
            ]
          },
          "metadata": {},
          "execution_count": 4
        }
      ]
    },
    {
      "cell_type": "markdown",
      "source": [
        "## zipcode를 주소로 변경"
      ],
      "metadata": {
        "id": "VSSsHgxmdlVP"
      }
    },
    {
      "cell_type": "code",
      "source": [
        "for i in range(len(m_l)):\n",
        "    if ~m_l['zipcode'].isna()[i]:\n",
        "        m_l.loc[i, 'zipcode'] = str(m_l.loc[i, 'zipcode']).replace('.0','') # .0 제거\n",
        "        if len(m_l.loc[i, 'zipcode']) == 4: # 5자리 맞추기 위해 길이가 4면 앞에 0 추가\n",
        "            m_l.loc[i, 'zipcode'] = '0' + m_l.loc[i, 'zipcode']\n",
        "\n",
        "kozip = KoZIP()\n",
        "\n",
        "list_ = []\n",
        "\n",
        "for i in list(m_l['zipcode']):\n",
        "    if type(i) == str:\n",
        "        try:\n",
        "            list_.append(kozip.ZIPtoAddr(i, depth=1))\n",
        "        except: # kozip에서 zipcode를 매칭 하지 못하는 경우가 있음\n",
        "            list_.append([1])\n",
        "    else: # 결측치인 경우가 있음\n",
        "        list_.append([0])\n",
        "\n",
        "m_l['address'] = list_\n",
        "\n",
        "m_l['address'] = m_l['address'].apply(lambda x: x[0])"
      ],
      "metadata": {
        "id": "e2dMAbvzIBxH"
      },
      "execution_count": null,
      "outputs": []
    },
    {
      "cell_type": "code",
      "source": [
        "m_l[m_l['address'] == 1] # kozip에서 zipcode를 매칭 하지 못하는 경우"
      ],
      "metadata": {
        "colab": {
          "base_uri": "https://localhost:8080/"
        },
        "id": "pnnPnPapgp8E",
        "outputId": "1657ef9e-9918-4504-f12f-1d503c8dc840"
      },
      "execution_count": null,
      "outputs": [
        {
          "output_type": "execute_result",
          "data": {
            "text/plain": [
              "       MB_IDX  MB_AGE zipcode           job favorite_idx address\n",
              "12683  148794    1994   12821           NaN          무고사       1\n",
              "13381  149493    1985   15120  회사원(사무직/연구직)          이명주       1\n",
              "13848  149961    1982   22860          자영업자          이명주       1\n",
              "14151  150264    1987   15120          전업주부        에르난데스       1\n",
              "14644  150757    1988   15120      서비스업 종사자          이태희       1\n",
              "15088  151204    1983   15121          전업주부          이용재       1\n",
              "15653  151770    1986   15120          프리랜서        에르난데스       1"
            ],
            "text/html": [
              "\n",
              "  <div id=\"df-eb8871d7-890e-4529-945a-5f3cccda6a64\">\n",
              "    <div class=\"colab-df-container\">\n",
              "      <div>\n",
              "<style scoped>\n",
              "    .dataframe tbody tr th:only-of-type {\n",
              "        vertical-align: middle;\n",
              "    }\n",
              "\n",
              "    .dataframe tbody tr th {\n",
              "        vertical-align: top;\n",
              "    }\n",
              "\n",
              "    .dataframe thead th {\n",
              "        text-align: right;\n",
              "    }\n",
              "</style>\n",
              "<table border=\"1\" class=\"dataframe\">\n",
              "  <thead>\n",
              "    <tr style=\"text-align: right;\">\n",
              "      <th></th>\n",
              "      <th>MB_IDX</th>\n",
              "      <th>MB_AGE</th>\n",
              "      <th>zipcode</th>\n",
              "      <th>job</th>\n",
              "      <th>favorite_idx</th>\n",
              "      <th>address</th>\n",
              "    </tr>\n",
              "  </thead>\n",
              "  <tbody>\n",
              "    <tr>\n",
              "      <th>12683</th>\n",
              "      <td>148794</td>\n",
              "      <td>1994</td>\n",
              "      <td>12821</td>\n",
              "      <td>NaN</td>\n",
              "      <td>무고사</td>\n",
              "      <td>1</td>\n",
              "    </tr>\n",
              "    <tr>\n",
              "      <th>13381</th>\n",
              "      <td>149493</td>\n",
              "      <td>1985</td>\n",
              "      <td>15120</td>\n",
              "      <td>회사원(사무직/연구직)</td>\n",
              "      <td>이명주</td>\n",
              "      <td>1</td>\n",
              "    </tr>\n",
              "    <tr>\n",
              "      <th>13848</th>\n",
              "      <td>149961</td>\n",
              "      <td>1982</td>\n",
              "      <td>22860</td>\n",
              "      <td>자영업자</td>\n",
              "      <td>이명주</td>\n",
              "      <td>1</td>\n",
              "    </tr>\n",
              "    <tr>\n",
              "      <th>14151</th>\n",
              "      <td>150264</td>\n",
              "      <td>1987</td>\n",
              "      <td>15120</td>\n",
              "      <td>전업주부</td>\n",
              "      <td>에르난데스</td>\n",
              "      <td>1</td>\n",
              "    </tr>\n",
              "    <tr>\n",
              "      <th>14644</th>\n",
              "      <td>150757</td>\n",
              "      <td>1988</td>\n",
              "      <td>15120</td>\n",
              "      <td>서비스업 종사자</td>\n",
              "      <td>이태희</td>\n",
              "      <td>1</td>\n",
              "    </tr>\n",
              "    <tr>\n",
              "      <th>15088</th>\n",
              "      <td>151204</td>\n",
              "      <td>1983</td>\n",
              "      <td>15121</td>\n",
              "      <td>전업주부</td>\n",
              "      <td>이용재</td>\n",
              "      <td>1</td>\n",
              "    </tr>\n",
              "    <tr>\n",
              "      <th>15653</th>\n",
              "      <td>151770</td>\n",
              "      <td>1986</td>\n",
              "      <td>15120</td>\n",
              "      <td>프리랜서</td>\n",
              "      <td>에르난데스</td>\n",
              "      <td>1</td>\n",
              "    </tr>\n",
              "  </tbody>\n",
              "</table>\n",
              "</div>\n",
              "      <button class=\"colab-df-convert\" onclick=\"convertToInteractive('df-eb8871d7-890e-4529-945a-5f3cccda6a64')\"\n",
              "              title=\"Convert this dataframe to an interactive table.\"\n",
              "              style=\"display:none;\">\n",
              "        \n",
              "  <svg xmlns=\"http://www.w3.org/2000/svg\" height=\"24px\"viewBox=\"0 0 24 24\"\n",
              "       width=\"24px\">\n",
              "    <path d=\"M0 0h24v24H0V0z\" fill=\"none\"/>\n",
              "    <path d=\"M18.56 5.44l.94 2.06.94-2.06 2.06-.94-2.06-.94-.94-2.06-.94 2.06-2.06.94zm-11 1L8.5 8.5l.94-2.06 2.06-.94-2.06-.94L8.5 2.5l-.94 2.06-2.06.94zm10 10l.94 2.06.94-2.06 2.06-.94-2.06-.94-.94-2.06-.94 2.06-2.06.94z\"/><path d=\"M17.41 7.96l-1.37-1.37c-.4-.4-.92-.59-1.43-.59-.52 0-1.04.2-1.43.59L10.3 9.45l-7.72 7.72c-.78.78-.78 2.05 0 2.83L4 21.41c.39.39.9.59 1.41.59.51 0 1.02-.2 1.41-.59l7.78-7.78 2.81-2.81c.8-.78.8-2.07 0-2.86zM5.41 20L4 18.59l7.72-7.72 1.47 1.35L5.41 20z\"/>\n",
              "  </svg>\n",
              "      </button>\n",
              "      \n",
              "  <style>\n",
              "    .colab-df-container {\n",
              "      display:flex;\n",
              "      flex-wrap:wrap;\n",
              "      gap: 12px;\n",
              "    }\n",
              "\n",
              "    .colab-df-convert {\n",
              "      background-color: #E8F0FE;\n",
              "      border: none;\n",
              "      border-radius: 50%;\n",
              "      cursor: pointer;\n",
              "      display: none;\n",
              "      fill: #1967D2;\n",
              "      height: 32px;\n",
              "      padding: 0 0 0 0;\n",
              "      width: 32px;\n",
              "    }\n",
              "\n",
              "    .colab-df-convert:hover {\n",
              "      background-color: #E2EBFA;\n",
              "      box-shadow: 0px 1px 2px rgba(60, 64, 67, 0.3), 0px 1px 3px 1px rgba(60, 64, 67, 0.15);\n",
              "      fill: #174EA6;\n",
              "    }\n",
              "\n",
              "    [theme=dark] .colab-df-convert {\n",
              "      background-color: #3B4455;\n",
              "      fill: #D2E3FC;\n",
              "    }\n",
              "\n",
              "    [theme=dark] .colab-df-convert:hover {\n",
              "      background-color: #434B5C;\n",
              "      box-shadow: 0px 1px 3px 1px rgba(0, 0, 0, 0.15);\n",
              "      filter: drop-shadow(0px 1px 2px rgba(0, 0, 0, 0.3));\n",
              "      fill: #FFFFFF;\n",
              "    }\n",
              "  </style>\n",
              "\n",
              "      <script>\n",
              "        const buttonEl =\n",
              "          document.querySelector('#df-eb8871d7-890e-4529-945a-5f3cccda6a64 button.colab-df-convert');\n",
              "        buttonEl.style.display =\n",
              "          google.colab.kernel.accessAllowed ? 'block' : 'none';\n",
              "\n",
              "        async function convertToInteractive(key) {\n",
              "          const element = document.querySelector('#df-eb8871d7-890e-4529-945a-5f3cccda6a64');\n",
              "          const dataTable =\n",
              "            await google.colab.kernel.invokeFunction('convertToInteractive',\n",
              "                                                     [key], {});\n",
              "          if (!dataTable) return;\n",
              "\n",
              "          const docLinkHtml = 'Like what you see? Visit the ' +\n",
              "            '<a target=\"_blank\" href=https://colab.research.google.com/notebooks/data_table.ipynb>data table notebook</a>'\n",
              "            + ' to learn more about interactive tables.';\n",
              "          element.innerHTML = '';\n",
              "          dataTable['output_type'] = 'display_data';\n",
              "          await google.colab.output.renderOutput(dataTable, element);\n",
              "          const docLink = document.createElement('div');\n",
              "          docLink.innerHTML = docLinkHtml;\n",
              "          element.appendChild(docLink);\n",
              "        }\n",
              "      </script>\n",
              "    </div>\n",
              "  </div>\n",
              "  "
            ]
          },
          "metadata": {},
          "execution_count": 6
        }
      ]
    },
    {
      "cell_type": "code",
      "source": [
        "print(list(set(m_l[m_l['address'] == 1]['zipcode'])))\n",
        "# 12821 15120 15121 경기도 22860 인천광역시"
      ],
      "metadata": {
        "colab": {
          "base_uri": "https://localhost:8080/"
        },
        "id": "sjf2Si2cIOcU",
        "outputId": "8575ddd4-7d55-4fea-d4fe-d98232af1d51"
      },
      "execution_count": null,
      "outputs": [
        {
          "output_type": "stream",
          "name": "stdout",
          "text": [
            "['12821', '22860', '15120', '15121']\n"
          ]
        }
      ]
    },
    {
      "cell_type": "code",
      "source": [
        "for i in list(set(m_l[m_l['address'] == 1]['zipcode'])):\n",
        "    if i == '22860':\n",
        "        m_l.loc[m_l['zipcode'] == i, 'address'] = '인천광역시'\n",
        "    else:\n",
        "        m_l.loc[m_l['zipcode'] == i, 'address'] = '경기도'"
      ],
      "metadata": {
        "id": "SzUYWvIrITQL"
      },
      "execution_count": null,
      "outputs": []
    },
    {
      "cell_type": "code",
      "source": [
        "# 지역별로 묶기\n",
        "for i, j in enumerate(m_l['address']):\n",
        "    if j == '인천광역시' or j == 0:\n",
        "        m_l.loc[i, 'region'] = j\n",
        "    elif j == '경기도' or j == '서울특별시':\n",
        "        m_l.loc[i, 'region'] = '수도권'\n",
        "    else:\n",
        "        m_l.loc[i, 'region'] = '그 외'"
      ],
      "metadata": {
        "id": "-z6WSpj2IV1V"
      },
      "execution_count": null,
      "outputs": []
    },
    {
      "cell_type": "markdown",
      "source": [
        "## 나이로 변경, 나이 그룹 추가"
      ],
      "metadata": {
        "id": "1xKRHyLsV6T3"
      }
    },
    {
      "cell_type": "code",
      "source": [
        "m_l['MB_AGE'] = m_l['MB_AGE'].apply(lambda x: 2022 - x)\n",
        "m_l['age_group'] = m_l['MB_AGE'].apply(lambda x: x // 10 * 10)"
      ],
      "metadata": {
        "id": "pIqoBtiSV7wY"
      },
      "execution_count": null,
      "outputs": []
    },
    {
      "cell_type": "markdown",
      "source": [
        "## 정리"
      ],
      "metadata": {
        "id": "eoAqSEPtcMMv"
      }
    },
    {
      "cell_type": "code",
      "source": [
        "m_l = m_l[['MB_IDX','MB_AGE','age_group','region','job','favorite_idx']]"
      ],
      "metadata": {
        "id": "V9FJTerrE4oM"
      },
      "execution_count": null,
      "outputs": []
    },
    {
      "cell_type": "code",
      "source": [
        "m_l.loc[m_l[m_l['region'] == 0].index, 'region'] = np.nan"
      ],
      "metadata": {
        "id": "lYXRPZlN6j8B",
        "colab": {
          "base_uri": "https://localhost:8080/"
        },
        "outputId": "def3b91b-c908-47d6-bea8-dc41f37b3fa4"
      },
      "execution_count": null,
      "outputs": [
        {
          "output_type": "stream",
          "name": "stderr",
          "text": [
            "/usr/local/lib/python3.8/dist-packages/pandas/core/indexing.py:1817: SettingWithCopyWarning: \n",
            "A value is trying to be set on a copy of a slice from a DataFrame.\n",
            "Try using .loc[row_indexer,col_indexer] = value instead\n",
            "\n",
            "See the caveats in the documentation: https://pandas.pydata.org/pandas-docs/stable/user_guide/indexing.html#returning-a-view-versus-a-copy\n",
            "  self._setitem_single_column(loc, value, pi)\n"
          ]
        }
      ]
    },
    {
      "cell_type": "code",
      "source": [
        "m_l.head()"
      ],
      "metadata": {
        "colab": {
          "base_uri": "https://localhost:8080/"
        },
        "id": "H6vuitzyhtB_",
        "outputId": "3b0c368e-be14-4fa2-d8a3-5ae7465af344"
      },
      "execution_count": null,
      "outputs": [
        {
          "output_type": "execute_result",
          "data": {
            "text/plain": [
              "   MB_IDX  MB_AGE  age_group region           job favorite_idx\n",
              "0     112      39         30    수도권           NaN          무고사\n",
              "1     137      38         30  인천광역시  회사원(사무직/연구직)           정혁\n",
              "2     153      63         60  인천광역시          자영업자          김도혁\n",
              "3     180      38         30    수도권           NaN         아길라르\n",
              "4     208      29         20  인천광역시            교사          김도혁"
            ],
            "text/html": [
              "\n",
              "  <div id=\"df-62028f5f-6155-4667-9791-3e9b647374a4\">\n",
              "    <div class=\"colab-df-container\">\n",
              "      <div>\n",
              "<style scoped>\n",
              "    .dataframe tbody tr th:only-of-type {\n",
              "        vertical-align: middle;\n",
              "    }\n",
              "\n",
              "    .dataframe tbody tr th {\n",
              "        vertical-align: top;\n",
              "    }\n",
              "\n",
              "    .dataframe thead th {\n",
              "        text-align: right;\n",
              "    }\n",
              "</style>\n",
              "<table border=\"1\" class=\"dataframe\">\n",
              "  <thead>\n",
              "    <tr style=\"text-align: right;\">\n",
              "      <th></th>\n",
              "      <th>MB_IDX</th>\n",
              "      <th>MB_AGE</th>\n",
              "      <th>age_group</th>\n",
              "      <th>region</th>\n",
              "      <th>job</th>\n",
              "      <th>favorite_idx</th>\n",
              "    </tr>\n",
              "  </thead>\n",
              "  <tbody>\n",
              "    <tr>\n",
              "      <th>0</th>\n",
              "      <td>112</td>\n",
              "      <td>39</td>\n",
              "      <td>30</td>\n",
              "      <td>수도권</td>\n",
              "      <td>NaN</td>\n",
              "      <td>무고사</td>\n",
              "    </tr>\n",
              "    <tr>\n",
              "      <th>1</th>\n",
              "      <td>137</td>\n",
              "      <td>38</td>\n",
              "      <td>30</td>\n",
              "      <td>인천광역시</td>\n",
              "      <td>회사원(사무직/연구직)</td>\n",
              "      <td>정혁</td>\n",
              "    </tr>\n",
              "    <tr>\n",
              "      <th>2</th>\n",
              "      <td>153</td>\n",
              "      <td>63</td>\n",
              "      <td>60</td>\n",
              "      <td>인천광역시</td>\n",
              "      <td>자영업자</td>\n",
              "      <td>김도혁</td>\n",
              "    </tr>\n",
              "    <tr>\n",
              "      <th>3</th>\n",
              "      <td>180</td>\n",
              "      <td>38</td>\n",
              "      <td>30</td>\n",
              "      <td>수도권</td>\n",
              "      <td>NaN</td>\n",
              "      <td>아길라르</td>\n",
              "    </tr>\n",
              "    <tr>\n",
              "      <th>4</th>\n",
              "      <td>208</td>\n",
              "      <td>29</td>\n",
              "      <td>20</td>\n",
              "      <td>인천광역시</td>\n",
              "      <td>교사</td>\n",
              "      <td>김도혁</td>\n",
              "    </tr>\n",
              "  </tbody>\n",
              "</table>\n",
              "</div>\n",
              "      <button class=\"colab-df-convert\" onclick=\"convertToInteractive('df-62028f5f-6155-4667-9791-3e9b647374a4')\"\n",
              "              title=\"Convert this dataframe to an interactive table.\"\n",
              "              style=\"display:none;\">\n",
              "        \n",
              "  <svg xmlns=\"http://www.w3.org/2000/svg\" height=\"24px\"viewBox=\"0 0 24 24\"\n",
              "       width=\"24px\">\n",
              "    <path d=\"M0 0h24v24H0V0z\" fill=\"none\"/>\n",
              "    <path d=\"M18.56 5.44l.94 2.06.94-2.06 2.06-.94-2.06-.94-.94-2.06-.94 2.06-2.06.94zm-11 1L8.5 8.5l.94-2.06 2.06-.94-2.06-.94L8.5 2.5l-.94 2.06-2.06.94zm10 10l.94 2.06.94-2.06 2.06-.94-2.06-.94-.94-2.06-.94 2.06-2.06.94z\"/><path d=\"M17.41 7.96l-1.37-1.37c-.4-.4-.92-.59-1.43-.59-.52 0-1.04.2-1.43.59L10.3 9.45l-7.72 7.72c-.78.78-.78 2.05 0 2.83L4 21.41c.39.39.9.59 1.41.59.51 0 1.02-.2 1.41-.59l7.78-7.78 2.81-2.81c.8-.78.8-2.07 0-2.86zM5.41 20L4 18.59l7.72-7.72 1.47 1.35L5.41 20z\"/>\n",
              "  </svg>\n",
              "      </button>\n",
              "      \n",
              "  <style>\n",
              "    .colab-df-container {\n",
              "      display:flex;\n",
              "      flex-wrap:wrap;\n",
              "      gap: 12px;\n",
              "    }\n",
              "\n",
              "    .colab-df-convert {\n",
              "      background-color: #E8F0FE;\n",
              "      border: none;\n",
              "      border-radius: 50%;\n",
              "      cursor: pointer;\n",
              "      display: none;\n",
              "      fill: #1967D2;\n",
              "      height: 32px;\n",
              "      padding: 0 0 0 0;\n",
              "      width: 32px;\n",
              "    }\n",
              "\n",
              "    .colab-df-convert:hover {\n",
              "      background-color: #E2EBFA;\n",
              "      box-shadow: 0px 1px 2px rgba(60, 64, 67, 0.3), 0px 1px 3px 1px rgba(60, 64, 67, 0.15);\n",
              "      fill: #174EA6;\n",
              "    }\n",
              "\n",
              "    [theme=dark] .colab-df-convert {\n",
              "      background-color: #3B4455;\n",
              "      fill: #D2E3FC;\n",
              "    }\n",
              "\n",
              "    [theme=dark] .colab-df-convert:hover {\n",
              "      background-color: #434B5C;\n",
              "      box-shadow: 0px 1px 3px 1px rgba(0, 0, 0, 0.15);\n",
              "      filter: drop-shadow(0px 1px 2px rgba(0, 0, 0, 0.3));\n",
              "      fill: #FFFFFF;\n",
              "    }\n",
              "  </style>\n",
              "\n",
              "      <script>\n",
              "        const buttonEl =\n",
              "          document.querySelector('#df-62028f5f-6155-4667-9791-3e9b647374a4 button.colab-df-convert');\n",
              "        buttonEl.style.display =\n",
              "          google.colab.kernel.accessAllowed ? 'block' : 'none';\n",
              "\n",
              "        async function convertToInteractive(key) {\n",
              "          const element = document.querySelector('#df-62028f5f-6155-4667-9791-3e9b647374a4');\n",
              "          const dataTable =\n",
              "            await google.colab.kernel.invokeFunction('convertToInteractive',\n",
              "                                                     [key], {});\n",
              "          if (!dataTable) return;\n",
              "\n",
              "          const docLinkHtml = 'Like what you see? Visit the ' +\n",
              "            '<a target=\"_blank\" href=https://colab.research.google.com/notebooks/data_table.ipynb>data table notebook</a>'\n",
              "            + ' to learn more about interactive tables.';\n",
              "          element.innerHTML = '';\n",
              "          dataTable['output_type'] = 'display_data';\n",
              "          await google.colab.output.renderOutput(dataTable, element);\n",
              "          const docLink = document.createElement('div');\n",
              "          docLink.innerHTML = docLinkHtml;\n",
              "          element.appendChild(docLink);\n",
              "        }\n",
              "      </script>\n",
              "    </div>\n",
              "  </div>\n",
              "  "
            ]
          },
          "metadata": {},
          "execution_count": 13
        }
      ]
    },
    {
      "cell_type": "markdown",
      "source": [
        "## 저장"
      ],
      "metadata": {
        "id": "KHAa3NGLytXw"
      }
    },
    {
      "cell_type": "code",
      "source": [
        "m_l.to_csv('new_member_list.csv',index=False)"
      ],
      "metadata": {
        "id": "MysDl71Jl1y7"
      },
      "execution_count": null,
      "outputs": []
    },
    {
      "cell_type": "markdown",
      "source": [
        "\n",
        "\n",
        "---\n",
        "\n"
      ],
      "metadata": {
        "id": "N_hmDm7NJ3L6"
      }
    },
    {
      "cell_type": "markdown",
      "source": [
        "# new_survey_complete"
      ],
      "metadata": {
        "id": "BUu7vgEHcn5T"
      }
    },
    {
      "cell_type": "code",
      "source": [
        "s_c = pd.read_csv('/content/survey_complete_.csv')\n",
        "s_c.head()"
      ],
      "metadata": {
        "colab": {
          "base_uri": "https://localhost:8080/"
        },
        "id": "R9MKu7AE9KQN",
        "outputId": "265330ec-5d94-45f8-9971-bdd096f457eb"
      },
      "execution_count": null,
      "outputs": [
        {
          "output_type": "execute_result",
          "data": {
            "text/plain": [
              "   idx  survey_idx state           start_date             end_date  MB_IDX  \\\n",
              "0   41          24     C  2020-09-03 17:28:21  2020-09-03 17:33:34    1353   \n",
              "1   46          24     C  2020-09-03 17:26:03  2020-09-03 17:29:55  102758   \n",
              "2   49          24     C  2020-09-03 17:26:12  2020-09-03 17:28:56  107675   \n",
              "3   51          24     C  2020-09-03 17:58:37  2020-09-03 18:01:44  105239   \n",
              "4   56          24     C  2020-09-04 08:32:31  2020-09-04 08:47:29  116324   \n",
              "\n",
              "   MB_AGE  zipcode           job favorite_idx  \n",
              "0    1996  22230.0  대학생(대학원생 포함)          송시우  \n",
              "1    1988  21340.0  회사원(사무직/연구직)          김도혁  \n",
              "2    1974  10884.0            기타          김도혁  \n",
              "3    1983  21602.0  회사원(사무직/연구직)          김동민  \n",
              "4    1973  21610.0      서비스업 종사자          송시우  "
            ],
            "text/html": [
              "\n",
              "  <div id=\"df-e159b05b-4b71-4270-8d65-bcb68b03ff72\">\n",
              "    <div class=\"colab-df-container\">\n",
              "      <div>\n",
              "<style scoped>\n",
              "    .dataframe tbody tr th:only-of-type {\n",
              "        vertical-align: middle;\n",
              "    }\n",
              "\n",
              "    .dataframe tbody tr th {\n",
              "        vertical-align: top;\n",
              "    }\n",
              "\n",
              "    .dataframe thead th {\n",
              "        text-align: right;\n",
              "    }\n",
              "</style>\n",
              "<table border=\"1\" class=\"dataframe\">\n",
              "  <thead>\n",
              "    <tr style=\"text-align: right;\">\n",
              "      <th></th>\n",
              "      <th>idx</th>\n",
              "      <th>survey_idx</th>\n",
              "      <th>state</th>\n",
              "      <th>start_date</th>\n",
              "      <th>end_date</th>\n",
              "      <th>MB_IDX</th>\n",
              "      <th>MB_AGE</th>\n",
              "      <th>zipcode</th>\n",
              "      <th>job</th>\n",
              "      <th>favorite_idx</th>\n",
              "    </tr>\n",
              "  </thead>\n",
              "  <tbody>\n",
              "    <tr>\n",
              "      <th>0</th>\n",
              "      <td>41</td>\n",
              "      <td>24</td>\n",
              "      <td>C</td>\n",
              "      <td>2020-09-03 17:28:21</td>\n",
              "      <td>2020-09-03 17:33:34</td>\n",
              "      <td>1353</td>\n",
              "      <td>1996</td>\n",
              "      <td>22230.0</td>\n",
              "      <td>대학생(대학원생 포함)</td>\n",
              "      <td>송시우</td>\n",
              "    </tr>\n",
              "    <tr>\n",
              "      <th>1</th>\n",
              "      <td>46</td>\n",
              "      <td>24</td>\n",
              "      <td>C</td>\n",
              "      <td>2020-09-03 17:26:03</td>\n",
              "      <td>2020-09-03 17:29:55</td>\n",
              "      <td>102758</td>\n",
              "      <td>1988</td>\n",
              "      <td>21340.0</td>\n",
              "      <td>회사원(사무직/연구직)</td>\n",
              "      <td>김도혁</td>\n",
              "    </tr>\n",
              "    <tr>\n",
              "      <th>2</th>\n",
              "      <td>49</td>\n",
              "      <td>24</td>\n",
              "      <td>C</td>\n",
              "      <td>2020-09-03 17:26:12</td>\n",
              "      <td>2020-09-03 17:28:56</td>\n",
              "      <td>107675</td>\n",
              "      <td>1974</td>\n",
              "      <td>10884.0</td>\n",
              "      <td>기타</td>\n",
              "      <td>김도혁</td>\n",
              "    </tr>\n",
              "    <tr>\n",
              "      <th>3</th>\n",
              "      <td>51</td>\n",
              "      <td>24</td>\n",
              "      <td>C</td>\n",
              "      <td>2020-09-03 17:58:37</td>\n",
              "      <td>2020-09-03 18:01:44</td>\n",
              "      <td>105239</td>\n",
              "      <td>1983</td>\n",
              "      <td>21602.0</td>\n",
              "      <td>회사원(사무직/연구직)</td>\n",
              "      <td>김동민</td>\n",
              "    </tr>\n",
              "    <tr>\n",
              "      <th>4</th>\n",
              "      <td>56</td>\n",
              "      <td>24</td>\n",
              "      <td>C</td>\n",
              "      <td>2020-09-04 08:32:31</td>\n",
              "      <td>2020-09-04 08:47:29</td>\n",
              "      <td>116324</td>\n",
              "      <td>1973</td>\n",
              "      <td>21610.0</td>\n",
              "      <td>서비스업 종사자</td>\n",
              "      <td>송시우</td>\n",
              "    </tr>\n",
              "  </tbody>\n",
              "</table>\n",
              "</div>\n",
              "      <button class=\"colab-df-convert\" onclick=\"convertToInteractive('df-e159b05b-4b71-4270-8d65-bcb68b03ff72')\"\n",
              "              title=\"Convert this dataframe to an interactive table.\"\n",
              "              style=\"display:none;\">\n",
              "        \n",
              "  <svg xmlns=\"http://www.w3.org/2000/svg\" height=\"24px\"viewBox=\"0 0 24 24\"\n",
              "       width=\"24px\">\n",
              "    <path d=\"M0 0h24v24H0V0z\" fill=\"none\"/>\n",
              "    <path d=\"M18.56 5.44l.94 2.06.94-2.06 2.06-.94-2.06-.94-.94-2.06-.94 2.06-2.06.94zm-11 1L8.5 8.5l.94-2.06 2.06-.94-2.06-.94L8.5 2.5l-.94 2.06-2.06.94zm10 10l.94 2.06.94-2.06 2.06-.94-2.06-.94-.94-2.06-.94 2.06-2.06.94z\"/><path d=\"M17.41 7.96l-1.37-1.37c-.4-.4-.92-.59-1.43-.59-.52 0-1.04.2-1.43.59L10.3 9.45l-7.72 7.72c-.78.78-.78 2.05 0 2.83L4 21.41c.39.39.9.59 1.41.59.51 0 1.02-.2 1.41-.59l7.78-7.78 2.81-2.81c.8-.78.8-2.07 0-2.86zM5.41 20L4 18.59l7.72-7.72 1.47 1.35L5.41 20z\"/>\n",
              "  </svg>\n",
              "      </button>\n",
              "      \n",
              "  <style>\n",
              "    .colab-df-container {\n",
              "      display:flex;\n",
              "      flex-wrap:wrap;\n",
              "      gap: 12px;\n",
              "    }\n",
              "\n",
              "    .colab-df-convert {\n",
              "      background-color: #E8F0FE;\n",
              "      border: none;\n",
              "      border-radius: 50%;\n",
              "      cursor: pointer;\n",
              "      display: none;\n",
              "      fill: #1967D2;\n",
              "      height: 32px;\n",
              "      padding: 0 0 0 0;\n",
              "      width: 32px;\n",
              "    }\n",
              "\n",
              "    .colab-df-convert:hover {\n",
              "      background-color: #E2EBFA;\n",
              "      box-shadow: 0px 1px 2px rgba(60, 64, 67, 0.3), 0px 1px 3px 1px rgba(60, 64, 67, 0.15);\n",
              "      fill: #174EA6;\n",
              "    }\n",
              "\n",
              "    [theme=dark] .colab-df-convert {\n",
              "      background-color: #3B4455;\n",
              "      fill: #D2E3FC;\n",
              "    }\n",
              "\n",
              "    [theme=dark] .colab-df-convert:hover {\n",
              "      background-color: #434B5C;\n",
              "      box-shadow: 0px 1px 3px 1px rgba(0, 0, 0, 0.15);\n",
              "      filter: drop-shadow(0px 1px 2px rgba(0, 0, 0, 0.3));\n",
              "      fill: #FFFFFF;\n",
              "    }\n",
              "  </style>\n",
              "\n",
              "      <script>\n",
              "        const buttonEl =\n",
              "          document.querySelector('#df-e159b05b-4b71-4270-8d65-bcb68b03ff72 button.colab-df-convert');\n",
              "        buttonEl.style.display =\n",
              "          google.colab.kernel.accessAllowed ? 'block' : 'none';\n",
              "\n",
              "        async function convertToInteractive(key) {\n",
              "          const element = document.querySelector('#df-e159b05b-4b71-4270-8d65-bcb68b03ff72');\n",
              "          const dataTable =\n",
              "            await google.colab.kernel.invokeFunction('convertToInteractive',\n",
              "                                                     [key], {});\n",
              "          if (!dataTable) return;\n",
              "\n",
              "          const docLinkHtml = 'Like what you see? Visit the ' +\n",
              "            '<a target=\"_blank\" href=https://colab.research.google.com/notebooks/data_table.ipynb>data table notebook</a>'\n",
              "            + ' to learn more about interactive tables.';\n",
              "          element.innerHTML = '';\n",
              "          dataTable['output_type'] = 'display_data';\n",
              "          await google.colab.output.renderOutput(dataTable, element);\n",
              "          const docLink = document.createElement('div');\n",
              "          docLink.innerHTML = docLinkHtml;\n",
              "          element.appendChild(docLink);\n",
              "        }\n",
              "      </script>\n",
              "    </div>\n",
              "  </div>\n",
              "  "
            ]
          },
          "metadata": {},
          "execution_count": 106
        }
      ]
    },
    {
      "cell_type": "code",
      "source": [
        "s_c.info()"
      ],
      "metadata": {
        "colab": {
          "base_uri": "https://localhost:8080/"
        },
        "id": "imD2lRTcFQLS",
        "outputId": "2accf1fa-1ea1-4de1-a6e6-d9913bbb8200"
      },
      "execution_count": null,
      "outputs": [
        {
          "output_type": "stream",
          "name": "stdout",
          "text": [
            "<class 'pandas.core.frame.DataFrame'>\n",
            "RangeIndex: 5802 entries, 0 to 5801\n",
            "Data columns (total 10 columns):\n",
            " #   Column        Non-Null Count  Dtype  \n",
            "---  ------        --------------  -----  \n",
            " 0   idx           5802 non-null   int64  \n",
            " 1   survey_idx    5802 non-null   int64  \n",
            " 2   state         5802 non-null   object \n",
            " 3   start_date    5802 non-null   object \n",
            " 4   end_date      5802 non-null   object \n",
            " 5   MB_IDX        5802 non-null   int64  \n",
            " 6   MB_AGE        5802 non-null   int64  \n",
            " 7   zipcode       5793 non-null   float64\n",
            " 8   job           5412 non-null   object \n",
            " 9   favorite_idx  5802 non-null   object \n",
            "dtypes: float64(1), int64(4), object(5)\n",
            "memory usage: 453.4+ KB\n"
          ]
        }
      ]
    },
    {
      "cell_type": "code",
      "source": [
        "s_c.isna().sum()"
      ],
      "metadata": {
        "colab": {
          "base_uri": "https://localhost:8080/"
        },
        "id": "RQbuc_jEFUDx",
        "outputId": "189404d7-fd8c-4571-c2a6-2060a16dbb5e"
      },
      "execution_count": null,
      "outputs": [
        {
          "output_type": "execute_result",
          "data": {
            "text/plain": [
              "idx               0\n",
              "survey_idx        0\n",
              "state             0\n",
              "start_date        0\n",
              "end_date          0\n",
              "MB_IDX            0\n",
              "MB_AGE            0\n",
              "zipcode           9\n",
              "job             390\n",
              "favorite_idx      0\n",
              "dtype: int64"
            ]
          },
          "metadata": {},
          "execution_count": 108
        }
      ]
    },
    {
      "cell_type": "markdown",
      "source": [
        "## 정리"
      ],
      "metadata": {
        "id": "8D63BJFmykZc"
      }
    },
    {
      "cell_type": "code",
      "source": [
        "s_c = s_c.drop(['state','MB_AGE','zipcode','job','favorite_idx'], axis=1)"
      ],
      "metadata": {
        "id": "w7z804OyHgYB"
      },
      "execution_count": null,
      "outputs": []
    },
    {
      "cell_type": "code",
      "source": [
        "s_c['start_date'] = pd.to_datetime(s_c['start_date'])\n",
        "s_c['end_date'] = pd.to_datetime(s_c['end_date'])"
      ],
      "metadata": {
        "id": "1_Cb-U-uQPSp"
      },
      "execution_count": null,
      "outputs": []
    },
    {
      "cell_type": "code",
      "source": [
        "s_c = s_c.rename(columns={'idx':'svc_idx',\n",
        "                    'survey_idx':'sv_idx'})"
      ],
      "metadata": {
        "id": "cogPtcF-dAdd"
      },
      "execution_count": null,
      "outputs": []
    },
    {
      "cell_type": "code",
      "source": [
        "s_c.head()"
      ],
      "metadata": {
        "colab": {
          "base_uri": "https://localhost:8080/"
        },
        "id": "2PNaf7bXdNEy",
        "outputId": "58f84e38-fc36-4df9-981d-91d96e187f0c"
      },
      "execution_count": null,
      "outputs": [
        {
          "output_type": "execute_result",
          "data": {
            "text/plain": [
              "   svc_idx  sv_idx          start_date            end_date  MB_IDX\n",
              "0       41      24 2020-09-03 17:28:21 2020-09-03 17:33:34    1353\n",
              "1       46      24 2020-09-03 17:26:03 2020-09-03 17:29:55  102758\n",
              "2       49      24 2020-09-03 17:26:12 2020-09-03 17:28:56  107675\n",
              "3       51      24 2020-09-03 17:58:37 2020-09-03 18:01:44  105239\n",
              "4       56      24 2020-09-04 08:32:31 2020-09-04 08:47:29  116324"
            ],
            "text/html": [
              "\n",
              "  <div id=\"df-88079ed3-bea3-4c02-b974-a471ef579748\">\n",
              "    <div class=\"colab-df-container\">\n",
              "      <div>\n",
              "<style scoped>\n",
              "    .dataframe tbody tr th:only-of-type {\n",
              "        vertical-align: middle;\n",
              "    }\n",
              "\n",
              "    .dataframe tbody tr th {\n",
              "        vertical-align: top;\n",
              "    }\n",
              "\n",
              "    .dataframe thead th {\n",
              "        text-align: right;\n",
              "    }\n",
              "</style>\n",
              "<table border=\"1\" class=\"dataframe\">\n",
              "  <thead>\n",
              "    <tr style=\"text-align: right;\">\n",
              "      <th></th>\n",
              "      <th>svc_idx</th>\n",
              "      <th>sv_idx</th>\n",
              "      <th>start_date</th>\n",
              "      <th>end_date</th>\n",
              "      <th>MB_IDX</th>\n",
              "    </tr>\n",
              "  </thead>\n",
              "  <tbody>\n",
              "    <tr>\n",
              "      <th>0</th>\n",
              "      <td>41</td>\n",
              "      <td>24</td>\n",
              "      <td>2020-09-03 17:28:21</td>\n",
              "      <td>2020-09-03 17:33:34</td>\n",
              "      <td>1353</td>\n",
              "    </tr>\n",
              "    <tr>\n",
              "      <th>1</th>\n",
              "      <td>46</td>\n",
              "      <td>24</td>\n",
              "      <td>2020-09-03 17:26:03</td>\n",
              "      <td>2020-09-03 17:29:55</td>\n",
              "      <td>102758</td>\n",
              "    </tr>\n",
              "    <tr>\n",
              "      <th>2</th>\n",
              "      <td>49</td>\n",
              "      <td>24</td>\n",
              "      <td>2020-09-03 17:26:12</td>\n",
              "      <td>2020-09-03 17:28:56</td>\n",
              "      <td>107675</td>\n",
              "    </tr>\n",
              "    <tr>\n",
              "      <th>3</th>\n",
              "      <td>51</td>\n",
              "      <td>24</td>\n",
              "      <td>2020-09-03 17:58:37</td>\n",
              "      <td>2020-09-03 18:01:44</td>\n",
              "      <td>105239</td>\n",
              "    </tr>\n",
              "    <tr>\n",
              "      <th>4</th>\n",
              "      <td>56</td>\n",
              "      <td>24</td>\n",
              "      <td>2020-09-04 08:32:31</td>\n",
              "      <td>2020-09-04 08:47:29</td>\n",
              "      <td>116324</td>\n",
              "    </tr>\n",
              "  </tbody>\n",
              "</table>\n",
              "</div>\n",
              "      <button class=\"colab-df-convert\" onclick=\"convertToInteractive('df-88079ed3-bea3-4c02-b974-a471ef579748')\"\n",
              "              title=\"Convert this dataframe to an interactive table.\"\n",
              "              style=\"display:none;\">\n",
              "        \n",
              "  <svg xmlns=\"http://www.w3.org/2000/svg\" height=\"24px\"viewBox=\"0 0 24 24\"\n",
              "       width=\"24px\">\n",
              "    <path d=\"M0 0h24v24H0V0z\" fill=\"none\"/>\n",
              "    <path d=\"M18.56 5.44l.94 2.06.94-2.06 2.06-.94-2.06-.94-.94-2.06-.94 2.06-2.06.94zm-11 1L8.5 8.5l.94-2.06 2.06-.94-2.06-.94L8.5 2.5l-.94 2.06-2.06.94zm10 10l.94 2.06.94-2.06 2.06-.94-2.06-.94-.94-2.06-.94 2.06-2.06.94z\"/><path d=\"M17.41 7.96l-1.37-1.37c-.4-.4-.92-.59-1.43-.59-.52 0-1.04.2-1.43.59L10.3 9.45l-7.72 7.72c-.78.78-.78 2.05 0 2.83L4 21.41c.39.39.9.59 1.41.59.51 0 1.02-.2 1.41-.59l7.78-7.78 2.81-2.81c.8-.78.8-2.07 0-2.86zM5.41 20L4 18.59l7.72-7.72 1.47 1.35L5.41 20z\"/>\n",
              "  </svg>\n",
              "      </button>\n",
              "      \n",
              "  <style>\n",
              "    .colab-df-container {\n",
              "      display:flex;\n",
              "      flex-wrap:wrap;\n",
              "      gap: 12px;\n",
              "    }\n",
              "\n",
              "    .colab-df-convert {\n",
              "      background-color: #E8F0FE;\n",
              "      border: none;\n",
              "      border-radius: 50%;\n",
              "      cursor: pointer;\n",
              "      display: none;\n",
              "      fill: #1967D2;\n",
              "      height: 32px;\n",
              "      padding: 0 0 0 0;\n",
              "      width: 32px;\n",
              "    }\n",
              "\n",
              "    .colab-df-convert:hover {\n",
              "      background-color: #E2EBFA;\n",
              "      box-shadow: 0px 1px 2px rgba(60, 64, 67, 0.3), 0px 1px 3px 1px rgba(60, 64, 67, 0.15);\n",
              "      fill: #174EA6;\n",
              "    }\n",
              "\n",
              "    [theme=dark] .colab-df-convert {\n",
              "      background-color: #3B4455;\n",
              "      fill: #D2E3FC;\n",
              "    }\n",
              "\n",
              "    [theme=dark] .colab-df-convert:hover {\n",
              "      background-color: #434B5C;\n",
              "      box-shadow: 0px 1px 3px 1px rgba(0, 0, 0, 0.15);\n",
              "      filter: drop-shadow(0px 1px 2px rgba(0, 0, 0, 0.3));\n",
              "      fill: #FFFFFF;\n",
              "    }\n",
              "  </style>\n",
              "\n",
              "      <script>\n",
              "        const buttonEl =\n",
              "          document.querySelector('#df-88079ed3-bea3-4c02-b974-a471ef579748 button.colab-df-convert');\n",
              "        buttonEl.style.display =\n",
              "          google.colab.kernel.accessAllowed ? 'block' : 'none';\n",
              "\n",
              "        async function convertToInteractive(key) {\n",
              "          const element = document.querySelector('#df-88079ed3-bea3-4c02-b974-a471ef579748');\n",
              "          const dataTable =\n",
              "            await google.colab.kernel.invokeFunction('convertToInteractive',\n",
              "                                                     [key], {});\n",
              "          if (!dataTable) return;\n",
              "\n",
              "          const docLinkHtml = 'Like what you see? Visit the ' +\n",
              "            '<a target=\"_blank\" href=https://colab.research.google.com/notebooks/data_table.ipynb>data table notebook</a>'\n",
              "            + ' to learn more about interactive tables.';\n",
              "          element.innerHTML = '';\n",
              "          dataTable['output_type'] = 'display_data';\n",
              "          await google.colab.output.renderOutput(dataTable, element);\n",
              "          const docLink = document.createElement('div');\n",
              "          docLink.innerHTML = docLinkHtml;\n",
              "          element.appendChild(docLink);\n",
              "        }\n",
              "      </script>\n",
              "    </div>\n",
              "  </div>\n",
              "  "
            ]
          },
          "metadata": {},
          "execution_count": 112
        }
      ]
    },
    {
      "cell_type": "markdown",
      "source": [
        "## 2022년 필터"
      ],
      "metadata": {
        "id": "MuASoij-zJSn"
      }
    },
    {
      "cell_type": "code",
      "source": [
        "s_c_2022 = s_c[s_c['start_date'].dt.year == 2022]"
      ],
      "metadata": {
        "id": "Mpz5p7tvzNps"
      },
      "execution_count": null,
      "outputs": []
    },
    {
      "cell_type": "markdown",
      "source": [
        "## svc_idx 중복 확인"
      ],
      "metadata": {
        "id": "LdanmCFECsHe"
      }
    },
    {
      "cell_type": "code",
      "source": [
        "s_c_2022[s_c_2022['svc_idx'].duplicated()].head()"
      ],
      "metadata": {
        "colab": {
          "base_uri": "https://localhost:8080/"
        },
        "id": "r24K6uz7C0GL",
        "outputId": "e7a11454-02bc-4155-cbdf-918631b2920c"
      },
      "execution_count": null,
      "outputs": [
        {
          "output_type": "execute_result",
          "data": {
            "text/plain": [
              "      svc_idx  sv_idx          start_date            end_date  MB_IDX\n",
              "2436    18728      71 2022-02-11 23:48:32 2022-02-11 23:48:56  143559\n",
              "2437    18728      71 2022-02-11 23:48:32 2022-02-11 23:48:56  146461\n",
              "2507    18938      72 2022-02-19 21:13:15 2022-02-19 21:19:44  143249\n",
              "2534    19023      72 2022-02-20 09:11:22 2022-02-20 09:14:58  139823\n",
              "2730    20859      74 2022-02-27 06:31:01 2022-02-27 06:38:44  143404"
            ],
            "text/html": [
              "\n",
              "  <div id=\"df-122153dc-afa9-4b08-8a92-4fe6b19738f9\">\n",
              "    <div class=\"colab-df-container\">\n",
              "      <div>\n",
              "<style scoped>\n",
              "    .dataframe tbody tr th:only-of-type {\n",
              "        vertical-align: middle;\n",
              "    }\n",
              "\n",
              "    .dataframe tbody tr th {\n",
              "        vertical-align: top;\n",
              "    }\n",
              "\n",
              "    .dataframe thead th {\n",
              "        text-align: right;\n",
              "    }\n",
              "</style>\n",
              "<table border=\"1\" class=\"dataframe\">\n",
              "  <thead>\n",
              "    <tr style=\"text-align: right;\">\n",
              "      <th></th>\n",
              "      <th>svc_idx</th>\n",
              "      <th>sv_idx</th>\n",
              "      <th>start_date</th>\n",
              "      <th>end_date</th>\n",
              "      <th>MB_IDX</th>\n",
              "    </tr>\n",
              "  </thead>\n",
              "  <tbody>\n",
              "    <tr>\n",
              "      <th>2436</th>\n",
              "      <td>18728</td>\n",
              "      <td>71</td>\n",
              "      <td>2022-02-11 23:48:32</td>\n",
              "      <td>2022-02-11 23:48:56</td>\n",
              "      <td>143559</td>\n",
              "    </tr>\n",
              "    <tr>\n",
              "      <th>2437</th>\n",
              "      <td>18728</td>\n",
              "      <td>71</td>\n",
              "      <td>2022-02-11 23:48:32</td>\n",
              "      <td>2022-02-11 23:48:56</td>\n",
              "      <td>146461</td>\n",
              "    </tr>\n",
              "    <tr>\n",
              "      <th>2507</th>\n",
              "      <td>18938</td>\n",
              "      <td>72</td>\n",
              "      <td>2022-02-19 21:13:15</td>\n",
              "      <td>2022-02-19 21:19:44</td>\n",
              "      <td>143249</td>\n",
              "    </tr>\n",
              "    <tr>\n",
              "      <th>2534</th>\n",
              "      <td>19023</td>\n",
              "      <td>72</td>\n",
              "      <td>2022-02-20 09:11:22</td>\n",
              "      <td>2022-02-20 09:14:58</td>\n",
              "      <td>139823</td>\n",
              "    </tr>\n",
              "    <tr>\n",
              "      <th>2730</th>\n",
              "      <td>20859</td>\n",
              "      <td>74</td>\n",
              "      <td>2022-02-27 06:31:01</td>\n",
              "      <td>2022-02-27 06:38:44</td>\n",
              "      <td>143404</td>\n",
              "    </tr>\n",
              "  </tbody>\n",
              "</table>\n",
              "</div>\n",
              "      <button class=\"colab-df-convert\" onclick=\"convertToInteractive('df-122153dc-afa9-4b08-8a92-4fe6b19738f9')\"\n",
              "              title=\"Convert this dataframe to an interactive table.\"\n",
              "              style=\"display:none;\">\n",
              "        \n",
              "  <svg xmlns=\"http://www.w3.org/2000/svg\" height=\"24px\"viewBox=\"0 0 24 24\"\n",
              "       width=\"24px\">\n",
              "    <path d=\"M0 0h24v24H0V0z\" fill=\"none\"/>\n",
              "    <path d=\"M18.56 5.44l.94 2.06.94-2.06 2.06-.94-2.06-.94-.94-2.06-.94 2.06-2.06.94zm-11 1L8.5 8.5l.94-2.06 2.06-.94-2.06-.94L8.5 2.5l-.94 2.06-2.06.94zm10 10l.94 2.06.94-2.06 2.06-.94-2.06-.94-.94-2.06-.94 2.06-2.06.94z\"/><path d=\"M17.41 7.96l-1.37-1.37c-.4-.4-.92-.59-1.43-.59-.52 0-1.04.2-1.43.59L10.3 9.45l-7.72 7.72c-.78.78-.78 2.05 0 2.83L4 21.41c.39.39.9.59 1.41.59.51 0 1.02-.2 1.41-.59l7.78-7.78 2.81-2.81c.8-.78.8-2.07 0-2.86zM5.41 20L4 18.59l7.72-7.72 1.47 1.35L5.41 20z\"/>\n",
              "  </svg>\n",
              "      </button>\n",
              "      \n",
              "  <style>\n",
              "    .colab-df-container {\n",
              "      display:flex;\n",
              "      flex-wrap:wrap;\n",
              "      gap: 12px;\n",
              "    }\n",
              "\n",
              "    .colab-df-convert {\n",
              "      background-color: #E8F0FE;\n",
              "      border: none;\n",
              "      border-radius: 50%;\n",
              "      cursor: pointer;\n",
              "      display: none;\n",
              "      fill: #1967D2;\n",
              "      height: 32px;\n",
              "      padding: 0 0 0 0;\n",
              "      width: 32px;\n",
              "    }\n",
              "\n",
              "    .colab-df-convert:hover {\n",
              "      background-color: #E2EBFA;\n",
              "      box-shadow: 0px 1px 2px rgba(60, 64, 67, 0.3), 0px 1px 3px 1px rgba(60, 64, 67, 0.15);\n",
              "      fill: #174EA6;\n",
              "    }\n",
              "\n",
              "    [theme=dark] .colab-df-convert {\n",
              "      background-color: #3B4455;\n",
              "      fill: #D2E3FC;\n",
              "    }\n",
              "\n",
              "    [theme=dark] .colab-df-convert:hover {\n",
              "      background-color: #434B5C;\n",
              "      box-shadow: 0px 1px 3px 1px rgba(0, 0, 0, 0.15);\n",
              "      filter: drop-shadow(0px 1px 2px rgba(0, 0, 0, 0.3));\n",
              "      fill: #FFFFFF;\n",
              "    }\n",
              "  </style>\n",
              "\n",
              "      <script>\n",
              "        const buttonEl =\n",
              "          document.querySelector('#df-122153dc-afa9-4b08-8a92-4fe6b19738f9 button.colab-df-convert');\n",
              "        buttonEl.style.display =\n",
              "          google.colab.kernel.accessAllowed ? 'block' : 'none';\n",
              "\n",
              "        async function convertToInteractive(key) {\n",
              "          const element = document.querySelector('#df-122153dc-afa9-4b08-8a92-4fe6b19738f9');\n",
              "          const dataTable =\n",
              "            await google.colab.kernel.invokeFunction('convertToInteractive',\n",
              "                                                     [key], {});\n",
              "          if (!dataTable) return;\n",
              "\n",
              "          const docLinkHtml = 'Like what you see? Visit the ' +\n",
              "            '<a target=\"_blank\" href=https://colab.research.google.com/notebooks/data_table.ipynb>data table notebook</a>'\n",
              "            + ' to learn more about interactive tables.';\n",
              "          element.innerHTML = '';\n",
              "          dataTable['output_type'] = 'display_data';\n",
              "          await google.colab.output.renderOutput(dataTable, element);\n",
              "          const docLink = document.createElement('div');\n",
              "          docLink.innerHTML = docLinkHtml;\n",
              "          element.appendChild(docLink);\n",
              "        }\n",
              "      </script>\n",
              "    </div>\n",
              "  </div>\n",
              "  "
            ]
          },
          "metadata": {},
          "execution_count": 114
        }
      ]
    },
    {
      "cell_type": "code",
      "source": [
        "s_c_2022[s_c_2022['svc_idx'].duplicated()].shape"
      ],
      "metadata": {
        "colab": {
          "base_uri": "https://localhost:8080/"
        },
        "id": "gkHS5J0cCgcV",
        "outputId": "417f3b21-80a4-41fe-85bb-b44181220c4e"
      },
      "execution_count": null,
      "outputs": [
        {
          "output_type": "execute_result",
          "data": {
            "text/plain": [
              "(41, 5)"
            ]
          },
          "metadata": {},
          "execution_count": 115
        }
      ]
    },
    {
      "cell_type": "code",
      "source": [
        "s_c_2022[s_c_2022['svc_idx'] == 18728]"
      ],
      "metadata": {
        "colab": {
          "base_uri": "https://localhost:8080/"
        },
        "id": "eiFUuKooCyQ_",
        "outputId": "9d6dc343-9b6b-47e5-e932-4cf8fb04ff85"
      },
      "execution_count": null,
      "outputs": [
        {
          "output_type": "execute_result",
          "data": {
            "text/plain": [
              "      svc_idx  sv_idx          start_date            end_date  MB_IDX\n",
              "2435    18728      71 2022-02-11 23:48:32 2022-02-11 23:48:56  140987\n",
              "2436    18728      71 2022-02-11 23:48:32 2022-02-11 23:48:56  143559\n",
              "2437    18728      71 2022-02-11 23:48:32 2022-02-11 23:48:56  146461"
            ],
            "text/html": [
              "\n",
              "  <div id=\"df-61da33ed-fce4-406e-b4d7-6cab20b49de5\">\n",
              "    <div class=\"colab-df-container\">\n",
              "      <div>\n",
              "<style scoped>\n",
              "    .dataframe tbody tr th:only-of-type {\n",
              "        vertical-align: middle;\n",
              "    }\n",
              "\n",
              "    .dataframe tbody tr th {\n",
              "        vertical-align: top;\n",
              "    }\n",
              "\n",
              "    .dataframe thead th {\n",
              "        text-align: right;\n",
              "    }\n",
              "</style>\n",
              "<table border=\"1\" class=\"dataframe\">\n",
              "  <thead>\n",
              "    <tr style=\"text-align: right;\">\n",
              "      <th></th>\n",
              "      <th>svc_idx</th>\n",
              "      <th>sv_idx</th>\n",
              "      <th>start_date</th>\n",
              "      <th>end_date</th>\n",
              "      <th>MB_IDX</th>\n",
              "    </tr>\n",
              "  </thead>\n",
              "  <tbody>\n",
              "    <tr>\n",
              "      <th>2435</th>\n",
              "      <td>18728</td>\n",
              "      <td>71</td>\n",
              "      <td>2022-02-11 23:48:32</td>\n",
              "      <td>2022-02-11 23:48:56</td>\n",
              "      <td>140987</td>\n",
              "    </tr>\n",
              "    <tr>\n",
              "      <th>2436</th>\n",
              "      <td>18728</td>\n",
              "      <td>71</td>\n",
              "      <td>2022-02-11 23:48:32</td>\n",
              "      <td>2022-02-11 23:48:56</td>\n",
              "      <td>143559</td>\n",
              "    </tr>\n",
              "    <tr>\n",
              "      <th>2437</th>\n",
              "      <td>18728</td>\n",
              "      <td>71</td>\n",
              "      <td>2022-02-11 23:48:32</td>\n",
              "      <td>2022-02-11 23:48:56</td>\n",
              "      <td>146461</td>\n",
              "    </tr>\n",
              "  </tbody>\n",
              "</table>\n",
              "</div>\n",
              "      <button class=\"colab-df-convert\" onclick=\"convertToInteractive('df-61da33ed-fce4-406e-b4d7-6cab20b49de5')\"\n",
              "              title=\"Convert this dataframe to an interactive table.\"\n",
              "              style=\"display:none;\">\n",
              "        \n",
              "  <svg xmlns=\"http://www.w3.org/2000/svg\" height=\"24px\"viewBox=\"0 0 24 24\"\n",
              "       width=\"24px\">\n",
              "    <path d=\"M0 0h24v24H0V0z\" fill=\"none\"/>\n",
              "    <path d=\"M18.56 5.44l.94 2.06.94-2.06 2.06-.94-2.06-.94-.94-2.06-.94 2.06-2.06.94zm-11 1L8.5 8.5l.94-2.06 2.06-.94-2.06-.94L8.5 2.5l-.94 2.06-2.06.94zm10 10l.94 2.06.94-2.06 2.06-.94-2.06-.94-.94-2.06-.94 2.06-2.06.94z\"/><path d=\"M17.41 7.96l-1.37-1.37c-.4-.4-.92-.59-1.43-.59-.52 0-1.04.2-1.43.59L10.3 9.45l-7.72 7.72c-.78.78-.78 2.05 0 2.83L4 21.41c.39.39.9.59 1.41.59.51 0 1.02-.2 1.41-.59l7.78-7.78 2.81-2.81c.8-.78.8-2.07 0-2.86zM5.41 20L4 18.59l7.72-7.72 1.47 1.35L5.41 20z\"/>\n",
              "  </svg>\n",
              "      </button>\n",
              "      \n",
              "  <style>\n",
              "    .colab-df-container {\n",
              "      display:flex;\n",
              "      flex-wrap:wrap;\n",
              "      gap: 12px;\n",
              "    }\n",
              "\n",
              "    .colab-df-convert {\n",
              "      background-color: #E8F0FE;\n",
              "      border: none;\n",
              "      border-radius: 50%;\n",
              "      cursor: pointer;\n",
              "      display: none;\n",
              "      fill: #1967D2;\n",
              "      height: 32px;\n",
              "      padding: 0 0 0 0;\n",
              "      width: 32px;\n",
              "    }\n",
              "\n",
              "    .colab-df-convert:hover {\n",
              "      background-color: #E2EBFA;\n",
              "      box-shadow: 0px 1px 2px rgba(60, 64, 67, 0.3), 0px 1px 3px 1px rgba(60, 64, 67, 0.15);\n",
              "      fill: #174EA6;\n",
              "    }\n",
              "\n",
              "    [theme=dark] .colab-df-convert {\n",
              "      background-color: #3B4455;\n",
              "      fill: #D2E3FC;\n",
              "    }\n",
              "\n",
              "    [theme=dark] .colab-df-convert:hover {\n",
              "      background-color: #434B5C;\n",
              "      box-shadow: 0px 1px 3px 1px rgba(0, 0, 0, 0.15);\n",
              "      filter: drop-shadow(0px 1px 2px rgba(0, 0, 0, 0.3));\n",
              "      fill: #FFFFFF;\n",
              "    }\n",
              "  </style>\n",
              "\n",
              "      <script>\n",
              "        const buttonEl =\n",
              "          document.querySelector('#df-61da33ed-fce4-406e-b4d7-6cab20b49de5 button.colab-df-convert');\n",
              "        buttonEl.style.display =\n",
              "          google.colab.kernel.accessAllowed ? 'block' : 'none';\n",
              "\n",
              "        async function convertToInteractive(key) {\n",
              "          const element = document.querySelector('#df-61da33ed-fce4-406e-b4d7-6cab20b49de5');\n",
              "          const dataTable =\n",
              "            await google.colab.kernel.invokeFunction('convertToInteractive',\n",
              "                                                     [key], {});\n",
              "          if (!dataTable) return;\n",
              "\n",
              "          const docLinkHtml = 'Like what you see? Visit the ' +\n",
              "            '<a target=\"_blank\" href=https://colab.research.google.com/notebooks/data_table.ipynb>data table notebook</a>'\n",
              "            + ' to learn more about interactive tables.';\n",
              "          element.innerHTML = '';\n",
              "          dataTable['output_type'] = 'display_data';\n",
              "          await google.colab.output.renderOutput(dataTable, element);\n",
              "          const docLink = document.createElement('div');\n",
              "          docLink.innerHTML = docLinkHtml;\n",
              "          element.appendChild(docLink);\n",
              "        }\n",
              "      </script>\n",
              "    </div>\n",
              "  </div>\n",
              "  "
            ]
          },
          "metadata": {},
          "execution_count": 116
        }
      ]
    },
    {
      "cell_type": "markdown",
      "source": [
        "## 저장"
      ],
      "metadata": {
        "id": "RQOhpCZPypQv"
      }
    },
    {
      "cell_type": "code",
      "source": [
        "s_c_2022.to_csv('new_survey_complete.csv',index=False)"
      ],
      "metadata": {
        "id": "cTmII9b7dThb"
      },
      "execution_count": null,
      "outputs": []
    },
    {
      "cell_type": "markdown",
      "source": [
        "\n",
        "\n",
        "---\n",
        "\n"
      ],
      "metadata": {
        "id": "7HWoLC5QJ0oQ"
      }
    },
    {
      "cell_type": "markdown",
      "source": [
        "# new_survey_main"
      ],
      "metadata": {
        "id": "X2Uz788Jda7y"
      }
    },
    {
      "cell_type": "code",
      "source": [
        "s_m = pd.read_csv('/content/survey_main.csv')"
      ],
      "metadata": {
        "id": "3DEJExK3JSrN"
      },
      "execution_count": null,
      "outputs": []
    },
    {
      "cell_type": "code",
      "source": [
        "s_m.head()"
      ],
      "metadata": {
        "colab": {
          "base_uri": "https://localhost:8080/"
        },
        "id": "djKXewSnkwrs",
        "outputId": "54e396b9-e960-4eb2-f48b-ff2c2e9f6f08"
      },
      "execution_count": null,
      "outputs": [
        {
          "output_type": "execute_result",
          "data": {
            "text/plain": [
              "   idx             subject                                        description\n",
              "0   24    2021 시즌권 구성 설문조사  인천유나이티드를 응원해 주시기 위해 시즌권을 구매해주신 팬 여러분께 과거 판매된 시...\n",
              "1   25    3/6 대구전 설문조사 테스트  인천유나이티드 홈경기를 찾아주셔서 감사합니다. 저희 구단은 팬 여러분의 소중한 의견...\n",
              "2   26        3/6 대구전 설문조사  인천유나이티드 홈경기를 찾아주셔서 감사합니다. 저희 구단은 팬 여러분의 소중한 의견...\n",
              "3   27  3/13 서울전 특성화석 설문조사  오늘 인천유나이티드 홈 경기를 찾아주셔서 감사합니다.\\r\\n\\r\\n저희 구단은 팬 ...\n",
              "4   28       3/13 서울전 설문조사  인천유나이티드 홈경기를 찾아주셔서 감사합니다.\\r\\n\\r\\n저희 구단은 팬 여러분의..."
            ],
            "text/html": [
              "\n",
              "  <div id=\"df-6c5db7c2-f4e8-4931-95c9-dcedf59150bc\">\n",
              "    <div class=\"colab-df-container\">\n",
              "      <div>\n",
              "<style scoped>\n",
              "    .dataframe tbody tr th:only-of-type {\n",
              "        vertical-align: middle;\n",
              "    }\n",
              "\n",
              "    .dataframe tbody tr th {\n",
              "        vertical-align: top;\n",
              "    }\n",
              "\n",
              "    .dataframe thead th {\n",
              "        text-align: right;\n",
              "    }\n",
              "</style>\n",
              "<table border=\"1\" class=\"dataframe\">\n",
              "  <thead>\n",
              "    <tr style=\"text-align: right;\">\n",
              "      <th></th>\n",
              "      <th>idx</th>\n",
              "      <th>subject</th>\n",
              "      <th>description</th>\n",
              "    </tr>\n",
              "  </thead>\n",
              "  <tbody>\n",
              "    <tr>\n",
              "      <th>0</th>\n",
              "      <td>24</td>\n",
              "      <td>2021 시즌권 구성 설문조사</td>\n",
              "      <td>인천유나이티드를 응원해 주시기 위해 시즌권을 구매해주신 팬 여러분께 과거 판매된 시...</td>\n",
              "    </tr>\n",
              "    <tr>\n",
              "      <th>1</th>\n",
              "      <td>25</td>\n",
              "      <td>3/6 대구전 설문조사 테스트</td>\n",
              "      <td>인천유나이티드 홈경기를 찾아주셔서 감사합니다. 저희 구단은 팬 여러분의 소중한 의견...</td>\n",
              "    </tr>\n",
              "    <tr>\n",
              "      <th>2</th>\n",
              "      <td>26</td>\n",
              "      <td>3/6 대구전 설문조사</td>\n",
              "      <td>인천유나이티드 홈경기를 찾아주셔서 감사합니다. 저희 구단은 팬 여러분의 소중한 의견...</td>\n",
              "    </tr>\n",
              "    <tr>\n",
              "      <th>3</th>\n",
              "      <td>27</td>\n",
              "      <td>3/13 서울전 특성화석 설문조사</td>\n",
              "      <td>오늘 인천유나이티드 홈 경기를 찾아주셔서 감사합니다.\\r\\n\\r\\n저희 구단은 팬 ...</td>\n",
              "    </tr>\n",
              "    <tr>\n",
              "      <th>4</th>\n",
              "      <td>28</td>\n",
              "      <td>3/13 서울전 설문조사</td>\n",
              "      <td>인천유나이티드 홈경기를 찾아주셔서 감사합니다.\\r\\n\\r\\n저희 구단은 팬 여러분의...</td>\n",
              "    </tr>\n",
              "  </tbody>\n",
              "</table>\n",
              "</div>\n",
              "      <button class=\"colab-df-convert\" onclick=\"convertToInteractive('df-6c5db7c2-f4e8-4931-95c9-dcedf59150bc')\"\n",
              "              title=\"Convert this dataframe to an interactive table.\"\n",
              "              style=\"display:none;\">\n",
              "        \n",
              "  <svg xmlns=\"http://www.w3.org/2000/svg\" height=\"24px\"viewBox=\"0 0 24 24\"\n",
              "       width=\"24px\">\n",
              "    <path d=\"M0 0h24v24H0V0z\" fill=\"none\"/>\n",
              "    <path d=\"M18.56 5.44l.94 2.06.94-2.06 2.06-.94-2.06-.94-.94-2.06-.94 2.06-2.06.94zm-11 1L8.5 8.5l.94-2.06 2.06-.94-2.06-.94L8.5 2.5l-.94 2.06-2.06.94zm10 10l.94 2.06.94-2.06 2.06-.94-2.06-.94-.94-2.06-.94 2.06-2.06.94z\"/><path d=\"M17.41 7.96l-1.37-1.37c-.4-.4-.92-.59-1.43-.59-.52 0-1.04.2-1.43.59L10.3 9.45l-7.72 7.72c-.78.78-.78 2.05 0 2.83L4 21.41c.39.39.9.59 1.41.59.51 0 1.02-.2 1.41-.59l7.78-7.78 2.81-2.81c.8-.78.8-2.07 0-2.86zM5.41 20L4 18.59l7.72-7.72 1.47 1.35L5.41 20z\"/>\n",
              "  </svg>\n",
              "      </button>\n",
              "      \n",
              "  <style>\n",
              "    .colab-df-container {\n",
              "      display:flex;\n",
              "      flex-wrap:wrap;\n",
              "      gap: 12px;\n",
              "    }\n",
              "\n",
              "    .colab-df-convert {\n",
              "      background-color: #E8F0FE;\n",
              "      border: none;\n",
              "      border-radius: 50%;\n",
              "      cursor: pointer;\n",
              "      display: none;\n",
              "      fill: #1967D2;\n",
              "      height: 32px;\n",
              "      padding: 0 0 0 0;\n",
              "      width: 32px;\n",
              "    }\n",
              "\n",
              "    .colab-df-convert:hover {\n",
              "      background-color: #E2EBFA;\n",
              "      box-shadow: 0px 1px 2px rgba(60, 64, 67, 0.3), 0px 1px 3px 1px rgba(60, 64, 67, 0.15);\n",
              "      fill: #174EA6;\n",
              "    }\n",
              "\n",
              "    [theme=dark] .colab-df-convert {\n",
              "      background-color: #3B4455;\n",
              "      fill: #D2E3FC;\n",
              "    }\n",
              "\n",
              "    [theme=dark] .colab-df-convert:hover {\n",
              "      background-color: #434B5C;\n",
              "      box-shadow: 0px 1px 3px 1px rgba(0, 0, 0, 0.15);\n",
              "      filter: drop-shadow(0px 1px 2px rgba(0, 0, 0, 0.3));\n",
              "      fill: #FFFFFF;\n",
              "    }\n",
              "  </style>\n",
              "\n",
              "      <script>\n",
              "        const buttonEl =\n",
              "          document.querySelector('#df-6c5db7c2-f4e8-4931-95c9-dcedf59150bc button.colab-df-convert');\n",
              "        buttonEl.style.display =\n",
              "          google.colab.kernel.accessAllowed ? 'block' : 'none';\n",
              "\n",
              "        async function convertToInteractive(key) {\n",
              "          const element = document.querySelector('#df-6c5db7c2-f4e8-4931-95c9-dcedf59150bc');\n",
              "          const dataTable =\n",
              "            await google.colab.kernel.invokeFunction('convertToInteractive',\n",
              "                                                     [key], {});\n",
              "          if (!dataTable) return;\n",
              "\n",
              "          const docLinkHtml = 'Like what you see? Visit the ' +\n",
              "            '<a target=\"_blank\" href=https://colab.research.google.com/notebooks/data_table.ipynb>data table notebook</a>'\n",
              "            + ' to learn more about interactive tables.';\n",
              "          element.innerHTML = '';\n",
              "          dataTable['output_type'] = 'display_data';\n",
              "          await google.colab.output.renderOutput(dataTable, element);\n",
              "          const docLink = document.createElement('div');\n",
              "          docLink.innerHTML = docLinkHtml;\n",
              "          element.appendChild(docLink);\n",
              "        }\n",
              "      </script>\n",
              "    </div>\n",
              "  </div>\n",
              "  "
            ]
          },
          "metadata": {},
          "execution_count": 28
        }
      ]
    },
    {
      "cell_type": "markdown",
      "source": [
        "## 2022년 필터"
      ],
      "metadata": {
        "id": "_c4kkr-pEUEn"
      }
    },
    {
      "cell_type": "code",
      "source": [
        "# 2022년 시행된 설문조사\n",
        "s_m_2022 = s_m[s_m['idx'] >= 71].reset_index(drop=True)"
      ],
      "metadata": {
        "id": "v0d-k4TLDgaQ"
      },
      "execution_count": null,
      "outputs": []
    },
    {
      "cell_type": "code",
      "source": [
        "s_m_2022['date'] = s_m_2022['subject'].str.split(' ').str[0]"
      ],
      "metadata": {
        "id": "PuxMBiMGDzh6"
      },
      "execution_count": null,
      "outputs": []
    },
    {
      "cell_type": "markdown",
      "source": [
        "## 테스트 제거"
      ],
      "metadata": {
        "id": "X4x4PSCSEiuj"
      }
    },
    {
      "cell_type": "code",
      "source": [
        "s_m_2022['date'].unique()"
      ],
      "metadata": {
        "colab": {
          "base_uri": "https://localhost:8080/"
        },
        "id": "H4rJFWUiEQ_3",
        "outputId": "296595f2-933c-4c92-efa5-7f415927487e"
      },
      "execution_count": null,
      "outputs": [
        {
          "output_type": "execute_result",
          "data": {
            "text/plain": [
              "array(['설문조사', '02/19', '02/26', '03/05', '03/13', '04/02', '04/10',\n",
              "       '04/27', '05/08', '05/17', '05/29', '06/22', '07/06', 'Test_일반',\n",
              "       'Test_특성화', 'Test_최초(재유입)', '08/03', '08/13', '08/27', '09/02',\n",
              "       '09/14', '10/01', '10/11', '10/16'], dtype=object)"
            ]
          },
          "metadata": {},
          "execution_count": 31
        }
      ]
    },
    {
      "cell_type": "code",
      "source": [
        "for i in range(len(s_m_2022)):\n",
        "    if ('테스트' in s_m_2022.loc[i, 'subject']) or ('Test' in s_m_2022.loc[i, 'subject']):\n",
        "        s_m_2022 = s_m_2022.drop(i, axis=0)"
      ],
      "metadata": {
        "id": "35a5AADFMXAT"
      },
      "execution_count": null,
      "outputs": []
    },
    {
      "cell_type": "code",
      "source": [
        "s_m_2022 = s_m_2022.reset_index(drop=True)"
      ],
      "metadata": {
        "id": "6nd9BWRqPXsp"
      },
      "execution_count": null,
      "outputs": []
    },
    {
      "cell_type": "code",
      "source": [
        "s_m_2022['date'] = '2022/' + s_m_2022['date']\n",
        "s_m_2022['date'] = s_m_2022['date'].str.replace('/', '-')"
      ],
      "metadata": {
        "id": "04Z6L2NlExEp"
      },
      "execution_count": null,
      "outputs": []
    },
    {
      "cell_type": "code",
      "source": [
        "s_m_2022.head()"
      ],
      "metadata": {
        "colab": {
          "base_uri": "https://localhost:8080/"
        },
        "id": "kOtRvmUiEgkm",
        "outputId": "23717f60-f4cb-405a-e93b-2156b84764f7"
      },
      "execution_count": null,
      "outputs": [
        {
          "output_type": "execute_result",
          "data": {
            "text/plain": [
              "   idx              subject  \\\n",
              "0   72   02/19 수원전 일반석 설문조사   \n",
              "1   73  02/19 수원전 특성화석 설문조사   \n",
              "2   74   02/26 서울전 일반석 설문조사   \n",
              "3   75  02/26 서울전 특성화석 설문조사   \n",
              "4   76   03/05 포항전 일반석 설문조사   \n",
              "\n",
              "                                         description        date  \n",
              "0  안녕하세요, 인천유나이티드입니다.\\r\\n\\r\\n2022시즌 첫 홈경기에 찾아와 주시...  2022-02-19  \n",
              "1  안녕하세요, 인천유나이티드입니다.\\r\\n\\r\\n2022시즌 첫 홈경기에 찾아와 주시...  2022-02-19  \n",
              "2  안녕하세요, 인천유나이티드입니다.\\r\\n\\r\\n인천유나이티드 홈경기에 찾아와 주시고...  2022-02-26  \n",
              "3  안녕하세요, 인천유나이티드입니다.\\r\\n\\r\\n인천유나이티드 홈경기에 찾아와 주시고...  2022-02-26  \n",
              "4  안녕하세요, 인천유나이티드입니다.\\r\\n\\r\\n이번 홈경기에 찾아와 주시고 열정을 ...  2022-03-05  "
            ],
            "text/html": [
              "\n",
              "  <div id=\"df-d73e2436-eb26-44a2-882a-67f01126fb88\">\n",
              "    <div class=\"colab-df-container\">\n",
              "      <div>\n",
              "<style scoped>\n",
              "    .dataframe tbody tr th:only-of-type {\n",
              "        vertical-align: middle;\n",
              "    }\n",
              "\n",
              "    .dataframe tbody tr th {\n",
              "        vertical-align: top;\n",
              "    }\n",
              "\n",
              "    .dataframe thead th {\n",
              "        text-align: right;\n",
              "    }\n",
              "</style>\n",
              "<table border=\"1\" class=\"dataframe\">\n",
              "  <thead>\n",
              "    <tr style=\"text-align: right;\">\n",
              "      <th></th>\n",
              "      <th>idx</th>\n",
              "      <th>subject</th>\n",
              "      <th>description</th>\n",
              "      <th>date</th>\n",
              "    </tr>\n",
              "  </thead>\n",
              "  <tbody>\n",
              "    <tr>\n",
              "      <th>0</th>\n",
              "      <td>72</td>\n",
              "      <td>02/19 수원전 일반석 설문조사</td>\n",
              "      <td>안녕하세요, 인천유나이티드입니다.\\r\\n\\r\\n2022시즌 첫 홈경기에 찾아와 주시...</td>\n",
              "      <td>2022-02-19</td>\n",
              "    </tr>\n",
              "    <tr>\n",
              "      <th>1</th>\n",
              "      <td>73</td>\n",
              "      <td>02/19 수원전 특성화석 설문조사</td>\n",
              "      <td>안녕하세요, 인천유나이티드입니다.\\r\\n\\r\\n2022시즌 첫 홈경기에 찾아와 주시...</td>\n",
              "      <td>2022-02-19</td>\n",
              "    </tr>\n",
              "    <tr>\n",
              "      <th>2</th>\n",
              "      <td>74</td>\n",
              "      <td>02/26 서울전 일반석 설문조사</td>\n",
              "      <td>안녕하세요, 인천유나이티드입니다.\\r\\n\\r\\n인천유나이티드 홈경기에 찾아와 주시고...</td>\n",
              "      <td>2022-02-26</td>\n",
              "    </tr>\n",
              "    <tr>\n",
              "      <th>3</th>\n",
              "      <td>75</td>\n",
              "      <td>02/26 서울전 특성화석 설문조사</td>\n",
              "      <td>안녕하세요, 인천유나이티드입니다.\\r\\n\\r\\n인천유나이티드 홈경기에 찾아와 주시고...</td>\n",
              "      <td>2022-02-26</td>\n",
              "    </tr>\n",
              "    <tr>\n",
              "      <th>4</th>\n",
              "      <td>76</td>\n",
              "      <td>03/05 포항전 일반석 설문조사</td>\n",
              "      <td>안녕하세요, 인천유나이티드입니다.\\r\\n\\r\\n이번 홈경기에 찾아와 주시고 열정을 ...</td>\n",
              "      <td>2022-03-05</td>\n",
              "    </tr>\n",
              "  </tbody>\n",
              "</table>\n",
              "</div>\n",
              "      <button class=\"colab-df-convert\" onclick=\"convertToInteractive('df-d73e2436-eb26-44a2-882a-67f01126fb88')\"\n",
              "              title=\"Convert this dataframe to an interactive table.\"\n",
              "              style=\"display:none;\">\n",
              "        \n",
              "  <svg xmlns=\"http://www.w3.org/2000/svg\" height=\"24px\"viewBox=\"0 0 24 24\"\n",
              "       width=\"24px\">\n",
              "    <path d=\"M0 0h24v24H0V0z\" fill=\"none\"/>\n",
              "    <path d=\"M18.56 5.44l.94 2.06.94-2.06 2.06-.94-2.06-.94-.94-2.06-.94 2.06-2.06.94zm-11 1L8.5 8.5l.94-2.06 2.06-.94-2.06-.94L8.5 2.5l-.94 2.06-2.06.94zm10 10l.94 2.06.94-2.06 2.06-.94-2.06-.94-.94-2.06-.94 2.06-2.06.94z\"/><path d=\"M17.41 7.96l-1.37-1.37c-.4-.4-.92-.59-1.43-.59-.52 0-1.04.2-1.43.59L10.3 9.45l-7.72 7.72c-.78.78-.78 2.05 0 2.83L4 21.41c.39.39.9.59 1.41.59.51 0 1.02-.2 1.41-.59l7.78-7.78 2.81-2.81c.8-.78.8-2.07 0-2.86zM5.41 20L4 18.59l7.72-7.72 1.47 1.35L5.41 20z\"/>\n",
              "  </svg>\n",
              "      </button>\n",
              "      \n",
              "  <style>\n",
              "    .colab-df-container {\n",
              "      display:flex;\n",
              "      flex-wrap:wrap;\n",
              "      gap: 12px;\n",
              "    }\n",
              "\n",
              "    .colab-df-convert {\n",
              "      background-color: #E8F0FE;\n",
              "      border: none;\n",
              "      border-radius: 50%;\n",
              "      cursor: pointer;\n",
              "      display: none;\n",
              "      fill: #1967D2;\n",
              "      height: 32px;\n",
              "      padding: 0 0 0 0;\n",
              "      width: 32px;\n",
              "    }\n",
              "\n",
              "    .colab-df-convert:hover {\n",
              "      background-color: #E2EBFA;\n",
              "      box-shadow: 0px 1px 2px rgba(60, 64, 67, 0.3), 0px 1px 3px 1px rgba(60, 64, 67, 0.15);\n",
              "      fill: #174EA6;\n",
              "    }\n",
              "\n",
              "    [theme=dark] .colab-df-convert {\n",
              "      background-color: #3B4455;\n",
              "      fill: #D2E3FC;\n",
              "    }\n",
              "\n",
              "    [theme=dark] .colab-df-convert:hover {\n",
              "      background-color: #434B5C;\n",
              "      box-shadow: 0px 1px 3px 1px rgba(0, 0, 0, 0.15);\n",
              "      filter: drop-shadow(0px 1px 2px rgba(0, 0, 0, 0.3));\n",
              "      fill: #FFFFFF;\n",
              "    }\n",
              "  </style>\n",
              "\n",
              "      <script>\n",
              "        const buttonEl =\n",
              "          document.querySelector('#df-d73e2436-eb26-44a2-882a-67f01126fb88 button.colab-df-convert');\n",
              "        buttonEl.style.display =\n",
              "          google.colab.kernel.accessAllowed ? 'block' : 'none';\n",
              "\n",
              "        async function convertToInteractive(key) {\n",
              "          const element = document.querySelector('#df-d73e2436-eb26-44a2-882a-67f01126fb88');\n",
              "          const dataTable =\n",
              "            await google.colab.kernel.invokeFunction('convertToInteractive',\n",
              "                                                     [key], {});\n",
              "          if (!dataTable) return;\n",
              "\n",
              "          const docLinkHtml = 'Like what you see? Visit the ' +\n",
              "            '<a target=\"_blank\" href=https://colab.research.google.com/notebooks/data_table.ipynb>data table notebook</a>'\n",
              "            + ' to learn more about interactive tables.';\n",
              "          element.innerHTML = '';\n",
              "          dataTable['output_type'] = 'display_data';\n",
              "          await google.colab.output.renderOutput(dataTable, element);\n",
              "          const docLink = document.createElement('div');\n",
              "          docLink.innerHTML = docLinkHtml;\n",
              "          element.appendChild(docLink);\n",
              "        }\n",
              "      </script>\n",
              "    </div>\n",
              "  </div>\n",
              "  "
            ]
          },
          "metadata": {},
          "execution_count": 35
        }
      ]
    },
    {
      "cell_type": "markdown",
      "source": [
        "## 설문조사 분류 컬럼 만들기"
      ],
      "metadata": {
        "id": "AONBmOr5nY9c"
      }
    },
    {
      "cell_type": "code",
      "source": [
        "s_m_2022['category'] = s_m_2022['subject'].str.split(' ').str[2]"
      ],
      "metadata": {
        "id": "qxQbyzQHPdk2"
      },
      "execution_count": null,
      "outputs": []
    },
    {
      "cell_type": "code",
      "source": [
        "s_m_2022['category'].unique()"
      ],
      "metadata": {
        "colab": {
          "base_uri": "https://localhost:8080/"
        },
        "id": "a7KJGog1YNvF",
        "outputId": "0d1711fe-47db-44b8-b906-bdfaaf1bd111"
      },
      "execution_count": null,
      "outputs": [
        {
          "output_type": "execute_result",
          "data": {
            "text/plain": [
              "array(['일반석', '특성화석', '최초(재유입)방문자'], dtype=object)"
            ]
          },
          "metadata": {},
          "execution_count": 37
        }
      ]
    },
    {
      "cell_type": "markdown",
      "source": [
        "## description에서 \\r \\n 제거"
      ],
      "metadata": {
        "id": "Frzfaluaps_E"
      }
    },
    {
      "cell_type": "code",
      "source": [
        "s_m_2022['description'] = s_m_2022['description'].str.replace('\\r','').str.replace('\\n',' ')"
      ],
      "metadata": {
        "id": "59Dfc2rm9Yx_"
      },
      "execution_count": null,
      "outputs": []
    },
    {
      "cell_type": "markdown",
      "source": [
        "## 정리"
      ],
      "metadata": {
        "id": "2tRmV2l2WeiM"
      }
    },
    {
      "cell_type": "code",
      "source": [
        "s_m_2022 = s_m_2022[['idx','date','category','description']]"
      ],
      "metadata": {
        "id": "nIUscObwccRL"
      },
      "execution_count": null,
      "outputs": []
    },
    {
      "cell_type": "code",
      "source": [
        "s_m_2022 = s_m_2022.rename(columns={'idx':'sv_idx'})"
      ],
      "metadata": {
        "id": "TxsKgfitlqWd"
      },
      "execution_count": null,
      "outputs": []
    },
    {
      "cell_type": "code",
      "source": [
        "s_m_2022.head()"
      ],
      "metadata": {
        "colab": {
          "base_uri": "https://localhost:8080/"
        },
        "id": "4q8SL-N_FV-y",
        "outputId": "f21b787e-28bb-4a18-997a-d70d4d516874"
      },
      "execution_count": null,
      "outputs": [
        {
          "output_type": "execute_result",
          "data": {
            "text/plain": [
              "   sv_idx        date category  \\\n",
              "0      72  2022-02-19      일반석   \n",
              "1      73  2022-02-19     특성화석   \n",
              "2      74  2022-02-26      일반석   \n",
              "3      75  2022-02-26     특성화석   \n",
              "4      76  2022-03-05      일반석   \n",
              "\n",
              "                                         description  \n",
              "0  안녕하세요, 인천유나이티드입니다.  2022시즌 첫 홈경기에 찾아와 주시고 응원해주...  \n",
              "1  안녕하세요, 인천유나이티드입니다.  2022시즌 첫 홈경기에 찾아와 주시고 응원해주...  \n",
              "2  안녕하세요, 인천유나이티드입니다.  인천유나이티드 홈경기에 찾아와 주시고 응원해주신...  \n",
              "3  안녕하세요, 인천유나이티드입니다.  인천유나이티드 홈경기에 찾아와 주시고 응원해주신...  \n",
              "4  안녕하세요, 인천유나이티드입니다.  이번 홈경기에 찾아와 주시고 열정을 담아 응원해...  "
            ],
            "text/html": [
              "\n",
              "  <div id=\"df-7cd02476-feb4-4fc6-bda9-96187b990db4\">\n",
              "    <div class=\"colab-df-container\">\n",
              "      <div>\n",
              "<style scoped>\n",
              "    .dataframe tbody tr th:only-of-type {\n",
              "        vertical-align: middle;\n",
              "    }\n",
              "\n",
              "    .dataframe tbody tr th {\n",
              "        vertical-align: top;\n",
              "    }\n",
              "\n",
              "    .dataframe thead th {\n",
              "        text-align: right;\n",
              "    }\n",
              "</style>\n",
              "<table border=\"1\" class=\"dataframe\">\n",
              "  <thead>\n",
              "    <tr style=\"text-align: right;\">\n",
              "      <th></th>\n",
              "      <th>sv_idx</th>\n",
              "      <th>date</th>\n",
              "      <th>category</th>\n",
              "      <th>description</th>\n",
              "    </tr>\n",
              "  </thead>\n",
              "  <tbody>\n",
              "    <tr>\n",
              "      <th>0</th>\n",
              "      <td>72</td>\n",
              "      <td>2022-02-19</td>\n",
              "      <td>일반석</td>\n",
              "      <td>안녕하세요, 인천유나이티드입니다.  2022시즌 첫 홈경기에 찾아와 주시고 응원해주...</td>\n",
              "    </tr>\n",
              "    <tr>\n",
              "      <th>1</th>\n",
              "      <td>73</td>\n",
              "      <td>2022-02-19</td>\n",
              "      <td>특성화석</td>\n",
              "      <td>안녕하세요, 인천유나이티드입니다.  2022시즌 첫 홈경기에 찾아와 주시고 응원해주...</td>\n",
              "    </tr>\n",
              "    <tr>\n",
              "      <th>2</th>\n",
              "      <td>74</td>\n",
              "      <td>2022-02-26</td>\n",
              "      <td>일반석</td>\n",
              "      <td>안녕하세요, 인천유나이티드입니다.  인천유나이티드 홈경기에 찾아와 주시고 응원해주신...</td>\n",
              "    </tr>\n",
              "    <tr>\n",
              "      <th>3</th>\n",
              "      <td>75</td>\n",
              "      <td>2022-02-26</td>\n",
              "      <td>특성화석</td>\n",
              "      <td>안녕하세요, 인천유나이티드입니다.  인천유나이티드 홈경기에 찾아와 주시고 응원해주신...</td>\n",
              "    </tr>\n",
              "    <tr>\n",
              "      <th>4</th>\n",
              "      <td>76</td>\n",
              "      <td>2022-03-05</td>\n",
              "      <td>일반석</td>\n",
              "      <td>안녕하세요, 인천유나이티드입니다.  이번 홈경기에 찾아와 주시고 열정을 담아 응원해...</td>\n",
              "    </tr>\n",
              "  </tbody>\n",
              "</table>\n",
              "</div>\n",
              "      <button class=\"colab-df-convert\" onclick=\"convertToInteractive('df-7cd02476-feb4-4fc6-bda9-96187b990db4')\"\n",
              "              title=\"Convert this dataframe to an interactive table.\"\n",
              "              style=\"display:none;\">\n",
              "        \n",
              "  <svg xmlns=\"http://www.w3.org/2000/svg\" height=\"24px\"viewBox=\"0 0 24 24\"\n",
              "       width=\"24px\">\n",
              "    <path d=\"M0 0h24v24H0V0z\" fill=\"none\"/>\n",
              "    <path d=\"M18.56 5.44l.94 2.06.94-2.06 2.06-.94-2.06-.94-.94-2.06-.94 2.06-2.06.94zm-11 1L8.5 8.5l.94-2.06 2.06-.94-2.06-.94L8.5 2.5l-.94 2.06-2.06.94zm10 10l.94 2.06.94-2.06 2.06-.94-2.06-.94-.94-2.06-.94 2.06-2.06.94z\"/><path d=\"M17.41 7.96l-1.37-1.37c-.4-.4-.92-.59-1.43-.59-.52 0-1.04.2-1.43.59L10.3 9.45l-7.72 7.72c-.78.78-.78 2.05 0 2.83L4 21.41c.39.39.9.59 1.41.59.51 0 1.02-.2 1.41-.59l7.78-7.78 2.81-2.81c.8-.78.8-2.07 0-2.86zM5.41 20L4 18.59l7.72-7.72 1.47 1.35L5.41 20z\"/>\n",
              "  </svg>\n",
              "      </button>\n",
              "      \n",
              "  <style>\n",
              "    .colab-df-container {\n",
              "      display:flex;\n",
              "      flex-wrap:wrap;\n",
              "      gap: 12px;\n",
              "    }\n",
              "\n",
              "    .colab-df-convert {\n",
              "      background-color: #E8F0FE;\n",
              "      border: none;\n",
              "      border-radius: 50%;\n",
              "      cursor: pointer;\n",
              "      display: none;\n",
              "      fill: #1967D2;\n",
              "      height: 32px;\n",
              "      padding: 0 0 0 0;\n",
              "      width: 32px;\n",
              "    }\n",
              "\n",
              "    .colab-df-convert:hover {\n",
              "      background-color: #E2EBFA;\n",
              "      box-shadow: 0px 1px 2px rgba(60, 64, 67, 0.3), 0px 1px 3px 1px rgba(60, 64, 67, 0.15);\n",
              "      fill: #174EA6;\n",
              "    }\n",
              "\n",
              "    [theme=dark] .colab-df-convert {\n",
              "      background-color: #3B4455;\n",
              "      fill: #D2E3FC;\n",
              "    }\n",
              "\n",
              "    [theme=dark] .colab-df-convert:hover {\n",
              "      background-color: #434B5C;\n",
              "      box-shadow: 0px 1px 3px 1px rgba(0, 0, 0, 0.15);\n",
              "      filter: drop-shadow(0px 1px 2px rgba(0, 0, 0, 0.3));\n",
              "      fill: #FFFFFF;\n",
              "    }\n",
              "  </style>\n",
              "\n",
              "      <script>\n",
              "        const buttonEl =\n",
              "          document.querySelector('#df-7cd02476-feb4-4fc6-bda9-96187b990db4 button.colab-df-convert');\n",
              "        buttonEl.style.display =\n",
              "          google.colab.kernel.accessAllowed ? 'block' : 'none';\n",
              "\n",
              "        async function convertToInteractive(key) {\n",
              "          const element = document.querySelector('#df-7cd02476-feb4-4fc6-bda9-96187b990db4');\n",
              "          const dataTable =\n",
              "            await google.colab.kernel.invokeFunction('convertToInteractive',\n",
              "                                                     [key], {});\n",
              "          if (!dataTable) return;\n",
              "\n",
              "          const docLinkHtml = 'Like what you see? Visit the ' +\n",
              "            '<a target=\"_blank\" href=https://colab.research.google.com/notebooks/data_table.ipynb>data table notebook</a>'\n",
              "            + ' to learn more about interactive tables.';\n",
              "          element.innerHTML = '';\n",
              "          dataTable['output_type'] = 'display_data';\n",
              "          await google.colab.output.renderOutput(dataTable, element);\n",
              "          const docLink = document.createElement('div');\n",
              "          docLink.innerHTML = docLinkHtml;\n",
              "          element.appendChild(docLink);\n",
              "        }\n",
              "      </script>\n",
              "    </div>\n",
              "  </div>\n",
              "  "
            ]
          },
          "metadata": {},
          "execution_count": 41
        }
      ]
    },
    {
      "cell_type": "markdown",
      "source": [
        "## 저장"
      ],
      "metadata": {
        "id": "2J1LrBWyyeV-"
      }
    },
    {
      "cell_type": "code",
      "source": [
        "s_m_2022.to_csv('new_survey_main.csv', index=False)"
      ],
      "metadata": {
        "id": "10f_D5tEobBy"
      },
      "execution_count": null,
      "outputs": []
    },
    {
      "cell_type": "markdown",
      "source": [
        "\n",
        "\n",
        "---\n",
        "\n"
      ],
      "metadata": {
        "id": "W3HukyBZoboG"
      }
    },
    {
      "cell_type": "markdown",
      "source": [
        "# new_survey_item"
      ],
      "metadata": {
        "id": "K_-KeQRgqi2X"
      }
    },
    {
      "cell_type": "code",
      "source": [
        "s_i = pd.read_csv('/content/survey_item.csv')"
      ],
      "metadata": {
        "id": "sHVwZ4kQWDzq"
      },
      "execution_count": null,
      "outputs": []
    },
    {
      "cell_type": "code",
      "source": [
        "s_i.head()"
      ],
      "metadata": {
        "colab": {
          "base_uri": "https://localhost:8080/"
        },
        "id": "N0DVkdV-cr5K",
        "outputId": "0e9683b9-1eb6-47f5-a2cf-82899cd71b9e"
      },
      "execution_count": null,
      "outputs": [
        {
          "output_type": "execute_result",
          "data": {
            "text/plain": [
              "   idx  survey_idx  order_seq                                     subject  \\\n",
              "0  115          24          1                                   시즌권 구매 시기   \n",
              "1  116          24          2                                 시즌권 구매 총 매수   \n",
              "2  117          24          3      시즌권 구매시 가장 중요한 점은?(가격, 기념품, 혜택, 충성심 등)   \n",
              "3  118          24          4  시즌권 구매시 가장 고려하지 않는 점은?(가격, 기념품, 혜택, 충성심 등)   \n",
              "4  119          24          5                            2020 시즌권 가격의 적정성   \n",
              "\n",
              "  item_type                                 item_text  item_number required_yn  \n",
              "0         C  2015년 #2016년 #2017년 #2018년 #2019년 #2020년          0.0           Y  \n",
              "1         T                                       NaN         10.0         NaN  \n",
              "2         T                                       NaN        100.0           Y  \n",
              "3         T                                       NaN        100.0           Y  \n",
              "4         M                    매우좋음 #좋음 #보통 #나쁨 #매우나쁨          0.0           Y  "
            ],
            "text/html": [
              "\n",
              "  <div id=\"df-6210531c-01e6-4a96-9620-2c22c0c70d92\">\n",
              "    <div class=\"colab-df-container\">\n",
              "      <div>\n",
              "<style scoped>\n",
              "    .dataframe tbody tr th:only-of-type {\n",
              "        vertical-align: middle;\n",
              "    }\n",
              "\n",
              "    .dataframe tbody tr th {\n",
              "        vertical-align: top;\n",
              "    }\n",
              "\n",
              "    .dataframe thead th {\n",
              "        text-align: right;\n",
              "    }\n",
              "</style>\n",
              "<table border=\"1\" class=\"dataframe\">\n",
              "  <thead>\n",
              "    <tr style=\"text-align: right;\">\n",
              "      <th></th>\n",
              "      <th>idx</th>\n",
              "      <th>survey_idx</th>\n",
              "      <th>order_seq</th>\n",
              "      <th>subject</th>\n",
              "      <th>item_type</th>\n",
              "      <th>item_text</th>\n",
              "      <th>item_number</th>\n",
              "      <th>required_yn</th>\n",
              "    </tr>\n",
              "  </thead>\n",
              "  <tbody>\n",
              "    <tr>\n",
              "      <th>0</th>\n",
              "      <td>115</td>\n",
              "      <td>24</td>\n",
              "      <td>1</td>\n",
              "      <td>시즌권 구매 시기</td>\n",
              "      <td>C</td>\n",
              "      <td>2015년 #2016년 #2017년 #2018년 #2019년 #2020년</td>\n",
              "      <td>0.0</td>\n",
              "      <td>Y</td>\n",
              "    </tr>\n",
              "    <tr>\n",
              "      <th>1</th>\n",
              "      <td>116</td>\n",
              "      <td>24</td>\n",
              "      <td>2</td>\n",
              "      <td>시즌권 구매 총 매수</td>\n",
              "      <td>T</td>\n",
              "      <td>NaN</td>\n",
              "      <td>10.0</td>\n",
              "      <td>NaN</td>\n",
              "    </tr>\n",
              "    <tr>\n",
              "      <th>2</th>\n",
              "      <td>117</td>\n",
              "      <td>24</td>\n",
              "      <td>3</td>\n",
              "      <td>시즌권 구매시 가장 중요한 점은?(가격, 기념품, 혜택, 충성심 등)</td>\n",
              "      <td>T</td>\n",
              "      <td>NaN</td>\n",
              "      <td>100.0</td>\n",
              "      <td>Y</td>\n",
              "    </tr>\n",
              "    <tr>\n",
              "      <th>3</th>\n",
              "      <td>118</td>\n",
              "      <td>24</td>\n",
              "      <td>4</td>\n",
              "      <td>시즌권 구매시 가장 고려하지 않는 점은?(가격, 기념품, 혜택, 충성심 등)</td>\n",
              "      <td>T</td>\n",
              "      <td>NaN</td>\n",
              "      <td>100.0</td>\n",
              "      <td>Y</td>\n",
              "    </tr>\n",
              "    <tr>\n",
              "      <th>4</th>\n",
              "      <td>119</td>\n",
              "      <td>24</td>\n",
              "      <td>5</td>\n",
              "      <td>2020 시즌권 가격의 적정성</td>\n",
              "      <td>M</td>\n",
              "      <td>매우좋음 #좋음 #보통 #나쁨 #매우나쁨</td>\n",
              "      <td>0.0</td>\n",
              "      <td>Y</td>\n",
              "    </tr>\n",
              "  </tbody>\n",
              "</table>\n",
              "</div>\n",
              "      <button class=\"colab-df-convert\" onclick=\"convertToInteractive('df-6210531c-01e6-4a96-9620-2c22c0c70d92')\"\n",
              "              title=\"Convert this dataframe to an interactive table.\"\n",
              "              style=\"display:none;\">\n",
              "        \n",
              "  <svg xmlns=\"http://www.w3.org/2000/svg\" height=\"24px\"viewBox=\"0 0 24 24\"\n",
              "       width=\"24px\">\n",
              "    <path d=\"M0 0h24v24H0V0z\" fill=\"none\"/>\n",
              "    <path d=\"M18.56 5.44l.94 2.06.94-2.06 2.06-.94-2.06-.94-.94-2.06-.94 2.06-2.06.94zm-11 1L8.5 8.5l.94-2.06 2.06-.94-2.06-.94L8.5 2.5l-.94 2.06-2.06.94zm10 10l.94 2.06.94-2.06 2.06-.94-2.06-.94-.94-2.06-.94 2.06-2.06.94z\"/><path d=\"M17.41 7.96l-1.37-1.37c-.4-.4-.92-.59-1.43-.59-.52 0-1.04.2-1.43.59L10.3 9.45l-7.72 7.72c-.78.78-.78 2.05 0 2.83L4 21.41c.39.39.9.59 1.41.59.51 0 1.02-.2 1.41-.59l7.78-7.78 2.81-2.81c.8-.78.8-2.07 0-2.86zM5.41 20L4 18.59l7.72-7.72 1.47 1.35L5.41 20z\"/>\n",
              "  </svg>\n",
              "      </button>\n",
              "      \n",
              "  <style>\n",
              "    .colab-df-container {\n",
              "      display:flex;\n",
              "      flex-wrap:wrap;\n",
              "      gap: 12px;\n",
              "    }\n",
              "\n",
              "    .colab-df-convert {\n",
              "      background-color: #E8F0FE;\n",
              "      border: none;\n",
              "      border-radius: 50%;\n",
              "      cursor: pointer;\n",
              "      display: none;\n",
              "      fill: #1967D2;\n",
              "      height: 32px;\n",
              "      padding: 0 0 0 0;\n",
              "      width: 32px;\n",
              "    }\n",
              "\n",
              "    .colab-df-convert:hover {\n",
              "      background-color: #E2EBFA;\n",
              "      box-shadow: 0px 1px 2px rgba(60, 64, 67, 0.3), 0px 1px 3px 1px rgba(60, 64, 67, 0.15);\n",
              "      fill: #174EA6;\n",
              "    }\n",
              "\n",
              "    [theme=dark] .colab-df-convert {\n",
              "      background-color: #3B4455;\n",
              "      fill: #D2E3FC;\n",
              "    }\n",
              "\n",
              "    [theme=dark] .colab-df-convert:hover {\n",
              "      background-color: #434B5C;\n",
              "      box-shadow: 0px 1px 3px 1px rgba(0, 0, 0, 0.15);\n",
              "      filter: drop-shadow(0px 1px 2px rgba(0, 0, 0, 0.3));\n",
              "      fill: #FFFFFF;\n",
              "    }\n",
              "  </style>\n",
              "\n",
              "      <script>\n",
              "        const buttonEl =\n",
              "          document.querySelector('#df-6210531c-01e6-4a96-9620-2c22c0c70d92 button.colab-df-convert');\n",
              "        buttonEl.style.display =\n",
              "          google.colab.kernel.accessAllowed ? 'block' : 'none';\n",
              "\n",
              "        async function convertToInteractive(key) {\n",
              "          const element = document.querySelector('#df-6210531c-01e6-4a96-9620-2c22c0c70d92');\n",
              "          const dataTable =\n",
              "            await google.colab.kernel.invokeFunction('convertToInteractive',\n",
              "                                                     [key], {});\n",
              "          if (!dataTable) return;\n",
              "\n",
              "          const docLinkHtml = 'Like what you see? Visit the ' +\n",
              "            '<a target=\"_blank\" href=https://colab.research.google.com/notebooks/data_table.ipynb>data table notebook</a>'\n",
              "            + ' to learn more about interactive tables.';\n",
              "          element.innerHTML = '';\n",
              "          dataTable['output_type'] = 'display_data';\n",
              "          await google.colab.output.renderOutput(dataTable, element);\n",
              "          const docLink = document.createElement('div');\n",
              "          docLink.innerHTML = docLinkHtml;\n",
              "          element.appendChild(docLink);\n",
              "        }\n",
              "      </script>\n",
              "    </div>\n",
              "  </div>\n",
              "  "
            ]
          },
          "metadata": {},
          "execution_count": 59
        }
      ]
    },
    {
      "cell_type": "markdown",
      "source": [
        "## 2022년 필터"
      ],
      "metadata": {
        "id": "QtlXUU_avXjr"
      }
    },
    {
      "cell_type": "code",
      "source": [
        "s_i_2022 = s_i[s_i['survey_idx'] >= 72]"
      ],
      "metadata": {
        "id": "k4a99ZL_uUYM"
      },
      "execution_count": null,
      "outputs": []
    },
    {
      "cell_type": "code",
      "source": [
        "s_i_2022.info()"
      ],
      "metadata": {
        "colab": {
          "base_uri": "https://localhost:8080/"
        },
        "id": "2cucAOwTWJSo",
        "outputId": "f3363262-9317-48c8-d879-356038b99d45"
      },
      "execution_count": null,
      "outputs": [
        {
          "output_type": "stream",
          "name": "stdout",
          "text": [
            "<class 'pandas.core.frame.DataFrame'>\n",
            "Int64Index: 892 entries, 438 to 1329\n",
            "Data columns (total 8 columns):\n",
            " #   Column       Non-Null Count  Dtype  \n",
            "---  ------       --------------  -----  \n",
            " 0   idx          892 non-null    int64  \n",
            " 1   survey_idx   892 non-null    int64  \n",
            " 2   order_seq    892 non-null    int64  \n",
            " 3   subject      892 non-null    object \n",
            " 4   item_type    892 non-null    object \n",
            " 5   item_text    733 non-null    object \n",
            " 6   item_number  879 non-null    float64\n",
            " 7   required_yn  782 non-null    object \n",
            "dtypes: float64(1), int64(3), object(4)\n",
            "memory usage: 62.7+ KB\n"
          ]
        }
      ]
    },
    {
      "cell_type": "code",
      "source": [
        "s_i_2022.isna().sum() # 일부 컬럼 결측치"
      ],
      "metadata": {
        "colab": {
          "base_uri": "https://localhost:8080/"
        },
        "id": "6viRsKxAWNyV",
        "outputId": "955a35b0-878c-4786-a46d-174adf319d17"
      },
      "execution_count": null,
      "outputs": [
        {
          "output_type": "execute_result",
          "data": {
            "text/plain": [
              "idx              0\n",
              "survey_idx       0\n",
              "order_seq        0\n",
              "subject          0\n",
              "item_type        0\n",
              "item_text      159\n",
              "item_number     13\n",
              "required_yn    110\n",
              "dtype: int64"
            ]
          },
          "metadata": {},
          "execution_count": 85
        }
      ]
    },
    {
      "cell_type": "code",
      "source": [
        "print(s_i_2022['item_type'].value_counts(), '\\n')\n",
        "print(s_i_2022['item_number'].value_counts(), '\\n')\n",
        "print(s_i_2022['required_yn'].value_counts())"
      ],
      "metadata": {
        "colab": {
          "base_uri": "https://localhost:8080/"
        },
        "id": "i6ttI30Oboe1",
        "outputId": "56b746ba-42bf-4419-de65-d0f903e679da"
      },
      "execution_count": null,
      "outputs": [
        {
          "output_type": "stream",
          "name": "stdout",
          "text": [
            "M    525\n",
            "C    208\n",
            "T    159\n",
            "Name: item_type, dtype: int64 \n",
            "\n",
            "0.0      719\n",
            "300.0    160\n",
            "Name: item_number, dtype: int64 \n",
            "\n",
            "Y    782\n",
            "Name: required_yn, dtype: int64\n"
          ]
        }
      ]
    },
    {
      "cell_type": "code",
      "source": [
        "# item_type에서 C는 카테고리형로, M은 순서형, T는 텍스트형 데이터로 파악된다.\n",
        "# item_text는 선택지 항목들 또는 결측치로 구성되어 있다.\n",
        "# item_number는 입력 가능한 글자 수로 파악된다.\n",
        "# required_yn은 필수로 답변해야하는지 여부로 파악된다."
      ],
      "metadata": {
        "id": "S3mSciatX0I4"
      },
      "execution_count": null,
      "outputs": []
    },
    {
      "cell_type": "markdown",
      "source": [
        "## item_text 결측치 처리"
      ],
      "metadata": {
        "id": "UNb1arEkeuJB"
      }
    },
    {
      "cell_type": "code",
      "source": [
        "s_i_2022[s_i_2022['item_type'] == 'T']['item_text'].value_counts()"
      ],
      "metadata": {
        "colab": {
          "base_uri": "https://localhost:8080/"
        },
        "id": "svMcvn6ae8UJ",
        "outputId": "dc336c31-f83d-48f8-83c3-e87b7dc57c63"
      },
      "execution_count": null,
      "outputs": [
        {
          "output_type": "execute_result",
          "data": {
            "text/plain": [
              "Series([], Name: item_text, dtype: int64)"
            ]
          },
          "metadata": {},
          "execution_count": 88
        }
      ]
    },
    {
      "cell_type": "code",
      "source": [
        "s_i_2022['item_text'] = s_i_2022['item_text'].fillna('텍스트')\n",
        "# 텍스트를 입력해야하는 항목들로 여겨지므로 텍스트라는 값을 일괄적으로 채워줌"
      ],
      "metadata": {
        "colab": {
          "base_uri": "https://localhost:8080/"
        },
        "id": "PJWTdFvAechs",
        "outputId": "700c20ac-ccc8-4b1b-cad3-88ee2140f1a8"
      },
      "execution_count": null,
      "outputs": [
        {
          "output_type": "stream",
          "name": "stderr",
          "text": [
            "<ipython-input-89-819d7905324f>:1: SettingWithCopyWarning: \n",
            "A value is trying to be set on a copy of a slice from a DataFrame.\n",
            "Try using .loc[row_indexer,col_indexer] = value instead\n",
            "\n",
            "See the caveats in the documentation: https://pandas.pydata.org/pandas-docs/stable/user_guide/indexing.html#returning-a-view-versus-a-copy\n",
            "  s_i_2022['item_text'] = s_i_2022['item_text'].fillna('텍스트')\n"
          ]
        }
      ]
    },
    {
      "cell_type": "markdown",
      "source": [
        "## item_number 결측치, 이상치 처리"
      ],
      "metadata": {
        "id": "wVxNjpBzq_uc"
      }
    },
    {
      "cell_type": "code",
      "source": [
        "s_i_2022[s_i_2022['item_number'].isna()].head()\n",
        "# item_number에 결측치가 있는 행들은 item_type이 모두 M이다."
      ],
      "metadata": {
        "colab": {
          "base_uri": "https://localhost:8080/"
        },
        "id": "pffqh1n_sYee",
        "outputId": "2150852d-c525-4c68-bb5e-8d9c5357b4b1"
      },
      "execution_count": null,
      "outputs": [
        {
          "output_type": "execute_result",
          "data": {
            "text/plain": [
              "       idx  survey_idx  order_seq         subject item_type  \\\n",
              "876   1148         108         13  연령대가 어떻게 되시나요?         M   \n",
              "926   1216         111         16  연령대가 어떻게 되시나요?         M   \n",
              "976   1282         115         13  연령대가 어떻게 되시나요?         M   \n",
              "1026  1332         118         13  연령대가 어떻게 되시나요?         M   \n",
              "1076  1382         121         14  연령대가 어떻게 되시나요?         M   \n",
              "\n",
              "                                 item_text  item_number required_yn  \n",
              "876   10대 #20대 #30대 #40대 #50대 #60대 #70대 이상          NaN           Y  \n",
              "926   10대 #20대 #30대 #40대 #50대 #60대 #70대 이상          NaN           Y  \n",
              "976   10대 #20대 #30대 #40대 #50대 #60대 #70대 이상          NaN           Y  \n",
              "1026  10대 #20대 #30대 #40대 #50대 #60대 #70대 이상          NaN           Y  \n",
              "1076  10대 #20대 #30대 #40대 #50대 #60대 #70대 이상          NaN           Y  "
            ],
            "text/html": [
              "\n",
              "  <div id=\"df-9ae69275-25c1-4a2c-95f8-f5fa90c314ec\">\n",
              "    <div class=\"colab-df-container\">\n",
              "      <div>\n",
              "<style scoped>\n",
              "    .dataframe tbody tr th:only-of-type {\n",
              "        vertical-align: middle;\n",
              "    }\n",
              "\n",
              "    .dataframe tbody tr th {\n",
              "        vertical-align: top;\n",
              "    }\n",
              "\n",
              "    .dataframe thead th {\n",
              "        text-align: right;\n",
              "    }\n",
              "</style>\n",
              "<table border=\"1\" class=\"dataframe\">\n",
              "  <thead>\n",
              "    <tr style=\"text-align: right;\">\n",
              "      <th></th>\n",
              "      <th>idx</th>\n",
              "      <th>survey_idx</th>\n",
              "      <th>order_seq</th>\n",
              "      <th>subject</th>\n",
              "      <th>item_type</th>\n",
              "      <th>item_text</th>\n",
              "      <th>item_number</th>\n",
              "      <th>required_yn</th>\n",
              "    </tr>\n",
              "  </thead>\n",
              "  <tbody>\n",
              "    <tr>\n",
              "      <th>876</th>\n",
              "      <td>1148</td>\n",
              "      <td>108</td>\n",
              "      <td>13</td>\n",
              "      <td>연령대가 어떻게 되시나요?</td>\n",
              "      <td>M</td>\n",
              "      <td>10대 #20대 #30대 #40대 #50대 #60대 #70대 이상</td>\n",
              "      <td>NaN</td>\n",
              "      <td>Y</td>\n",
              "    </tr>\n",
              "    <tr>\n",
              "      <th>926</th>\n",
              "      <td>1216</td>\n",
              "      <td>111</td>\n",
              "      <td>16</td>\n",
              "      <td>연령대가 어떻게 되시나요?</td>\n",
              "      <td>M</td>\n",
              "      <td>10대 #20대 #30대 #40대 #50대 #60대 #70대 이상</td>\n",
              "      <td>NaN</td>\n",
              "      <td>Y</td>\n",
              "    </tr>\n",
              "    <tr>\n",
              "      <th>976</th>\n",
              "      <td>1282</td>\n",
              "      <td>115</td>\n",
              "      <td>13</td>\n",
              "      <td>연령대가 어떻게 되시나요?</td>\n",
              "      <td>M</td>\n",
              "      <td>10대 #20대 #30대 #40대 #50대 #60대 #70대 이상</td>\n",
              "      <td>NaN</td>\n",
              "      <td>Y</td>\n",
              "    </tr>\n",
              "    <tr>\n",
              "      <th>1026</th>\n",
              "      <td>1332</td>\n",
              "      <td>118</td>\n",
              "      <td>13</td>\n",
              "      <td>연령대가 어떻게 되시나요?</td>\n",
              "      <td>M</td>\n",
              "      <td>10대 #20대 #30대 #40대 #50대 #60대 #70대 이상</td>\n",
              "      <td>NaN</td>\n",
              "      <td>Y</td>\n",
              "    </tr>\n",
              "    <tr>\n",
              "      <th>1076</th>\n",
              "      <td>1382</td>\n",
              "      <td>121</td>\n",
              "      <td>14</td>\n",
              "      <td>연령대가 어떻게 되시나요?</td>\n",
              "      <td>M</td>\n",
              "      <td>10대 #20대 #30대 #40대 #50대 #60대 #70대 이상</td>\n",
              "      <td>NaN</td>\n",
              "      <td>Y</td>\n",
              "    </tr>\n",
              "  </tbody>\n",
              "</table>\n",
              "</div>\n",
              "      <button class=\"colab-df-convert\" onclick=\"convertToInteractive('df-9ae69275-25c1-4a2c-95f8-f5fa90c314ec')\"\n",
              "              title=\"Convert this dataframe to an interactive table.\"\n",
              "              style=\"display:none;\">\n",
              "        \n",
              "  <svg xmlns=\"http://www.w3.org/2000/svg\" height=\"24px\"viewBox=\"0 0 24 24\"\n",
              "       width=\"24px\">\n",
              "    <path d=\"M0 0h24v24H0V0z\" fill=\"none\"/>\n",
              "    <path d=\"M18.56 5.44l.94 2.06.94-2.06 2.06-.94-2.06-.94-.94-2.06-.94 2.06-2.06.94zm-11 1L8.5 8.5l.94-2.06 2.06-.94-2.06-.94L8.5 2.5l-.94 2.06-2.06.94zm10 10l.94 2.06.94-2.06 2.06-.94-2.06-.94-.94-2.06-.94 2.06-2.06.94z\"/><path d=\"M17.41 7.96l-1.37-1.37c-.4-.4-.92-.59-1.43-.59-.52 0-1.04.2-1.43.59L10.3 9.45l-7.72 7.72c-.78.78-.78 2.05 0 2.83L4 21.41c.39.39.9.59 1.41.59.51 0 1.02-.2 1.41-.59l7.78-7.78 2.81-2.81c.8-.78.8-2.07 0-2.86zM5.41 20L4 18.59l7.72-7.72 1.47 1.35L5.41 20z\"/>\n",
              "  </svg>\n",
              "      </button>\n",
              "      \n",
              "  <style>\n",
              "    .colab-df-container {\n",
              "      display:flex;\n",
              "      flex-wrap:wrap;\n",
              "      gap: 12px;\n",
              "    }\n",
              "\n",
              "    .colab-df-convert {\n",
              "      background-color: #E8F0FE;\n",
              "      border: none;\n",
              "      border-radius: 50%;\n",
              "      cursor: pointer;\n",
              "      display: none;\n",
              "      fill: #1967D2;\n",
              "      height: 32px;\n",
              "      padding: 0 0 0 0;\n",
              "      width: 32px;\n",
              "    }\n",
              "\n",
              "    .colab-df-convert:hover {\n",
              "      background-color: #E2EBFA;\n",
              "      box-shadow: 0px 1px 2px rgba(60, 64, 67, 0.3), 0px 1px 3px 1px rgba(60, 64, 67, 0.15);\n",
              "      fill: #174EA6;\n",
              "    }\n",
              "\n",
              "    [theme=dark] .colab-df-convert {\n",
              "      background-color: #3B4455;\n",
              "      fill: #D2E3FC;\n",
              "    }\n",
              "\n",
              "    [theme=dark] .colab-df-convert:hover {\n",
              "      background-color: #434B5C;\n",
              "      box-shadow: 0px 1px 3px 1px rgba(0, 0, 0, 0.15);\n",
              "      filter: drop-shadow(0px 1px 2px rgba(0, 0, 0, 0.3));\n",
              "      fill: #FFFFFF;\n",
              "    }\n",
              "  </style>\n",
              "\n",
              "      <script>\n",
              "        const buttonEl =\n",
              "          document.querySelector('#df-9ae69275-25c1-4a2c-95f8-f5fa90c314ec button.colab-df-convert');\n",
              "        buttonEl.style.display =\n",
              "          google.colab.kernel.accessAllowed ? 'block' : 'none';\n",
              "\n",
              "        async function convertToInteractive(key) {\n",
              "          const element = document.querySelector('#df-9ae69275-25c1-4a2c-95f8-f5fa90c314ec');\n",
              "          const dataTable =\n",
              "            await google.colab.kernel.invokeFunction('convertToInteractive',\n",
              "                                                     [key], {});\n",
              "          if (!dataTable) return;\n",
              "\n",
              "          const docLinkHtml = 'Like what you see? Visit the ' +\n",
              "            '<a target=\"_blank\" href=https://colab.research.google.com/notebooks/data_table.ipynb>data table notebook</a>'\n",
              "            + ' to learn more about interactive tables.';\n",
              "          element.innerHTML = '';\n",
              "          dataTable['output_type'] = 'display_data';\n",
              "          await google.colab.output.renderOutput(dataTable, element);\n",
              "          const docLink = document.createElement('div');\n",
              "          docLink.innerHTML = docLinkHtml;\n",
              "          element.appendChild(docLink);\n",
              "        }\n",
              "      </script>\n",
              "    </div>\n",
              "  </div>\n",
              "  "
            ]
          },
          "metadata": {},
          "execution_count": 65
        }
      ]
    },
    {
      "cell_type": "code",
      "source": [
        "s_i_2022[s_i_2022['item_type'] == 'M'].head()"
      ],
      "metadata": {
        "colab": {
          "base_uri": "https://localhost:8080/"
        },
        "id": "kLNRxJXjsTnl",
        "outputId": "fc757395-c4c7-4bd1-b583-10b4d451299e"
      },
      "execution_count": null,
      "outputs": [
        {
          "output_type": "execute_result",
          "data": {
            "text/plain": [
              "     idx  survey_idx  order_seq                          subject item_type  \\\n",
              "439  623          72          2    오늘 인천축구전용경기장에 도착하신 시각은 언제입니까?         M   \n",
              "440  624          72          3            오늘 경기장에는 누구와 함께 오셨나요?         M   \n",
              "441  625          72          4       경기장 방문 시 어떤 교통수단을 이용하셨습니까?         M   \n",
              "443  627          72          5        티켓 발권 및 예매에 대한 만족도 평가입니다.         M   \n",
              "444  628          72          6  금일 경기장 입장 게이트 운영에 대한 만족도 평가입니다.         M   \n",
              "\n",
              "                                             item_text  item_number  \\\n",
              "439  경기 시작 2시간 전 #경기 시작 1시간 30분 전 #경기 시작 1시간 전 #경기 ...          0.0   \n",
              "440  가족과 방문 #친구와 방문 #혼자 방문 #학교/직장 동료와 방문 #가족(비동거인, ...          0.0   \n",
              "441                          자가차량 #지하철 #버스 #도보 #택시 #기타          0.0   \n",
              "443                         매우 만족 #만족 #보통 #불만족 #매우 불만족          0.0   \n",
              "444                         매우 만족 #만족 #보통 #불만족 #매우 불만족          0.0   \n",
              "\n",
              "    required_yn  \n",
              "439           Y  \n",
              "440           Y  \n",
              "441           Y  \n",
              "443           Y  \n",
              "444           Y  "
            ],
            "text/html": [
              "\n",
              "  <div id=\"df-def48d4a-b36b-49d5-a72a-ddbc14c0cf8a\">\n",
              "    <div class=\"colab-df-container\">\n",
              "      <div>\n",
              "<style scoped>\n",
              "    .dataframe tbody tr th:only-of-type {\n",
              "        vertical-align: middle;\n",
              "    }\n",
              "\n",
              "    .dataframe tbody tr th {\n",
              "        vertical-align: top;\n",
              "    }\n",
              "\n",
              "    .dataframe thead th {\n",
              "        text-align: right;\n",
              "    }\n",
              "</style>\n",
              "<table border=\"1\" class=\"dataframe\">\n",
              "  <thead>\n",
              "    <tr style=\"text-align: right;\">\n",
              "      <th></th>\n",
              "      <th>idx</th>\n",
              "      <th>survey_idx</th>\n",
              "      <th>order_seq</th>\n",
              "      <th>subject</th>\n",
              "      <th>item_type</th>\n",
              "      <th>item_text</th>\n",
              "      <th>item_number</th>\n",
              "      <th>required_yn</th>\n",
              "    </tr>\n",
              "  </thead>\n",
              "  <tbody>\n",
              "    <tr>\n",
              "      <th>439</th>\n",
              "      <td>623</td>\n",
              "      <td>72</td>\n",
              "      <td>2</td>\n",
              "      <td>오늘 인천축구전용경기장에 도착하신 시각은 언제입니까?</td>\n",
              "      <td>M</td>\n",
              "      <td>경기 시작 2시간 전 #경기 시작 1시간 30분 전 #경기 시작 1시간 전 #경기 ...</td>\n",
              "      <td>0.0</td>\n",
              "      <td>Y</td>\n",
              "    </tr>\n",
              "    <tr>\n",
              "      <th>440</th>\n",
              "      <td>624</td>\n",
              "      <td>72</td>\n",
              "      <td>3</td>\n",
              "      <td>오늘 경기장에는 누구와 함께 오셨나요?</td>\n",
              "      <td>M</td>\n",
              "      <td>가족과 방문 #친구와 방문 #혼자 방문 #학교/직장 동료와 방문 #가족(비동거인, ...</td>\n",
              "      <td>0.0</td>\n",
              "      <td>Y</td>\n",
              "    </tr>\n",
              "    <tr>\n",
              "      <th>441</th>\n",
              "      <td>625</td>\n",
              "      <td>72</td>\n",
              "      <td>4</td>\n",
              "      <td>경기장 방문 시 어떤 교통수단을 이용하셨습니까?</td>\n",
              "      <td>M</td>\n",
              "      <td>자가차량 #지하철 #버스 #도보 #택시 #기타</td>\n",
              "      <td>0.0</td>\n",
              "      <td>Y</td>\n",
              "    </tr>\n",
              "    <tr>\n",
              "      <th>443</th>\n",
              "      <td>627</td>\n",
              "      <td>72</td>\n",
              "      <td>5</td>\n",
              "      <td>티켓 발권 및 예매에 대한 만족도 평가입니다.</td>\n",
              "      <td>M</td>\n",
              "      <td>매우 만족 #만족 #보통 #불만족 #매우 불만족</td>\n",
              "      <td>0.0</td>\n",
              "      <td>Y</td>\n",
              "    </tr>\n",
              "    <tr>\n",
              "      <th>444</th>\n",
              "      <td>628</td>\n",
              "      <td>72</td>\n",
              "      <td>6</td>\n",
              "      <td>금일 경기장 입장 게이트 운영에 대한 만족도 평가입니다.</td>\n",
              "      <td>M</td>\n",
              "      <td>매우 만족 #만족 #보통 #불만족 #매우 불만족</td>\n",
              "      <td>0.0</td>\n",
              "      <td>Y</td>\n",
              "    </tr>\n",
              "  </tbody>\n",
              "</table>\n",
              "</div>\n",
              "      <button class=\"colab-df-convert\" onclick=\"convertToInteractive('df-def48d4a-b36b-49d5-a72a-ddbc14c0cf8a')\"\n",
              "              title=\"Convert this dataframe to an interactive table.\"\n",
              "              style=\"display:none;\">\n",
              "        \n",
              "  <svg xmlns=\"http://www.w3.org/2000/svg\" height=\"24px\"viewBox=\"0 0 24 24\"\n",
              "       width=\"24px\">\n",
              "    <path d=\"M0 0h24v24H0V0z\" fill=\"none\"/>\n",
              "    <path d=\"M18.56 5.44l.94 2.06.94-2.06 2.06-.94-2.06-.94-.94-2.06-.94 2.06-2.06.94zm-11 1L8.5 8.5l.94-2.06 2.06-.94-2.06-.94L8.5 2.5l-.94 2.06-2.06.94zm10 10l.94 2.06.94-2.06 2.06-.94-2.06-.94-.94-2.06-.94 2.06-2.06.94z\"/><path d=\"M17.41 7.96l-1.37-1.37c-.4-.4-.92-.59-1.43-.59-.52 0-1.04.2-1.43.59L10.3 9.45l-7.72 7.72c-.78.78-.78 2.05 0 2.83L4 21.41c.39.39.9.59 1.41.59.51 0 1.02-.2 1.41-.59l7.78-7.78 2.81-2.81c.8-.78.8-2.07 0-2.86zM5.41 20L4 18.59l7.72-7.72 1.47 1.35L5.41 20z\"/>\n",
              "  </svg>\n",
              "      </button>\n",
              "      \n",
              "  <style>\n",
              "    .colab-df-container {\n",
              "      display:flex;\n",
              "      flex-wrap:wrap;\n",
              "      gap: 12px;\n",
              "    }\n",
              "\n",
              "    .colab-df-convert {\n",
              "      background-color: #E8F0FE;\n",
              "      border: none;\n",
              "      border-radius: 50%;\n",
              "      cursor: pointer;\n",
              "      display: none;\n",
              "      fill: #1967D2;\n",
              "      height: 32px;\n",
              "      padding: 0 0 0 0;\n",
              "      width: 32px;\n",
              "    }\n",
              "\n",
              "    .colab-df-convert:hover {\n",
              "      background-color: #E2EBFA;\n",
              "      box-shadow: 0px 1px 2px rgba(60, 64, 67, 0.3), 0px 1px 3px 1px rgba(60, 64, 67, 0.15);\n",
              "      fill: #174EA6;\n",
              "    }\n",
              "\n",
              "    [theme=dark] .colab-df-convert {\n",
              "      background-color: #3B4455;\n",
              "      fill: #D2E3FC;\n",
              "    }\n",
              "\n",
              "    [theme=dark] .colab-df-convert:hover {\n",
              "      background-color: #434B5C;\n",
              "      box-shadow: 0px 1px 3px 1px rgba(0, 0, 0, 0.15);\n",
              "      filter: drop-shadow(0px 1px 2px rgba(0, 0, 0, 0.3));\n",
              "      fill: #FFFFFF;\n",
              "    }\n",
              "  </style>\n",
              "\n",
              "      <script>\n",
              "        const buttonEl =\n",
              "          document.querySelector('#df-def48d4a-b36b-49d5-a72a-ddbc14c0cf8a button.colab-df-convert');\n",
              "        buttonEl.style.display =\n",
              "          google.colab.kernel.accessAllowed ? 'block' : 'none';\n",
              "\n",
              "        async function convertToInteractive(key) {\n",
              "          const element = document.querySelector('#df-def48d4a-b36b-49d5-a72a-ddbc14c0cf8a');\n",
              "          const dataTable =\n",
              "            await google.colab.kernel.invokeFunction('convertToInteractive',\n",
              "                                                     [key], {});\n",
              "          if (!dataTable) return;\n",
              "\n",
              "          const docLinkHtml = 'Like what you see? Visit the ' +\n",
              "            '<a target=\"_blank\" href=https://colab.research.google.com/notebooks/data_table.ipynb>data table notebook</a>'\n",
              "            + ' to learn more about interactive tables.';\n",
              "          element.innerHTML = '';\n",
              "          dataTable['output_type'] = 'display_data';\n",
              "          await google.colab.output.renderOutput(dataTable, element);\n",
              "          const docLink = document.createElement('div');\n",
              "          docLink.innerHTML = docLinkHtml;\n",
              "          element.appendChild(docLink);\n",
              "        }\n",
              "      </script>\n",
              "    </div>\n",
              "  </div>\n",
              "  "
            ]
          },
          "metadata": {},
          "execution_count": 66
        }
      ]
    },
    {
      "cell_type": "code",
      "source": [
        "s_i_2022[s_i_2022['item_type'] == 'M']['item_number'].unique()"
      ],
      "metadata": {
        "colab": {
          "base_uri": "https://localhost:8080/"
        },
        "id": "L9BThD5xrQqv",
        "outputId": "01b1780f-f230-40d0-eea6-7bdba421d69d"
      },
      "execution_count": null,
      "outputs": [
        {
          "output_type": "execute_result",
          "data": {
            "text/plain": [
              "array([  0., 300.,  nan])"
            ]
          },
          "metadata": {},
          "execution_count": 67
        }
      ]
    },
    {
      "cell_type": "code",
      "source": [
        "# item_type이 M이면 item_number가 0이어야 하는 것으로 파악됨\n",
        "s_i_2022.loc[s_i_2022[(s_i_2022['item_type'] == 'M') & (s_i_2022['item_number'] == 300)].index, 'item_number'] = 0\n",
        "s_i_2022['item_number'] = s_i_2022['item_number'].fillna(0)"
      ],
      "metadata": {
        "id": "lipUUtVXrtGq",
        "colab": {
          "base_uri": "https://localhost:8080/"
        },
        "outputId": "5ff0aeca-2b87-4565-faf0-a29767c3c36f"
      },
      "execution_count": null,
      "outputs": [
        {
          "output_type": "stream",
          "name": "stderr",
          "text": [
            "/usr/local/lib/python3.8/dist-packages/pandas/core/indexing.py:1817: SettingWithCopyWarning: \n",
            "A value is trying to be set on a copy of a slice from a DataFrame.\n",
            "Try using .loc[row_indexer,col_indexer] = value instead\n",
            "\n",
            "See the caveats in the documentation: https://pandas.pydata.org/pandas-docs/stable/user_guide/indexing.html#returning-a-view-versus-a-copy\n",
            "  self._setitem_single_column(loc, value, pi)\n",
            "<ipython-input-68-2d07101b02dc>:3: SettingWithCopyWarning: \n",
            "A value is trying to be set on a copy of a slice from a DataFrame.\n",
            "Try using .loc[row_indexer,col_indexer] = value instead\n",
            "\n",
            "See the caveats in the documentation: https://pandas.pydata.org/pandas-docs/stable/user_guide/indexing.html#returning-a-view-versus-a-copy\n",
            "  s_i_2022['item_number'] = s_i_2022['item_number'].fillna(0)\n"
          ]
        }
      ]
    },
    {
      "cell_type": "markdown",
      "source": [
        "## required_yn 결측치 처리"
      ],
      "metadata": {
        "id": "xcTwHDhixOIk"
      }
    },
    {
      "cell_type": "code",
      "source": [
        "s_i_2022['required_yn'].value_counts()"
      ],
      "metadata": {
        "colab": {
          "base_uri": "https://localhost:8080/"
        },
        "id": "RatPXgDlYFJd",
        "outputId": "5e7fa019-5c16-4c1d-df80-db454c5722d9"
      },
      "execution_count": null,
      "outputs": [
        {
          "output_type": "execute_result",
          "data": {
            "text/plain": [
              "Y    782\n",
              "Name: required_yn, dtype: int64"
            ]
          },
          "metadata": {},
          "execution_count": 69
        }
      ]
    },
    {
      "cell_type": "code",
      "source": [
        "s_i_2022[s_i_2022['required_yn'].isna()].head()"
      ],
      "metadata": {
        "colab": {
          "base_uri": "https://localhost:8080/"
        },
        "id": "PWtOvycGxpnF",
        "outputId": "3fe479b0-6092-4a35-81e9-bf07e2dcbc8d"
      },
      "execution_count": null,
      "outputs": [
        {
          "output_type": "execute_result",
          "data": {
            "text/plain": [
              "     idx  survey_idx  order_seq  \\\n",
              "457  641          72         13   \n",
              "464  648          72         16   \n",
              "470  654          73         17   \n",
              "471  655          73         18   \n",
              "484  668          74         13   \n",
              "\n",
              "                                               subject item_type item_text  \\\n",
              "457  블루마켓 이용 시 만족스러웠던 점 혹은 불만스러웠던 점이 무엇입니까?(이용 시에만 답변)         T       NaN   \n",
              "464           마지막으로 인천유나이티드에 바라는 점이나 하고 싶은 이야기가 있으신가요?         T       NaN   \n",
              "470  블루마켓 이용 시 만족스러웠던 점 혹은 불만스러웠던 점이 무엇입니까?(이용 시에만 답변)         T       NaN   \n",
              "471           마지막으로 인천유나이티드에 바라는 점이나 하고 싶은 이야기가 있으신가요?         T       NaN   \n",
              "484  블루마켓 이용 시 만족스러웠던 점 혹은 불만스러웠던 점이 무엇입니까?(이용 시에만 답변)         T       NaN   \n",
              "\n",
              "     item_number required_yn  \n",
              "457        300.0         NaN  \n",
              "464        300.0         NaN  \n",
              "470        300.0         NaN  \n",
              "471        300.0         NaN  \n",
              "484        300.0         NaN  "
            ],
            "text/html": [
              "\n",
              "  <div id=\"df-6156be0b-4a3b-41c1-92b2-1d0c45e56ff7\">\n",
              "    <div class=\"colab-df-container\">\n",
              "      <div>\n",
              "<style scoped>\n",
              "    .dataframe tbody tr th:only-of-type {\n",
              "        vertical-align: middle;\n",
              "    }\n",
              "\n",
              "    .dataframe tbody tr th {\n",
              "        vertical-align: top;\n",
              "    }\n",
              "\n",
              "    .dataframe thead th {\n",
              "        text-align: right;\n",
              "    }\n",
              "</style>\n",
              "<table border=\"1\" class=\"dataframe\">\n",
              "  <thead>\n",
              "    <tr style=\"text-align: right;\">\n",
              "      <th></th>\n",
              "      <th>idx</th>\n",
              "      <th>survey_idx</th>\n",
              "      <th>order_seq</th>\n",
              "      <th>subject</th>\n",
              "      <th>item_type</th>\n",
              "      <th>item_text</th>\n",
              "      <th>item_number</th>\n",
              "      <th>required_yn</th>\n",
              "    </tr>\n",
              "  </thead>\n",
              "  <tbody>\n",
              "    <tr>\n",
              "      <th>457</th>\n",
              "      <td>641</td>\n",
              "      <td>72</td>\n",
              "      <td>13</td>\n",
              "      <td>블루마켓 이용 시 만족스러웠던 점 혹은 불만스러웠던 점이 무엇입니까?(이용 시에만 답변)</td>\n",
              "      <td>T</td>\n",
              "      <td>NaN</td>\n",
              "      <td>300.0</td>\n",
              "      <td>NaN</td>\n",
              "    </tr>\n",
              "    <tr>\n",
              "      <th>464</th>\n",
              "      <td>648</td>\n",
              "      <td>72</td>\n",
              "      <td>16</td>\n",
              "      <td>마지막으로 인천유나이티드에 바라는 점이나 하고 싶은 이야기가 있으신가요?</td>\n",
              "      <td>T</td>\n",
              "      <td>NaN</td>\n",
              "      <td>300.0</td>\n",
              "      <td>NaN</td>\n",
              "    </tr>\n",
              "    <tr>\n",
              "      <th>470</th>\n",
              "      <td>654</td>\n",
              "      <td>73</td>\n",
              "      <td>17</td>\n",
              "      <td>블루마켓 이용 시 만족스러웠던 점 혹은 불만스러웠던 점이 무엇입니까?(이용 시에만 답변)</td>\n",
              "      <td>T</td>\n",
              "      <td>NaN</td>\n",
              "      <td>300.0</td>\n",
              "      <td>NaN</td>\n",
              "    </tr>\n",
              "    <tr>\n",
              "      <th>471</th>\n",
              "      <td>655</td>\n",
              "      <td>73</td>\n",
              "      <td>18</td>\n",
              "      <td>마지막으로 인천유나이티드에 바라는 점이나 하고 싶은 이야기가 있으신가요?</td>\n",
              "      <td>T</td>\n",
              "      <td>NaN</td>\n",
              "      <td>300.0</td>\n",
              "      <td>NaN</td>\n",
              "    </tr>\n",
              "    <tr>\n",
              "      <th>484</th>\n",
              "      <td>668</td>\n",
              "      <td>74</td>\n",
              "      <td>13</td>\n",
              "      <td>블루마켓 이용 시 만족스러웠던 점 혹은 불만스러웠던 점이 무엇입니까?(이용 시에만 답변)</td>\n",
              "      <td>T</td>\n",
              "      <td>NaN</td>\n",
              "      <td>300.0</td>\n",
              "      <td>NaN</td>\n",
              "    </tr>\n",
              "  </tbody>\n",
              "</table>\n",
              "</div>\n",
              "      <button class=\"colab-df-convert\" onclick=\"convertToInteractive('df-6156be0b-4a3b-41c1-92b2-1d0c45e56ff7')\"\n",
              "              title=\"Convert this dataframe to an interactive table.\"\n",
              "              style=\"display:none;\">\n",
              "        \n",
              "  <svg xmlns=\"http://www.w3.org/2000/svg\" height=\"24px\"viewBox=\"0 0 24 24\"\n",
              "       width=\"24px\">\n",
              "    <path d=\"M0 0h24v24H0V0z\" fill=\"none\"/>\n",
              "    <path d=\"M18.56 5.44l.94 2.06.94-2.06 2.06-.94-2.06-.94-.94-2.06-.94 2.06-2.06.94zm-11 1L8.5 8.5l.94-2.06 2.06-.94-2.06-.94L8.5 2.5l-.94 2.06-2.06.94zm10 10l.94 2.06.94-2.06 2.06-.94-2.06-.94-.94-2.06-.94 2.06-2.06.94z\"/><path d=\"M17.41 7.96l-1.37-1.37c-.4-.4-.92-.59-1.43-.59-.52 0-1.04.2-1.43.59L10.3 9.45l-7.72 7.72c-.78.78-.78 2.05 0 2.83L4 21.41c.39.39.9.59 1.41.59.51 0 1.02-.2 1.41-.59l7.78-7.78 2.81-2.81c.8-.78.8-2.07 0-2.86zM5.41 20L4 18.59l7.72-7.72 1.47 1.35L5.41 20z\"/>\n",
              "  </svg>\n",
              "      </button>\n",
              "      \n",
              "  <style>\n",
              "    .colab-df-container {\n",
              "      display:flex;\n",
              "      flex-wrap:wrap;\n",
              "      gap: 12px;\n",
              "    }\n",
              "\n",
              "    .colab-df-convert {\n",
              "      background-color: #E8F0FE;\n",
              "      border: none;\n",
              "      border-radius: 50%;\n",
              "      cursor: pointer;\n",
              "      display: none;\n",
              "      fill: #1967D2;\n",
              "      height: 32px;\n",
              "      padding: 0 0 0 0;\n",
              "      width: 32px;\n",
              "    }\n",
              "\n",
              "    .colab-df-convert:hover {\n",
              "      background-color: #E2EBFA;\n",
              "      box-shadow: 0px 1px 2px rgba(60, 64, 67, 0.3), 0px 1px 3px 1px rgba(60, 64, 67, 0.15);\n",
              "      fill: #174EA6;\n",
              "    }\n",
              "\n",
              "    [theme=dark] .colab-df-convert {\n",
              "      background-color: #3B4455;\n",
              "      fill: #D2E3FC;\n",
              "    }\n",
              "\n",
              "    [theme=dark] .colab-df-convert:hover {\n",
              "      background-color: #434B5C;\n",
              "      box-shadow: 0px 1px 3px 1px rgba(0, 0, 0, 0.15);\n",
              "      filter: drop-shadow(0px 1px 2px rgba(0, 0, 0, 0.3));\n",
              "      fill: #FFFFFF;\n",
              "    }\n",
              "  </style>\n",
              "\n",
              "      <script>\n",
              "        const buttonEl =\n",
              "          document.querySelector('#df-6156be0b-4a3b-41c1-92b2-1d0c45e56ff7 button.colab-df-convert');\n",
              "        buttonEl.style.display =\n",
              "          google.colab.kernel.accessAllowed ? 'block' : 'none';\n",
              "\n",
              "        async function convertToInteractive(key) {\n",
              "          const element = document.querySelector('#df-6156be0b-4a3b-41c1-92b2-1d0c45e56ff7');\n",
              "          const dataTable =\n",
              "            await google.colab.kernel.invokeFunction('convertToInteractive',\n",
              "                                                     [key], {});\n",
              "          if (!dataTable) return;\n",
              "\n",
              "          const docLinkHtml = 'Like what you see? Visit the ' +\n",
              "            '<a target=\"_blank\" href=https://colab.research.google.com/notebooks/data_table.ipynb>data table notebook</a>'\n",
              "            + ' to learn more about interactive tables.';\n",
              "          element.innerHTML = '';\n",
              "          dataTable['output_type'] = 'display_data';\n",
              "          await google.colab.output.renderOutput(dataTable, element);\n",
              "          const docLink = document.createElement('div');\n",
              "          docLink.innerHTML = docLinkHtml;\n",
              "          element.appendChild(docLink);\n",
              "        }\n",
              "      </script>\n",
              "    </div>\n",
              "  </div>\n",
              "  "
            ]
          },
          "metadata": {},
          "execution_count": 70
        }
      ]
    },
    {
      "cell_type": "code",
      "source": [
        "s_i_2022[s_i_2022['required_yn'].isna()]['subject'].unique()"
      ],
      "metadata": {
        "colab": {
          "base_uri": "https://localhost:8080/"
        },
        "id": "TdgYHmHMx5Rt",
        "outputId": "e1d55bbe-7da5-412c-b6e1-71547f775e90"
      },
      "execution_count": null,
      "outputs": [
        {
          "output_type": "execute_result",
          "data": {
            "text/plain": [
              "array(['블루마켓 이용 시 만족스러웠던 점 혹은 불만스러웠던 점이 무엇입니까?(이용 시에만 답변)',\n",
              "       '마지막으로 인천유나이티드에 바라는 점이나 하고 싶은 이야기가 있으신가요?',\n",
              "       '팬 여러분들이 더욱 편하게 즐기고 가실 수 있도록 저희가 어떤 점을 개선해 나아가면 좋을까요?',\n",
              "       '과거에 경기장으로 오신 적이 있다면 최근 경기장에 방문하지 못했던 이유는 무엇인가요?'], dtype=object)"
            ]
          },
          "metadata": {},
          "execution_count": 71
        }
      ]
    },
    {
      "cell_type": "code",
      "source": [
        "# required_yn이 결측치인 항목들은 답변이 필수가 아닌 항목으로 파악되므로 N으로 결측치를 채웠다.\n",
        "s_i_2022['required_yn'] = s_i_2022['required_yn'].fillna('N')"
      ],
      "metadata": {
        "id": "jFPEnisxeQgZ",
        "colab": {
          "base_uri": "https://localhost:8080/"
        },
        "outputId": "4c562c6f-79f5-4d32-f2ef-daffffc5a439"
      },
      "execution_count": null,
      "outputs": [
        {
          "output_type": "stream",
          "name": "stderr",
          "text": [
            "<ipython-input-72-4e2a61d332a2>:2: SettingWithCopyWarning: \n",
            "A value is trying to be set on a copy of a slice from a DataFrame.\n",
            "Try using .loc[row_indexer,col_indexer] = value instead\n",
            "\n",
            "See the caveats in the documentation: https://pandas.pydata.org/pandas-docs/stable/user_guide/indexing.html#returning-a-view-versus-a-copy\n",
            "  s_i_2022['required_yn'] = s_i_2022['required_yn'].fillna('N')\n"
          ]
        }
      ]
    },
    {
      "cell_type": "markdown",
      "source": [
        "## 컬럼명 변경"
      ],
      "metadata": {
        "id": "viQfmfHYyJCm"
      }
    },
    {
      "cell_type": "code",
      "source": [
        "s_i_2022 = s_i_2022.rename(columns={'idx':'svi_idx',\n",
        "                    'survey_idx':'sv_idx'})"
      ],
      "metadata": {
        "id": "F_kLF_9jo0R_"
      },
      "execution_count": null,
      "outputs": []
    },
    {
      "cell_type": "code",
      "source": [
        "s_i_2022 = s_i_2022.reset_index(drop=True)"
      ],
      "metadata": {
        "id": "2h1jQemf0xyI"
      },
      "execution_count": null,
      "outputs": []
    },
    {
      "cell_type": "code",
      "source": [
        "s_i_2022.head()"
      ],
      "metadata": {
        "colab": {
          "base_uri": "https://localhost:8080/"
        },
        "id": "P9arWd4tyXTh",
        "outputId": "ced198d1-fa56-4429-9410-f124a58088be"
      },
      "execution_count": null,
      "outputs": [
        {
          "output_type": "execute_result",
          "data": {
            "text/plain": [
              "   svi_idx  sv_idx  order_seq                        subject item_type  \\\n",
              "0      622      72          1   오늘 경기의 정보를 알게 된 경로를 선택해주십시오.         C   \n",
              "1      623      72          2  오늘 인천축구전용경기장에 도착하신 시각은 언제입니까?         M   \n",
              "2      624      72          3          오늘 경기장에는 누구와 함께 오셨나요?         M   \n",
              "3      625      72          4     경기장 방문 시 어떤 교통수단을 이용하셨습니까?         M   \n",
              "4      626      73          1   오늘 경기의 정보를 알게 된 경로를 선택해주십시오.         C   \n",
              "\n",
              "                                           item_text  item_number required_yn  \n",
              "0  구단 SNS(페이스북, 인스타그램 등) #인터넷 포털 #구단 홈페이지 #구단 문자메...          0.0           Y  \n",
              "1  경기 시작 2시간 전 #경기 시작 1시간 30분 전 #경기 시작 1시간 전 #경기 ...          0.0           Y  \n",
              "2  가족과 방문 #친구와 방문 #혼자 방문 #학교/직장 동료와 방문 #가족(비동거인, ...          0.0           Y  \n",
              "3                          자가차량 #지하철 #버스 #도보 #택시 #기타          0.0           Y  \n",
              "4  구단 SNS(페이스북, 인스타그램 등) #인터넷 포털 #구단 홈페이지 #구단 문자메...          0.0           Y  "
            ],
            "text/html": [
              "\n",
              "  <div id=\"df-a586e8f0-fdc6-4079-8fd3-ec54a28873c0\">\n",
              "    <div class=\"colab-df-container\">\n",
              "      <div>\n",
              "<style scoped>\n",
              "    .dataframe tbody tr th:only-of-type {\n",
              "        vertical-align: middle;\n",
              "    }\n",
              "\n",
              "    .dataframe tbody tr th {\n",
              "        vertical-align: top;\n",
              "    }\n",
              "\n",
              "    .dataframe thead th {\n",
              "        text-align: right;\n",
              "    }\n",
              "</style>\n",
              "<table border=\"1\" class=\"dataframe\">\n",
              "  <thead>\n",
              "    <tr style=\"text-align: right;\">\n",
              "      <th></th>\n",
              "      <th>svi_idx</th>\n",
              "      <th>sv_idx</th>\n",
              "      <th>order_seq</th>\n",
              "      <th>subject</th>\n",
              "      <th>item_type</th>\n",
              "      <th>item_text</th>\n",
              "      <th>item_number</th>\n",
              "      <th>required_yn</th>\n",
              "    </tr>\n",
              "  </thead>\n",
              "  <tbody>\n",
              "    <tr>\n",
              "      <th>0</th>\n",
              "      <td>622</td>\n",
              "      <td>72</td>\n",
              "      <td>1</td>\n",
              "      <td>오늘 경기의 정보를 알게 된 경로를 선택해주십시오.</td>\n",
              "      <td>C</td>\n",
              "      <td>구단 SNS(페이스북, 인스타그램 등) #인터넷 포털 #구단 홈페이지 #구단 문자메...</td>\n",
              "      <td>0.0</td>\n",
              "      <td>Y</td>\n",
              "    </tr>\n",
              "    <tr>\n",
              "      <th>1</th>\n",
              "      <td>623</td>\n",
              "      <td>72</td>\n",
              "      <td>2</td>\n",
              "      <td>오늘 인천축구전용경기장에 도착하신 시각은 언제입니까?</td>\n",
              "      <td>M</td>\n",
              "      <td>경기 시작 2시간 전 #경기 시작 1시간 30분 전 #경기 시작 1시간 전 #경기 ...</td>\n",
              "      <td>0.0</td>\n",
              "      <td>Y</td>\n",
              "    </tr>\n",
              "    <tr>\n",
              "      <th>2</th>\n",
              "      <td>624</td>\n",
              "      <td>72</td>\n",
              "      <td>3</td>\n",
              "      <td>오늘 경기장에는 누구와 함께 오셨나요?</td>\n",
              "      <td>M</td>\n",
              "      <td>가족과 방문 #친구와 방문 #혼자 방문 #학교/직장 동료와 방문 #가족(비동거인, ...</td>\n",
              "      <td>0.0</td>\n",
              "      <td>Y</td>\n",
              "    </tr>\n",
              "    <tr>\n",
              "      <th>3</th>\n",
              "      <td>625</td>\n",
              "      <td>72</td>\n",
              "      <td>4</td>\n",
              "      <td>경기장 방문 시 어떤 교통수단을 이용하셨습니까?</td>\n",
              "      <td>M</td>\n",
              "      <td>자가차량 #지하철 #버스 #도보 #택시 #기타</td>\n",
              "      <td>0.0</td>\n",
              "      <td>Y</td>\n",
              "    </tr>\n",
              "    <tr>\n",
              "      <th>4</th>\n",
              "      <td>626</td>\n",
              "      <td>73</td>\n",
              "      <td>1</td>\n",
              "      <td>오늘 경기의 정보를 알게 된 경로를 선택해주십시오.</td>\n",
              "      <td>C</td>\n",
              "      <td>구단 SNS(페이스북, 인스타그램 등) #인터넷 포털 #구단 홈페이지 #구단 문자메...</td>\n",
              "      <td>0.0</td>\n",
              "      <td>Y</td>\n",
              "    </tr>\n",
              "  </tbody>\n",
              "</table>\n",
              "</div>\n",
              "      <button class=\"colab-df-convert\" onclick=\"convertToInteractive('df-a586e8f0-fdc6-4079-8fd3-ec54a28873c0')\"\n",
              "              title=\"Convert this dataframe to an interactive table.\"\n",
              "              style=\"display:none;\">\n",
              "        \n",
              "  <svg xmlns=\"http://www.w3.org/2000/svg\" height=\"24px\"viewBox=\"0 0 24 24\"\n",
              "       width=\"24px\">\n",
              "    <path d=\"M0 0h24v24H0V0z\" fill=\"none\"/>\n",
              "    <path d=\"M18.56 5.44l.94 2.06.94-2.06 2.06-.94-2.06-.94-.94-2.06-.94 2.06-2.06.94zm-11 1L8.5 8.5l.94-2.06 2.06-.94-2.06-.94L8.5 2.5l-.94 2.06-2.06.94zm10 10l.94 2.06.94-2.06 2.06-.94-2.06-.94-.94-2.06-.94 2.06-2.06.94z\"/><path d=\"M17.41 7.96l-1.37-1.37c-.4-.4-.92-.59-1.43-.59-.52 0-1.04.2-1.43.59L10.3 9.45l-7.72 7.72c-.78.78-.78 2.05 0 2.83L4 21.41c.39.39.9.59 1.41.59.51 0 1.02-.2 1.41-.59l7.78-7.78 2.81-2.81c.8-.78.8-2.07 0-2.86zM5.41 20L4 18.59l7.72-7.72 1.47 1.35L5.41 20z\"/>\n",
              "  </svg>\n",
              "      </button>\n",
              "      \n",
              "  <style>\n",
              "    .colab-df-container {\n",
              "      display:flex;\n",
              "      flex-wrap:wrap;\n",
              "      gap: 12px;\n",
              "    }\n",
              "\n",
              "    .colab-df-convert {\n",
              "      background-color: #E8F0FE;\n",
              "      border: none;\n",
              "      border-radius: 50%;\n",
              "      cursor: pointer;\n",
              "      display: none;\n",
              "      fill: #1967D2;\n",
              "      height: 32px;\n",
              "      padding: 0 0 0 0;\n",
              "      width: 32px;\n",
              "    }\n",
              "\n",
              "    .colab-df-convert:hover {\n",
              "      background-color: #E2EBFA;\n",
              "      box-shadow: 0px 1px 2px rgba(60, 64, 67, 0.3), 0px 1px 3px 1px rgba(60, 64, 67, 0.15);\n",
              "      fill: #174EA6;\n",
              "    }\n",
              "\n",
              "    [theme=dark] .colab-df-convert {\n",
              "      background-color: #3B4455;\n",
              "      fill: #D2E3FC;\n",
              "    }\n",
              "\n",
              "    [theme=dark] .colab-df-convert:hover {\n",
              "      background-color: #434B5C;\n",
              "      box-shadow: 0px 1px 3px 1px rgba(0, 0, 0, 0.15);\n",
              "      filter: drop-shadow(0px 1px 2px rgba(0, 0, 0, 0.3));\n",
              "      fill: #FFFFFF;\n",
              "    }\n",
              "  </style>\n",
              "\n",
              "      <script>\n",
              "        const buttonEl =\n",
              "          document.querySelector('#df-a586e8f0-fdc6-4079-8fd3-ec54a28873c0 button.colab-df-convert');\n",
              "        buttonEl.style.display =\n",
              "          google.colab.kernel.accessAllowed ? 'block' : 'none';\n",
              "\n",
              "        async function convertToInteractive(key) {\n",
              "          const element = document.querySelector('#df-a586e8f0-fdc6-4079-8fd3-ec54a28873c0');\n",
              "          const dataTable =\n",
              "            await google.colab.kernel.invokeFunction('convertToInteractive',\n",
              "                                                     [key], {});\n",
              "          if (!dataTable) return;\n",
              "\n",
              "          const docLinkHtml = 'Like what you see? Visit the ' +\n",
              "            '<a target=\"_blank\" href=https://colab.research.google.com/notebooks/data_table.ipynb>data table notebook</a>'\n",
              "            + ' to learn more about interactive tables.';\n",
              "          element.innerHTML = '';\n",
              "          dataTable['output_type'] = 'display_data';\n",
              "          await google.colab.output.renderOutput(dataTable, element);\n",
              "          const docLink = document.createElement('div');\n",
              "          docLink.innerHTML = docLinkHtml;\n",
              "          element.appendChild(docLink);\n",
              "        }\n",
              "      </script>\n",
              "    </div>\n",
              "  </div>\n",
              "  "
            ]
          },
          "metadata": {},
          "execution_count": 78
        }
      ]
    },
    {
      "cell_type": "markdown",
      "source": [
        "## 저장"
      ],
      "metadata": {
        "id": "DHfVCO8zzBd0"
      }
    },
    {
      "cell_type": "code",
      "source": [
        "s_i_2022.to_csv('new_survey_item.csv', index=False)"
      ],
      "metadata": {
        "id": "wOrTLgD3eei-"
      },
      "execution_count": null,
      "outputs": []
    },
    {
      "cell_type": "markdown",
      "source": [
        "\n",
        "\n",
        "---\n",
        "\n"
      ],
      "metadata": {
        "id": "GbwOhlJQgItV"
      }
    },
    {
      "cell_type": "markdown",
      "source": [
        "# new_survey_result"
      ],
      "metadata": {
        "id": "9dbZnb0MzzRj"
      }
    },
    {
      "cell_type": "code",
      "source": [
        "s_r = pd.read_csv('/content/survey_result.csv')\n",
        "s_r.head()"
      ],
      "metadata": {
        "colab": {
          "base_uri": "https://localhost:8080/"
        },
        "id": "gMpMlVM1a5k9",
        "outputId": "ea9def7a-374c-43b3-ccfe-ebf2354d4bf3"
      },
      "execution_count": null,
      "outputs": [
        {
          "output_type": "execute_result",
          "data": {
            "text/plain": [
              "   idx  survey_target_idx  survey_item_idx  answer_index answer_content\n",
              "0  110                525              115             2         2017년 \n",
              "1  111                525              115             5          2020년\n",
              "2  112                525              116             0              2\n",
              "3  113                525              117             0            충성심\n",
              "4  114                525              118             0            기념품"
            ],
            "text/html": [
              "\n",
              "  <div id=\"df-cf5ab206-566c-4c7b-ade8-08b8de2dd58f\">\n",
              "    <div class=\"colab-df-container\">\n",
              "      <div>\n",
              "<style scoped>\n",
              "    .dataframe tbody tr th:only-of-type {\n",
              "        vertical-align: middle;\n",
              "    }\n",
              "\n",
              "    .dataframe tbody tr th {\n",
              "        vertical-align: top;\n",
              "    }\n",
              "\n",
              "    .dataframe thead th {\n",
              "        text-align: right;\n",
              "    }\n",
              "</style>\n",
              "<table border=\"1\" class=\"dataframe\">\n",
              "  <thead>\n",
              "    <tr style=\"text-align: right;\">\n",
              "      <th></th>\n",
              "      <th>idx</th>\n",
              "      <th>survey_target_idx</th>\n",
              "      <th>survey_item_idx</th>\n",
              "      <th>answer_index</th>\n",
              "      <th>answer_content</th>\n",
              "    </tr>\n",
              "  </thead>\n",
              "  <tbody>\n",
              "    <tr>\n",
              "      <th>0</th>\n",
              "      <td>110</td>\n",
              "      <td>525</td>\n",
              "      <td>115</td>\n",
              "      <td>2</td>\n",
              "      <td>2017년</td>\n",
              "    </tr>\n",
              "    <tr>\n",
              "      <th>1</th>\n",
              "      <td>111</td>\n",
              "      <td>525</td>\n",
              "      <td>115</td>\n",
              "      <td>5</td>\n",
              "      <td>2020년</td>\n",
              "    </tr>\n",
              "    <tr>\n",
              "      <th>2</th>\n",
              "      <td>112</td>\n",
              "      <td>525</td>\n",
              "      <td>116</td>\n",
              "      <td>0</td>\n",
              "      <td>2</td>\n",
              "    </tr>\n",
              "    <tr>\n",
              "      <th>3</th>\n",
              "      <td>113</td>\n",
              "      <td>525</td>\n",
              "      <td>117</td>\n",
              "      <td>0</td>\n",
              "      <td>충성심</td>\n",
              "    </tr>\n",
              "    <tr>\n",
              "      <th>4</th>\n",
              "      <td>114</td>\n",
              "      <td>525</td>\n",
              "      <td>118</td>\n",
              "      <td>0</td>\n",
              "      <td>기념품</td>\n",
              "    </tr>\n",
              "  </tbody>\n",
              "</table>\n",
              "</div>\n",
              "      <button class=\"colab-df-convert\" onclick=\"convertToInteractive('df-cf5ab206-566c-4c7b-ade8-08b8de2dd58f')\"\n",
              "              title=\"Convert this dataframe to an interactive table.\"\n",
              "              style=\"display:none;\">\n",
              "        \n",
              "  <svg xmlns=\"http://www.w3.org/2000/svg\" height=\"24px\"viewBox=\"0 0 24 24\"\n",
              "       width=\"24px\">\n",
              "    <path d=\"M0 0h24v24H0V0z\" fill=\"none\"/>\n",
              "    <path d=\"M18.56 5.44l.94 2.06.94-2.06 2.06-.94-2.06-.94-.94-2.06-.94 2.06-2.06.94zm-11 1L8.5 8.5l.94-2.06 2.06-.94-2.06-.94L8.5 2.5l-.94 2.06-2.06.94zm10 10l.94 2.06.94-2.06 2.06-.94-2.06-.94-.94-2.06-.94 2.06-2.06.94z\"/><path d=\"M17.41 7.96l-1.37-1.37c-.4-.4-.92-.59-1.43-.59-.52 0-1.04.2-1.43.59L10.3 9.45l-7.72 7.72c-.78.78-.78 2.05 0 2.83L4 21.41c.39.39.9.59 1.41.59.51 0 1.02-.2 1.41-.59l7.78-7.78 2.81-2.81c.8-.78.8-2.07 0-2.86zM5.41 20L4 18.59l7.72-7.72 1.47 1.35L5.41 20z\"/>\n",
              "  </svg>\n",
              "      </button>\n",
              "      \n",
              "  <style>\n",
              "    .colab-df-container {\n",
              "      display:flex;\n",
              "      flex-wrap:wrap;\n",
              "      gap: 12px;\n",
              "    }\n",
              "\n",
              "    .colab-df-convert {\n",
              "      background-color: #E8F0FE;\n",
              "      border: none;\n",
              "      border-radius: 50%;\n",
              "      cursor: pointer;\n",
              "      display: none;\n",
              "      fill: #1967D2;\n",
              "      height: 32px;\n",
              "      padding: 0 0 0 0;\n",
              "      width: 32px;\n",
              "    }\n",
              "\n",
              "    .colab-df-convert:hover {\n",
              "      background-color: #E2EBFA;\n",
              "      box-shadow: 0px 1px 2px rgba(60, 64, 67, 0.3), 0px 1px 3px 1px rgba(60, 64, 67, 0.15);\n",
              "      fill: #174EA6;\n",
              "    }\n",
              "\n",
              "    [theme=dark] .colab-df-convert {\n",
              "      background-color: #3B4455;\n",
              "      fill: #D2E3FC;\n",
              "    }\n",
              "\n",
              "    [theme=dark] .colab-df-convert:hover {\n",
              "      background-color: #434B5C;\n",
              "      box-shadow: 0px 1px 3px 1px rgba(0, 0, 0, 0.15);\n",
              "      filter: drop-shadow(0px 1px 2px rgba(0, 0, 0, 0.3));\n",
              "      fill: #FFFFFF;\n",
              "    }\n",
              "  </style>\n",
              "\n",
              "      <script>\n",
              "        const buttonEl =\n",
              "          document.querySelector('#df-cf5ab206-566c-4c7b-ade8-08b8de2dd58f button.colab-df-convert');\n",
              "        buttonEl.style.display =\n",
              "          google.colab.kernel.accessAllowed ? 'block' : 'none';\n",
              "\n",
              "        async function convertToInteractive(key) {\n",
              "          const element = document.querySelector('#df-cf5ab206-566c-4c7b-ade8-08b8de2dd58f');\n",
              "          const dataTable =\n",
              "            await google.colab.kernel.invokeFunction('convertToInteractive',\n",
              "                                                     [key], {});\n",
              "          if (!dataTable) return;\n",
              "\n",
              "          const docLinkHtml = 'Like what you see? Visit the ' +\n",
              "            '<a target=\"_blank\" href=https://colab.research.google.com/notebooks/data_table.ipynb>data table notebook</a>'\n",
              "            + ' to learn more about interactive tables.';\n",
              "          element.innerHTML = '';\n",
              "          dataTable['output_type'] = 'display_data';\n",
              "          await google.colab.output.renderOutput(dataTable, element);\n",
              "          const docLink = document.createElement('div');\n",
              "          docLink.innerHTML = docLinkHtml;\n",
              "          element.appendChild(docLink);\n",
              "        }\n",
              "      </script>\n",
              "    </div>\n",
              "  </div>\n",
              "  "
            ]
          },
          "metadata": {},
          "execution_count": 62
        }
      ]
    },
    {
      "cell_type": "markdown",
      "source": [
        "## 사람, 질문, 대답이 같은 중복이 존재함"
      ],
      "metadata": {
        "id": "A-W_oHXQz8vZ"
      }
    },
    {
      "cell_type": "code",
      "source": [
        "s_r[s_r.duplicated(['survey_target_idx','survey_item_idx','answer_index'])]"
      ],
      "metadata": {
        "colab": {
          "base_uri": "https://localhost:8080/"
        },
        "id": "wFVkAzhvFsGb",
        "outputId": "c32c347a-3cb2-4864-de9c-5772dd440e7c"
      },
      "execution_count": null,
      "outputs": [
        {
          "output_type": "execute_result",
          "data": {
            "text/plain": [
              "          idx  survey_target_idx  survey_item_idx  answer_index  \\\n",
              "16337   20322               7314              236             2   \n",
              "16338   20323               7314              237             2   \n",
              "16339   20324               7314              238             2   \n",
              "16340   20325               7314              239             2   \n",
              "16341   20326               7314              240             0   \n",
              "...       ...                ...              ...           ...   \n",
              "92075  101569              49904             1599             0   \n",
              "92076  101570              49904             1600             5   \n",
              "92077  101571              49904             1602             0   \n",
              "92078  101572              49904             1603             0   \n",
              "92079  101573              49904             1604             0   \n",
              "\n",
              "               answer_content  \n",
              "16337  구단 SNS(페이스북, 인스타그램 등)   \n",
              "16338            경기 시작 1시간 전   \n",
              "16339                    지하철   \n",
              "16340                     보통   \n",
              "16341                  매우 만족   \n",
              "...                       ...  \n",
              "92075                     없음   \n",
              "92076                     미방문  \n",
              "92077              10점(매우추천)   \n",
              "92078                      만족  \n",
              "92079                      만족  \n",
              "\n",
              "[180 rows x 5 columns]"
            ],
            "text/html": [
              "\n",
              "  <div id=\"df-77d6e9d5-5035-4c89-a56a-941227116293\">\n",
              "    <div class=\"colab-df-container\">\n",
              "      <div>\n",
              "<style scoped>\n",
              "    .dataframe tbody tr th:only-of-type {\n",
              "        vertical-align: middle;\n",
              "    }\n",
              "\n",
              "    .dataframe tbody tr th {\n",
              "        vertical-align: top;\n",
              "    }\n",
              "\n",
              "    .dataframe thead th {\n",
              "        text-align: right;\n",
              "    }\n",
              "</style>\n",
              "<table border=\"1\" class=\"dataframe\">\n",
              "  <thead>\n",
              "    <tr style=\"text-align: right;\">\n",
              "      <th></th>\n",
              "      <th>idx</th>\n",
              "      <th>survey_target_idx</th>\n",
              "      <th>survey_item_idx</th>\n",
              "      <th>answer_index</th>\n",
              "      <th>answer_content</th>\n",
              "    </tr>\n",
              "  </thead>\n",
              "  <tbody>\n",
              "    <tr>\n",
              "      <th>16337</th>\n",
              "      <td>20322</td>\n",
              "      <td>7314</td>\n",
              "      <td>236</td>\n",
              "      <td>2</td>\n",
              "      <td>구단 SNS(페이스북, 인스타그램 등)</td>\n",
              "    </tr>\n",
              "    <tr>\n",
              "      <th>16338</th>\n",
              "      <td>20323</td>\n",
              "      <td>7314</td>\n",
              "      <td>237</td>\n",
              "      <td>2</td>\n",
              "      <td>경기 시작 1시간 전</td>\n",
              "    </tr>\n",
              "    <tr>\n",
              "      <th>16339</th>\n",
              "      <td>20324</td>\n",
              "      <td>7314</td>\n",
              "      <td>238</td>\n",
              "      <td>2</td>\n",
              "      <td>지하철</td>\n",
              "    </tr>\n",
              "    <tr>\n",
              "      <th>16340</th>\n",
              "      <td>20325</td>\n",
              "      <td>7314</td>\n",
              "      <td>239</td>\n",
              "      <td>2</td>\n",
              "      <td>보통</td>\n",
              "    </tr>\n",
              "    <tr>\n",
              "      <th>16341</th>\n",
              "      <td>20326</td>\n",
              "      <td>7314</td>\n",
              "      <td>240</td>\n",
              "      <td>0</td>\n",
              "      <td>매우 만족</td>\n",
              "    </tr>\n",
              "    <tr>\n",
              "      <th>...</th>\n",
              "      <td>...</td>\n",
              "      <td>...</td>\n",
              "      <td>...</td>\n",
              "      <td>...</td>\n",
              "      <td>...</td>\n",
              "    </tr>\n",
              "    <tr>\n",
              "      <th>92075</th>\n",
              "      <td>101569</td>\n",
              "      <td>49904</td>\n",
              "      <td>1599</td>\n",
              "      <td>0</td>\n",
              "      <td>없음</td>\n",
              "    </tr>\n",
              "    <tr>\n",
              "      <th>92076</th>\n",
              "      <td>101570</td>\n",
              "      <td>49904</td>\n",
              "      <td>1600</td>\n",
              "      <td>5</td>\n",
              "      <td>미방문</td>\n",
              "    </tr>\n",
              "    <tr>\n",
              "      <th>92077</th>\n",
              "      <td>101571</td>\n",
              "      <td>49904</td>\n",
              "      <td>1602</td>\n",
              "      <td>0</td>\n",
              "      <td>10점(매우추천)</td>\n",
              "    </tr>\n",
              "    <tr>\n",
              "      <th>92078</th>\n",
              "      <td>101572</td>\n",
              "      <td>49904</td>\n",
              "      <td>1603</td>\n",
              "      <td>0</td>\n",
              "      <td>만족</td>\n",
              "    </tr>\n",
              "    <tr>\n",
              "      <th>92079</th>\n",
              "      <td>101573</td>\n",
              "      <td>49904</td>\n",
              "      <td>1604</td>\n",
              "      <td>0</td>\n",
              "      <td>만족</td>\n",
              "    </tr>\n",
              "  </tbody>\n",
              "</table>\n",
              "<p>180 rows × 5 columns</p>\n",
              "</div>\n",
              "      <button class=\"colab-df-convert\" onclick=\"convertToInteractive('df-77d6e9d5-5035-4c89-a56a-941227116293')\"\n",
              "              title=\"Convert this dataframe to an interactive table.\"\n",
              "              style=\"display:none;\">\n",
              "        \n",
              "  <svg xmlns=\"http://www.w3.org/2000/svg\" height=\"24px\"viewBox=\"0 0 24 24\"\n",
              "       width=\"24px\">\n",
              "    <path d=\"M0 0h24v24H0V0z\" fill=\"none\"/>\n",
              "    <path d=\"M18.56 5.44l.94 2.06.94-2.06 2.06-.94-2.06-.94-.94-2.06-.94 2.06-2.06.94zm-11 1L8.5 8.5l.94-2.06 2.06-.94-2.06-.94L8.5 2.5l-.94 2.06-2.06.94zm10 10l.94 2.06.94-2.06 2.06-.94-2.06-.94-.94-2.06-.94 2.06-2.06.94z\"/><path d=\"M17.41 7.96l-1.37-1.37c-.4-.4-.92-.59-1.43-.59-.52 0-1.04.2-1.43.59L10.3 9.45l-7.72 7.72c-.78.78-.78 2.05 0 2.83L4 21.41c.39.39.9.59 1.41.59.51 0 1.02-.2 1.41-.59l7.78-7.78 2.81-2.81c.8-.78.8-2.07 0-2.86zM5.41 20L4 18.59l7.72-7.72 1.47 1.35L5.41 20z\"/>\n",
              "  </svg>\n",
              "      </button>\n",
              "      \n",
              "  <style>\n",
              "    .colab-df-container {\n",
              "      display:flex;\n",
              "      flex-wrap:wrap;\n",
              "      gap: 12px;\n",
              "    }\n",
              "\n",
              "    .colab-df-convert {\n",
              "      background-color: #E8F0FE;\n",
              "      border: none;\n",
              "      border-radius: 50%;\n",
              "      cursor: pointer;\n",
              "      display: none;\n",
              "      fill: #1967D2;\n",
              "      height: 32px;\n",
              "      padding: 0 0 0 0;\n",
              "      width: 32px;\n",
              "    }\n",
              "\n",
              "    .colab-df-convert:hover {\n",
              "      background-color: #E2EBFA;\n",
              "      box-shadow: 0px 1px 2px rgba(60, 64, 67, 0.3), 0px 1px 3px 1px rgba(60, 64, 67, 0.15);\n",
              "      fill: #174EA6;\n",
              "    }\n",
              "\n",
              "    [theme=dark] .colab-df-convert {\n",
              "      background-color: #3B4455;\n",
              "      fill: #D2E3FC;\n",
              "    }\n",
              "\n",
              "    [theme=dark] .colab-df-convert:hover {\n",
              "      background-color: #434B5C;\n",
              "      box-shadow: 0px 1px 3px 1px rgba(0, 0, 0, 0.15);\n",
              "      filter: drop-shadow(0px 1px 2px rgba(0, 0, 0, 0.3));\n",
              "      fill: #FFFFFF;\n",
              "    }\n",
              "  </style>\n",
              "\n",
              "      <script>\n",
              "        const buttonEl =\n",
              "          document.querySelector('#df-77d6e9d5-5035-4c89-a56a-941227116293 button.colab-df-convert');\n",
              "        buttonEl.style.display =\n",
              "          google.colab.kernel.accessAllowed ? 'block' : 'none';\n",
              "\n",
              "        async function convertToInteractive(key) {\n",
              "          const element = document.querySelector('#df-77d6e9d5-5035-4c89-a56a-941227116293');\n",
              "          const dataTable =\n",
              "            await google.colab.kernel.invokeFunction('convertToInteractive',\n",
              "                                                     [key], {});\n",
              "          if (!dataTable) return;\n",
              "\n",
              "          const docLinkHtml = 'Like what you see? Visit the ' +\n",
              "            '<a target=\"_blank\" href=https://colab.research.google.com/notebooks/data_table.ipynb>data table notebook</a>'\n",
              "            + ' to learn more about interactive tables.';\n",
              "          element.innerHTML = '';\n",
              "          dataTable['output_type'] = 'display_data';\n",
              "          await google.colab.output.renderOutput(dataTable, element);\n",
              "          const docLink = document.createElement('div');\n",
              "          docLink.innerHTML = docLinkHtml;\n",
              "          element.appendChild(docLink);\n",
              "        }\n",
              "      </script>\n",
              "    </div>\n",
              "  </div>\n",
              "  "
            ]
          },
          "metadata": {},
          "execution_count": 63
        }
      ]
    },
    {
      "cell_type": "code",
      "source": [
        "s_r[(s_r['survey_target_idx'] == 49904) & (s_r['survey_item_idx'] == 1600) & (s_r['answer_index'] == 5)]"
      ],
      "metadata": {
        "colab": {
          "base_uri": "https://localhost:8080/"
        },
        "id": "yvupcoWRGUe6",
        "outputId": "ec80adf1-bfe9-4e5c-cb47-46f516409f3f"
      },
      "execution_count": null,
      "outputs": [
        {
          "output_type": "execute_result",
          "data": {
            "text/plain": [
              "          idx  survey_target_idx  survey_item_idx  answer_index answer_content\n",
              "92061  101555              49904             1600             5            미방문\n",
              "92076  101570              49904             1600             5            미방문"
            ],
            "text/html": [
              "\n",
              "  <div id=\"df-4aa39ffb-f618-4af2-ab12-667e84d5ac48\">\n",
              "    <div class=\"colab-df-container\">\n",
              "      <div>\n",
              "<style scoped>\n",
              "    .dataframe tbody tr th:only-of-type {\n",
              "        vertical-align: middle;\n",
              "    }\n",
              "\n",
              "    .dataframe tbody tr th {\n",
              "        vertical-align: top;\n",
              "    }\n",
              "\n",
              "    .dataframe thead th {\n",
              "        text-align: right;\n",
              "    }\n",
              "</style>\n",
              "<table border=\"1\" class=\"dataframe\">\n",
              "  <thead>\n",
              "    <tr style=\"text-align: right;\">\n",
              "      <th></th>\n",
              "      <th>idx</th>\n",
              "      <th>survey_target_idx</th>\n",
              "      <th>survey_item_idx</th>\n",
              "      <th>answer_index</th>\n",
              "      <th>answer_content</th>\n",
              "    </tr>\n",
              "  </thead>\n",
              "  <tbody>\n",
              "    <tr>\n",
              "      <th>92061</th>\n",
              "      <td>101555</td>\n",
              "      <td>49904</td>\n",
              "      <td>1600</td>\n",
              "      <td>5</td>\n",
              "      <td>미방문</td>\n",
              "    </tr>\n",
              "    <tr>\n",
              "      <th>92076</th>\n",
              "      <td>101570</td>\n",
              "      <td>49904</td>\n",
              "      <td>1600</td>\n",
              "      <td>5</td>\n",
              "      <td>미방문</td>\n",
              "    </tr>\n",
              "  </tbody>\n",
              "</table>\n",
              "</div>\n",
              "      <button class=\"colab-df-convert\" onclick=\"convertToInteractive('df-4aa39ffb-f618-4af2-ab12-667e84d5ac48')\"\n",
              "              title=\"Convert this dataframe to an interactive table.\"\n",
              "              style=\"display:none;\">\n",
              "        \n",
              "  <svg xmlns=\"http://www.w3.org/2000/svg\" height=\"24px\"viewBox=\"0 0 24 24\"\n",
              "       width=\"24px\">\n",
              "    <path d=\"M0 0h24v24H0V0z\" fill=\"none\"/>\n",
              "    <path d=\"M18.56 5.44l.94 2.06.94-2.06 2.06-.94-2.06-.94-.94-2.06-.94 2.06-2.06.94zm-11 1L8.5 8.5l.94-2.06 2.06-.94-2.06-.94L8.5 2.5l-.94 2.06-2.06.94zm10 10l.94 2.06.94-2.06 2.06-.94-2.06-.94-.94-2.06-.94 2.06-2.06.94z\"/><path d=\"M17.41 7.96l-1.37-1.37c-.4-.4-.92-.59-1.43-.59-.52 0-1.04.2-1.43.59L10.3 9.45l-7.72 7.72c-.78.78-.78 2.05 0 2.83L4 21.41c.39.39.9.59 1.41.59.51 0 1.02-.2 1.41-.59l7.78-7.78 2.81-2.81c.8-.78.8-2.07 0-2.86zM5.41 20L4 18.59l7.72-7.72 1.47 1.35L5.41 20z\"/>\n",
              "  </svg>\n",
              "      </button>\n",
              "      \n",
              "  <style>\n",
              "    .colab-df-container {\n",
              "      display:flex;\n",
              "      flex-wrap:wrap;\n",
              "      gap: 12px;\n",
              "    }\n",
              "\n",
              "    .colab-df-convert {\n",
              "      background-color: #E8F0FE;\n",
              "      border: none;\n",
              "      border-radius: 50%;\n",
              "      cursor: pointer;\n",
              "      display: none;\n",
              "      fill: #1967D2;\n",
              "      height: 32px;\n",
              "      padding: 0 0 0 0;\n",
              "      width: 32px;\n",
              "    }\n",
              "\n",
              "    .colab-df-convert:hover {\n",
              "      background-color: #E2EBFA;\n",
              "      box-shadow: 0px 1px 2px rgba(60, 64, 67, 0.3), 0px 1px 3px 1px rgba(60, 64, 67, 0.15);\n",
              "      fill: #174EA6;\n",
              "    }\n",
              "\n",
              "    [theme=dark] .colab-df-convert {\n",
              "      background-color: #3B4455;\n",
              "      fill: #D2E3FC;\n",
              "    }\n",
              "\n",
              "    [theme=dark] .colab-df-convert:hover {\n",
              "      background-color: #434B5C;\n",
              "      box-shadow: 0px 1px 3px 1px rgba(0, 0, 0, 0.15);\n",
              "      filter: drop-shadow(0px 1px 2px rgba(0, 0, 0, 0.3));\n",
              "      fill: #FFFFFF;\n",
              "    }\n",
              "  </style>\n",
              "\n",
              "      <script>\n",
              "        const buttonEl =\n",
              "          document.querySelector('#df-4aa39ffb-f618-4af2-ab12-667e84d5ac48 button.colab-df-convert');\n",
              "        buttonEl.style.display =\n",
              "          google.colab.kernel.accessAllowed ? 'block' : 'none';\n",
              "\n",
              "        async function convertToInteractive(key) {\n",
              "          const element = document.querySelector('#df-4aa39ffb-f618-4af2-ab12-667e84d5ac48');\n",
              "          const dataTable =\n",
              "            await google.colab.kernel.invokeFunction('convertToInteractive',\n",
              "                                                     [key], {});\n",
              "          if (!dataTable) return;\n",
              "\n",
              "          const docLinkHtml = 'Like what you see? Visit the ' +\n",
              "            '<a target=\"_blank\" href=https://colab.research.google.com/notebooks/data_table.ipynb>data table notebook</a>'\n",
              "            + ' to learn more about interactive tables.';\n",
              "          element.innerHTML = '';\n",
              "          dataTable['output_type'] = 'display_data';\n",
              "          await google.colab.output.renderOutput(dataTable, element);\n",
              "          const docLink = document.createElement('div');\n",
              "          docLink.innerHTML = docLinkHtml;\n",
              "          element.appendChild(docLink);\n",
              "        }\n",
              "      </script>\n",
              "    </div>\n",
              "  </div>\n",
              "  "
            ]
          },
          "metadata": {},
          "execution_count": 64
        }
      ]
    },
    {
      "cell_type": "code",
      "source": [
        "s_c[s_c['svc_idx'] == 49904]"
      ],
      "metadata": {
        "colab": {
          "base_uri": "https://localhost:8080/"
        },
        "id": "lT5LC3i5GiTA",
        "outputId": "97d14faf-2d2c-49c0-ddc0-1725b3497973"
      },
      "execution_count": null,
      "outputs": [
        {
          "output_type": "execute_result",
          "data": {
            "text/plain": [
              "      svc_idx  sv_idx          start_date            end_date  MB_IDX\n",
              "5710    49904     134 2022-10-16 21:23:26 2022-10-16 21:25:47  146592"
            ],
            "text/html": [
              "\n",
              "  <div id=\"df-4c01648f-ea75-48f6-b903-93a536ad82bf\">\n",
              "    <div class=\"colab-df-container\">\n",
              "      <div>\n",
              "<style scoped>\n",
              "    .dataframe tbody tr th:only-of-type {\n",
              "        vertical-align: middle;\n",
              "    }\n",
              "\n",
              "    .dataframe tbody tr th {\n",
              "        vertical-align: top;\n",
              "    }\n",
              "\n",
              "    .dataframe thead th {\n",
              "        text-align: right;\n",
              "    }\n",
              "</style>\n",
              "<table border=\"1\" class=\"dataframe\">\n",
              "  <thead>\n",
              "    <tr style=\"text-align: right;\">\n",
              "      <th></th>\n",
              "      <th>svc_idx</th>\n",
              "      <th>sv_idx</th>\n",
              "      <th>start_date</th>\n",
              "      <th>end_date</th>\n",
              "      <th>MB_IDX</th>\n",
              "    </tr>\n",
              "  </thead>\n",
              "  <tbody>\n",
              "    <tr>\n",
              "      <th>5710</th>\n",
              "      <td>49904</td>\n",
              "      <td>134</td>\n",
              "      <td>2022-10-16 21:23:26</td>\n",
              "      <td>2022-10-16 21:25:47</td>\n",
              "      <td>146592</td>\n",
              "    </tr>\n",
              "  </tbody>\n",
              "</table>\n",
              "</div>\n",
              "      <button class=\"colab-df-convert\" onclick=\"convertToInteractive('df-4c01648f-ea75-48f6-b903-93a536ad82bf')\"\n",
              "              title=\"Convert this dataframe to an interactive table.\"\n",
              "              style=\"display:none;\">\n",
              "        \n",
              "  <svg xmlns=\"http://www.w3.org/2000/svg\" height=\"24px\"viewBox=\"0 0 24 24\"\n",
              "       width=\"24px\">\n",
              "    <path d=\"M0 0h24v24H0V0z\" fill=\"none\"/>\n",
              "    <path d=\"M18.56 5.44l.94 2.06.94-2.06 2.06-.94-2.06-.94-.94-2.06-.94 2.06-2.06.94zm-11 1L8.5 8.5l.94-2.06 2.06-.94-2.06-.94L8.5 2.5l-.94 2.06-2.06.94zm10 10l.94 2.06.94-2.06 2.06-.94-2.06-.94-.94-2.06-.94 2.06-2.06.94z\"/><path d=\"M17.41 7.96l-1.37-1.37c-.4-.4-.92-.59-1.43-.59-.52 0-1.04.2-1.43.59L10.3 9.45l-7.72 7.72c-.78.78-.78 2.05 0 2.83L4 21.41c.39.39.9.59 1.41.59.51 0 1.02-.2 1.41-.59l7.78-7.78 2.81-2.81c.8-.78.8-2.07 0-2.86zM5.41 20L4 18.59l7.72-7.72 1.47 1.35L5.41 20z\"/>\n",
              "  </svg>\n",
              "      </button>\n",
              "      \n",
              "  <style>\n",
              "    .colab-df-container {\n",
              "      display:flex;\n",
              "      flex-wrap:wrap;\n",
              "      gap: 12px;\n",
              "    }\n",
              "\n",
              "    .colab-df-convert {\n",
              "      background-color: #E8F0FE;\n",
              "      border: none;\n",
              "      border-radius: 50%;\n",
              "      cursor: pointer;\n",
              "      display: none;\n",
              "      fill: #1967D2;\n",
              "      height: 32px;\n",
              "      padding: 0 0 0 0;\n",
              "      width: 32px;\n",
              "    }\n",
              "\n",
              "    .colab-df-convert:hover {\n",
              "      background-color: #E2EBFA;\n",
              "      box-shadow: 0px 1px 2px rgba(60, 64, 67, 0.3), 0px 1px 3px 1px rgba(60, 64, 67, 0.15);\n",
              "      fill: #174EA6;\n",
              "    }\n",
              "\n",
              "    [theme=dark] .colab-df-convert {\n",
              "      background-color: #3B4455;\n",
              "      fill: #D2E3FC;\n",
              "    }\n",
              "\n",
              "    [theme=dark] .colab-df-convert:hover {\n",
              "      background-color: #434B5C;\n",
              "      box-shadow: 0px 1px 3px 1px rgba(0, 0, 0, 0.15);\n",
              "      filter: drop-shadow(0px 1px 2px rgba(0, 0, 0, 0.3));\n",
              "      fill: #FFFFFF;\n",
              "    }\n",
              "  </style>\n",
              "\n",
              "      <script>\n",
              "        const buttonEl =\n",
              "          document.querySelector('#df-4c01648f-ea75-48f6-b903-93a536ad82bf button.colab-df-convert');\n",
              "        buttonEl.style.display =\n",
              "          google.colab.kernel.accessAllowed ? 'block' : 'none';\n",
              "\n",
              "        async function convertToInteractive(key) {\n",
              "          const element = document.querySelector('#df-4c01648f-ea75-48f6-b903-93a536ad82bf');\n",
              "          const dataTable =\n",
              "            await google.colab.kernel.invokeFunction('convertToInteractive',\n",
              "                                                     [key], {});\n",
              "          if (!dataTable) return;\n",
              "\n",
              "          const docLinkHtml = 'Like what you see? Visit the ' +\n",
              "            '<a target=\"_blank\" href=https://colab.research.google.com/notebooks/data_table.ipynb>data table notebook</a>'\n",
              "            + ' to learn more about interactive tables.';\n",
              "          element.innerHTML = '';\n",
              "          dataTable['output_type'] = 'display_data';\n",
              "          await google.colab.output.renderOutput(dataTable, element);\n",
              "          const docLink = document.createElement('div');\n",
              "          docLink.innerHTML = docLinkHtml;\n",
              "          element.appendChild(docLink);\n",
              "        }\n",
              "      </script>\n",
              "    </div>\n",
              "  </div>\n",
              "  "
            ]
          },
          "metadata": {},
          "execution_count": 65
        }
      ]
    },
    {
      "cell_type": "code",
      "source": [
        "s_r = s_r.drop_duplicates(['survey_target_idx','survey_item_idx','answer_index']).reset_index(drop=True)"
      ],
      "metadata": {
        "id": "f44E1lHsEMsR"
      },
      "execution_count": null,
      "outputs": []
    },
    {
      "cell_type": "markdown",
      "source": [
        "## 컬럼 이름 변경"
      ],
      "metadata": {
        "id": "DDrr1y7O0R_J"
      }
    },
    {
      "cell_type": "code",
      "source": [
        "s_r = s_r.rename(columns={'idx':'svr_idx',\n",
        "                          'survey_target_idx':'svc_idx',\n",
        "                          'survey_item_idx':'svi_idx'})"
      ],
      "metadata": {
        "id": "ZJJZ-IrStyZb"
      },
      "execution_count": null,
      "outputs": []
    },
    {
      "cell_type": "code",
      "source": [
        "s_r.head()"
      ],
      "metadata": {
        "colab": {
          "base_uri": "https://localhost:8080/"
        },
        "id": "8UpmO-LgZbXy",
        "outputId": "6aaa69ff-33d0-4953-d3b5-e681a311f3c2"
      },
      "execution_count": null,
      "outputs": [
        {
          "output_type": "execute_result",
          "data": {
            "text/plain": [
              "   svr_idx  svc_idx  svi_idx  answer_index answer_content\n",
              "0      110      525      115             2         2017년 \n",
              "1      111      525      115             5          2020년\n",
              "2      112      525      116             0              2\n",
              "3      113      525      117             0            충성심\n",
              "4      114      525      118             0            기념품"
            ],
            "text/html": [
              "\n",
              "  <div id=\"df-7eae1fcc-18c8-400f-93f3-61e0e965c748\">\n",
              "    <div class=\"colab-df-container\">\n",
              "      <div>\n",
              "<style scoped>\n",
              "    .dataframe tbody tr th:only-of-type {\n",
              "        vertical-align: middle;\n",
              "    }\n",
              "\n",
              "    .dataframe tbody tr th {\n",
              "        vertical-align: top;\n",
              "    }\n",
              "\n",
              "    .dataframe thead th {\n",
              "        text-align: right;\n",
              "    }\n",
              "</style>\n",
              "<table border=\"1\" class=\"dataframe\">\n",
              "  <thead>\n",
              "    <tr style=\"text-align: right;\">\n",
              "      <th></th>\n",
              "      <th>svr_idx</th>\n",
              "      <th>svc_idx</th>\n",
              "      <th>svi_idx</th>\n",
              "      <th>answer_index</th>\n",
              "      <th>answer_content</th>\n",
              "    </tr>\n",
              "  </thead>\n",
              "  <tbody>\n",
              "    <tr>\n",
              "      <th>0</th>\n",
              "      <td>110</td>\n",
              "      <td>525</td>\n",
              "      <td>115</td>\n",
              "      <td>2</td>\n",
              "      <td>2017년</td>\n",
              "    </tr>\n",
              "    <tr>\n",
              "      <th>1</th>\n",
              "      <td>111</td>\n",
              "      <td>525</td>\n",
              "      <td>115</td>\n",
              "      <td>5</td>\n",
              "      <td>2020년</td>\n",
              "    </tr>\n",
              "    <tr>\n",
              "      <th>2</th>\n",
              "      <td>112</td>\n",
              "      <td>525</td>\n",
              "      <td>116</td>\n",
              "      <td>0</td>\n",
              "      <td>2</td>\n",
              "    </tr>\n",
              "    <tr>\n",
              "      <th>3</th>\n",
              "      <td>113</td>\n",
              "      <td>525</td>\n",
              "      <td>117</td>\n",
              "      <td>0</td>\n",
              "      <td>충성심</td>\n",
              "    </tr>\n",
              "    <tr>\n",
              "      <th>4</th>\n",
              "      <td>114</td>\n",
              "      <td>525</td>\n",
              "      <td>118</td>\n",
              "      <td>0</td>\n",
              "      <td>기념품</td>\n",
              "    </tr>\n",
              "  </tbody>\n",
              "</table>\n",
              "</div>\n",
              "      <button class=\"colab-df-convert\" onclick=\"convertToInteractive('df-7eae1fcc-18c8-400f-93f3-61e0e965c748')\"\n",
              "              title=\"Convert this dataframe to an interactive table.\"\n",
              "              style=\"display:none;\">\n",
              "        \n",
              "  <svg xmlns=\"http://www.w3.org/2000/svg\" height=\"24px\"viewBox=\"0 0 24 24\"\n",
              "       width=\"24px\">\n",
              "    <path d=\"M0 0h24v24H0V0z\" fill=\"none\"/>\n",
              "    <path d=\"M18.56 5.44l.94 2.06.94-2.06 2.06-.94-2.06-.94-.94-2.06-.94 2.06-2.06.94zm-11 1L8.5 8.5l.94-2.06 2.06-.94-2.06-.94L8.5 2.5l-.94 2.06-2.06.94zm10 10l.94 2.06.94-2.06 2.06-.94-2.06-.94-.94-2.06-.94 2.06-2.06.94z\"/><path d=\"M17.41 7.96l-1.37-1.37c-.4-.4-.92-.59-1.43-.59-.52 0-1.04.2-1.43.59L10.3 9.45l-7.72 7.72c-.78.78-.78 2.05 0 2.83L4 21.41c.39.39.9.59 1.41.59.51 0 1.02-.2 1.41-.59l7.78-7.78 2.81-2.81c.8-.78.8-2.07 0-2.86zM5.41 20L4 18.59l7.72-7.72 1.47 1.35L5.41 20z\"/>\n",
              "  </svg>\n",
              "      </button>\n",
              "      \n",
              "  <style>\n",
              "    .colab-df-container {\n",
              "      display:flex;\n",
              "      flex-wrap:wrap;\n",
              "      gap: 12px;\n",
              "    }\n",
              "\n",
              "    .colab-df-convert {\n",
              "      background-color: #E8F0FE;\n",
              "      border: none;\n",
              "      border-radius: 50%;\n",
              "      cursor: pointer;\n",
              "      display: none;\n",
              "      fill: #1967D2;\n",
              "      height: 32px;\n",
              "      padding: 0 0 0 0;\n",
              "      width: 32px;\n",
              "    }\n",
              "\n",
              "    .colab-df-convert:hover {\n",
              "      background-color: #E2EBFA;\n",
              "      box-shadow: 0px 1px 2px rgba(60, 64, 67, 0.3), 0px 1px 3px 1px rgba(60, 64, 67, 0.15);\n",
              "      fill: #174EA6;\n",
              "    }\n",
              "\n",
              "    [theme=dark] .colab-df-convert {\n",
              "      background-color: #3B4455;\n",
              "      fill: #D2E3FC;\n",
              "    }\n",
              "\n",
              "    [theme=dark] .colab-df-convert:hover {\n",
              "      background-color: #434B5C;\n",
              "      box-shadow: 0px 1px 3px 1px rgba(0, 0, 0, 0.15);\n",
              "      filter: drop-shadow(0px 1px 2px rgba(0, 0, 0, 0.3));\n",
              "      fill: #FFFFFF;\n",
              "    }\n",
              "  </style>\n",
              "\n",
              "      <script>\n",
              "        const buttonEl =\n",
              "          document.querySelector('#df-7eae1fcc-18c8-400f-93f3-61e0e965c748 button.colab-df-convert');\n",
              "        buttonEl.style.display =\n",
              "          google.colab.kernel.accessAllowed ? 'block' : 'none';\n",
              "\n",
              "        async function convertToInteractive(key) {\n",
              "          const element = document.querySelector('#df-7eae1fcc-18c8-400f-93f3-61e0e965c748');\n",
              "          const dataTable =\n",
              "            await google.colab.kernel.invokeFunction('convertToInteractive',\n",
              "                                                     [key], {});\n",
              "          if (!dataTable) return;\n",
              "\n",
              "          const docLinkHtml = 'Like what you see? Visit the ' +\n",
              "            '<a target=\"_blank\" href=https://colab.research.google.com/notebooks/data_table.ipynb>data table notebook</a>'\n",
              "            + ' to learn more about interactive tables.';\n",
              "          element.innerHTML = '';\n",
              "          dataTable['output_type'] = 'display_data';\n",
              "          await google.colab.output.renderOutput(dataTable, element);\n",
              "          const docLink = document.createElement('div');\n",
              "          docLink.innerHTML = docLinkHtml;\n",
              "          element.appendChild(docLink);\n",
              "        }\n",
              "      </script>\n",
              "    </div>\n",
              "  </div>\n",
              "  "
            ]
          },
          "metadata": {},
          "execution_count": 68
        }
      ]
    },
    {
      "cell_type": "markdown",
      "source": [
        "## 저장"
      ],
      "metadata": {
        "id": "mUnYE0pdazAP"
      }
    },
    {
      "cell_type": "code",
      "source": [
        "s_r.to_csv('new_survey_result.csv', index=False)"
      ],
      "metadata": {
        "id": "hw5L5CeVaogN"
      },
      "execution_count": null,
      "outputs": []
    },
    {
      "cell_type": "markdown",
      "source": [
        "\n",
        "\n",
        "---\n",
        "\n"
      ],
      "metadata": {
        "id": "CUEC_E2Glham"
      }
    },
    {
      "cell_type": "markdown",
      "source": [
        "# new_game_result"
      ],
      "metadata": {
        "id": "q6cx3d060qSR"
      }
    },
    {
      "cell_type": "markdown",
      "source": [
        "## XML 파싱하고 데이터 프레임으로 만들기"
      ],
      "metadata": {
        "id": "wTv88aGX03ZF"
      }
    },
    {
      "cell_type": "code",
      "source": [
        "import xml.etree.ElementTree as ET"
      ],
      "metadata": {
        "id": "shI-nuvOq2HP"
      },
      "execution_count": null,
      "outputs": []
    },
    {
      "cell_type": "code",
      "source": [
        "f = open('/content/2022년 경기일정 XML 파일.xml', 'r', encoding='euc-kr')\n",
        "text = f.read()\n",
        "f.close()\n",
        "\n",
        "root = ET.fromstring(text)"
      ],
      "metadata": {
        "id": "WHfdhI1ytGJp"
      },
      "execution_count": null,
      "outputs": []
    },
    {
      "cell_type": "code",
      "source": [
        "for i, child in enumerate(root):\n",
        "    if i == 1:\n",
        "        game_attrib = list(child.attrib.keys())\n",
        "    if i == 223:\n",
        "        none_attrib = list(child.attrib.keys())"
      ],
      "metadata": {
        "id": "imJ0vTt6y419"
      },
      "execution_count": null,
      "outputs": []
    },
    {
      "cell_type": "code",
      "source": [
        "for child in root:\n",
        "    if none_attrib == list(child.attrib.keys()):\n",
        "        print(child.attrib)\n",
        "# K리그 223~228번 게임은 관중 수가 0으로 기록되어있고, 인천은 홈팀이 아니어서 필요한 데이터는 아닐 것 같다."
      ],
      "metadata": {
        "colab": {
          "base_uri": "https://localhost:8080/"
        },
        "id": "Leug_tpP2zo2",
        "outputId": "a8a53c8b-d8e4-41af-cb5d-d006a91bab1f"
      },
      "execution_count": null,
      "outputs": [
        {
          "output_type": "stream",
          "name": "stdout",
          "text": [
            "{'meet_year': '2022', 'meet_seq': '1', 'meet_name': '하나원큐 K리그1 2022', 'game_id': '223', 'game_date': '2022/10/22', 'yoil': '토', 'game_time': '15:00', 'home_team': 'K29', 'home_team_name': '수원FC', 'away_team': 'K09', 'away_team_name': '서울', 'field_id': '4', 'field_name': '수원', 'game_type': '24', 'game_type_name': '파이널B', 'audience': '0'}\n",
            "{'meet_year': '2022', 'meet_seq': '1', 'meet_name': '하나원큐 K리그1 2022', 'game_id': '224', 'game_date': '2022/10/22', 'yoil': '토', 'game_time': '15:00', 'home_team': 'K35', 'home_team_name': '김천', 'away_team': 'K02', 'away_team_name': '수원', 'field_id': '118', 'field_name': '김천', 'game_type': '24', 'game_type_name': '파이널B', 'audience': '0'}\n",
            "{'meet_year': '2022', 'meet_seq': '1', 'meet_name': '하나원큐 K리그1 2022', 'game_id': '225', 'game_date': '2022/10/22', 'yoil': '토', 'game_time': '15:00', 'home_team': 'K08', 'home_team_name': '성남', 'away_team': 'K17', 'away_team_name': '대구', 'field_id': '84', 'field_name': '탄천', 'game_type': '24', 'game_type_name': '파이널B', 'audience': '0'}\n",
            "{'meet_year': '2022', 'meet_seq': '1', 'meet_name': '하나원큐 K리그1 2022', 'game_id': '226', 'game_date': '2022/10/23', 'yoil': '일', 'game_time': '15:00', 'home_team': 'K01', 'home_team_name': '울산', 'away_team': 'K04', 'away_team_name': '제주', 'field_id': '68', 'field_name': '문수', 'game_type': '23', 'game_type_name': '파이널A', 'audience': '0'}\n",
            "{'meet_year': '2022', 'meet_seq': '1', 'meet_name': '하나원큐 K리그1 2022', 'game_id': '227', 'game_date': '2022/10/23', 'yoil': '일', 'game_time': '15:00', 'home_team': 'K05', 'home_team_name': '전북', 'away_team': 'K18', 'away_team_name': '인천', 'field_id': '71', 'field_name': '전주W', 'game_type': '23', 'game_type_name': '파이널A', 'audience': '0'}\n",
            "{'meet_year': '2022', 'meet_seq': '1', 'meet_name': '하나원큐 K리그1 2022', 'game_id': '228', 'game_date': '2022/10/23', 'yoil': '일', 'game_time': '15:00', 'home_team': 'K03', 'home_team_name': '포항', 'away_team': 'K21', 'away_team_name': '강원', 'field_id': '14', 'field_name': '포항', 'game_type': '23', 'game_type_name': '파이널A', 'audience': '0'}\n"
          ]
        }
      ]
    },
    {
      "cell_type": "code",
      "source": [
        "league_datas = []\n",
        "for i in game_attrib:\n",
        "    list_ = []\n",
        "    for child in root:\n",
        "        if game_attrib == list(child.attrib.keys()):\n",
        "            list_.append(child.attrib[i])\n",
        "    league_datas.append(list_)\n",
        "\n",
        "gr = pd.DataFrame(league_datas).T\n",
        "\n",
        "gr.columns = game_attrib\n",
        "\n",
        "gr['game_date'] = gr['game_date'].str.replace('/', '-')\n",
        "\n",
        "gr = gr[['game_id','game_date','yoil','game_time','home_team','home_team_name','home_team_goal',\n",
        "                           'away_team','away_team_name','away_team_goal','game_type','game_type_name','audience']]\n",
        "\n",
        "gr = gr.rename(columns={'game_date':'date',\n",
        "                                          'game_time':'time'})"
      ],
      "metadata": {
        "id": "ul9-hj1C4gvd"
      },
      "execution_count": null,
      "outputs": []
    },
    {
      "cell_type": "code",
      "source": [
        "gr['date'] = pd.to_datetime(gr['date'])"
      ],
      "metadata": {
        "id": "wWONX2Wr_0sw"
      },
      "execution_count": null,
      "outputs": []
    },
    {
      "cell_type": "code",
      "source": [
        "gr.head()"
      ],
      "metadata": {
        "colab": {
          "base_uri": "https://localhost:8080/"
        },
        "id": "Lp74q2aYrvrY",
        "outputId": "a62a918f-0e82-4771-df14-1879394d5d48"
      },
      "execution_count": null,
      "outputs": [
        {
          "output_type": "execute_result",
          "data": {
            "text/plain": [
              "  game_id       date yoil   time home_team home_team_name home_team_goal  \\\n",
              "0       1 2022-02-19    토  14:00       K05             전북              1   \n",
              "1       2 2022-02-19    토  16:30       K17             대구              0   \n",
              "2       3 2022-02-19    토  16:30       K18             인천              1   \n",
              "3       4 2022-02-20    일  14:00       K04             제주              0   \n",
              "4       5 2022-02-20    일  14:00       K21             강원              2   \n",
              "\n",
              "  away_team away_team_name away_team_goal game_type game_type_name audience  \n",
              "0       K29           수원FC              0        21          스플릿일반     7715  \n",
              "1       K09             서울              2        21          스플릿일반     8082  \n",
              "2       K02             수원              0        21          스플릿일반     5382  \n",
              "3       K03             포항              3        21          스플릿일반     2514  \n",
              "4       K08             성남              0        21          스플릿일반     1933  "
            ],
            "text/html": [
              "\n",
              "  <div id=\"df-bccedd15-a80d-4f5e-888e-8e00cb201601\">\n",
              "    <div class=\"colab-df-container\">\n",
              "      <div>\n",
              "<style scoped>\n",
              "    .dataframe tbody tr th:only-of-type {\n",
              "        vertical-align: middle;\n",
              "    }\n",
              "\n",
              "    .dataframe tbody tr th {\n",
              "        vertical-align: top;\n",
              "    }\n",
              "\n",
              "    .dataframe thead th {\n",
              "        text-align: right;\n",
              "    }\n",
              "</style>\n",
              "<table border=\"1\" class=\"dataframe\">\n",
              "  <thead>\n",
              "    <tr style=\"text-align: right;\">\n",
              "      <th></th>\n",
              "      <th>game_id</th>\n",
              "      <th>date</th>\n",
              "      <th>yoil</th>\n",
              "      <th>time</th>\n",
              "      <th>home_team</th>\n",
              "      <th>home_team_name</th>\n",
              "      <th>home_team_goal</th>\n",
              "      <th>away_team</th>\n",
              "      <th>away_team_name</th>\n",
              "      <th>away_team_goal</th>\n",
              "      <th>game_type</th>\n",
              "      <th>game_type_name</th>\n",
              "      <th>audience</th>\n",
              "    </tr>\n",
              "  </thead>\n",
              "  <tbody>\n",
              "    <tr>\n",
              "      <th>0</th>\n",
              "      <td>1</td>\n",
              "      <td>2022-02-19</td>\n",
              "      <td>토</td>\n",
              "      <td>14:00</td>\n",
              "      <td>K05</td>\n",
              "      <td>전북</td>\n",
              "      <td>1</td>\n",
              "      <td>K29</td>\n",
              "      <td>수원FC</td>\n",
              "      <td>0</td>\n",
              "      <td>21</td>\n",
              "      <td>스플릿일반</td>\n",
              "      <td>7715</td>\n",
              "    </tr>\n",
              "    <tr>\n",
              "      <th>1</th>\n",
              "      <td>2</td>\n",
              "      <td>2022-02-19</td>\n",
              "      <td>토</td>\n",
              "      <td>16:30</td>\n",
              "      <td>K17</td>\n",
              "      <td>대구</td>\n",
              "      <td>0</td>\n",
              "      <td>K09</td>\n",
              "      <td>서울</td>\n",
              "      <td>2</td>\n",
              "      <td>21</td>\n",
              "      <td>스플릿일반</td>\n",
              "      <td>8082</td>\n",
              "    </tr>\n",
              "    <tr>\n",
              "      <th>2</th>\n",
              "      <td>3</td>\n",
              "      <td>2022-02-19</td>\n",
              "      <td>토</td>\n",
              "      <td>16:30</td>\n",
              "      <td>K18</td>\n",
              "      <td>인천</td>\n",
              "      <td>1</td>\n",
              "      <td>K02</td>\n",
              "      <td>수원</td>\n",
              "      <td>0</td>\n",
              "      <td>21</td>\n",
              "      <td>스플릿일반</td>\n",
              "      <td>5382</td>\n",
              "    </tr>\n",
              "    <tr>\n",
              "      <th>3</th>\n",
              "      <td>4</td>\n",
              "      <td>2022-02-20</td>\n",
              "      <td>일</td>\n",
              "      <td>14:00</td>\n",
              "      <td>K04</td>\n",
              "      <td>제주</td>\n",
              "      <td>0</td>\n",
              "      <td>K03</td>\n",
              "      <td>포항</td>\n",
              "      <td>3</td>\n",
              "      <td>21</td>\n",
              "      <td>스플릿일반</td>\n",
              "      <td>2514</td>\n",
              "    </tr>\n",
              "    <tr>\n",
              "      <th>4</th>\n",
              "      <td>5</td>\n",
              "      <td>2022-02-20</td>\n",
              "      <td>일</td>\n",
              "      <td>14:00</td>\n",
              "      <td>K21</td>\n",
              "      <td>강원</td>\n",
              "      <td>2</td>\n",
              "      <td>K08</td>\n",
              "      <td>성남</td>\n",
              "      <td>0</td>\n",
              "      <td>21</td>\n",
              "      <td>스플릿일반</td>\n",
              "      <td>1933</td>\n",
              "    </tr>\n",
              "  </tbody>\n",
              "</table>\n",
              "</div>\n",
              "      <button class=\"colab-df-convert\" onclick=\"convertToInteractive('df-bccedd15-a80d-4f5e-888e-8e00cb201601')\"\n",
              "              title=\"Convert this dataframe to an interactive table.\"\n",
              "              style=\"display:none;\">\n",
              "        \n",
              "  <svg xmlns=\"http://www.w3.org/2000/svg\" height=\"24px\"viewBox=\"0 0 24 24\"\n",
              "       width=\"24px\">\n",
              "    <path d=\"M0 0h24v24H0V0z\" fill=\"none\"/>\n",
              "    <path d=\"M18.56 5.44l.94 2.06.94-2.06 2.06-.94-2.06-.94-.94-2.06-.94 2.06-2.06.94zm-11 1L8.5 8.5l.94-2.06 2.06-.94-2.06-.94L8.5 2.5l-.94 2.06-2.06.94zm10 10l.94 2.06.94-2.06 2.06-.94-2.06-.94-.94-2.06-.94 2.06-2.06.94z\"/><path d=\"M17.41 7.96l-1.37-1.37c-.4-.4-.92-.59-1.43-.59-.52 0-1.04.2-1.43.59L10.3 9.45l-7.72 7.72c-.78.78-.78 2.05 0 2.83L4 21.41c.39.39.9.59 1.41.59.51 0 1.02-.2 1.41-.59l7.78-7.78 2.81-2.81c.8-.78.8-2.07 0-2.86zM5.41 20L4 18.59l7.72-7.72 1.47 1.35L5.41 20z\"/>\n",
              "  </svg>\n",
              "      </button>\n",
              "      \n",
              "  <style>\n",
              "    .colab-df-container {\n",
              "      display:flex;\n",
              "      flex-wrap:wrap;\n",
              "      gap: 12px;\n",
              "    }\n",
              "\n",
              "    .colab-df-convert {\n",
              "      background-color: #E8F0FE;\n",
              "      border: none;\n",
              "      border-radius: 50%;\n",
              "      cursor: pointer;\n",
              "      display: none;\n",
              "      fill: #1967D2;\n",
              "      height: 32px;\n",
              "      padding: 0 0 0 0;\n",
              "      width: 32px;\n",
              "    }\n",
              "\n",
              "    .colab-df-convert:hover {\n",
              "      background-color: #E2EBFA;\n",
              "      box-shadow: 0px 1px 2px rgba(60, 64, 67, 0.3), 0px 1px 3px 1px rgba(60, 64, 67, 0.15);\n",
              "      fill: #174EA6;\n",
              "    }\n",
              "\n",
              "    [theme=dark] .colab-df-convert {\n",
              "      background-color: #3B4455;\n",
              "      fill: #D2E3FC;\n",
              "    }\n",
              "\n",
              "    [theme=dark] .colab-df-convert:hover {\n",
              "      background-color: #434B5C;\n",
              "      box-shadow: 0px 1px 3px 1px rgba(0, 0, 0, 0.15);\n",
              "      filter: drop-shadow(0px 1px 2px rgba(0, 0, 0, 0.3));\n",
              "      fill: #FFFFFF;\n",
              "    }\n",
              "  </style>\n",
              "\n",
              "      <script>\n",
              "        const buttonEl =\n",
              "          document.querySelector('#df-bccedd15-a80d-4f5e-888e-8e00cb201601 button.colab-df-convert');\n",
              "        buttonEl.style.display =\n",
              "          google.colab.kernel.accessAllowed ? 'block' : 'none';\n",
              "\n",
              "        async function convertToInteractive(key) {\n",
              "          const element = document.querySelector('#df-bccedd15-a80d-4f5e-888e-8e00cb201601');\n",
              "          const dataTable =\n",
              "            await google.colab.kernel.invokeFunction('convertToInteractive',\n",
              "                                                     [key], {});\n",
              "          if (!dataTable) return;\n",
              "\n",
              "          const docLinkHtml = 'Like what you see? Visit the ' +\n",
              "            '<a target=\"_blank\" href=https://colab.research.google.com/notebooks/data_table.ipynb>data table notebook</a>'\n",
              "            + ' to learn more about interactive tables.';\n",
              "          element.innerHTML = '';\n",
              "          dataTable['output_type'] = 'display_data';\n",
              "          await google.colab.output.renderOutput(dataTable, element);\n",
              "          const docLink = document.createElement('div');\n",
              "          docLink.innerHTML = docLinkHtml;\n",
              "          element.appendChild(docLink);\n",
              "        }\n",
              "      </script>\n",
              "    </div>\n",
              "  </div>\n",
              "  "
            ]
          },
          "metadata": {},
          "execution_count": 76
        }
      ]
    },
    {
      "cell_type": "markdown",
      "source": [
        "## 인천 홈 경기만 남기고 그룹화 및 정리"
      ],
      "metadata": {
        "id": "xIJ6aoIb-jAu"
      }
    },
    {
      "cell_type": "code",
      "source": [
        "gri = gr[gr['home_team_name'] == '인천'].reset_index(drop=True)"
      ],
      "metadata": {
        "id": "elvhpBVx6zA9"
      },
      "execution_count": null,
      "outputs": []
    },
    {
      "cell_type": "code",
      "source": [
        "gri['weekend_yn'] = gri['yoil'].apply(lambda x: 1 if x == '토' or x == '일' else 0)\n",
        "gri['night_yn'] = gri['time'].apply(lambda x: 1 if int(str(x)[:2]) >= 18 else 0)\n",
        "gri['final_yn'] = gri['game_type_name'].apply(lambda x: 0 if x == '스플릿일반' else 1)\n",
        "gri['goal_diff'] = gri['home_team_goal'].astype(int) - gri['away_team_goal'].astype(int)\n",
        "gri['game_result'] = gri['goal_diff'].apply(lambda x: 1 if x >=1 else (0.5 if x == 0 else 0))"
      ],
      "metadata": {
        "id": "yHORkLvT7E0Y"
      },
      "execution_count": null,
      "outputs": []
    },
    {
      "cell_type": "code",
      "source": [
        "gri.columns"
      ],
      "metadata": {
        "colab": {
          "base_uri": "https://localhost:8080/"
        },
        "id": "BvA5NDUT90WB",
        "outputId": "788cf9b9-15bb-4efc-8472-40a0b8365ba3"
      },
      "execution_count": null,
      "outputs": [
        {
          "output_type": "execute_result",
          "data": {
            "text/plain": [
              "Index(['game_id', 'date', 'yoil', 'time', 'home_team', 'home_team_name',\n",
              "       'home_team_goal', 'away_team', 'away_team_name', 'away_team_goal',\n",
              "       'game_type', 'game_type_name', 'audience', 'weekend_yn', 'night_yn',\n",
              "       'final_yn', 'goal_diff', 'game_result'],\n",
              "      dtype='object')"
            ]
          },
          "metadata": {},
          "execution_count": 79
        }
      ]
    },
    {
      "cell_type": "code",
      "source": [
        "gri = gri[['date','weekend_yn','night_yn','final_yn','home_team_goal','away_team_name','goal_diff','game_result','audience']]"
      ],
      "metadata": {
        "id": "sfrK2kYR91st"
      },
      "execution_count": null,
      "outputs": []
    },
    {
      "cell_type": "code",
      "source": [
        "gri.head()"
      ],
      "metadata": {
        "colab": {
          "base_uri": "https://localhost:8080/"
        },
        "id": "ygYypIsb7DJf",
        "outputId": "db1676f3-5359-45c4-b7ad-cfbe6cd4f3c1"
      },
      "execution_count": null,
      "outputs": [
        {
          "output_type": "execute_result",
          "data": {
            "text/plain": [
              "        date  weekend_yn  night_yn  final_yn home_team_goal away_team_name  \\\n",
              "0 2022-02-19           1         0         0              1             수원   \n",
              "1 2022-02-26           1         0         0              1             서울   \n",
              "2 2022-03-05           1         1         0              0             포항   \n",
              "3 2022-03-13           1         0         0              1             김천   \n",
              "4 2022-04-02           1         0         0              1             울산   \n",
              "\n",
              "   goal_diff  game_result audience  \n",
              "0          1          1.0     5382  \n",
              "1          0          0.5     4618  \n",
              "2         -1          0.0     3581  \n",
              "3          1          1.0     2607  \n",
              "4          0          0.5     7054  "
            ],
            "text/html": [
              "\n",
              "  <div id=\"df-b33e3195-8735-4cd2-bfe5-6e26479351a4\">\n",
              "    <div class=\"colab-df-container\">\n",
              "      <div>\n",
              "<style scoped>\n",
              "    .dataframe tbody tr th:only-of-type {\n",
              "        vertical-align: middle;\n",
              "    }\n",
              "\n",
              "    .dataframe tbody tr th {\n",
              "        vertical-align: top;\n",
              "    }\n",
              "\n",
              "    .dataframe thead th {\n",
              "        text-align: right;\n",
              "    }\n",
              "</style>\n",
              "<table border=\"1\" class=\"dataframe\">\n",
              "  <thead>\n",
              "    <tr style=\"text-align: right;\">\n",
              "      <th></th>\n",
              "      <th>date</th>\n",
              "      <th>weekend_yn</th>\n",
              "      <th>night_yn</th>\n",
              "      <th>final_yn</th>\n",
              "      <th>home_team_goal</th>\n",
              "      <th>away_team_name</th>\n",
              "      <th>goal_diff</th>\n",
              "      <th>game_result</th>\n",
              "      <th>audience</th>\n",
              "    </tr>\n",
              "  </thead>\n",
              "  <tbody>\n",
              "    <tr>\n",
              "      <th>0</th>\n",
              "      <td>2022-02-19</td>\n",
              "      <td>1</td>\n",
              "      <td>0</td>\n",
              "      <td>0</td>\n",
              "      <td>1</td>\n",
              "      <td>수원</td>\n",
              "      <td>1</td>\n",
              "      <td>1.0</td>\n",
              "      <td>5382</td>\n",
              "    </tr>\n",
              "    <tr>\n",
              "      <th>1</th>\n",
              "      <td>2022-02-26</td>\n",
              "      <td>1</td>\n",
              "      <td>0</td>\n",
              "      <td>0</td>\n",
              "      <td>1</td>\n",
              "      <td>서울</td>\n",
              "      <td>0</td>\n",
              "      <td>0.5</td>\n",
              "      <td>4618</td>\n",
              "    </tr>\n",
              "    <tr>\n",
              "      <th>2</th>\n",
              "      <td>2022-03-05</td>\n",
              "      <td>1</td>\n",
              "      <td>1</td>\n",
              "      <td>0</td>\n",
              "      <td>0</td>\n",
              "      <td>포항</td>\n",
              "      <td>-1</td>\n",
              "      <td>0.0</td>\n",
              "      <td>3581</td>\n",
              "    </tr>\n",
              "    <tr>\n",
              "      <th>3</th>\n",
              "      <td>2022-03-13</td>\n",
              "      <td>1</td>\n",
              "      <td>0</td>\n",
              "      <td>0</td>\n",
              "      <td>1</td>\n",
              "      <td>김천</td>\n",
              "      <td>1</td>\n",
              "      <td>1.0</td>\n",
              "      <td>2607</td>\n",
              "    </tr>\n",
              "    <tr>\n",
              "      <th>4</th>\n",
              "      <td>2022-04-02</td>\n",
              "      <td>1</td>\n",
              "      <td>0</td>\n",
              "      <td>0</td>\n",
              "      <td>1</td>\n",
              "      <td>울산</td>\n",
              "      <td>0</td>\n",
              "      <td>0.5</td>\n",
              "      <td>7054</td>\n",
              "    </tr>\n",
              "  </tbody>\n",
              "</table>\n",
              "</div>\n",
              "      <button class=\"colab-df-convert\" onclick=\"convertToInteractive('df-b33e3195-8735-4cd2-bfe5-6e26479351a4')\"\n",
              "              title=\"Convert this dataframe to an interactive table.\"\n",
              "              style=\"display:none;\">\n",
              "        \n",
              "  <svg xmlns=\"http://www.w3.org/2000/svg\" height=\"24px\"viewBox=\"0 0 24 24\"\n",
              "       width=\"24px\">\n",
              "    <path d=\"M0 0h24v24H0V0z\" fill=\"none\"/>\n",
              "    <path d=\"M18.56 5.44l.94 2.06.94-2.06 2.06-.94-2.06-.94-.94-2.06-.94 2.06-2.06.94zm-11 1L8.5 8.5l.94-2.06 2.06-.94-2.06-.94L8.5 2.5l-.94 2.06-2.06.94zm10 10l.94 2.06.94-2.06 2.06-.94-2.06-.94-.94-2.06-.94 2.06-2.06.94z\"/><path d=\"M17.41 7.96l-1.37-1.37c-.4-.4-.92-.59-1.43-.59-.52 0-1.04.2-1.43.59L10.3 9.45l-7.72 7.72c-.78.78-.78 2.05 0 2.83L4 21.41c.39.39.9.59 1.41.59.51 0 1.02-.2 1.41-.59l7.78-7.78 2.81-2.81c.8-.78.8-2.07 0-2.86zM5.41 20L4 18.59l7.72-7.72 1.47 1.35L5.41 20z\"/>\n",
              "  </svg>\n",
              "      </button>\n",
              "      \n",
              "  <style>\n",
              "    .colab-df-container {\n",
              "      display:flex;\n",
              "      flex-wrap:wrap;\n",
              "      gap: 12px;\n",
              "    }\n",
              "\n",
              "    .colab-df-convert {\n",
              "      background-color: #E8F0FE;\n",
              "      border: none;\n",
              "      border-radius: 50%;\n",
              "      cursor: pointer;\n",
              "      display: none;\n",
              "      fill: #1967D2;\n",
              "      height: 32px;\n",
              "      padding: 0 0 0 0;\n",
              "      width: 32px;\n",
              "    }\n",
              "\n",
              "    .colab-df-convert:hover {\n",
              "      background-color: #E2EBFA;\n",
              "      box-shadow: 0px 1px 2px rgba(60, 64, 67, 0.3), 0px 1px 3px 1px rgba(60, 64, 67, 0.15);\n",
              "      fill: #174EA6;\n",
              "    }\n",
              "\n",
              "    [theme=dark] .colab-df-convert {\n",
              "      background-color: #3B4455;\n",
              "      fill: #D2E3FC;\n",
              "    }\n",
              "\n",
              "    [theme=dark] .colab-df-convert:hover {\n",
              "      background-color: #434B5C;\n",
              "      box-shadow: 0px 1px 3px 1px rgba(0, 0, 0, 0.15);\n",
              "      filter: drop-shadow(0px 1px 2px rgba(0, 0, 0, 0.3));\n",
              "      fill: #FFFFFF;\n",
              "    }\n",
              "  </style>\n",
              "\n",
              "      <script>\n",
              "        const buttonEl =\n",
              "          document.querySelector('#df-b33e3195-8735-4cd2-bfe5-6e26479351a4 button.colab-df-convert');\n",
              "        buttonEl.style.display =\n",
              "          google.colab.kernel.accessAllowed ? 'block' : 'none';\n",
              "\n",
              "        async function convertToInteractive(key) {\n",
              "          const element = document.querySelector('#df-b33e3195-8735-4cd2-bfe5-6e26479351a4');\n",
              "          const dataTable =\n",
              "            await google.colab.kernel.invokeFunction('convertToInteractive',\n",
              "                                                     [key], {});\n",
              "          if (!dataTable) return;\n",
              "\n",
              "          const docLinkHtml = 'Like what you see? Visit the ' +\n",
              "            '<a target=\"_blank\" href=https://colab.research.google.com/notebooks/data_table.ipynb>data table notebook</a>'\n",
              "            + ' to learn more about interactive tables.';\n",
              "          element.innerHTML = '';\n",
              "          dataTable['output_type'] = 'display_data';\n",
              "          await google.colab.output.renderOutput(dataTable, element);\n",
              "          const docLink = document.createElement('div');\n",
              "          docLink.innerHTML = docLinkHtml;\n",
              "          element.appendChild(docLink);\n",
              "        }\n",
              "      </script>\n",
              "    </div>\n",
              "  </div>\n",
              "  "
            ]
          },
          "metadata": {},
          "execution_count": 81
        }
      ]
    },
    {
      "cell_type": "markdown",
      "source": [
        "## 저장"
      ],
      "metadata": {
        "id": "f73Xgerj32pm"
      }
    },
    {
      "cell_type": "code",
      "source": [
        "gri.to_csv('new_game_result.csv', index=False)"
      ],
      "metadata": {
        "id": "1Jz725jI6AV2"
      },
      "execution_count": null,
      "outputs": []
    },
    {
      "cell_type": "markdown",
      "source": [
        "\n",
        "\n",
        "---\n",
        "\n"
      ],
      "metadata": {
        "id": "r11vOTX5azm6"
      }
    },
    {
      "cell_type": "markdown",
      "source": [
        "# new_date_rank"
      ],
      "metadata": {
        "id": "ExQvm-Sx-pmf"
      }
    },
    {
      "cell_type": "code",
      "source": [
        "d_r = pd.read_excel('/content/인천유나이티드 일자별 순위.xlsx', header=None, names=['date','rank'])"
      ],
      "metadata": {
        "id": "IUNYelPAk9ik"
      },
      "execution_count": null,
      "outputs": []
    },
    {
      "cell_type": "code",
      "source": [
        "d_r['date'] = pd.to_datetime(d_r['date'])"
      ],
      "metadata": {
        "id": "7JoHJ0oY-xWq"
      },
      "execution_count": null,
      "outputs": []
    },
    {
      "cell_type": "code",
      "source": [
        "d_r.head()"
      ],
      "metadata": {
        "colab": {
          "base_uri": "https://localhost:8080/"
        },
        "id": "Gv8fm6y_HLCK",
        "outputId": "39e22e63-c52f-4939-fc7b-2ca411e42643"
      },
      "execution_count": null,
      "outputs": [
        {
          "output_type": "execute_result",
          "data": {
            "text/plain": [
              "        date  rank\n",
              "0 2019-03-02     4\n",
              "1 2019-03-03     5\n",
              "2 2019-03-09     3\n",
              "3 2019-03-10     5\n",
              "4 2019-03-16     5"
            ],
            "text/html": [
              "\n",
              "  <div id=\"df-3e1f119e-5cc5-41c5-8e35-d5bff94c09d5\">\n",
              "    <div class=\"colab-df-container\">\n",
              "      <div>\n",
              "<style scoped>\n",
              "    .dataframe tbody tr th:only-of-type {\n",
              "        vertical-align: middle;\n",
              "    }\n",
              "\n",
              "    .dataframe tbody tr th {\n",
              "        vertical-align: top;\n",
              "    }\n",
              "\n",
              "    .dataframe thead th {\n",
              "        text-align: right;\n",
              "    }\n",
              "</style>\n",
              "<table border=\"1\" class=\"dataframe\">\n",
              "  <thead>\n",
              "    <tr style=\"text-align: right;\">\n",
              "      <th></th>\n",
              "      <th>date</th>\n",
              "      <th>rank</th>\n",
              "    </tr>\n",
              "  </thead>\n",
              "  <tbody>\n",
              "    <tr>\n",
              "      <th>0</th>\n",
              "      <td>2019-03-02</td>\n",
              "      <td>4</td>\n",
              "    </tr>\n",
              "    <tr>\n",
              "      <th>1</th>\n",
              "      <td>2019-03-03</td>\n",
              "      <td>5</td>\n",
              "    </tr>\n",
              "    <tr>\n",
              "      <th>2</th>\n",
              "      <td>2019-03-09</td>\n",
              "      <td>3</td>\n",
              "    </tr>\n",
              "    <tr>\n",
              "      <th>3</th>\n",
              "      <td>2019-03-10</td>\n",
              "      <td>5</td>\n",
              "    </tr>\n",
              "    <tr>\n",
              "      <th>4</th>\n",
              "      <td>2019-03-16</td>\n",
              "      <td>5</td>\n",
              "    </tr>\n",
              "  </tbody>\n",
              "</table>\n",
              "</div>\n",
              "      <button class=\"colab-df-convert\" onclick=\"convertToInteractive('df-3e1f119e-5cc5-41c5-8e35-d5bff94c09d5')\"\n",
              "              title=\"Convert this dataframe to an interactive table.\"\n",
              "              style=\"display:none;\">\n",
              "        \n",
              "  <svg xmlns=\"http://www.w3.org/2000/svg\" height=\"24px\"viewBox=\"0 0 24 24\"\n",
              "       width=\"24px\">\n",
              "    <path d=\"M0 0h24v24H0V0z\" fill=\"none\"/>\n",
              "    <path d=\"M18.56 5.44l.94 2.06.94-2.06 2.06-.94-2.06-.94-.94-2.06-.94 2.06-2.06.94zm-11 1L8.5 8.5l.94-2.06 2.06-.94-2.06-.94L8.5 2.5l-.94 2.06-2.06.94zm10 10l.94 2.06.94-2.06 2.06-.94-2.06-.94-.94-2.06-.94 2.06-2.06.94z\"/><path d=\"M17.41 7.96l-1.37-1.37c-.4-.4-.92-.59-1.43-.59-.52 0-1.04.2-1.43.59L10.3 9.45l-7.72 7.72c-.78.78-.78 2.05 0 2.83L4 21.41c.39.39.9.59 1.41.59.51 0 1.02-.2 1.41-.59l7.78-7.78 2.81-2.81c.8-.78.8-2.07 0-2.86zM5.41 20L4 18.59l7.72-7.72 1.47 1.35L5.41 20z\"/>\n",
              "  </svg>\n",
              "      </button>\n",
              "      \n",
              "  <style>\n",
              "    .colab-df-container {\n",
              "      display:flex;\n",
              "      flex-wrap:wrap;\n",
              "      gap: 12px;\n",
              "    }\n",
              "\n",
              "    .colab-df-convert {\n",
              "      background-color: #E8F0FE;\n",
              "      border: none;\n",
              "      border-radius: 50%;\n",
              "      cursor: pointer;\n",
              "      display: none;\n",
              "      fill: #1967D2;\n",
              "      height: 32px;\n",
              "      padding: 0 0 0 0;\n",
              "      width: 32px;\n",
              "    }\n",
              "\n",
              "    .colab-df-convert:hover {\n",
              "      background-color: #E2EBFA;\n",
              "      box-shadow: 0px 1px 2px rgba(60, 64, 67, 0.3), 0px 1px 3px 1px rgba(60, 64, 67, 0.15);\n",
              "      fill: #174EA6;\n",
              "    }\n",
              "\n",
              "    [theme=dark] .colab-df-convert {\n",
              "      background-color: #3B4455;\n",
              "      fill: #D2E3FC;\n",
              "    }\n",
              "\n",
              "    [theme=dark] .colab-df-convert:hover {\n",
              "      background-color: #434B5C;\n",
              "      box-shadow: 0px 1px 3px 1px rgba(0, 0, 0, 0.15);\n",
              "      filter: drop-shadow(0px 1px 2px rgba(0, 0, 0, 0.3));\n",
              "      fill: #FFFFFF;\n",
              "    }\n",
              "  </style>\n",
              "\n",
              "      <script>\n",
              "        const buttonEl =\n",
              "          document.querySelector('#df-3e1f119e-5cc5-41c5-8e35-d5bff94c09d5 button.colab-df-convert');\n",
              "        buttonEl.style.display =\n",
              "          google.colab.kernel.accessAllowed ? 'block' : 'none';\n",
              "\n",
              "        async function convertToInteractive(key) {\n",
              "          const element = document.querySelector('#df-3e1f119e-5cc5-41c5-8e35-d5bff94c09d5');\n",
              "          const dataTable =\n",
              "            await google.colab.kernel.invokeFunction('convertToInteractive',\n",
              "                                                     [key], {});\n",
              "          if (!dataTable) return;\n",
              "\n",
              "          const docLinkHtml = 'Like what you see? Visit the ' +\n",
              "            '<a target=\"_blank\" href=https://colab.research.google.com/notebooks/data_table.ipynb>data table notebook</a>'\n",
              "            + ' to learn more about interactive tables.';\n",
              "          element.innerHTML = '';\n",
              "          dataTable['output_type'] = 'display_data';\n",
              "          await google.colab.output.renderOutput(dataTable, element);\n",
              "          const docLink = document.createElement('div');\n",
              "          docLink.innerHTML = docLinkHtml;\n",
              "          element.appendChild(docLink);\n",
              "        }\n",
              "      </script>\n",
              "    </div>\n",
              "  </div>\n",
              "  "
            ]
          },
          "metadata": {},
          "execution_count": 85
        }
      ]
    },
    {
      "cell_type": "markdown",
      "source": [
        "## 2022년 필터"
      ],
      "metadata": {
        "id": "LUFAFech_OD0"
      }
    },
    {
      "cell_type": "code",
      "source": [
        "d_r_2022 = d_r[d_r['date'].dt.year == 2022].reset_index(drop=True)"
      ],
      "metadata": {
        "id": "_yz95B5YzS1b"
      },
      "execution_count": null,
      "outputs": []
    },
    {
      "cell_type": "markdown",
      "source": [
        "## 저장"
      ],
      "metadata": {
        "id": "vlKSne1A_cj0"
      }
    },
    {
      "cell_type": "code",
      "source": [
        "d_r_2022.to_csv('new_date_rank.csv', index=False)"
      ],
      "metadata": {
        "id": "RekUXok_wFfc"
      },
      "execution_count": null,
      "outputs": []
    },
    {
      "cell_type": "markdown",
      "source": [
        "\n",
        "\n",
        "---\n",
        "\n"
      ],
      "metadata": {
        "id": "XcoS9BgqFIbv"
      }
    },
    {
      "cell_type": "markdown",
      "source": [
        "# new_no_cancel"
      ],
      "metadata": {
        "id": "QhD5rYLP_271"
      }
    },
    {
      "cell_type": "code",
      "source": [
        "rt = pd.read_csv('/content/reserve_ticket_2022.csv')"
      ],
      "metadata": {
        "id": "qRsoV7yaqnH6"
      },
      "execution_count": null,
      "outputs": []
    },
    {
      "cell_type": "code",
      "source": [
        "rt.head(1)"
      ],
      "metadata": {
        "id": "7ErdJOmN1ILn",
        "colab": {
          "base_uri": "https://localhost:8080/",
          "height": 231
        },
        "outputId": "c9db75a6-0eb5-417f-a343-38b742309102"
      },
      "execution_count": null,
      "outputs": [
        {
          "output_type": "execute_result",
          "data": {
            "text/plain": [
              "   reserve_no  membership_no reserve_datetime      cancel_datetime  \\\n",
              "0  1427279942            291              NaN  2022-02-15 00:43:44   \n",
              "\n",
              "    game_date game_time                                   match_info  \\\n",
              "0  2022-02-19  16:30:00  [하나원큐 K LEAGUE1 2022] 인천 유나이티드 vs 수원 삼성블루윙즈   \n",
              "\n",
              "  reserve_state_code  reserve_detail_no   ticket_no product_grade_name  \\\n",
              "0         ALL_CANCEL                  1  1071933885       1인 테이블석(SG2)   \n",
              "\n",
              "  product_denomination_name seat_Attribute_4 seat_Attribute_5  \\\n",
              "0          5천원 멤버십 할인권 (일반)             S1구역               C열   \n",
              "\n",
              "  seat_Attribute_6 cancel_yn detail_cancel_date_time  \n",
              "0              24번         Y     2022-02-15 00:43:44  "
            ],
            "text/html": [
              "\n",
              "  <div id=\"df-a5e117f1-8ea9-4378-b45a-d7468fb20680\">\n",
              "    <div class=\"colab-df-container\">\n",
              "      <div>\n",
              "<style scoped>\n",
              "    .dataframe tbody tr th:only-of-type {\n",
              "        vertical-align: middle;\n",
              "    }\n",
              "\n",
              "    .dataframe tbody tr th {\n",
              "        vertical-align: top;\n",
              "    }\n",
              "\n",
              "    .dataframe thead th {\n",
              "        text-align: right;\n",
              "    }\n",
              "</style>\n",
              "<table border=\"1\" class=\"dataframe\">\n",
              "  <thead>\n",
              "    <tr style=\"text-align: right;\">\n",
              "      <th></th>\n",
              "      <th>reserve_no</th>\n",
              "      <th>membership_no</th>\n",
              "      <th>reserve_datetime</th>\n",
              "      <th>cancel_datetime</th>\n",
              "      <th>game_date</th>\n",
              "      <th>game_time</th>\n",
              "      <th>match_info</th>\n",
              "      <th>reserve_state_code</th>\n",
              "      <th>reserve_detail_no</th>\n",
              "      <th>ticket_no</th>\n",
              "      <th>product_grade_name</th>\n",
              "      <th>product_denomination_name</th>\n",
              "      <th>seat_Attribute_4</th>\n",
              "      <th>seat_Attribute_5</th>\n",
              "      <th>seat_Attribute_6</th>\n",
              "      <th>cancel_yn</th>\n",
              "      <th>detail_cancel_date_time</th>\n",
              "    </tr>\n",
              "  </thead>\n",
              "  <tbody>\n",
              "    <tr>\n",
              "      <th>0</th>\n",
              "      <td>1427279942</td>\n",
              "      <td>291</td>\n",
              "      <td>NaN</td>\n",
              "      <td>2022-02-15 00:43:44</td>\n",
              "      <td>2022-02-19</td>\n",
              "      <td>16:30:00</td>\n",
              "      <td>[하나원큐 K LEAGUE1 2022] 인천 유나이티드 vs 수원 삼성블루윙즈</td>\n",
              "      <td>ALL_CANCEL</td>\n",
              "      <td>1</td>\n",
              "      <td>1071933885</td>\n",
              "      <td>1인 테이블석(SG2)</td>\n",
              "      <td>5천원 멤버십 할인권 (일반)</td>\n",
              "      <td>S1구역</td>\n",
              "      <td>C열</td>\n",
              "      <td>24번</td>\n",
              "      <td>Y</td>\n",
              "      <td>2022-02-15 00:43:44</td>\n",
              "    </tr>\n",
              "  </tbody>\n",
              "</table>\n",
              "</div>\n",
              "      <button class=\"colab-df-convert\" onclick=\"convertToInteractive('df-a5e117f1-8ea9-4378-b45a-d7468fb20680')\"\n",
              "              title=\"Convert this dataframe to an interactive table.\"\n",
              "              style=\"display:none;\">\n",
              "        \n",
              "  <svg xmlns=\"http://www.w3.org/2000/svg\" height=\"24px\"viewBox=\"0 0 24 24\"\n",
              "       width=\"24px\">\n",
              "    <path d=\"M0 0h24v24H0V0z\" fill=\"none\"/>\n",
              "    <path d=\"M18.56 5.44l.94 2.06.94-2.06 2.06-.94-2.06-.94-.94-2.06-.94 2.06-2.06.94zm-11 1L8.5 8.5l.94-2.06 2.06-.94-2.06-.94L8.5 2.5l-.94 2.06-2.06.94zm10 10l.94 2.06.94-2.06 2.06-.94-2.06-.94-.94-2.06-.94 2.06-2.06.94z\"/><path d=\"M17.41 7.96l-1.37-1.37c-.4-.4-.92-.59-1.43-.59-.52 0-1.04.2-1.43.59L10.3 9.45l-7.72 7.72c-.78.78-.78 2.05 0 2.83L4 21.41c.39.39.9.59 1.41.59.51 0 1.02-.2 1.41-.59l7.78-7.78 2.81-2.81c.8-.78.8-2.07 0-2.86zM5.41 20L4 18.59l7.72-7.72 1.47 1.35L5.41 20z\"/>\n",
              "  </svg>\n",
              "      </button>\n",
              "      \n",
              "  <style>\n",
              "    .colab-df-container {\n",
              "      display:flex;\n",
              "      flex-wrap:wrap;\n",
              "      gap: 12px;\n",
              "    }\n",
              "\n",
              "    .colab-df-convert {\n",
              "      background-color: #E8F0FE;\n",
              "      border: none;\n",
              "      border-radius: 50%;\n",
              "      cursor: pointer;\n",
              "      display: none;\n",
              "      fill: #1967D2;\n",
              "      height: 32px;\n",
              "      padding: 0 0 0 0;\n",
              "      width: 32px;\n",
              "    }\n",
              "\n",
              "    .colab-df-convert:hover {\n",
              "      background-color: #E2EBFA;\n",
              "      box-shadow: 0px 1px 2px rgba(60, 64, 67, 0.3), 0px 1px 3px 1px rgba(60, 64, 67, 0.15);\n",
              "      fill: #174EA6;\n",
              "    }\n",
              "\n",
              "    [theme=dark] .colab-df-convert {\n",
              "      background-color: #3B4455;\n",
              "      fill: #D2E3FC;\n",
              "    }\n",
              "\n",
              "    [theme=dark] .colab-df-convert:hover {\n",
              "      background-color: #434B5C;\n",
              "      box-shadow: 0px 1px 3px 1px rgba(0, 0, 0, 0.15);\n",
              "      filter: drop-shadow(0px 1px 2px rgba(0, 0, 0, 0.3));\n",
              "      fill: #FFFFFF;\n",
              "    }\n",
              "  </style>\n",
              "\n",
              "      <script>\n",
              "        const buttonEl =\n",
              "          document.querySelector('#df-a5e117f1-8ea9-4378-b45a-d7468fb20680 button.colab-df-convert');\n",
              "        buttonEl.style.display =\n",
              "          google.colab.kernel.accessAllowed ? 'block' : 'none';\n",
              "\n",
              "        async function convertToInteractive(key) {\n",
              "          const element = document.querySelector('#df-a5e117f1-8ea9-4378-b45a-d7468fb20680');\n",
              "          const dataTable =\n",
              "            await google.colab.kernel.invokeFunction('convertToInteractive',\n",
              "                                                     [key], {});\n",
              "          if (!dataTable) return;\n",
              "\n",
              "          const docLinkHtml = 'Like what you see? Visit the ' +\n",
              "            '<a target=\"_blank\" href=https://colab.research.google.com/notebooks/data_table.ipynb>data table notebook</a>'\n",
              "            + ' to learn more about interactive tables.';\n",
              "          element.innerHTML = '';\n",
              "          dataTable['output_type'] = 'display_data';\n",
              "          await google.colab.output.renderOutput(dataTable, element);\n",
              "          const docLink = document.createElement('div');\n",
              "          docLink.innerHTML = docLinkHtml;\n",
              "          element.appendChild(docLink);\n",
              "        }\n",
              "      </script>\n",
              "    </div>\n",
              "  </div>\n",
              "  "
            ]
          },
          "metadata": {},
          "execution_count": 4
        }
      ]
    },
    {
      "cell_type": "code",
      "source": [
        "rt['reserve_state_code'].value_counts()"
      ],
      "metadata": {
        "colab": {
          "base_uri": "https://localhost:8080/"
        },
        "id": "73tpYB8tHROH",
        "outputId": "1afb1164-d699-45e7-80ce-3eb7ad4a1184"
      },
      "execution_count": null,
      "outputs": [
        {
          "output_type": "execute_result",
          "data": {
            "text/plain": [
              "COMPLETE       44128\n",
              "ALL_CANCEL      8821\n",
              "PART_CANCEL      972\n",
              "Name: reserve_state_code, dtype: int64"
            ]
          },
          "metadata": {},
          "execution_count": 5
        }
      ]
    },
    {
      "cell_type": "code",
      "source": [
        "rt[rt['reserve_state_code'] == 'ALL_CANCEL']['cancel_yn'].unique()"
      ],
      "metadata": {
        "colab": {
          "base_uri": "https://localhost:8080/"
        },
        "id": "6py3CUY0HRBH",
        "outputId": "f160a7ce-67e6-431f-edd8-84bcbc54c8eb"
      },
      "execution_count": null,
      "outputs": [
        {
          "output_type": "execute_result",
          "data": {
            "text/plain": [
              "array(['Y'], dtype=object)"
            ]
          },
          "metadata": {},
          "execution_count": 6
        }
      ]
    },
    {
      "cell_type": "code",
      "source": [
        "rt[rt['reserve_state_code'] == 'PART_CANCEL']['cancel_yn'].unique()"
      ],
      "metadata": {
        "colab": {
          "base_uri": "https://localhost:8080/"
        },
        "id": "qra9G-4YHhwn",
        "outputId": "159d7609-383b-4ecf-fefa-e610c995c714"
      },
      "execution_count": null,
      "outputs": [
        {
          "output_type": "execute_result",
          "data": {
            "text/plain": [
              "array(['Y', 'N'], dtype=object)"
            ]
          },
          "metadata": {},
          "execution_count": 7
        }
      ]
    },
    {
      "cell_type": "code",
      "source": [
        "rt[rt['reserve_state_code'] == 'COMPLETE']['cancel_yn'].unique()"
      ],
      "metadata": {
        "colab": {
          "base_uri": "https://localhost:8080/"
        },
        "id": "S0LJ4WiJHkhj",
        "outputId": "2f848d87-4b7b-49d2-a310-e4edda331a1c"
      },
      "execution_count": null,
      "outputs": [
        {
          "output_type": "execute_result",
          "data": {
            "text/plain": [
              "array(['N'], dtype=object)"
            ]
          },
          "metadata": {},
          "execution_count": 8
        }
      ]
    },
    {
      "cell_type": "code",
      "source": [
        "# 취소했는데 취소 일자가 없는 행들이 4091개 존재 > 취소한 것으로 판단\n",
        "rt[(rt['cancel_yn'] == 'Y') & (rt['cancel_datetime'].isna())].shape"
      ],
      "metadata": {
        "colab": {
          "base_uri": "https://localhost:8080/"
        },
        "id": "Xu1FvijTHxey",
        "outputId": "748bb195-cd04-4063-a579-5d13ca29ec00"
      },
      "execution_count": null,
      "outputs": [
        {
          "output_type": "execute_result",
          "data": {
            "text/plain": [
              "(4091, 17)"
            ]
          },
          "metadata": {},
          "execution_count": 9
        }
      ]
    },
    {
      "cell_type": "code",
      "source": [
        "# 취소하지 않았는데 예매 일자가 없는 행들이 339개 존재\n",
        "rt[(rt['cancel_yn'] == 'N') & (rt['reserve_datetime'].isna())].shape"
      ],
      "metadata": {
        "colab": {
          "base_uri": "https://localhost:8080/"
        },
        "id": "lfzj4vfyh8tb",
        "outputId": "0ee300c9-cc5d-437a-a648-10d6509a2d52"
      },
      "execution_count": null,
      "outputs": [
        {
          "output_type": "execute_result",
          "data": {
            "text/plain": [
              "(339, 17)"
            ]
          },
          "metadata": {},
          "execution_count": 10
        }
      ]
    },
    {
      "cell_type": "code",
      "source": [
        "rt[(rt['cancel_yn'] == 'N') & (rt['reserve_datetime'].isna())].head()"
      ],
      "metadata": {
        "colab": {
          "base_uri": "https://localhost:8080/",
          "height": 704
        },
        "id": "fN8WcMsVh3sK",
        "outputId": "1788d450-799e-4d5e-ff9e-a9b916805db1"
      },
      "execution_count": null,
      "outputs": [
        {
          "output_type": "execute_result",
          "data": {
            "text/plain": [
              "    reserve_no  membership_no reserve_datetime      cancel_datetime  \\\n",
              "7   1427279896           3641              NaN  2022-02-19 13:16:32   \n",
              "54  1427279972         101447              NaN  2022-02-15 18:47:03   \n",
              "55  1427279972         101447              NaN  2022-02-15 18:47:03   \n",
              "61  1427360381         102027              NaN  2022-02-18 01:17:31   \n",
              "62  1427360381         102027              NaN  2022-02-18 01:17:31   \n",
              "\n",
              "     game_date game_time                                   match_info  \\\n",
              "7   2022-02-19  16:30:00  [하나원큐 K LEAGUE1 2022] 인천 유나이티드 vs 수원 삼성블루윙즈   \n",
              "54  2022-02-19  16:30:00  [하나원큐 K LEAGUE1 2022] 인천 유나이티드 vs 수원 삼성블루윙즈   \n",
              "55  2022-02-19  16:30:00  [하나원큐 K LEAGUE1 2022] 인천 유나이티드 vs 수원 삼성블루윙즈   \n",
              "61  2022-02-19  16:30:00  [하나원큐 K LEAGUE1 2022] 인천 유나이티드 vs 수원 삼성블루윙즈   \n",
              "62  2022-02-19  16:30:00  [하나원큐 K LEAGUE1 2022] 인천 유나이티드 vs 수원 삼성블루윙즈   \n",
              "\n",
              "   reserve_state_code  reserve_detail_no   ticket_no product_grade_name  \\\n",
              "7         PART_CANCEL                  3  1071933863                 S석   \n",
              "54        PART_CANCEL                  2  1071933943                 S석   \n",
              "55        PART_CANCEL                  3  1071933944                 S석   \n",
              "61        PART_CANCEL                  1  1072000529                 S석   \n",
              "62        PART_CANCEL                  2  1072000530                 S석   \n",
              "\n",
              "   product_denomination_name seat_Attribute_4 seat_Attribute_5  \\\n",
              "7                         성인            S11구역               E열   \n",
              "54                        성인            S 3구역               S열   \n",
              "55                        성인            S 3구역               S열   \n",
              "61                        성인            S 4구역               P열   \n",
              "62                        성인            S 4구역               P열   \n",
              "\n",
              "   seat_Attribute_6 cancel_yn detail_cancel_date_time  \n",
              "7                3번         N     2022-02-19 13:16:32  \n",
              "54               6번         N     2022-02-15 18:47:03  \n",
              "55               7번         N     2022-02-15 18:47:03  \n",
              "61               5번         N     2022-02-18 01:17:31  \n",
              "62               6번         N     2022-02-18 01:17:31  "
            ],
            "text/html": [
              "\n",
              "  <div id=\"df-933d64e0-4cb5-4a36-841f-7d2d93970b85\">\n",
              "    <div class=\"colab-df-container\">\n",
              "      <div>\n",
              "<style scoped>\n",
              "    .dataframe tbody tr th:only-of-type {\n",
              "        vertical-align: middle;\n",
              "    }\n",
              "\n",
              "    .dataframe tbody tr th {\n",
              "        vertical-align: top;\n",
              "    }\n",
              "\n",
              "    .dataframe thead th {\n",
              "        text-align: right;\n",
              "    }\n",
              "</style>\n",
              "<table border=\"1\" class=\"dataframe\">\n",
              "  <thead>\n",
              "    <tr style=\"text-align: right;\">\n",
              "      <th></th>\n",
              "      <th>reserve_no</th>\n",
              "      <th>membership_no</th>\n",
              "      <th>reserve_datetime</th>\n",
              "      <th>cancel_datetime</th>\n",
              "      <th>game_date</th>\n",
              "      <th>game_time</th>\n",
              "      <th>match_info</th>\n",
              "      <th>reserve_state_code</th>\n",
              "      <th>reserve_detail_no</th>\n",
              "      <th>ticket_no</th>\n",
              "      <th>product_grade_name</th>\n",
              "      <th>product_denomination_name</th>\n",
              "      <th>seat_Attribute_4</th>\n",
              "      <th>seat_Attribute_5</th>\n",
              "      <th>seat_Attribute_6</th>\n",
              "      <th>cancel_yn</th>\n",
              "      <th>detail_cancel_date_time</th>\n",
              "    </tr>\n",
              "  </thead>\n",
              "  <tbody>\n",
              "    <tr>\n",
              "      <th>7</th>\n",
              "      <td>1427279896</td>\n",
              "      <td>3641</td>\n",
              "      <td>NaN</td>\n",
              "      <td>2022-02-19 13:16:32</td>\n",
              "      <td>2022-02-19</td>\n",
              "      <td>16:30:00</td>\n",
              "      <td>[하나원큐 K LEAGUE1 2022] 인천 유나이티드 vs 수원 삼성블루윙즈</td>\n",
              "      <td>PART_CANCEL</td>\n",
              "      <td>3</td>\n",
              "      <td>1071933863</td>\n",
              "      <td>S석</td>\n",
              "      <td>성인</td>\n",
              "      <td>S11구역</td>\n",
              "      <td>E열</td>\n",
              "      <td>3번</td>\n",
              "      <td>N</td>\n",
              "      <td>2022-02-19 13:16:32</td>\n",
              "    </tr>\n",
              "    <tr>\n",
              "      <th>54</th>\n",
              "      <td>1427279972</td>\n",
              "      <td>101447</td>\n",
              "      <td>NaN</td>\n",
              "      <td>2022-02-15 18:47:03</td>\n",
              "      <td>2022-02-19</td>\n",
              "      <td>16:30:00</td>\n",
              "      <td>[하나원큐 K LEAGUE1 2022] 인천 유나이티드 vs 수원 삼성블루윙즈</td>\n",
              "      <td>PART_CANCEL</td>\n",
              "      <td>2</td>\n",
              "      <td>1071933943</td>\n",
              "      <td>S석</td>\n",
              "      <td>성인</td>\n",
              "      <td>S 3구역</td>\n",
              "      <td>S열</td>\n",
              "      <td>6번</td>\n",
              "      <td>N</td>\n",
              "      <td>2022-02-15 18:47:03</td>\n",
              "    </tr>\n",
              "    <tr>\n",
              "      <th>55</th>\n",
              "      <td>1427279972</td>\n",
              "      <td>101447</td>\n",
              "      <td>NaN</td>\n",
              "      <td>2022-02-15 18:47:03</td>\n",
              "      <td>2022-02-19</td>\n",
              "      <td>16:30:00</td>\n",
              "      <td>[하나원큐 K LEAGUE1 2022] 인천 유나이티드 vs 수원 삼성블루윙즈</td>\n",
              "      <td>PART_CANCEL</td>\n",
              "      <td>3</td>\n",
              "      <td>1071933944</td>\n",
              "      <td>S석</td>\n",
              "      <td>성인</td>\n",
              "      <td>S 3구역</td>\n",
              "      <td>S열</td>\n",
              "      <td>7번</td>\n",
              "      <td>N</td>\n",
              "      <td>2022-02-15 18:47:03</td>\n",
              "    </tr>\n",
              "    <tr>\n",
              "      <th>61</th>\n",
              "      <td>1427360381</td>\n",
              "      <td>102027</td>\n",
              "      <td>NaN</td>\n",
              "      <td>2022-02-18 01:17:31</td>\n",
              "      <td>2022-02-19</td>\n",
              "      <td>16:30:00</td>\n",
              "      <td>[하나원큐 K LEAGUE1 2022] 인천 유나이티드 vs 수원 삼성블루윙즈</td>\n",
              "      <td>PART_CANCEL</td>\n",
              "      <td>1</td>\n",
              "      <td>1072000529</td>\n",
              "      <td>S석</td>\n",
              "      <td>성인</td>\n",
              "      <td>S 4구역</td>\n",
              "      <td>P열</td>\n",
              "      <td>5번</td>\n",
              "      <td>N</td>\n",
              "      <td>2022-02-18 01:17:31</td>\n",
              "    </tr>\n",
              "    <tr>\n",
              "      <th>62</th>\n",
              "      <td>1427360381</td>\n",
              "      <td>102027</td>\n",
              "      <td>NaN</td>\n",
              "      <td>2022-02-18 01:17:31</td>\n",
              "      <td>2022-02-19</td>\n",
              "      <td>16:30:00</td>\n",
              "      <td>[하나원큐 K LEAGUE1 2022] 인천 유나이티드 vs 수원 삼성블루윙즈</td>\n",
              "      <td>PART_CANCEL</td>\n",
              "      <td>2</td>\n",
              "      <td>1072000530</td>\n",
              "      <td>S석</td>\n",
              "      <td>성인</td>\n",
              "      <td>S 4구역</td>\n",
              "      <td>P열</td>\n",
              "      <td>6번</td>\n",
              "      <td>N</td>\n",
              "      <td>2022-02-18 01:17:31</td>\n",
              "    </tr>\n",
              "  </tbody>\n",
              "</table>\n",
              "</div>\n",
              "      <button class=\"colab-df-convert\" onclick=\"convertToInteractive('df-933d64e0-4cb5-4a36-841f-7d2d93970b85')\"\n",
              "              title=\"Convert this dataframe to an interactive table.\"\n",
              "              style=\"display:none;\">\n",
              "        \n",
              "  <svg xmlns=\"http://www.w3.org/2000/svg\" height=\"24px\"viewBox=\"0 0 24 24\"\n",
              "       width=\"24px\">\n",
              "    <path d=\"M0 0h24v24H0V0z\" fill=\"none\"/>\n",
              "    <path d=\"M18.56 5.44l.94 2.06.94-2.06 2.06-.94-2.06-.94-.94-2.06-.94 2.06-2.06.94zm-11 1L8.5 8.5l.94-2.06 2.06-.94-2.06-.94L8.5 2.5l-.94 2.06-2.06.94zm10 10l.94 2.06.94-2.06 2.06-.94-2.06-.94-.94-2.06-.94 2.06-2.06.94z\"/><path d=\"M17.41 7.96l-1.37-1.37c-.4-.4-.92-.59-1.43-.59-.52 0-1.04.2-1.43.59L10.3 9.45l-7.72 7.72c-.78.78-.78 2.05 0 2.83L4 21.41c.39.39.9.59 1.41.59.51 0 1.02-.2 1.41-.59l7.78-7.78 2.81-2.81c.8-.78.8-2.07 0-2.86zM5.41 20L4 18.59l7.72-7.72 1.47 1.35L5.41 20z\"/>\n",
              "  </svg>\n",
              "      </button>\n",
              "      \n",
              "  <style>\n",
              "    .colab-df-container {\n",
              "      display:flex;\n",
              "      flex-wrap:wrap;\n",
              "      gap: 12px;\n",
              "    }\n",
              "\n",
              "    .colab-df-convert {\n",
              "      background-color: #E8F0FE;\n",
              "      border: none;\n",
              "      border-radius: 50%;\n",
              "      cursor: pointer;\n",
              "      display: none;\n",
              "      fill: #1967D2;\n",
              "      height: 32px;\n",
              "      padding: 0 0 0 0;\n",
              "      width: 32px;\n",
              "    }\n",
              "\n",
              "    .colab-df-convert:hover {\n",
              "      background-color: #E2EBFA;\n",
              "      box-shadow: 0px 1px 2px rgba(60, 64, 67, 0.3), 0px 1px 3px 1px rgba(60, 64, 67, 0.15);\n",
              "      fill: #174EA6;\n",
              "    }\n",
              "\n",
              "    [theme=dark] .colab-df-convert {\n",
              "      background-color: #3B4455;\n",
              "      fill: #D2E3FC;\n",
              "    }\n",
              "\n",
              "    [theme=dark] .colab-df-convert:hover {\n",
              "      background-color: #434B5C;\n",
              "      box-shadow: 0px 1px 3px 1px rgba(0, 0, 0, 0.15);\n",
              "      filter: drop-shadow(0px 1px 2px rgba(0, 0, 0, 0.3));\n",
              "      fill: #FFFFFF;\n",
              "    }\n",
              "  </style>\n",
              "\n",
              "      <script>\n",
              "        const buttonEl =\n",
              "          document.querySelector('#df-933d64e0-4cb5-4a36-841f-7d2d93970b85 button.colab-df-convert');\n",
              "        buttonEl.style.display =\n",
              "          google.colab.kernel.accessAllowed ? 'block' : 'none';\n",
              "\n",
              "        async function convertToInteractive(key) {\n",
              "          const element = document.querySelector('#df-933d64e0-4cb5-4a36-841f-7d2d93970b85');\n",
              "          const dataTable =\n",
              "            await google.colab.kernel.invokeFunction('convertToInteractive',\n",
              "                                                     [key], {});\n",
              "          if (!dataTable) return;\n",
              "\n",
              "          const docLinkHtml = 'Like what you see? Visit the ' +\n",
              "            '<a target=\"_blank\" href=https://colab.research.google.com/notebooks/data_table.ipynb>data table notebook</a>'\n",
              "            + ' to learn more about interactive tables.';\n",
              "          element.innerHTML = '';\n",
              "          dataTable['output_type'] = 'display_data';\n",
              "          await google.colab.output.renderOutput(dataTable, element);\n",
              "          const docLink = document.createElement('div');\n",
              "          docLink.innerHTML = docLinkHtml;\n",
              "          element.appendChild(docLink);\n",
              "        }\n",
              "      </script>\n",
              "    </div>\n",
              "  </div>\n",
              "  "
            ]
          },
          "metadata": {},
          "execution_count": 11
        }
      ]
    },
    {
      "cell_type": "code",
      "source": [
        "rt[(rt['cancel_yn'] == 'N') & (rt['reserve_datetime'].isna())]['reserve_state_code'].unique()"
      ],
      "metadata": {
        "colab": {
          "base_uri": "https://localhost:8080/"
        },
        "id": "nzNRwbfNhV4H",
        "outputId": "956ab894-9f63-4575-fd9c-405d615d0e35"
      },
      "execution_count": null,
      "outputs": [
        {
          "output_type": "execute_result",
          "data": {
            "text/plain": [
              "array(['PART_CANCEL'], dtype=object)"
            ]
          },
          "metadata": {},
          "execution_count": 12
        }
      ]
    },
    {
      "cell_type": "code",
      "source": [
        "# 부분 취소한 건들이었으며 예매 중 하나라도 취소하면 예매 일자는 없고, 취소 일자가 있는 것으로 파악\n",
        "# > PART_CANCEL이면서 N이면 정상 예매로 파악"
      ],
      "metadata": {
        "id": "33xkP921iSro"
      },
      "execution_count": null,
      "outputs": []
    },
    {
      "cell_type": "code",
      "source": [
        "rt[rt['reserve_state_code'] == 'PART_CANCEL'].head(3)"
      ],
      "metadata": {
        "colab": {
          "base_uri": "https://localhost:8080/",
          "height": 467
        },
        "id": "xtNEEYvNdCyo",
        "outputId": "a8c73f6b-d4bb-4f80-d3cb-3528e7e6caf2"
      },
      "execution_count": null,
      "outputs": [
        {
          "output_type": "execute_result",
          "data": {
            "text/plain": [
              "   reserve_no  membership_no reserve_datetime      cancel_datetime  \\\n",
              "5  1427279896           3641              NaN  2022-02-19 13:16:32   \n",
              "6  1427279896           3641              NaN  2022-02-19 13:16:32   \n",
              "7  1427279896           3641              NaN  2022-02-19 13:16:32   \n",
              "\n",
              "    game_date game_time                                   match_info  \\\n",
              "5  2022-02-19  16:30:00  [하나원큐 K LEAGUE1 2022] 인천 유나이티드 vs 수원 삼성블루윙즈   \n",
              "6  2022-02-19  16:30:00  [하나원큐 K LEAGUE1 2022] 인천 유나이티드 vs 수원 삼성블루윙즈   \n",
              "7  2022-02-19  16:30:00  [하나원큐 K LEAGUE1 2022] 인천 유나이티드 vs 수원 삼성블루윙즈   \n",
              "\n",
              "  reserve_state_code  reserve_detail_no   ticket_no product_grade_name  \\\n",
              "5        PART_CANCEL                  1  1071933861                 S석   \n",
              "6        PART_CANCEL                  2  1071933862                 S석   \n",
              "7        PART_CANCEL                  3  1071933863                 S석   \n",
              "\n",
              "  product_denomination_name seat_Attribute_4 seat_Attribute_5  \\\n",
              "5                   청소년/어린이            S11구역               E열   \n",
              "6                   청소년/어린이            S11구역               E열   \n",
              "7                        성인            S11구역               E열   \n",
              "\n",
              "  seat_Attribute_6 cancel_yn detail_cancel_date_time  \n",
              "5               1번         Y     2022-02-19 13:16:32  \n",
              "6               2번         Y     2022-02-19 13:16:32  \n",
              "7               3번         N     2022-02-19 13:16:32  "
            ],
            "text/html": [
              "\n",
              "  <div id=\"df-f239440b-008e-40b1-950b-2c06d5fc8b82\">\n",
              "    <div class=\"colab-df-container\">\n",
              "      <div>\n",
              "<style scoped>\n",
              "    .dataframe tbody tr th:only-of-type {\n",
              "        vertical-align: middle;\n",
              "    }\n",
              "\n",
              "    .dataframe tbody tr th {\n",
              "        vertical-align: top;\n",
              "    }\n",
              "\n",
              "    .dataframe thead th {\n",
              "        text-align: right;\n",
              "    }\n",
              "</style>\n",
              "<table border=\"1\" class=\"dataframe\">\n",
              "  <thead>\n",
              "    <tr style=\"text-align: right;\">\n",
              "      <th></th>\n",
              "      <th>reserve_no</th>\n",
              "      <th>membership_no</th>\n",
              "      <th>reserve_datetime</th>\n",
              "      <th>cancel_datetime</th>\n",
              "      <th>game_date</th>\n",
              "      <th>game_time</th>\n",
              "      <th>match_info</th>\n",
              "      <th>reserve_state_code</th>\n",
              "      <th>reserve_detail_no</th>\n",
              "      <th>ticket_no</th>\n",
              "      <th>product_grade_name</th>\n",
              "      <th>product_denomination_name</th>\n",
              "      <th>seat_Attribute_4</th>\n",
              "      <th>seat_Attribute_5</th>\n",
              "      <th>seat_Attribute_6</th>\n",
              "      <th>cancel_yn</th>\n",
              "      <th>detail_cancel_date_time</th>\n",
              "    </tr>\n",
              "  </thead>\n",
              "  <tbody>\n",
              "    <tr>\n",
              "      <th>5</th>\n",
              "      <td>1427279896</td>\n",
              "      <td>3641</td>\n",
              "      <td>NaN</td>\n",
              "      <td>2022-02-19 13:16:32</td>\n",
              "      <td>2022-02-19</td>\n",
              "      <td>16:30:00</td>\n",
              "      <td>[하나원큐 K LEAGUE1 2022] 인천 유나이티드 vs 수원 삼성블루윙즈</td>\n",
              "      <td>PART_CANCEL</td>\n",
              "      <td>1</td>\n",
              "      <td>1071933861</td>\n",
              "      <td>S석</td>\n",
              "      <td>청소년/어린이</td>\n",
              "      <td>S11구역</td>\n",
              "      <td>E열</td>\n",
              "      <td>1번</td>\n",
              "      <td>Y</td>\n",
              "      <td>2022-02-19 13:16:32</td>\n",
              "    </tr>\n",
              "    <tr>\n",
              "      <th>6</th>\n",
              "      <td>1427279896</td>\n",
              "      <td>3641</td>\n",
              "      <td>NaN</td>\n",
              "      <td>2022-02-19 13:16:32</td>\n",
              "      <td>2022-02-19</td>\n",
              "      <td>16:30:00</td>\n",
              "      <td>[하나원큐 K LEAGUE1 2022] 인천 유나이티드 vs 수원 삼성블루윙즈</td>\n",
              "      <td>PART_CANCEL</td>\n",
              "      <td>2</td>\n",
              "      <td>1071933862</td>\n",
              "      <td>S석</td>\n",
              "      <td>청소년/어린이</td>\n",
              "      <td>S11구역</td>\n",
              "      <td>E열</td>\n",
              "      <td>2번</td>\n",
              "      <td>Y</td>\n",
              "      <td>2022-02-19 13:16:32</td>\n",
              "    </tr>\n",
              "    <tr>\n",
              "      <th>7</th>\n",
              "      <td>1427279896</td>\n",
              "      <td>3641</td>\n",
              "      <td>NaN</td>\n",
              "      <td>2022-02-19 13:16:32</td>\n",
              "      <td>2022-02-19</td>\n",
              "      <td>16:30:00</td>\n",
              "      <td>[하나원큐 K LEAGUE1 2022] 인천 유나이티드 vs 수원 삼성블루윙즈</td>\n",
              "      <td>PART_CANCEL</td>\n",
              "      <td>3</td>\n",
              "      <td>1071933863</td>\n",
              "      <td>S석</td>\n",
              "      <td>성인</td>\n",
              "      <td>S11구역</td>\n",
              "      <td>E열</td>\n",
              "      <td>3번</td>\n",
              "      <td>N</td>\n",
              "      <td>2022-02-19 13:16:32</td>\n",
              "    </tr>\n",
              "  </tbody>\n",
              "</table>\n",
              "</div>\n",
              "      <button class=\"colab-df-convert\" onclick=\"convertToInteractive('df-f239440b-008e-40b1-950b-2c06d5fc8b82')\"\n",
              "              title=\"Convert this dataframe to an interactive table.\"\n",
              "              style=\"display:none;\">\n",
              "        \n",
              "  <svg xmlns=\"http://www.w3.org/2000/svg\" height=\"24px\"viewBox=\"0 0 24 24\"\n",
              "       width=\"24px\">\n",
              "    <path d=\"M0 0h24v24H0V0z\" fill=\"none\"/>\n",
              "    <path d=\"M18.56 5.44l.94 2.06.94-2.06 2.06-.94-2.06-.94-.94-2.06-.94 2.06-2.06.94zm-11 1L8.5 8.5l.94-2.06 2.06-.94-2.06-.94L8.5 2.5l-.94 2.06-2.06.94zm10 10l.94 2.06.94-2.06 2.06-.94-2.06-.94-.94-2.06-.94 2.06-2.06.94z\"/><path d=\"M17.41 7.96l-1.37-1.37c-.4-.4-.92-.59-1.43-.59-.52 0-1.04.2-1.43.59L10.3 9.45l-7.72 7.72c-.78.78-.78 2.05 0 2.83L4 21.41c.39.39.9.59 1.41.59.51 0 1.02-.2 1.41-.59l7.78-7.78 2.81-2.81c.8-.78.8-2.07 0-2.86zM5.41 20L4 18.59l7.72-7.72 1.47 1.35L5.41 20z\"/>\n",
              "  </svg>\n",
              "      </button>\n",
              "      \n",
              "  <style>\n",
              "    .colab-df-container {\n",
              "      display:flex;\n",
              "      flex-wrap:wrap;\n",
              "      gap: 12px;\n",
              "    }\n",
              "\n",
              "    .colab-df-convert {\n",
              "      background-color: #E8F0FE;\n",
              "      border: none;\n",
              "      border-radius: 50%;\n",
              "      cursor: pointer;\n",
              "      display: none;\n",
              "      fill: #1967D2;\n",
              "      height: 32px;\n",
              "      padding: 0 0 0 0;\n",
              "      width: 32px;\n",
              "    }\n",
              "\n",
              "    .colab-df-convert:hover {\n",
              "      background-color: #E2EBFA;\n",
              "      box-shadow: 0px 1px 2px rgba(60, 64, 67, 0.3), 0px 1px 3px 1px rgba(60, 64, 67, 0.15);\n",
              "      fill: #174EA6;\n",
              "    }\n",
              "\n",
              "    [theme=dark] .colab-df-convert {\n",
              "      background-color: #3B4455;\n",
              "      fill: #D2E3FC;\n",
              "    }\n",
              "\n",
              "    [theme=dark] .colab-df-convert:hover {\n",
              "      background-color: #434B5C;\n",
              "      box-shadow: 0px 1px 3px 1px rgba(0, 0, 0, 0.15);\n",
              "      filter: drop-shadow(0px 1px 2px rgba(0, 0, 0, 0.3));\n",
              "      fill: #FFFFFF;\n",
              "    }\n",
              "  </style>\n",
              "\n",
              "      <script>\n",
              "        const buttonEl =\n",
              "          document.querySelector('#df-f239440b-008e-40b1-950b-2c06d5fc8b82 button.colab-df-convert');\n",
              "        buttonEl.style.display =\n",
              "          google.colab.kernel.accessAllowed ? 'block' : 'none';\n",
              "\n",
              "        async function convertToInteractive(key) {\n",
              "          const element = document.querySelector('#df-f239440b-008e-40b1-950b-2c06d5fc8b82');\n",
              "          const dataTable =\n",
              "            await google.colab.kernel.invokeFunction('convertToInteractive',\n",
              "                                                     [key], {});\n",
              "          if (!dataTable) return;\n",
              "\n",
              "          const docLinkHtml = 'Like what you see? Visit the ' +\n",
              "            '<a target=\"_blank\" href=https://colab.research.google.com/notebooks/data_table.ipynb>data table notebook</a>'\n",
              "            + ' to learn more about interactive tables.';\n",
              "          element.innerHTML = '';\n",
              "          dataTable['output_type'] = 'display_data';\n",
              "          await google.colab.output.renderOutput(dataTable, element);\n",
              "          const docLink = document.createElement('div');\n",
              "          docLink.innerHTML = docLinkHtml;\n",
              "          element.appendChild(docLink);\n",
              "        }\n",
              "      </script>\n",
              "    </div>\n",
              "  </div>\n",
              "  "
            ]
          },
          "metadata": {},
          "execution_count": 13
        }
      ]
    },
    {
      "cell_type": "code",
      "source": [
        "rt.columns"
      ],
      "metadata": {
        "colab": {
          "base_uri": "https://localhost:8080/"
        },
        "id": "o8UaF9QlyTRX",
        "outputId": "9326c2cb-8637-4434-e52d-e668c3b35617"
      },
      "execution_count": null,
      "outputs": [
        {
          "output_type": "execute_result",
          "data": {
            "text/plain": [
              "Index(['reserve_no', 'membership_no', 'reserve_datetime', 'cancel_datetime',\n",
              "       'game_date', 'game_time', 'match_info', 'reserve_state_code',\n",
              "       'reserve_detail_no', 'ticket_no', 'product_grade_name',\n",
              "       'product_denomination_name', 'seat_Attribute_4', 'seat_Attribute_5',\n",
              "       'seat_Attribute_6', 'cancel_yn', 'detail_cancel_date_time'],\n",
              "      dtype='object')"
            ]
          },
          "metadata": {},
          "execution_count": 15
        }
      ]
    },
    {
      "cell_type": "markdown",
      "source": [
        "## 정리"
      ],
      "metadata": {
        "id": "P6GZUmjQmhfg"
      }
    },
    {
      "cell_type": "code",
      "source": [
        "rt['match_info'].unique()"
      ],
      "metadata": {
        "colab": {
          "base_uri": "https://localhost:8080/"
        },
        "id": "lJfwZX0fRMqj",
        "outputId": "1e250ba4-a942-4f3d-c6db-ecd3c214ebb8"
      },
      "execution_count": null,
      "outputs": [
        {
          "output_type": "execute_result",
          "data": {
            "text/plain": [
              "array(['[하나원큐 K LEAGUE1 2022] 인천 유나이티드 vs 수원 삼성블루윙즈',\n",
              "       '[하나원큐 K LEAGUE1 2022] 인천 유나이티드 vs FC서울',\n",
              "       '[하나원큐 K LEAGUE1 2022] 인천 유나이티드 vs 포항 스틸러스',\n",
              "       '[하나원큐 K LEAGUE1 2022] 인천 유나이티드 vs 김천상무프로축구단',\n",
              "       '[하나원큐 K LEAGUE1 2022] 인천 유나이티드 vs 울산 현대축구단',\n",
              "       '[하나원큐 K LEAGUE1 2022] 인천 유나이티드 vs 제주 유나이티드',\n",
              "       '[2022 하나원큐 FA CUP] 인천 유나이티드 vs 광주FC',\n",
              "       '[하나원큐 K LEAGUE1 2022] 인천 유나이티드 vs 전북 현대모터스',\n",
              "       '[하나원큐 K LEAGUE1 2022] 인천 유나이티드 vs 대구FC',\n",
              "       '[하나원큐 K LEAGUE1 2022] 인천 유나이티드 vs 성남FC',\n",
              "       '[하나원큐 K LEAGUE1 2022] 인천 유나이티드 vs 강원FC',\n",
              "       '[하나원큐 K LEAGUE1 2022] 인천 유나이티드 vs 수원FC'], dtype=object)"
            ]
          },
          "metadata": {},
          "execution_count": 16
        }
      ]
    },
    {
      "cell_type": "code",
      "source": [
        "# FA컵 경기 제외하고 K리그만 남기기\n",
        "rt = rt[rt['match_info'] != '[2022 하나원큐 FA CUP] 인천 유나이티드 vs 광주FC'].reset_index(drop=True)"
      ],
      "metadata": {
        "id": "M2T0ttF1nSc9"
      },
      "execution_count": null,
      "outputs": []
    },
    {
      "cell_type": "code",
      "source": [
        "rt = rt[['ticket_no', 'reserve_no', 'membership_no', 'game_date', 'game_time',\n",
        "         'product_grade_name', 'product_denomination_name', 'seat_Attribute_4', 'cancel_yn']]"
      ],
      "metadata": {
        "id": "I4CY-N1fyeQa"
      },
      "execution_count": null,
      "outputs": []
    },
    {
      "cell_type": "code",
      "source": [
        "rt = rt.rename(columns={'membership_no':'MB_IDX',\n",
        "                          'game_date':'date',\n",
        "                          'game_time':'time'})"
      ],
      "metadata": {
        "id": "uu9FAPJSyyQW"
      },
      "execution_count": null,
      "outputs": []
    },
    {
      "cell_type": "code",
      "source": [
        "rt.head()"
      ],
      "metadata": {
        "colab": {
          "base_uri": "https://localhost:8080/",
          "height": 357
        },
        "id": "Msf61lnBtKjW",
        "outputId": "f1769a78-2784-4053-a030-350217846a72"
      },
      "execution_count": null,
      "outputs": [
        {
          "output_type": "execute_result",
          "data": {
            "text/plain": [
              "    ticket_no  reserve_no  MB_IDX        date      time product_grade_name  \\\n",
              "0  1071933885  1427279942     291  2022-02-19  16:30:00       1인 테이블석(SG2)   \n",
              "1  1071933954  1427279998    1073  2022-02-19  16:30:00              With석   \n",
              "2  1071933955  1427279998    1073  2022-02-19  16:30:00              With석   \n",
              "3  1071933956  1427279998    1073  2022-02-19  16:30:00              With석   \n",
              "4  1071960581  1427314440    3281  2022-02-19  16:30:00          Exciting석   \n",
              "\n",
              "  product_denomination_name seat_Attribute_4 cancel_yn  \n",
              "0          5천원 멤버십 할인권 (일반)             S1구역         Y  \n",
              "1                        성인             W8구역         Y  \n",
              "2                        성인             W8구역         Y  \n",
              "3                        성인             W8구역         Y  \n",
              "4                        성인             E6구역         Y  "
            ],
            "text/html": [
              "\n",
              "  <div id=\"df-3bf34f91-1a13-4190-b450-fdff36a356be\">\n",
              "    <div class=\"colab-df-container\">\n",
              "      <div>\n",
              "<style scoped>\n",
              "    .dataframe tbody tr th:only-of-type {\n",
              "        vertical-align: middle;\n",
              "    }\n",
              "\n",
              "    .dataframe tbody tr th {\n",
              "        vertical-align: top;\n",
              "    }\n",
              "\n",
              "    .dataframe thead th {\n",
              "        text-align: right;\n",
              "    }\n",
              "</style>\n",
              "<table border=\"1\" class=\"dataframe\">\n",
              "  <thead>\n",
              "    <tr style=\"text-align: right;\">\n",
              "      <th></th>\n",
              "      <th>ticket_no</th>\n",
              "      <th>reserve_no</th>\n",
              "      <th>MB_IDX</th>\n",
              "      <th>date</th>\n",
              "      <th>time</th>\n",
              "      <th>product_grade_name</th>\n",
              "      <th>product_denomination_name</th>\n",
              "      <th>seat_Attribute_4</th>\n",
              "      <th>cancel_yn</th>\n",
              "    </tr>\n",
              "  </thead>\n",
              "  <tbody>\n",
              "    <tr>\n",
              "      <th>0</th>\n",
              "      <td>1071933885</td>\n",
              "      <td>1427279942</td>\n",
              "      <td>291</td>\n",
              "      <td>2022-02-19</td>\n",
              "      <td>16:30:00</td>\n",
              "      <td>1인 테이블석(SG2)</td>\n",
              "      <td>5천원 멤버십 할인권 (일반)</td>\n",
              "      <td>S1구역</td>\n",
              "      <td>Y</td>\n",
              "    </tr>\n",
              "    <tr>\n",
              "      <th>1</th>\n",
              "      <td>1071933954</td>\n",
              "      <td>1427279998</td>\n",
              "      <td>1073</td>\n",
              "      <td>2022-02-19</td>\n",
              "      <td>16:30:00</td>\n",
              "      <td>With석</td>\n",
              "      <td>성인</td>\n",
              "      <td>W8구역</td>\n",
              "      <td>Y</td>\n",
              "    </tr>\n",
              "    <tr>\n",
              "      <th>2</th>\n",
              "      <td>1071933955</td>\n",
              "      <td>1427279998</td>\n",
              "      <td>1073</td>\n",
              "      <td>2022-02-19</td>\n",
              "      <td>16:30:00</td>\n",
              "      <td>With석</td>\n",
              "      <td>성인</td>\n",
              "      <td>W8구역</td>\n",
              "      <td>Y</td>\n",
              "    </tr>\n",
              "    <tr>\n",
              "      <th>3</th>\n",
              "      <td>1071933956</td>\n",
              "      <td>1427279998</td>\n",
              "      <td>1073</td>\n",
              "      <td>2022-02-19</td>\n",
              "      <td>16:30:00</td>\n",
              "      <td>With석</td>\n",
              "      <td>성인</td>\n",
              "      <td>W8구역</td>\n",
              "      <td>Y</td>\n",
              "    </tr>\n",
              "    <tr>\n",
              "      <th>4</th>\n",
              "      <td>1071960581</td>\n",
              "      <td>1427314440</td>\n",
              "      <td>3281</td>\n",
              "      <td>2022-02-19</td>\n",
              "      <td>16:30:00</td>\n",
              "      <td>Exciting석</td>\n",
              "      <td>성인</td>\n",
              "      <td>E6구역</td>\n",
              "      <td>Y</td>\n",
              "    </tr>\n",
              "  </tbody>\n",
              "</table>\n",
              "</div>\n",
              "      <button class=\"colab-df-convert\" onclick=\"convertToInteractive('df-3bf34f91-1a13-4190-b450-fdff36a356be')\"\n",
              "              title=\"Convert this dataframe to an interactive table.\"\n",
              "              style=\"display:none;\">\n",
              "        \n",
              "  <svg xmlns=\"http://www.w3.org/2000/svg\" height=\"24px\"viewBox=\"0 0 24 24\"\n",
              "       width=\"24px\">\n",
              "    <path d=\"M0 0h24v24H0V0z\" fill=\"none\"/>\n",
              "    <path d=\"M18.56 5.44l.94 2.06.94-2.06 2.06-.94-2.06-.94-.94-2.06-.94 2.06-2.06.94zm-11 1L8.5 8.5l.94-2.06 2.06-.94-2.06-.94L8.5 2.5l-.94 2.06-2.06.94zm10 10l.94 2.06.94-2.06 2.06-.94-2.06-.94-.94-2.06-.94 2.06-2.06.94z\"/><path d=\"M17.41 7.96l-1.37-1.37c-.4-.4-.92-.59-1.43-.59-.52 0-1.04.2-1.43.59L10.3 9.45l-7.72 7.72c-.78.78-.78 2.05 0 2.83L4 21.41c.39.39.9.59 1.41.59.51 0 1.02-.2 1.41-.59l7.78-7.78 2.81-2.81c.8-.78.8-2.07 0-2.86zM5.41 20L4 18.59l7.72-7.72 1.47 1.35L5.41 20z\"/>\n",
              "  </svg>\n",
              "      </button>\n",
              "      \n",
              "  <style>\n",
              "    .colab-df-container {\n",
              "      display:flex;\n",
              "      flex-wrap:wrap;\n",
              "      gap: 12px;\n",
              "    }\n",
              "\n",
              "    .colab-df-convert {\n",
              "      background-color: #E8F0FE;\n",
              "      border: none;\n",
              "      border-radius: 50%;\n",
              "      cursor: pointer;\n",
              "      display: none;\n",
              "      fill: #1967D2;\n",
              "      height: 32px;\n",
              "      padding: 0 0 0 0;\n",
              "      width: 32px;\n",
              "    }\n",
              "\n",
              "    .colab-df-convert:hover {\n",
              "      background-color: #E2EBFA;\n",
              "      box-shadow: 0px 1px 2px rgba(60, 64, 67, 0.3), 0px 1px 3px 1px rgba(60, 64, 67, 0.15);\n",
              "      fill: #174EA6;\n",
              "    }\n",
              "\n",
              "    [theme=dark] .colab-df-convert {\n",
              "      background-color: #3B4455;\n",
              "      fill: #D2E3FC;\n",
              "    }\n",
              "\n",
              "    [theme=dark] .colab-df-convert:hover {\n",
              "      background-color: #434B5C;\n",
              "      box-shadow: 0px 1px 3px 1px rgba(0, 0, 0, 0.15);\n",
              "      filter: drop-shadow(0px 1px 2px rgba(0, 0, 0, 0.3));\n",
              "      fill: #FFFFFF;\n",
              "    }\n",
              "  </style>\n",
              "\n",
              "      <script>\n",
              "        const buttonEl =\n",
              "          document.querySelector('#df-3bf34f91-1a13-4190-b450-fdff36a356be button.colab-df-convert');\n",
              "        buttonEl.style.display =\n",
              "          google.colab.kernel.accessAllowed ? 'block' : 'none';\n",
              "\n",
              "        async function convertToInteractive(key) {\n",
              "          const element = document.querySelector('#df-3bf34f91-1a13-4190-b450-fdff36a356be');\n",
              "          const dataTable =\n",
              "            await google.colab.kernel.invokeFunction('convertToInteractive',\n",
              "                                                     [key], {});\n",
              "          if (!dataTable) return;\n",
              "\n",
              "          const docLinkHtml = 'Like what you see? Visit the ' +\n",
              "            '<a target=\"_blank\" href=https://colab.research.google.com/notebooks/data_table.ipynb>data table notebook</a>'\n",
              "            + ' to learn more about interactive tables.';\n",
              "          element.innerHTML = '';\n",
              "          dataTable['output_type'] = 'display_data';\n",
              "          await google.colab.output.renderOutput(dataTable, element);\n",
              "          const docLink = document.createElement('div');\n",
              "          docLink.innerHTML = docLinkHtml;\n",
              "          element.appendChild(docLink);\n",
              "        }\n",
              "      </script>\n",
              "    </div>\n",
              "  </div>\n",
              "  "
            ]
          },
          "metadata": {},
          "execution_count": 20
        }
      ]
    },
    {
      "cell_type": "code",
      "source": [
        "rt['product_grade_name'].unique()"
      ],
      "metadata": {
        "colab": {
          "base_uri": "https://localhost:8080/"
        },
        "id": "5Al5MTwZJhoT",
        "outputId": "a417b29e-db55-48fc-a089-9fe8b691f940"
      },
      "execution_count": null,
      "outputs": [
        {
          "output_type": "execute_result",
          "data": {
            "text/plain": [
              "array(['1인 테이블석(SG2)', 'With석', 'Exciting석', 'S석', 'Expert석',\n",
              "       'World class석', '프리미엄 클래식', '1인 테이블석(EG4)', '원정석', '스카이라운지',\n",
              "       '하이네켄 테이블석(2인)', 'N석', '1인 테이블석(EG1)', '프리미엄 골드', '피크닉 테이블석(2인)',\n",
              "       'Wide view석', '서비푸드 테이블석(EG4)', '서비푸드 테이블석(SG2)', '서비푸드 테이블석(EG1)',\n",
              "       '1인 테이블석EG4)'], dtype=object)"
            ]
          },
          "metadata": {},
          "execution_count": 21
        }
      ]
    },
    {
      "cell_type": "code",
      "source": [
        "rt['product_denomination_name'].unique()"
      ],
      "metadata": {
        "colab": {
          "base_uri": "https://localhost:8080/"
        },
        "id": "g4W-v0LlDW8r",
        "outputId": "96bd0866-2830-4514-f203-0744ba428215"
      },
      "execution_count": null,
      "outputs": [
        {
          "output_type": "execute_result",
          "data": {
            "text/plain": [
              "array(['5천원 멤버십 할인권 (일반)', '성인', '청소년/어린이', '예매권북', 'ㅅㅇ전 게임권',\n",
              "       '5천원 멤버십 할인권 (성인)', 'K리그 축덕카드(체크)', 'K리그 축덕카드(신용)', '일반',\n",
              "       '5천원 멤버십 할인권(청소년/어린이)', '문화누리카드(성인)', '1,000포인트 할인 쿠폰(성인)',\n",
              "       '1,000포인트 할인 쿠폰(청소년/어린이)', '3,000포인트 할인 쿠폰(성인)',\n",
              "       '3,000포인트 할인 쿠폰(청소년/어린이)', '5,000포인트 할인 쿠폰(성인)',\n",
              "       '5,000포인트 할인 쿠폰(청소년/어린이)', '10% 할인 쿠폰(성인)', '10% 할인 쿠폰(청소년/어린이)',\n",
              "       '생일쿠폰(성인)', '1만원 멤버십 할인권 (성인)', '생일쿠폰(청소년/어린이)',\n",
              "       '1만원 멤버십 할인권 (청소년/어린이)', '5,000포인트 할인 쿠폰(일반)', 'K리그 PASS',\n",
              "       '성인/청소년/어린이', '청소년', 'N회 방문자 할인쿠폰', '어린이', '포스코 건설 예매권',\n",
              "       '셀트리온 예매권', '게임권', '1인 테이블석 할인권', '3,000포인트 할인 쿠폰(일반)',\n",
              "       '1,000포인트 할인 쿠폰(일반)', '롯데백화점 30% 할인쿠폰(성인)', '1인 테이블석 50% 할인쿠폰',\n",
              "       '프리미엄 골드석 50% 할인쿠폰'], dtype=object)"
            ]
          },
          "metadata": {},
          "execution_count": 22
        }
      ]
    },
    {
      "cell_type": "code",
      "source": [
        "# 1인, 서비푸드 묶기\n",
        "rt.loc[rt[rt['product_grade_name'].str.contains('1인')].index, 'product_grade_name'] = '1인 테이블석'\n",
        "rt.loc[rt[rt['product_grade_name'].str.contains('서비푸드')].index, 'product_grade_name'] = '서비푸드 테이블석'"
      ],
      "metadata": {
        "id": "xHy-tifeubmA"
      },
      "execution_count": null,
      "outputs": []
    },
    {
      "cell_type": "code",
      "source": [
        "ss = list(rt[rt['product_denomination_name'] == '일반']['product_grade_name'].unique())\n",
        "ss.append('스카이라운지')\n",
        "# 다음의 특성화석은 연령 구분 없이 동일한 가격을 받아서 일반으로 표기됨\n",
        "print(ss)"
      ],
      "metadata": {
        "id": "WLAkizIQHJJj",
        "colab": {
          "base_uri": "https://localhost:8080/"
        },
        "outputId": "bd30ee86-9ff9-4e91-807d-cad7ab9cfccd"
      },
      "execution_count": null,
      "outputs": [
        {
          "output_type": "stream",
          "name": "stdout",
          "text": [
            "['프리미엄 클래식', '1인 테이블석', '하이네켄 테이블석(2인)', '프리미엄 골드', '피크닉 테이블석(2인)', '서비푸드 테이블석', '스카이라운지']\n"
          ]
        }
      ]
    },
    {
      "cell_type": "code",
      "source": [
        "for i in range(len(rt)):\n",
        "    if rt.loc[i, 'product_grade_name'] in ss:\n",
        "        rt.loc[i, 'special_seat_yn'] = 1\n",
        "    else:\n",
        "        rt.loc[i, 'special_seat_yn'] = 0"
      ],
      "metadata": {
        "id": "iqt4nyEELyDe"
      },
      "execution_count": null,
      "outputs": []
    },
    {
      "cell_type": "code",
      "source": [
        "rt['special_seat_yn'] = rt['special_seat_yn'].astype(int)"
      ],
      "metadata": {
        "id": "Od8FeTLzMMhY"
      },
      "execution_count": null,
      "outputs": []
    },
    {
      "cell_type": "code",
      "source": [
        "list_ = ['성인','청소년/어린이','일반','성인/청소년/어린이','청소년','어린이']\n",
        "\n",
        "for i in range(len(rt)):\n",
        "    if rt.loc[i,'product_denomination_name'] in list_:\n",
        "        rt.loc[i, 'discount_yn'] = 0\n",
        "    else:\n",
        "        rt.loc[i, 'discount_yn'] = 1"
      ],
      "metadata": {
        "id": "3dKEOxulHmnt"
      },
      "execution_count": null,
      "outputs": []
    },
    {
      "cell_type": "code",
      "source": [
        "rt['discount_yn'] = rt['discount_yn'].astype(int)"
      ],
      "metadata": {
        "id": "eAtGb9-wI04n"
      },
      "execution_count": null,
      "outputs": []
    },
    {
      "cell_type": "code",
      "source": [
        "rt['product_denomination_name'].unique()"
      ],
      "metadata": {
        "colab": {
          "base_uri": "https://localhost:8080/"
        },
        "id": "ymsnpP6Eu9-B",
        "outputId": "5317e802-7587-4964-db8f-7ea6bf00acd1"
      },
      "execution_count": null,
      "outputs": [
        {
          "output_type": "execute_result",
          "data": {
            "text/plain": [
              "array(['5천원 멤버십 할인권 (일반)', '성인', '청소년/어린이', '예매권북', 'ㅅㅇ전 게임권',\n",
              "       '5천원 멤버십 할인권 (성인)', 'K리그 축덕카드(체크)', 'K리그 축덕카드(신용)', '일반',\n",
              "       '5천원 멤버십 할인권(청소년/어린이)', '문화누리카드(성인)', '1,000포인트 할인 쿠폰(성인)',\n",
              "       '1,000포인트 할인 쿠폰(청소년/어린이)', '3,000포인트 할인 쿠폰(성인)',\n",
              "       '3,000포인트 할인 쿠폰(청소년/어린이)', '5,000포인트 할인 쿠폰(성인)',\n",
              "       '5,000포인트 할인 쿠폰(청소년/어린이)', '10% 할인 쿠폰(성인)', '10% 할인 쿠폰(청소년/어린이)',\n",
              "       '생일쿠폰(성인)', '1만원 멤버십 할인권 (성인)', '생일쿠폰(청소년/어린이)',\n",
              "       '1만원 멤버십 할인권 (청소년/어린이)', '5,000포인트 할인 쿠폰(일반)', 'K리그 PASS',\n",
              "       '성인/청소년/어린이', '청소년', 'N회 방문자 할인쿠폰', '어린이', '포스코 건설 예매권',\n",
              "       '셀트리온 예매권', '게임권', '1인 테이블석 할인권', '3,000포인트 할인 쿠폰(일반)',\n",
              "       '1,000포인트 할인 쿠폰(일반)', '롯데백화점 30% 할인쿠폰(성인)', '1인 테이블석 50% 할인쿠폰',\n",
              "       '프리미엄 골드석 50% 할인쿠폰'], dtype=object)"
            ]
          },
          "metadata": {},
          "execution_count": 29
        }
      ]
    },
    {
      "cell_type": "code",
      "source": [
        "# 멤버십, 카드, 게임권, 포인트, 예매권, 예매권북, 샐일쿠폰, 할인쿠폰, K리그 PASS로 그룹화\n",
        "rt.loc[rt[rt['product_denomination_name'].str.contains('멤버십')].index, 'discount_way'] = '멤버십'\n",
        "rt.loc[rt[rt['product_denomination_name'].str.contains('카드')].index, 'discount_way'] = '카드'\n",
        "rt.loc[rt[rt['product_denomination_name'].str.contains('게임권')].index, 'discount_way'] = '게임권'\n",
        "rt.loc[rt[rt['product_denomination_name'].str.contains('포인트')].index, 'discount_way'] = '포인트'\n",
        "rt.loc[rt[rt['product_denomination_name'].str.contains('예매권')].index, 'discount_way'] = '예매권'\n",
        "rt.loc[rt[rt['product_denomination_name'].str.contains('예매권북')].index, 'discount_way'] = '예매권북'\n",
        "rt.loc[rt[rt['product_denomination_name'].str.contains('생일쿠폰')].index, 'discount_way'] = '생일쿠폰'\n",
        "rt.loc[rt[rt['product_denomination_name'].str.contains('%')].index, 'discount_way'] = '할인쿠폰'\n",
        "rt.loc[rt[rt['product_denomination_name'].str.contains('N회 방문자')].index, 'discount_way'] = '할인쿠폰'\n",
        "rt.loc[rt[rt['product_denomination_name'].str.contains('1인 테이블석 할인권')].index, 'discount_way'] = '할인쿠폰'\n",
        "rt.loc[rt[rt['product_denomination_name'].str.contains('K리그 PASS')].index, 'discount_way'] = 'K리그 PASS'"
      ],
      "metadata": {
        "id": "NAaBfGFHu-kb"
      },
      "execution_count": null,
      "outputs": []
    },
    {
      "cell_type": "code",
      "source": [
        "rt['discount_way'] = rt['discount_way'].fillna('없음')"
      ],
      "metadata": {
        "id": "bou7avX-0b5E"
      },
      "execution_count": null,
      "outputs": []
    },
    {
      "cell_type": "code",
      "source": [
        "rt.head()"
      ],
      "metadata": {
        "colab": {
          "base_uri": "https://localhost:8080/",
          "height": 357
        },
        "id": "eh-9FbiX0Ysy",
        "outputId": "8841ac6b-7c12-48c7-ea44-1cbb59446bb7"
      },
      "execution_count": null,
      "outputs": [
        {
          "output_type": "execute_result",
          "data": {
            "text/plain": [
              "    ticket_no  reserve_no  MB_IDX        date      time product_grade_name  \\\n",
              "0  1071933885  1427279942     291  2022-02-19  16:30:00            1인 테이블석   \n",
              "1  1071933954  1427279998    1073  2022-02-19  16:30:00              With석   \n",
              "2  1071933955  1427279998    1073  2022-02-19  16:30:00              With석   \n",
              "3  1071933956  1427279998    1073  2022-02-19  16:30:00              With석   \n",
              "4  1071960581  1427314440    3281  2022-02-19  16:30:00          Exciting석   \n",
              "\n",
              "  product_denomination_name seat_Attribute_4 cancel_yn  special_seat_yn  \\\n",
              "0          5천원 멤버십 할인권 (일반)             S1구역         Y                1   \n",
              "1                        성인             W8구역         Y                0   \n",
              "2                        성인             W8구역         Y                0   \n",
              "3                        성인             W8구역         Y                0   \n",
              "4                        성인             E6구역         Y                0   \n",
              "\n",
              "   discount_yn discount_way  \n",
              "0            1          멤버십  \n",
              "1            0           없음  \n",
              "2            0           없음  \n",
              "3            0           없음  \n",
              "4            0           없음  "
            ],
            "text/html": [
              "\n",
              "  <div id=\"df-4117c83e-6294-4d67-bfd0-0d90d547d4a2\">\n",
              "    <div class=\"colab-df-container\">\n",
              "      <div>\n",
              "<style scoped>\n",
              "    .dataframe tbody tr th:only-of-type {\n",
              "        vertical-align: middle;\n",
              "    }\n",
              "\n",
              "    .dataframe tbody tr th {\n",
              "        vertical-align: top;\n",
              "    }\n",
              "\n",
              "    .dataframe thead th {\n",
              "        text-align: right;\n",
              "    }\n",
              "</style>\n",
              "<table border=\"1\" class=\"dataframe\">\n",
              "  <thead>\n",
              "    <tr style=\"text-align: right;\">\n",
              "      <th></th>\n",
              "      <th>ticket_no</th>\n",
              "      <th>reserve_no</th>\n",
              "      <th>MB_IDX</th>\n",
              "      <th>date</th>\n",
              "      <th>time</th>\n",
              "      <th>product_grade_name</th>\n",
              "      <th>product_denomination_name</th>\n",
              "      <th>seat_Attribute_4</th>\n",
              "      <th>cancel_yn</th>\n",
              "      <th>special_seat_yn</th>\n",
              "      <th>discount_yn</th>\n",
              "      <th>discount_way</th>\n",
              "    </tr>\n",
              "  </thead>\n",
              "  <tbody>\n",
              "    <tr>\n",
              "      <th>0</th>\n",
              "      <td>1071933885</td>\n",
              "      <td>1427279942</td>\n",
              "      <td>291</td>\n",
              "      <td>2022-02-19</td>\n",
              "      <td>16:30:00</td>\n",
              "      <td>1인 테이블석</td>\n",
              "      <td>5천원 멤버십 할인권 (일반)</td>\n",
              "      <td>S1구역</td>\n",
              "      <td>Y</td>\n",
              "      <td>1</td>\n",
              "      <td>1</td>\n",
              "      <td>멤버십</td>\n",
              "    </tr>\n",
              "    <tr>\n",
              "      <th>1</th>\n",
              "      <td>1071933954</td>\n",
              "      <td>1427279998</td>\n",
              "      <td>1073</td>\n",
              "      <td>2022-02-19</td>\n",
              "      <td>16:30:00</td>\n",
              "      <td>With석</td>\n",
              "      <td>성인</td>\n",
              "      <td>W8구역</td>\n",
              "      <td>Y</td>\n",
              "      <td>0</td>\n",
              "      <td>0</td>\n",
              "      <td>없음</td>\n",
              "    </tr>\n",
              "    <tr>\n",
              "      <th>2</th>\n",
              "      <td>1071933955</td>\n",
              "      <td>1427279998</td>\n",
              "      <td>1073</td>\n",
              "      <td>2022-02-19</td>\n",
              "      <td>16:30:00</td>\n",
              "      <td>With석</td>\n",
              "      <td>성인</td>\n",
              "      <td>W8구역</td>\n",
              "      <td>Y</td>\n",
              "      <td>0</td>\n",
              "      <td>0</td>\n",
              "      <td>없음</td>\n",
              "    </tr>\n",
              "    <tr>\n",
              "      <th>3</th>\n",
              "      <td>1071933956</td>\n",
              "      <td>1427279998</td>\n",
              "      <td>1073</td>\n",
              "      <td>2022-02-19</td>\n",
              "      <td>16:30:00</td>\n",
              "      <td>With석</td>\n",
              "      <td>성인</td>\n",
              "      <td>W8구역</td>\n",
              "      <td>Y</td>\n",
              "      <td>0</td>\n",
              "      <td>0</td>\n",
              "      <td>없음</td>\n",
              "    </tr>\n",
              "    <tr>\n",
              "      <th>4</th>\n",
              "      <td>1071960581</td>\n",
              "      <td>1427314440</td>\n",
              "      <td>3281</td>\n",
              "      <td>2022-02-19</td>\n",
              "      <td>16:30:00</td>\n",
              "      <td>Exciting석</td>\n",
              "      <td>성인</td>\n",
              "      <td>E6구역</td>\n",
              "      <td>Y</td>\n",
              "      <td>0</td>\n",
              "      <td>0</td>\n",
              "      <td>없음</td>\n",
              "    </tr>\n",
              "  </tbody>\n",
              "</table>\n",
              "</div>\n",
              "      <button class=\"colab-df-convert\" onclick=\"convertToInteractive('df-4117c83e-6294-4d67-bfd0-0d90d547d4a2')\"\n",
              "              title=\"Convert this dataframe to an interactive table.\"\n",
              "              style=\"display:none;\">\n",
              "        \n",
              "  <svg xmlns=\"http://www.w3.org/2000/svg\" height=\"24px\"viewBox=\"0 0 24 24\"\n",
              "       width=\"24px\">\n",
              "    <path d=\"M0 0h24v24H0V0z\" fill=\"none\"/>\n",
              "    <path d=\"M18.56 5.44l.94 2.06.94-2.06 2.06-.94-2.06-.94-.94-2.06-.94 2.06-2.06.94zm-11 1L8.5 8.5l.94-2.06 2.06-.94-2.06-.94L8.5 2.5l-.94 2.06-2.06.94zm10 10l.94 2.06.94-2.06 2.06-.94-2.06-.94-.94-2.06-.94 2.06-2.06.94z\"/><path d=\"M17.41 7.96l-1.37-1.37c-.4-.4-.92-.59-1.43-.59-.52 0-1.04.2-1.43.59L10.3 9.45l-7.72 7.72c-.78.78-.78 2.05 0 2.83L4 21.41c.39.39.9.59 1.41.59.51 0 1.02-.2 1.41-.59l7.78-7.78 2.81-2.81c.8-.78.8-2.07 0-2.86zM5.41 20L4 18.59l7.72-7.72 1.47 1.35L5.41 20z\"/>\n",
              "  </svg>\n",
              "      </button>\n",
              "      \n",
              "  <style>\n",
              "    .colab-df-container {\n",
              "      display:flex;\n",
              "      flex-wrap:wrap;\n",
              "      gap: 12px;\n",
              "    }\n",
              "\n",
              "    .colab-df-convert {\n",
              "      background-color: #E8F0FE;\n",
              "      border: none;\n",
              "      border-radius: 50%;\n",
              "      cursor: pointer;\n",
              "      display: none;\n",
              "      fill: #1967D2;\n",
              "      height: 32px;\n",
              "      padding: 0 0 0 0;\n",
              "      width: 32px;\n",
              "    }\n",
              "\n",
              "    .colab-df-convert:hover {\n",
              "      background-color: #E2EBFA;\n",
              "      box-shadow: 0px 1px 2px rgba(60, 64, 67, 0.3), 0px 1px 3px 1px rgba(60, 64, 67, 0.15);\n",
              "      fill: #174EA6;\n",
              "    }\n",
              "\n",
              "    [theme=dark] .colab-df-convert {\n",
              "      background-color: #3B4455;\n",
              "      fill: #D2E3FC;\n",
              "    }\n",
              "\n",
              "    [theme=dark] .colab-df-convert:hover {\n",
              "      background-color: #434B5C;\n",
              "      box-shadow: 0px 1px 3px 1px rgba(0, 0, 0, 0.15);\n",
              "      filter: drop-shadow(0px 1px 2px rgba(0, 0, 0, 0.3));\n",
              "      fill: #FFFFFF;\n",
              "    }\n",
              "  </style>\n",
              "\n",
              "      <script>\n",
              "        const buttonEl =\n",
              "          document.querySelector('#df-4117c83e-6294-4d67-bfd0-0d90d547d4a2 button.colab-df-convert');\n",
              "        buttonEl.style.display =\n",
              "          google.colab.kernel.accessAllowed ? 'block' : 'none';\n",
              "\n",
              "        async function convertToInteractive(key) {\n",
              "          const element = document.querySelector('#df-4117c83e-6294-4d67-bfd0-0d90d547d4a2');\n",
              "          const dataTable =\n",
              "            await google.colab.kernel.invokeFunction('convertToInteractive',\n",
              "                                                     [key], {});\n",
              "          if (!dataTable) return;\n",
              "\n",
              "          const docLinkHtml = 'Like what you see? Visit the ' +\n",
              "            '<a target=\"_blank\" href=https://colab.research.google.com/notebooks/data_table.ipynb>data table notebook</a>'\n",
              "            + ' to learn more about interactive tables.';\n",
              "          element.innerHTML = '';\n",
              "          dataTable['output_type'] = 'display_data';\n",
              "          await google.colab.output.renderOutput(dataTable, element);\n",
              "          const docLink = document.createElement('div');\n",
              "          docLink.innerHTML = docLinkHtml;\n",
              "          element.appendChild(docLink);\n",
              "        }\n",
              "      </script>\n",
              "    </div>\n",
              "  </div>\n",
              "  "
            ]
          },
          "metadata": {},
          "execution_count": 32
        }
      ]
    },
    {
      "cell_type": "markdown",
      "source": [
        "## 실예매자"
      ],
      "metadata": {
        "id": "dUco4gYNoCLf"
      }
    },
    {
      "cell_type": "code",
      "source": [
        "# 예매 취소를 하지 않았다 > 실예매자\n",
        "rt_n = rt[rt['cancel_yn'] == 'N'].reset_index(drop=True)"
      ],
      "metadata": {
        "id": "kpI8DxbVRaq5"
      },
      "execution_count": null,
      "outputs": []
    },
    {
      "cell_type": "code",
      "source": [
        "rt_n = rt_n.drop('cancel_yn', axis=1)"
      ],
      "metadata": {
        "id": "xq91Ohed08xS"
      },
      "execution_count": null,
      "outputs": []
    },
    {
      "cell_type": "code",
      "source": [
        "len(rt_n['date'].unique())"
      ],
      "metadata": {
        "colab": {
          "base_uri": "https://localhost:8080/"
        },
        "id": "mYNcNJuncXeA",
        "outputId": "83452f0b-3b24-45d4-b901-390eaaad734d"
      },
      "execution_count": null,
      "outputs": [
        {
          "output_type": "execute_result",
          "data": {
            "text/plain": [
              "19"
            ]
          },
          "metadata": {},
          "execution_count": 35
        }
      ]
    },
    {
      "cell_type": "code",
      "source": [
        "rt_n.head()"
      ],
      "metadata": {
        "colab": {
          "base_uri": "https://localhost:8080/",
          "height": 357
        },
        "id": "cFiqB7Tug0l9",
        "outputId": "3dc7c76e-bff8-458b-82dd-31c983add864"
      },
      "execution_count": null,
      "outputs": [
        {
          "output_type": "execute_result",
          "data": {
            "text/plain": [
              "    ticket_no  reserve_no  MB_IDX        date      time product_grade_name  \\\n",
              "0  1071933863  1427279896    3641  2022-02-19  16:30:00                 S석   \n",
              "1  1071933943  1427279972  101447  2022-02-19  16:30:00                 S석   \n",
              "2  1071933944  1427279972  101447  2022-02-19  16:30:00                 S석   \n",
              "3  1072000529  1427360381  102027  2022-02-19  16:30:00                 S석   \n",
              "4  1072000530  1427360381  102027  2022-02-19  16:30:00                 S석   \n",
              "\n",
              "  product_denomination_name seat_Attribute_4  special_seat_yn  discount_yn  \\\n",
              "0                        성인            S11구역                0            0   \n",
              "1                        성인            S 3구역                0            0   \n",
              "2                        성인            S 3구역                0            0   \n",
              "3                        성인            S 4구역                0            0   \n",
              "4                        성인            S 4구역                0            0   \n",
              "\n",
              "  discount_way  \n",
              "0           없음  \n",
              "1           없음  \n",
              "2           없음  \n",
              "3           없음  \n",
              "4           없음  "
            ],
            "text/html": [
              "\n",
              "  <div id=\"df-19360f9d-aab7-48e4-ac93-0c3dd0b3ceaa\">\n",
              "    <div class=\"colab-df-container\">\n",
              "      <div>\n",
              "<style scoped>\n",
              "    .dataframe tbody tr th:only-of-type {\n",
              "        vertical-align: middle;\n",
              "    }\n",
              "\n",
              "    .dataframe tbody tr th {\n",
              "        vertical-align: top;\n",
              "    }\n",
              "\n",
              "    .dataframe thead th {\n",
              "        text-align: right;\n",
              "    }\n",
              "</style>\n",
              "<table border=\"1\" class=\"dataframe\">\n",
              "  <thead>\n",
              "    <tr style=\"text-align: right;\">\n",
              "      <th></th>\n",
              "      <th>ticket_no</th>\n",
              "      <th>reserve_no</th>\n",
              "      <th>MB_IDX</th>\n",
              "      <th>date</th>\n",
              "      <th>time</th>\n",
              "      <th>product_grade_name</th>\n",
              "      <th>product_denomination_name</th>\n",
              "      <th>seat_Attribute_4</th>\n",
              "      <th>special_seat_yn</th>\n",
              "      <th>discount_yn</th>\n",
              "      <th>discount_way</th>\n",
              "    </tr>\n",
              "  </thead>\n",
              "  <tbody>\n",
              "    <tr>\n",
              "      <th>0</th>\n",
              "      <td>1071933863</td>\n",
              "      <td>1427279896</td>\n",
              "      <td>3641</td>\n",
              "      <td>2022-02-19</td>\n",
              "      <td>16:30:00</td>\n",
              "      <td>S석</td>\n",
              "      <td>성인</td>\n",
              "      <td>S11구역</td>\n",
              "      <td>0</td>\n",
              "      <td>0</td>\n",
              "      <td>없음</td>\n",
              "    </tr>\n",
              "    <tr>\n",
              "      <th>1</th>\n",
              "      <td>1071933943</td>\n",
              "      <td>1427279972</td>\n",
              "      <td>101447</td>\n",
              "      <td>2022-02-19</td>\n",
              "      <td>16:30:00</td>\n",
              "      <td>S석</td>\n",
              "      <td>성인</td>\n",
              "      <td>S 3구역</td>\n",
              "      <td>0</td>\n",
              "      <td>0</td>\n",
              "      <td>없음</td>\n",
              "    </tr>\n",
              "    <tr>\n",
              "      <th>2</th>\n",
              "      <td>1071933944</td>\n",
              "      <td>1427279972</td>\n",
              "      <td>101447</td>\n",
              "      <td>2022-02-19</td>\n",
              "      <td>16:30:00</td>\n",
              "      <td>S석</td>\n",
              "      <td>성인</td>\n",
              "      <td>S 3구역</td>\n",
              "      <td>0</td>\n",
              "      <td>0</td>\n",
              "      <td>없음</td>\n",
              "    </tr>\n",
              "    <tr>\n",
              "      <th>3</th>\n",
              "      <td>1072000529</td>\n",
              "      <td>1427360381</td>\n",
              "      <td>102027</td>\n",
              "      <td>2022-02-19</td>\n",
              "      <td>16:30:00</td>\n",
              "      <td>S석</td>\n",
              "      <td>성인</td>\n",
              "      <td>S 4구역</td>\n",
              "      <td>0</td>\n",
              "      <td>0</td>\n",
              "      <td>없음</td>\n",
              "    </tr>\n",
              "    <tr>\n",
              "      <th>4</th>\n",
              "      <td>1072000530</td>\n",
              "      <td>1427360381</td>\n",
              "      <td>102027</td>\n",
              "      <td>2022-02-19</td>\n",
              "      <td>16:30:00</td>\n",
              "      <td>S석</td>\n",
              "      <td>성인</td>\n",
              "      <td>S 4구역</td>\n",
              "      <td>0</td>\n",
              "      <td>0</td>\n",
              "      <td>없음</td>\n",
              "    </tr>\n",
              "  </tbody>\n",
              "</table>\n",
              "</div>\n",
              "      <button class=\"colab-df-convert\" onclick=\"convertToInteractive('df-19360f9d-aab7-48e4-ac93-0c3dd0b3ceaa')\"\n",
              "              title=\"Convert this dataframe to an interactive table.\"\n",
              "              style=\"display:none;\">\n",
              "        \n",
              "  <svg xmlns=\"http://www.w3.org/2000/svg\" height=\"24px\"viewBox=\"0 0 24 24\"\n",
              "       width=\"24px\">\n",
              "    <path d=\"M0 0h24v24H0V0z\" fill=\"none\"/>\n",
              "    <path d=\"M18.56 5.44l.94 2.06.94-2.06 2.06-.94-2.06-.94-.94-2.06-.94 2.06-2.06.94zm-11 1L8.5 8.5l.94-2.06 2.06-.94-2.06-.94L8.5 2.5l-.94 2.06-2.06.94zm10 10l.94 2.06.94-2.06 2.06-.94-2.06-.94-.94-2.06-.94 2.06-2.06.94z\"/><path d=\"M17.41 7.96l-1.37-1.37c-.4-.4-.92-.59-1.43-.59-.52 0-1.04.2-1.43.59L10.3 9.45l-7.72 7.72c-.78.78-.78 2.05 0 2.83L4 21.41c.39.39.9.59 1.41.59.51 0 1.02-.2 1.41-.59l7.78-7.78 2.81-2.81c.8-.78.8-2.07 0-2.86zM5.41 20L4 18.59l7.72-7.72 1.47 1.35L5.41 20z\"/>\n",
              "  </svg>\n",
              "      </button>\n",
              "      \n",
              "  <style>\n",
              "    .colab-df-container {\n",
              "      display:flex;\n",
              "      flex-wrap:wrap;\n",
              "      gap: 12px;\n",
              "    }\n",
              "\n",
              "    .colab-df-convert {\n",
              "      background-color: #E8F0FE;\n",
              "      border: none;\n",
              "      border-radius: 50%;\n",
              "      cursor: pointer;\n",
              "      display: none;\n",
              "      fill: #1967D2;\n",
              "      height: 32px;\n",
              "      padding: 0 0 0 0;\n",
              "      width: 32px;\n",
              "    }\n",
              "\n",
              "    .colab-df-convert:hover {\n",
              "      background-color: #E2EBFA;\n",
              "      box-shadow: 0px 1px 2px rgba(60, 64, 67, 0.3), 0px 1px 3px 1px rgba(60, 64, 67, 0.15);\n",
              "      fill: #174EA6;\n",
              "    }\n",
              "\n",
              "    [theme=dark] .colab-df-convert {\n",
              "      background-color: #3B4455;\n",
              "      fill: #D2E3FC;\n",
              "    }\n",
              "\n",
              "    [theme=dark] .colab-df-convert:hover {\n",
              "      background-color: #434B5C;\n",
              "      box-shadow: 0px 1px 3px 1px rgba(0, 0, 0, 0.15);\n",
              "      filter: drop-shadow(0px 1px 2px rgba(0, 0, 0, 0.3));\n",
              "      fill: #FFFFFF;\n",
              "    }\n",
              "  </style>\n",
              "\n",
              "      <script>\n",
              "        const buttonEl =\n",
              "          document.querySelector('#df-19360f9d-aab7-48e4-ac93-0c3dd0b3ceaa button.colab-df-convert');\n",
              "        buttonEl.style.display =\n",
              "          google.colab.kernel.accessAllowed ? 'block' : 'none';\n",
              "\n",
              "        async function convertToInteractive(key) {\n",
              "          const element = document.querySelector('#df-19360f9d-aab7-48e4-ac93-0c3dd0b3ceaa');\n",
              "          const dataTable =\n",
              "            await google.colab.kernel.invokeFunction('convertToInteractive',\n",
              "                                                     [key], {});\n",
              "          if (!dataTable) return;\n",
              "\n",
              "          const docLinkHtml = 'Like what you see? Visit the ' +\n",
              "            '<a target=\"_blank\" href=https://colab.research.google.com/notebooks/data_table.ipynb>data table notebook</a>'\n",
              "            + ' to learn more about interactive tables.';\n",
              "          element.innerHTML = '';\n",
              "          dataTable['output_type'] = 'display_data';\n",
              "          await google.colab.output.renderOutput(dataTable, element);\n",
              "          const docLink = document.createElement('div');\n",
              "          docLink.innerHTML = docLinkHtml;\n",
              "          element.appendChild(docLink);\n",
              "        }\n",
              "      </script>\n",
              "    </div>\n",
              "  </div>\n",
              "  "
            ]
          },
          "metadata": {},
          "execution_count": 36
        }
      ]
    },
    {
      "cell_type": "markdown",
      "source": [
        "## 이전 경기 예매 여부"
      ],
      "metadata": {
        "id": "UBFM7j4Fh3Rc"
      }
    },
    {
      "cell_type": "code",
      "source": [
        "# 이전 경기에 예매한 MB_IDX를 가져오고, 다음 경기에 예매한 MB_IDX를 매칭해서 이전 경기에 예매를 했었는지 여부를 새로운 컬럼으로 추가해준다."
      ],
      "metadata": {
        "id": "DrypJQXmoiey"
      },
      "execution_count": null,
      "outputs": []
    },
    {
      "cell_type": "code",
      "source": [
        "# date 유니크 가져오고\n",
        "# 현재와 전 경기의 멤버 인덱스를 비교\n",
        "# 겹치는 인덱스에 1을 안 겹치는 인덱스에 0을 부여\n",
        "# 전 경기 예매 여부 컬럼 생성"
      ],
      "metadata": {
        "id": "sczFrx49Mzzd"
      },
      "execution_count": null,
      "outputs": []
    },
    {
      "cell_type": "code",
      "source": [
        "date_list = list(rt_n['date'].unique())"
      ],
      "metadata": {
        "id": "rTaX9LODYZ_A"
      },
      "execution_count": null,
      "outputs": []
    },
    {
      "cell_type": "code",
      "source": [
        "before_reserve_yn_list = [9] * len(rt_n[rt_n['date'] == '2022-02-19']) # 2022-02-19가 첫 경기이므로 전 경기 예매 여부를 알 수 없음\n",
        "\n",
        "for i in range(len(date_list)-1):\n",
        "    now = rt_n[rt_n['date'] == date_list[i+1]]\n",
        "    before = rt_n[rt_n['date'] == date_list[i]]\n",
        "\n",
        "    only_now = set(now['MB_IDX']) - set(before['MB_IDX'])\n",
        "    both = set(now['MB_IDX']) - only_now\n",
        "\n",
        "    list_ = []\n",
        "    for j in now['MB_IDX']:\n",
        "        if j in both:\n",
        "            list_.append(1)\n",
        "        elif j in only_now:\n",
        "            list_.append(0)\n",
        "    before_reserve_yn_list.extend(list_)\n",
        "\n",
        "rt_n['before_reserve_yn'] = before_reserve_yn_list"
      ],
      "metadata": {
        "id": "DIwPJoW1O4K0"
      },
      "execution_count": null,
      "outputs": []
    },
    {
      "cell_type": "markdown",
      "source": [
        "## 시즌 첫번째 예매 여부"
      ],
      "metadata": {
        "id": "UZKau_PSVdIY"
      }
    },
    {
      "cell_type": "code",
      "source": [
        "# 첫번째 경기는 모두 1로 표기해주고,\n",
        "# 첫번째 경기의 MB_IDX를 가져와서 두번째 경기의 MB_IDX를 비교해서 순수 두번째 경기의 MB_IDX를 남기고 1로 표기\n",
        "# 첫번째 경기부터 전 경기까지 MB_IDX와 이번 경기 MB_IDX를 비교해서 순수 이번 경기 MB_IDX를 남기고 1로 표기\n",
        "# 반복\n",
        "# 1은 시즌 첫번째 예매, 0은 2회 이상 예매"
      ],
      "metadata": {
        "id": "rcax-CaEVZ-9"
      },
      "execution_count": null,
      "outputs": []
    },
    {
      "cell_type": "code",
      "source": [
        "first_yn_list = [1] * len(rt_n[rt_n['date'] == date_list[0]])\n",
        "\n",
        "for i, j in enumerate(date_list):\n",
        "    if i > 0:\n",
        "        now = rt_n[rt_n['date'] == date_list[i]]\n",
        "        before = rt_n[rt_n['date'] < date_list[i]]\n",
        "\n",
        "        first = set(now['MB_IDX']) - set(before['MB_IDX'])\n",
        "\n",
        "        list_ = []\n",
        "        for j in now['MB_IDX']:\n",
        "            if j in first:\n",
        "                list_.append(1)\n",
        "            else:\n",
        "                list_.append(0)\n",
        "        first_yn_list.extend(list_)\n",
        "\n",
        "rt_n['first_yn'] = first_yn_list"
      ],
      "metadata": {
        "id": "RWCk8-N6Yojl"
      },
      "execution_count": null,
      "outputs": []
    },
    {
      "cell_type": "markdown",
      "source": [
        "## 저장"
      ],
      "metadata": {
        "id": "htYSEQx9XGiw"
      }
    },
    {
      "cell_type": "code",
      "source": [
        "rt_n.head()"
      ],
      "metadata": {
        "colab": {
          "base_uri": "https://localhost:8080/",
          "height": 357
        },
        "id": "p-YwGTMn_BHK",
        "outputId": "cb86ba34-027b-4a9f-d1ef-64a3cec1fee2"
      },
      "execution_count": null,
      "outputs": [
        {
          "output_type": "execute_result",
          "data": {
            "text/plain": [
              "    ticket_no  reserve_no  MB_IDX        date      time product_grade_name  \\\n",
              "0  1071933863  1427279896    3641  2022-02-19  16:30:00                 S석   \n",
              "1  1071933943  1427279972  101447  2022-02-19  16:30:00                 S석   \n",
              "2  1071933944  1427279972  101447  2022-02-19  16:30:00                 S석   \n",
              "3  1072000529  1427360381  102027  2022-02-19  16:30:00                 S석   \n",
              "4  1072000530  1427360381  102027  2022-02-19  16:30:00                 S석   \n",
              "\n",
              "  product_denomination_name seat_Attribute_4  special_seat_yn  discount_yn  \\\n",
              "0                        성인            S11구역                0            0   \n",
              "1                        성인            S 3구역                0            0   \n",
              "2                        성인            S 3구역                0            0   \n",
              "3                        성인            S 4구역                0            0   \n",
              "4                        성인            S 4구역                0            0   \n",
              "\n",
              "  discount_way  before_reserve_yn  first_yn  \n",
              "0           없음                  9         1  \n",
              "1           없음                  9         1  \n",
              "2           없음                  9         1  \n",
              "3           없음                  9         1  \n",
              "4           없음                  9         1  "
            ],
            "text/html": [
              "\n",
              "  <div id=\"df-b59e4732-8b82-41d0-8bbe-de3978c3a5ec\">\n",
              "    <div class=\"colab-df-container\">\n",
              "      <div>\n",
              "<style scoped>\n",
              "    .dataframe tbody tr th:only-of-type {\n",
              "        vertical-align: middle;\n",
              "    }\n",
              "\n",
              "    .dataframe tbody tr th {\n",
              "        vertical-align: top;\n",
              "    }\n",
              "\n",
              "    .dataframe thead th {\n",
              "        text-align: right;\n",
              "    }\n",
              "</style>\n",
              "<table border=\"1\" class=\"dataframe\">\n",
              "  <thead>\n",
              "    <tr style=\"text-align: right;\">\n",
              "      <th></th>\n",
              "      <th>ticket_no</th>\n",
              "      <th>reserve_no</th>\n",
              "      <th>MB_IDX</th>\n",
              "      <th>date</th>\n",
              "      <th>time</th>\n",
              "      <th>product_grade_name</th>\n",
              "      <th>product_denomination_name</th>\n",
              "      <th>seat_Attribute_4</th>\n",
              "      <th>special_seat_yn</th>\n",
              "      <th>discount_yn</th>\n",
              "      <th>discount_way</th>\n",
              "      <th>before_reserve_yn</th>\n",
              "      <th>first_yn</th>\n",
              "    </tr>\n",
              "  </thead>\n",
              "  <tbody>\n",
              "    <tr>\n",
              "      <th>0</th>\n",
              "      <td>1071933863</td>\n",
              "      <td>1427279896</td>\n",
              "      <td>3641</td>\n",
              "      <td>2022-02-19</td>\n",
              "      <td>16:30:00</td>\n",
              "      <td>S석</td>\n",
              "      <td>성인</td>\n",
              "      <td>S11구역</td>\n",
              "      <td>0</td>\n",
              "      <td>0</td>\n",
              "      <td>없음</td>\n",
              "      <td>9</td>\n",
              "      <td>1</td>\n",
              "    </tr>\n",
              "    <tr>\n",
              "      <th>1</th>\n",
              "      <td>1071933943</td>\n",
              "      <td>1427279972</td>\n",
              "      <td>101447</td>\n",
              "      <td>2022-02-19</td>\n",
              "      <td>16:30:00</td>\n",
              "      <td>S석</td>\n",
              "      <td>성인</td>\n",
              "      <td>S 3구역</td>\n",
              "      <td>0</td>\n",
              "      <td>0</td>\n",
              "      <td>없음</td>\n",
              "      <td>9</td>\n",
              "      <td>1</td>\n",
              "    </tr>\n",
              "    <tr>\n",
              "      <th>2</th>\n",
              "      <td>1071933944</td>\n",
              "      <td>1427279972</td>\n",
              "      <td>101447</td>\n",
              "      <td>2022-02-19</td>\n",
              "      <td>16:30:00</td>\n",
              "      <td>S석</td>\n",
              "      <td>성인</td>\n",
              "      <td>S 3구역</td>\n",
              "      <td>0</td>\n",
              "      <td>0</td>\n",
              "      <td>없음</td>\n",
              "      <td>9</td>\n",
              "      <td>1</td>\n",
              "    </tr>\n",
              "    <tr>\n",
              "      <th>3</th>\n",
              "      <td>1072000529</td>\n",
              "      <td>1427360381</td>\n",
              "      <td>102027</td>\n",
              "      <td>2022-02-19</td>\n",
              "      <td>16:30:00</td>\n",
              "      <td>S석</td>\n",
              "      <td>성인</td>\n",
              "      <td>S 4구역</td>\n",
              "      <td>0</td>\n",
              "      <td>0</td>\n",
              "      <td>없음</td>\n",
              "      <td>9</td>\n",
              "      <td>1</td>\n",
              "    </tr>\n",
              "    <tr>\n",
              "      <th>4</th>\n",
              "      <td>1072000530</td>\n",
              "      <td>1427360381</td>\n",
              "      <td>102027</td>\n",
              "      <td>2022-02-19</td>\n",
              "      <td>16:30:00</td>\n",
              "      <td>S석</td>\n",
              "      <td>성인</td>\n",
              "      <td>S 4구역</td>\n",
              "      <td>0</td>\n",
              "      <td>0</td>\n",
              "      <td>없음</td>\n",
              "      <td>9</td>\n",
              "      <td>1</td>\n",
              "    </tr>\n",
              "  </tbody>\n",
              "</table>\n",
              "</div>\n",
              "      <button class=\"colab-df-convert\" onclick=\"convertToInteractive('df-b59e4732-8b82-41d0-8bbe-de3978c3a5ec')\"\n",
              "              title=\"Convert this dataframe to an interactive table.\"\n",
              "              style=\"display:none;\">\n",
              "        \n",
              "  <svg xmlns=\"http://www.w3.org/2000/svg\" height=\"24px\"viewBox=\"0 0 24 24\"\n",
              "       width=\"24px\">\n",
              "    <path d=\"M0 0h24v24H0V0z\" fill=\"none\"/>\n",
              "    <path d=\"M18.56 5.44l.94 2.06.94-2.06 2.06-.94-2.06-.94-.94-2.06-.94 2.06-2.06.94zm-11 1L8.5 8.5l.94-2.06 2.06-.94-2.06-.94L8.5 2.5l-.94 2.06-2.06.94zm10 10l.94 2.06.94-2.06 2.06-.94-2.06-.94-.94-2.06-.94 2.06-2.06.94z\"/><path d=\"M17.41 7.96l-1.37-1.37c-.4-.4-.92-.59-1.43-.59-.52 0-1.04.2-1.43.59L10.3 9.45l-7.72 7.72c-.78.78-.78 2.05 0 2.83L4 21.41c.39.39.9.59 1.41.59.51 0 1.02-.2 1.41-.59l7.78-7.78 2.81-2.81c.8-.78.8-2.07 0-2.86zM5.41 20L4 18.59l7.72-7.72 1.47 1.35L5.41 20z\"/>\n",
              "  </svg>\n",
              "      </button>\n",
              "      \n",
              "  <style>\n",
              "    .colab-df-container {\n",
              "      display:flex;\n",
              "      flex-wrap:wrap;\n",
              "      gap: 12px;\n",
              "    }\n",
              "\n",
              "    .colab-df-convert {\n",
              "      background-color: #E8F0FE;\n",
              "      border: none;\n",
              "      border-radius: 50%;\n",
              "      cursor: pointer;\n",
              "      display: none;\n",
              "      fill: #1967D2;\n",
              "      height: 32px;\n",
              "      padding: 0 0 0 0;\n",
              "      width: 32px;\n",
              "    }\n",
              "\n",
              "    .colab-df-convert:hover {\n",
              "      background-color: #E2EBFA;\n",
              "      box-shadow: 0px 1px 2px rgba(60, 64, 67, 0.3), 0px 1px 3px 1px rgba(60, 64, 67, 0.15);\n",
              "      fill: #174EA6;\n",
              "    }\n",
              "\n",
              "    [theme=dark] .colab-df-convert {\n",
              "      background-color: #3B4455;\n",
              "      fill: #D2E3FC;\n",
              "    }\n",
              "\n",
              "    [theme=dark] .colab-df-convert:hover {\n",
              "      background-color: #434B5C;\n",
              "      box-shadow: 0px 1px 3px 1px rgba(0, 0, 0, 0.15);\n",
              "      filter: drop-shadow(0px 1px 2px rgba(0, 0, 0, 0.3));\n",
              "      fill: #FFFFFF;\n",
              "    }\n",
              "  </style>\n",
              "\n",
              "      <script>\n",
              "        const buttonEl =\n",
              "          document.querySelector('#df-b59e4732-8b82-41d0-8bbe-de3978c3a5ec button.colab-df-convert');\n",
              "        buttonEl.style.display =\n",
              "          google.colab.kernel.accessAllowed ? 'block' : 'none';\n",
              "\n",
              "        async function convertToInteractive(key) {\n",
              "          const element = document.querySelector('#df-b59e4732-8b82-41d0-8bbe-de3978c3a5ec');\n",
              "          const dataTable =\n",
              "            await google.colab.kernel.invokeFunction('convertToInteractive',\n",
              "                                                     [key], {});\n",
              "          if (!dataTable) return;\n",
              "\n",
              "          const docLinkHtml = 'Like what you see? Visit the ' +\n",
              "            '<a target=\"_blank\" href=https://colab.research.google.com/notebooks/data_table.ipynb>data table notebook</a>'\n",
              "            + ' to learn more about interactive tables.';\n",
              "          element.innerHTML = '';\n",
              "          dataTable['output_type'] = 'display_data';\n",
              "          await google.colab.output.renderOutput(dataTable, element);\n",
              "          const docLink = document.createElement('div');\n",
              "          docLink.innerHTML = docLinkHtml;\n",
              "          element.appendChild(docLink);\n",
              "        }\n",
              "      </script>\n",
              "    </div>\n",
              "  </div>\n",
              "  "
            ]
          },
          "metadata": {},
          "execution_count": 44
        }
      ]
    },
    {
      "cell_type": "code",
      "source": [
        "rt_n.to_csv('new_no_cancel.csv', index=False)"
      ],
      "metadata": {
        "id": "y7SbWPEjM5wt"
      },
      "execution_count": null,
      "outputs": []
    },
    {
      "cell_type": "markdown",
      "source": [
        "# new_yn_reserve\n"
      ],
      "metadata": {
        "id": "0CoeskUhCqYJ"
      }
    },
    {
      "cell_type": "markdown",
      "source": [
        "## 직전 경기 예매 O / 이번 경기 예매 X"
      ],
      "metadata": {
        "id": "uxKbWaEi_F2y"
      }
    },
    {
      "cell_type": "code",
      "source": [
        "# 직전 경기는 예매를 했는데 이번 경기는 예매를 하지 않았다.\n",
        "# 직전 경기 예매한 MB_IDX를 가져오고 이번 경기 예매한 MB_IDX를 가져와서 비교해야 됨\n",
        "# 예를 들어 02-19 경기 02-26\n",
        "# set(직전 경기 예매한 MB_IDX) - set(이번 경기 예매한 MB_IDX) = 직전 경기만 예매한 MB_IDX\n",
        "# 직전 경기 결과와 랭킹과 연계\n",
        "# nr > no_reserve"
      ],
      "metadata": {
        "id": "h78ZzjWBW7rT"
      },
      "execution_count": null,
      "outputs": []
    },
    {
      "cell_type": "code",
      "source": [
        "diff_list = []\n",
        "len_list = []\n",
        "\n",
        "for i in range(len(date_list)-1):\n",
        "    # 직전전 경기만 예매한 MB_IDX 리스트\n",
        "    diff_list.extend(list(set(rt_n[rt_n['date'] == date_list[i]]['MB_IDX']) - set(rt_n[rt_n['date'] == date_list[i+1]]['MB_IDX'])))\n",
        "    # 직전 경기만 예매한 MB_IDX 리스트의 길이\n",
        "    len_list.append(len(list(set(rt_n[rt_n['date'] == date_list[i]]['MB_IDX']) - set(rt_n[rt_n['date'] == date_list[i+1]]['MB_IDX']))))"
      ],
      "metadata": {
        "id": "6bNXxMglXO27"
      },
      "execution_count": null,
      "outputs": []
    },
    {
      "cell_type": "code",
      "source": [
        "date_column_list = []\n",
        "\n",
        "for i, j in enumerate(date_list[1:]):\n",
        "    # 직전 경기만 예매한 MB_IDX 리스트의 길이만큼 이번 경기 날짜 리스트 생성\n",
        "    date_column_list.extend([j] * len_list[i])"
      ],
      "metadata": {
        "id": "Zg-4L0eH8yn4"
      },
      "execution_count": null,
      "outputs": []
    },
    {
      "cell_type": "code",
      "source": [
        "nr = pd.DataFrame(diff_list, date_column_list).reset_index().rename(columns={'index':'date', 0:'MB_IDX'})"
      ],
      "metadata": {
        "id": "zOn_8b8_-Cg8"
      },
      "execution_count": null,
      "outputs": []
    },
    {
      "cell_type": "code",
      "source": [
        "# 직전 경기 날짜 컬럼 추가\n",
        "for i in range(len(date_list)):\n",
        "    if i > 0:\n",
        "        nr.loc[nr['date'] == date_list[i], 'before_date'] = date_list[i-1]"
      ],
      "metadata": {
        "id": "zbDKxYc95nJE"
      },
      "execution_count": null,
      "outputs": []
    },
    {
      "cell_type": "code",
      "source": [
        "# 이번 경기는 예매하지 않았으므로 타겟 값을 0으로 부여\n",
        "nr['target'] = 0"
      ],
      "metadata": {
        "id": "LH6bettR-ab0"
      },
      "execution_count": null,
      "outputs": []
    },
    {
      "cell_type": "code",
      "source": [
        "# 직전 경기 날짜와 예매 데이터의 날짜를 조인해서 직전 경기 예매 특성을 가져옴\n",
        "mnr = pd.merge(nr, rt_n, left_on=['before_date','MB_IDX'], right_on=['date','MB_IDX'], how='inner')"
      ],
      "metadata": {
        "id": "uQCM7yIXBdJF"
      },
      "execution_count": null,
      "outputs": []
    },
    {
      "cell_type": "code",
      "source": [
        "mnr = mnr.drop(['date_y', 'before_reserve_yn'], axis=1)\n",
        "mnr = mnr.rename(columns={'date_x':'date'})"
      ],
      "metadata": {
        "id": "BvT0I3xAIe_w"
      },
      "execution_count": null,
      "outputs": []
    },
    {
      "cell_type": "code",
      "source": [
        "# date, MB_IDX로 묶기\n",
        "gnr = mnr.drop_duplicates(['date','MB_IDX']).sort_values(['date','MB_IDX']).reset_index(drop=True)\n",
        "gnr['reserve_count'] = mnr.groupby(['date','MB_IDX']).size().reset_index()[0]"
      ],
      "metadata": {
        "id": "MxDnJTa_4-F_"
      },
      "execution_count": null,
      "outputs": []
    },
    {
      "cell_type": "code",
      "source": [
        "gnr = gnr[['date', 'MB_IDX', 'product_grade_name', 'product_denomination_name', 'seat_Attribute_4',\n",
        "             'special_seat_yn', 'discount_yn', 'discount_way', 'first_yn', 'reserve_count','target']]"
      ],
      "metadata": {
        "id": "7_oegCO9AQqW"
      },
      "execution_count": null,
      "outputs": []
    },
    {
      "cell_type": "code",
      "source": [
        "gnr.columns = ['date','MB_IDX','before_product_grade','before_product_denomination','before_seat_attr',\n",
        "               'before_special_seat_yn','before_discount_yn','before_discount_way',\n",
        "               'before_first_yn','before_reserve_count','target']"
      ],
      "metadata": {
        "id": "80XYAM9WZdDa"
      },
      "execution_count": null,
      "outputs": []
    },
    {
      "cell_type": "code",
      "source": [
        "gnr.head()"
      ],
      "metadata": {
        "colab": {
          "base_uri": "https://localhost:8080/"
        },
        "id": "V_PVa_CrY0S4",
        "outputId": "77b2ef6d-ad2f-4632-a14e-ddd0834c5c0b"
      },
      "execution_count": null,
      "outputs": [
        {
          "output_type": "execute_result",
          "data": {
            "text/plain": [
              "         date  MB_IDX before_product_grade before_product_denomination  \\\n",
              "0  2022-02-26     208                   S석                K리그 축덕카드(체크)   \n",
              "1  2022-02-26     410         World class석                          성인   \n",
              "2  2022-02-26     643             프리미엄 클래식                        예매권북   \n",
              "3  2022-02-26     987                   S석            5천원 멤버십 할인권 (성인)   \n",
              "4  2022-02-26    1505            Exciting석                  문화누리카드(성인)   \n",
              "\n",
              "  before_seat_attr  before_special_seat_yn  before_discount_yn  \\\n",
              "0            S 5구역                       0                   1   \n",
              "1             W4구역                       0                   0   \n",
              "2             V2구역                       1                   1   \n",
              "3            S 5구역                       0                   1   \n",
              "4             E6구역                       0                   1   \n",
              "\n",
              "  before_discount_way  before_first_yn  before_reserve_count  target  \n",
              "0                  카드                1                     1       0  \n",
              "1                  없음                1                     1       0  \n",
              "2                예매권북                1                     6       0  \n",
              "3                 멤버십                1                     5       0  \n",
              "4                  카드                1                     1       0  "
            ],
            "text/html": [
              "\n",
              "  <div id=\"df-f9642007-27c2-484e-b5ab-1b07baa0a2bd\">\n",
              "    <div class=\"colab-df-container\">\n",
              "      <div>\n",
              "<style scoped>\n",
              "    .dataframe tbody tr th:only-of-type {\n",
              "        vertical-align: middle;\n",
              "    }\n",
              "\n",
              "    .dataframe tbody tr th {\n",
              "        vertical-align: top;\n",
              "    }\n",
              "\n",
              "    .dataframe thead th {\n",
              "        text-align: right;\n",
              "    }\n",
              "</style>\n",
              "<table border=\"1\" class=\"dataframe\">\n",
              "  <thead>\n",
              "    <tr style=\"text-align: right;\">\n",
              "      <th></th>\n",
              "      <th>date</th>\n",
              "      <th>MB_IDX</th>\n",
              "      <th>before_product_grade</th>\n",
              "      <th>before_product_denomination</th>\n",
              "      <th>before_seat_attr</th>\n",
              "      <th>before_special_seat_yn</th>\n",
              "      <th>before_discount_yn</th>\n",
              "      <th>before_discount_way</th>\n",
              "      <th>before_first_yn</th>\n",
              "      <th>before_reserve_count</th>\n",
              "      <th>target</th>\n",
              "    </tr>\n",
              "  </thead>\n",
              "  <tbody>\n",
              "    <tr>\n",
              "      <th>0</th>\n",
              "      <td>2022-02-26</td>\n",
              "      <td>208</td>\n",
              "      <td>S석</td>\n",
              "      <td>K리그 축덕카드(체크)</td>\n",
              "      <td>S 5구역</td>\n",
              "      <td>0</td>\n",
              "      <td>1</td>\n",
              "      <td>카드</td>\n",
              "      <td>1</td>\n",
              "      <td>1</td>\n",
              "      <td>0</td>\n",
              "    </tr>\n",
              "    <tr>\n",
              "      <th>1</th>\n",
              "      <td>2022-02-26</td>\n",
              "      <td>410</td>\n",
              "      <td>World class석</td>\n",
              "      <td>성인</td>\n",
              "      <td>W4구역</td>\n",
              "      <td>0</td>\n",
              "      <td>0</td>\n",
              "      <td>없음</td>\n",
              "      <td>1</td>\n",
              "      <td>1</td>\n",
              "      <td>0</td>\n",
              "    </tr>\n",
              "    <tr>\n",
              "      <th>2</th>\n",
              "      <td>2022-02-26</td>\n",
              "      <td>643</td>\n",
              "      <td>프리미엄 클래식</td>\n",
              "      <td>예매권북</td>\n",
              "      <td>V2구역</td>\n",
              "      <td>1</td>\n",
              "      <td>1</td>\n",
              "      <td>예매권북</td>\n",
              "      <td>1</td>\n",
              "      <td>6</td>\n",
              "      <td>0</td>\n",
              "    </tr>\n",
              "    <tr>\n",
              "      <th>3</th>\n",
              "      <td>2022-02-26</td>\n",
              "      <td>987</td>\n",
              "      <td>S석</td>\n",
              "      <td>5천원 멤버십 할인권 (성인)</td>\n",
              "      <td>S 5구역</td>\n",
              "      <td>0</td>\n",
              "      <td>1</td>\n",
              "      <td>멤버십</td>\n",
              "      <td>1</td>\n",
              "      <td>5</td>\n",
              "      <td>0</td>\n",
              "    </tr>\n",
              "    <tr>\n",
              "      <th>4</th>\n",
              "      <td>2022-02-26</td>\n",
              "      <td>1505</td>\n",
              "      <td>Exciting석</td>\n",
              "      <td>문화누리카드(성인)</td>\n",
              "      <td>E6구역</td>\n",
              "      <td>0</td>\n",
              "      <td>1</td>\n",
              "      <td>카드</td>\n",
              "      <td>1</td>\n",
              "      <td>1</td>\n",
              "      <td>0</td>\n",
              "    </tr>\n",
              "  </tbody>\n",
              "</table>\n",
              "</div>\n",
              "      <button class=\"colab-df-convert\" onclick=\"convertToInteractive('df-f9642007-27c2-484e-b5ab-1b07baa0a2bd')\"\n",
              "              title=\"Convert this dataframe to an interactive table.\"\n",
              "              style=\"display:none;\">\n",
              "        \n",
              "  <svg xmlns=\"http://www.w3.org/2000/svg\" height=\"24px\"viewBox=\"0 0 24 24\"\n",
              "       width=\"24px\">\n",
              "    <path d=\"M0 0h24v24H0V0z\" fill=\"none\"/>\n",
              "    <path d=\"M18.56 5.44l.94 2.06.94-2.06 2.06-.94-2.06-.94-.94-2.06-.94 2.06-2.06.94zm-11 1L8.5 8.5l.94-2.06 2.06-.94-2.06-.94L8.5 2.5l-.94 2.06-2.06.94zm10 10l.94 2.06.94-2.06 2.06-.94-2.06-.94-.94-2.06-.94 2.06-2.06.94z\"/><path d=\"M17.41 7.96l-1.37-1.37c-.4-.4-.92-.59-1.43-.59-.52 0-1.04.2-1.43.59L10.3 9.45l-7.72 7.72c-.78.78-.78 2.05 0 2.83L4 21.41c.39.39.9.59 1.41.59.51 0 1.02-.2 1.41-.59l7.78-7.78 2.81-2.81c.8-.78.8-2.07 0-2.86zM5.41 20L4 18.59l7.72-7.72 1.47 1.35L5.41 20z\"/>\n",
              "  </svg>\n",
              "      </button>\n",
              "      \n",
              "  <style>\n",
              "    .colab-df-container {\n",
              "      display:flex;\n",
              "      flex-wrap:wrap;\n",
              "      gap: 12px;\n",
              "    }\n",
              "\n",
              "    .colab-df-convert {\n",
              "      background-color: #E8F0FE;\n",
              "      border: none;\n",
              "      border-radius: 50%;\n",
              "      cursor: pointer;\n",
              "      display: none;\n",
              "      fill: #1967D2;\n",
              "      height: 32px;\n",
              "      padding: 0 0 0 0;\n",
              "      width: 32px;\n",
              "    }\n",
              "\n",
              "    .colab-df-convert:hover {\n",
              "      background-color: #E2EBFA;\n",
              "      box-shadow: 0px 1px 2px rgba(60, 64, 67, 0.3), 0px 1px 3px 1px rgba(60, 64, 67, 0.15);\n",
              "      fill: #174EA6;\n",
              "    }\n",
              "\n",
              "    [theme=dark] .colab-df-convert {\n",
              "      background-color: #3B4455;\n",
              "      fill: #D2E3FC;\n",
              "    }\n",
              "\n",
              "    [theme=dark] .colab-df-convert:hover {\n",
              "      background-color: #434B5C;\n",
              "      box-shadow: 0px 1px 3px 1px rgba(0, 0, 0, 0.15);\n",
              "      filter: drop-shadow(0px 1px 2px rgba(0, 0, 0, 0.3));\n",
              "      fill: #FFFFFF;\n",
              "    }\n",
              "  </style>\n",
              "\n",
              "      <script>\n",
              "        const buttonEl =\n",
              "          document.querySelector('#df-f9642007-27c2-484e-b5ab-1b07baa0a2bd button.colab-df-convert');\n",
              "        buttonEl.style.display =\n",
              "          google.colab.kernel.accessAllowed ? 'block' : 'none';\n",
              "\n",
              "        async function convertToInteractive(key) {\n",
              "          const element = document.querySelector('#df-f9642007-27c2-484e-b5ab-1b07baa0a2bd');\n",
              "          const dataTable =\n",
              "            await google.colab.kernel.invokeFunction('convertToInteractive',\n",
              "                                                     [key], {});\n",
              "          if (!dataTable) return;\n",
              "\n",
              "          const docLinkHtml = 'Like what you see? Visit the ' +\n",
              "            '<a target=\"_blank\" href=https://colab.research.google.com/notebooks/data_table.ipynb>data table notebook</a>'\n",
              "            + ' to learn more about interactive tables.';\n",
              "          element.innerHTML = '';\n",
              "          dataTable['output_type'] = 'display_data';\n",
              "          await google.colab.output.renderOutput(dataTable, element);\n",
              "          const docLink = document.createElement('div');\n",
              "          docLink.innerHTML = docLinkHtml;\n",
              "          element.appendChild(docLink);\n",
              "        }\n",
              "      </script>\n",
              "    </div>\n",
              "  </div>\n",
              "  "
            ]
          },
          "metadata": {},
          "execution_count": 140
        }
      ]
    },
    {
      "cell_type": "markdown",
      "source": [
        "## 직전 경기 예매 O / 이번 경기 예매 O"
      ],
      "metadata": {
        "id": "MBNVvOlj5vBO"
      }
    },
    {
      "cell_type": "code",
      "source": [
        "# 직전 경기를 예매한 데이터만 필터\n",
        "gyr = rt_n[rt_n['before_reserve_yn'] == 1]"
      ],
      "metadata": {
        "id": "nRsh57x3_Zov"
      },
      "execution_count": null,
      "outputs": []
    },
    {
      "cell_type": "code",
      "source": [
        "# date, MB_IDX 기준으로 중복 제거\n",
        "gyr = gyr.drop_duplicates(['date','MB_IDX'])"
      ],
      "metadata": {
        "id": "YRAQ-__sFHtu"
      },
      "execution_count": null,
      "outputs": []
    },
    {
      "cell_type": "code",
      "source": [
        "# 임시로 경기 예매 특성 데이터 생성 > 직전 경기 예매 특성으로 사용\n",
        "temp = rt_n.groupby(['date','MB_IDX']).head(1).sort_values(['date','MB_IDX']).reset_index(drop=True)\n",
        "temp['reserve_count'] = rt_n.groupby(['date','MB_IDX']).size().reset_index()[0]"
      ],
      "metadata": {
        "id": "qekR2UW1EwvI"
      },
      "execution_count": null,
      "outputs": []
    },
    {
      "cell_type": "code",
      "source": [
        "# 직전 경기 날짜 컬럼 추가\n",
        "for i in range(len(date_list)-1):\n",
        "    gyr.loc[gyr[gyr['date'] == date_list[i+1]].index, 'before_date'] = date_list[i]"
      ],
      "metadata": {
        "id": "PN2IGxM_UnbN"
      },
      "execution_count": null,
      "outputs": []
    },
    {
      "cell_type": "code",
      "source": [
        "# 직전 경기 날짜와 예매 데이터의 날짜를 조인해서 직전 경기 예매 특성 가져옴\n",
        "gyr = pd.merge(gyr[['date','MB_IDX','before_date']], temp, left_on=['before_date','MB_IDX'], right_on=['date','MB_IDX'], how='inner')"
      ],
      "metadata": {
        "id": "lov4CR2oWX7e"
      },
      "execution_count": null,
      "outputs": []
    },
    {
      "cell_type": "code",
      "source": [
        "# 이번 경기도 예매했으므로 타겟 값 1 부여\n",
        "gyr['target'] = 1"
      ],
      "metadata": {
        "id": "jKp1rY76Gvt0"
      },
      "execution_count": null,
      "outputs": []
    },
    {
      "cell_type": "code",
      "source": [
        "gyr = gyr[['date_x', 'MB_IDX', 'product_grade_name', 'product_denomination_name',\n",
        "       'seat_Attribute_4', 'special_seat_yn', 'discount_yn', 'discount_way',\n",
        "       'first_yn', 'reserve_count', 'target']]"
      ],
      "metadata": {
        "id": "QF0JqEc6XsUj"
      },
      "execution_count": null,
      "outputs": []
    },
    {
      "cell_type": "code",
      "source": [
        "gyr.columns = ['date','MB_IDX','before_product_grade','before_product_denomination','before_seat_attr',\n",
        "               'before_special_seat_yn','before_discount_yn','before_discount_way',\n",
        "               'before_first_yn','before_reserve_count','target']"
      ],
      "metadata": {
        "id": "vY1AGBDZX40z"
      },
      "execution_count": null,
      "outputs": []
    },
    {
      "cell_type": "code",
      "source": [
        "gyr = gyr.sort_values(['date','MB_IDX']).reset_index(drop=True)"
      ],
      "metadata": {
        "id": "bvnZt6vTXqrt"
      },
      "execution_count": null,
      "outputs": []
    },
    {
      "cell_type": "markdown",
      "source": [
        "## gyr, gnr 합치기"
      ],
      "metadata": {
        "id": "roZAjc-8HEbF"
      }
    },
    {
      "cell_type": "code",
      "source": [
        "cyn = pd.concat([gyr, gnr]).reset_index(drop=True)"
      ],
      "metadata": {
        "id": "XAgto186BByK"
      },
      "execution_count": null,
      "outputs": []
    },
    {
      "cell_type": "code",
      "source": [
        "cyn.head()"
      ],
      "metadata": {
        "colab": {
          "base_uri": "https://localhost:8080/"
        },
        "id": "eDFGv6w4YmoL",
        "outputId": "9687f134-b227-4899-9113-903c9512be2e"
      },
      "execution_count": null,
      "outputs": [
        {
          "output_type": "execute_result",
          "data": {
            "text/plain": [
              "         date  MB_IDX before_product_grade before_product_denomination  \\\n",
              "0  2022-02-26     153            Exciting석            5천원 멤버십 할인권 (성인)   \n",
              "1  2022-02-26     416                   S석                          성인   \n",
              "2  2022-02-26     423              Expert석            5천원 멤버십 할인권 (성인)   \n",
              "3  2022-02-26     646                   S석                     ㅅㅇ전 게임권   \n",
              "4  2022-02-26     803             프리미엄 클래식                          일반   \n",
              "\n",
              "  before_seat_attr  before_special_seat_yn  before_discount_yn  \\\n",
              "0             E6구역                       0                   1   \n",
              "1            S 5구역                       0                   0   \n",
              "2            E17구역                       0                   1   \n",
              "3            S12구역                       0                   1   \n",
              "4             V1구역                       1                   0   \n",
              "\n",
              "  before_discount_way  before_first_yn  before_reserve_count  target  \n",
              "0                 멤버십                1                     1       1  \n",
              "1                  없음                1                     1       1  \n",
              "2                 멤버십                1                     1       1  \n",
              "3                 게임권                1                     2       1  \n",
              "4                  없음                1                     1       1  "
            ],
            "text/html": [
              "\n",
              "  <div id=\"df-0a103abc-9679-4bd4-8631-4aed073563b6\">\n",
              "    <div class=\"colab-df-container\">\n",
              "      <div>\n",
              "<style scoped>\n",
              "    .dataframe tbody tr th:only-of-type {\n",
              "        vertical-align: middle;\n",
              "    }\n",
              "\n",
              "    .dataframe tbody tr th {\n",
              "        vertical-align: top;\n",
              "    }\n",
              "\n",
              "    .dataframe thead th {\n",
              "        text-align: right;\n",
              "    }\n",
              "</style>\n",
              "<table border=\"1\" class=\"dataframe\">\n",
              "  <thead>\n",
              "    <tr style=\"text-align: right;\">\n",
              "      <th></th>\n",
              "      <th>date</th>\n",
              "      <th>MB_IDX</th>\n",
              "      <th>before_product_grade</th>\n",
              "      <th>before_product_denomination</th>\n",
              "      <th>before_seat_attr</th>\n",
              "      <th>before_special_seat_yn</th>\n",
              "      <th>before_discount_yn</th>\n",
              "      <th>before_discount_way</th>\n",
              "      <th>before_first_yn</th>\n",
              "      <th>before_reserve_count</th>\n",
              "      <th>target</th>\n",
              "    </tr>\n",
              "  </thead>\n",
              "  <tbody>\n",
              "    <tr>\n",
              "      <th>0</th>\n",
              "      <td>2022-02-26</td>\n",
              "      <td>153</td>\n",
              "      <td>Exciting석</td>\n",
              "      <td>5천원 멤버십 할인권 (성인)</td>\n",
              "      <td>E6구역</td>\n",
              "      <td>0</td>\n",
              "      <td>1</td>\n",
              "      <td>멤버십</td>\n",
              "      <td>1</td>\n",
              "      <td>1</td>\n",
              "      <td>1</td>\n",
              "    </tr>\n",
              "    <tr>\n",
              "      <th>1</th>\n",
              "      <td>2022-02-26</td>\n",
              "      <td>416</td>\n",
              "      <td>S석</td>\n",
              "      <td>성인</td>\n",
              "      <td>S 5구역</td>\n",
              "      <td>0</td>\n",
              "      <td>0</td>\n",
              "      <td>없음</td>\n",
              "      <td>1</td>\n",
              "      <td>1</td>\n",
              "      <td>1</td>\n",
              "    </tr>\n",
              "    <tr>\n",
              "      <th>2</th>\n",
              "      <td>2022-02-26</td>\n",
              "      <td>423</td>\n",
              "      <td>Expert석</td>\n",
              "      <td>5천원 멤버십 할인권 (성인)</td>\n",
              "      <td>E17구역</td>\n",
              "      <td>0</td>\n",
              "      <td>1</td>\n",
              "      <td>멤버십</td>\n",
              "      <td>1</td>\n",
              "      <td>1</td>\n",
              "      <td>1</td>\n",
              "    </tr>\n",
              "    <tr>\n",
              "      <th>3</th>\n",
              "      <td>2022-02-26</td>\n",
              "      <td>646</td>\n",
              "      <td>S석</td>\n",
              "      <td>ㅅㅇ전 게임권</td>\n",
              "      <td>S12구역</td>\n",
              "      <td>0</td>\n",
              "      <td>1</td>\n",
              "      <td>게임권</td>\n",
              "      <td>1</td>\n",
              "      <td>2</td>\n",
              "      <td>1</td>\n",
              "    </tr>\n",
              "    <tr>\n",
              "      <th>4</th>\n",
              "      <td>2022-02-26</td>\n",
              "      <td>803</td>\n",
              "      <td>프리미엄 클래식</td>\n",
              "      <td>일반</td>\n",
              "      <td>V1구역</td>\n",
              "      <td>1</td>\n",
              "      <td>0</td>\n",
              "      <td>없음</td>\n",
              "      <td>1</td>\n",
              "      <td>1</td>\n",
              "      <td>1</td>\n",
              "    </tr>\n",
              "  </tbody>\n",
              "</table>\n",
              "</div>\n",
              "      <button class=\"colab-df-convert\" onclick=\"convertToInteractive('df-0a103abc-9679-4bd4-8631-4aed073563b6')\"\n",
              "              title=\"Convert this dataframe to an interactive table.\"\n",
              "              style=\"display:none;\">\n",
              "        \n",
              "  <svg xmlns=\"http://www.w3.org/2000/svg\" height=\"24px\"viewBox=\"0 0 24 24\"\n",
              "       width=\"24px\">\n",
              "    <path d=\"M0 0h24v24H0V0z\" fill=\"none\"/>\n",
              "    <path d=\"M18.56 5.44l.94 2.06.94-2.06 2.06-.94-2.06-.94-.94-2.06-.94 2.06-2.06.94zm-11 1L8.5 8.5l.94-2.06 2.06-.94-2.06-.94L8.5 2.5l-.94 2.06-2.06.94zm10 10l.94 2.06.94-2.06 2.06-.94-2.06-.94-.94-2.06-.94 2.06-2.06.94z\"/><path d=\"M17.41 7.96l-1.37-1.37c-.4-.4-.92-.59-1.43-.59-.52 0-1.04.2-1.43.59L10.3 9.45l-7.72 7.72c-.78.78-.78 2.05 0 2.83L4 21.41c.39.39.9.59 1.41.59.51 0 1.02-.2 1.41-.59l7.78-7.78 2.81-2.81c.8-.78.8-2.07 0-2.86zM5.41 20L4 18.59l7.72-7.72 1.47 1.35L5.41 20z\"/>\n",
              "  </svg>\n",
              "      </button>\n",
              "      \n",
              "  <style>\n",
              "    .colab-df-container {\n",
              "      display:flex;\n",
              "      flex-wrap:wrap;\n",
              "      gap: 12px;\n",
              "    }\n",
              "\n",
              "    .colab-df-convert {\n",
              "      background-color: #E8F0FE;\n",
              "      border: none;\n",
              "      border-radius: 50%;\n",
              "      cursor: pointer;\n",
              "      display: none;\n",
              "      fill: #1967D2;\n",
              "      height: 32px;\n",
              "      padding: 0 0 0 0;\n",
              "      width: 32px;\n",
              "    }\n",
              "\n",
              "    .colab-df-convert:hover {\n",
              "      background-color: #E2EBFA;\n",
              "      box-shadow: 0px 1px 2px rgba(60, 64, 67, 0.3), 0px 1px 3px 1px rgba(60, 64, 67, 0.15);\n",
              "      fill: #174EA6;\n",
              "    }\n",
              "\n",
              "    [theme=dark] .colab-df-convert {\n",
              "      background-color: #3B4455;\n",
              "      fill: #D2E3FC;\n",
              "    }\n",
              "\n",
              "    [theme=dark] .colab-df-convert:hover {\n",
              "      background-color: #434B5C;\n",
              "      box-shadow: 0px 1px 3px 1px rgba(0, 0, 0, 0.15);\n",
              "      filter: drop-shadow(0px 1px 2px rgba(0, 0, 0, 0.3));\n",
              "      fill: #FFFFFF;\n",
              "    }\n",
              "  </style>\n",
              "\n",
              "      <script>\n",
              "        const buttonEl =\n",
              "          document.querySelector('#df-0a103abc-9679-4bd4-8631-4aed073563b6 button.colab-df-convert');\n",
              "        buttonEl.style.display =\n",
              "          google.colab.kernel.accessAllowed ? 'block' : 'none';\n",
              "\n",
              "        async function convertToInteractive(key) {\n",
              "          const element = document.querySelector('#df-0a103abc-9679-4bd4-8631-4aed073563b6');\n",
              "          const dataTable =\n",
              "            await google.colab.kernel.invokeFunction('convertToInteractive',\n",
              "                                                     [key], {});\n",
              "          if (!dataTable) return;\n",
              "\n",
              "          const docLinkHtml = 'Like what you see? Visit the ' +\n",
              "            '<a target=\"_blank\" href=https://colab.research.google.com/notebooks/data_table.ipynb>data table notebook</a>'\n",
              "            + ' to learn more about interactive tables.';\n",
              "          element.innerHTML = '';\n",
              "          dataTable['output_type'] = 'display_data';\n",
              "          await google.colab.output.renderOutput(dataTable, element);\n",
              "          const docLink = document.createElement('div');\n",
              "          docLink.innerHTML = docLinkHtml;\n",
              "          element.appendChild(docLink);\n",
              "        }\n",
              "      </script>\n",
              "    </div>\n",
              "  </div>\n",
              "  "
            ]
          },
          "metadata": {},
          "execution_count": 151
        }
      ]
    },
    {
      "cell_type": "code",
      "source": [
        "cyn.shape"
      ],
      "metadata": {
        "colab": {
          "base_uri": "https://localhost:8080/"
        },
        "id": "Qx0_YMf2kMCA",
        "outputId": "3590ed31-21fc-4d82-a420-da1d554542c4"
      },
      "execution_count": null,
      "outputs": [
        {
          "output_type": "execute_result",
          "data": {
            "text/plain": [
              "(17658, 11)"
            ]
          },
          "metadata": {},
          "execution_count": 152
        }
      ]
    },
    {
      "cell_type": "markdown",
      "source": [
        "## 저장"
      ],
      "metadata": {
        "id": "zHbVDBP3JiNO"
      }
    },
    {
      "cell_type": "code",
      "source": [
        "cyn.to_csv('new_yn_reserve.csv', index=False)"
      ],
      "metadata": {
        "id": "2vtu4s_UJi-Z"
      },
      "execution_count": null,
      "outputs": []
    },
    {
      "cell_type": "markdown",
      "source": [
        "# new_yn_special"
      ],
      "metadata": {
        "id": "FGT_Y6ROH77Q"
      }
    },
    {
      "cell_type": "markdown",
      "source": [
        "## 이번 경기 특성화석 여부"
      ],
      "metadata": {
        "id": "yyEg_bkSJnTj"
      }
    },
    {
      "cell_type": "code",
      "source": [
        "# 예매한 사람들 중에서 그날 경기에 특성화석을 1장 이상 예매한 사람을 타겟으로 삼음"
      ],
      "metadata": {
        "id": "nqKBAMw_ITSL"
      },
      "execution_count": null,
      "outputs": []
    },
    {
      "cell_type": "code",
      "source": [
        "# date, MB_IDX를 기준으로 sum해서 총 몇 장의 특성화석을 예매했는지 만들고\n",
        "st = rt_n[['MB_IDX','date','special_seat_yn']].groupby(['MB_IDX','date']).sum().reset_index()\n",
        "# 0보다 큰 (특성화석을 예매한) 데이터만 필터\n",
        "st = st[st['special_seat_yn'] > 0]"
      ],
      "metadata": {
        "id": "W3GlCuGnmmUy"
      },
      "execution_count": null,
      "outputs": []
    },
    {
      "cell_type": "code",
      "source": [
        "# 기존의 cyn의 타겟 (이번 경기 예매 여부)를 이번 경기 특성화석을 예매했는지로 변경\n",
        "ps = pd.merge(cyn, st, on=['MB_IDX','date'], how='left')\n",
        "\n",
        "ps['special_seat_yn'] = ps['special_seat_yn'].fillna(0)\n",
        "\n",
        "ps = ps.drop('target', axis=1)\n",
        "ps = ps.rename(columns={'special_seat_yn':'target'})\n",
        "\n",
        "ps['target'] = ps['target'].astype(int)\n",
        "ps['target'] = ps['target'].apply(lambda x: 1 if x > 0 else 0)"
      ],
      "metadata": {
        "id": "AwAsW4TqnwZu"
      },
      "execution_count": null,
      "outputs": []
    },
    {
      "cell_type": "code",
      "source": [
        "ps.head()"
      ],
      "metadata": {
        "colab": {
          "base_uri": "https://localhost:8080/"
        },
        "id": "EBH09r66pIbX",
        "outputId": "ee5b1f78-d603-4643-97e3-f0dc9c2ad349"
      },
      "execution_count": null,
      "outputs": [
        {
          "output_type": "execute_result",
          "data": {
            "text/plain": [
              "         date  MB_IDX before_product_grade before_product_denomination  \\\n",
              "0  2022-02-26     153            Exciting석            5천원 멤버십 할인권 (성인)   \n",
              "1  2022-02-26     416                   S석                          성인   \n",
              "2  2022-02-26     423              Expert석            5천원 멤버십 할인권 (성인)   \n",
              "3  2022-02-26     646                   S석                     ㅅㅇ전 게임권   \n",
              "4  2022-02-26     803             프리미엄 클래식                          일반   \n",
              "\n",
              "  before_seat_attr  before_special_seat_yn  before_discount_yn  \\\n",
              "0             E6구역                       0                   1   \n",
              "1            S 5구역                       0                   0   \n",
              "2            E17구역                       0                   1   \n",
              "3            S12구역                       0                   1   \n",
              "4             V1구역                       1                   0   \n",
              "\n",
              "  before_discount_way  before_first_yn  before_reserve_count  target  \n",
              "0                 멤버십                1                     1       0  \n",
              "1                  없음                1                     1       0  \n",
              "2                 멤버십                1                     1       0  \n",
              "3                 게임권                1                     2       0  \n",
              "4                  없음                1                     1       1  "
            ],
            "text/html": [
              "\n",
              "  <div id=\"df-7a5a0595-377e-494d-8207-b2a260f4ef6b\">\n",
              "    <div class=\"colab-df-container\">\n",
              "      <div>\n",
              "<style scoped>\n",
              "    .dataframe tbody tr th:only-of-type {\n",
              "        vertical-align: middle;\n",
              "    }\n",
              "\n",
              "    .dataframe tbody tr th {\n",
              "        vertical-align: top;\n",
              "    }\n",
              "\n",
              "    .dataframe thead th {\n",
              "        text-align: right;\n",
              "    }\n",
              "</style>\n",
              "<table border=\"1\" class=\"dataframe\">\n",
              "  <thead>\n",
              "    <tr style=\"text-align: right;\">\n",
              "      <th></th>\n",
              "      <th>date</th>\n",
              "      <th>MB_IDX</th>\n",
              "      <th>before_product_grade</th>\n",
              "      <th>before_product_denomination</th>\n",
              "      <th>before_seat_attr</th>\n",
              "      <th>before_special_seat_yn</th>\n",
              "      <th>before_discount_yn</th>\n",
              "      <th>before_discount_way</th>\n",
              "      <th>before_first_yn</th>\n",
              "      <th>before_reserve_count</th>\n",
              "      <th>target</th>\n",
              "    </tr>\n",
              "  </thead>\n",
              "  <tbody>\n",
              "    <tr>\n",
              "      <th>0</th>\n",
              "      <td>2022-02-26</td>\n",
              "      <td>153</td>\n",
              "      <td>Exciting석</td>\n",
              "      <td>5천원 멤버십 할인권 (성인)</td>\n",
              "      <td>E6구역</td>\n",
              "      <td>0</td>\n",
              "      <td>1</td>\n",
              "      <td>멤버십</td>\n",
              "      <td>1</td>\n",
              "      <td>1</td>\n",
              "      <td>0</td>\n",
              "    </tr>\n",
              "    <tr>\n",
              "      <th>1</th>\n",
              "      <td>2022-02-26</td>\n",
              "      <td>416</td>\n",
              "      <td>S석</td>\n",
              "      <td>성인</td>\n",
              "      <td>S 5구역</td>\n",
              "      <td>0</td>\n",
              "      <td>0</td>\n",
              "      <td>없음</td>\n",
              "      <td>1</td>\n",
              "      <td>1</td>\n",
              "      <td>0</td>\n",
              "    </tr>\n",
              "    <tr>\n",
              "      <th>2</th>\n",
              "      <td>2022-02-26</td>\n",
              "      <td>423</td>\n",
              "      <td>Expert석</td>\n",
              "      <td>5천원 멤버십 할인권 (성인)</td>\n",
              "      <td>E17구역</td>\n",
              "      <td>0</td>\n",
              "      <td>1</td>\n",
              "      <td>멤버십</td>\n",
              "      <td>1</td>\n",
              "      <td>1</td>\n",
              "      <td>0</td>\n",
              "    </tr>\n",
              "    <tr>\n",
              "      <th>3</th>\n",
              "      <td>2022-02-26</td>\n",
              "      <td>646</td>\n",
              "      <td>S석</td>\n",
              "      <td>ㅅㅇ전 게임권</td>\n",
              "      <td>S12구역</td>\n",
              "      <td>0</td>\n",
              "      <td>1</td>\n",
              "      <td>게임권</td>\n",
              "      <td>1</td>\n",
              "      <td>2</td>\n",
              "      <td>0</td>\n",
              "    </tr>\n",
              "    <tr>\n",
              "      <th>4</th>\n",
              "      <td>2022-02-26</td>\n",
              "      <td>803</td>\n",
              "      <td>프리미엄 클래식</td>\n",
              "      <td>일반</td>\n",
              "      <td>V1구역</td>\n",
              "      <td>1</td>\n",
              "      <td>0</td>\n",
              "      <td>없음</td>\n",
              "      <td>1</td>\n",
              "      <td>1</td>\n",
              "      <td>1</td>\n",
              "    </tr>\n",
              "  </tbody>\n",
              "</table>\n",
              "</div>\n",
              "      <button class=\"colab-df-convert\" onclick=\"convertToInteractive('df-7a5a0595-377e-494d-8207-b2a260f4ef6b')\"\n",
              "              title=\"Convert this dataframe to an interactive table.\"\n",
              "              style=\"display:none;\">\n",
              "        \n",
              "  <svg xmlns=\"http://www.w3.org/2000/svg\" height=\"24px\"viewBox=\"0 0 24 24\"\n",
              "       width=\"24px\">\n",
              "    <path d=\"M0 0h24v24H0V0z\" fill=\"none\"/>\n",
              "    <path d=\"M18.56 5.44l.94 2.06.94-2.06 2.06-.94-2.06-.94-.94-2.06-.94 2.06-2.06.94zm-11 1L8.5 8.5l.94-2.06 2.06-.94-2.06-.94L8.5 2.5l-.94 2.06-2.06.94zm10 10l.94 2.06.94-2.06 2.06-.94-2.06-.94-.94-2.06-.94 2.06-2.06.94z\"/><path d=\"M17.41 7.96l-1.37-1.37c-.4-.4-.92-.59-1.43-.59-.52 0-1.04.2-1.43.59L10.3 9.45l-7.72 7.72c-.78.78-.78 2.05 0 2.83L4 21.41c.39.39.9.59 1.41.59.51 0 1.02-.2 1.41-.59l7.78-7.78 2.81-2.81c.8-.78.8-2.07 0-2.86zM5.41 20L4 18.59l7.72-7.72 1.47 1.35L5.41 20z\"/>\n",
              "  </svg>\n",
              "      </button>\n",
              "      \n",
              "  <style>\n",
              "    .colab-df-container {\n",
              "      display:flex;\n",
              "      flex-wrap:wrap;\n",
              "      gap: 12px;\n",
              "    }\n",
              "\n",
              "    .colab-df-convert {\n",
              "      background-color: #E8F0FE;\n",
              "      border: none;\n",
              "      border-radius: 50%;\n",
              "      cursor: pointer;\n",
              "      display: none;\n",
              "      fill: #1967D2;\n",
              "      height: 32px;\n",
              "      padding: 0 0 0 0;\n",
              "      width: 32px;\n",
              "    }\n",
              "\n",
              "    .colab-df-convert:hover {\n",
              "      background-color: #E2EBFA;\n",
              "      box-shadow: 0px 1px 2px rgba(60, 64, 67, 0.3), 0px 1px 3px 1px rgba(60, 64, 67, 0.15);\n",
              "      fill: #174EA6;\n",
              "    }\n",
              "\n",
              "    [theme=dark] .colab-df-convert {\n",
              "      background-color: #3B4455;\n",
              "      fill: #D2E3FC;\n",
              "    }\n",
              "\n",
              "    [theme=dark] .colab-df-convert:hover {\n",
              "      background-color: #434B5C;\n",
              "      box-shadow: 0px 1px 3px 1px rgba(0, 0, 0, 0.15);\n",
              "      filter: drop-shadow(0px 1px 2px rgba(0, 0, 0, 0.3));\n",
              "      fill: #FFFFFF;\n",
              "    }\n",
              "  </style>\n",
              "\n",
              "      <script>\n",
              "        const buttonEl =\n",
              "          document.querySelector('#df-7a5a0595-377e-494d-8207-b2a260f4ef6b button.colab-df-convert');\n",
              "        buttonEl.style.display =\n",
              "          google.colab.kernel.accessAllowed ? 'block' : 'none';\n",
              "\n",
              "        async function convertToInteractive(key) {\n",
              "          const element = document.querySelector('#df-7a5a0595-377e-494d-8207-b2a260f4ef6b');\n",
              "          const dataTable =\n",
              "            await google.colab.kernel.invokeFunction('convertToInteractive',\n",
              "                                                     [key], {});\n",
              "          if (!dataTable) return;\n",
              "\n",
              "          const docLinkHtml = 'Like what you see? Visit the ' +\n",
              "            '<a target=\"_blank\" href=https://colab.research.google.com/notebooks/data_table.ipynb>data table notebook</a>'\n",
              "            + ' to learn more about interactive tables.';\n",
              "          element.innerHTML = '';\n",
              "          dataTable['output_type'] = 'display_data';\n",
              "          await google.colab.output.renderOutput(dataTable, element);\n",
              "          const docLink = document.createElement('div');\n",
              "          docLink.innerHTML = docLinkHtml;\n",
              "          element.appendChild(docLink);\n",
              "        }\n",
              "      </script>\n",
              "    </div>\n",
              "  </div>\n",
              "  "
            ]
          },
          "metadata": {},
          "execution_count": 157
        }
      ]
    },
    {
      "cell_type": "markdown",
      "source": [
        "## 저장\n"
      ],
      "metadata": {
        "id": "bPa5Tlm_5zZE"
      }
    },
    {
      "cell_type": "code",
      "source": [
        "ps.to_csv('new_yn_special.csv', index=False)"
      ],
      "metadata": {
        "id": "cAWFN_pXpQvY"
      },
      "execution_count": null,
      "outputs": []
    },
    {
      "cell_type": "markdown",
      "source": [
        "\n",
        "\n",
        "---\n",
        "\n"
      ],
      "metadata": {
        "id": "3LRD65nGnmyK"
      }
    },
    {
      "cell_type": "markdown",
      "source": [
        "# new_result_rank_youtube"
      ],
      "metadata": {
        "id": "cO065Q_j092l"
      }
    },
    {
      "cell_type": "code",
      "source": [
        "gri.head()"
      ],
      "metadata": {
        "colab": {
          "base_uri": "https://localhost:8080/"
        },
        "id": "fr66P6Cs_N-8",
        "outputId": "6f755493-eae5-48c2-8da2-1114b07aa0e1"
      },
      "execution_count": null,
      "outputs": [
        {
          "output_type": "execute_result",
          "data": {
            "text/plain": [
              "        date  weekend_yn  night_yn  final_yn home_team_goal away_team_name  \\\n",
              "0 2022-02-19           1         0         0              1             수원   \n",
              "1 2022-02-26           1         0         0              1             서울   \n",
              "2 2022-03-05           1         1         0              0             포항   \n",
              "3 2022-03-13           1         0         0              1             김천   \n",
              "4 2022-04-02           1         0         0              1             울산   \n",
              "\n",
              "   goal_diff  game_result audience  \n",
              "0          1          1.0     5382  \n",
              "1          0          0.5     4618  \n",
              "2         -1          0.0     3581  \n",
              "3          1          1.0     2607  \n",
              "4          0          0.5     7054  "
            ],
            "text/html": [
              "\n",
              "  <div id=\"df-a45232f0-b508-417a-b8ab-94270b2532f9\">\n",
              "    <div class=\"colab-df-container\">\n",
              "      <div>\n",
              "<style scoped>\n",
              "    .dataframe tbody tr th:only-of-type {\n",
              "        vertical-align: middle;\n",
              "    }\n",
              "\n",
              "    .dataframe tbody tr th {\n",
              "        vertical-align: top;\n",
              "    }\n",
              "\n",
              "    .dataframe thead th {\n",
              "        text-align: right;\n",
              "    }\n",
              "</style>\n",
              "<table border=\"1\" class=\"dataframe\">\n",
              "  <thead>\n",
              "    <tr style=\"text-align: right;\">\n",
              "      <th></th>\n",
              "      <th>date</th>\n",
              "      <th>weekend_yn</th>\n",
              "      <th>night_yn</th>\n",
              "      <th>final_yn</th>\n",
              "      <th>home_team_goal</th>\n",
              "      <th>away_team_name</th>\n",
              "      <th>goal_diff</th>\n",
              "      <th>game_result</th>\n",
              "      <th>audience</th>\n",
              "    </tr>\n",
              "  </thead>\n",
              "  <tbody>\n",
              "    <tr>\n",
              "      <th>0</th>\n",
              "      <td>2022-02-19</td>\n",
              "      <td>1</td>\n",
              "      <td>0</td>\n",
              "      <td>0</td>\n",
              "      <td>1</td>\n",
              "      <td>수원</td>\n",
              "      <td>1</td>\n",
              "      <td>1.0</td>\n",
              "      <td>5382</td>\n",
              "    </tr>\n",
              "    <tr>\n",
              "      <th>1</th>\n",
              "      <td>2022-02-26</td>\n",
              "      <td>1</td>\n",
              "      <td>0</td>\n",
              "      <td>0</td>\n",
              "      <td>1</td>\n",
              "      <td>서울</td>\n",
              "      <td>0</td>\n",
              "      <td>0.5</td>\n",
              "      <td>4618</td>\n",
              "    </tr>\n",
              "    <tr>\n",
              "      <th>2</th>\n",
              "      <td>2022-03-05</td>\n",
              "      <td>1</td>\n",
              "      <td>1</td>\n",
              "      <td>0</td>\n",
              "      <td>0</td>\n",
              "      <td>포항</td>\n",
              "      <td>-1</td>\n",
              "      <td>0.0</td>\n",
              "      <td>3581</td>\n",
              "    </tr>\n",
              "    <tr>\n",
              "      <th>3</th>\n",
              "      <td>2022-03-13</td>\n",
              "      <td>1</td>\n",
              "      <td>0</td>\n",
              "      <td>0</td>\n",
              "      <td>1</td>\n",
              "      <td>김천</td>\n",
              "      <td>1</td>\n",
              "      <td>1.0</td>\n",
              "      <td>2607</td>\n",
              "    </tr>\n",
              "    <tr>\n",
              "      <th>4</th>\n",
              "      <td>2022-04-02</td>\n",
              "      <td>1</td>\n",
              "      <td>0</td>\n",
              "      <td>0</td>\n",
              "      <td>1</td>\n",
              "      <td>울산</td>\n",
              "      <td>0</td>\n",
              "      <td>0.5</td>\n",
              "      <td>7054</td>\n",
              "    </tr>\n",
              "  </tbody>\n",
              "</table>\n",
              "</div>\n",
              "      <button class=\"colab-df-convert\" onclick=\"convertToInteractive('df-a45232f0-b508-417a-b8ab-94270b2532f9')\"\n",
              "              title=\"Convert this dataframe to an interactive table.\"\n",
              "              style=\"display:none;\">\n",
              "        \n",
              "  <svg xmlns=\"http://www.w3.org/2000/svg\" height=\"24px\"viewBox=\"0 0 24 24\"\n",
              "       width=\"24px\">\n",
              "    <path d=\"M0 0h24v24H0V0z\" fill=\"none\"/>\n",
              "    <path d=\"M18.56 5.44l.94 2.06.94-2.06 2.06-.94-2.06-.94-.94-2.06-.94 2.06-2.06.94zm-11 1L8.5 8.5l.94-2.06 2.06-.94-2.06-.94L8.5 2.5l-.94 2.06-2.06.94zm10 10l.94 2.06.94-2.06 2.06-.94-2.06-.94-.94-2.06-.94 2.06-2.06.94z\"/><path d=\"M17.41 7.96l-1.37-1.37c-.4-.4-.92-.59-1.43-.59-.52 0-1.04.2-1.43.59L10.3 9.45l-7.72 7.72c-.78.78-.78 2.05 0 2.83L4 21.41c.39.39.9.59 1.41.59.51 0 1.02-.2 1.41-.59l7.78-7.78 2.81-2.81c.8-.78.8-2.07 0-2.86zM5.41 20L4 18.59l7.72-7.72 1.47 1.35L5.41 20z\"/>\n",
              "  </svg>\n",
              "      </button>\n",
              "      \n",
              "  <style>\n",
              "    .colab-df-container {\n",
              "      display:flex;\n",
              "      flex-wrap:wrap;\n",
              "      gap: 12px;\n",
              "    }\n",
              "\n",
              "    .colab-df-convert {\n",
              "      background-color: #E8F0FE;\n",
              "      border: none;\n",
              "      border-radius: 50%;\n",
              "      cursor: pointer;\n",
              "      display: none;\n",
              "      fill: #1967D2;\n",
              "      height: 32px;\n",
              "      padding: 0 0 0 0;\n",
              "      width: 32px;\n",
              "    }\n",
              "\n",
              "    .colab-df-convert:hover {\n",
              "      background-color: #E2EBFA;\n",
              "      box-shadow: 0px 1px 2px rgba(60, 64, 67, 0.3), 0px 1px 3px 1px rgba(60, 64, 67, 0.15);\n",
              "      fill: #174EA6;\n",
              "    }\n",
              "\n",
              "    [theme=dark] .colab-df-convert {\n",
              "      background-color: #3B4455;\n",
              "      fill: #D2E3FC;\n",
              "    }\n",
              "\n",
              "    [theme=dark] .colab-df-convert:hover {\n",
              "      background-color: #434B5C;\n",
              "      box-shadow: 0px 1px 3px 1px rgba(0, 0, 0, 0.15);\n",
              "      filter: drop-shadow(0px 1px 2px rgba(0, 0, 0, 0.3));\n",
              "      fill: #FFFFFF;\n",
              "    }\n",
              "  </style>\n",
              "\n",
              "      <script>\n",
              "        const buttonEl =\n",
              "          document.querySelector('#df-a45232f0-b508-417a-b8ab-94270b2532f9 button.colab-df-convert');\n",
              "        buttonEl.style.display =\n",
              "          google.colab.kernel.accessAllowed ? 'block' : 'none';\n",
              "\n",
              "        async function convertToInteractive(key) {\n",
              "          const element = document.querySelector('#df-a45232f0-b508-417a-b8ab-94270b2532f9');\n",
              "          const dataTable =\n",
              "            await google.colab.kernel.invokeFunction('convertToInteractive',\n",
              "                                                     [key], {});\n",
              "          if (!dataTable) return;\n",
              "\n",
              "          const docLinkHtml = 'Like what you see? Visit the ' +\n",
              "            '<a target=\"_blank\" href=https://colab.research.google.com/notebooks/data_table.ipynb>data table notebook</a>'\n",
              "            + ' to learn more about interactive tables.';\n",
              "          element.innerHTML = '';\n",
              "          dataTable['output_type'] = 'display_data';\n",
              "          await google.colab.output.renderOutput(dataTable, element);\n",
              "          const docLink = document.createElement('div');\n",
              "          docLink.innerHTML = docLinkHtml;\n",
              "          element.appendChild(docLink);\n",
              "        }\n",
              "      </script>\n",
              "    </div>\n",
              "  </div>\n",
              "  "
            ]
          },
          "metadata": {},
          "execution_count": 159
        }
      ]
    },
    {
      "cell_type": "code",
      "source": [
        "d_r_2022.head()"
      ],
      "metadata": {
        "colab": {
          "base_uri": "https://localhost:8080/"
        },
        "id": "iU5U0ni__PB-",
        "outputId": "b6c60a6d-3d9f-4e57-aa3e-3a51d88f9af1"
      },
      "execution_count": null,
      "outputs": [
        {
          "output_type": "execute_result",
          "data": {
            "text/plain": [
              "        date  rank\n",
              "0 2022-02-19     2\n",
              "1 2022-02-20     4\n",
              "2 2022-02-26     4\n",
              "3 2022-02-27     5\n",
              "4 2022-03-01     2"
            ],
            "text/html": [
              "\n",
              "  <div id=\"df-44bb1731-3a9a-4ccc-b564-c788b18542bf\">\n",
              "    <div class=\"colab-df-container\">\n",
              "      <div>\n",
              "<style scoped>\n",
              "    .dataframe tbody tr th:only-of-type {\n",
              "        vertical-align: middle;\n",
              "    }\n",
              "\n",
              "    .dataframe tbody tr th {\n",
              "        vertical-align: top;\n",
              "    }\n",
              "\n",
              "    .dataframe thead th {\n",
              "        text-align: right;\n",
              "    }\n",
              "</style>\n",
              "<table border=\"1\" class=\"dataframe\">\n",
              "  <thead>\n",
              "    <tr style=\"text-align: right;\">\n",
              "      <th></th>\n",
              "      <th>date</th>\n",
              "      <th>rank</th>\n",
              "    </tr>\n",
              "  </thead>\n",
              "  <tbody>\n",
              "    <tr>\n",
              "      <th>0</th>\n",
              "      <td>2022-02-19</td>\n",
              "      <td>2</td>\n",
              "    </tr>\n",
              "    <tr>\n",
              "      <th>1</th>\n",
              "      <td>2022-02-20</td>\n",
              "      <td>4</td>\n",
              "    </tr>\n",
              "    <tr>\n",
              "      <th>2</th>\n",
              "      <td>2022-02-26</td>\n",
              "      <td>4</td>\n",
              "    </tr>\n",
              "    <tr>\n",
              "      <th>3</th>\n",
              "      <td>2022-02-27</td>\n",
              "      <td>5</td>\n",
              "    </tr>\n",
              "    <tr>\n",
              "      <th>4</th>\n",
              "      <td>2022-03-01</td>\n",
              "      <td>2</td>\n",
              "    </tr>\n",
              "  </tbody>\n",
              "</table>\n",
              "</div>\n",
              "      <button class=\"colab-df-convert\" onclick=\"convertToInteractive('df-44bb1731-3a9a-4ccc-b564-c788b18542bf')\"\n",
              "              title=\"Convert this dataframe to an interactive table.\"\n",
              "              style=\"display:none;\">\n",
              "        \n",
              "  <svg xmlns=\"http://www.w3.org/2000/svg\" height=\"24px\"viewBox=\"0 0 24 24\"\n",
              "       width=\"24px\">\n",
              "    <path d=\"M0 0h24v24H0V0z\" fill=\"none\"/>\n",
              "    <path d=\"M18.56 5.44l.94 2.06.94-2.06 2.06-.94-2.06-.94-.94-2.06-.94 2.06-2.06.94zm-11 1L8.5 8.5l.94-2.06 2.06-.94-2.06-.94L8.5 2.5l-.94 2.06-2.06.94zm10 10l.94 2.06.94-2.06 2.06-.94-2.06-.94-.94-2.06-.94 2.06-2.06.94z\"/><path d=\"M17.41 7.96l-1.37-1.37c-.4-.4-.92-.59-1.43-.59-.52 0-1.04.2-1.43.59L10.3 9.45l-7.72 7.72c-.78.78-.78 2.05 0 2.83L4 21.41c.39.39.9.59 1.41.59.51 0 1.02-.2 1.41-.59l7.78-7.78 2.81-2.81c.8-.78.8-2.07 0-2.86zM5.41 20L4 18.59l7.72-7.72 1.47 1.35L5.41 20z\"/>\n",
              "  </svg>\n",
              "      </button>\n",
              "      \n",
              "  <style>\n",
              "    .colab-df-container {\n",
              "      display:flex;\n",
              "      flex-wrap:wrap;\n",
              "      gap: 12px;\n",
              "    }\n",
              "\n",
              "    .colab-df-convert {\n",
              "      background-color: #E8F0FE;\n",
              "      border: none;\n",
              "      border-radius: 50%;\n",
              "      cursor: pointer;\n",
              "      display: none;\n",
              "      fill: #1967D2;\n",
              "      height: 32px;\n",
              "      padding: 0 0 0 0;\n",
              "      width: 32px;\n",
              "    }\n",
              "\n",
              "    .colab-df-convert:hover {\n",
              "      background-color: #E2EBFA;\n",
              "      box-shadow: 0px 1px 2px rgba(60, 64, 67, 0.3), 0px 1px 3px 1px rgba(60, 64, 67, 0.15);\n",
              "      fill: #174EA6;\n",
              "    }\n",
              "\n",
              "    [theme=dark] .colab-df-convert {\n",
              "      background-color: #3B4455;\n",
              "      fill: #D2E3FC;\n",
              "    }\n",
              "\n",
              "    [theme=dark] .colab-df-convert:hover {\n",
              "      background-color: #434B5C;\n",
              "      box-shadow: 0px 1px 3px 1px rgba(0, 0, 0, 0.15);\n",
              "      filter: drop-shadow(0px 1px 2px rgba(0, 0, 0, 0.3));\n",
              "      fill: #FFFFFF;\n",
              "    }\n",
              "  </style>\n",
              "\n",
              "      <script>\n",
              "        const buttonEl =\n",
              "          document.querySelector('#df-44bb1731-3a9a-4ccc-b564-c788b18542bf button.colab-df-convert');\n",
              "        buttonEl.style.display =\n",
              "          google.colab.kernel.accessAllowed ? 'block' : 'none';\n",
              "\n",
              "        async function convertToInteractive(key) {\n",
              "          const element = document.querySelector('#df-44bb1731-3a9a-4ccc-b564-c788b18542bf');\n",
              "          const dataTable =\n",
              "            await google.colab.kernel.invokeFunction('convertToInteractive',\n",
              "                                                     [key], {});\n",
              "          if (!dataTable) return;\n",
              "\n",
              "          const docLinkHtml = 'Like what you see? Visit the ' +\n",
              "            '<a target=\"_blank\" href=https://colab.research.google.com/notebooks/data_table.ipynb>data table notebook</a>'\n",
              "            + ' to learn more about interactive tables.';\n",
              "          element.innerHTML = '';\n",
              "          dataTable['output_type'] = 'display_data';\n",
              "          await google.colab.output.renderOutput(dataTable, element);\n",
              "          const docLink = document.createElement('div');\n",
              "          docLink.innerHTML = docLinkHtml;\n",
              "          element.appendChild(docLink);\n",
              "        }\n",
              "      </script>\n",
              "    </div>\n",
              "  </div>\n",
              "  "
            ]
          },
          "metadata": {},
          "execution_count": 160
        }
      ]
    },
    {
      "cell_type": "code",
      "source": [
        "drr = pd.merge(gri, d_r_2022, on='date', how='inner')"
      ],
      "metadata": {
        "id": "a4EuEDjm_no2"
      },
      "execution_count": null,
      "outputs": []
    },
    {
      "cell_type": "code",
      "source": [
        "drr.head()"
      ],
      "metadata": {
        "colab": {
          "base_uri": "https://localhost:8080/"
        },
        "id": "WNX4qyBGAF9P",
        "outputId": "e2441a31-a410-434b-9316-ebd9bcb00749"
      },
      "execution_count": null,
      "outputs": [
        {
          "output_type": "execute_result",
          "data": {
            "text/plain": [
              "        date  weekend_yn  night_yn  final_yn home_team_goal away_team_name  \\\n",
              "0 2022-02-19           1         0         0              1             수원   \n",
              "1 2022-02-26           1         0         0              1             서울   \n",
              "2 2022-03-05           1         1         0              0             포항   \n",
              "3 2022-03-13           1         0         0              1             김천   \n",
              "4 2022-04-02           1         0         0              1             울산   \n",
              "\n",
              "   goal_diff  game_result audience  rank  \n",
              "0          1          1.0     5382     2  \n",
              "1          0          0.5     4618     4  \n",
              "2         -1          0.0     3581     4  \n",
              "3          1          1.0     2607     3  \n",
              "4          0          0.5     7054     2  "
            ],
            "text/html": [
              "\n",
              "  <div id=\"df-5d71edb2-ee98-4c43-89a4-b106a7623dd6\">\n",
              "    <div class=\"colab-df-container\">\n",
              "      <div>\n",
              "<style scoped>\n",
              "    .dataframe tbody tr th:only-of-type {\n",
              "        vertical-align: middle;\n",
              "    }\n",
              "\n",
              "    .dataframe tbody tr th {\n",
              "        vertical-align: top;\n",
              "    }\n",
              "\n",
              "    .dataframe thead th {\n",
              "        text-align: right;\n",
              "    }\n",
              "</style>\n",
              "<table border=\"1\" class=\"dataframe\">\n",
              "  <thead>\n",
              "    <tr style=\"text-align: right;\">\n",
              "      <th></th>\n",
              "      <th>date</th>\n",
              "      <th>weekend_yn</th>\n",
              "      <th>night_yn</th>\n",
              "      <th>final_yn</th>\n",
              "      <th>home_team_goal</th>\n",
              "      <th>away_team_name</th>\n",
              "      <th>goal_diff</th>\n",
              "      <th>game_result</th>\n",
              "      <th>audience</th>\n",
              "      <th>rank</th>\n",
              "    </tr>\n",
              "  </thead>\n",
              "  <tbody>\n",
              "    <tr>\n",
              "      <th>0</th>\n",
              "      <td>2022-02-19</td>\n",
              "      <td>1</td>\n",
              "      <td>0</td>\n",
              "      <td>0</td>\n",
              "      <td>1</td>\n",
              "      <td>수원</td>\n",
              "      <td>1</td>\n",
              "      <td>1.0</td>\n",
              "      <td>5382</td>\n",
              "      <td>2</td>\n",
              "    </tr>\n",
              "    <tr>\n",
              "      <th>1</th>\n",
              "      <td>2022-02-26</td>\n",
              "      <td>1</td>\n",
              "      <td>0</td>\n",
              "      <td>0</td>\n",
              "      <td>1</td>\n",
              "      <td>서울</td>\n",
              "      <td>0</td>\n",
              "      <td>0.5</td>\n",
              "      <td>4618</td>\n",
              "      <td>4</td>\n",
              "    </tr>\n",
              "    <tr>\n",
              "      <th>2</th>\n",
              "      <td>2022-03-05</td>\n",
              "      <td>1</td>\n",
              "      <td>1</td>\n",
              "      <td>0</td>\n",
              "      <td>0</td>\n",
              "      <td>포항</td>\n",
              "      <td>-1</td>\n",
              "      <td>0.0</td>\n",
              "      <td>3581</td>\n",
              "      <td>4</td>\n",
              "    </tr>\n",
              "    <tr>\n",
              "      <th>3</th>\n",
              "      <td>2022-03-13</td>\n",
              "      <td>1</td>\n",
              "      <td>0</td>\n",
              "      <td>0</td>\n",
              "      <td>1</td>\n",
              "      <td>김천</td>\n",
              "      <td>1</td>\n",
              "      <td>1.0</td>\n",
              "      <td>2607</td>\n",
              "      <td>3</td>\n",
              "    </tr>\n",
              "    <tr>\n",
              "      <th>4</th>\n",
              "      <td>2022-04-02</td>\n",
              "      <td>1</td>\n",
              "      <td>0</td>\n",
              "      <td>0</td>\n",
              "      <td>1</td>\n",
              "      <td>울산</td>\n",
              "      <td>0</td>\n",
              "      <td>0.5</td>\n",
              "      <td>7054</td>\n",
              "      <td>2</td>\n",
              "    </tr>\n",
              "  </tbody>\n",
              "</table>\n",
              "</div>\n",
              "      <button class=\"colab-df-convert\" onclick=\"convertToInteractive('df-5d71edb2-ee98-4c43-89a4-b106a7623dd6')\"\n",
              "              title=\"Convert this dataframe to an interactive table.\"\n",
              "              style=\"display:none;\">\n",
              "        \n",
              "  <svg xmlns=\"http://www.w3.org/2000/svg\" height=\"24px\"viewBox=\"0 0 24 24\"\n",
              "       width=\"24px\">\n",
              "    <path d=\"M0 0h24v24H0V0z\" fill=\"none\"/>\n",
              "    <path d=\"M18.56 5.44l.94 2.06.94-2.06 2.06-.94-2.06-.94-.94-2.06-.94 2.06-2.06.94zm-11 1L8.5 8.5l.94-2.06 2.06-.94-2.06-.94L8.5 2.5l-.94 2.06-2.06.94zm10 10l.94 2.06.94-2.06 2.06-.94-2.06-.94-.94-2.06-.94 2.06-2.06.94z\"/><path d=\"M17.41 7.96l-1.37-1.37c-.4-.4-.92-.59-1.43-.59-.52 0-1.04.2-1.43.59L10.3 9.45l-7.72 7.72c-.78.78-.78 2.05 0 2.83L4 21.41c.39.39.9.59 1.41.59.51 0 1.02-.2 1.41-.59l7.78-7.78 2.81-2.81c.8-.78.8-2.07 0-2.86zM5.41 20L4 18.59l7.72-7.72 1.47 1.35L5.41 20z\"/>\n",
              "  </svg>\n",
              "      </button>\n",
              "      \n",
              "  <style>\n",
              "    .colab-df-container {\n",
              "      display:flex;\n",
              "      flex-wrap:wrap;\n",
              "      gap: 12px;\n",
              "    }\n",
              "\n",
              "    .colab-df-convert {\n",
              "      background-color: #E8F0FE;\n",
              "      border: none;\n",
              "      border-radius: 50%;\n",
              "      cursor: pointer;\n",
              "      display: none;\n",
              "      fill: #1967D2;\n",
              "      height: 32px;\n",
              "      padding: 0 0 0 0;\n",
              "      width: 32px;\n",
              "    }\n",
              "\n",
              "    .colab-df-convert:hover {\n",
              "      background-color: #E2EBFA;\n",
              "      box-shadow: 0px 1px 2px rgba(60, 64, 67, 0.3), 0px 1px 3px 1px rgba(60, 64, 67, 0.15);\n",
              "      fill: #174EA6;\n",
              "    }\n",
              "\n",
              "    [theme=dark] .colab-df-convert {\n",
              "      background-color: #3B4455;\n",
              "      fill: #D2E3FC;\n",
              "    }\n",
              "\n",
              "    [theme=dark] .colab-df-convert:hover {\n",
              "      background-color: #434B5C;\n",
              "      box-shadow: 0px 1px 3px 1px rgba(0, 0, 0, 0.15);\n",
              "      filter: drop-shadow(0px 1px 2px rgba(0, 0, 0, 0.3));\n",
              "      fill: #FFFFFF;\n",
              "    }\n",
              "  </style>\n",
              "\n",
              "      <script>\n",
              "        const buttonEl =\n",
              "          document.querySelector('#df-5d71edb2-ee98-4c43-89a4-b106a7623dd6 button.colab-df-convert');\n",
              "        buttonEl.style.display =\n",
              "          google.colab.kernel.accessAllowed ? 'block' : 'none';\n",
              "\n",
              "        async function convertToInteractive(key) {\n",
              "          const element = document.querySelector('#df-5d71edb2-ee98-4c43-89a4-b106a7623dd6');\n",
              "          const dataTable =\n",
              "            await google.colab.kernel.invokeFunction('convertToInteractive',\n",
              "                                                     [key], {});\n",
              "          if (!dataTable) return;\n",
              "\n",
              "          const docLinkHtml = 'Like what you see? Visit the ' +\n",
              "            '<a target=\"_blank\" href=https://colab.research.google.com/notebooks/data_table.ipynb>data table notebook</a>'\n",
              "            + ' to learn more about interactive tables.';\n",
              "          element.innerHTML = '';\n",
              "          dataTable['output_type'] = 'display_data';\n",
              "          await google.colab.output.renderOutput(dataTable, element);\n",
              "          const docLink = document.createElement('div');\n",
              "          docLink.innerHTML = docLinkHtml;\n",
              "          element.appendChild(docLink);\n",
              "        }\n",
              "      </script>\n",
              "    </div>\n",
              "  </div>\n",
              "  "
            ]
          },
          "metadata": {},
          "execution_count": 162
        }
      ]
    },
    {
      "cell_type": "markdown",
      "source": [
        "## 경기 결과와 순위 정보 밀기"
      ],
      "metadata": {
        "id": "l-sYnuCg1M8k"
      }
    },
    {
      "cell_type": "code",
      "source": [
        "# 관중은 오늘의 경기 결과와 순위를 보고 오는게 아니라\n",
        "# 직전 경기의 결과와 순위를 보고 온다."
      ],
      "metadata": {
        "id": "UFIFQJKscU5-"
      },
      "execution_count": null,
      "outputs": []
    },
    {
      "cell_type": "code",
      "source": [
        "list_ = [None]\n",
        "list_.extend(list(drr['home_team_goal']))\n",
        "drr['before_home_goal'] = list_[:-1]"
      ],
      "metadata": {
        "id": "G757rp8oE2Ag"
      },
      "execution_count": null,
      "outputs": []
    },
    {
      "cell_type": "code",
      "source": [
        "list_ = [None]\n",
        "list_.extend(list(drr['goal_diff']))\n",
        "drr['before_goal_diff'] = list_[:-1]"
      ],
      "metadata": {
        "id": "kLQAHa_Ued8p"
      },
      "execution_count": null,
      "outputs": []
    },
    {
      "cell_type": "code",
      "source": [
        "list_ = [None]\n",
        "list_.extend(list(drr['game_result']))\n",
        "drr['before_game_result'] = list_[:-1]"
      ],
      "metadata": {
        "id": "jTMcd4EQoNHr"
      },
      "execution_count": null,
      "outputs": []
    },
    {
      "cell_type": "code",
      "source": [
        "list_ = [None]\n",
        "list_.extend(list(drr['rank']))\n",
        "drr['before_rank'] = list_[:-1]"
      ],
      "metadata": {
        "id": "Heackbaje3fS"
      },
      "execution_count": null,
      "outputs": []
    },
    {
      "cell_type": "code",
      "source": [
        "list_ = [None]\n",
        "list_.extend(list(drr['audience']))\n",
        "drr['before_audience'] = list_[:-1]"
      ],
      "metadata": {
        "id": "h2wj0GHP0emO"
      },
      "execution_count": null,
      "outputs": []
    },
    {
      "cell_type": "code",
      "source": [
        "drr.columns"
      ],
      "metadata": {
        "colab": {
          "base_uri": "https://localhost:8080/"
        },
        "id": "4nvOxMojES6d",
        "outputId": "251366a9-6951-422b-8f25-adc2633ccfee"
      },
      "execution_count": null,
      "outputs": [
        {
          "output_type": "execute_result",
          "data": {
            "text/plain": [
              "Index(['date', 'weekend_yn', 'night_yn', 'final_yn', 'home_team_goal',\n",
              "       'away_team_name', 'goal_diff', 'game_result', 'audience', 'rank',\n",
              "       'before_home_goal', 'before_goal_diff', 'before_game_result',\n",
              "       'before_rank', 'before_audience'],\n",
              "      dtype='object')"
            ]
          },
          "metadata": {},
          "execution_count": 169
        }
      ]
    },
    {
      "cell_type": "code",
      "source": [
        "drr = drr[['date','weekend_yn','night_yn','final_yn','away_team_name',\n",
        "           'before_home_goal','before_goal_diff','before_game_result','before_rank','before_audience']]"
      ],
      "metadata": {
        "id": "VckXBMyXEpDj"
      },
      "execution_count": null,
      "outputs": []
    },
    {
      "cell_type": "code",
      "source": [
        "ndrr = drr[1:].reset_index(drop=True)"
      ],
      "metadata": {
        "id": "1a7xJXgkD4Ky"
      },
      "execution_count": null,
      "outputs": []
    },
    {
      "cell_type": "code",
      "source": [
        "ndrr['before_goal_diff'] = ndrr['before_goal_diff'].astype(int)\n",
        "ndrr['before_rank'] = ndrr['before_rank'].astype(int)"
      ],
      "metadata": {
        "id": "s2E_-JVgHJeQ"
      },
      "execution_count": null,
      "outputs": []
    },
    {
      "cell_type": "code",
      "source": [
        "ndrr.head()"
      ],
      "metadata": {
        "colab": {
          "base_uri": "https://localhost:8080/"
        },
        "id": "zuuPZ7ZqHkIU",
        "outputId": "cd342dd1-9e42-449b-a875-c72b1d7ec394"
      },
      "execution_count": null,
      "outputs": [
        {
          "output_type": "execute_result",
          "data": {
            "text/plain": [
              "        date  weekend_yn  night_yn  final_yn away_team_name before_home_goal  \\\n",
              "0 2022-02-26           1         0         0             서울                1   \n",
              "1 2022-03-05           1         1         0             포항                1   \n",
              "2 2022-03-13           1         0         0             김천                0   \n",
              "3 2022-04-02           1         0         0             울산                1   \n",
              "4 2022-04-10           1         0         0             제주                1   \n",
              "\n",
              "   before_goal_diff  before_game_result  before_rank before_audience  \n",
              "0                 1                 1.0            2            5382  \n",
              "1                 0                 0.5            4            4618  \n",
              "2                -1                 0.0            4            3581  \n",
              "3                 1                 1.0            3            2607  \n",
              "4                 0                 0.5            2            7054  "
            ],
            "text/html": [
              "\n",
              "  <div id=\"df-09006272-741c-4cbb-8616-9de1a18cb770\">\n",
              "    <div class=\"colab-df-container\">\n",
              "      <div>\n",
              "<style scoped>\n",
              "    .dataframe tbody tr th:only-of-type {\n",
              "        vertical-align: middle;\n",
              "    }\n",
              "\n",
              "    .dataframe tbody tr th {\n",
              "        vertical-align: top;\n",
              "    }\n",
              "\n",
              "    .dataframe thead th {\n",
              "        text-align: right;\n",
              "    }\n",
              "</style>\n",
              "<table border=\"1\" class=\"dataframe\">\n",
              "  <thead>\n",
              "    <tr style=\"text-align: right;\">\n",
              "      <th></th>\n",
              "      <th>date</th>\n",
              "      <th>weekend_yn</th>\n",
              "      <th>night_yn</th>\n",
              "      <th>final_yn</th>\n",
              "      <th>away_team_name</th>\n",
              "      <th>before_home_goal</th>\n",
              "      <th>before_goal_diff</th>\n",
              "      <th>before_game_result</th>\n",
              "      <th>before_rank</th>\n",
              "      <th>before_audience</th>\n",
              "    </tr>\n",
              "  </thead>\n",
              "  <tbody>\n",
              "    <tr>\n",
              "      <th>0</th>\n",
              "      <td>2022-02-26</td>\n",
              "      <td>1</td>\n",
              "      <td>0</td>\n",
              "      <td>0</td>\n",
              "      <td>서울</td>\n",
              "      <td>1</td>\n",
              "      <td>1</td>\n",
              "      <td>1.0</td>\n",
              "      <td>2</td>\n",
              "      <td>5382</td>\n",
              "    </tr>\n",
              "    <tr>\n",
              "      <th>1</th>\n",
              "      <td>2022-03-05</td>\n",
              "      <td>1</td>\n",
              "      <td>1</td>\n",
              "      <td>0</td>\n",
              "      <td>포항</td>\n",
              "      <td>1</td>\n",
              "      <td>0</td>\n",
              "      <td>0.5</td>\n",
              "      <td>4</td>\n",
              "      <td>4618</td>\n",
              "    </tr>\n",
              "    <tr>\n",
              "      <th>2</th>\n",
              "      <td>2022-03-13</td>\n",
              "      <td>1</td>\n",
              "      <td>0</td>\n",
              "      <td>0</td>\n",
              "      <td>김천</td>\n",
              "      <td>0</td>\n",
              "      <td>-1</td>\n",
              "      <td>0.0</td>\n",
              "      <td>4</td>\n",
              "      <td>3581</td>\n",
              "    </tr>\n",
              "    <tr>\n",
              "      <th>3</th>\n",
              "      <td>2022-04-02</td>\n",
              "      <td>1</td>\n",
              "      <td>0</td>\n",
              "      <td>0</td>\n",
              "      <td>울산</td>\n",
              "      <td>1</td>\n",
              "      <td>1</td>\n",
              "      <td>1.0</td>\n",
              "      <td>3</td>\n",
              "      <td>2607</td>\n",
              "    </tr>\n",
              "    <tr>\n",
              "      <th>4</th>\n",
              "      <td>2022-04-10</td>\n",
              "      <td>1</td>\n",
              "      <td>0</td>\n",
              "      <td>0</td>\n",
              "      <td>제주</td>\n",
              "      <td>1</td>\n",
              "      <td>0</td>\n",
              "      <td>0.5</td>\n",
              "      <td>2</td>\n",
              "      <td>7054</td>\n",
              "    </tr>\n",
              "  </tbody>\n",
              "</table>\n",
              "</div>\n",
              "      <button class=\"colab-df-convert\" onclick=\"convertToInteractive('df-09006272-741c-4cbb-8616-9de1a18cb770')\"\n",
              "              title=\"Convert this dataframe to an interactive table.\"\n",
              "              style=\"display:none;\">\n",
              "        \n",
              "  <svg xmlns=\"http://www.w3.org/2000/svg\" height=\"24px\"viewBox=\"0 0 24 24\"\n",
              "       width=\"24px\">\n",
              "    <path d=\"M0 0h24v24H0V0z\" fill=\"none\"/>\n",
              "    <path d=\"M18.56 5.44l.94 2.06.94-2.06 2.06-.94-2.06-.94-.94-2.06-.94 2.06-2.06.94zm-11 1L8.5 8.5l.94-2.06 2.06-.94-2.06-.94L8.5 2.5l-.94 2.06-2.06.94zm10 10l.94 2.06.94-2.06 2.06-.94-2.06-.94-.94-2.06-.94 2.06-2.06.94z\"/><path d=\"M17.41 7.96l-1.37-1.37c-.4-.4-.92-.59-1.43-.59-.52 0-1.04.2-1.43.59L10.3 9.45l-7.72 7.72c-.78.78-.78 2.05 0 2.83L4 21.41c.39.39.9.59 1.41.59.51 0 1.02-.2 1.41-.59l7.78-7.78 2.81-2.81c.8-.78.8-2.07 0-2.86zM5.41 20L4 18.59l7.72-7.72 1.47 1.35L5.41 20z\"/>\n",
              "  </svg>\n",
              "      </button>\n",
              "      \n",
              "  <style>\n",
              "    .colab-df-container {\n",
              "      display:flex;\n",
              "      flex-wrap:wrap;\n",
              "      gap: 12px;\n",
              "    }\n",
              "\n",
              "    .colab-df-convert {\n",
              "      background-color: #E8F0FE;\n",
              "      border: none;\n",
              "      border-radius: 50%;\n",
              "      cursor: pointer;\n",
              "      display: none;\n",
              "      fill: #1967D2;\n",
              "      height: 32px;\n",
              "      padding: 0 0 0 0;\n",
              "      width: 32px;\n",
              "    }\n",
              "\n",
              "    .colab-df-convert:hover {\n",
              "      background-color: #E2EBFA;\n",
              "      box-shadow: 0px 1px 2px rgba(60, 64, 67, 0.3), 0px 1px 3px 1px rgba(60, 64, 67, 0.15);\n",
              "      fill: #174EA6;\n",
              "    }\n",
              "\n",
              "    [theme=dark] .colab-df-convert {\n",
              "      background-color: #3B4455;\n",
              "      fill: #D2E3FC;\n",
              "    }\n",
              "\n",
              "    [theme=dark] .colab-df-convert:hover {\n",
              "      background-color: #434B5C;\n",
              "      box-shadow: 0px 1px 3px 1px rgba(0, 0, 0, 0.15);\n",
              "      filter: drop-shadow(0px 1px 2px rgba(0, 0, 0, 0.3));\n",
              "      fill: #FFFFFF;\n",
              "    }\n",
              "  </style>\n",
              "\n",
              "      <script>\n",
              "        const buttonEl =\n",
              "          document.querySelector('#df-09006272-741c-4cbb-8616-9de1a18cb770 button.colab-df-convert');\n",
              "        buttonEl.style.display =\n",
              "          google.colab.kernel.accessAllowed ? 'block' : 'none';\n",
              "\n",
              "        async function convertToInteractive(key) {\n",
              "          const element = document.querySelector('#df-09006272-741c-4cbb-8616-9de1a18cb770');\n",
              "          const dataTable =\n",
              "            await google.colab.kernel.invokeFunction('convertToInteractive',\n",
              "                                                     [key], {});\n",
              "          if (!dataTable) return;\n",
              "\n",
              "          const docLinkHtml = 'Like what you see? Visit the ' +\n",
              "            '<a target=\"_blank\" href=https://colab.research.google.com/notebooks/data_table.ipynb>data table notebook</a>'\n",
              "            + ' to learn more about interactive tables.';\n",
              "          element.innerHTML = '';\n",
              "          dataTable['output_type'] = 'display_data';\n",
              "          await google.colab.output.renderOutput(dataTable, element);\n",
              "          const docLink = document.createElement('div');\n",
              "          docLink.innerHTML = docLinkHtml;\n",
              "          element.appendChild(docLink);\n",
              "        }\n",
              "      </script>\n",
              "    </div>\n",
              "  </div>\n",
              "  "
            ]
          },
          "metadata": {},
          "execution_count": 173
        }
      ]
    },
    {
      "cell_type": "markdown",
      "source": [
        "## new_incheon_youtue 데이터 추가"
      ],
      "metadata": {
        "id": "JGCgkfLnAOh7"
      }
    },
    {
      "cell_type": "code",
      "source": [
        "iy = pd.read_csv('/content/incheon_youtube.csv')"
      ],
      "metadata": {
        "id": "X_656iQuhF13"
      },
      "execution_count": null,
      "outputs": []
    },
    {
      "cell_type": "code",
      "source": [
        "iy_2022 = iy[iy['date'].str.split('-').str[0] == '2022'].reset_index(drop=True)"
      ],
      "metadata": {
        "id": "ep-LjNzrkPO3"
      },
      "execution_count": null,
      "outputs": []
    },
    {
      "cell_type": "code",
      "source": [
        "iy_2022.head()"
      ],
      "metadata": {
        "colab": {
          "base_uri": "https://localhost:8080/"
        },
        "id": "d2jUJvvvkUzM",
        "outputId": "688a8f28-d963-459c-d0e2-94cb5dfd1ce8"
      },
      "execution_count": null,
      "outputs": [
        {
          "output_type": "execute_result",
          "data": {
            "text/plain": [
              "                                             title        date  category_id  \\\n",
              "0     [IUFC TV] '임대 종료' 민성준 인천 복귀 현장 | 민성준 오피셜 인터뷰  2022-01-01           17   \n",
              "1  [IUFC TV] ‘헌신의 아이콘’ 베테랑 미드필더 여름 영입 | 여름 오피셜 인터뷰  2022-01-02           17   \n",
              "2   [IUFC TV] 국가대표 출신 수비수 이주용 오피셜 현장 | 이주용 오피셜 인터뷰  2022-01-03           17   \n",
              "3     [IUFC TV] ‘떠오르는 신성’ 홍시후 오피셜 현장 | 홍시후 오피셜 인터뷰  2022-01-05           17   \n",
              "4   [IUFC TV] ‘팔방미인’ 미드필더 이동수 오피셜 현장 | 이동수 오피셜 인터뷰  2022-01-06           17   \n",
              "\n",
              "   views  likes  \n",
              "0   1839     77  \n",
              "1   4190    142  \n",
              "2   3250    112  \n",
              "3   3853    126  \n",
              "4   2342     96  "
            ],
            "text/html": [
              "\n",
              "  <div id=\"df-5039c680-0cfa-4a73-ac1f-92721707e2ae\">\n",
              "    <div class=\"colab-df-container\">\n",
              "      <div>\n",
              "<style scoped>\n",
              "    .dataframe tbody tr th:only-of-type {\n",
              "        vertical-align: middle;\n",
              "    }\n",
              "\n",
              "    .dataframe tbody tr th {\n",
              "        vertical-align: top;\n",
              "    }\n",
              "\n",
              "    .dataframe thead th {\n",
              "        text-align: right;\n",
              "    }\n",
              "</style>\n",
              "<table border=\"1\" class=\"dataframe\">\n",
              "  <thead>\n",
              "    <tr style=\"text-align: right;\">\n",
              "      <th></th>\n",
              "      <th>title</th>\n",
              "      <th>date</th>\n",
              "      <th>category_id</th>\n",
              "      <th>views</th>\n",
              "      <th>likes</th>\n",
              "    </tr>\n",
              "  </thead>\n",
              "  <tbody>\n",
              "    <tr>\n",
              "      <th>0</th>\n",
              "      <td>[IUFC TV] '임대 종료' 민성준 인천 복귀 현장 | 민성준 오피셜 인터뷰</td>\n",
              "      <td>2022-01-01</td>\n",
              "      <td>17</td>\n",
              "      <td>1839</td>\n",
              "      <td>77</td>\n",
              "    </tr>\n",
              "    <tr>\n",
              "      <th>1</th>\n",
              "      <td>[IUFC TV] ‘헌신의 아이콘’ 베테랑 미드필더 여름 영입 | 여름 오피셜 인터뷰</td>\n",
              "      <td>2022-01-02</td>\n",
              "      <td>17</td>\n",
              "      <td>4190</td>\n",
              "      <td>142</td>\n",
              "    </tr>\n",
              "    <tr>\n",
              "      <th>2</th>\n",
              "      <td>[IUFC TV] 국가대표 출신 수비수 이주용 오피셜 현장 | 이주용 오피셜 인터뷰</td>\n",
              "      <td>2022-01-03</td>\n",
              "      <td>17</td>\n",
              "      <td>3250</td>\n",
              "      <td>112</td>\n",
              "    </tr>\n",
              "    <tr>\n",
              "      <th>3</th>\n",
              "      <td>[IUFC TV] ‘떠오르는 신성’ 홍시후 오피셜 현장 | 홍시후 오피셜 인터뷰</td>\n",
              "      <td>2022-01-05</td>\n",
              "      <td>17</td>\n",
              "      <td>3853</td>\n",
              "      <td>126</td>\n",
              "    </tr>\n",
              "    <tr>\n",
              "      <th>4</th>\n",
              "      <td>[IUFC TV] ‘팔방미인’ 미드필더 이동수 오피셜 현장 | 이동수 오피셜 인터뷰</td>\n",
              "      <td>2022-01-06</td>\n",
              "      <td>17</td>\n",
              "      <td>2342</td>\n",
              "      <td>96</td>\n",
              "    </tr>\n",
              "  </tbody>\n",
              "</table>\n",
              "</div>\n",
              "      <button class=\"colab-df-convert\" onclick=\"convertToInteractive('df-5039c680-0cfa-4a73-ac1f-92721707e2ae')\"\n",
              "              title=\"Convert this dataframe to an interactive table.\"\n",
              "              style=\"display:none;\">\n",
              "        \n",
              "  <svg xmlns=\"http://www.w3.org/2000/svg\" height=\"24px\"viewBox=\"0 0 24 24\"\n",
              "       width=\"24px\">\n",
              "    <path d=\"M0 0h24v24H0V0z\" fill=\"none\"/>\n",
              "    <path d=\"M18.56 5.44l.94 2.06.94-2.06 2.06-.94-2.06-.94-.94-2.06-.94 2.06-2.06.94zm-11 1L8.5 8.5l.94-2.06 2.06-.94-2.06-.94L8.5 2.5l-.94 2.06-2.06.94zm10 10l.94 2.06.94-2.06 2.06-.94-2.06-.94-.94-2.06-.94 2.06-2.06.94z\"/><path d=\"M17.41 7.96l-1.37-1.37c-.4-.4-.92-.59-1.43-.59-.52 0-1.04.2-1.43.59L10.3 9.45l-7.72 7.72c-.78.78-.78 2.05 0 2.83L4 21.41c.39.39.9.59 1.41.59.51 0 1.02-.2 1.41-.59l7.78-7.78 2.81-2.81c.8-.78.8-2.07 0-2.86zM5.41 20L4 18.59l7.72-7.72 1.47 1.35L5.41 20z\"/>\n",
              "  </svg>\n",
              "      </button>\n",
              "      \n",
              "  <style>\n",
              "    .colab-df-container {\n",
              "      display:flex;\n",
              "      flex-wrap:wrap;\n",
              "      gap: 12px;\n",
              "    }\n",
              "\n",
              "    .colab-df-convert {\n",
              "      background-color: #E8F0FE;\n",
              "      border: none;\n",
              "      border-radius: 50%;\n",
              "      cursor: pointer;\n",
              "      display: none;\n",
              "      fill: #1967D2;\n",
              "      height: 32px;\n",
              "      padding: 0 0 0 0;\n",
              "      width: 32px;\n",
              "    }\n",
              "\n",
              "    .colab-df-convert:hover {\n",
              "      background-color: #E2EBFA;\n",
              "      box-shadow: 0px 1px 2px rgba(60, 64, 67, 0.3), 0px 1px 3px 1px rgba(60, 64, 67, 0.15);\n",
              "      fill: #174EA6;\n",
              "    }\n",
              "\n",
              "    [theme=dark] .colab-df-convert {\n",
              "      background-color: #3B4455;\n",
              "      fill: #D2E3FC;\n",
              "    }\n",
              "\n",
              "    [theme=dark] .colab-df-convert:hover {\n",
              "      background-color: #434B5C;\n",
              "      box-shadow: 0px 1px 3px 1px rgba(0, 0, 0, 0.15);\n",
              "      filter: drop-shadow(0px 1px 2px rgba(0, 0, 0, 0.3));\n",
              "      fill: #FFFFFF;\n",
              "    }\n",
              "  </style>\n",
              "\n",
              "      <script>\n",
              "        const buttonEl =\n",
              "          document.querySelector('#df-5039c680-0cfa-4a73-ac1f-92721707e2ae button.colab-df-convert');\n",
              "        buttonEl.style.display =\n",
              "          google.colab.kernel.accessAllowed ? 'block' : 'none';\n",
              "\n",
              "        async function convertToInteractive(key) {\n",
              "          const element = document.querySelector('#df-5039c680-0cfa-4a73-ac1f-92721707e2ae');\n",
              "          const dataTable =\n",
              "            await google.colab.kernel.invokeFunction('convertToInteractive',\n",
              "                                                     [key], {});\n",
              "          if (!dataTable) return;\n",
              "\n",
              "          const docLinkHtml = 'Like what you see? Visit the ' +\n",
              "            '<a target=\"_blank\" href=https://colab.research.google.com/notebooks/data_table.ipynb>data table notebook</a>'\n",
              "            + ' to learn more about interactive tables.';\n",
              "          element.innerHTML = '';\n",
              "          dataTable['output_type'] = 'display_data';\n",
              "          await google.colab.output.renderOutput(dataTable, element);\n",
              "          const docLink = document.createElement('div');\n",
              "          docLink.innerHTML = docLinkHtml;\n",
              "          element.appendChild(docLink);\n",
              "        }\n",
              "      </script>\n",
              "    </div>\n",
              "  </div>\n",
              "  "
            ]
          },
          "metadata": {},
          "execution_count": 177
        }
      ]
    },
    {
      "cell_type": "code",
      "source": [
        "iy_2022['date'] = pd.to_datetime(iy_2022['date'])"
      ],
      "metadata": {
        "id": "XzHwVrnDo9PY"
      },
      "execution_count": null,
      "outputs": []
    },
    {
      "cell_type": "code",
      "source": [
        "# youtube_count, youtube_mean_view, youtube_mean_likes"
      ],
      "metadata": {
        "id": "QywDgVopkwHJ"
      },
      "execution_count": null,
      "outputs": []
    },
    {
      "cell_type": "code",
      "source": [
        "list_ = list(drr['date'])\n",
        "\n",
        "count_list = []\n",
        "view_list = []\n",
        "like_list = []\n",
        "\n",
        "# 전 경기 이후 올라온 영상들의 건수, 평균 시청 수, 평균 좋아요\n",
        "for i in range(len(list_)-1):\n",
        "    df = iy_2022[(list_[i+1] > iy_2022['date']) & (list_[i] <= iy_2022['date'])]\n",
        "    \n",
        "    count_list.append(df.count()[0])\n",
        "    view_list.append(df['views'].mean())\n",
        "    like_list.append(df['likes'].mean())"
      ],
      "metadata": {
        "id": "tjo0_E1uq2Ig"
      },
      "execution_count": null,
      "outputs": []
    },
    {
      "cell_type": "code",
      "source": [
        "ndrr['youtube_count'] = count_list\n",
        "ndrr['youtube_mean_view'] = view_list\n",
        "ndrr['youtube_mean_like'] = like_list"
      ],
      "metadata": {
        "id": "tEFmGtXqtUdY"
      },
      "execution_count": null,
      "outputs": []
    },
    {
      "cell_type": "code",
      "source": [
        "ndrr['youtube_mean_view'] = ndrr['youtube_mean_view'].apply(lambda x: int(round(x, 0)))\n",
        "ndrr['youtube_mean_like'] = ndrr['youtube_mean_like'].apply(lambda x: int(round(x, 0)))"
      ],
      "metadata": {
        "id": "xtYPPBGMH_HO"
      },
      "execution_count": null,
      "outputs": []
    },
    {
      "cell_type": "code",
      "source": [
        "ndrr.head()"
      ],
      "metadata": {
        "colab": {
          "base_uri": "https://localhost:8080/"
        },
        "id": "b63UD9mABIAK",
        "outputId": "c4fa7090-4483-431c-9dd3-29b4d31e39e5"
      },
      "execution_count": null,
      "outputs": [
        {
          "output_type": "execute_result",
          "data": {
            "text/plain": [
              "        date  weekend_yn  night_yn  final_yn away_team_name before_home_goal  \\\n",
              "0 2022-02-26           1         0         0             서울                1   \n",
              "1 2022-03-05           1         1         0             포항                1   \n",
              "2 2022-03-13           1         0         0             김천                0   \n",
              "3 2022-04-02           1         0         0             울산                1   \n",
              "4 2022-04-10           1         0         0             제주                1   \n",
              "\n",
              "   before_goal_diff  before_game_result  before_rank before_audience  \\\n",
              "0                 1                 1.0            2            5382   \n",
              "1                 0                 0.5            4            4618   \n",
              "2                -1                 0.0            4            3581   \n",
              "3                 1                 1.0            3            2607   \n",
              "4                 0                 0.5            2            7054   \n",
              "\n",
              "   youtube_count  youtube_mean_view  youtube_mean_like  \n",
              "0              4               2794                158  \n",
              "1              4               1816                 97  \n",
              "2              4               1046                 54  \n",
              "3             10               2903                147  \n",
              "4              3               2254                113  "
            ],
            "text/html": [
              "\n",
              "  <div id=\"df-e18c4e14-ab39-4b7c-8473-4640a1e11699\">\n",
              "    <div class=\"colab-df-container\">\n",
              "      <div>\n",
              "<style scoped>\n",
              "    .dataframe tbody tr th:only-of-type {\n",
              "        vertical-align: middle;\n",
              "    }\n",
              "\n",
              "    .dataframe tbody tr th {\n",
              "        vertical-align: top;\n",
              "    }\n",
              "\n",
              "    .dataframe thead th {\n",
              "        text-align: right;\n",
              "    }\n",
              "</style>\n",
              "<table border=\"1\" class=\"dataframe\">\n",
              "  <thead>\n",
              "    <tr style=\"text-align: right;\">\n",
              "      <th></th>\n",
              "      <th>date</th>\n",
              "      <th>weekend_yn</th>\n",
              "      <th>night_yn</th>\n",
              "      <th>final_yn</th>\n",
              "      <th>away_team_name</th>\n",
              "      <th>before_home_goal</th>\n",
              "      <th>before_goal_diff</th>\n",
              "      <th>before_game_result</th>\n",
              "      <th>before_rank</th>\n",
              "      <th>before_audience</th>\n",
              "      <th>youtube_count</th>\n",
              "      <th>youtube_mean_view</th>\n",
              "      <th>youtube_mean_like</th>\n",
              "    </tr>\n",
              "  </thead>\n",
              "  <tbody>\n",
              "    <tr>\n",
              "      <th>0</th>\n",
              "      <td>2022-02-26</td>\n",
              "      <td>1</td>\n",
              "      <td>0</td>\n",
              "      <td>0</td>\n",
              "      <td>서울</td>\n",
              "      <td>1</td>\n",
              "      <td>1</td>\n",
              "      <td>1.0</td>\n",
              "      <td>2</td>\n",
              "      <td>5382</td>\n",
              "      <td>4</td>\n",
              "      <td>2794</td>\n",
              "      <td>158</td>\n",
              "    </tr>\n",
              "    <tr>\n",
              "      <th>1</th>\n",
              "      <td>2022-03-05</td>\n",
              "      <td>1</td>\n",
              "      <td>1</td>\n",
              "      <td>0</td>\n",
              "      <td>포항</td>\n",
              "      <td>1</td>\n",
              "      <td>0</td>\n",
              "      <td>0.5</td>\n",
              "      <td>4</td>\n",
              "      <td>4618</td>\n",
              "      <td>4</td>\n",
              "      <td>1816</td>\n",
              "      <td>97</td>\n",
              "    </tr>\n",
              "    <tr>\n",
              "      <th>2</th>\n",
              "      <td>2022-03-13</td>\n",
              "      <td>1</td>\n",
              "      <td>0</td>\n",
              "      <td>0</td>\n",
              "      <td>김천</td>\n",
              "      <td>0</td>\n",
              "      <td>-1</td>\n",
              "      <td>0.0</td>\n",
              "      <td>4</td>\n",
              "      <td>3581</td>\n",
              "      <td>4</td>\n",
              "      <td>1046</td>\n",
              "      <td>54</td>\n",
              "    </tr>\n",
              "    <tr>\n",
              "      <th>3</th>\n",
              "      <td>2022-04-02</td>\n",
              "      <td>1</td>\n",
              "      <td>0</td>\n",
              "      <td>0</td>\n",
              "      <td>울산</td>\n",
              "      <td>1</td>\n",
              "      <td>1</td>\n",
              "      <td>1.0</td>\n",
              "      <td>3</td>\n",
              "      <td>2607</td>\n",
              "      <td>10</td>\n",
              "      <td>2903</td>\n",
              "      <td>147</td>\n",
              "    </tr>\n",
              "    <tr>\n",
              "      <th>4</th>\n",
              "      <td>2022-04-10</td>\n",
              "      <td>1</td>\n",
              "      <td>0</td>\n",
              "      <td>0</td>\n",
              "      <td>제주</td>\n",
              "      <td>1</td>\n",
              "      <td>0</td>\n",
              "      <td>0.5</td>\n",
              "      <td>2</td>\n",
              "      <td>7054</td>\n",
              "      <td>3</td>\n",
              "      <td>2254</td>\n",
              "      <td>113</td>\n",
              "    </tr>\n",
              "  </tbody>\n",
              "</table>\n",
              "</div>\n",
              "      <button class=\"colab-df-convert\" onclick=\"convertToInteractive('df-e18c4e14-ab39-4b7c-8473-4640a1e11699')\"\n",
              "              title=\"Convert this dataframe to an interactive table.\"\n",
              "              style=\"display:none;\">\n",
              "        \n",
              "  <svg xmlns=\"http://www.w3.org/2000/svg\" height=\"24px\"viewBox=\"0 0 24 24\"\n",
              "       width=\"24px\">\n",
              "    <path d=\"M0 0h24v24H0V0z\" fill=\"none\"/>\n",
              "    <path d=\"M18.56 5.44l.94 2.06.94-2.06 2.06-.94-2.06-.94-.94-2.06-.94 2.06-2.06.94zm-11 1L8.5 8.5l.94-2.06 2.06-.94-2.06-.94L8.5 2.5l-.94 2.06-2.06.94zm10 10l.94 2.06.94-2.06 2.06-.94-2.06-.94-.94-2.06-.94 2.06-2.06.94z\"/><path d=\"M17.41 7.96l-1.37-1.37c-.4-.4-.92-.59-1.43-.59-.52 0-1.04.2-1.43.59L10.3 9.45l-7.72 7.72c-.78.78-.78 2.05 0 2.83L4 21.41c.39.39.9.59 1.41.59.51 0 1.02-.2 1.41-.59l7.78-7.78 2.81-2.81c.8-.78.8-2.07 0-2.86zM5.41 20L4 18.59l7.72-7.72 1.47 1.35L5.41 20z\"/>\n",
              "  </svg>\n",
              "      </button>\n",
              "      \n",
              "  <style>\n",
              "    .colab-df-container {\n",
              "      display:flex;\n",
              "      flex-wrap:wrap;\n",
              "      gap: 12px;\n",
              "    }\n",
              "\n",
              "    .colab-df-convert {\n",
              "      background-color: #E8F0FE;\n",
              "      border: none;\n",
              "      border-radius: 50%;\n",
              "      cursor: pointer;\n",
              "      display: none;\n",
              "      fill: #1967D2;\n",
              "      height: 32px;\n",
              "      padding: 0 0 0 0;\n",
              "      width: 32px;\n",
              "    }\n",
              "\n",
              "    .colab-df-convert:hover {\n",
              "      background-color: #E2EBFA;\n",
              "      box-shadow: 0px 1px 2px rgba(60, 64, 67, 0.3), 0px 1px 3px 1px rgba(60, 64, 67, 0.15);\n",
              "      fill: #174EA6;\n",
              "    }\n",
              "\n",
              "    [theme=dark] .colab-df-convert {\n",
              "      background-color: #3B4455;\n",
              "      fill: #D2E3FC;\n",
              "    }\n",
              "\n",
              "    [theme=dark] .colab-df-convert:hover {\n",
              "      background-color: #434B5C;\n",
              "      box-shadow: 0px 1px 3px 1px rgba(0, 0, 0, 0.15);\n",
              "      filter: drop-shadow(0px 1px 2px rgba(0, 0, 0, 0.3));\n",
              "      fill: #FFFFFF;\n",
              "    }\n",
              "  </style>\n",
              "\n",
              "      <script>\n",
              "        const buttonEl =\n",
              "          document.querySelector('#df-e18c4e14-ab39-4b7c-8473-4640a1e11699 button.colab-df-convert');\n",
              "        buttonEl.style.display =\n",
              "          google.colab.kernel.accessAllowed ? 'block' : 'none';\n",
              "\n",
              "        async function convertToInteractive(key) {\n",
              "          const element = document.querySelector('#df-e18c4e14-ab39-4b7c-8473-4640a1e11699');\n",
              "          const dataTable =\n",
              "            await google.colab.kernel.invokeFunction('convertToInteractive',\n",
              "                                                     [key], {});\n",
              "          if (!dataTable) return;\n",
              "\n",
              "          const docLinkHtml = 'Like what you see? Visit the ' +\n",
              "            '<a target=\"_blank\" href=https://colab.research.google.com/notebooks/data_table.ipynb>data table notebook</a>'\n",
              "            + ' to learn more about interactive tables.';\n",
              "          element.innerHTML = '';\n",
              "          dataTable['output_type'] = 'display_data';\n",
              "          await google.colab.output.renderOutput(dataTable, element);\n",
              "          const docLink = document.createElement('div');\n",
              "          docLink.innerHTML = docLinkHtml;\n",
              "          element.appendChild(docLink);\n",
              "        }\n",
              "      </script>\n",
              "    </div>\n",
              "  </div>\n",
              "  "
            ]
          },
          "metadata": {},
          "execution_count": 183
        }
      ]
    },
    {
      "cell_type": "code",
      "source": [
        "ndrr.to_csv('new_result_rank_youtube.csv', index=False)"
      ],
      "metadata": {
        "id": "ibbcCKizBgyc"
      },
      "execution_count": null,
      "outputs": []
    },
    {
      "cell_type": "markdown",
      "source": [
        "\n",
        "\n",
        "---\n",
        "\n"
      ],
      "metadata": {
        "id": "nv0LlfllMLMm"
      }
    },
    {
      "cell_type": "code",
      "source": [],
      "metadata": {
        "id": "_XU2AyyurWfx"
      },
      "execution_count": null,
      "outputs": []
    },
    {
      "cell_type": "markdown",
      "source": [
        "# new_survey_satisfaction"
      ],
      "metadata": {
        "id": "bnmpRgwysLKQ"
      }
    },
    {
      "cell_type": "code",
      "source": [
        "# 빅쿼리에서 조인해서 생성한 CSV 파일\n",
        "ss = pd.read_csv('/content/survey_satisfaction.csv')\n",
        "\n",
        "# select sm.date, sm.category, sr.svc_idx, sr.answer_index, si.subject\n",
        "# from base.survey_result sr\n",
        "# join base.survey_item si on sr.svi_idx = si.svi_idx\n",
        "# join base.survey_main sm on si.sv_idx = sm.sv_idx\n",
        "# where si.item_text = '매우 만족 #만족 #보통 #불만족 #매우 불만족'\n",
        "# and sm.category != '최초(재유입)방문자'\n",
        "# and sm.date != '2022-04-27';"
      ],
      "metadata": {
        "id": "YadI_hSzFwfq"
      },
      "execution_count": null,
      "outputs": []
    },
    {
      "cell_type": "code",
      "source": [
        "ss.head()"
      ],
      "metadata": {
        "colab": {
          "base_uri": "https://localhost:8080/",
          "height": 206
        },
        "id": "gp4qlo2fnzY5",
        "outputId": "c7c51408-8413-470e-d9e0-2fca8219f6bc"
      },
      "execution_count": null,
      "outputs": [
        {
          "output_type": "execute_result",
          "data": {
            "text/plain": [
              "         date category  svc_idx  answer_index                    subject\n",
              "0  2022-08-13      일반석    38110             1  티켓 발권 및 예매에 대한 만족도 평가입니다.\n",
              "1  2022-08-13      일반석    38008             1  티켓 발권 및 예매에 대한 만족도 평가입니다.\n",
              "2  2022-08-13      일반석    37713             1  티켓 발권 및 예매에 대한 만족도 평가입니다.\n",
              "3  2022-08-13      일반석    38141             1  티켓 발권 및 예매에 대한 만족도 평가입니다.\n",
              "4  2022-08-13      일반석    38180             1  티켓 발권 및 예매에 대한 만족도 평가입니다."
            ],
            "text/html": [
              "\n",
              "  <div id=\"df-d631b9b6-6be4-4bd6-af7a-c9de956ad39d\">\n",
              "    <div class=\"colab-df-container\">\n",
              "      <div>\n",
              "<style scoped>\n",
              "    .dataframe tbody tr th:only-of-type {\n",
              "        vertical-align: middle;\n",
              "    }\n",
              "\n",
              "    .dataframe tbody tr th {\n",
              "        vertical-align: top;\n",
              "    }\n",
              "\n",
              "    .dataframe thead th {\n",
              "        text-align: right;\n",
              "    }\n",
              "</style>\n",
              "<table border=\"1\" class=\"dataframe\">\n",
              "  <thead>\n",
              "    <tr style=\"text-align: right;\">\n",
              "      <th></th>\n",
              "      <th>date</th>\n",
              "      <th>category</th>\n",
              "      <th>svc_idx</th>\n",
              "      <th>answer_index</th>\n",
              "      <th>subject</th>\n",
              "    </tr>\n",
              "  </thead>\n",
              "  <tbody>\n",
              "    <tr>\n",
              "      <th>0</th>\n",
              "      <td>2022-08-13</td>\n",
              "      <td>일반석</td>\n",
              "      <td>38110</td>\n",
              "      <td>1</td>\n",
              "      <td>티켓 발권 및 예매에 대한 만족도 평가입니다.</td>\n",
              "    </tr>\n",
              "    <tr>\n",
              "      <th>1</th>\n",
              "      <td>2022-08-13</td>\n",
              "      <td>일반석</td>\n",
              "      <td>38008</td>\n",
              "      <td>1</td>\n",
              "      <td>티켓 발권 및 예매에 대한 만족도 평가입니다.</td>\n",
              "    </tr>\n",
              "    <tr>\n",
              "      <th>2</th>\n",
              "      <td>2022-08-13</td>\n",
              "      <td>일반석</td>\n",
              "      <td>37713</td>\n",
              "      <td>1</td>\n",
              "      <td>티켓 발권 및 예매에 대한 만족도 평가입니다.</td>\n",
              "    </tr>\n",
              "    <tr>\n",
              "      <th>3</th>\n",
              "      <td>2022-08-13</td>\n",
              "      <td>일반석</td>\n",
              "      <td>38141</td>\n",
              "      <td>1</td>\n",
              "      <td>티켓 발권 및 예매에 대한 만족도 평가입니다.</td>\n",
              "    </tr>\n",
              "    <tr>\n",
              "      <th>4</th>\n",
              "      <td>2022-08-13</td>\n",
              "      <td>일반석</td>\n",
              "      <td>38180</td>\n",
              "      <td>1</td>\n",
              "      <td>티켓 발권 및 예매에 대한 만족도 평가입니다.</td>\n",
              "    </tr>\n",
              "  </tbody>\n",
              "</table>\n",
              "</div>\n",
              "      <button class=\"colab-df-convert\" onclick=\"convertToInteractive('df-d631b9b6-6be4-4bd6-af7a-c9de956ad39d')\"\n",
              "              title=\"Convert this dataframe to an interactive table.\"\n",
              "              style=\"display:none;\">\n",
              "        \n",
              "  <svg xmlns=\"http://www.w3.org/2000/svg\" height=\"24px\"viewBox=\"0 0 24 24\"\n",
              "       width=\"24px\">\n",
              "    <path d=\"M0 0h24v24H0V0z\" fill=\"none\"/>\n",
              "    <path d=\"M18.56 5.44l.94 2.06.94-2.06 2.06-.94-2.06-.94-.94-2.06-.94 2.06-2.06.94zm-11 1L8.5 8.5l.94-2.06 2.06-.94-2.06-.94L8.5 2.5l-.94 2.06-2.06.94zm10 10l.94 2.06.94-2.06 2.06-.94-2.06-.94-.94-2.06-.94 2.06-2.06.94z\"/><path d=\"M17.41 7.96l-1.37-1.37c-.4-.4-.92-.59-1.43-.59-.52 0-1.04.2-1.43.59L10.3 9.45l-7.72 7.72c-.78.78-.78 2.05 0 2.83L4 21.41c.39.39.9.59 1.41.59.51 0 1.02-.2 1.41-.59l7.78-7.78 2.81-2.81c.8-.78.8-2.07 0-2.86zM5.41 20L4 18.59l7.72-7.72 1.47 1.35L5.41 20z\"/>\n",
              "  </svg>\n",
              "      </button>\n",
              "      \n",
              "  <style>\n",
              "    .colab-df-container {\n",
              "      display:flex;\n",
              "      flex-wrap:wrap;\n",
              "      gap: 12px;\n",
              "    }\n",
              "\n",
              "    .colab-df-convert {\n",
              "      background-color: #E8F0FE;\n",
              "      border: none;\n",
              "      border-radius: 50%;\n",
              "      cursor: pointer;\n",
              "      display: none;\n",
              "      fill: #1967D2;\n",
              "      height: 32px;\n",
              "      padding: 0 0 0 0;\n",
              "      width: 32px;\n",
              "    }\n",
              "\n",
              "    .colab-df-convert:hover {\n",
              "      background-color: #E2EBFA;\n",
              "      box-shadow: 0px 1px 2px rgba(60, 64, 67, 0.3), 0px 1px 3px 1px rgba(60, 64, 67, 0.15);\n",
              "      fill: #174EA6;\n",
              "    }\n",
              "\n",
              "    [theme=dark] .colab-df-convert {\n",
              "      background-color: #3B4455;\n",
              "      fill: #D2E3FC;\n",
              "    }\n",
              "\n",
              "    [theme=dark] .colab-df-convert:hover {\n",
              "      background-color: #434B5C;\n",
              "      box-shadow: 0px 1px 3px 1px rgba(0, 0, 0, 0.15);\n",
              "      filter: drop-shadow(0px 1px 2px rgba(0, 0, 0, 0.3));\n",
              "      fill: #FFFFFF;\n",
              "    }\n",
              "  </style>\n",
              "\n",
              "      <script>\n",
              "        const buttonEl =\n",
              "          document.querySelector('#df-d631b9b6-6be4-4bd6-af7a-c9de956ad39d button.colab-df-convert');\n",
              "        buttonEl.style.display =\n",
              "          google.colab.kernel.accessAllowed ? 'block' : 'none';\n",
              "\n",
              "        async function convertToInteractive(key) {\n",
              "          const element = document.querySelector('#df-d631b9b6-6be4-4bd6-af7a-c9de956ad39d');\n",
              "          const dataTable =\n",
              "            await google.colab.kernel.invokeFunction('convertToInteractive',\n",
              "                                                     [key], {});\n",
              "          if (!dataTable) return;\n",
              "\n",
              "          const docLinkHtml = 'Like what you see? Visit the ' +\n",
              "            '<a target=\"_blank\" href=https://colab.research.google.com/notebooks/data_table.ipynb>data table notebook</a>'\n",
              "            + ' to learn more about interactive tables.';\n",
              "          element.innerHTML = '';\n",
              "          dataTable['output_type'] = 'display_data';\n",
              "          await google.colab.output.renderOutput(dataTable, element);\n",
              "          const docLink = document.createElement('div');\n",
              "          docLink.innerHTML = docLinkHtml;\n",
              "          element.appendChild(docLink);\n",
              "        }\n",
              "      </script>\n",
              "    </div>\n",
              "  </div>\n",
              "  "
            ]
          },
          "metadata": {},
          "execution_count": 92
        }
      ]
    },
    {
      "cell_type": "markdown",
      "source": [
        "## subject 항목 통일"
      ],
      "metadata": {
        "id": "IBuezmv7o7F_"
      }
    },
    {
      "cell_type": "code",
      "source": [
        "ss['subject'].unique()"
      ],
      "metadata": {
        "colab": {
          "base_uri": "https://localhost:8080/"
        },
        "id": "qRdd82ItnoJi",
        "outputId": "b24c7f21-4010-49e5-f1d5-4c17528ee5d7"
      },
      "execution_count": null,
      "outputs": [
        {
          "output_type": "execute_result",
          "data": {
            "text/plain": [
              "array(['티켓 발권 및 예매에 대한 만족도 평가입니다.', '금일 경기장 입장 게이트 운영에 대한 만족도 평가입니다.',\n",
              "       '금일 이용하신 좌석에 대한 만족도를 평가해주십시오.', '금일 이용하신 특성화 좌석에 대한 만족도를 평가해주십시오.'],\n",
              "      dtype=object)"
            ]
          },
          "metadata": {},
          "execution_count": 93
        }
      ]
    },
    {
      "cell_type": "code",
      "source": [
        "ss.loc[ss[ss['subject'] == '금일 이용하신 특성화 좌석에 대한 만족도를 평가해주십시오.'].index, 'subject'] = '금일 이용하신 좌석에 대한 만족도를 평가해주십시오.'"
      ],
      "metadata": {
        "id": "a0eQy41FRQVw"
      },
      "execution_count": null,
      "outputs": []
    },
    {
      "cell_type": "markdown",
      "source": [
        "## answer_index를 점수로 변환하기"
      ],
      "metadata": {
        "id": "DTsggdhWrXhR"
      }
    },
    {
      "cell_type": "code",
      "source": [
        "# 5점 매우 만족, 4점 만족, 3점 보통, 2점 불만족, 1점 매우 불만족\n",
        "ss['answer_index'] = ss['answer_index'].apply(lambda x: abs(x-5))"
      ],
      "metadata": {
        "id": "T-o7JUi0rp1d"
      },
      "execution_count": null,
      "outputs": []
    },
    {
      "cell_type": "markdown",
      "source": [
        "## 만족도 평가별로 나누고 컬럼화"
      ],
      "metadata": {
        "id": "OfSh-2Vvq3_Z"
      }
    },
    {
      "cell_type": "code",
      "source": [
        "ss.head()"
      ],
      "metadata": {
        "colab": {
          "base_uri": "https://localhost:8080/",
          "height": 206
        },
        "id": "1Zjq_k_Oq3Jr",
        "outputId": "09580a8c-1b5c-4437-bfe8-77969880b9d4"
      },
      "execution_count": null,
      "outputs": [
        {
          "output_type": "execute_result",
          "data": {
            "text/plain": [
              "         date category  svc_idx  answer_index                    subject\n",
              "0  2022-08-13      일반석    38110             4  티켓 발권 및 예매에 대한 만족도 평가입니다.\n",
              "1  2022-08-13      일반석    38008             4  티켓 발권 및 예매에 대한 만족도 평가입니다.\n",
              "2  2022-08-13      일반석    37713             4  티켓 발권 및 예매에 대한 만족도 평가입니다.\n",
              "3  2022-08-13      일반석    38141             4  티켓 발권 및 예매에 대한 만족도 평가입니다.\n",
              "4  2022-08-13      일반석    38180             4  티켓 발권 및 예매에 대한 만족도 평가입니다."
            ],
            "text/html": [
              "\n",
              "  <div id=\"df-1958a924-ca3f-4757-8f44-b0a0c874618b\">\n",
              "    <div class=\"colab-df-container\">\n",
              "      <div>\n",
              "<style scoped>\n",
              "    .dataframe tbody tr th:only-of-type {\n",
              "        vertical-align: middle;\n",
              "    }\n",
              "\n",
              "    .dataframe tbody tr th {\n",
              "        vertical-align: top;\n",
              "    }\n",
              "\n",
              "    .dataframe thead th {\n",
              "        text-align: right;\n",
              "    }\n",
              "</style>\n",
              "<table border=\"1\" class=\"dataframe\">\n",
              "  <thead>\n",
              "    <tr style=\"text-align: right;\">\n",
              "      <th></th>\n",
              "      <th>date</th>\n",
              "      <th>category</th>\n",
              "      <th>svc_idx</th>\n",
              "      <th>answer_index</th>\n",
              "      <th>subject</th>\n",
              "    </tr>\n",
              "  </thead>\n",
              "  <tbody>\n",
              "    <tr>\n",
              "      <th>0</th>\n",
              "      <td>2022-08-13</td>\n",
              "      <td>일반석</td>\n",
              "      <td>38110</td>\n",
              "      <td>4</td>\n",
              "      <td>티켓 발권 및 예매에 대한 만족도 평가입니다.</td>\n",
              "    </tr>\n",
              "    <tr>\n",
              "      <th>1</th>\n",
              "      <td>2022-08-13</td>\n",
              "      <td>일반석</td>\n",
              "      <td>38008</td>\n",
              "      <td>4</td>\n",
              "      <td>티켓 발권 및 예매에 대한 만족도 평가입니다.</td>\n",
              "    </tr>\n",
              "    <tr>\n",
              "      <th>2</th>\n",
              "      <td>2022-08-13</td>\n",
              "      <td>일반석</td>\n",
              "      <td>37713</td>\n",
              "      <td>4</td>\n",
              "      <td>티켓 발권 및 예매에 대한 만족도 평가입니다.</td>\n",
              "    </tr>\n",
              "    <tr>\n",
              "      <th>3</th>\n",
              "      <td>2022-08-13</td>\n",
              "      <td>일반석</td>\n",
              "      <td>38141</td>\n",
              "      <td>4</td>\n",
              "      <td>티켓 발권 및 예매에 대한 만족도 평가입니다.</td>\n",
              "    </tr>\n",
              "    <tr>\n",
              "      <th>4</th>\n",
              "      <td>2022-08-13</td>\n",
              "      <td>일반석</td>\n",
              "      <td>38180</td>\n",
              "      <td>4</td>\n",
              "      <td>티켓 발권 및 예매에 대한 만족도 평가입니다.</td>\n",
              "    </tr>\n",
              "  </tbody>\n",
              "</table>\n",
              "</div>\n",
              "      <button class=\"colab-df-convert\" onclick=\"convertToInteractive('df-1958a924-ca3f-4757-8f44-b0a0c874618b')\"\n",
              "              title=\"Convert this dataframe to an interactive table.\"\n",
              "              style=\"display:none;\">\n",
              "        \n",
              "  <svg xmlns=\"http://www.w3.org/2000/svg\" height=\"24px\"viewBox=\"0 0 24 24\"\n",
              "       width=\"24px\">\n",
              "    <path d=\"M0 0h24v24H0V0z\" fill=\"none\"/>\n",
              "    <path d=\"M18.56 5.44l.94 2.06.94-2.06 2.06-.94-2.06-.94-.94-2.06-.94 2.06-2.06.94zm-11 1L8.5 8.5l.94-2.06 2.06-.94-2.06-.94L8.5 2.5l-.94 2.06-2.06.94zm10 10l.94 2.06.94-2.06 2.06-.94-2.06-.94-.94-2.06-.94 2.06-2.06.94z\"/><path d=\"M17.41 7.96l-1.37-1.37c-.4-.4-.92-.59-1.43-.59-.52 0-1.04.2-1.43.59L10.3 9.45l-7.72 7.72c-.78.78-.78 2.05 0 2.83L4 21.41c.39.39.9.59 1.41.59.51 0 1.02-.2 1.41-.59l7.78-7.78 2.81-2.81c.8-.78.8-2.07 0-2.86zM5.41 20L4 18.59l7.72-7.72 1.47 1.35L5.41 20z\"/>\n",
              "  </svg>\n",
              "      </button>\n",
              "      \n",
              "  <style>\n",
              "    .colab-df-container {\n",
              "      display:flex;\n",
              "      flex-wrap:wrap;\n",
              "      gap: 12px;\n",
              "    }\n",
              "\n",
              "    .colab-df-convert {\n",
              "      background-color: #E8F0FE;\n",
              "      border: none;\n",
              "      border-radius: 50%;\n",
              "      cursor: pointer;\n",
              "      display: none;\n",
              "      fill: #1967D2;\n",
              "      height: 32px;\n",
              "      padding: 0 0 0 0;\n",
              "      width: 32px;\n",
              "    }\n",
              "\n",
              "    .colab-df-convert:hover {\n",
              "      background-color: #E2EBFA;\n",
              "      box-shadow: 0px 1px 2px rgba(60, 64, 67, 0.3), 0px 1px 3px 1px rgba(60, 64, 67, 0.15);\n",
              "      fill: #174EA6;\n",
              "    }\n",
              "\n",
              "    [theme=dark] .colab-df-convert {\n",
              "      background-color: #3B4455;\n",
              "      fill: #D2E3FC;\n",
              "    }\n",
              "\n",
              "    [theme=dark] .colab-df-convert:hover {\n",
              "      background-color: #434B5C;\n",
              "      box-shadow: 0px 1px 3px 1px rgba(0, 0, 0, 0.15);\n",
              "      filter: drop-shadow(0px 1px 2px rgba(0, 0, 0, 0.3));\n",
              "      fill: #FFFFFF;\n",
              "    }\n",
              "  </style>\n",
              "\n",
              "      <script>\n",
              "        const buttonEl =\n",
              "          document.querySelector('#df-1958a924-ca3f-4757-8f44-b0a0c874618b button.colab-df-convert');\n",
              "        buttonEl.style.display =\n",
              "          google.colab.kernel.accessAllowed ? 'block' : 'none';\n",
              "\n",
              "        async function convertToInteractive(key) {\n",
              "          const element = document.querySelector('#df-1958a924-ca3f-4757-8f44-b0a0c874618b');\n",
              "          const dataTable =\n",
              "            await google.colab.kernel.invokeFunction('convertToInteractive',\n",
              "                                                     [key], {});\n",
              "          if (!dataTable) return;\n",
              "\n",
              "          const docLinkHtml = 'Like what you see? Visit the ' +\n",
              "            '<a target=\"_blank\" href=https://colab.research.google.com/notebooks/data_table.ipynb>data table notebook</a>'\n",
              "            + ' to learn more about interactive tables.';\n",
              "          element.innerHTML = '';\n",
              "          dataTable['output_type'] = 'display_data';\n",
              "          await google.colab.output.renderOutput(dataTable, element);\n",
              "          const docLink = document.createElement('div');\n",
              "          docLink.innerHTML = docLinkHtml;\n",
              "          element.appendChild(docLink);\n",
              "        }\n",
              "      </script>\n",
              "    </div>\n",
              "  </div>\n",
              "  "
            ]
          },
          "metadata": {},
          "execution_count": 96
        }
      ]
    },
    {
      "cell_type": "code",
      "source": [
        "ticket = ss[ss['subject'] == '티켓 발권 및 예매에 대한 만족도 평가입니다.']\n",
        "gate = ss[ss['subject'] == '금일 경기장 입장 게이트 운영에 대한 만족도 평가입니다.']\n",
        "seat = ss[ss['subject'] == '금일 이용하신 좌석에 대한 만족도를 평가해주십시오.']"
      ],
      "metadata": {
        "id": "QIvcboEc9zV6"
      },
      "execution_count": null,
      "outputs": []
    },
    {
      "cell_type": "code",
      "source": [
        "ticket = ticket.rename(columns={'answer_index':'ticket_satisfaction'})\n",
        "gate = gate.rename(columns={'answer_index':'gate_satisfaction'})\n",
        "seat = seat.rename(columns={'answer_index':'seat_satisfaction'})"
      ],
      "metadata": {
        "id": "h02vu1ke-TYJ"
      },
      "execution_count": null,
      "outputs": []
    },
    {
      "cell_type": "code",
      "source": [
        "ticket = ticket.drop(['subject'], axis=1).sort_values(['date','svc_idx']).reset_index(drop=True)\n",
        "gate = gate.drop(['subject'], axis=1).sort_values(['date','svc_idx']).reset_index(drop=True)\n",
        "seat = seat.drop(['subject'], axis=1).sort_values(['date','svc_idx']).reset_index(drop=True)"
      ],
      "metadata": {
        "id": "Zj35GvOx-pWS"
      },
      "execution_count": null,
      "outputs": []
    },
    {
      "cell_type": "code",
      "source": [
        "ticket.head(1)"
      ],
      "metadata": {
        "colab": {
          "base_uri": "https://localhost:8080/",
          "height": 80
        },
        "id": "hfUYTjDkq_-t",
        "outputId": "eba5898b-2db3-42e8-9e2a-8a5eccf8eaf4"
      },
      "execution_count": null,
      "outputs": [
        {
          "output_type": "execute_result",
          "data": {
            "text/plain": [
              "         date category  svc_idx  ticket_satisfaction\n",
              "0  2022-02-19      일반석    18734                    5"
            ],
            "text/html": [
              "\n",
              "  <div id=\"df-ebc2f11c-2408-4b84-925f-6ea16c0fa126\">\n",
              "    <div class=\"colab-df-container\">\n",
              "      <div>\n",
              "<style scoped>\n",
              "    .dataframe tbody tr th:only-of-type {\n",
              "        vertical-align: middle;\n",
              "    }\n",
              "\n",
              "    .dataframe tbody tr th {\n",
              "        vertical-align: top;\n",
              "    }\n",
              "\n",
              "    .dataframe thead th {\n",
              "        text-align: right;\n",
              "    }\n",
              "</style>\n",
              "<table border=\"1\" class=\"dataframe\">\n",
              "  <thead>\n",
              "    <tr style=\"text-align: right;\">\n",
              "      <th></th>\n",
              "      <th>date</th>\n",
              "      <th>category</th>\n",
              "      <th>svc_idx</th>\n",
              "      <th>ticket_satisfaction</th>\n",
              "    </tr>\n",
              "  </thead>\n",
              "  <tbody>\n",
              "    <tr>\n",
              "      <th>0</th>\n",
              "      <td>2022-02-19</td>\n",
              "      <td>일반석</td>\n",
              "      <td>18734</td>\n",
              "      <td>5</td>\n",
              "    </tr>\n",
              "  </tbody>\n",
              "</table>\n",
              "</div>\n",
              "      <button class=\"colab-df-convert\" onclick=\"convertToInteractive('df-ebc2f11c-2408-4b84-925f-6ea16c0fa126')\"\n",
              "              title=\"Convert this dataframe to an interactive table.\"\n",
              "              style=\"display:none;\">\n",
              "        \n",
              "  <svg xmlns=\"http://www.w3.org/2000/svg\" height=\"24px\"viewBox=\"0 0 24 24\"\n",
              "       width=\"24px\">\n",
              "    <path d=\"M0 0h24v24H0V0z\" fill=\"none\"/>\n",
              "    <path d=\"M18.56 5.44l.94 2.06.94-2.06 2.06-.94-2.06-.94-.94-2.06-.94 2.06-2.06.94zm-11 1L8.5 8.5l.94-2.06 2.06-.94-2.06-.94L8.5 2.5l-.94 2.06-2.06.94zm10 10l.94 2.06.94-2.06 2.06-.94-2.06-.94-.94-2.06-.94 2.06-2.06.94z\"/><path d=\"M17.41 7.96l-1.37-1.37c-.4-.4-.92-.59-1.43-.59-.52 0-1.04.2-1.43.59L10.3 9.45l-7.72 7.72c-.78.78-.78 2.05 0 2.83L4 21.41c.39.39.9.59 1.41.59.51 0 1.02-.2 1.41-.59l7.78-7.78 2.81-2.81c.8-.78.8-2.07 0-2.86zM5.41 20L4 18.59l7.72-7.72 1.47 1.35L5.41 20z\"/>\n",
              "  </svg>\n",
              "      </button>\n",
              "      \n",
              "  <style>\n",
              "    .colab-df-container {\n",
              "      display:flex;\n",
              "      flex-wrap:wrap;\n",
              "      gap: 12px;\n",
              "    }\n",
              "\n",
              "    .colab-df-convert {\n",
              "      background-color: #E8F0FE;\n",
              "      border: none;\n",
              "      border-radius: 50%;\n",
              "      cursor: pointer;\n",
              "      display: none;\n",
              "      fill: #1967D2;\n",
              "      height: 32px;\n",
              "      padding: 0 0 0 0;\n",
              "      width: 32px;\n",
              "    }\n",
              "\n",
              "    .colab-df-convert:hover {\n",
              "      background-color: #E2EBFA;\n",
              "      box-shadow: 0px 1px 2px rgba(60, 64, 67, 0.3), 0px 1px 3px 1px rgba(60, 64, 67, 0.15);\n",
              "      fill: #174EA6;\n",
              "    }\n",
              "\n",
              "    [theme=dark] .colab-df-convert {\n",
              "      background-color: #3B4455;\n",
              "      fill: #D2E3FC;\n",
              "    }\n",
              "\n",
              "    [theme=dark] .colab-df-convert:hover {\n",
              "      background-color: #434B5C;\n",
              "      box-shadow: 0px 1px 3px 1px rgba(0, 0, 0, 0.15);\n",
              "      filter: drop-shadow(0px 1px 2px rgba(0, 0, 0, 0.3));\n",
              "      fill: #FFFFFF;\n",
              "    }\n",
              "  </style>\n",
              "\n",
              "      <script>\n",
              "        const buttonEl =\n",
              "          document.querySelector('#df-ebc2f11c-2408-4b84-925f-6ea16c0fa126 button.colab-df-convert');\n",
              "        buttonEl.style.display =\n",
              "          google.colab.kernel.accessAllowed ? 'block' : 'none';\n",
              "\n",
              "        async function convertToInteractive(key) {\n",
              "          const element = document.querySelector('#df-ebc2f11c-2408-4b84-925f-6ea16c0fa126');\n",
              "          const dataTable =\n",
              "            await google.colab.kernel.invokeFunction('convertToInteractive',\n",
              "                                                     [key], {});\n",
              "          if (!dataTable) return;\n",
              "\n",
              "          const docLinkHtml = 'Like what you see? Visit the ' +\n",
              "            '<a target=\"_blank\" href=https://colab.research.google.com/notebooks/data_table.ipynb>data table notebook</a>'\n",
              "            + ' to learn more about interactive tables.';\n",
              "          element.innerHTML = '';\n",
              "          dataTable['output_type'] = 'display_data';\n",
              "          await google.colab.output.renderOutput(dataTable, element);\n",
              "          const docLink = document.createElement('div');\n",
              "          docLink.innerHTML = docLinkHtml;\n",
              "          element.appendChild(docLink);\n",
              "        }\n",
              "      </script>\n",
              "    </div>\n",
              "  </div>\n",
              "  "
            ]
          },
          "metadata": {},
          "execution_count": 100
        }
      ]
    },
    {
      "cell_type": "code",
      "source": [
        "gate.head(1)"
      ],
      "metadata": {
        "colab": {
          "base_uri": "https://localhost:8080/",
          "height": 80
        },
        "id": "eGMPPG11rIXj",
        "outputId": "12884653-a4b2-4e4c-f223-46931332e7b3"
      },
      "execution_count": null,
      "outputs": [
        {
          "output_type": "execute_result",
          "data": {
            "text/plain": [
              "         date category  svc_idx  gate_satisfaction\n",
              "0  2022-02-19      일반석    18734                  5"
            ],
            "text/html": [
              "\n",
              "  <div id=\"df-003491f8-e185-427c-a672-17ab7e023e6c\">\n",
              "    <div class=\"colab-df-container\">\n",
              "      <div>\n",
              "<style scoped>\n",
              "    .dataframe tbody tr th:only-of-type {\n",
              "        vertical-align: middle;\n",
              "    }\n",
              "\n",
              "    .dataframe tbody tr th {\n",
              "        vertical-align: top;\n",
              "    }\n",
              "\n",
              "    .dataframe thead th {\n",
              "        text-align: right;\n",
              "    }\n",
              "</style>\n",
              "<table border=\"1\" class=\"dataframe\">\n",
              "  <thead>\n",
              "    <tr style=\"text-align: right;\">\n",
              "      <th></th>\n",
              "      <th>date</th>\n",
              "      <th>category</th>\n",
              "      <th>svc_idx</th>\n",
              "      <th>gate_satisfaction</th>\n",
              "    </tr>\n",
              "  </thead>\n",
              "  <tbody>\n",
              "    <tr>\n",
              "      <th>0</th>\n",
              "      <td>2022-02-19</td>\n",
              "      <td>일반석</td>\n",
              "      <td>18734</td>\n",
              "      <td>5</td>\n",
              "    </tr>\n",
              "  </tbody>\n",
              "</table>\n",
              "</div>\n",
              "      <button class=\"colab-df-convert\" onclick=\"convertToInteractive('df-003491f8-e185-427c-a672-17ab7e023e6c')\"\n",
              "              title=\"Convert this dataframe to an interactive table.\"\n",
              "              style=\"display:none;\">\n",
              "        \n",
              "  <svg xmlns=\"http://www.w3.org/2000/svg\" height=\"24px\"viewBox=\"0 0 24 24\"\n",
              "       width=\"24px\">\n",
              "    <path d=\"M0 0h24v24H0V0z\" fill=\"none\"/>\n",
              "    <path d=\"M18.56 5.44l.94 2.06.94-2.06 2.06-.94-2.06-.94-.94-2.06-.94 2.06-2.06.94zm-11 1L8.5 8.5l.94-2.06 2.06-.94-2.06-.94L8.5 2.5l-.94 2.06-2.06.94zm10 10l.94 2.06.94-2.06 2.06-.94-2.06-.94-.94-2.06-.94 2.06-2.06.94z\"/><path d=\"M17.41 7.96l-1.37-1.37c-.4-.4-.92-.59-1.43-.59-.52 0-1.04.2-1.43.59L10.3 9.45l-7.72 7.72c-.78.78-.78 2.05 0 2.83L4 21.41c.39.39.9.59 1.41.59.51 0 1.02-.2 1.41-.59l7.78-7.78 2.81-2.81c.8-.78.8-2.07 0-2.86zM5.41 20L4 18.59l7.72-7.72 1.47 1.35L5.41 20z\"/>\n",
              "  </svg>\n",
              "      </button>\n",
              "      \n",
              "  <style>\n",
              "    .colab-df-container {\n",
              "      display:flex;\n",
              "      flex-wrap:wrap;\n",
              "      gap: 12px;\n",
              "    }\n",
              "\n",
              "    .colab-df-convert {\n",
              "      background-color: #E8F0FE;\n",
              "      border: none;\n",
              "      border-radius: 50%;\n",
              "      cursor: pointer;\n",
              "      display: none;\n",
              "      fill: #1967D2;\n",
              "      height: 32px;\n",
              "      padding: 0 0 0 0;\n",
              "      width: 32px;\n",
              "    }\n",
              "\n",
              "    .colab-df-convert:hover {\n",
              "      background-color: #E2EBFA;\n",
              "      box-shadow: 0px 1px 2px rgba(60, 64, 67, 0.3), 0px 1px 3px 1px rgba(60, 64, 67, 0.15);\n",
              "      fill: #174EA6;\n",
              "    }\n",
              "\n",
              "    [theme=dark] .colab-df-convert {\n",
              "      background-color: #3B4455;\n",
              "      fill: #D2E3FC;\n",
              "    }\n",
              "\n",
              "    [theme=dark] .colab-df-convert:hover {\n",
              "      background-color: #434B5C;\n",
              "      box-shadow: 0px 1px 3px 1px rgba(0, 0, 0, 0.15);\n",
              "      filter: drop-shadow(0px 1px 2px rgba(0, 0, 0, 0.3));\n",
              "      fill: #FFFFFF;\n",
              "    }\n",
              "  </style>\n",
              "\n",
              "      <script>\n",
              "        const buttonEl =\n",
              "          document.querySelector('#df-003491f8-e185-427c-a672-17ab7e023e6c button.colab-df-convert');\n",
              "        buttonEl.style.display =\n",
              "          google.colab.kernel.accessAllowed ? 'block' : 'none';\n",
              "\n",
              "        async function convertToInteractive(key) {\n",
              "          const element = document.querySelector('#df-003491f8-e185-427c-a672-17ab7e023e6c');\n",
              "          const dataTable =\n",
              "            await google.colab.kernel.invokeFunction('convertToInteractive',\n",
              "                                                     [key], {});\n",
              "          if (!dataTable) return;\n",
              "\n",
              "          const docLinkHtml = 'Like what you see? Visit the ' +\n",
              "            '<a target=\"_blank\" href=https://colab.research.google.com/notebooks/data_table.ipynb>data table notebook</a>'\n",
              "            + ' to learn more about interactive tables.';\n",
              "          element.innerHTML = '';\n",
              "          dataTable['output_type'] = 'display_data';\n",
              "          await google.colab.output.renderOutput(dataTable, element);\n",
              "          const docLink = document.createElement('div');\n",
              "          docLink.innerHTML = docLinkHtml;\n",
              "          element.appendChild(docLink);\n",
              "        }\n",
              "      </script>\n",
              "    </div>\n",
              "  </div>\n",
              "  "
            ]
          },
          "metadata": {},
          "execution_count": 101
        }
      ]
    },
    {
      "cell_type": "code",
      "source": [
        "seat.head(1)"
      ],
      "metadata": {
        "colab": {
          "base_uri": "https://localhost:8080/",
          "height": 80
        },
        "id": "VW8Rcu2jrJ8k",
        "outputId": "6aff805f-8812-418f-e64f-2053968e311a"
      },
      "execution_count": null,
      "outputs": [
        {
          "output_type": "execute_result",
          "data": {
            "text/plain": [
              "         date category  svc_idx  seat_satisfaction\n",
              "0  2022-02-19      일반석    18734                  5"
            ],
            "text/html": [
              "\n",
              "  <div id=\"df-9678104e-1e8c-4ac0-812b-d19e69fec833\">\n",
              "    <div class=\"colab-df-container\">\n",
              "      <div>\n",
              "<style scoped>\n",
              "    .dataframe tbody tr th:only-of-type {\n",
              "        vertical-align: middle;\n",
              "    }\n",
              "\n",
              "    .dataframe tbody tr th {\n",
              "        vertical-align: top;\n",
              "    }\n",
              "\n",
              "    .dataframe thead th {\n",
              "        text-align: right;\n",
              "    }\n",
              "</style>\n",
              "<table border=\"1\" class=\"dataframe\">\n",
              "  <thead>\n",
              "    <tr style=\"text-align: right;\">\n",
              "      <th></th>\n",
              "      <th>date</th>\n",
              "      <th>category</th>\n",
              "      <th>svc_idx</th>\n",
              "      <th>seat_satisfaction</th>\n",
              "    </tr>\n",
              "  </thead>\n",
              "  <tbody>\n",
              "    <tr>\n",
              "      <th>0</th>\n",
              "      <td>2022-02-19</td>\n",
              "      <td>일반석</td>\n",
              "      <td>18734</td>\n",
              "      <td>5</td>\n",
              "    </tr>\n",
              "  </tbody>\n",
              "</table>\n",
              "</div>\n",
              "      <button class=\"colab-df-convert\" onclick=\"convertToInteractive('df-9678104e-1e8c-4ac0-812b-d19e69fec833')\"\n",
              "              title=\"Convert this dataframe to an interactive table.\"\n",
              "              style=\"display:none;\">\n",
              "        \n",
              "  <svg xmlns=\"http://www.w3.org/2000/svg\" height=\"24px\"viewBox=\"0 0 24 24\"\n",
              "       width=\"24px\">\n",
              "    <path d=\"M0 0h24v24H0V0z\" fill=\"none\"/>\n",
              "    <path d=\"M18.56 5.44l.94 2.06.94-2.06 2.06-.94-2.06-.94-.94-2.06-.94 2.06-2.06.94zm-11 1L8.5 8.5l.94-2.06 2.06-.94-2.06-.94L8.5 2.5l-.94 2.06-2.06.94zm10 10l.94 2.06.94-2.06 2.06-.94-2.06-.94-.94-2.06-.94 2.06-2.06.94z\"/><path d=\"M17.41 7.96l-1.37-1.37c-.4-.4-.92-.59-1.43-.59-.52 0-1.04.2-1.43.59L10.3 9.45l-7.72 7.72c-.78.78-.78 2.05 0 2.83L4 21.41c.39.39.9.59 1.41.59.51 0 1.02-.2 1.41-.59l7.78-7.78 2.81-2.81c.8-.78.8-2.07 0-2.86zM5.41 20L4 18.59l7.72-7.72 1.47 1.35L5.41 20z\"/>\n",
              "  </svg>\n",
              "      </button>\n",
              "      \n",
              "  <style>\n",
              "    .colab-df-container {\n",
              "      display:flex;\n",
              "      flex-wrap:wrap;\n",
              "      gap: 12px;\n",
              "    }\n",
              "\n",
              "    .colab-df-convert {\n",
              "      background-color: #E8F0FE;\n",
              "      border: none;\n",
              "      border-radius: 50%;\n",
              "      cursor: pointer;\n",
              "      display: none;\n",
              "      fill: #1967D2;\n",
              "      height: 32px;\n",
              "      padding: 0 0 0 0;\n",
              "      width: 32px;\n",
              "    }\n",
              "\n",
              "    .colab-df-convert:hover {\n",
              "      background-color: #E2EBFA;\n",
              "      box-shadow: 0px 1px 2px rgba(60, 64, 67, 0.3), 0px 1px 3px 1px rgba(60, 64, 67, 0.15);\n",
              "      fill: #174EA6;\n",
              "    }\n",
              "\n",
              "    [theme=dark] .colab-df-convert {\n",
              "      background-color: #3B4455;\n",
              "      fill: #D2E3FC;\n",
              "    }\n",
              "\n",
              "    [theme=dark] .colab-df-convert:hover {\n",
              "      background-color: #434B5C;\n",
              "      box-shadow: 0px 1px 3px 1px rgba(0, 0, 0, 0.15);\n",
              "      filter: drop-shadow(0px 1px 2px rgba(0, 0, 0, 0.3));\n",
              "      fill: #FFFFFF;\n",
              "    }\n",
              "  </style>\n",
              "\n",
              "      <script>\n",
              "        const buttonEl =\n",
              "          document.querySelector('#df-9678104e-1e8c-4ac0-812b-d19e69fec833 button.colab-df-convert');\n",
              "        buttonEl.style.display =\n",
              "          google.colab.kernel.accessAllowed ? 'block' : 'none';\n",
              "\n",
              "        async function convertToInteractive(key) {\n",
              "          const element = document.querySelector('#df-9678104e-1e8c-4ac0-812b-d19e69fec833');\n",
              "          const dataTable =\n",
              "            await google.colab.kernel.invokeFunction('convertToInteractive',\n",
              "                                                     [key], {});\n",
              "          if (!dataTable) return;\n",
              "\n",
              "          const docLinkHtml = 'Like what you see? Visit the ' +\n",
              "            '<a target=\"_blank\" href=https://colab.research.google.com/notebooks/data_table.ipynb>data table notebook</a>'\n",
              "            + ' to learn more about interactive tables.';\n",
              "          element.innerHTML = '';\n",
              "          dataTable['output_type'] = 'display_data';\n",
              "          await google.colab.output.renderOutput(dataTable, element);\n",
              "          const docLink = document.createElement('div');\n",
              "          docLink.innerHTML = docLinkHtml;\n",
              "          element.appendChild(docLink);\n",
              "        }\n",
              "      </script>\n",
              "    </div>\n",
              "  </div>\n",
              "  "
            ]
          },
          "metadata": {},
          "execution_count": 102
        }
      ]
    },
    {
      "cell_type": "code",
      "source": [
        "print(ticket.shape, gate.shape, seat.shape)"
      ],
      "metadata": {
        "colab": {
          "base_uri": "https://localhost:8080/"
        },
        "id": "cN0JoCQUs7CS",
        "outputId": "efb2411f-c9b2-4075-8010-56e3e3d059ec"
      },
      "execution_count": null,
      "outputs": [
        {
          "output_type": "stream",
          "name": "stdout",
          "text": [
            "(2840, 4) (2840, 4) (2840, 4)\n"
          ]
        }
      ]
    },
    {
      "cell_type": "code",
      "source": [
        "m1 = pd.merge(ticket, gate, on=['date', 'category', 'svc_idx'], how='inner')\n",
        "m2 = pd.merge(m1, seat, on=['date', 'category', 'svc_idx'], how='inner')"
      ],
      "metadata": {
        "id": "yRV34Xtt_DkP"
      },
      "execution_count": null,
      "outputs": []
    },
    {
      "cell_type": "code",
      "source": [
        "m3 = pd.merge(m2, s_c_2022, on='svc_idx', how='inner')"
      ],
      "metadata": {
        "id": "_8mR65TsTVB5"
      },
      "execution_count": null,
      "outputs": []
    },
    {
      "cell_type": "code",
      "source": [
        "m3['date'] = pd.to_datetime(m3['date'])"
      ],
      "metadata": {
        "id": "00kg9hnOR3Ol"
      },
      "execution_count": null,
      "outputs": []
    },
    {
      "cell_type": "code",
      "source": [
        "m3 = m3[['date', 'MB_IDX', 'ticket_satisfaction', 'gate_satisfaction', 'seat_satisfaction']]"
      ],
      "metadata": {
        "id": "f3IeRrUOTgJR"
      },
      "execution_count": null,
      "outputs": []
    },
    {
      "cell_type": "code",
      "source": [
        "m3.head()"
      ],
      "metadata": {
        "id": "Bk5w58ANt1yo",
        "outputId": "8653a5ae-de1f-46ec-a103-224ba6592796",
        "colab": {
          "base_uri": "https://localhost:8080/",
          "height": 206
        }
      },
      "execution_count": null,
      "outputs": [
        {
          "output_type": "execute_result",
          "data": {
            "text/plain": [
              "        date  MB_IDX  ticket_satisfaction  gate_satisfaction  \\\n",
              "0 2022-02-19  123341                    5                  5   \n",
              "1 2022-02-19   53171                    4                  5   \n",
              "2 2022-02-19  132358                    3                  5   \n",
              "3 2022-02-19     208                    3                  2   \n",
              "4 2022-02-19  114616                    4                  4   \n",
              "\n",
              "   seat_satisfaction  \n",
              "0                  5  \n",
              "1                  5  \n",
              "2                  5  \n",
              "3                  5  \n",
              "4                  4  "
            ],
            "text/html": [
              "\n",
              "  <div id=\"df-8c3b3ca8-0bee-4b80-bb47-710957ebab44\">\n",
              "    <div class=\"colab-df-container\">\n",
              "      <div>\n",
              "<style scoped>\n",
              "    .dataframe tbody tr th:only-of-type {\n",
              "        vertical-align: middle;\n",
              "    }\n",
              "\n",
              "    .dataframe tbody tr th {\n",
              "        vertical-align: top;\n",
              "    }\n",
              "\n",
              "    .dataframe thead th {\n",
              "        text-align: right;\n",
              "    }\n",
              "</style>\n",
              "<table border=\"1\" class=\"dataframe\">\n",
              "  <thead>\n",
              "    <tr style=\"text-align: right;\">\n",
              "      <th></th>\n",
              "      <th>date</th>\n",
              "      <th>MB_IDX</th>\n",
              "      <th>ticket_satisfaction</th>\n",
              "      <th>gate_satisfaction</th>\n",
              "      <th>seat_satisfaction</th>\n",
              "    </tr>\n",
              "  </thead>\n",
              "  <tbody>\n",
              "    <tr>\n",
              "      <th>0</th>\n",
              "      <td>2022-02-19</td>\n",
              "      <td>123341</td>\n",
              "      <td>5</td>\n",
              "      <td>5</td>\n",
              "      <td>5</td>\n",
              "    </tr>\n",
              "    <tr>\n",
              "      <th>1</th>\n",
              "      <td>2022-02-19</td>\n",
              "      <td>53171</td>\n",
              "      <td>4</td>\n",
              "      <td>5</td>\n",
              "      <td>5</td>\n",
              "    </tr>\n",
              "    <tr>\n",
              "      <th>2</th>\n",
              "      <td>2022-02-19</td>\n",
              "      <td>132358</td>\n",
              "      <td>3</td>\n",
              "      <td>5</td>\n",
              "      <td>5</td>\n",
              "    </tr>\n",
              "    <tr>\n",
              "      <th>3</th>\n",
              "      <td>2022-02-19</td>\n",
              "      <td>208</td>\n",
              "      <td>3</td>\n",
              "      <td>2</td>\n",
              "      <td>5</td>\n",
              "    </tr>\n",
              "    <tr>\n",
              "      <th>4</th>\n",
              "      <td>2022-02-19</td>\n",
              "      <td>114616</td>\n",
              "      <td>4</td>\n",
              "      <td>4</td>\n",
              "      <td>4</td>\n",
              "    </tr>\n",
              "  </tbody>\n",
              "</table>\n",
              "</div>\n",
              "      <button class=\"colab-df-convert\" onclick=\"convertToInteractive('df-8c3b3ca8-0bee-4b80-bb47-710957ebab44')\"\n",
              "              title=\"Convert this dataframe to an interactive table.\"\n",
              "              style=\"display:none;\">\n",
              "        \n",
              "  <svg xmlns=\"http://www.w3.org/2000/svg\" height=\"24px\"viewBox=\"0 0 24 24\"\n",
              "       width=\"24px\">\n",
              "    <path d=\"M0 0h24v24H0V0z\" fill=\"none\"/>\n",
              "    <path d=\"M18.56 5.44l.94 2.06.94-2.06 2.06-.94-2.06-.94-.94-2.06-.94 2.06-2.06.94zm-11 1L8.5 8.5l.94-2.06 2.06-.94-2.06-.94L8.5 2.5l-.94 2.06-2.06.94zm10 10l.94 2.06.94-2.06 2.06-.94-2.06-.94-.94-2.06-.94 2.06-2.06.94z\"/><path d=\"M17.41 7.96l-1.37-1.37c-.4-.4-.92-.59-1.43-.59-.52 0-1.04.2-1.43.59L10.3 9.45l-7.72 7.72c-.78.78-.78 2.05 0 2.83L4 21.41c.39.39.9.59 1.41.59.51 0 1.02-.2 1.41-.59l7.78-7.78 2.81-2.81c.8-.78.8-2.07 0-2.86zM5.41 20L4 18.59l7.72-7.72 1.47 1.35L5.41 20z\"/>\n",
              "  </svg>\n",
              "      </button>\n",
              "      \n",
              "  <style>\n",
              "    .colab-df-container {\n",
              "      display:flex;\n",
              "      flex-wrap:wrap;\n",
              "      gap: 12px;\n",
              "    }\n",
              "\n",
              "    .colab-df-convert {\n",
              "      background-color: #E8F0FE;\n",
              "      border: none;\n",
              "      border-radius: 50%;\n",
              "      cursor: pointer;\n",
              "      display: none;\n",
              "      fill: #1967D2;\n",
              "      height: 32px;\n",
              "      padding: 0 0 0 0;\n",
              "      width: 32px;\n",
              "    }\n",
              "\n",
              "    .colab-df-convert:hover {\n",
              "      background-color: #E2EBFA;\n",
              "      box-shadow: 0px 1px 2px rgba(60, 64, 67, 0.3), 0px 1px 3px 1px rgba(60, 64, 67, 0.15);\n",
              "      fill: #174EA6;\n",
              "    }\n",
              "\n",
              "    [theme=dark] .colab-df-convert {\n",
              "      background-color: #3B4455;\n",
              "      fill: #D2E3FC;\n",
              "    }\n",
              "\n",
              "    [theme=dark] .colab-df-convert:hover {\n",
              "      background-color: #434B5C;\n",
              "      box-shadow: 0px 1px 3px 1px rgba(0, 0, 0, 0.15);\n",
              "      filter: drop-shadow(0px 1px 2px rgba(0, 0, 0, 0.3));\n",
              "      fill: #FFFFFF;\n",
              "    }\n",
              "  </style>\n",
              "\n",
              "      <script>\n",
              "        const buttonEl =\n",
              "          document.querySelector('#df-8c3b3ca8-0bee-4b80-bb47-710957ebab44 button.colab-df-convert');\n",
              "        buttonEl.style.display =\n",
              "          google.colab.kernel.accessAllowed ? 'block' : 'none';\n",
              "\n",
              "        async function convertToInteractive(key) {\n",
              "          const element = document.querySelector('#df-8c3b3ca8-0bee-4b80-bb47-710957ebab44');\n",
              "          const dataTable =\n",
              "            await google.colab.kernel.invokeFunction('convertToInteractive',\n",
              "                                                     [key], {});\n",
              "          if (!dataTable) return;\n",
              "\n",
              "          const docLinkHtml = 'Like what you see? Visit the ' +\n",
              "            '<a target=\"_blank\" href=https://colab.research.google.com/notebooks/data_table.ipynb>data table notebook</a>'\n",
              "            + ' to learn more about interactive tables.';\n",
              "          element.innerHTML = '';\n",
              "          dataTable['output_type'] = 'display_data';\n",
              "          await google.colab.output.renderOutput(dataTable, element);\n",
              "          const docLink = document.createElement('div');\n",
              "          docLink.innerHTML = docLinkHtml;\n",
              "          element.appendChild(docLink);\n",
              "        }\n",
              "      </script>\n",
              "    </div>\n",
              "  </div>\n",
              "  "
            ]
          },
          "metadata": {},
          "execution_count": 121
        }
      ]
    },
    {
      "cell_type": "markdown",
      "source": [
        "# new_yn_reserve_satisfaction"
      ],
      "metadata": {
        "id": "xlbCjjtmekiw"
      }
    },
    {
      "cell_type": "code",
      "source": [
        "msc = m3.copy()"
      ],
      "metadata": {
        "id": "drt38RIHLsvI"
      },
      "execution_count": null,
      "outputs": []
    },
    {
      "cell_type": "code",
      "source": [
        "msc = msc[['MB_IDX','date']].sort_values(['date','MB_IDX']).reset_index(drop=True)\n",
        "msc = msc.rename(columns={'date':'before_date'})"
      ],
      "metadata": {
        "id": "zwaXPDiPSOtc"
      },
      "execution_count": null,
      "outputs": []
    },
    {
      "cell_type": "code",
      "source": [
        "# 이번 경기 날짜 컬럼 추가 > 이번 경기도 예매를 했다고 생각\n",
        "for i in range(len(date_list)-1):\n",
        "    msc.loc[msc['before_date'] == date_list[i], 'date'] = date_list[i+1]"
      ],
      "metadata": {
        "id": "xrS_6KBZSxqp"
      },
      "execution_count": null,
      "outputs": []
    },
    {
      "cell_type": "code",
      "source": [
        "# 실제 예매 데이터와 조인 > 실제로 이번 경기를 예매했으면 정보가 정상 추가, 예매하지 않았으면 결측\n",
        "msc = pd.merge(msc, rt_n, on=['date','MB_IDX'], how='left')"
      ],
      "metadata": {
        "id": "6FWry6ZOUXvZ"
      },
      "execution_count": null,
      "outputs": []
    },
    {
      "cell_type": "code",
      "source": [
        "# 10-16 경기의 다음 경기는 없어서 date가 결측값인 데이터가 존재하므로 우선 드랍\n",
        "msc = msc.drop(msc[msc['date'].isna()].index)"
      ],
      "metadata": {
        "id": "9L20eP9GVP4K"
      },
      "execution_count": null,
      "outputs": []
    },
    {
      "cell_type": "code",
      "source": [
        "# date, MB_IDX 기준으로 중복 제거\n",
        "nms = msc.drop_duplicates(['date','MB_IDX']).reset_index(drop=True)"
      ],
      "metadata": {
        "id": "vD5b5qxNVmGR"
      },
      "execution_count": null,
      "outputs": []
    },
    {
      "cell_type": "code",
      "source": [
        "# 결측인 데이터는 타겟 0 (이번 경기 예매 X), 정상 데이터는 타겟 1 (이번 경기 예매 O)\n",
        "nms.loc[nms['ticket_no'].isna(), 'target'] = 0\n",
        "nms.loc[nms['target'] != 0, 'target'] = 1"
      ],
      "metadata": {
        "id": "f7i2WIseWbkl"
      },
      "execution_count": null,
      "outputs": []
    },
    {
      "cell_type": "code",
      "source": [
        "nms.head()"
      ],
      "metadata": {
        "colab": {
          "base_uri": "https://localhost:8080/"
        },
        "id": "FpidDEX6OTT-",
        "outputId": "35ceae10-521b-41e7-cb64-58bb70b9c7d5"
      },
      "execution_count": null,
      "outputs": [
        {
          "output_type": "execute_result",
          "data": {
            "text/plain": [
              "   MB_IDX before_date        date     ticket_no    reserve_no      time  \\\n",
              "0     208  2022-02-19  2022-02-26           NaN           NaN       NaN   \n",
              "1     423  2022-02-19  2022-02-26  1.072145e+09  1.427499e+09  14:00:00   \n",
              "2     891  2022-02-19  2022-02-26  1.072114e+09  1.427468e+09  14:00:00   \n",
              "3     987  2022-02-19  2022-02-26           NaN           NaN       NaN   \n",
              "4    1353  2022-02-19  2022-02-26  1.072072e+09  1.427428e+09  14:00:00   \n",
              "\n",
              "  product_grade_name product_denomination_name seat_Attribute_4  \\\n",
              "0                NaN                       NaN              NaN   \n",
              "1            Expert석                        성인            E17구역   \n",
              "2          Exciting석                      예매권북             E7구역   \n",
              "3                NaN                       NaN              NaN   \n",
              "4       World class석                      예매권북             W5구역   \n",
              "\n",
              "   special_seat_yn  discount_yn discount_way  before_reserve_yn  first_yn  \\\n",
              "0              NaN          NaN          NaN                NaN       NaN   \n",
              "1              0.0          0.0           없음                1.0       0.0   \n",
              "2              0.0          1.0         예매권북                1.0       0.0   \n",
              "3              NaN          NaN          NaN                NaN       NaN   \n",
              "4              0.0          1.0         예매권북                1.0       0.0   \n",
              "\n",
              "   target  \n",
              "0     0.0  \n",
              "1     1.0  \n",
              "2     1.0  \n",
              "3     0.0  \n",
              "4     1.0  "
            ],
            "text/html": [
              "\n",
              "  <div id=\"df-a17eaea6-3ade-4710-a6f8-b93eca8e21e7\">\n",
              "    <div class=\"colab-df-container\">\n",
              "      <div>\n",
              "<style scoped>\n",
              "    .dataframe tbody tr th:only-of-type {\n",
              "        vertical-align: middle;\n",
              "    }\n",
              "\n",
              "    .dataframe tbody tr th {\n",
              "        vertical-align: top;\n",
              "    }\n",
              "\n",
              "    .dataframe thead th {\n",
              "        text-align: right;\n",
              "    }\n",
              "</style>\n",
              "<table border=\"1\" class=\"dataframe\">\n",
              "  <thead>\n",
              "    <tr style=\"text-align: right;\">\n",
              "      <th></th>\n",
              "      <th>MB_IDX</th>\n",
              "      <th>before_date</th>\n",
              "      <th>date</th>\n",
              "      <th>ticket_no</th>\n",
              "      <th>reserve_no</th>\n",
              "      <th>time</th>\n",
              "      <th>product_grade_name</th>\n",
              "      <th>product_denomination_name</th>\n",
              "      <th>seat_Attribute_4</th>\n",
              "      <th>special_seat_yn</th>\n",
              "      <th>discount_yn</th>\n",
              "      <th>discount_way</th>\n",
              "      <th>before_reserve_yn</th>\n",
              "      <th>first_yn</th>\n",
              "      <th>target</th>\n",
              "    </tr>\n",
              "  </thead>\n",
              "  <tbody>\n",
              "    <tr>\n",
              "      <th>0</th>\n",
              "      <td>208</td>\n",
              "      <td>2022-02-19</td>\n",
              "      <td>2022-02-26</td>\n",
              "      <td>NaN</td>\n",
              "      <td>NaN</td>\n",
              "      <td>NaN</td>\n",
              "      <td>NaN</td>\n",
              "      <td>NaN</td>\n",
              "      <td>NaN</td>\n",
              "      <td>NaN</td>\n",
              "      <td>NaN</td>\n",
              "      <td>NaN</td>\n",
              "      <td>NaN</td>\n",
              "      <td>NaN</td>\n",
              "      <td>0.0</td>\n",
              "    </tr>\n",
              "    <tr>\n",
              "      <th>1</th>\n",
              "      <td>423</td>\n",
              "      <td>2022-02-19</td>\n",
              "      <td>2022-02-26</td>\n",
              "      <td>1.072145e+09</td>\n",
              "      <td>1.427499e+09</td>\n",
              "      <td>14:00:00</td>\n",
              "      <td>Expert석</td>\n",
              "      <td>성인</td>\n",
              "      <td>E17구역</td>\n",
              "      <td>0.0</td>\n",
              "      <td>0.0</td>\n",
              "      <td>없음</td>\n",
              "      <td>1.0</td>\n",
              "      <td>0.0</td>\n",
              "      <td>1.0</td>\n",
              "    </tr>\n",
              "    <tr>\n",
              "      <th>2</th>\n",
              "      <td>891</td>\n",
              "      <td>2022-02-19</td>\n",
              "      <td>2022-02-26</td>\n",
              "      <td>1.072114e+09</td>\n",
              "      <td>1.427468e+09</td>\n",
              "      <td>14:00:00</td>\n",
              "      <td>Exciting석</td>\n",
              "      <td>예매권북</td>\n",
              "      <td>E7구역</td>\n",
              "      <td>0.0</td>\n",
              "      <td>1.0</td>\n",
              "      <td>예매권북</td>\n",
              "      <td>1.0</td>\n",
              "      <td>0.0</td>\n",
              "      <td>1.0</td>\n",
              "    </tr>\n",
              "    <tr>\n",
              "      <th>3</th>\n",
              "      <td>987</td>\n",
              "      <td>2022-02-19</td>\n",
              "      <td>2022-02-26</td>\n",
              "      <td>NaN</td>\n",
              "      <td>NaN</td>\n",
              "      <td>NaN</td>\n",
              "      <td>NaN</td>\n",
              "      <td>NaN</td>\n",
              "      <td>NaN</td>\n",
              "      <td>NaN</td>\n",
              "      <td>NaN</td>\n",
              "      <td>NaN</td>\n",
              "      <td>NaN</td>\n",
              "      <td>NaN</td>\n",
              "      <td>0.0</td>\n",
              "    </tr>\n",
              "    <tr>\n",
              "      <th>4</th>\n",
              "      <td>1353</td>\n",
              "      <td>2022-02-19</td>\n",
              "      <td>2022-02-26</td>\n",
              "      <td>1.072072e+09</td>\n",
              "      <td>1.427428e+09</td>\n",
              "      <td>14:00:00</td>\n",
              "      <td>World class석</td>\n",
              "      <td>예매권북</td>\n",
              "      <td>W5구역</td>\n",
              "      <td>0.0</td>\n",
              "      <td>1.0</td>\n",
              "      <td>예매권북</td>\n",
              "      <td>1.0</td>\n",
              "      <td>0.0</td>\n",
              "      <td>1.0</td>\n",
              "    </tr>\n",
              "  </tbody>\n",
              "</table>\n",
              "</div>\n",
              "      <button class=\"colab-df-convert\" onclick=\"convertToInteractive('df-a17eaea6-3ade-4710-a6f8-b93eca8e21e7')\"\n",
              "              title=\"Convert this dataframe to an interactive table.\"\n",
              "              style=\"display:none;\">\n",
              "        \n",
              "  <svg xmlns=\"http://www.w3.org/2000/svg\" height=\"24px\"viewBox=\"0 0 24 24\"\n",
              "       width=\"24px\">\n",
              "    <path d=\"M0 0h24v24H0V0z\" fill=\"none\"/>\n",
              "    <path d=\"M18.56 5.44l.94 2.06.94-2.06 2.06-.94-2.06-.94-.94-2.06-.94 2.06-2.06.94zm-11 1L8.5 8.5l.94-2.06 2.06-.94-2.06-.94L8.5 2.5l-.94 2.06-2.06.94zm10 10l.94 2.06.94-2.06 2.06-.94-2.06-.94-.94-2.06-.94 2.06-2.06.94z\"/><path d=\"M17.41 7.96l-1.37-1.37c-.4-.4-.92-.59-1.43-.59-.52 0-1.04.2-1.43.59L10.3 9.45l-7.72 7.72c-.78.78-.78 2.05 0 2.83L4 21.41c.39.39.9.59 1.41.59.51 0 1.02-.2 1.41-.59l7.78-7.78 2.81-2.81c.8-.78.8-2.07 0-2.86zM5.41 20L4 18.59l7.72-7.72 1.47 1.35L5.41 20z\"/>\n",
              "  </svg>\n",
              "      </button>\n",
              "      \n",
              "  <style>\n",
              "    .colab-df-container {\n",
              "      display:flex;\n",
              "      flex-wrap:wrap;\n",
              "      gap: 12px;\n",
              "    }\n",
              "\n",
              "    .colab-df-convert {\n",
              "      background-color: #E8F0FE;\n",
              "      border: none;\n",
              "      border-radius: 50%;\n",
              "      cursor: pointer;\n",
              "      display: none;\n",
              "      fill: #1967D2;\n",
              "      height: 32px;\n",
              "      padding: 0 0 0 0;\n",
              "      width: 32px;\n",
              "    }\n",
              "\n",
              "    .colab-df-convert:hover {\n",
              "      background-color: #E2EBFA;\n",
              "      box-shadow: 0px 1px 2px rgba(60, 64, 67, 0.3), 0px 1px 3px 1px rgba(60, 64, 67, 0.15);\n",
              "      fill: #174EA6;\n",
              "    }\n",
              "\n",
              "    [theme=dark] .colab-df-convert {\n",
              "      background-color: #3B4455;\n",
              "      fill: #D2E3FC;\n",
              "    }\n",
              "\n",
              "    [theme=dark] .colab-df-convert:hover {\n",
              "      background-color: #434B5C;\n",
              "      box-shadow: 0px 1px 3px 1px rgba(0, 0, 0, 0.15);\n",
              "      filter: drop-shadow(0px 1px 2px rgba(0, 0, 0, 0.3));\n",
              "      fill: #FFFFFF;\n",
              "    }\n",
              "  </style>\n",
              "\n",
              "      <script>\n",
              "        const buttonEl =\n",
              "          document.querySelector('#df-a17eaea6-3ade-4710-a6f8-b93eca8e21e7 button.colab-df-convert');\n",
              "        buttonEl.style.display =\n",
              "          google.colab.kernel.accessAllowed ? 'block' : 'none';\n",
              "\n",
              "        async function convertToInteractive(key) {\n",
              "          const element = document.querySelector('#df-a17eaea6-3ade-4710-a6f8-b93eca8e21e7');\n",
              "          const dataTable =\n",
              "            await google.colab.kernel.invokeFunction('convertToInteractive',\n",
              "                                                     [key], {});\n",
              "          if (!dataTable) return;\n",
              "\n",
              "          const docLinkHtml = 'Like what you see? Visit the ' +\n",
              "            '<a target=\"_blank\" href=https://colab.research.google.com/notebooks/data_table.ipynb>data table notebook</a>'\n",
              "            + ' to learn more about interactive tables.';\n",
              "          element.innerHTML = '';\n",
              "          dataTable['output_type'] = 'display_data';\n",
              "          await google.colab.output.renderOutput(dataTable, element);\n",
              "          const docLink = document.createElement('div');\n",
              "          docLink.innerHTML = docLinkHtml;\n",
              "          element.appendChild(docLink);\n",
              "        }\n",
              "      </script>\n",
              "    </div>\n",
              "  </div>\n",
              "  "
            ]
          },
          "metadata": {},
          "execution_count": 239
        }
      ]
    },
    {
      "cell_type": "code",
      "source": [
        "# 직전 경기 날짜와 이번 경기 날짜를 조인해서 지난 경기 예매 특성 가져옴\n",
        "nms = nms[['MB_IDX','before_date','date','target']]\n",
        "nms = pd.merge(nms, rt_n, left_on=['before_date','MB_IDX'], right_on=['date','MB_IDX'], how='inner').groupby(['MB_IDX','before_date']).head(1)"
      ],
      "metadata": {
        "id": "XBQSUreBWAi3"
      },
      "execution_count": null,
      "outputs": []
    },
    {
      "cell_type": "code",
      "source": [
        "nms = nms[['MB_IDX', 'before_date', 'date_x', 'target', 'product_grade_name', 'product_denomination_name',\n",
        "           'seat_Attribute_4', 'special_seat_yn', 'discount_yn', 'discount_way', 'first_yn']]"
      ],
      "metadata": {
        "id": "ugAzvm-FXM0b"
      },
      "execution_count": null,
      "outputs": []
    },
    {
      "cell_type": "code",
      "source": [
        "# 직전 경기 날짜와 이번 경기 날짜를 조인해서 지난 경기 만족도를 가져옴\n",
        "nms = pd.merge(nms, m3, left_on=['MB_IDX','before_date'], right_on=['MB_IDX','date'], how='inner')"
      ],
      "metadata": {
        "id": "6lFXqClJYqlR"
      },
      "execution_count": null,
      "outputs": []
    },
    {
      "cell_type": "code",
      "source": [
        "nms = nms.drop('date', axis=1)\n",
        "nms = nms.rename(columns={'date_x':'date'})"
      ],
      "metadata": {
        "id": "T6Jbb7OzY3Ev"
      },
      "execution_count": null,
      "outputs": []
    },
    {
      "cell_type": "code",
      "source": [
        "# 지난 경기 예매 티켓 수 가져옴\n",
        "nms = pd.merge(nms, rt_n.groupby(['date','MB_IDX']).size().reset_index(), left_on=['MB_IDX','before_date'], right_on=['MB_IDX','date'], how='inner')"
      ],
      "metadata": {
        "id": "_qqoSznDaHiV"
      },
      "execution_count": null,
      "outputs": []
    },
    {
      "cell_type": "code",
      "source": [
        "nms = nms.drop('date_y', axis=1)"
      ],
      "metadata": {
        "id": "IfzH6sk5aVrR"
      },
      "execution_count": null,
      "outputs": []
    },
    {
      "cell_type": "code",
      "source": [
        "nms.columns = ['MB_IDX', 'before_date', 'date', 'target', 'before_product_grade','before_product_denomination','before_seat_attr',\n",
        "               'before_special_seat_yn','before_discount_yn','before_discount_way','before_first_yn',\n",
        "               'before_ticket_satisfaction', 'before_gate_satisfaction', 'before_seat_satisfaction', 'before_reserve_count']"
      ],
      "metadata": {
        "id": "Ci8mQV14ZecS"
      },
      "execution_count": null,
      "outputs": []
    },
    {
      "cell_type": "code",
      "source": [
        "nms = nms[['MB_IDX', 'date', 'before_product_grade', 'before_product_denomination', 'before_seat_attr',\n",
        "           'before_special_seat_yn', 'before_discount_yn', 'before_discount_way', 'before_first_yn', 'before_ticket_satisfaction',\n",
        "           'before_gate_satisfaction', 'before_seat_satisfaction', 'before_reserve_count', 'target']]"
      ],
      "metadata": {
        "id": "RgUhkCPkbM3s"
      },
      "execution_count": null,
      "outputs": []
    },
    {
      "cell_type": "code",
      "source": [
        "nms['target'] = nms['target'].astype(int)"
      ],
      "metadata": {
        "colab": {
          "base_uri": "https://localhost:8080/"
        },
        "id": "_vbOfGqHbQPd",
        "outputId": "ea55f342-c347-4dd6-abf2-a1da8b7ccf7c"
      },
      "execution_count": null,
      "outputs": [
        {
          "output_type": "stream",
          "name": "stderr",
          "text": [
            "<ipython-input-253-3ac7e01f03f3>:1: SettingWithCopyWarning: \n",
            "A value is trying to be set on a copy of a slice from a DataFrame.\n",
            "Try using .loc[row_indexer,col_indexer] = value instead\n",
            "\n",
            "See the caveats in the documentation: https://pandas.pydata.org/pandas-docs/stable/user_guide/indexing.html#returning-a-view-versus-a-copy\n",
            "  nms['target'] = nms['target'].astype(int)\n"
          ]
        }
      ]
    },
    {
      "cell_type": "code",
      "source": [
        "nms.head()"
      ],
      "metadata": {
        "colab": {
          "base_uri": "https://localhost:8080/"
        },
        "id": "4Qd10N19ctpS",
        "outputId": "da07cb81-93c3-47a6-c269-bc624f39cd75"
      },
      "execution_count": null,
      "outputs": [
        {
          "output_type": "execute_result",
          "data": {
            "text/plain": [
              "   MB_IDX        date before_product_grade before_product_denomination  \\\n",
              "0     208  2022-02-26                   S석                K리그 축덕카드(체크)   \n",
              "1     423  2022-02-26              Expert석            5천원 멤버십 할인권 (성인)   \n",
              "2     891  2022-02-26            Exciting석                        예매권북   \n",
              "3     987  2022-02-26                   S석            5천원 멤버십 할인권 (성인)   \n",
              "4    1353  2022-02-26         World class석                        예매권북   \n",
              "\n",
              "  before_seat_attr  before_special_seat_yn  before_discount_yn  \\\n",
              "0            S 5구역                       0                   1   \n",
              "1            E17구역                       0                   1   \n",
              "2             E7구역                       0                   1   \n",
              "3            S 5구역                       0                   1   \n",
              "4             W5구역                       0                   1   \n",
              "\n",
              "  before_discount_way  before_first_yn  before_ticket_satisfaction  \\\n",
              "0                  카드                1                           3   \n",
              "1                 멤버십                1                           5   \n",
              "2                예매권북                1                           5   \n",
              "3                 멤버십                1                           2   \n",
              "4                예매권북                1                           5   \n",
              "\n",
              "   before_gate_satisfaction  before_seat_satisfaction  before_reserve_count  \\\n",
              "0                         2                         5                     1   \n",
              "1                         5                         5                     1   \n",
              "2                         3                         5                     1   \n",
              "3                         4                         5                     5   \n",
              "4                         4                         3                     2   \n",
              "\n",
              "   target  \n",
              "0       0  \n",
              "1       1  \n",
              "2       1  \n",
              "3       0  \n",
              "4       1  "
            ],
            "text/html": [
              "\n",
              "  <div id=\"df-e8fa561c-3052-4a9f-9803-2bcf603e1e8d\">\n",
              "    <div class=\"colab-df-container\">\n",
              "      <div>\n",
              "<style scoped>\n",
              "    .dataframe tbody tr th:only-of-type {\n",
              "        vertical-align: middle;\n",
              "    }\n",
              "\n",
              "    .dataframe tbody tr th {\n",
              "        vertical-align: top;\n",
              "    }\n",
              "\n",
              "    .dataframe thead th {\n",
              "        text-align: right;\n",
              "    }\n",
              "</style>\n",
              "<table border=\"1\" class=\"dataframe\">\n",
              "  <thead>\n",
              "    <tr style=\"text-align: right;\">\n",
              "      <th></th>\n",
              "      <th>MB_IDX</th>\n",
              "      <th>date</th>\n",
              "      <th>before_product_grade</th>\n",
              "      <th>before_product_denomination</th>\n",
              "      <th>before_seat_attr</th>\n",
              "      <th>before_special_seat_yn</th>\n",
              "      <th>before_discount_yn</th>\n",
              "      <th>before_discount_way</th>\n",
              "      <th>before_first_yn</th>\n",
              "      <th>before_ticket_satisfaction</th>\n",
              "      <th>before_gate_satisfaction</th>\n",
              "      <th>before_seat_satisfaction</th>\n",
              "      <th>before_reserve_count</th>\n",
              "      <th>target</th>\n",
              "    </tr>\n",
              "  </thead>\n",
              "  <tbody>\n",
              "    <tr>\n",
              "      <th>0</th>\n",
              "      <td>208</td>\n",
              "      <td>2022-02-26</td>\n",
              "      <td>S석</td>\n",
              "      <td>K리그 축덕카드(체크)</td>\n",
              "      <td>S 5구역</td>\n",
              "      <td>0</td>\n",
              "      <td>1</td>\n",
              "      <td>카드</td>\n",
              "      <td>1</td>\n",
              "      <td>3</td>\n",
              "      <td>2</td>\n",
              "      <td>5</td>\n",
              "      <td>1</td>\n",
              "      <td>0</td>\n",
              "    </tr>\n",
              "    <tr>\n",
              "      <th>1</th>\n",
              "      <td>423</td>\n",
              "      <td>2022-02-26</td>\n",
              "      <td>Expert석</td>\n",
              "      <td>5천원 멤버십 할인권 (성인)</td>\n",
              "      <td>E17구역</td>\n",
              "      <td>0</td>\n",
              "      <td>1</td>\n",
              "      <td>멤버십</td>\n",
              "      <td>1</td>\n",
              "      <td>5</td>\n",
              "      <td>5</td>\n",
              "      <td>5</td>\n",
              "      <td>1</td>\n",
              "      <td>1</td>\n",
              "    </tr>\n",
              "    <tr>\n",
              "      <th>2</th>\n",
              "      <td>891</td>\n",
              "      <td>2022-02-26</td>\n",
              "      <td>Exciting석</td>\n",
              "      <td>예매권북</td>\n",
              "      <td>E7구역</td>\n",
              "      <td>0</td>\n",
              "      <td>1</td>\n",
              "      <td>예매권북</td>\n",
              "      <td>1</td>\n",
              "      <td>5</td>\n",
              "      <td>3</td>\n",
              "      <td>5</td>\n",
              "      <td>1</td>\n",
              "      <td>1</td>\n",
              "    </tr>\n",
              "    <tr>\n",
              "      <th>3</th>\n",
              "      <td>987</td>\n",
              "      <td>2022-02-26</td>\n",
              "      <td>S석</td>\n",
              "      <td>5천원 멤버십 할인권 (성인)</td>\n",
              "      <td>S 5구역</td>\n",
              "      <td>0</td>\n",
              "      <td>1</td>\n",
              "      <td>멤버십</td>\n",
              "      <td>1</td>\n",
              "      <td>2</td>\n",
              "      <td>4</td>\n",
              "      <td>5</td>\n",
              "      <td>5</td>\n",
              "      <td>0</td>\n",
              "    </tr>\n",
              "    <tr>\n",
              "      <th>4</th>\n",
              "      <td>1353</td>\n",
              "      <td>2022-02-26</td>\n",
              "      <td>World class석</td>\n",
              "      <td>예매권북</td>\n",
              "      <td>W5구역</td>\n",
              "      <td>0</td>\n",
              "      <td>1</td>\n",
              "      <td>예매권북</td>\n",
              "      <td>1</td>\n",
              "      <td>5</td>\n",
              "      <td>4</td>\n",
              "      <td>3</td>\n",
              "      <td>2</td>\n",
              "      <td>1</td>\n",
              "    </tr>\n",
              "  </tbody>\n",
              "</table>\n",
              "</div>\n",
              "      <button class=\"colab-df-convert\" onclick=\"convertToInteractive('df-e8fa561c-3052-4a9f-9803-2bcf603e1e8d')\"\n",
              "              title=\"Convert this dataframe to an interactive table.\"\n",
              "              style=\"display:none;\">\n",
              "        \n",
              "  <svg xmlns=\"http://www.w3.org/2000/svg\" height=\"24px\"viewBox=\"0 0 24 24\"\n",
              "       width=\"24px\">\n",
              "    <path d=\"M0 0h24v24H0V0z\" fill=\"none\"/>\n",
              "    <path d=\"M18.56 5.44l.94 2.06.94-2.06 2.06-.94-2.06-.94-.94-2.06-.94 2.06-2.06.94zm-11 1L8.5 8.5l.94-2.06 2.06-.94-2.06-.94L8.5 2.5l-.94 2.06-2.06.94zm10 10l.94 2.06.94-2.06 2.06-.94-2.06-.94-.94-2.06-.94 2.06-2.06.94z\"/><path d=\"M17.41 7.96l-1.37-1.37c-.4-.4-.92-.59-1.43-.59-.52 0-1.04.2-1.43.59L10.3 9.45l-7.72 7.72c-.78.78-.78 2.05 0 2.83L4 21.41c.39.39.9.59 1.41.59.51 0 1.02-.2 1.41-.59l7.78-7.78 2.81-2.81c.8-.78.8-2.07 0-2.86zM5.41 20L4 18.59l7.72-7.72 1.47 1.35L5.41 20z\"/>\n",
              "  </svg>\n",
              "      </button>\n",
              "      \n",
              "  <style>\n",
              "    .colab-df-container {\n",
              "      display:flex;\n",
              "      flex-wrap:wrap;\n",
              "      gap: 12px;\n",
              "    }\n",
              "\n",
              "    .colab-df-convert {\n",
              "      background-color: #E8F0FE;\n",
              "      border: none;\n",
              "      border-radius: 50%;\n",
              "      cursor: pointer;\n",
              "      display: none;\n",
              "      fill: #1967D2;\n",
              "      height: 32px;\n",
              "      padding: 0 0 0 0;\n",
              "      width: 32px;\n",
              "    }\n",
              "\n",
              "    .colab-df-convert:hover {\n",
              "      background-color: #E2EBFA;\n",
              "      box-shadow: 0px 1px 2px rgba(60, 64, 67, 0.3), 0px 1px 3px 1px rgba(60, 64, 67, 0.15);\n",
              "      fill: #174EA6;\n",
              "    }\n",
              "\n",
              "    [theme=dark] .colab-df-convert {\n",
              "      background-color: #3B4455;\n",
              "      fill: #D2E3FC;\n",
              "    }\n",
              "\n",
              "    [theme=dark] .colab-df-convert:hover {\n",
              "      background-color: #434B5C;\n",
              "      box-shadow: 0px 1px 3px 1px rgba(0, 0, 0, 0.15);\n",
              "      filter: drop-shadow(0px 1px 2px rgba(0, 0, 0, 0.3));\n",
              "      fill: #FFFFFF;\n",
              "    }\n",
              "  </style>\n",
              "\n",
              "      <script>\n",
              "        const buttonEl =\n",
              "          document.querySelector('#df-e8fa561c-3052-4a9f-9803-2bcf603e1e8d button.colab-df-convert');\n",
              "        buttonEl.style.display =\n",
              "          google.colab.kernel.accessAllowed ? 'block' : 'none';\n",
              "\n",
              "        async function convertToInteractive(key) {\n",
              "          const element = document.querySelector('#df-e8fa561c-3052-4a9f-9803-2bcf603e1e8d');\n",
              "          const dataTable =\n",
              "            await google.colab.kernel.invokeFunction('convertToInteractive',\n",
              "                                                     [key], {});\n",
              "          if (!dataTable) return;\n",
              "\n",
              "          const docLinkHtml = 'Like what you see? Visit the ' +\n",
              "            '<a target=\"_blank\" href=https://colab.research.google.com/notebooks/data_table.ipynb>data table notebook</a>'\n",
              "            + ' to learn more about interactive tables.';\n",
              "          element.innerHTML = '';\n",
              "          dataTable['output_type'] = 'display_data';\n",
              "          await google.colab.output.renderOutput(dataTable, element);\n",
              "          const docLink = document.createElement('div');\n",
              "          docLink.innerHTML = docLinkHtml;\n",
              "          element.appendChild(docLink);\n",
              "        }\n",
              "      </script>\n",
              "    </div>\n",
              "  </div>\n",
              "  "
            ]
          },
          "metadata": {},
          "execution_count": 257
        }
      ]
    },
    {
      "cell_type": "code",
      "source": [
        "nms['target'].value_counts()"
      ],
      "metadata": {
        "colab": {
          "base_uri": "https://localhost:8080/"
        },
        "id": "mGtf52DUcuuM",
        "outputId": "99a64363-6d4b-4907-828b-fa6934b6d6ef"
      },
      "execution_count": null,
      "outputs": [
        {
          "output_type": "execute_result",
          "data": {
            "text/plain": [
              "1    1204\n",
              "0    1009\n",
              "Name: target, dtype: int64"
            ]
          },
          "metadata": {},
          "execution_count": 258
        }
      ]
    },
    {
      "cell_type": "code",
      "source": [
        "nms.to_csv('new_yn_reserve_satisfaction.csv', index=False)"
      ],
      "metadata": {
        "id": "ZWYJavXPdAJ5"
      },
      "execution_count": null,
      "outputs": []
    },
    {
      "cell_type": "markdown",
      "source": [
        "# cohort\n"
      ],
      "metadata": {
        "id": "NvoJ9GZnzv5q"
      }
    },
    {
      "cell_type": "code",
      "source": [
        "cht = rt_n.copy()\n",
        "\n",
        "cht = cht[['date','MB_IDX']]\n",
        "cht = cht.groupby(['date','MB_IDX']).size().reset_index()\n",
        "cht = cht.sort_values('MB_IDX').set_index('MB_IDX')\n",
        "\n",
        "first_date = pd.DataFrame(cht.groupby(cht.index)['date'].min()).reset_index()\n",
        "first_date = first_date.rename(columns={'date':'first_date'})\n",
        "\n",
        "cht = cht.reset_index()\n",
        "\n",
        "cht = pd.merge(cht, first_date, on='MB_IDX', how='inner').drop(0, axis=1)\n",
        "\n",
        "grouped = cht.groupby(['first_date', 'date'])\n",
        "cohorts=grouped['MB_IDX'].nunique().reset_index()\n",
        "cohorts = cohorts.rename(columns={'MB_IDX':'reserve_counts'})\n",
        "\n",
        "each_period = cohorts['first_date'].value_counts().sort_index()\n",
        "\n",
        "cohortperiod=[]\n",
        "\n",
        "for x in each_period: \n",
        "    for y in range(x):\n",
        "        cohortperiod.append(y)\n",
        "\n",
        "cohorts['CohortPeriod']=cohortperiod\n",
        "\n",
        "cohorts.set_index(['first_date','CohortPeriod'],inplace=True)\n",
        "cohorts=cohorts['reserve_counts'].unstack(1)\n",
        "\n",
        "user_retention=cohorts.divide(cohorts[0],axis=0)"
      ],
      "metadata": {
        "id": "ulMIdvYQzvbV"
      },
      "execution_count": null,
      "outputs": []
    },
    {
      "cell_type": "code",
      "source": [
        "plt.figure(figsize=(20, 12))\n",
        "plt.title('Cohort Analysis', fontsize=19)\n",
        "sns.heatmap(user_retention, annot=True, fmt='.0%')\n",
        "plt.show()"
      ],
      "metadata": {
        "colab": {
          "base_uri": "https://localhost:8080/",
          "height": 698
        },
        "id": "O04ZLsdk6lIy",
        "outputId": "dfdcef5f-69c5-44a1-a970-c4e6c2e026ab"
      },
      "execution_count": null,
      "outputs": [
        {
          "output_type": "display_data",
          "data": {
            "text/plain": [
              "<Figure size 1440x864 with 2 Axes>"
            ],
            "image/png": "[encoded data removed]"
          },
          "metadata": {
            "needs_background": "light"
          }
        }
      ]
    }
  ]
}