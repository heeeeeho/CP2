{
  "nbformat": 4,
  "nbformat_minor": 0,
  "metadata": {
    "colab": {
      "provenance": [],
      "collapsed_sections": [
        "m1HzoXViN6j4",
        "rMPDbw84N9yx",
        "XY5Fw02oOsZe",
        "1c1bIBgcNLif",
        "VHXmhrbvM3Rh",
        "DSvITrrJNOjY",
        "ZP2lMl4kO9Ni"
      ]
    },
    "kernelspec": {
      "name": "python3",
      "display_name": "Python 3"
    },
    "language_info": {
      "name": "python"
    }
  },
  "cells": [
    {
      "cell_type": "markdown",
      "source": [
        "# Import"
      ],
      "metadata": {
        "id": "m1HzoXViN6j4"
      }
    },
    {
      "cell_type": "code",
      "source": [
        "!pip install optuna"
      ],
      "metadata": {
        "id": "QGPnUvIHvB6Q",
        "colab": {
          "base_uri": "https://localhost:8080/"
        },
        "outputId": "8e0941db-0dc1-4af5-d994-472780ea626b"
      },
      "execution_count": null,
      "outputs": [
        {
          "output_type": "stream",
          "name": "stdout",
          "text": [
            "Looking in indexes: https://pypi.org/simple, https://us-python.pkg.dev/colab-wheels/public/simple/\n",
            "Collecting optuna\n",
            "  Downloading optuna-3.1.0-py3-none-any.whl (365 kB)\n",
            "\u001b[2K     \u001b[90m━━━━━━━━━━━━━━━━━━━━━━━━━━━━━━━━━━━━━━━\u001b[0m \u001b[32m365.3/365.3 KB\u001b[0m \u001b[31m5.5 MB/s\u001b[0m eta \u001b[36m0:00:00\u001b[0m\n",
            "\u001b[?25hRequirement already satisfied: tqdm in /usr/local/lib/python3.8/dist-packages (from optuna) (4.64.1)\n",
            "Requirement already satisfied: packaging>=20.0 in /usr/local/lib/python3.8/dist-packages (from optuna) (23.0)\n",
            "Requirement already satisfied: sqlalchemy>=1.3.0 in /usr/local/lib/python3.8/dist-packages (from optuna) (1.4.46)\n",
            "Requirement already satisfied: numpy in /usr/local/lib/python3.8/dist-packages (from optuna) (1.21.6)\n",
            "Requirement already satisfied: PyYAML in /usr/local/lib/python3.8/dist-packages (from optuna) (6.0)\n",
            "Collecting cmaes>=0.9.1\n",
            "  Downloading cmaes-0.9.1-py3-none-any.whl (21 kB)\n",
            "Collecting alembic>=1.5.0\n",
            "  Downloading alembic-1.9.3-py3-none-any.whl (210 kB)\n",
            "\u001b[2K     \u001b[90m━━━━━━━━━━━━━━━━━━━━━━━━━━━━━━━━━━━━━━━\u001b[0m \u001b[32m210.6/210.6 KB\u001b[0m \u001b[31m6.3 MB/s\u001b[0m eta \u001b[36m0:00:00\u001b[0m\n",
            "\u001b[?25hCollecting colorlog\n",
            "  Downloading colorlog-6.7.0-py2.py3-none-any.whl (11 kB)\n",
            "Requirement already satisfied: importlib-resources in /usr/local/lib/python3.8/dist-packages (from alembic>=1.5.0->optuna) (5.10.2)\n",
            "Collecting Mako\n",
            "  Downloading Mako-1.2.4-py3-none-any.whl (78 kB)\n",
            "\u001b[2K     \u001b[90m━━━━━━━━━━━━━━━━━━━━━━━━━━━━━━━━━━━━━━━━\u001b[0m \u001b[32m78.7/78.7 KB\u001b[0m \u001b[31m3.3 MB/s\u001b[0m eta \u001b[36m0:00:00\u001b[0m\n",
            "\u001b[?25hRequirement already satisfied: importlib-metadata in /usr/local/lib/python3.8/dist-packages (from alembic>=1.5.0->optuna) (6.0.0)\n",
            "Requirement already satisfied: greenlet!=0.4.17 in /usr/local/lib/python3.8/dist-packages (from sqlalchemy>=1.3.0->optuna) (2.0.2)\n",
            "Requirement already satisfied: zipp>=0.5 in /usr/local/lib/python3.8/dist-packages (from importlib-metadata->alembic>=1.5.0->optuna) (3.12.1)\n",
            "Requirement already satisfied: MarkupSafe>=0.9.2 in /usr/local/lib/python3.8/dist-packages (from Mako->alembic>=1.5.0->optuna) (2.0.1)\n",
            "Installing collected packages: Mako, colorlog, cmaes, alembic, optuna\n",
            "Successfully installed Mako-1.2.4 alembic-1.9.3 cmaes-0.9.1 colorlog-6.7.0 optuna-3.1.0\n"
          ]
        }
      ]
    },
    {
      "cell_type": "code",
      "execution_count": null,
      "metadata": {
        "id": "Xmo7oszcag5o"
      },
      "outputs": [],
      "source": [
        "import pandas as pd\n",
        "import numpy as np\n",
        "\n",
        "import matplotlib.pyplot as plt\n",
        "import seaborn as sns\n",
        "\n",
        "from sklearn.preprocessing import OrdinalEncoder\n",
        "\n",
        "from sklearn.model_selection import train_test_split\n",
        "\n",
        "from sklearn.ensemble import RandomForestClassifier\n",
        "from xgboost import XGBClassifier\n",
        "from lightgbm import LGBMClassifier\n",
        "\n",
        "import optuna\n",
        "from optuna import Trial\n",
        "from optuna.samplers import TPESampler\n",
        "\n",
        "from sklearn.metrics import roc_auc_score\n",
        "from sklearn.metrics import classification_report"
      ]
    },
    {
      "cell_type": "markdown",
      "source": [
        "# EDA"
      ],
      "metadata": {
        "id": "rMPDbw84N9yx"
      }
    },
    {
      "cell_type": "code",
      "source": [
        "raw = pd.read_csv('predict_yn.csv')"
      ],
      "metadata": {
        "id": "RB8ZKm-X4z6b"
      },
      "execution_count": null,
      "outputs": []
    },
    {
      "cell_type": "code",
      "source": [
        "df = raw.copy()"
      ],
      "metadata": {
        "id": "UHM7boxteBiL"
      },
      "execution_count": null,
      "outputs": []
    },
    {
      "cell_type": "markdown",
      "source": [
        "## 정리"
      ],
      "metadata": {
        "id": "rNJQGiDTz7BM"
      }
    },
    {
      "cell_type": "code",
      "source": [
        "X = df.copy()\n",
        "y = df['target']"
      ],
      "metadata": {
        "id": "kJ1SLR98nXJj"
      },
      "execution_count": null,
      "outputs": []
    },
    {
      "cell_type": "code",
      "source": [
        "X = X.drop(['MB_IDX', 'before_audience'], axis=1)"
      ],
      "metadata": {
        "id": "AJ1H09iPcwLF"
      },
      "execution_count": null,
      "outputs": []
    },
    {
      "cell_type": "code",
      "source": [
        "X = X[X.columns[:-11]]"
      ],
      "metadata": {
        "id": "1mGstnyA8xWS"
      },
      "execution_count": null,
      "outputs": []
    },
    {
      "cell_type": "code",
      "source": [
        "X.head()"
      ],
      "metadata": {
        "colab": {
          "base_uri": "https://localhost:8080/"
        },
        "id": "emhMMYejuXm3",
        "outputId": "c051c3d8-a100-4843-a598-2f477ea34494"
      },
      "execution_count": null,
      "outputs": [
        {
          "output_type": "execute_result",
          "data": {
            "text/plain": [
              "         date before_product_grade  before_special_seat_yn  \\\n",
              "0  2022-02-26            Exciting석                       0   \n",
              "1  2022-02-26            Exciting석                       0   \n",
              "2  2022-02-26            Exciting석                       0   \n",
              "3  2022-03-05            Exciting석                       0   \n",
              "4  2022-03-05            Exciting석                       0   \n",
              "\n",
              "   before_discount_yn before_discount_way  before_first_yn  \\\n",
              "0                   0                  없음                1   \n",
              "1                   0                  없음                1   \n",
              "2                   0                  없음                1   \n",
              "3                   0                  없음                1   \n",
              "4                   0                  없음                1   \n",
              "\n",
              "   before_reserve_count  weekend_yn  night_yn  final_yn  ... before_goal_diff  \\\n",
              "0                     1           1         0         0  ...                1   \n",
              "1                     1           1         0         0  ...                1   \n",
              "2                     1           1         0         0  ...                1   \n",
              "3                     2           1         1         0  ...                0   \n",
              "4                     3           1         1         0  ...                0   \n",
              "\n",
              "   before_game_result  before_rank  youtube_count  youtube_mean_view  \\\n",
              "0                 1.0            2              4               2794   \n",
              "1                 1.0            2              4               2794   \n",
              "2                 1.0            2              4               2794   \n",
              "3                 0.5            4              4               1816   \n",
              "4                 0.5            4              4               1816   \n",
              "\n",
              "   youtube_mean_like  age_group  region           job favorite_idx  \n",
              "0                158         20   인천광역시           NaN         아길라르  \n",
              "1                158         30   인천광역시            무직         아길라르  \n",
              "2                158         50   인천광역시      서비스업 종사자          이태희  \n",
              "3                 97         30     수도권  회사원(사무직/연구직)          무고사  \n",
              "4                 97         40   인천광역시           공무원        에르난데스  \n",
              "\n",
              "[5 rows x 22 columns]"
            ],
            "text/html": [
              "\n",
              "  <div id=\"df-14eaed56-470a-4faf-ad96-3146507db38f\">\n",
              "    <div class=\"colab-df-container\">\n",
              "      <div>\n",
              "<style scoped>\n",
              "    .dataframe tbody tr th:only-of-type {\n",
              "        vertical-align: middle;\n",
              "    }\n",
              "\n",
              "    .dataframe tbody tr th {\n",
              "        vertical-align: top;\n",
              "    }\n",
              "\n",
              "    .dataframe thead th {\n",
              "        text-align: right;\n",
              "    }\n",
              "</style>\n",
              "<table border=\"1\" class=\"dataframe\">\n",
              "  <thead>\n",
              "    <tr style=\"text-align: right;\">\n",
              "      <th></th>\n",
              "      <th>date</th>\n",
              "      <th>before_product_grade</th>\n",
              "      <th>before_special_seat_yn</th>\n",
              "      <th>before_discount_yn</th>\n",
              "      <th>before_discount_way</th>\n",
              "      <th>before_first_yn</th>\n",
              "      <th>before_reserve_count</th>\n",
              "      <th>weekend_yn</th>\n",
              "      <th>night_yn</th>\n",
              "      <th>final_yn</th>\n",
              "      <th>...</th>\n",
              "      <th>before_goal_diff</th>\n",
              "      <th>before_game_result</th>\n",
              "      <th>before_rank</th>\n",
              "      <th>youtube_count</th>\n",
              "      <th>youtube_mean_view</th>\n",
              "      <th>youtube_mean_like</th>\n",
              "      <th>age_group</th>\n",
              "      <th>region</th>\n",
              "      <th>job</th>\n",
              "      <th>favorite_idx</th>\n",
              "    </tr>\n",
              "  </thead>\n",
              "  <tbody>\n",
              "    <tr>\n",
              "      <th>0</th>\n",
              "      <td>2022-02-26</td>\n",
              "      <td>Exciting석</td>\n",
              "      <td>0</td>\n",
              "      <td>0</td>\n",
              "      <td>없음</td>\n",
              "      <td>1</td>\n",
              "      <td>1</td>\n",
              "      <td>1</td>\n",
              "      <td>0</td>\n",
              "      <td>0</td>\n",
              "      <td>...</td>\n",
              "      <td>1</td>\n",
              "      <td>1.0</td>\n",
              "      <td>2</td>\n",
              "      <td>4</td>\n",
              "      <td>2794</td>\n",
              "      <td>158</td>\n",
              "      <td>20</td>\n",
              "      <td>인천광역시</td>\n",
              "      <td>NaN</td>\n",
              "      <td>아길라르</td>\n",
              "    </tr>\n",
              "    <tr>\n",
              "      <th>1</th>\n",
              "      <td>2022-02-26</td>\n",
              "      <td>Exciting석</td>\n",
              "      <td>0</td>\n",
              "      <td>0</td>\n",
              "      <td>없음</td>\n",
              "      <td>1</td>\n",
              "      <td>1</td>\n",
              "      <td>1</td>\n",
              "      <td>0</td>\n",
              "      <td>0</td>\n",
              "      <td>...</td>\n",
              "      <td>1</td>\n",
              "      <td>1.0</td>\n",
              "      <td>2</td>\n",
              "      <td>4</td>\n",
              "      <td>2794</td>\n",
              "      <td>158</td>\n",
              "      <td>30</td>\n",
              "      <td>인천광역시</td>\n",
              "      <td>무직</td>\n",
              "      <td>아길라르</td>\n",
              "    </tr>\n",
              "    <tr>\n",
              "      <th>2</th>\n",
              "      <td>2022-02-26</td>\n",
              "      <td>Exciting석</td>\n",
              "      <td>0</td>\n",
              "      <td>0</td>\n",
              "      <td>없음</td>\n",
              "      <td>1</td>\n",
              "      <td>1</td>\n",
              "      <td>1</td>\n",
              "      <td>0</td>\n",
              "      <td>0</td>\n",
              "      <td>...</td>\n",
              "      <td>1</td>\n",
              "      <td>1.0</td>\n",
              "      <td>2</td>\n",
              "      <td>4</td>\n",
              "      <td>2794</td>\n",
              "      <td>158</td>\n",
              "      <td>50</td>\n",
              "      <td>인천광역시</td>\n",
              "      <td>서비스업 종사자</td>\n",
              "      <td>이태희</td>\n",
              "    </tr>\n",
              "    <tr>\n",
              "      <th>3</th>\n",
              "      <td>2022-03-05</td>\n",
              "      <td>Exciting석</td>\n",
              "      <td>0</td>\n",
              "      <td>0</td>\n",
              "      <td>없음</td>\n",
              "      <td>1</td>\n",
              "      <td>2</td>\n",
              "      <td>1</td>\n",
              "      <td>1</td>\n",
              "      <td>0</td>\n",
              "      <td>...</td>\n",
              "      <td>0</td>\n",
              "      <td>0.5</td>\n",
              "      <td>4</td>\n",
              "      <td>4</td>\n",
              "      <td>1816</td>\n",
              "      <td>97</td>\n",
              "      <td>30</td>\n",
              "      <td>수도권</td>\n",
              "      <td>회사원(사무직/연구직)</td>\n",
              "      <td>무고사</td>\n",
              "    </tr>\n",
              "    <tr>\n",
              "      <th>4</th>\n",
              "      <td>2022-03-05</td>\n",
              "      <td>Exciting석</td>\n",
              "      <td>0</td>\n",
              "      <td>0</td>\n",
              "      <td>없음</td>\n",
              "      <td>1</td>\n",
              "      <td>3</td>\n",
              "      <td>1</td>\n",
              "      <td>1</td>\n",
              "      <td>0</td>\n",
              "      <td>...</td>\n",
              "      <td>0</td>\n",
              "      <td>0.5</td>\n",
              "      <td>4</td>\n",
              "      <td>4</td>\n",
              "      <td>1816</td>\n",
              "      <td>97</td>\n",
              "      <td>40</td>\n",
              "      <td>인천광역시</td>\n",
              "      <td>공무원</td>\n",
              "      <td>에르난데스</td>\n",
              "    </tr>\n",
              "  </tbody>\n",
              "</table>\n",
              "<p>5 rows × 22 columns</p>\n",
              "</div>\n",
              "      <button class=\"colab-df-convert\" onclick=\"convertToInteractive('df-14eaed56-470a-4faf-ad96-3146507db38f')\"\n",
              "              title=\"Convert this dataframe to an interactive table.\"\n",
              "              style=\"display:none;\">\n",
              "        \n",
              "  <svg xmlns=\"http://www.w3.org/2000/svg\" height=\"24px\"viewBox=\"0 0 24 24\"\n",
              "       width=\"24px\">\n",
              "    <path d=\"M0 0h24v24H0V0z\" fill=\"none\"/>\n",
              "    <path d=\"M18.56 5.44l.94 2.06.94-2.06 2.06-.94-2.06-.94-.94-2.06-.94 2.06-2.06.94zm-11 1L8.5 8.5l.94-2.06 2.06-.94-2.06-.94L8.5 2.5l-.94 2.06-2.06.94zm10 10l.94 2.06.94-2.06 2.06-.94-2.06-.94-.94-2.06-.94 2.06-2.06.94z\"/><path d=\"M17.41 7.96l-1.37-1.37c-.4-.4-.92-.59-1.43-.59-.52 0-1.04.2-1.43.59L10.3 9.45l-7.72 7.72c-.78.78-.78 2.05 0 2.83L4 21.41c.39.39.9.59 1.41.59.51 0 1.02-.2 1.41-.59l7.78-7.78 2.81-2.81c.8-.78.8-2.07 0-2.86zM5.41 20L4 18.59l7.72-7.72 1.47 1.35L5.41 20z\"/>\n",
              "  </svg>\n",
              "      </button>\n",
              "      \n",
              "  <style>\n",
              "    .colab-df-container {\n",
              "      display:flex;\n",
              "      flex-wrap:wrap;\n",
              "      gap: 12px;\n",
              "    }\n",
              "\n",
              "    .colab-df-convert {\n",
              "      background-color: #E8F0FE;\n",
              "      border: none;\n",
              "      border-radius: 50%;\n",
              "      cursor: pointer;\n",
              "      display: none;\n",
              "      fill: #1967D2;\n",
              "      height: 32px;\n",
              "      padding: 0 0 0 0;\n",
              "      width: 32px;\n",
              "    }\n",
              "\n",
              "    .colab-df-convert:hover {\n",
              "      background-color: #E2EBFA;\n",
              "      box-shadow: 0px 1px 2px rgba(60, 64, 67, 0.3), 0px 1px 3px 1px rgba(60, 64, 67, 0.15);\n",
              "      fill: #174EA6;\n",
              "    }\n",
              "\n",
              "    [theme=dark] .colab-df-convert {\n",
              "      background-color: #3B4455;\n",
              "      fill: #D2E3FC;\n",
              "    }\n",
              "\n",
              "    [theme=dark] .colab-df-convert:hover {\n",
              "      background-color: #434B5C;\n",
              "      box-shadow: 0px 1px 3px 1px rgba(0, 0, 0, 0.15);\n",
              "      filter: drop-shadow(0px 1px 2px rgba(0, 0, 0, 0.3));\n",
              "      fill: #FFFFFF;\n",
              "    }\n",
              "  </style>\n",
              "\n",
              "      <script>\n",
              "        const buttonEl =\n",
              "          document.querySelector('#df-14eaed56-470a-4faf-ad96-3146507db38f button.colab-df-convert');\n",
              "        buttonEl.style.display =\n",
              "          google.colab.kernel.accessAllowed ? 'block' : 'none';\n",
              "\n",
              "        async function convertToInteractive(key) {\n",
              "          const element = document.querySelector('#df-14eaed56-470a-4faf-ad96-3146507db38f');\n",
              "          const dataTable =\n",
              "            await google.colab.kernel.invokeFunction('convertToInteractive',\n",
              "                                                     [key], {});\n",
              "          if (!dataTable) return;\n",
              "\n",
              "          const docLinkHtml = 'Like what you see? Visit the ' +\n",
              "            '<a target=\"_blank\" href=https://colab.research.google.com/notebooks/data_table.ipynb>data table notebook</a>'\n",
              "            + ' to learn more about interactive tables.';\n",
              "          element.innerHTML = '';\n",
              "          dataTable['output_type'] = 'display_data';\n",
              "          await google.colab.output.renderOutput(dataTable, element);\n",
              "          const docLink = document.createElement('div');\n",
              "          docLink.innerHTML = docLinkHtml;\n",
              "          element.appendChild(docLink);\n",
              "        }\n",
              "      </script>\n",
              "    </div>\n",
              "  </div>\n",
              "  "
            ]
          },
          "metadata": {},
          "execution_count": 8
        }
      ]
    },
    {
      "cell_type": "code",
      "source": [
        "X.info()"
      ],
      "metadata": {
        "colab": {
          "base_uri": "https://localhost:8080/"
        },
        "id": "ojb5BgN-nw5O",
        "outputId": "71e418ea-9b0e-4d2a-e28e-5becc4dc6f9a"
      },
      "execution_count": null,
      "outputs": [
        {
          "output_type": "stream",
          "name": "stdout",
          "text": [
            "<class 'pandas.core.frame.DataFrame'>\n",
            "RangeIndex: 17658 entries, 0 to 17657\n",
            "Data columns (total 22 columns):\n",
            " #   Column                  Non-Null Count  Dtype  \n",
            "---  ------                  --------------  -----  \n",
            " 0   date                    17658 non-null  object \n",
            " 1   before_product_grade    17658 non-null  object \n",
            " 2   before_special_seat_yn  17658 non-null  int64  \n",
            " 3   before_discount_yn      17658 non-null  int64  \n",
            " 4   before_discount_way     17658 non-null  object \n",
            " 5   before_first_yn         17658 non-null  int64  \n",
            " 6   before_reserve_count    17658 non-null  int64  \n",
            " 7   weekend_yn              17658 non-null  int64  \n",
            " 8   night_yn                17658 non-null  int64  \n",
            " 9   final_yn                17658 non-null  int64  \n",
            " 10  away_team_name          17658 non-null  object \n",
            " 11  before_home_goal        17658 non-null  int64  \n",
            " 12  before_goal_diff        17658 non-null  int64  \n",
            " 13  before_game_result      17658 non-null  float64\n",
            " 14  before_rank             17658 non-null  int64  \n",
            " 15  youtube_count           17658 non-null  int64  \n",
            " 16  youtube_mean_view       17658 non-null  int64  \n",
            " 17  youtube_mean_like       17658 non-null  int64  \n",
            " 18  age_group               17658 non-null  int64  \n",
            " 19  region                  17629 non-null  object \n",
            " 20  job                     15729 non-null  object \n",
            " 21  favorite_idx            17658 non-null  object \n",
            "dtypes: float64(1), int64(14), object(7)\n",
            "memory usage: 3.0+ MB\n"
          ]
        }
      ]
    },
    {
      "cell_type": "code",
      "source": [
        "X.isna().sum()"
      ],
      "metadata": {
        "colab": {
          "base_uri": "https://localhost:8080/"
        },
        "id": "vXQ727u4uZeH",
        "outputId": "830d8d96-68dd-4436-b979-363d95e372bb"
      },
      "execution_count": null,
      "outputs": [
        {
          "output_type": "execute_result",
          "data": {
            "text/plain": [
              "date                         0\n",
              "before_product_grade         0\n",
              "before_special_seat_yn       0\n",
              "before_discount_yn           0\n",
              "before_discount_way          0\n",
              "before_first_yn              0\n",
              "before_reserve_count         0\n",
              "weekend_yn                   0\n",
              "night_yn                     0\n",
              "final_yn                     0\n",
              "away_team_name               0\n",
              "before_home_goal             0\n",
              "before_goal_diff             0\n",
              "before_game_result           0\n",
              "before_rank                  0\n",
              "youtube_count                0\n",
              "youtube_mean_view            0\n",
              "youtube_mean_like            0\n",
              "age_group                    0\n",
              "region                      29\n",
              "job                       1929\n",
              "favorite_idx                 0\n",
              "dtype: int64"
            ]
          },
          "metadata": {},
          "execution_count": 10
        }
      ]
    },
    {
      "cell_type": "code",
      "source": [
        "# region과 job에 결측치가 존재함\n",
        "# region은 인천광역시로 결측치를 일괄적으로 채워주기로 함\n",
        "# job은 age_group과 관련성이 높을 것이므로 age_group별로 가장 많은 비중을 차지하는 job을 할당해주기로 함"
      ],
      "metadata": {
        "id": "vrkxxi37g1EN"
      },
      "execution_count": null,
      "outputs": []
    },
    {
      "cell_type": "code",
      "source": [
        "X['region'] = X['region'].fillna('인천광역시')"
      ],
      "metadata": {
        "id": "udiVapjgiqMx"
      },
      "execution_count": null,
      "outputs": []
    },
    {
      "cell_type": "code",
      "source": [
        "for i in X['age_group'].unique():\n",
        "    X.loc[X['age_group'] == i, 'job'] = X.loc[X['age_group'] == i, 'job'].fillna(X[X['age_group'] == i]['job'].value_counts().index[0])"
      ],
      "metadata": {
        "id": "RUUfUG6yhv08"
      },
      "execution_count": null,
      "outputs": []
    },
    {
      "cell_type": "code",
      "source": [
        "X['date'] = X['date'].str.split('-').str[1].astype(int)\n",
        "X = X.rename(columns={'date':'month'})"
      ],
      "metadata": {
        "id": "0zwhQD5TePgi"
      },
      "execution_count": null,
      "outputs": []
    },
    {
      "cell_type": "code",
      "source": [
        "encoder = OrdinalEncoder()\n",
        "\n",
        "need_encoding = []\n",
        "for i in X.columns:\n",
        "    if type(X.loc[0, i]) == str:\n",
        "        need_encoding.append(i)\n",
        "\n",
        "encoded = encoder.fit_transform(X[need_encoding])"
      ],
      "metadata": {
        "id": "YTw1MzfF8doE"
      },
      "execution_count": null,
      "outputs": []
    },
    {
      "cell_type": "code",
      "source": [
        "encoded = encoded.astype(int)"
      ],
      "metadata": {
        "id": "Z5FZpirtzeaF"
      },
      "execution_count": null,
      "outputs": []
    },
    {
      "cell_type": "code",
      "source": [
        "X_encoded = pd.DataFrame(encoded, columns=need_encoding)"
      ],
      "metadata": {
        "id": "1y44xEHd9gAW"
      },
      "execution_count": null,
      "outputs": []
    },
    {
      "cell_type": "code",
      "source": [
        "X.loc[:, need_encoding] = X_encoded"
      ],
      "metadata": {
        "id": "Mez7u8AL92nu"
      },
      "execution_count": null,
      "outputs": []
    },
    {
      "cell_type": "code",
      "source": [
        "X.hist(figsize=(16,12), bins=8)\n",
        "plt.show()"
      ],
      "metadata": {
        "colab": {
          "base_uri": "https://localhost:8080/"
        },
        "id": "KEKjXO5NoHXu",
        "outputId": "613d018c-6a3f-49b0-f57b-c2ca86b5a71b"
      },
      "execution_count": null,
      "outputs": [
        {
          "output_type": "display_data",
          "data": {
            "text/plain": [
              "<Figure size 1152x864 with 25 Axes>"
            ],
            "image/png": "[encoded data removed]"
          },
          "metadata": {
            "needs_background": "light"
          }
        }
      ]
    },
    {
      "cell_type": "code",
      "source": [
        "y.hist()\n",
        "plt.show()"
      ],
      "metadata": {
        "colab": {
          "base_uri": "https://localhost:8080/"
        },
        "id": "v09DRA8mn-D3",
        "outputId": "78c71ff1-4ba1-4ae6-c869-4c84fbd8933b"
      },
      "execution_count": null,
      "outputs": [
        {
          "output_type": "display_data",
          "data": {
            "text/plain": [
              "<Figure size 432x288 with 1 Axes>"
            ],
            "image/png": "[encoded data removed]"
          },
          "metadata": {
            "needs_background": "light"
          }
        }
      ]
    },
    {
      "cell_type": "code",
      "source": [
        "# 타겟이 다소 불균형함"
      ],
      "metadata": {
        "id": "N4TNx2DuugZ5"
      },
      "execution_count": null,
      "outputs": []
    },
    {
      "cell_type": "markdown",
      "source": [
        "# Feature Select"
      ],
      "metadata": {
        "id": "NI6KJUbjL0hy"
      }
    },
    {
      "cell_type": "markdown",
      "source": [
        "## 1. 직전 경기 결과 및 순위"
      ],
      "metadata": {
        "id": "XY5Fw02oOsZe"
      }
    },
    {
      "cell_type": "code",
      "source": [
        "# 일부 피쳐 드랍\n",
        "X1 = X.drop(['before_product_grade', 'before_special_seat_yn',\n",
        "            'before_discount_yn', 'before_discount_way', 'before_first_yn', 'before_reserve_count',\n",
        "            'youtube_count', 'youtube_mean_view', 'youtube_mean_like'], axis=1)"
      ],
      "metadata": {
        "id": "BkY34d9-KAam"
      },
      "execution_count": null,
      "outputs": []
    },
    {
      "cell_type": "code",
      "source": [
        "X1.columns"
      ],
      "metadata": {
        "colab": {
          "base_uri": "https://localhost:8080/"
        },
        "id": "EwuS7cw0LlNC",
        "outputId": "23835576-f469-4240-a47b-1c99858a77d1"
      },
      "execution_count": null,
      "outputs": [
        {
          "output_type": "execute_result",
          "data": {
            "text/plain": [
              "Index(['month', 'weekend_yn', 'night_yn', 'final_yn', 'away_team_name',\n",
              "       'before_home_goal', 'before_goal_diff', 'before_game_result',\n",
              "       'before_rank', 'age_group', 'region', 'job', 'favorite_idx'],\n",
              "      dtype='object')"
            ]
          },
          "metadata": {},
          "execution_count": 23
        }
      ]
    },
    {
      "cell_type": "code",
      "source": [
        "X_train, X_test, y_train, y_test = train_test_split(X1, y, test_size=0.2, random_state=2, stratify=y, shuffle=True)\n",
        "X_train, X_val, y_train, y_val = train_test_split(X_train, y_train, test_size=0.2, random_state=2, stratify=y_train, shuffle=True)"
      ],
      "metadata": {
        "id": "JDgk9AkYFEYh"
      },
      "execution_count": null,
      "outputs": []
    },
    {
      "cell_type": "code",
      "source": [
        "y_train.shape, y_val.shape, y_test.shape"
      ],
      "metadata": {
        "colab": {
          "base_uri": "https://localhost:8080/"
        },
        "id": "xwJDMyLQntev",
        "outputId": "41cf07f8-2cde-46f9-a3e8-58eb8f74c6be"
      },
      "execution_count": null,
      "outputs": [
        {
          "output_type": "execute_result",
          "data": {
            "text/plain": [
              "((11300,), (2826,), (3532,))"
            ]
          },
          "metadata": {},
          "execution_count": 25
        }
      ]
    },
    {
      "cell_type": "code",
      "source": [
        "score_list1 = []"
      ],
      "metadata": {
        "id": "gLLIsCqXMZJP"
      },
      "execution_count": null,
      "outputs": []
    },
    {
      "cell_type": "code",
      "source": [
        "rfc = RandomForestClassifier(random_state=2)\n",
        "\n",
        "rfc.fit(X_train, y_train)\n",
        "\n",
        "rfc_pred = rfc.predict(X_val)\n",
        "rfc_prob = rfc.predict_proba(X_val)[:,1]\n",
        "\n",
        "score_list1.append(roc_auc_score(y_val, rfc_prob))\n",
        "\n",
        "print('RandomForestClassifier')\n",
        "print('roc_auc_score :', roc_auc_score(y_val, rfc_prob), '\\n')\n",
        "print('classification_report', '\\n', classification_report(y_val, rfc_pred))"
      ],
      "metadata": {
        "colab": {
          "base_uri": "https://localhost:8080/"
        },
        "id": "t-zfeUHwvonZ",
        "outputId": "7049ace6-9e1e-4909-9699-a5187721b724"
      },
      "execution_count": null,
      "outputs": [
        {
          "output_type": "stream",
          "name": "stdout",
          "text": [
            "RandomForestClassifier\n",
            "roc_auc_score : 0.5740615993518654 \n",
            "\n",
            "classification_report \n",
            "               precision    recall  f1-score   support\n",
            "\n",
            "           0       0.66      0.72      0.69      1751\n",
            "           1       0.46      0.39      0.42      1075\n",
            "\n",
            "    accuracy                           0.59      2826\n",
            "   macro avg       0.56      0.55      0.55      2826\n",
            "weighted avg       0.58      0.59      0.59      2826\n",
            "\n"
          ]
        }
      ]
    },
    {
      "cell_type": "code",
      "source": [
        "xgc = XGBClassifier(random_state=42)\n",
        "\n",
        "xgc.fit(X_train, y_train)\n",
        "\n",
        "xgc_pred = xgc.predict(X_val)\n",
        "xgc_prob = xgc.predict_proba(X_val)[:,1]\n",
        "\n",
        "score_list1.append(roc_auc_score(y_val, xgc_prob))\n",
        "\n",
        "print('XGBClassifier')\n",
        "print('roc_auc_score :', roc_auc_score(y_val, xgc_prob), '\\n')\n",
        "print('classification_report', '\\n', classification_report(y_val, xgc_pred))"
      ],
      "metadata": {
        "colab": {
          "base_uri": "https://localhost:8080/"
        },
        "id": "JnEX6AMmwCe6",
        "outputId": "68b749ac-42a1-4ec6-f8d3-c0ef67a00715"
      },
      "execution_count": null,
      "outputs": [
        {
          "output_type": "stream",
          "name": "stdout",
          "text": [
            "XGBClassifier\n",
            "roc_auc_score : 0.656519995218679 \n",
            "\n",
            "classification_report \n",
            "               precision    recall  f1-score   support\n",
            "\n",
            "           0       0.66      0.86      0.75      1751\n",
            "           1       0.55      0.28      0.37      1075\n",
            "\n",
            "    accuracy                           0.64      2826\n",
            "   macro avg       0.61      0.57      0.56      2826\n",
            "weighted avg       0.62      0.64      0.60      2826\n",
            "\n"
          ]
        }
      ]
    },
    {
      "cell_type": "code",
      "source": [
        "lgc = LGBMClassifier(random_state=42)\n",
        "\n",
        "lgc.fit(X_train, y_train)\n",
        "\n",
        "lgc_pred = lgc.predict(X_val)\n",
        "lgc_prob = lgc.predict_proba(X_val)[:,1]\n",
        "\n",
        "score_list1.append(roc_auc_score(y_val, lgc_prob))\n",
        "\n",
        "print('LGBMClassifier')\n",
        "print('roc_auc_score :', roc_auc_score(y_val, lgc_prob), '\\n')\n",
        "print('classification_report', '\\n', classification_report(y_val, lgc_pred))"
      ],
      "metadata": {
        "colab": {
          "base_uri": "https://localhost:8080/"
        },
        "id": "hM0z9SyJwM_C",
        "outputId": "1b62fb90-cf19-47c0-c1ad-a72b89f27dec"
      },
      "execution_count": null,
      "outputs": [
        {
          "output_type": "stream",
          "name": "stdout",
          "text": [
            "LGBMClassifier\n",
            "roc_auc_score : 0.6678222411113914 \n",
            "\n",
            "classification_report \n",
            "               precision    recall  f1-score   support\n",
            "\n",
            "           0       0.67      0.83      0.74      1751\n",
            "           1       0.55      0.34      0.42      1075\n",
            "\n",
            "    accuracy                           0.64      2826\n",
            "   macro avg       0.61      0.59      0.58      2826\n",
            "weighted avg       0.63      0.64      0.62      2826\n",
            "\n"
          ]
        }
      ]
    },
    {
      "cell_type": "code",
      "source": [
        "print('RandomForestClassifier :', score_list1[0])\n",
        "print('XGBClassifier :', score_list1[1])\n",
        "print('LGBMClassifier :', score_list1[2])"
      ],
      "metadata": {
        "colab": {
          "base_uri": "https://localhost:8080/"
        },
        "id": "WgvPhAAvMpTt",
        "outputId": "7832663b-082b-4dbe-b6b3-6f738d1b5b92"
      },
      "execution_count": null,
      "outputs": [
        {
          "output_type": "stream",
          "name": "stdout",
          "text": [
            "RandomForestClassifier : 0.5740615993518654\n",
            "XGBClassifier : 0.656519995218679\n",
            "LGBMClassifier : 0.6678222411113914\n"
          ]
        }
      ]
    },
    {
      "cell_type": "markdown",
      "source": [
        "## 2. 직전 경기 결과 및 순위 + 유튜브"
      ],
      "metadata": {
        "id": "1c1bIBgcNLif"
      }
    },
    {
      "cell_type": "code",
      "source": [
        "# 일부 피쳐 드랍\n",
        "X2 = X.drop(['before_product_grade', 'before_special_seat_yn',\n",
        "            'before_discount_yn', 'before_discount_way', 'before_first_yn', 'before_reserve_count'], axis=1)"
      ],
      "metadata": {
        "id": "EJZymfIyNLig"
      },
      "execution_count": null,
      "outputs": []
    },
    {
      "cell_type": "code",
      "source": [
        "X2.columns"
      ],
      "metadata": {
        "colab": {
          "base_uri": "https://localhost:8080/"
        },
        "outputId": "d45a5ad5-d62a-4040-93c5-ee2ce657b097",
        "id": "ycPfTy6XNLig"
      },
      "execution_count": null,
      "outputs": [
        {
          "output_type": "execute_result",
          "data": {
            "text/plain": [
              "Index(['month', 'weekend_yn', 'night_yn', 'final_yn', 'away_team_name',\n",
              "       'before_home_goal', 'before_goal_diff', 'before_game_result',\n",
              "       'before_rank', 'youtube_count', 'youtube_mean_view',\n",
              "       'youtube_mean_like', 'age_group', 'region', 'job', 'favorite_idx'],\n",
              "      dtype='object')"
            ]
          },
          "metadata": {},
          "execution_count": 32
        }
      ]
    },
    {
      "cell_type": "code",
      "source": [
        "X_train, X_test, y_train, y_test = train_test_split(X2, y, test_size=0.2, random_state=2, stratify=y, shuffle=True)\n",
        "X_train, X_val, y_train, y_val = train_test_split(X_train, y_train, test_size=0.2, random_state=2, stratify=y_train, shuffle=True)"
      ],
      "metadata": {
        "id": "p-DNgA0uNLih"
      },
      "execution_count": null,
      "outputs": []
    },
    {
      "cell_type": "code",
      "source": [
        "score_list2 = []"
      ],
      "metadata": {
        "id": "CRPevowDNLih"
      },
      "execution_count": null,
      "outputs": []
    },
    {
      "cell_type": "code",
      "source": [
        "rfc = RandomForestClassifier(random_state=2)\n",
        "\n",
        "rfc.fit(X_train, y_train)\n",
        "\n",
        "rfc_pred = rfc.predict(X_val)\n",
        "rfc_prob = rfc.predict_proba(X_val)[:,1]\n",
        "\n",
        "score_list2.append(roc_auc_score(y_val, rfc_prob))\n",
        "\n",
        "print('RandomForestClassifier')\n",
        "print('roc_auc_score :', roc_auc_score(y_val, rfc_prob), '\\n')\n",
        "print('classification_report', '\\n', classification_report(y_val, rfc_pred))"
      ],
      "metadata": {
        "colab": {
          "base_uri": "https://localhost:8080/"
        },
        "outputId": "70c5c959-1da6-45b1-fa4f-1aaadf7d172a",
        "id": "XG5TeIIANLii"
      },
      "execution_count": null,
      "outputs": [
        {
          "output_type": "stream",
          "name": "stdout",
          "text": [
            "RandomForestClassifier\n",
            "roc_auc_score : 0.5769606736349993 \n",
            "\n",
            "classification_report \n",
            "               precision    recall  f1-score   support\n",
            "\n",
            "           0       0.66      0.72      0.69      1751\n",
            "           1       0.46      0.38      0.42      1075\n",
            "\n",
            "    accuracy                           0.59      2826\n",
            "   macro avg       0.56      0.55      0.55      2826\n",
            "weighted avg       0.58      0.59      0.59      2826\n",
            "\n"
          ]
        }
      ]
    },
    {
      "cell_type": "code",
      "source": [
        "xgc = XGBClassifier(random_state=2)\n",
        "\n",
        "xgc.fit(X_train, y_train)\n",
        "\n",
        "xgc_pred = xgc.predict(X_val)\n",
        "xgc_prob = xgc.predict_proba(X_val)[:,1]\n",
        "\n",
        "score_list2.append(roc_auc_score(y_val, xgc_prob))\n",
        "\n",
        "print('XGBClassifier')\n",
        "print('roc_auc_score :', roc_auc_score(y_val, xgc_prob), '\\n')\n",
        "print('classification_report', '\\n', classification_report(y_val, xgc_pred))"
      ],
      "metadata": {
        "colab": {
          "base_uri": "https://localhost:8080/"
        },
        "outputId": "d10a36b9-80a9-450e-feae-87e5290712ad",
        "id": "60JXuf5RNLii"
      },
      "execution_count": null,
      "outputs": [
        {
          "output_type": "stream",
          "name": "stdout",
          "text": [
            "XGBClassifier\n",
            "roc_auc_score : 0.6561680368692973 \n",
            "\n",
            "classification_report \n",
            "               precision    recall  f1-score   support\n",
            "\n",
            "           0       0.66      0.85      0.75      1751\n",
            "           1       0.56      0.30      0.39      1075\n",
            "\n",
            "    accuracy                           0.64      2826\n",
            "   macro avg       0.61      0.58      0.57      2826\n",
            "weighted avg       0.62      0.64      0.61      2826\n",
            "\n"
          ]
        }
      ]
    },
    {
      "cell_type": "code",
      "source": [
        "lgc = LGBMClassifier(random_state=2)\n",
        "\n",
        "lgc.fit(X_train, y_train)\n",
        "\n",
        "lgc_pred = lgc.predict(X_val)\n",
        "lgc_prob = lgc.predict_proba(X_val)[:,1]\n",
        "\n",
        "score_list2.append(roc_auc_score(y_val, lgc_prob))\n",
        "\n",
        "print('LGBMClassifier')\n",
        "print('roc_auc_score :', roc_auc_score(y_val, lgc_prob), '\\n')\n",
        "print('classification_report', '\\n', classification_report(y_val, lgc_pred))"
      ],
      "metadata": {
        "colab": {
          "base_uri": "https://localhost:8080/"
        },
        "outputId": "84343e96-25f5-45ad-9d40-58b4f9cfa430",
        "id": "Zqo5STBQNLii"
      },
      "execution_count": null,
      "outputs": [
        {
          "output_type": "stream",
          "name": "stdout",
          "text": [
            "LGBMClassifier\n",
            "roc_auc_score : 0.6687522080405881 \n",
            "\n",
            "classification_report \n",
            "               precision    recall  f1-score   support\n",
            "\n",
            "           0       0.67      0.83      0.74      1751\n",
            "           1       0.55      0.34      0.42      1075\n",
            "\n",
            "    accuracy                           0.64      2826\n",
            "   macro avg       0.61      0.59      0.58      2826\n",
            "weighted avg       0.63      0.64      0.62      2826\n",
            "\n"
          ]
        }
      ]
    },
    {
      "cell_type": "code",
      "source": [
        "print('RandomForestClassifier :', score_list2[0])\n",
        "print('XGBClassifier :', score_list2[1])\n",
        "print('LGBMClassifier :', score_list2[2])"
      ],
      "metadata": {
        "colab": {
          "base_uri": "https://localhost:8080/"
        },
        "outputId": "c3faddd8-1301-4a81-a1f0-31b3ecc0934e",
        "id": "kgr7L-2ZNLii"
      },
      "execution_count": null,
      "outputs": [
        {
          "output_type": "stream",
          "name": "stdout",
          "text": [
            "RandomForestClassifier : 0.5769606736349993\n",
            "XGBClassifier : 0.6561680368692973\n",
            "LGBMClassifier : 0.6687522080405881\n"
          ]
        }
      ]
    },
    {
      "cell_type": "markdown",
      "source": [
        "## 3. 직전 경기 결과 및 순위 + 직전 예매 특성"
      ],
      "metadata": {
        "id": "VHXmhrbvM3Rh"
      }
    },
    {
      "cell_type": "code",
      "source": [
        "# 일부 피쳐 드랍\n",
        "X3 = X.drop(['youtube_count', 'youtube_mean_view', 'youtube_mean_like'], axis=1)"
      ],
      "metadata": {
        "id": "k0GZ-5FzM3Rh"
      },
      "execution_count": null,
      "outputs": []
    },
    {
      "cell_type": "code",
      "source": [
        "X3.columns"
      ],
      "metadata": {
        "colab": {
          "base_uri": "https://localhost:8080/"
        },
        "outputId": "3fbbab9e-08cf-4b72-ab34-155091e0f07a",
        "id": "ICcHUqolM3Rh"
      },
      "execution_count": null,
      "outputs": [
        {
          "output_type": "execute_result",
          "data": {
            "text/plain": [
              "Index(['month', 'before_product_grade', 'before_special_seat_yn',\n",
              "       'before_discount_yn', 'before_discount_way', 'before_first_yn',\n",
              "       'before_reserve_count', 'weekend_yn', 'night_yn', 'final_yn',\n",
              "       'away_team_name', 'before_home_goal', 'before_goal_diff',\n",
              "       'before_game_result', 'before_rank', 'age_group', 'region', 'job',\n",
              "       'favorite_idx'],\n",
              "      dtype='object')"
            ]
          },
          "metadata": {},
          "execution_count": 40
        }
      ]
    },
    {
      "cell_type": "code",
      "source": [
        "X_train, X_test, y_train, y_test = train_test_split(X3, y, test_size=0.2, random_state=2, stratify=y, shuffle=True)\n",
        "X_train, X_val, y_train, y_val = train_test_split(X_train, y_train, test_size=0.2, random_state=2, stratify=y_train, shuffle=True)"
      ],
      "metadata": {
        "id": "HWlFSEqeM3Ri"
      },
      "execution_count": null,
      "outputs": []
    },
    {
      "cell_type": "code",
      "source": [
        "score_list3 = []"
      ],
      "metadata": {
        "id": "tZ4Jwc4XM3Rj"
      },
      "execution_count": null,
      "outputs": []
    },
    {
      "cell_type": "code",
      "source": [
        "rfc = RandomForestClassifier(random_state=2)\n",
        "\n",
        "rfc.fit(X_train, y_train)\n",
        "\n",
        "rfc_pred = rfc.predict(X_val)\n",
        "rfc_prob = rfc.predict_proba(X_val)[:,1]\n",
        "\n",
        "score_list3.append(roc_auc_score(y_val, rfc_prob))\n",
        "\n",
        "print('RandomForestClassifier')\n",
        "print('roc_auc_score :', roc_auc_score(y_val, rfc_prob), '\\n')\n",
        "print('classification_report', '\\n', classification_report(y_val, rfc_pred))"
      ],
      "metadata": {
        "colab": {
          "base_uri": "https://localhost:8080/"
        },
        "outputId": "8e2274c3-7158-49b0-f666-119019a8417b",
        "id": "cEjWq1EEM3Rj"
      },
      "execution_count": null,
      "outputs": [
        {
          "output_type": "stream",
          "name": "stdout",
          "text": [
            "RandomForestClassifier\n",
            "roc_auc_score : 0.7352723360737387 \n",
            "\n",
            "classification_report \n",
            "               precision    recall  f1-score   support\n",
            "\n",
            "           0       0.74      0.78      0.76      1751\n",
            "           1       0.61      0.55      0.58      1075\n",
            "\n",
            "    accuracy                           0.70      2826\n",
            "   macro avg       0.68      0.67      0.67      2826\n",
            "weighted avg       0.69      0.70      0.69      2826\n",
            "\n"
          ]
        }
      ]
    },
    {
      "cell_type": "code",
      "source": [
        "xgc = XGBClassifier(random_state=2)\n",
        "\n",
        "xgc.fit(X_train, y_train)\n",
        "\n",
        "xgc_pred = xgc.predict(X_val)\n",
        "xgc_prob = xgc.predict_proba(X_val)[:,1]\n",
        "\n",
        "score_list3.append(roc_auc_score(y_val, xgc_prob))\n",
        "\n",
        "print('XGBClassifier')\n",
        "print('roc_auc_score :', roc_auc_score(y_val, xgc_prob), '\\n')\n",
        "print('classification_report', '\\n', classification_report(y_val, xgc_pred))"
      ],
      "metadata": {
        "colab": {
          "base_uri": "https://localhost:8080/"
        },
        "outputId": "d05d7f13-04f3-4b78-cdba-bd246db56822",
        "id": "mdEyftZ-M3Rj"
      },
      "execution_count": null,
      "outputs": [
        {
          "output_type": "stream",
          "name": "stdout",
          "text": [
            "XGBClassifier\n",
            "roc_auc_score : 0.7827343843385175 \n",
            "\n",
            "classification_report \n",
            "               precision    recall  f1-score   support\n",
            "\n",
            "           0       0.75      0.81      0.78      1751\n",
            "           1       0.65      0.57      0.61      1075\n",
            "\n",
            "    accuracy                           0.72      2826\n",
            "   macro avg       0.70      0.69      0.70      2826\n",
            "weighted avg       0.72      0.72      0.72      2826\n",
            "\n"
          ]
        }
      ]
    },
    {
      "cell_type": "code",
      "source": [
        "lgc = LGBMClassifier(random_state=2)\n",
        "\n",
        "lgc.fit(X_train, y_train)\n",
        "\n",
        "lgc_pred = lgc.predict(X_val)\n",
        "lgc_prob = lgc.predict_proba(X_val)[:,1]\n",
        "\n",
        "score_list3.append(roc_auc_score(y_val, lgc_prob))\n",
        "\n",
        "print('LGBMClassifier')\n",
        "print('roc_auc_score :', roc_auc_score(y_val, lgc_prob), '\\n')\n",
        "print('classification_report', '\\n', classification_report(y_val, lgc_pred))"
      ],
      "metadata": {
        "colab": {
          "base_uri": "https://localhost:8080/"
        },
        "outputId": "c2d3cf5e-34c7-4895-fd30-2ecd9a49ca48",
        "id": "qZZp2bUdM3Rj"
      },
      "execution_count": null,
      "outputs": [
        {
          "output_type": "stream",
          "name": "stdout",
          "text": [
            "LGBMClassifier\n",
            "roc_auc_score : 0.7813836611637205 \n",
            "\n",
            "classification_report \n",
            "               precision    recall  f1-score   support\n",
            "\n",
            "           0       0.76      0.82      0.79      1751\n",
            "           1       0.67      0.57      0.61      1075\n",
            "\n",
            "    accuracy                           0.73      2826\n",
            "   macro avg       0.71      0.70      0.70      2826\n",
            "weighted avg       0.72      0.73      0.72      2826\n",
            "\n"
          ]
        }
      ]
    },
    {
      "cell_type": "code",
      "source": [
        "print('RandomForestClassifier :', score_list3[0])\n",
        "print('XGBClassifier :', score_list3[1])\n",
        "print('LGBMClassifier :', score_list3[2])"
      ],
      "metadata": {
        "colab": {
          "base_uri": "https://localhost:8080/"
        },
        "outputId": "2b49f8e6-7172-4a9c-c906-02bbfc703598",
        "id": "eW7blWaqM3Rj"
      },
      "execution_count": null,
      "outputs": [
        {
          "output_type": "stream",
          "name": "stdout",
          "text": [
            "RandomForestClassifier : 0.7352723360737387\n",
            "XGBClassifier : 0.7827343843385175\n",
            "LGBMClassifier : 0.7813836611637205\n"
          ]
        }
      ]
    },
    {
      "cell_type": "markdown",
      "source": [
        "## 4. 직전 경기 결과 및 순위 + 직전 예매 특성 + 유튜브"
      ],
      "metadata": {
        "id": "DSvITrrJNOjY"
      }
    },
    {
      "cell_type": "code",
      "source": [
        "X4 = X.copy()"
      ],
      "metadata": {
        "id": "G4mpr-MWzxxD"
      },
      "execution_count": null,
      "outputs": []
    },
    {
      "cell_type": "code",
      "source": [
        "X4.columns"
      ],
      "metadata": {
        "colab": {
          "base_uri": "https://localhost:8080/"
        },
        "id": "hRe_PP2HtmVX",
        "outputId": "b0f6e49f-7286-42be-ed72-37189cc75947"
      },
      "execution_count": null,
      "outputs": [
        {
          "output_type": "execute_result",
          "data": {
            "text/plain": [
              "Index(['month', 'before_product_grade', 'before_special_seat_yn',\n",
              "       'before_discount_yn', 'before_discount_way', 'before_first_yn',\n",
              "       'before_reserve_count', 'weekend_yn', 'night_yn', 'final_yn',\n",
              "       'away_team_name', 'before_home_goal', 'before_goal_diff',\n",
              "       'before_game_result', 'before_rank', 'youtube_count',\n",
              "       'youtube_mean_view', 'youtube_mean_like', 'age_group', 'region', 'job',\n",
              "       'favorite_idx'],\n",
              "      dtype='object')"
            ]
          },
          "metadata": {},
          "execution_count": 48
        }
      ]
    },
    {
      "cell_type": "code",
      "source": [
        "X_train, X_test, y_train, y_test = train_test_split(X4, y, test_size=0.2, random_state=2, stratify=y, shuffle=True)\n",
        "X_train, X_val, y_train, y_val = train_test_split(X_train, y_train, test_size=0.2, random_state=2, stratify=y_train, shuffle=True)"
      ],
      "metadata": {
        "id": "RRbVws6fNOja"
      },
      "execution_count": null,
      "outputs": []
    },
    {
      "cell_type": "code",
      "source": [
        "score_list4 = []"
      ],
      "metadata": {
        "id": "sv4eprCFNOja"
      },
      "execution_count": null,
      "outputs": []
    },
    {
      "cell_type": "code",
      "source": [
        "rfc = RandomForestClassifier(random_state=2)\n",
        "\n",
        "rfc.fit(X_train, y_train)\n",
        "\n",
        "rfc_pred = rfc.predict(X_val)\n",
        "rfc_prob = rfc.predict_proba(X_val)[:,1]\n",
        "\n",
        "score_list4.append(roc_auc_score(y_val, rfc_prob))\n",
        "\n",
        "print('RandomForestClassifier')\n",
        "print('roc_auc_score :', roc_auc_score(y_val, rfc_prob), '\\n')\n",
        "print('classification_report', '\\n', classification_report(y_val, rfc_pred))"
      ],
      "metadata": {
        "colab": {
          "base_uri": "https://localhost:8080/"
        },
        "outputId": "208367fd-d34e-4451-a139-07498b5f11fb",
        "id": "gA6mxp3sNOjb"
      },
      "execution_count": null,
      "outputs": [
        {
          "output_type": "stream",
          "name": "stdout",
          "text": [
            "RandomForestClassifier\n",
            "roc_auc_score : 0.7353929316138287 \n",
            "\n",
            "classification_report \n",
            "               precision    recall  f1-score   support\n",
            "\n",
            "           0       0.74      0.78      0.76      1751\n",
            "           1       0.60      0.54      0.57      1075\n",
            "\n",
            "    accuracy                           0.69      2826\n",
            "   macro avg       0.67      0.66      0.66      2826\n",
            "weighted avg       0.69      0.69      0.69      2826\n",
            "\n"
          ]
        }
      ]
    },
    {
      "cell_type": "code",
      "source": [
        "xgc = XGBClassifier(random_state=2)\n",
        "\n",
        "xgc.fit(X_train, y_train)\n",
        "\n",
        "xgc_pred = xgc.predict(X_val)\n",
        "xgc_prob = xgc.predict_proba(X_val)[:,1]\n",
        "\n",
        "score_list4.append(roc_auc_score(y_val, xgc_prob))\n",
        "\n",
        "print('XGBClassifier')\n",
        "print('roc_auc_score :', roc_auc_score(y_val, xgc_prob), '\\n')\n",
        "print('classification_report', '\\n', classification_report(y_val, xgc_pred))"
      ],
      "metadata": {
        "colab": {
          "base_uri": "https://localhost:8080/"
        },
        "outputId": "0cb9c237-3c5d-4b3e-e404-d98e583f4fbd",
        "id": "-q_dO7LVNOjb"
      },
      "execution_count": null,
      "outputs": [
        {
          "output_type": "stream",
          "name": "stdout",
          "text": [
            "XGBClassifier\n",
            "roc_auc_score : 0.7848304623271751 \n",
            "\n",
            "classification_report \n",
            "               precision    recall  f1-score   support\n",
            "\n",
            "           0       0.76      0.82      0.79      1751\n",
            "           1       0.66      0.57      0.61      1075\n",
            "\n",
            "    accuracy                           0.72      2826\n",
            "   macro avg       0.71      0.69      0.70      2826\n",
            "weighted avg       0.72      0.72      0.72      2826\n",
            "\n"
          ]
        }
      ]
    },
    {
      "cell_type": "code",
      "source": [
        "lgc = LGBMClassifier(random_state=2)\n",
        "\n",
        "lgc.fit(X_train, y_train)\n",
        "\n",
        "lgc_pred = lgc.predict(X_val)\n",
        "lgc_prob = lgc.predict_proba(X_val)[:,1]\n",
        "\n",
        "score_list4.append(roc_auc_score(y_val, lgc_prob))\n",
        "\n",
        "print('LGBMClassifier')\n",
        "print('roc_auc_score :', roc_auc_score(y_val, lgc_prob), '\\n')\n",
        "print('classification_report', '\\n', classification_report(y_val, lgc_pred))"
      ],
      "metadata": {
        "colab": {
          "base_uri": "https://localhost:8080/"
        },
        "outputId": "a0db2273-6624-4999-9d4b-f69fb84a3793",
        "id": "hSDP8Ib0NOjb"
      },
      "execution_count": null,
      "outputs": [
        {
          "output_type": "stream",
          "name": "stdout",
          "text": [
            "LGBMClassifier\n",
            "roc_auc_score : 0.7807262295299696 \n",
            "\n",
            "classification_report \n",
            "               precision    recall  f1-score   support\n",
            "\n",
            "           0       0.76      0.81      0.78      1751\n",
            "           1       0.65      0.57      0.61      1075\n",
            "\n",
            "    accuracy                           0.72      2826\n",
            "   macro avg       0.70      0.69      0.70      2826\n",
            "weighted avg       0.72      0.72      0.72      2826\n",
            "\n"
          ]
        }
      ]
    },
    {
      "cell_type": "code",
      "source": [
        "print('RandomForestClassifier :', score_list4[0])\n",
        "print('XGBClassifier :', score_list4[1])\n",
        "print('LGBMClassifier :', score_list4[2])"
      ],
      "metadata": {
        "colab": {
          "base_uri": "https://localhost:8080/"
        },
        "outputId": "02403cfd-4a91-4b38-d73c-516e095081d4",
        "id": "mBP8qe_XNOjb"
      },
      "execution_count": null,
      "outputs": [
        {
          "output_type": "stream",
          "name": "stdout",
          "text": [
            "RandomForestClassifier : 0.7353929316138287\n",
            "XGBClassifier : 0.7848304623271751\n",
            "LGBMClassifier : 0.7807262295299696\n"
          ]
        }
      ]
    },
    {
      "cell_type": "markdown",
      "source": [
        "## 스코어 비교"
      ],
      "metadata": {
        "id": "ZP2lMl4kO9Ni"
      }
    },
    {
      "cell_type": "code",
      "source": [
        "print(sum(score_list1)/3)\n",
        "print(sum(score_list2)/3)\n",
        "print(sum(score_list3)/3)\n",
        "print(sum(score_list4)/3)"
      ],
      "metadata": {
        "colab": {
          "base_uri": "https://localhost:8080/"
        },
        "id": "y7qX6lfVOUeS",
        "outputId": "bf623f0a-393b-4154-96a8-5c27773c427d"
      },
      "execution_count": null,
      "outputs": [
        {
          "output_type": "stream",
          "name": "stdout",
          "text": [
            "0.6328012785606453\n",
            "0.6339603061816282\n",
            "0.7664634605253257\n",
            "0.7669832078236579\n"
          ]
        }
      ]
    },
    {
      "cell_type": "code",
      "source": [
        "print(score_list1)\n",
        "print(score_list2)\n",
        "print(score_list3)\n",
        "print(score_list4)"
      ],
      "metadata": {
        "colab": {
          "base_uri": "https://localhost:8080/"
        },
        "id": "lrZMJR9BOKB3",
        "outputId": "20435b70-d3c6-40f4-cd4c-936c78783185"
      },
      "execution_count": null,
      "outputs": [
        {
          "output_type": "stream",
          "name": "stdout",
          "text": [
            "[0.5740615993518654, 0.656519995218679, 0.6678222411113914]\n",
            "[0.5769606736349993, 0.6561680368692973, 0.6687522080405881]\n",
            "[0.7352723360737387, 0.7827343843385175, 0.7813836611637205]\n",
            "[0.7353929316138287, 0.7848304623271751, 0.7807262295299696]\n"
          ]
        }
      ]
    },
    {
      "cell_type": "code",
      "source": [
        "# 모든 특성을 넣었을 때(X4), xgboost의 점수가 가장 높다."
      ],
      "metadata": {
        "id": "kTXU-iwVkZSJ"
      },
      "execution_count": null,
      "outputs": []
    },
    {
      "cell_type": "markdown",
      "source": [
        "# Hyper Parameter Tuning"
      ],
      "metadata": {
        "id": "40GQ0npLwzkX"
      }
    },
    {
      "cell_type": "code",
      "source": [
        "X_train, X_test, y_train, y_test = train_test_split(X4, y, test_size=0.2, random_state=2, stratify=y, shuffle=True)\n",
        "X_train, X_val, y_train, y_val = train_test_split(X_train, y_train, test_size=0.2, random_state=2, stratify=y_train, shuffle=True)"
      ],
      "metadata": {
        "id": "F90EllejVinr"
      },
      "execution_count": null,
      "outputs": []
    },
    {
      "cell_type": "code",
      "source": [
        "def objective(trial):\n",
        "  param = {\n",
        "      \"random_state\" : 2,\n",
        "      \"objective\" : \"binary:logistic\",\n",
        "      \"eval_metric\" : \"auc\",\n",
        "      \"learning_rate\" : trial.suggest_float(\"learning_rate\", 0.01, 0.3),\n",
        "      \"n_estimators\":trial.suggest_int(\"n_estimators\", 100, 2000),\n",
        "      \"max_depth\":trial.suggest_int(\"max_depth\", 4, 10),\n",
        "      \"colsample_bytree\": trial.suggest_float(\"colsample_bytree\", 0.4, 1.0),\n",
        "      \"scale_pos_weight\": trial.suggest_float(\"scale_pos_weight\", 1.0, 8.0),\n",
        "      \"reg_lambda\": trial.suggest_float(\"reg_lambda\", 1e-2, 1),\n",
        "      \"reg_alpha\": trial.suggest_float(\"reg_alpha\", 1e-2, 1),\n",
        "      'subsample': trial.suggest_float('subsample', 0.5, 1.0),\n",
        "  }\n",
        "\n",
        "  xgc = XGBClassifier(**param)\n",
        "  xgc.fit(X_train, y_train,\n",
        "          eval_set=[(X_train, y_train), (X_val,y_val)],\n",
        "          early_stopping_rounds=100,\n",
        "          verbose=100)\n",
        "  xgc_prob = xgc.predict_proba(X_val)[:,1]\n",
        "  roc_auc = roc_auc_score(y_val, xgc_prob)\n",
        "\n",
        "  return roc_auc\n",
        "\n",
        "sampler = TPESampler(seed=42)\n",
        "study = optuna.create_study(\n",
        "    study_name = 'xgc_parameter_opt',\n",
        "    direction = 'maximize',\n",
        "    sampler = sampler,\n",
        ")\n",
        "study.optimize(objective, n_trials=30)\n",
        "print(\"Best Score:\",study.best_value)\n",
        "print(\"Best trial\",study.best_trial.params)"
      ],
      "metadata": {
        "colab": {
          "base_uri": "https://localhost:8080/"
        },
        "id": "F-M7ez7Xw1ch",
        "outputId": "70db7675-c4f9-42c0-8d79-8627ff8c4182"
      },
      "execution_count": null,
      "outputs": [
        {
          "output_type": "stream",
          "name": "stderr",
          "text": [
            "\u001b[32m[I 2023-02-14 20:18:31,922]\u001b[0m A new study created in memory with name: xgc_parameter_opt\u001b[0m\n"
          ]
        },
        {
          "output_type": "stream",
          "name": "stdout",
          "text": [
            "[0]\tvalidation_0-auc:0.815223\tvalidation_1-auc:0.744091\n",
            "Multiple eval metrics have been passed: 'validation_1-auc' will be used for early stopping.\n",
            "\n",
            "Will train until validation_1-auc hasn't improved in 100 rounds.\n",
            "[100]\tvalidation_0-auc:0.971072\tvalidation_1-auc:0.763041\n",
            "Stopping. Best iteration:\n",
            "[39]\tvalidation_0-auc:0.928899\tvalidation_1-auc:0.77548\n",
            "\n"
          ]
        },
        {
          "output_type": "stream",
          "name": "stderr",
          "text": [
            "\u001b[32m[I 2023-02-14 20:18:36,033]\u001b[0m Trial 0 finished with value: 0.7754795266492237 and parameters: {'learning_rate': 0.11861663446573512, 'n_estimators': 1907, 'max_depth': 9, 'colsample_bytree': 0.759195090518222, 'scale_pos_weight': 2.0921304830970557, 'reg_lambda': 0.16443457513284063, 'reg_alpha': 0.06750277604651747, 'subsample': 0.9330880728874675}. Best is trial 0 with value: 0.7754795266492237.\u001b[0m\n"
          ]
        },
        {
          "output_type": "stream",
          "name": "stdout",
          "text": [
            "[0]\tvalidation_0-auc:0.75238\tvalidation_1-auc:0.753267\n",
            "Multiple eval metrics have been passed: 'validation_1-auc' will be used for early stopping.\n",
            "\n",
            "Will train until validation_1-auc hasn't improved in 100 rounds.\n",
            "[100]\tvalidation_0-auc:0.833693\tvalidation_1-auc:0.777385\n",
            "Stopping. Best iteration:\n",
            "[30]\tvalidation_0-auc:0.803049\tvalidation_1-auc:0.781566\n",
            "\n"
          ]
        },
        {
          "output_type": "stream",
          "name": "stderr",
          "text": [
            "\u001b[32m[I 2023-02-14 20:18:38,455]\u001b[0m Trial 1 finished with value: 0.781566148247513 and parameters: {'learning_rate': 0.18432335340553055, 'n_estimators': 1446, 'max_depth': 4, 'colsample_bytree': 0.9819459112971965, 'scale_pos_weight': 6.827098485602952, 'reg_lambda': 0.2202157195714934, 'reg_alpha': 0.19000671753502962, 'subsample': 0.5917022549267169}. Best is trial 1 with value: 0.781566148247513.\u001b[0m\n"
          ]
        },
        {
          "output_type": "stream",
          "name": "stdout",
          "text": [
            "[0]\tvalidation_0-auc:0.778345\tvalidation_1-auc:0.756454\n",
            "Multiple eval metrics have been passed: 'validation_1-auc' will be used for early stopping.\n",
            "\n",
            "Will train until validation_1-auc hasn't improved in 100 rounds.\n",
            "[100]\tvalidation_0-auc:0.891212\tvalidation_1-auc:0.773683\n",
            "Stopping. Best iteration:\n",
            "[45]\tvalidation_0-auc:0.855433\tvalidation_1-auc:0.781757\n",
            "\n"
          ]
        },
        {
          "output_type": "stream",
          "name": "stderr",
          "text": [
            "\u001b[32m[I 2023-02-14 20:18:42,131]\u001b[0m Trial 2 finished with value: 0.7817571354574795 and parameters: {'learning_rate': 0.09823025045826593, 'n_estimators': 1097, 'max_depth': 7, 'colsample_bytree': 0.5747374841188252, 'scale_pos_weight': 5.282970263056656, 'reg_lambda': 0.14809892204552141, 'reg_alpha': 0.29922320204986597, 'subsample': 0.6831809216468459}. Best is trial 2 with value: 0.7817571354574795.\u001b[0m\n"
          ]
        },
        {
          "output_type": "stream",
          "name": "stdout",
          "text": [
            "[0]\tvalidation_0-auc:0.761099\tvalidation_1-auc:0.755384\n",
            "Multiple eval metrics have been passed: 'validation_1-auc' will be used for early stopping.\n",
            "\n",
            "Will train until validation_1-auc hasn't improved in 100 rounds.\n",
            "[100]\tvalidation_0-auc:0.851937\tvalidation_1-auc:0.774434\n",
            "Stopping. Best iteration:\n",
            "[39]\tvalidation_0-auc:0.818311\tvalidation_1-auc:0.781841\n",
            "\n"
          ]
        },
        {
          "output_type": "stream",
          "name": "stderr",
          "text": [
            "\u001b[32m[I 2023-02-14 20:18:45,352]\u001b[0m Trial 3 finished with value: 0.7818413398323881 and parameters: {'learning_rate': 0.1422602954229404, 'n_estimators': 1592, 'max_depth': 5, 'colsample_bytree': 0.708540663048167, 'scale_pos_weight': 5.146901982034297, 'reg_lambda': 0.05598590859279775, 'reg_alpha': 0.611469403382424, 'subsample': 0.5852620618436457}. Best is trial 3 with value: 0.7818413398323881.\u001b[0m\n"
          ]
        },
        {
          "output_type": "stream",
          "name": "stdout",
          "text": [
            "[0]\tvalidation_0-auc:0.808236\tvalidation_1-auc:0.736565\n",
            "Multiple eval metrics have been passed: 'validation_1-auc' will be used for early stopping.\n",
            "\n",
            "Will train until validation_1-auc hasn't improved in 100 rounds.\n",
            "[100]\tvalidation_0-auc:0.928877\tvalidation_1-auc:0.777326\n",
            "Stopping. Best iteration:\n",
            "[84]\tvalidation_0-auc:0.922129\tvalidation_1-auc:0.777943\n",
            "\n"
          ]
        },
        {
          "output_type": "stream",
          "name": "stderr",
          "text": [
            "\u001b[32m[I 2023-02-14 20:18:52,976]\u001b[0m Trial 4 finished with value: 0.7779435007238389 and parameters: {'learning_rate': 0.02886496196573106, 'n_estimators': 1903, 'max_depth': 10, 'colsample_bytree': 0.8850384088698766, 'scale_pos_weight': 3.132296384213595, 'reg_lambda': 0.10669539286632003, 'reg_alpha': 0.6873906962470353, 'subsample': 0.7200762468698007}. Best is trial 3 with value: 0.7818413398323881.\u001b[0m\n"
          ]
        },
        {
          "output_type": "stream",
          "name": "stdout",
          "text": [
            "[0]\tvalidation_0-auc:0.753369\tvalidation_1-auc:0.753636\n",
            "Multiple eval metrics have been passed: 'validation_1-auc' will be used for early stopping.\n",
            "\n",
            "Will train until validation_1-auc hasn't improved in 100 rounds.\n",
            "[100]\tvalidation_0-auc:0.800393\tvalidation_1-auc:0.784514\n",
            "[200]\tvalidation_0-auc:0.816924\tvalidation_1-auc:0.784611\n",
            "Stopping. Best iteration:\n",
            "[172]\tvalidation_0-auc:0.813046\tvalidation_1-auc:0.785455\n",
            "\n"
          ]
        },
        {
          "output_type": "stream",
          "name": "stderr",
          "text": [
            "\u001b[32m[I 2023-02-14 20:18:58,494]\u001b[0m Trial 5 finished with value: 0.7854546903430597 and parameters: {'learning_rate': 0.045391088104985856, 'n_estimators': 1041, 'max_depth': 4, 'colsample_bytree': 0.9455922412472693, 'scale_pos_weight': 2.8114598712001184, 'reg_lambda': 0.6658970615104421, 'reg_alpha': 0.31859396532851686, 'subsample': 0.7600340105889054}. Best is trial 5 with value: 0.7854546903430597.\u001b[0m\n"
          ]
        },
        {
          "output_type": "stream",
          "name": "stdout",
          "text": [
            "[0]\tvalidation_0-auc:0.797869\tvalidation_1-auc:0.750499\n",
            "Multiple eval metrics have been passed: 'validation_1-auc' will be used for early stopping.\n",
            "\n",
            "Will train until validation_1-auc hasn't improved in 100 rounds.\n",
            "[100]\tvalidation_0-auc:0.99293\tvalidation_1-auc:0.753487\n",
            "Stopping. Best iteration:\n",
            "[13]\tvalidation_0-auc:0.90152\tvalidation_1-auc:0.768756\n",
            "\n"
          ]
        },
        {
          "output_type": "stream",
          "name": "stderr",
          "text": [
            "\u001b[32m[I 2023-02-14 20:19:02,576]\u001b[0m Trial 6 finished with value: 0.768756192474732 and parameters: {'learning_rate': 0.1685459810095511, 'n_estimators': 451, 'max_depth': 10, 'colsample_bytree': 0.8650796940166687, 'scale_pos_weight': 7.576492590949324, 'reg_lambda': 0.8958790769233723, 'reg_alpha': 0.6019209790229743, 'subsample': 0.9609371175115584}. Best is trial 5 with value: 0.7854546903430597.\u001b[0m\n"
          ]
        },
        {
          "output_type": "stream",
          "name": "stdout",
          "text": [
            "[0]\tvalidation_0-auc:0.753222\tvalidation_1-auc:0.754751\n",
            "Multiple eval metrics have been passed: 'validation_1-auc' will be used for early stopping.\n",
            "\n",
            "Will train until validation_1-auc hasn't improved in 100 rounds.\n",
            "[100]\tvalidation_0-auc:0.794704\tvalidation_1-auc:0.782434\n",
            "[200]\tvalidation_0-auc:0.808108\tvalidation_1-auc:0.783603\n",
            "Stopping. Best iteration:\n",
            "[156]\tvalidation_0-auc:0.803042\tvalidation_1-auc:0.784027\n",
            "\n"
          ]
        },
        {
          "output_type": "stream",
          "name": "stderr",
          "text": [
            "\u001b[32m[I 2023-02-14 20:19:06,409]\u001b[0m Trial 7 finished with value: 0.7840266691458702 and parameters: {'learning_rate': 0.03566282559505665, 'n_estimators': 472, 'max_depth': 4, 'colsample_bytree': 0.5951981984579586, 'scale_pos_weight': 3.720741027826374, 'reg_lambda': 0.27863554145615693, 'reg_alpha': 0.83045013406041, 'subsample': 0.6783766633467947}. Best is trial 5 with value: 0.7854546903430597.\u001b[0m\n"
          ]
        },
        {
          "output_type": "stream",
          "name": "stdout",
          "text": [
            "[0]\tvalidation_0-auc:0.753483\tvalidation_1-auc:0.752986\n",
            "Multiple eval metrics have been passed: 'validation_1-auc' will be used for early stopping.\n",
            "\n",
            "Will train until validation_1-auc hasn't improved in 100 rounds.\n",
            "[100]\tvalidation_0-auc:0.813804\tvalidation_1-auc:0.782693\n",
            "Stopping. Best iteration:\n",
            "[89]\tvalidation_0-auc:0.810668\tvalidation_1-auc:0.783468\n",
            "\n"
          ]
        },
        {
          "output_type": "stream",
          "name": "stderr",
          "text": [
            "\u001b[32m[I 2023-02-14 20:19:10,642]\u001b[0m Trial 8 finished with value: 0.7834675202210033 and parameters: {'learning_rate': 0.09147100780934041, 'n_estimators': 1131, 'max_depth': 4, 'colsample_bytree': 0.8813181884524238, 'scale_pos_weight': 1.5218545057583959, 'reg_lambda': 0.9870180672345121, 'reg_alpha': 0.7745223216036908, 'subsample': 0.5993578407670862}. Best is trial 5 with value: 0.7854546903430597.\u001b[0m\n"
          ]
        },
        {
          "output_type": "stream",
          "name": "stdout",
          "text": [
            "[0]\tvalidation_0-auc:0.779991\tvalidation_1-auc:0.740632\n",
            "Multiple eval metrics have been passed: 'validation_1-auc' will be used for early stopping.\n",
            "\n",
            "Will train until validation_1-auc hasn't improved in 100 rounds.\n",
            "[100]\tvalidation_0-auc:0.84944\tvalidation_1-auc:0.779489\n",
            "[200]\tvalidation_0-auc:0.865652\tvalidation_1-auc:0.779872\n",
            "[300]\tvalidation_0-auc:0.883318\tvalidation_1-auc:0.780946\n",
            "Stopping. Best iteration:\n",
            "[246]\tvalidation_0-auc:0.874\tvalidation_1-auc:0.781465\n",
            "\n"
          ]
        },
        {
          "output_type": "stream",
          "name": "stderr",
          "text": [
            "\u001b[32m[I 2023-02-14 20:19:22,985]\u001b[0m Trial 9 finished with value: 0.7814652092491998 and parameters: {'learning_rate': 0.011601413965844696, 'n_estimators': 1650, 'max_depth': 8, 'colsample_bytree': 0.8374043008245924, 'scale_pos_weight': 6.39889242680162, 'reg_lambda': 0.08330420521674946, 'reg_alpha': 0.3648810712588299, 'subsample': 0.5579345297625649}. Best is trial 5 with value: 0.7854546903430597.\u001b[0m\n"
          ]
        },
        {
          "output_type": "stream",
          "name": "stdout",
          "text": [
            "[0]\tvalidation_0-auc:0.759902\tvalidation_1-auc:0.748269\n",
            "Multiple eval metrics have been passed: 'validation_1-auc' will be used for early stopping.\n",
            "\n",
            "Will train until validation_1-auc hasn't improved in 100 rounds.\n",
            "[100]\tvalidation_0-auc:0.885229\tvalidation_1-auc:0.777613\n",
            "[110]\tvalidation_0-auc:0.891216\tvalidation_1-auc:0.774568\n"
          ]
        },
        {
          "output_type": "stream",
          "name": "stderr",
          "text": [
            "\u001b[32m[I 2023-02-14 20:19:24,874]\u001b[0m Trial 10 finished with value: 0.78645026762116 and parameters: {'learning_rate': 0.24951473255123494, 'n_estimators': 111, 'max_depth': 6, 'colsample_bytree': 0.4107771253688918, 'scale_pos_weight': 1.1442417906638007, 'reg_lambda': 0.618747251591657, 'reg_alpha': 0.9601730384859655, 'subsample': 0.8189858776055303}. Best is trial 10 with value: 0.78645026762116.\u001b[0m\n"
          ]
        },
        {
          "output_type": "stream",
          "name": "stdout",
          "text": [
            "[0]\tvalidation_0-auc:0.759971\tvalidation_1-auc:0.747266\n",
            "Multiple eval metrics have been passed: 'validation_1-auc' will be used for early stopping.\n",
            "\n",
            "Will train until validation_1-auc hasn't improved in 100 rounds.\n",
            "[100]\tvalidation_0-auc:0.888771\tvalidation_1-auc:0.778489\n",
            "[111]\tvalidation_0-auc:0.894983\tvalidation_1-auc:0.775899\n"
          ]
        },
        {
          "output_type": "stream",
          "name": "stderr",
          "text": [
            "\u001b[32m[I 2023-02-14 20:19:26,802]\u001b[0m Trial 11 finished with value: 0.7874859548696427 and parameters: {'learning_rate': 0.2629666610293458, 'n_estimators': 112, 'max_depth': 6, 'colsample_bytree': 0.4103116901613753, 'scale_pos_weight': 1.2337620298655758, 'reg_lambda': 0.6426879190555743, 'reg_alpha': 0.9584254848816028, 'subsample': 0.8179189248615294}. Best is trial 11 with value: 0.7874859548696427.\u001b[0m\n"
          ]
        },
        {
          "output_type": "stream",
          "name": "stdout",
          "text": [
            "[0]\tvalidation_0-auc:0.757374\tvalidation_1-auc:0.749859\n",
            "Multiple eval metrics have been passed: 'validation_1-auc' will be used for early stopping.\n",
            "\n",
            "Will train until validation_1-auc hasn't improved in 100 rounds.\n",
            "[100]\tvalidation_0-auc:0.885363\tvalidation_1-auc:0.770988\n",
            "[113]\tvalidation_0-auc:0.891653\tvalidation_1-auc:0.76749\n"
          ]
        },
        {
          "output_type": "stream",
          "name": "stderr",
          "text": [
            "\u001b[32m[I 2023-02-14 20:19:28,676]\u001b[0m Trial 12 finished with value: 0.7856225678349914 and parameters: {'learning_rate': 0.2651625157582131, 'n_estimators': 114, 'max_depth': 6, 'colsample_bytree': 0.4021844471848666, 'scale_pos_weight': 1.3202294079087247, 'reg_lambda': 0.5325011040997317, 'reg_alpha': 0.994778362686775, 'subsample': 0.8384090290478075}. Best is trial 11 with value: 0.7874859548696427.\u001b[0m\n"
          ]
        },
        {
          "output_type": "stream",
          "name": "stdout",
          "text": [
            "[0]\tvalidation_0-auc:0.758266\tvalidation_1-auc:0.747913\n",
            "Multiple eval metrics have been passed: 'validation_1-auc' will be used for early stopping.\n",
            "\n",
            "Will train until validation_1-auc hasn't improved in 100 rounds.\n",
            "[100]\tvalidation_0-auc:0.892736\tvalidation_1-auc:0.770461\n",
            "Stopping. Best iteration:\n",
            "[17]\tvalidation_0-auc:0.824113\tvalidation_1-auc:0.784688\n",
            "\n"
          ]
        },
        {
          "output_type": "stream",
          "name": "stderr",
          "text": [
            "\u001b[32m[I 2023-02-14 20:19:30,605]\u001b[0m Trial 13 finished with value: 0.7846880852137649 and parameters: {'learning_rate': 0.29623358732372906, 'n_estimators': 163, 'max_depth': 6, 'colsample_bytree': 0.40608548256244703, 'scale_pos_weight': 2.1984272893432584, 'reg_lambda': 0.7012164315858042, 'reg_alpha': 0.9993688142551356, 'subsample': 0.839379936111606}. Best is trial 11 with value: 0.7874859548696427.\u001b[0m\n"
          ]
        },
        {
          "output_type": "stream",
          "name": "stdout",
          "text": [
            "[0]\tvalidation_0-auc:0.7606\tvalidation_1-auc:0.748534\n",
            "Multiple eval metrics have been passed: 'validation_1-auc' will be used for early stopping.\n",
            "\n",
            "Will train until validation_1-auc hasn't improved in 100 rounds.\n",
            "[100]\tvalidation_0-auc:0.890296\tvalidation_1-auc:0.773301\n",
            "Stopping. Best iteration:\n",
            "[18]\tvalidation_0-auc:0.822966\tvalidation_1-auc:0.784061\n",
            "\n"
          ]
        },
        {
          "output_type": "stream",
          "name": "stderr",
          "text": [
            "\u001b[32m[I 2023-02-14 20:19:32,694]\u001b[0m Trial 14 finished with value: 0.7840614665373938 and parameters: {'learning_rate': 0.22788362690694497, 'n_estimators': 559, 'max_depth': 6, 'colsample_bytree': 0.4865277182478581, 'scale_pos_weight': 1.091982210024657, 'reg_lambda': 0.40211430469156656, 'reg_alpha': 0.8555842294841385, 'subsample': 0.8230693516111118}. Best is trial 11 with value: 0.7874859548696427.\u001b[0m\n"
          ]
        },
        {
          "output_type": "stream",
          "name": "stdout",
          "text": [
            "[0]\tvalidation_0-auc:0.766542\tvalidation_1-auc:0.742095\n",
            "Multiple eval metrics have been passed: 'validation_1-auc' will be used for early stopping.\n",
            "\n",
            "Will train until validation_1-auc hasn't improved in 100 rounds.\n",
            "[100]\tvalidation_0-auc:0.925606\tvalidation_1-auc:0.7688\n",
            "Stopping. Best iteration:\n",
            "[19]\tvalidation_0-auc:0.845029\tvalidation_1-auc:0.780604\n",
            "\n"
          ]
        },
        {
          "output_type": "stream",
          "name": "stderr",
          "text": [
            "\u001b[32m[I 2023-02-14 20:19:36,012]\u001b[0m Trial 15 finished with value: 0.7806037745872789 and parameters: {'learning_rate': 0.22348340130437788, 'n_estimators': 654, 'max_depth': 7, 'colsample_bytree': 0.49933376883122665, 'scale_pos_weight': 3.655927848583586, 'reg_lambda': 0.5708692448463317, 'reg_alpha': 0.8828722635583831, 'subsample': 0.8973226820560444}. Best is trial 11 with value: 0.7874859548696427.\u001b[0m\n"
          ]
        },
        {
          "output_type": "stream",
          "name": "stdout",
          "text": [
            "[0]\tvalidation_0-auc:0.786539\tvalidation_1-auc:0.752151\n",
            "Multiple eval metrics have been passed: 'validation_1-auc' will be used for early stopping.\n",
            "\n",
            "Will train until validation_1-auc hasn't improved in 100 rounds.\n",
            "[100]\tvalidation_0-auc:0.964859\tvalidation_1-auc:0.748256\n",
            "Stopping. Best iteration:\n",
            "[6]\tvalidation_0-auc:0.829158\tvalidation_1-auc:0.777077\n",
            "\n"
          ]
        },
        {
          "output_type": "stream",
          "name": "stderr",
          "text": [
            "\u001b[32m[I 2023-02-14 20:19:38,806]\u001b[0m Trial 16 finished with value: 0.7770770191120026 and parameters: {'learning_rate': 0.2841225255897722, 'n_estimators': 803, 'max_depth': 8, 'colsample_bytree': 0.6046350230731545, 'scale_pos_weight': 1.0207759180295466, 'reg_lambda': 0.7289052529282566, 'reg_alpha': 0.5044773910471319, 'subsample': 0.7763585633553955}. Best is trial 11 with value: 0.7874859548696427.\u001b[0m\n"
          ]
        },
        {
          "output_type": "stream",
          "name": "stdout",
          "text": [
            "[0]\tvalidation_0-auc:0.756412\tvalidation_1-auc:0.750727\n",
            "Multiple eval metrics have been passed: 'validation_1-auc' will be used for early stopping.\n",
            "\n",
            "Will train until validation_1-auc hasn't improved in 100 rounds.\n",
            "[100]\tvalidation_0-auc:0.86624\tvalidation_1-auc:0.775085\n",
            "Stopping. Best iteration:\n",
            "[18]\tvalidation_0-auc:0.809493\tvalidation_1-auc:0.78486\n",
            "\n"
          ]
        },
        {
          "output_type": "stream",
          "name": "stderr",
          "text": [
            "\u001b[32m[I 2023-02-14 20:19:40,513]\u001b[0m Trial 17 finished with value: 0.7848599471398403 and parameters: {'learning_rate': 0.253466388149991, 'n_estimators': 289, 'max_depth': 5, 'colsample_bytree': 0.471682702224907, 'scale_pos_weight': 2.3001986005705906, 'reg_lambda': 0.3948815028385223, 'reg_alpha': 0.9286200941657455, 'subsample': 0.9769712260839398}. Best is trial 11 with value: 0.7874859548696427.\u001b[0m\n"
          ]
        },
        {
          "output_type": "stream",
          "name": "stdout",
          "text": [
            "[0]\tvalidation_0-auc:0.77891\tvalidation_1-auc:0.761844\n",
            "Multiple eval metrics have been passed: 'validation_1-auc' will be used for early stopping.\n",
            "\n",
            "Will train until validation_1-auc hasn't improved in 100 rounds.\n",
            "[100]\tvalidation_0-auc:0.938422\tvalidation_1-auc:0.760223\n",
            "Stopping. Best iteration:\n",
            "[15]\tvalidation_0-auc:0.841387\tvalidation_1-auc:0.779618\n",
            "\n"
          ]
        },
        {
          "output_type": "stream",
          "name": "stderr",
          "text": [
            "\u001b[32m[I 2023-02-14 20:19:42,940]\u001b[0m Trial 18 finished with value: 0.7796177599511243 and parameters: {'learning_rate': 0.2519833587321405, 'n_estimators': 331, 'max_depth': 7, 'colsample_bytree': 0.5530956993235534, 'scale_pos_weight': 1.8370749696638002, 'reg_lambda': 0.8158537685220534, 'reg_alpha': 0.7356907104860719, 'subsample': 0.8853253753576177}. Best is trial 11 with value: 0.7874859548696427.\u001b[0m\n"
          ]
        },
        {
          "output_type": "stream",
          "name": "stdout",
          "text": [
            "[0]\tvalidation_0-auc:0.76165\tvalidation_1-auc:0.756065\n",
            "Multiple eval metrics have been passed: 'validation_1-auc' will be used for early stopping.\n",
            "\n",
            "Will train until validation_1-auc hasn't improved in 100 rounds.\n",
            "[100]\tvalidation_0-auc:0.869766\tvalidation_1-auc:0.776885\n",
            "Stopping. Best iteration:\n",
            "[32]\tvalidation_0-auc:0.825059\tvalidation_1-auc:0.784229\n",
            "\n"
          ]
        },
        {
          "output_type": "stream",
          "name": "stderr",
          "text": [
            "\u001b[32m[I 2023-02-14 20:19:45,233]\u001b[0m Trial 19 finished with value: 0.7842293440293253 and parameters: {'learning_rate': 0.21336109317523866, 'n_estimators': 816, 'max_depth': 5, 'colsample_bytree': 0.6491371737276597, 'scale_pos_weight': 2.713253737600193, 'reg_lambda': 0.5956024942857684, 'reg_alpha': 0.8022262926489931, 'subsample': 0.8008082749384638}. Best is trial 11 with value: 0.7874859548696427.\u001b[0m\n"
          ]
        },
        {
          "output_type": "stream",
          "name": "stdout",
          "text": [
            "[0]\tvalidation_0-auc:0.773806\tvalidation_1-auc:0.743775\n",
            "Multiple eval metrics have been passed: 'validation_1-auc' will be used for early stopping.\n",
            "\n",
            "Will train until validation_1-auc hasn't improved in 100 rounds.\n",
            "[100]\tvalidation_0-auc:0.934945\tvalidation_1-auc:0.771389\n",
            "[106]\tvalidation_0-auc:0.938664\tvalidation_1-auc:0.770014\n"
          ]
        },
        {
          "output_type": "stream",
          "name": "stderr",
          "text": [
            "\u001b[32m[I 2023-02-14 20:19:48,287]\u001b[0m Trial 20 finished with value: 0.784635225054122 and parameters: {'learning_rate': 0.19943914726123319, 'n_estimators': 107, 'max_depth': 8, 'colsample_bytree': 0.44594470377757633, 'scale_pos_weight': 1.7713466449217532, 'reg_lambda': 0.47461122103554443, 'reg_alpha': 0.9121779781026393, 'subsample': 0.8630496716721736}. Best is trial 11 with value: 0.7874859548696427.\u001b[0m\n"
          ]
        },
        {
          "output_type": "stream",
          "name": "stdout",
          "text": [
            "[0]\tvalidation_0-auc:0.757194\tvalidation_1-auc:0.749498\n",
            "Multiple eval metrics have been passed: 'validation_1-auc' will be used for early stopping.\n",
            "\n",
            "Will train until validation_1-auc hasn't improved in 100 rounds.\n",
            "[100]\tvalidation_0-auc:0.886015\tvalidation_1-auc:0.77275\n",
            "Stopping. Best iteration:\n",
            "[11]\tvalidation_0-auc:0.808231\tvalidation_1-auc:0.785596\n",
            "\n"
          ]
        },
        {
          "output_type": "stream",
          "name": "stderr",
          "text": [
            "\u001b[32m[I 2023-02-14 20:19:50,390]\u001b[0m Trial 21 finished with value: 0.7855960049406984 and parameters: {'learning_rate': 0.2642143574176719, 'n_estimators': 306, 'max_depth': 6, 'colsample_bytree': 0.4015007353168187, 'scale_pos_weight': 1.2487094581955727, 'reg_lambda': 0.5690830985058186, 'reg_alpha': 0.9992268213442868, 'subsample': 0.8157476467963456}. Best is trial 11 with value: 0.7874859548696427.\u001b[0m\n"
          ]
        },
        {
          "output_type": "stream",
          "name": "stdout",
          "text": [
            "[0]\tvalidation_0-auc:0.761469\tvalidation_1-auc:0.750893\n",
            "Multiple eval metrics have been passed: 'validation_1-auc' will be used for early stopping.\n",
            "\n",
            "Will train until validation_1-auc hasn't improved in 100 rounds.\n",
            "[100]\tvalidation_0-auc:0.899092\tvalidation_1-auc:0.769204\n",
            "Stopping. Best iteration:\n",
            "[20]\tvalidation_0-auc:0.830703\tvalidation_1-auc:0.785164\n",
            "\n"
          ]
        },
        {
          "output_type": "stream",
          "name": "stderr",
          "text": [
            "\u001b[32m[I 2023-02-14 20:19:52,568]\u001b[0m Trial 22 finished with value: 0.7851638266505518 and parameters: {'learning_rate': 0.2775954774134863, 'n_estimators': 122, 'max_depth': 6, 'colsample_bytree': 0.5170141948808076, 'scale_pos_weight': 1.0820653002679423, 'reg_lambda': 0.47557657934730435, 'reg_alpha': 0.9902568390895674, 'subsample': 0.8556765563588324}. Best is trial 11 with value: 0.7874859548696427.\u001b[0m\n"
          ]
        },
        {
          "output_type": "stream",
          "name": "stdout",
          "text": [
            "[0]\tvalidation_0-auc:0.756792\tvalidation_1-auc:0.749026\n",
            "Multiple eval metrics have been passed: 'validation_1-auc' will be used for early stopping.\n",
            "\n",
            "Will train until validation_1-auc hasn't improved in 100 rounds.\n",
            "[100]\tvalidation_0-auc:0.857672\tvalidation_1-auc:0.77607\n",
            "Stopping. Best iteration:\n",
            "[19]\tvalidation_0-auc:0.808324\tvalidation_1-auc:0.785302\n",
            "\n"
          ]
        },
        {
          "output_type": "stream",
          "name": "stderr",
          "text": [
            "\u001b[32m[I 2023-02-14 20:19:54,281]\u001b[0m Trial 23 finished with value: 0.7853024849587611 and parameters: {'learning_rate': 0.242633888117353, 'n_estimators': 345, 'max_depth': 5, 'colsample_bytree': 0.43285187884105913, 'scale_pos_weight': 1.7155177801015578, 'reg_lambda': 0.6401559280120314, 'reg_alpha': 0.887375146038076, 'subsample': 0.9028604319253704}. Best is trial 11 with value: 0.7874859548696427.\u001b[0m\n"
          ]
        },
        {
          "output_type": "stream",
          "name": "stdout",
          "text": [
            "[0]\tvalidation_0-auc:0.765635\tvalidation_1-auc:0.742737\n",
            "Multiple eval metrics have been passed: 'validation_1-auc' will be used for early stopping.\n",
            "\n",
            "Will train until validation_1-auc hasn't improved in 100 rounds.\n",
            "[100]\tvalidation_0-auc:0.930729\tvalidation_1-auc:0.761987\n",
            "Stopping. Best iteration:\n",
            "[17]\tvalidation_0-auc:0.844112\tvalidation_1-auc:0.781457\n",
            "\n"
          ]
        },
        {
          "output_type": "stream",
          "name": "stderr",
          "text": [
            "\u001b[32m[I 2023-02-14 20:19:57,585]\u001b[0m Trial 24 finished with value: 0.781456709123026 and parameters: {'learning_rate': 0.2967536464789028, 'n_estimators': 664, 'max_depth': 7, 'colsample_bytree': 0.44870125495726204, 'scale_pos_weight': 2.436786523707778, 'reg_lambda': 0.7554445963193909, 'reg_alpha': 0.7974145779010076, 'subsample': 0.7847736143162334}. Best is trial 11 with value: 0.7874859548696427.\u001b[0m\n"
          ]
        },
        {
          "output_type": "stream",
          "name": "stdout",
          "text": [
            "[0]\tvalidation_0-auc:0.759523\tvalidation_1-auc:0.750003\n",
            "Multiple eval metrics have been passed: 'validation_1-auc' will be used for early stopping.\n",
            "\n",
            "Will train until validation_1-auc hasn't improved in 100 rounds.\n",
            "[100]\tvalidation_0-auc:0.887813\tvalidation_1-auc:0.775125\n",
            "Stopping. Best iteration:\n",
            "[17]\tvalidation_0-auc:0.822754\tvalidation_1-auc:0.786687\n",
            "\n"
          ]
        },
        {
          "output_type": "stream",
          "name": "stderr",
          "text": [
            "\u001b[32m[I 2023-02-14 20:20:00,731]\u001b[0m Trial 25 finished with value: 0.7866872086382534 and parameters: {'learning_rate': 0.2680075920752224, 'n_estimators': 216, 'max_depth': 6, 'colsample_bytree': 0.40108218760751363, 'scale_pos_weight': 1.6250489492879157, 'reg_lambda': 0.5409028975228712, 'reg_alpha': 0.9157223773767211, 'subsample': 0.9997067470438427}. Best is trial 11 with value: 0.7874859548696427.\u001b[0m\n"
          ]
        },
        {
          "output_type": "stream",
          "name": "stdout",
          "text": [
            "[0]\tvalidation_0-auc:0.757267\tvalidation_1-auc:0.74961\n",
            "Multiple eval metrics have been passed: 'validation_1-auc' will be used for early stopping.\n",
            "\n",
            "Will train until validation_1-auc hasn't improved in 100 rounds.\n",
            "[100]\tvalidation_0-auc:0.862135\tvalidation_1-auc:0.778879\n",
            "Stopping. Best iteration:\n",
            "[26]\tvalidation_0-auc:0.815555\tvalidation_1-auc:0.786729\n",
            "\n"
          ]
        },
        {
          "output_type": "stream",
          "name": "stderr",
          "text": [
            "\u001b[32m[I 2023-02-14 20:20:03,023]\u001b[0m Trial 26 finished with value: 0.786729178011236 and parameters: {'learning_rate': 0.22495423121308897, 'n_estimators': 284, 'max_depth': 5, 'colsample_bytree': 0.5341224725527756, 'scale_pos_weight': 1.9001956556013622, 'reg_lambda': 0.6364805469799987, 'reg_alpha': 0.920407277303527, 'subsample': 0.9991375618947643}. Best is trial 11 with value: 0.7874859548696427.\u001b[0m\n"
          ]
        },
        {
          "output_type": "stream",
          "name": "stdout",
          "text": [
            "[0]\tvalidation_0-auc:0.756288\tvalidation_1-auc:0.75141\n",
            "Multiple eval metrics have been passed: 'validation_1-auc' will be used for early stopping.\n",
            "\n",
            "Will train until validation_1-auc hasn't improved in 100 rounds.\n",
            "[100]\tvalidation_0-auc:0.86365\tvalidation_1-auc:0.776779\n",
            "Stopping. Best iteration:\n",
            "[19]\tvalidation_0-auc:0.809711\tvalidation_1-auc:0.786086\n",
            "\n"
          ]
        },
        {
          "output_type": "stream",
          "name": "stderr",
          "text": [
            "\u001b[32m[I 2023-02-14 20:20:04,766]\u001b[0m Trial 27 finished with value: 0.7860858247114606 and parameters: {'learning_rate': 0.2331903325733085, 'n_estimators': 472, 'max_depth': 5, 'colsample_bytree': 0.5235057597126582, 'scale_pos_weight': 1.9212000527098079, 'reg_lambda': 0.7823198600955171, 'reg_alpha': 0.8763903166551755, 'subsample': 0.9972176218232742}. Best is trial 11 with value: 0.7874859548696427.\u001b[0m\n"
          ]
        },
        {
          "output_type": "stream",
          "name": "stdout",
          "text": [
            "[0]\tvalidation_0-auc:0.756357\tvalidation_1-auc:0.75023\n",
            "Multiple eval metrics have been passed: 'validation_1-auc' will be used for early stopping.\n",
            "\n",
            "Will train until validation_1-auc hasn't improved in 100 rounds.\n",
            "[100]\tvalidation_0-auc:0.855414\tvalidation_1-auc:0.777587\n",
            "Stopping. Best iteration:\n",
            "[19]\tvalidation_0-auc:0.806569\tvalidation_1-auc:0.785866\n",
            "\n"
          ]
        },
        {
          "output_type": "stream",
          "name": "stderr",
          "text": [
            "\u001b[32m[I 2023-02-14 20:20:06,554]\u001b[0m Trial 28 finished with value: 0.785865618317772 and parameters: {'learning_rate': 0.20432896847284482, 'n_estimators': 921, 'max_depth': 5, 'colsample_bytree': 0.4782451386645202, 'scale_pos_weight': 3.037144356661152, 'reg_lambda': 0.6730282852573511, 'reg_alpha': 0.9192253754513794, 'subsample': 0.9340493465153249}. Best is trial 11 with value: 0.7874859548696427.\u001b[0m\n"
          ]
        },
        {
          "output_type": "stream",
          "name": "stdout",
          "text": [
            "[0]\tvalidation_0-auc:0.768477\tvalidation_1-auc:0.748725\n",
            "Multiple eval metrics have been passed: 'validation_1-auc' will be used for early stopping.\n",
            "\n",
            "Will train until validation_1-auc hasn't improved in 100 rounds.\n",
            "[100]\tvalidation_0-auc:0.940141\tvalidation_1-auc:0.763509\n",
            "Stopping. Best iteration:\n",
            "[16]\tvalidation_0-auc:0.845383\tvalidation_1-auc:0.78362\n",
            "\n"
          ]
        },
        {
          "output_type": "stream",
          "name": "stderr",
          "text": [
            "\u001b[32m[I 2023-02-14 20:20:08,890]\u001b[0m Trial 29 finished with value: 0.7836197256053019 and parameters: {'learning_rate': 0.2668762241324181, 'n_estimators': 271, 'max_depth': 7, 'colsample_bytree': 0.5356632512861519, 'scale_pos_weight': 2.182560343520512, 'reg_lambda': 0.6341780680917745, 'reg_alpha': 0.7394325094379888, 'subsample': 0.9471128917266103}. Best is trial 11 with value: 0.7874859548696427.\u001b[0m\n"
          ]
        },
        {
          "output_type": "stream",
          "name": "stdout",
          "text": [
            "Best Score: 0.7874859548696427\n",
            "Best trial {'learning_rate': 0.2629666610293458, 'n_estimators': 112, 'max_depth': 6, 'colsample_bytree': 0.4103116901613753, 'scale_pos_weight': 1.2337620298655758, 'reg_lambda': 0.6426879190555743, 'reg_alpha': 0.9584254848816028, 'subsample': 0.8179189248615294}\n"
          ]
        }
      ]
    },
    {
      "cell_type": "code",
      "source": [
        "params = study.best_params\n",
        "\n",
        "params[\"random_state\"] = 2\n",
        "params['objective'] = 'binary:logistic'\n",
        "params['eval_metric'] = 'auc'"
      ],
      "metadata": {
        "id": "yv_L5qu57HCw"
      },
      "execution_count": null,
      "outputs": []
    },
    {
      "cell_type": "code",
      "source": [
        "xgc = XGBClassifier(**params)\n",
        "\n",
        "xgc.fit(X_train, y_train,\n",
        "        eval_set=[(X_train, y_train), (X_val,y_val)],\n",
        "        early_stopping_rounds=100,\n",
        "        verbose=100)"
      ],
      "metadata": {
        "colab": {
          "base_uri": "https://localhost:8080/"
        },
        "id": "ArOUVeU7zZKz",
        "outputId": "dadf7afc-bd74-488f-8685-ee728ccb8b23"
      },
      "execution_count": null,
      "outputs": [
        {
          "output_type": "stream",
          "name": "stdout",
          "text": [
            "[0]\tvalidation_0-auc:0.759971\tvalidation_1-auc:0.747266\n",
            "Multiple eval metrics have been passed: 'validation_1-auc' will be used for early stopping.\n",
            "\n",
            "Will train until validation_1-auc hasn't improved in 100 rounds.\n",
            "[100]\tvalidation_0-auc:0.888771\tvalidation_1-auc:0.778489\n",
            "[111]\tvalidation_0-auc:0.894983\tvalidation_1-auc:0.775899\n"
          ]
        },
        {
          "output_type": "execute_result",
          "data": {
            "text/plain": [
              "XGBClassifier(colsample_bytree=0.4103116901613753, eval_metric='auc',\n",
              "              learning_rate=0.2629666610293458, max_depth=6, n_estimators=112,\n",
              "              random_state=2, reg_alpha=0.9584254848816028,\n",
              "              reg_lambda=0.6426879190555743,\n",
              "              scale_pos_weight=1.2337620298655758,\n",
              "              subsample=0.8179189248615294)"
            ]
          },
          "metadata": {},
          "execution_count": 61
        }
      ]
    },
    {
      "cell_type": "code",
      "source": [
        "xgc_pred = xgc.predict(X_val)\n",
        "xgc_prob = xgc.predict_proba(X_val)[:,1]\n",
        "\n",
        "print('XGBClassifier_val')\n",
        "print('roc_auc_score :', roc_auc_score(y_val, xgc_prob), '\\n')\n",
        "print('classification_report', '\\n', classification_report(y_val, xgc_pred))"
      ],
      "metadata": {
        "colab": {
          "base_uri": "https://localhost:8080/"
        },
        "id": "ToxufBPlvSly",
        "outputId": "4cfa0cf0-87e0-454a-e9da-609e50a48044"
      },
      "execution_count": null,
      "outputs": [
        {
          "output_type": "stream",
          "name": "stdout",
          "text": [
            "XGBClassifier_val\n",
            "roc_auc_score : 0.7874859548696427 \n",
            "\n",
            "classification_report \n",
            "               precision    recall  f1-score   support\n",
            "\n",
            "           0       0.78      0.77      0.77      1751\n",
            "           1       0.63      0.65      0.64      1075\n",
            "\n",
            "    accuracy                           0.72      2826\n",
            "   macro avg       0.71      0.71      0.71      2826\n",
            "weighted avg       0.72      0.72      0.72      2826\n",
            "\n"
          ]
        }
      ]
    },
    {
      "cell_type": "code",
      "source": [
        "xgc_pred = xgc.predict(X_test)\n",
        "xgc_prob = xgc.predict_proba(X_test)[:,1]\n",
        "\n",
        "print('XGBClassifier_test')\n",
        "print('roc_auc_score :', roc_auc_score(y_test, xgc_prob), '\\n')\n",
        "print('classification_report', '\\n', classification_report(y_test, xgc_pred))"
      ],
      "metadata": {
        "colab": {
          "base_uri": "https://localhost:8080/"
        },
        "id": "QjOQZW4Z6zj9",
        "outputId": "90533ce1-6eb2-446f-8083-67abe4a99230"
      },
      "execution_count": null,
      "outputs": [
        {
          "output_type": "stream",
          "name": "stdout",
          "text": [
            "XGBClassifier_test\n",
            "roc_auc_score : 0.7776729264603465 \n",
            "\n",
            "classification_report \n",
            "               precision    recall  f1-score   support\n",
            "\n",
            "           0       0.78      0.76      0.77      2188\n",
            "           1       0.63      0.66      0.64      1344\n",
            "\n",
            "    accuracy                           0.72      3532\n",
            "   macro avg       0.70      0.71      0.71      3532\n",
            "weighted avg       0.72      0.72      0.72      3532\n",
            "\n"
          ]
        }
      ]
    },
    {
      "cell_type": "code",
      "source": [
        "feature_importance = pd.DataFrame([X_test.columns, xgc.feature_importances_]).T.rename(columns={0:'features',1:'importance'}).sort_values('importance', ascending=False).reset_index(drop=True)"
      ],
      "metadata": {
        "id": "1qDGOvFJAriv"
      },
      "execution_count": null,
      "outputs": []
    },
    {
      "cell_type": "code",
      "source": [
        "plt.figure(figsize=(10, 8))\n",
        "sns.barplot(x='importance', y='features', data=feature_importance)\n",
        "plt.title('XGBClassifier Feature Importances', fontsize=18)\n",
        "plt.show()"
      ],
      "metadata": {
        "colab": {
          "base_uri": "https://localhost:8080/",
          "height": 517
        },
        "id": "iUHFfH2QAN6b",
        "outputId": "46c46733-c1a3-41f6-f67d-4cd7aafb62ea"
      },
      "execution_count": null,
      "outputs": [
        {
          "output_type": "display_data",
          "data": {
            "text/plain": [
              "<Figure size 720x576 with 1 Axes>"
            ],
            "image/png": "[encoded data removed]"
          },
          "metadata": {
            "needs_background": "light"
          }
        }
      ]
    },
    {
      "cell_type": "code",
      "source": [
        "df[['MB_IDX','date']] = raw[['MB_IDX','date']]"
      ],
      "metadata": {
        "id": "8M0TpayUe7E3"
      },
      "execution_count": null,
      "outputs": []
    },
    {
      "cell_type": "code",
      "source": [
        "df.head()"
      ],
      "metadata": {
        "colab": {
          "base_uri": "https://localhost:8080/",
          "height": 386
        },
        "id": "V-K3RJ1rkGJ8",
        "outputId": "4c1d3e78-dd99-4376-a7cb-55a2475af45f"
      },
      "execution_count": null,
      "outputs": [
        {
          "output_type": "execute_result",
          "data": {
            "text/plain": [
              "         date  MB_IDX before_product_grade  before_special_seat_yn  \\\n",
              "0  2022-02-26  122611            Exciting석                       0   \n",
              "1  2022-02-26  134139            Exciting석                       0   \n",
              "2  2022-02-26  136924            Exciting석                       0   \n",
              "3  2022-03-05  119758            Exciting석                       0   \n",
              "4  2022-03-05  132795            Exciting석                       0   \n",
              "\n",
              "   before_discount_yn before_discount_way  before_first_yn  \\\n",
              "0                   0                  없음                1   \n",
              "1                   0                  없음                1   \n",
              "2                   0                  없음                1   \n",
              "3                   0                  없음                1   \n",
              "4                   0                  없음                1   \n",
              "\n",
              "   before_reserve_count  weekend_yn  night_yn  ...  total_special_seat  \\\n",
              "0                     1           1         0  ...                   0   \n",
              "1                     1           1         0  ...                   0   \n",
              "2                     1           1         0  ...                   0   \n",
              "3                     2           1         1  ...                   0   \n",
              "4                     3           1         1  ...                   6   \n",
              "\n",
              "  total_reserve_date  total_reserve_ticket  rate_ticket_discount  \\\n",
              "0                  5                     9                  0.11   \n",
              "1                  8                    18                  0.50   \n",
              "2                  9                    13                  0.00   \n",
              "3                  2                     4                  0.00   \n",
              "4                  4                    13                  0.00   \n",
              "\n",
              "   rate_special_seat  mean_reserve_ticket  mean_game_nth_diff  last_game_nth  \\\n",
              "0               0.00                 1.80                3.75             16   \n",
              "1               0.00                 2.25                2.57             19   \n",
              "2               0.00                 1.44                2.00             17   \n",
              "3               0.00                 2.00                1.00              3   \n",
              "4               0.46                 3.25                5.67             19   \n",
              "\n",
              "   cluster  target  \n",
              "0        3       1  \n",
              "1        3       1  \n",
              "2        3       1  \n",
              "3        3       1  \n",
              "4        2       1  \n",
              "\n",
              "[5 rows x 35 columns]"
            ],
            "text/html": [
              "\n",
              "  <div id=\"df-ba8d87ce-2df1-4b76-ba49-e0954fac5102\">\n",
              "    <div class=\"colab-df-container\">\n",
              "      <div>\n",
              "<style scoped>\n",
              "    .dataframe tbody tr th:only-of-type {\n",
              "        vertical-align: middle;\n",
              "    }\n",
              "\n",
              "    .dataframe tbody tr th {\n",
              "        vertical-align: top;\n",
              "    }\n",
              "\n",
              "    .dataframe thead th {\n",
              "        text-align: right;\n",
              "    }\n",
              "</style>\n",
              "<table border=\"1\" class=\"dataframe\">\n",
              "  <thead>\n",
              "    <tr style=\"text-align: right;\">\n",
              "      <th></th>\n",
              "      <th>date</th>\n",
              "      <th>MB_IDX</th>\n",
              "      <th>before_product_grade</th>\n",
              "      <th>before_special_seat_yn</th>\n",
              "      <th>before_discount_yn</th>\n",
              "      <th>before_discount_way</th>\n",
              "      <th>before_first_yn</th>\n",
              "      <th>before_reserve_count</th>\n",
              "      <th>weekend_yn</th>\n",
              "      <th>night_yn</th>\n",
              "      <th>...</th>\n",
              "      <th>total_special_seat</th>\n",
              "      <th>total_reserve_date</th>\n",
              "      <th>total_reserve_ticket</th>\n",
              "      <th>rate_ticket_discount</th>\n",
              "      <th>rate_special_seat</th>\n",
              "      <th>mean_reserve_ticket</th>\n",
              "      <th>mean_game_nth_diff</th>\n",
              "      <th>last_game_nth</th>\n",
              "      <th>cluster</th>\n",
              "      <th>target</th>\n",
              "    </tr>\n",
              "  </thead>\n",
              "  <tbody>\n",
              "    <tr>\n",
              "      <th>0</th>\n",
              "      <td>2022-02-26</td>\n",
              "      <td>122611</td>\n",
              "      <td>Exciting석</td>\n",
              "      <td>0</td>\n",
              "      <td>0</td>\n",
              "      <td>없음</td>\n",
              "      <td>1</td>\n",
              "      <td>1</td>\n",
              "      <td>1</td>\n",
              "      <td>0</td>\n",
              "      <td>...</td>\n",
              "      <td>0</td>\n",
              "      <td>5</td>\n",
              "      <td>9</td>\n",
              "      <td>0.11</td>\n",
              "      <td>0.00</td>\n",
              "      <td>1.80</td>\n",
              "      <td>3.75</td>\n",
              "      <td>16</td>\n",
              "      <td>3</td>\n",
              "      <td>1</td>\n",
              "    </tr>\n",
              "    <tr>\n",
              "      <th>1</th>\n",
              "      <td>2022-02-26</td>\n",
              "      <td>134139</td>\n",
              "      <td>Exciting석</td>\n",
              "      <td>0</td>\n",
              "      <td>0</td>\n",
              "      <td>없음</td>\n",
              "      <td>1</td>\n",
              "      <td>1</td>\n",
              "      <td>1</td>\n",
              "      <td>0</td>\n",
              "      <td>...</td>\n",
              "      <td>0</td>\n",
              "      <td>8</td>\n",
              "      <td>18</td>\n",
              "      <td>0.50</td>\n",
              "      <td>0.00</td>\n",
              "      <td>2.25</td>\n",
              "      <td>2.57</td>\n",
              "      <td>19</td>\n",
              "      <td>3</td>\n",
              "      <td>1</td>\n",
              "    </tr>\n",
              "    <tr>\n",
              "      <th>2</th>\n",
              "      <td>2022-02-26</td>\n",
              "      <td>136924</td>\n",
              "      <td>Exciting석</td>\n",
              "      <td>0</td>\n",
              "      <td>0</td>\n",
              "      <td>없음</td>\n",
              "      <td>1</td>\n",
              "      <td>1</td>\n",
              "      <td>1</td>\n",
              "      <td>0</td>\n",
              "      <td>...</td>\n",
              "      <td>0</td>\n",
              "      <td>9</td>\n",
              "      <td>13</td>\n",
              "      <td>0.00</td>\n",
              "      <td>0.00</td>\n",
              "      <td>1.44</td>\n",
              "      <td>2.00</td>\n",
              "      <td>17</td>\n",
              "      <td>3</td>\n",
              "      <td>1</td>\n",
              "    </tr>\n",
              "    <tr>\n",
              "      <th>3</th>\n",
              "      <td>2022-03-05</td>\n",
              "      <td>119758</td>\n",
              "      <td>Exciting석</td>\n",
              "      <td>0</td>\n",
              "      <td>0</td>\n",
              "      <td>없음</td>\n",
              "      <td>1</td>\n",
              "      <td>2</td>\n",
              "      <td>1</td>\n",
              "      <td>1</td>\n",
              "      <td>...</td>\n",
              "      <td>0</td>\n",
              "      <td>2</td>\n",
              "      <td>4</td>\n",
              "      <td>0.00</td>\n",
              "      <td>0.00</td>\n",
              "      <td>2.00</td>\n",
              "      <td>1.00</td>\n",
              "      <td>3</td>\n",
              "      <td>3</td>\n",
              "      <td>1</td>\n",
              "    </tr>\n",
              "    <tr>\n",
              "      <th>4</th>\n",
              "      <td>2022-03-05</td>\n",
              "      <td>132795</td>\n",
              "      <td>Exciting석</td>\n",
              "      <td>0</td>\n",
              "      <td>0</td>\n",
              "      <td>없음</td>\n",
              "      <td>1</td>\n",
              "      <td>3</td>\n",
              "      <td>1</td>\n",
              "      <td>1</td>\n",
              "      <td>...</td>\n",
              "      <td>6</td>\n",
              "      <td>4</td>\n",
              "      <td>13</td>\n",
              "      <td>0.00</td>\n",
              "      <td>0.46</td>\n",
              "      <td>3.25</td>\n",
              "      <td>5.67</td>\n",
              "      <td>19</td>\n",
              "      <td>2</td>\n",
              "      <td>1</td>\n",
              "    </tr>\n",
              "  </tbody>\n",
              "</table>\n",
              "<p>5 rows × 35 columns</p>\n",
              "</div>\n",
              "      <button class=\"colab-df-convert\" onclick=\"convertToInteractive('df-ba8d87ce-2df1-4b76-ba49-e0954fac5102')\"\n",
              "              title=\"Convert this dataframe to an interactive table.\"\n",
              "              style=\"display:none;\">\n",
              "        \n",
              "  <svg xmlns=\"http://www.w3.org/2000/svg\" height=\"24px\"viewBox=\"0 0 24 24\"\n",
              "       width=\"24px\">\n",
              "    <path d=\"M0 0h24v24H0V0z\" fill=\"none\"/>\n",
              "    <path d=\"M18.56 5.44l.94 2.06.94-2.06 2.06-.94-2.06-.94-.94-2.06-.94 2.06-2.06.94zm-11 1L8.5 8.5l.94-2.06 2.06-.94-2.06-.94L8.5 2.5l-.94 2.06-2.06.94zm10 10l.94 2.06.94-2.06 2.06-.94-2.06-.94-.94-2.06-.94 2.06-2.06.94z\"/><path d=\"M17.41 7.96l-1.37-1.37c-.4-.4-.92-.59-1.43-.59-.52 0-1.04.2-1.43.59L10.3 9.45l-7.72 7.72c-.78.78-.78 2.05 0 2.83L4 21.41c.39.39.9.59 1.41.59.51 0 1.02-.2 1.41-.59l7.78-7.78 2.81-2.81c.8-.78.8-2.07 0-2.86zM5.41 20L4 18.59l7.72-7.72 1.47 1.35L5.41 20z\"/>\n",
              "  </svg>\n",
              "      </button>\n",
              "      \n",
              "  <style>\n",
              "    .colab-df-container {\n",
              "      display:flex;\n",
              "      flex-wrap:wrap;\n",
              "      gap: 12px;\n",
              "    }\n",
              "\n",
              "    .colab-df-convert {\n",
              "      background-color: #E8F0FE;\n",
              "      border: none;\n",
              "      border-radius: 50%;\n",
              "      cursor: pointer;\n",
              "      display: none;\n",
              "      fill: #1967D2;\n",
              "      height: 32px;\n",
              "      padding: 0 0 0 0;\n",
              "      width: 32px;\n",
              "    }\n",
              "\n",
              "    .colab-df-convert:hover {\n",
              "      background-color: #E2EBFA;\n",
              "      box-shadow: 0px 1px 2px rgba(60, 64, 67, 0.3), 0px 1px 3px 1px rgba(60, 64, 67, 0.15);\n",
              "      fill: #174EA6;\n",
              "    }\n",
              "\n",
              "    [theme=dark] .colab-df-convert {\n",
              "      background-color: #3B4455;\n",
              "      fill: #D2E3FC;\n",
              "    }\n",
              "\n",
              "    [theme=dark] .colab-df-convert:hover {\n",
              "      background-color: #434B5C;\n",
              "      box-shadow: 0px 1px 3px 1px rgba(0, 0, 0, 0.15);\n",
              "      filter: drop-shadow(0px 1px 2px rgba(0, 0, 0, 0.3));\n",
              "      fill: #FFFFFF;\n",
              "    }\n",
              "  </style>\n",
              "\n",
              "      <script>\n",
              "        const buttonEl =\n",
              "          document.querySelector('#df-ba8d87ce-2df1-4b76-ba49-e0954fac5102 button.colab-df-convert');\n",
              "        buttonEl.style.display =\n",
              "          google.colab.kernel.accessAllowed ? 'block' : 'none';\n",
              "\n",
              "        async function convertToInteractive(key) {\n",
              "          const element = document.querySelector('#df-ba8d87ce-2df1-4b76-ba49-e0954fac5102');\n",
              "          const dataTable =\n",
              "            await google.colab.kernel.invokeFunction('convertToInteractive',\n",
              "                                                     [key], {});\n",
              "          if (!dataTable) return;\n",
              "\n",
              "          const docLinkHtml = 'Like what you see? Visit the ' +\n",
              "            '<a target=\"_blank\" href=https://colab.research.google.com/notebooks/data_table.ipynb>data table notebook</a>'\n",
              "            + ' to learn more about interactive tables.';\n",
              "          element.innerHTML = '';\n",
              "          dataTable['output_type'] = 'display_data';\n",
              "          await google.colab.output.renderOutput(dataTable, element);\n",
              "          const docLink = document.createElement('div');\n",
              "          docLink.innerHTML = docLinkHtml;\n",
              "          element.appendChild(docLink);\n",
              "        }\n",
              "      </script>\n",
              "    </div>\n",
              "  </div>\n",
              "  "
            ]
          },
          "metadata": {},
          "execution_count": 67
        }
      ]
    },
    {
      "cell_type": "code",
      "source": [
        "df.to_csv('data_analysis.csv', index=False)"
      ],
      "metadata": {
        "id": "qW-qMlrPfXlV"
      },
      "execution_count": null,
      "outputs": []
    }
  ]
}