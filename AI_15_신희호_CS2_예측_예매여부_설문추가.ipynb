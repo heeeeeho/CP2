{
  "nbformat": 4,
  "nbformat_minor": 0,
  "metadata": {
    "colab": {
      "provenance": []
    },
    "kernelspec": {
      "name": "python3",
      "display_name": "Python 3"
    },
    "language_info": {
      "name": "python"
    }
  },
  "cells": [
    {
      "cell_type": "markdown",
      "source": [
        "# Import"
      ],
      "metadata": {
        "id": "m1HzoXViN6j4"
      }
    },
    {
      "cell_type": "code",
      "source": [
        "!pip install optuna"
      ],
      "metadata": {
        "id": "QGPnUvIHvB6Q",
        "colab": {
          "base_uri": "https://localhost:8080/"
        },
        "outputId": "b66b9d83-c7a8-4bf0-db73-641ff3678544"
      },
      "execution_count": null,
      "outputs": [
        {
          "output_type": "stream",
          "name": "stdout",
          "text": [
            "Looking in indexes: https://pypi.org/simple, https://us-python.pkg.dev/colab-wheels/public/simple/\n",
            "Collecting optuna\n",
            "  Downloading optuna-3.1.0-py3-none-any.whl (365 kB)\n",
            "\u001b[2K     \u001b[90m━━━━━━━━━━━━━━━━━━━━━━━━━━━━━━━━━━━━━━━\u001b[0m \u001b[32m365.3/365.3 KB\u001b[0m \u001b[31m8.8 MB/s\u001b[0m eta \u001b[36m0:00:00\u001b[0m\n",
            "\u001b[?25hCollecting alembic>=1.5.0\n",
            "  Downloading alembic-1.9.3-py3-none-any.whl (210 kB)\n",
            "\u001b[2K     \u001b[90m━━━━━━━━━━━━━━━━━━━━━━━━━━━━━━━━━━━━━━━\u001b[0m \u001b[32m210.6/210.6 KB\u001b[0m \u001b[31m9.5 MB/s\u001b[0m eta \u001b[36m0:00:00\u001b[0m\n",
            "\u001b[?25hRequirement already satisfied: tqdm in /usr/local/lib/python3.8/dist-packages (from optuna) (4.64.1)\n",
            "Requirement already satisfied: numpy in /usr/local/lib/python3.8/dist-packages (from optuna) (1.21.6)\n",
            "Requirement already satisfied: sqlalchemy>=1.3.0 in /usr/local/lib/python3.8/dist-packages (from optuna) (1.4.46)\n",
            "Requirement already satisfied: packaging>=20.0 in /usr/local/lib/python3.8/dist-packages (from optuna) (23.0)\n",
            "Collecting colorlog\n",
            "  Downloading colorlog-6.7.0-py2.py3-none-any.whl (11 kB)\n",
            "Requirement already satisfied: PyYAML in /usr/local/lib/python3.8/dist-packages (from optuna) (6.0)\n",
            "Collecting cmaes>=0.9.1\n",
            "  Downloading cmaes-0.9.1-py3-none-any.whl (21 kB)\n",
            "Collecting Mako\n",
            "  Downloading Mako-1.2.4-py3-none-any.whl (78 kB)\n",
            "\u001b[2K     \u001b[90m━━━━━━━━━━━━━━━━━━━━━━━━━━━━━━━━━━━━━━━━\u001b[0m \u001b[32m78.7/78.7 KB\u001b[0m \u001b[31m4.9 MB/s\u001b[0m eta \u001b[36m0:00:00\u001b[0m\n",
            "\u001b[?25hRequirement already satisfied: importlib-metadata in /usr/local/lib/python3.8/dist-packages (from alembic>=1.5.0->optuna) (6.0.0)\n",
            "Requirement already satisfied: importlib-resources in /usr/local/lib/python3.8/dist-packages (from alembic>=1.5.0->optuna) (5.10.2)\n",
            "Requirement already satisfied: greenlet!=0.4.17 in /usr/local/lib/python3.8/dist-packages (from sqlalchemy>=1.3.0->optuna) (2.0.2)\n",
            "Requirement already satisfied: zipp>=0.5 in /usr/local/lib/python3.8/dist-packages (from importlib-metadata->alembic>=1.5.0->optuna) (3.12.1)\n",
            "Requirement already satisfied: MarkupSafe>=0.9.2 in /usr/local/lib/python3.8/dist-packages (from Mako->alembic>=1.5.0->optuna) (2.0.1)\n",
            "Installing collected packages: Mako, colorlog, cmaes, alembic, optuna\n",
            "Successfully installed Mako-1.2.4 alembic-1.9.3 cmaes-0.9.1 colorlog-6.7.0 optuna-3.1.0\n"
          ]
        }
      ]
    },
    {
      "cell_type": "code",
      "execution_count": null,
      "metadata": {
        "id": "Xmo7oszcag5o"
      },
      "outputs": [],
      "source": [
        "import pandas as pd\n",
        "import numpy as np\n",
        "\n",
        "import matplotlib.pyplot as plt\n",
        "import seaborn as sns\n",
        "\n",
        "from sklearn.preprocessing import OrdinalEncoder\n",
        "\n",
        "from sklearn.model_selection import train_test_split\n",
        "\n",
        "from sklearn.ensemble import RandomForestClassifier\n",
        "from xgboost import XGBClassifier\n",
        "from lightgbm import LGBMClassifier\n",
        "\n",
        "import optuna\n",
        "from optuna import Trial\n",
        "from optuna.samplers import TPESampler\n",
        "\n",
        "from sklearn.metrics import f1_score\n",
        "from sklearn.metrics import roc_auc_score\n",
        "from sklearn.metrics import classification_report"
      ]
    },
    {
      "cell_type": "markdown",
      "source": [
        "# EDA"
      ],
      "metadata": {
        "id": "rMPDbw84N9yx"
      }
    },
    {
      "cell_type": "code",
      "source": [
        "raw = pd.read_csv('predict_yn_satisfaction.csv')"
      ],
      "metadata": {
        "id": "RB8ZKm-X4z6b"
      },
      "execution_count": null,
      "outputs": []
    },
    {
      "cell_type": "code",
      "source": [
        "df = raw.copy()"
      ],
      "metadata": {
        "id": "UHM7boxteBiL"
      },
      "execution_count": null,
      "outputs": []
    },
    {
      "cell_type": "markdown",
      "source": [
        "## 정리"
      ],
      "metadata": {
        "id": "Qm70QGjL39kl"
      }
    },
    {
      "cell_type": "code",
      "source": [
        "X = df.copy()\n",
        "y = df['target']"
      ],
      "metadata": {
        "id": "ZKMynwMpeMm8"
      },
      "execution_count": null,
      "outputs": []
    },
    {
      "cell_type": "code",
      "source": [
        "X = X.drop(['MB_IDX', 'before_audience'], axis=1)"
      ],
      "metadata": {
        "id": "AJ1H09iPcwLF"
      },
      "execution_count": null,
      "outputs": []
    },
    {
      "cell_type": "code",
      "source": [
        "X = X[X.columns[:-11]]"
      ],
      "metadata": {
        "id": "1mGstnyA8xWS"
      },
      "execution_count": null,
      "outputs": []
    },
    {
      "cell_type": "code",
      "source": [
        "X.head()"
      ],
      "metadata": {
        "id": "VJ4SrpkqtWzV",
        "colab": {
          "base_uri": "https://localhost:8080/"
        },
        "outputId": "065782eb-644e-4277-9a2d-bbef08664857"
      },
      "execution_count": null,
      "outputs": [
        {
          "output_type": "execute_result",
          "data": {
            "text/plain": [
              "         date before_product_grade  before_special_seat_yn  \\\n",
              "0  2022-09-02              1인 테이블석                       1   \n",
              "1  2022-04-10              1인 테이블석                       1   \n",
              "2  2022-02-26              1인 테이블석                       1   \n",
              "3  2022-03-05              1인 테이블석                       1   \n",
              "4  2022-03-13              1인 테이블석                       1   \n",
              "\n",
              "   before_discount_yn before_discount_way  before_first_yn  \\\n",
              "0                   0                  없음                0   \n",
              "1                   1                 멤버십                0   \n",
              "2                   0                  없음                1   \n",
              "3                   0                  없음                0   \n",
              "4                   0                  없음                0   \n",
              "\n",
              "   before_reserve_count  before_ticket_satisfaction  before_gate_satisfaction  \\\n",
              "0                     2                           5                         5   \n",
              "1                     1                           5                         1   \n",
              "2                     4                           5                         5   \n",
              "3                     2                           5                         5   \n",
              "4                     2                           5                         5   \n",
              "\n",
              "   before_seat_satisfaction  ...  before_goal_diff  before_game_result  \\\n",
              "0                         5  ...                 2                 1.0   \n",
              "1                         5  ...                 0                 0.5   \n",
              "2                         5  ...                 1                 1.0   \n",
              "3                         5  ...                 0                 0.5   \n",
              "4                         5  ...                -1                 0.0   \n",
              "\n",
              "   before_rank youtube_count  youtube_mean_view  youtube_mean_like  age_group  \\\n",
              "0            3             6               3936                163         30   \n",
              "1            2             3               2254                113         20   \n",
              "2            2             4               2794                158         30   \n",
              "3            4             4               1816                 97         40   \n",
              "4            4             4               1046                 54         40   \n",
              "\n",
              "   region           job  favorite_idx  \n",
              "0   인천광역시  회사원(사무직/연구직)           김보섭  \n",
              "1     수도권      서비스업 종사자           오반석  \n",
              "2   인천광역시          자영업자            여름  \n",
              "3   인천광역시  회사원(사무직/연구직)          델브리지  \n",
              "4   인천광역시  회사원(사무직/연구직)          델브리지  \n",
              "\n",
              "[5 rows x 25 columns]"
            ],
            "text/html": [
              "\n",
              "  <div id=\"df-a65e1e5b-5dbf-4b1c-a474-0fc00c3d6334\">\n",
              "    <div class=\"colab-df-container\">\n",
              "      <div>\n",
              "<style scoped>\n",
              "    .dataframe tbody tr th:only-of-type {\n",
              "        vertical-align: middle;\n",
              "    }\n",
              "\n",
              "    .dataframe tbody tr th {\n",
              "        vertical-align: top;\n",
              "    }\n",
              "\n",
              "    .dataframe thead th {\n",
              "        text-align: right;\n",
              "    }\n",
              "</style>\n",
              "<table border=\"1\" class=\"dataframe\">\n",
              "  <thead>\n",
              "    <tr style=\"text-align: right;\">\n",
              "      <th></th>\n",
              "      <th>date</th>\n",
              "      <th>before_product_grade</th>\n",
              "      <th>before_special_seat_yn</th>\n",
              "      <th>before_discount_yn</th>\n",
              "      <th>before_discount_way</th>\n",
              "      <th>before_first_yn</th>\n",
              "      <th>before_reserve_count</th>\n",
              "      <th>before_ticket_satisfaction</th>\n",
              "      <th>before_gate_satisfaction</th>\n",
              "      <th>before_seat_satisfaction</th>\n",
              "      <th>...</th>\n",
              "      <th>before_goal_diff</th>\n",
              "      <th>before_game_result</th>\n",
              "      <th>before_rank</th>\n",
              "      <th>youtube_count</th>\n",
              "      <th>youtube_mean_view</th>\n",
              "      <th>youtube_mean_like</th>\n",
              "      <th>age_group</th>\n",
              "      <th>region</th>\n",
              "      <th>job</th>\n",
              "      <th>favorite_idx</th>\n",
              "    </tr>\n",
              "  </thead>\n",
              "  <tbody>\n",
              "    <tr>\n",
              "      <th>0</th>\n",
              "      <td>2022-09-02</td>\n",
              "      <td>1인 테이블석</td>\n",
              "      <td>1</td>\n",
              "      <td>0</td>\n",
              "      <td>없음</td>\n",
              "      <td>0</td>\n",
              "      <td>2</td>\n",
              "      <td>5</td>\n",
              "      <td>5</td>\n",
              "      <td>5</td>\n",
              "      <td>...</td>\n",
              "      <td>2</td>\n",
              "      <td>1.0</td>\n",
              "      <td>3</td>\n",
              "      <td>6</td>\n",
              "      <td>3936</td>\n",
              "      <td>163</td>\n",
              "      <td>30</td>\n",
              "      <td>인천광역시</td>\n",
              "      <td>회사원(사무직/연구직)</td>\n",
              "      <td>김보섭</td>\n",
              "    </tr>\n",
              "    <tr>\n",
              "      <th>1</th>\n",
              "      <td>2022-04-10</td>\n",
              "      <td>1인 테이블석</td>\n",
              "      <td>1</td>\n",
              "      <td>1</td>\n",
              "      <td>멤버십</td>\n",
              "      <td>0</td>\n",
              "      <td>1</td>\n",
              "      <td>5</td>\n",
              "      <td>1</td>\n",
              "      <td>5</td>\n",
              "      <td>...</td>\n",
              "      <td>0</td>\n",
              "      <td>0.5</td>\n",
              "      <td>2</td>\n",
              "      <td>3</td>\n",
              "      <td>2254</td>\n",
              "      <td>113</td>\n",
              "      <td>20</td>\n",
              "      <td>수도권</td>\n",
              "      <td>서비스업 종사자</td>\n",
              "      <td>오반석</td>\n",
              "    </tr>\n",
              "    <tr>\n",
              "      <th>2</th>\n",
              "      <td>2022-02-26</td>\n",
              "      <td>1인 테이블석</td>\n",
              "      <td>1</td>\n",
              "      <td>0</td>\n",
              "      <td>없음</td>\n",
              "      <td>1</td>\n",
              "      <td>4</td>\n",
              "      <td>5</td>\n",
              "      <td>5</td>\n",
              "      <td>5</td>\n",
              "      <td>...</td>\n",
              "      <td>1</td>\n",
              "      <td>1.0</td>\n",
              "      <td>2</td>\n",
              "      <td>4</td>\n",
              "      <td>2794</td>\n",
              "      <td>158</td>\n",
              "      <td>30</td>\n",
              "      <td>인천광역시</td>\n",
              "      <td>자영업자</td>\n",
              "      <td>여름</td>\n",
              "    </tr>\n",
              "    <tr>\n",
              "      <th>3</th>\n",
              "      <td>2022-03-05</td>\n",
              "      <td>1인 테이블석</td>\n",
              "      <td>1</td>\n",
              "      <td>0</td>\n",
              "      <td>없음</td>\n",
              "      <td>0</td>\n",
              "      <td>2</td>\n",
              "      <td>5</td>\n",
              "      <td>5</td>\n",
              "      <td>5</td>\n",
              "      <td>...</td>\n",
              "      <td>0</td>\n",
              "      <td>0.5</td>\n",
              "      <td>4</td>\n",
              "      <td>4</td>\n",
              "      <td>1816</td>\n",
              "      <td>97</td>\n",
              "      <td>40</td>\n",
              "      <td>인천광역시</td>\n",
              "      <td>회사원(사무직/연구직)</td>\n",
              "      <td>델브리지</td>\n",
              "    </tr>\n",
              "    <tr>\n",
              "      <th>4</th>\n",
              "      <td>2022-03-13</td>\n",
              "      <td>1인 테이블석</td>\n",
              "      <td>1</td>\n",
              "      <td>0</td>\n",
              "      <td>없음</td>\n",
              "      <td>0</td>\n",
              "      <td>2</td>\n",
              "      <td>5</td>\n",
              "      <td>5</td>\n",
              "      <td>5</td>\n",
              "      <td>...</td>\n",
              "      <td>-1</td>\n",
              "      <td>0.0</td>\n",
              "      <td>4</td>\n",
              "      <td>4</td>\n",
              "      <td>1046</td>\n",
              "      <td>54</td>\n",
              "      <td>40</td>\n",
              "      <td>인천광역시</td>\n",
              "      <td>회사원(사무직/연구직)</td>\n",
              "      <td>델브리지</td>\n",
              "    </tr>\n",
              "  </tbody>\n",
              "</table>\n",
              "<p>5 rows × 25 columns</p>\n",
              "</div>\n",
              "      <button class=\"colab-df-convert\" onclick=\"convertToInteractive('df-a65e1e5b-5dbf-4b1c-a474-0fc00c3d6334')\"\n",
              "              title=\"Convert this dataframe to an interactive table.\"\n",
              "              style=\"display:none;\">\n",
              "        \n",
              "  <svg xmlns=\"http://www.w3.org/2000/svg\" height=\"24px\"viewBox=\"0 0 24 24\"\n",
              "       width=\"24px\">\n",
              "    <path d=\"M0 0h24v24H0V0z\" fill=\"none\"/>\n",
              "    <path d=\"M18.56 5.44l.94 2.06.94-2.06 2.06-.94-2.06-.94-.94-2.06-.94 2.06-2.06.94zm-11 1L8.5 8.5l.94-2.06 2.06-.94-2.06-.94L8.5 2.5l-.94 2.06-2.06.94zm10 10l.94 2.06.94-2.06 2.06-.94-2.06-.94-.94-2.06-.94 2.06-2.06.94z\"/><path d=\"M17.41 7.96l-1.37-1.37c-.4-.4-.92-.59-1.43-.59-.52 0-1.04.2-1.43.59L10.3 9.45l-7.72 7.72c-.78.78-.78 2.05 0 2.83L4 21.41c.39.39.9.59 1.41.59.51 0 1.02-.2 1.41-.59l7.78-7.78 2.81-2.81c.8-.78.8-2.07 0-2.86zM5.41 20L4 18.59l7.72-7.72 1.47 1.35L5.41 20z\"/>\n",
              "  </svg>\n",
              "      </button>\n",
              "      \n",
              "  <style>\n",
              "    .colab-df-container {\n",
              "      display:flex;\n",
              "      flex-wrap:wrap;\n",
              "      gap: 12px;\n",
              "    }\n",
              "\n",
              "    .colab-df-convert {\n",
              "      background-color: #E8F0FE;\n",
              "      border: none;\n",
              "      border-radius: 50%;\n",
              "      cursor: pointer;\n",
              "      display: none;\n",
              "      fill: #1967D2;\n",
              "      height: 32px;\n",
              "      padding: 0 0 0 0;\n",
              "      width: 32px;\n",
              "    }\n",
              "\n",
              "    .colab-df-convert:hover {\n",
              "      background-color: #E2EBFA;\n",
              "      box-shadow: 0px 1px 2px rgba(60, 64, 67, 0.3), 0px 1px 3px 1px rgba(60, 64, 67, 0.15);\n",
              "      fill: #174EA6;\n",
              "    }\n",
              "\n",
              "    [theme=dark] .colab-df-convert {\n",
              "      background-color: #3B4455;\n",
              "      fill: #D2E3FC;\n",
              "    }\n",
              "\n",
              "    [theme=dark] .colab-df-convert:hover {\n",
              "      background-color: #434B5C;\n",
              "      box-shadow: 0px 1px 3px 1px rgba(0, 0, 0, 0.15);\n",
              "      filter: drop-shadow(0px 1px 2px rgba(0, 0, 0, 0.3));\n",
              "      fill: #FFFFFF;\n",
              "    }\n",
              "  </style>\n",
              "\n",
              "      <script>\n",
              "        const buttonEl =\n",
              "          document.querySelector('#df-a65e1e5b-5dbf-4b1c-a474-0fc00c3d6334 button.colab-df-convert');\n",
              "        buttonEl.style.display =\n",
              "          google.colab.kernel.accessAllowed ? 'block' : 'none';\n",
              "\n",
              "        async function convertToInteractive(key) {\n",
              "          const element = document.querySelector('#df-a65e1e5b-5dbf-4b1c-a474-0fc00c3d6334');\n",
              "          const dataTable =\n",
              "            await google.colab.kernel.invokeFunction('convertToInteractive',\n",
              "                                                     [key], {});\n",
              "          if (!dataTable) return;\n",
              "\n",
              "          const docLinkHtml = 'Like what you see? Visit the ' +\n",
              "            '<a target=\"_blank\" href=https://colab.research.google.com/notebooks/data_table.ipynb>data table notebook</a>'\n",
              "            + ' to learn more about interactive tables.';\n",
              "          element.innerHTML = '';\n",
              "          dataTable['output_type'] = 'display_data';\n",
              "          await google.colab.output.renderOutput(dataTable, element);\n",
              "          const docLink = document.createElement('div');\n",
              "          docLink.innerHTML = docLinkHtml;\n",
              "          element.appendChild(docLink);\n",
              "        }\n",
              "      </script>\n",
              "    </div>\n",
              "  </div>\n",
              "  "
            ]
          },
          "metadata": {},
          "execution_count": 8
        }
      ]
    },
    {
      "cell_type": "code",
      "source": [
        "X.info()"
      ],
      "metadata": {
        "id": "21fO0WVteh65",
        "colab": {
          "base_uri": "https://localhost:8080/"
        },
        "outputId": "59f2165a-05bd-4c14-e8bf-746da266c753"
      },
      "execution_count": null,
      "outputs": [
        {
          "output_type": "stream",
          "name": "stdout",
          "text": [
            "<class 'pandas.core.frame.DataFrame'>\n",
            "RangeIndex: 2213 entries, 0 to 2212\n",
            "Data columns (total 25 columns):\n",
            " #   Column                      Non-Null Count  Dtype  \n",
            "---  ------                      --------------  -----  \n",
            " 0   date                        2213 non-null   object \n",
            " 1   before_product_grade        2213 non-null   object \n",
            " 2   before_special_seat_yn      2213 non-null   int64  \n",
            " 3   before_discount_yn          2213 non-null   int64  \n",
            " 4   before_discount_way         2213 non-null   object \n",
            " 5   before_first_yn             2213 non-null   int64  \n",
            " 6   before_reserve_count        2213 non-null   int64  \n",
            " 7   before_ticket_satisfaction  2213 non-null   int64  \n",
            " 8   before_gate_satisfaction    2213 non-null   int64  \n",
            " 9   before_seat_satisfaction    2213 non-null   int64  \n",
            " 10  weekend_yn                  2213 non-null   int64  \n",
            " 11  night_yn                    2213 non-null   int64  \n",
            " 12  final_yn                    2213 non-null   int64  \n",
            " 13  away_team_name              2213 non-null   object \n",
            " 14  before_home_goal            2213 non-null   int64  \n",
            " 15  before_goal_diff            2213 non-null   int64  \n",
            " 16  before_game_result          2213 non-null   float64\n",
            " 17  before_rank                 2213 non-null   int64  \n",
            " 18  youtube_count               2213 non-null   int64  \n",
            " 19  youtube_mean_view           2213 non-null   int64  \n",
            " 20  youtube_mean_like           2213 non-null   int64  \n",
            " 21  age_group                   2213 non-null   int64  \n",
            " 22  region                      2213 non-null   object \n",
            " 23  job                         2106 non-null   object \n",
            " 24  favorite_idx                2213 non-null   object \n",
            "dtypes: float64(1), int64(17), object(7)\n",
            "memory usage: 432.4+ KB\n"
          ]
        }
      ]
    },
    {
      "cell_type": "code",
      "source": [
        "X.isna().sum()"
      ],
      "metadata": {
        "id": "pw9fS9Nemlk6",
        "colab": {
          "base_uri": "https://localhost:8080/"
        },
        "outputId": "9aadad6b-23f1-4e7c-f316-fd92ba3ebb31"
      },
      "execution_count": null,
      "outputs": [
        {
          "output_type": "execute_result",
          "data": {
            "text/plain": [
              "date                            0\n",
              "before_product_grade            0\n",
              "before_special_seat_yn          0\n",
              "before_discount_yn              0\n",
              "before_discount_way             0\n",
              "before_first_yn                 0\n",
              "before_reserve_count            0\n",
              "before_ticket_satisfaction      0\n",
              "before_gate_satisfaction        0\n",
              "before_seat_satisfaction        0\n",
              "weekend_yn                      0\n",
              "night_yn                        0\n",
              "final_yn                        0\n",
              "away_team_name                  0\n",
              "before_home_goal                0\n",
              "before_goal_diff                0\n",
              "before_game_result              0\n",
              "before_rank                     0\n",
              "youtube_count                   0\n",
              "youtube_mean_view               0\n",
              "youtube_mean_like               0\n",
              "age_group                       0\n",
              "region                          0\n",
              "job                           107\n",
              "favorite_idx                    0\n",
              "dtype: int64"
            ]
          },
          "metadata": {},
          "execution_count": 10
        }
      ]
    },
    {
      "cell_type": "code",
      "source": [
        "# job에 결측치가 존재함\n",
        "# job은 age_group과 관련성이 높을 것이므로 age_group별로 가장 많은 비중을 차지하는 job을 할당해주기로 함"
      ],
      "metadata": {
        "id": "vrkxxi37g1EN"
      },
      "execution_count": null,
      "outputs": []
    },
    {
      "cell_type": "code",
      "source": [
        "for i in X['age_group'].unique():\n",
        "    X.loc[X['age_group'] == i, 'job'] = X.loc[X['age_group'] == i, 'job'].fillna(X[X['age_group'] == i]['job'].value_counts().index[0])"
      ],
      "metadata": {
        "id": "RUUfUG6yhv08"
      },
      "execution_count": null,
      "outputs": []
    },
    {
      "cell_type": "code",
      "source": [
        "X['date'] = X['date'].str.split('-').str[1].astype(int)\n",
        "X = X.rename(columns={'date':'month'})"
      ],
      "metadata": {
        "id": "0zwhQD5TePgi"
      },
      "execution_count": null,
      "outputs": []
    },
    {
      "cell_type": "code",
      "source": [
        "encoder = OrdinalEncoder()\n",
        "\n",
        "need_encoding = []\n",
        "for i in X.columns:\n",
        "    if type(X.loc[0, i]) == str:\n",
        "        need_encoding.append(i)\n",
        "\n",
        "encoded = encoder.fit_transform(X[need_encoding])"
      ],
      "metadata": {
        "id": "YTw1MzfF8doE"
      },
      "execution_count": null,
      "outputs": []
    },
    {
      "cell_type": "code",
      "source": [
        "encoded = encoded.astype(int)"
      ],
      "metadata": {
        "id": "Z5FZpirtzeaF"
      },
      "execution_count": null,
      "outputs": []
    },
    {
      "cell_type": "code",
      "source": [
        "X_encoded = pd.DataFrame(encoded, columns=need_encoding)"
      ],
      "metadata": {
        "id": "1y44xEHd9gAW"
      },
      "execution_count": null,
      "outputs": []
    },
    {
      "cell_type": "code",
      "source": [
        "X.loc[:, need_encoding] = X_encoded"
      ],
      "metadata": {
        "id": "Mez7u8AL92nu"
      },
      "execution_count": null,
      "outputs": []
    },
    {
      "cell_type": "code",
      "source": [
        "X.hist(figsize=(16,12), bins=8)\n",
        "plt.show()"
      ],
      "metadata": {
        "colab": {
          "base_uri": "https://localhost:8080/"
        },
        "id": "m4cqFWXmem08",
        "outputId": "7b161f46-abb4-481d-94c5-63cb1776d0a2"
      },
      "execution_count": null,
      "outputs": [
        {
          "output_type": "display_data",
          "data": {
            "text/plain": [
              "<Figure size 1152x864 with 25 Axes>"
            ],
            "image/png": "[encoded data removed]"
          },
          "metadata": {
            "needs_background": "light"
          }
        }
      ]
    },
    {
      "cell_type": "code",
      "source": [
        "y.hist()\n",
        "plt.show()"
      ],
      "metadata": {
        "colab": {
          "base_uri": "https://localhost:8080/"
        },
        "id": "O5-8ZppSevJe",
        "outputId": "02d165b0-905c-4dc7-bda0-aaaf4b291645"
      },
      "execution_count": null,
      "outputs": [
        {
          "output_type": "display_data",
          "data": {
            "text/plain": [
              "<Figure size 432x288 with 1 Axes>"
            ],
            "image/png": "[encoded data removed]"
          },
          "metadata": {
            "needs_background": "light"
          }
        }
      ]
    },
    {
      "cell_type": "code",
      "source": [
        "# 타겟 균형이 괜찮은 편이라고 생각함"
      ],
      "metadata": {
        "id": "Vn21Su34tSyE"
      },
      "execution_count": null,
      "outputs": []
    },
    {
      "cell_type": "markdown",
      "source": [
        "# Feature Select"
      ],
      "metadata": {
        "id": "NI6KJUbjL0hy"
      }
    },
    {
      "cell_type": "markdown",
      "source": [
        "## 1. 만족도 + 직전 경기 결과 및 순위"
      ],
      "metadata": {
        "id": "1c1bIBgcNLif"
      }
    },
    {
      "cell_type": "code",
      "source": [
        "# 일부 피쳐 드랍\n",
        "X1 = X.drop(['before_product_grade', 'before_special_seat_yn',\n",
        "            'before_discount_yn', 'before_discount_way', 'before_first_yn', 'before_reserve_count',\n",
        "            'youtube_count', 'youtube_mean_view', 'youtube_mean_like'], axis=1)"
      ],
      "metadata": {
        "id": "EJZymfIyNLig"
      },
      "execution_count": null,
      "outputs": []
    },
    {
      "cell_type": "code",
      "source": [
        "X1.columns"
      ],
      "metadata": {
        "colab": {
          "base_uri": "https://localhost:8080/"
        },
        "outputId": "14a431a3-19b5-48bd-f7c8-7a3aafa8f2c4",
        "id": "ycPfTy6XNLig"
      },
      "execution_count": null,
      "outputs": [
        {
          "output_type": "execute_result",
          "data": {
            "text/plain": [
              "Index(['month', 'before_ticket_satisfaction', 'before_gate_satisfaction',\n",
              "       'before_seat_satisfaction', 'weekend_yn', 'night_yn', 'final_yn',\n",
              "       'away_team_name', 'before_home_goal', 'before_goal_diff',\n",
              "       'before_game_result', 'before_rank', 'age_group', 'region', 'job',\n",
              "       'favorite_idx'],\n",
              "      dtype='object')"
            ]
          },
          "metadata": {},
          "execution_count": 22
        }
      ]
    },
    {
      "cell_type": "code",
      "source": [
        "X_train, X_test, y_train, y_test = train_test_split(X1, y, test_size=0.2, random_state=2, stratify=y, shuffle=True)\n",
        "X_train, X_val, y_train, y_val = train_test_split(X_train, y_train, test_size=0.2, random_state=2, stratify=y_train, shuffle=True)"
      ],
      "metadata": {
        "id": "p-DNgA0uNLih"
      },
      "execution_count": null,
      "outputs": []
    },
    {
      "cell_type": "code",
      "source": [
        "score_list1 = []"
      ],
      "metadata": {
        "id": "CRPevowDNLih"
      },
      "execution_count": null,
      "outputs": []
    },
    {
      "cell_type": "code",
      "source": [
        "rfc = RandomForestClassifier(random_state=2)\n",
        "\n",
        "rfc.fit(X_train, y_train)\n",
        "\n",
        "rfc_pred = rfc.predict(X_val)\n",
        "rfc_prob = rfc.predict_proba(X_val)[:,1]\n",
        "\n",
        "score_list1.append(roc_auc_score(y_val, rfc_prob))\n",
        "\n",
        "print('RandomForestClassifier')\n",
        "print('roc_auc_score :', roc_auc_score(y_val, rfc_prob), '\\n')\n",
        "print('classification_report', '\\n', classification_report(y_val, rfc_pred))"
      ],
      "metadata": {
        "colab": {
          "base_uri": "https://localhost:8080/"
        },
        "outputId": "59f533d9-c7f7-4ffd-d58b-23970199371c",
        "id": "XG5TeIIANLii"
      },
      "execution_count": null,
      "outputs": [
        {
          "output_type": "stream",
          "name": "stdout",
          "text": [
            "RandomForestClassifier\n",
            "roc_auc_score : 0.6550059537218805 \n",
            "\n",
            "classification_report \n",
            "               precision    recall  f1-score   support\n",
            "\n",
            "           0       0.57      0.57      0.57       161\n",
            "           1       0.64      0.64      0.64       193\n",
            "\n",
            "    accuracy                           0.61       354\n",
            "   macro avg       0.60      0.60      0.60       354\n",
            "weighted avg       0.61      0.61      0.61       354\n",
            "\n"
          ]
        }
      ]
    },
    {
      "cell_type": "code",
      "source": [
        "xgc = XGBClassifier(random_state=2)\n",
        "\n",
        "xgc.fit(X_train, y_train)\n",
        "\n",
        "xgc_pred = xgc.predict(X_val)\n",
        "xgc_prob = xgc.predict_proba(X_val)[:,1]\n",
        "\n",
        "score_list1.append(roc_auc_score(y_val, xgc_prob))\n",
        "\n",
        "print('XGBClassifier')\n",
        "print('roc_auc_score :', roc_auc_score(y_val, xgc_prob), '\\n')\n",
        "print('classification_report', '\\n', classification_report(y_val, xgc_pred))"
      ],
      "metadata": {
        "colab": {
          "base_uri": "https://localhost:8080/"
        },
        "outputId": "c672350c-c249-419e-c934-ee75dbdcc017",
        "id": "60JXuf5RNLii"
      },
      "execution_count": null,
      "outputs": [
        {
          "output_type": "stream",
          "name": "stdout",
          "text": [
            "XGBClassifier\n",
            "roc_auc_score : 0.7163131979532069 \n",
            "\n",
            "classification_report \n",
            "               precision    recall  f1-score   support\n",
            "\n",
            "           0       0.64      0.59      0.61       161\n",
            "           1       0.68      0.73      0.70       193\n",
            "\n",
            "    accuracy                           0.66       354\n",
            "   macro avg       0.66      0.66      0.66       354\n",
            "weighted avg       0.66      0.66      0.66       354\n",
            "\n"
          ]
        }
      ]
    },
    {
      "cell_type": "code",
      "source": [
        "lgc = LGBMClassifier(random_state=2)\n",
        "\n",
        "lgc.fit(X_train, y_train)\n",
        "\n",
        "lgc_pred = lgc.predict(X_val)\n",
        "lgc_prob = lgc.predict_proba(X_val)[:,1]\n",
        "\n",
        "score_list1.append(roc_auc_score(y_val, lgc_prob))\n",
        "\n",
        "print('LGBMClassifier')\n",
        "print('roc_auc_score :', roc_auc_score(y_val, lgc_prob), '\\n')\n",
        "print('classification_report', '\\n', classification_report(y_val, lgc_pred))"
      ],
      "metadata": {
        "colab": {
          "base_uri": "https://localhost:8080/"
        },
        "outputId": "64bfe1e9-135f-45f3-d04b-b4db1fd9b061",
        "id": "Zqo5STBQNLii"
      },
      "execution_count": null,
      "outputs": [
        {
          "output_type": "stream",
          "name": "stdout",
          "text": [
            "LGBMClassifier\n",
            "roc_auc_score : 0.6767933575773181 \n",
            "\n",
            "classification_report \n",
            "               precision    recall  f1-score   support\n",
            "\n",
            "           0       0.60      0.57      0.58       161\n",
            "           1       0.65      0.68      0.67       193\n",
            "\n",
            "    accuracy                           0.63       354\n",
            "   macro avg       0.63      0.62      0.62       354\n",
            "weighted avg       0.63      0.63      0.63       354\n",
            "\n"
          ]
        }
      ]
    },
    {
      "cell_type": "code",
      "source": [
        "print('RandomForestClassifier :', score_list1[0])\n",
        "print('XGBClassifier :', score_list1[1])\n",
        "print('LGBMClassifier :', score_list1[2])"
      ],
      "metadata": {
        "colab": {
          "base_uri": "https://localhost:8080/"
        },
        "outputId": "18a6503d-005f-4df7-f8d6-cbebcac6b76e",
        "id": "kgr7L-2ZNLii"
      },
      "execution_count": null,
      "outputs": [
        {
          "output_type": "stream",
          "name": "stdout",
          "text": [
            "RandomForestClassifier : 0.6550059537218805\n",
            "XGBClassifier : 0.7163131979532069\n",
            "LGBMClassifier : 0.6767933575773181\n"
          ]
        }
      ]
    },
    {
      "cell_type": "markdown",
      "source": [
        "## 2. 만족도 + 직전 경기 결과 및 순위 + 유튜브"
      ],
      "metadata": {
        "id": "VHXmhrbvM3Rh"
      }
    },
    {
      "cell_type": "code",
      "source": [
        "# 일부 피쳐 드랍\n",
        "X2 = X.drop(['before_product_grade', 'before_special_seat_yn',\n",
        "            'before_discount_yn', 'before_discount_way', 'before_first_yn', 'before_reserve_count'], axis=1)"
      ],
      "metadata": {
        "id": "k0GZ-5FzM3Rh"
      },
      "execution_count": null,
      "outputs": []
    },
    {
      "cell_type": "code",
      "source": [
        "X2.columns"
      ],
      "metadata": {
        "colab": {
          "base_uri": "https://localhost:8080/"
        },
        "outputId": "29a8a82a-4e5a-480c-e8f8-de8ab4b9c43e",
        "id": "ICcHUqolM3Rh"
      },
      "execution_count": null,
      "outputs": [
        {
          "output_type": "execute_result",
          "data": {
            "text/plain": [
              "Index(['month', 'before_ticket_satisfaction', 'before_gate_satisfaction',\n",
              "       'before_seat_satisfaction', 'weekend_yn', 'night_yn', 'final_yn',\n",
              "       'away_team_name', 'before_home_goal', 'before_goal_diff',\n",
              "       'before_game_result', 'before_rank', 'youtube_count',\n",
              "       'youtube_mean_view', 'youtube_mean_like', 'age_group', 'region', 'job',\n",
              "       'favorite_idx'],\n",
              "      dtype='object')"
            ]
          },
          "metadata": {},
          "execution_count": 30
        }
      ]
    },
    {
      "cell_type": "code",
      "source": [
        "X_train, X_test, y_train, y_test = train_test_split(X2, y, test_size=0.2, random_state=2, stratify=y, shuffle=True)\n",
        "X_train, X_val, y_train, y_val = train_test_split(X_train, y_train, test_size=0.2, random_state=2, stratify=y_train, shuffle=True)"
      ],
      "metadata": {
        "id": "HWlFSEqeM3Ri"
      },
      "execution_count": null,
      "outputs": []
    },
    {
      "cell_type": "code",
      "source": [
        "score_list2 = []"
      ],
      "metadata": {
        "id": "tZ4Jwc4XM3Rj"
      },
      "execution_count": null,
      "outputs": []
    },
    {
      "cell_type": "code",
      "source": [
        "rfc = RandomForestClassifier(random_state=2)\n",
        "\n",
        "rfc.fit(X_train, y_train)\n",
        "\n",
        "rfc_pred = rfc.predict(X_val)\n",
        "rfc_prob = rfc.predict_proba(X_val)[:,1]\n",
        "\n",
        "score_list2.append(roc_auc_score(y_val, rfc_prob))\n",
        "\n",
        "print('RandomForestClassifier')\n",
        "print('roc_auc_score :', roc_auc_score(y_val, rfc_prob), '\\n')\n",
        "print('classification_report', '\\n', classification_report(y_val, rfc_pred))"
      ],
      "metadata": {
        "colab": {
          "base_uri": "https://localhost:8080/"
        },
        "outputId": "73c38e8e-f018-4d94-b74b-32640bdd27aa",
        "id": "cEjWq1EEM3Rj"
      },
      "execution_count": null,
      "outputs": [
        {
          "output_type": "stream",
          "name": "stdout",
          "text": [
            "RandomForestClassifier\n",
            "roc_auc_score : 0.6614424098091591 \n",
            "\n",
            "classification_report \n",
            "               precision    recall  f1-score   support\n",
            "\n",
            "           0       0.61      0.58      0.59       161\n",
            "           1       0.66      0.68      0.67       193\n",
            "\n",
            "    accuracy                           0.64       354\n",
            "   macro avg       0.63      0.63      0.63       354\n",
            "weighted avg       0.64      0.64      0.64       354\n",
            "\n"
          ]
        }
      ]
    },
    {
      "cell_type": "code",
      "source": [
        "xgc = XGBClassifier(random_state=2)\n",
        "\n",
        "xgc.fit(X_train, y_train)\n",
        "\n",
        "xgc_pred = xgc.predict(X_val)\n",
        "xgc_prob = xgc.predict_proba(X_val)[:,1]\n",
        "\n",
        "score_list2.append(roc_auc_score(y_val, xgc_prob))\n",
        "\n",
        "print('XGBClassifier')\n",
        "print('roc_auc_score :', roc_auc_score(y_val, xgc_prob), '\\n')\n",
        "print('classification_report', '\\n', classification_report(y_val, xgc_pred))"
      ],
      "metadata": {
        "colab": {
          "base_uri": "https://localhost:8080/"
        },
        "outputId": "8f1fc0a4-6158-49c2-b7e5-7b970e7b15f0",
        "id": "mdEyftZ-M3Rj"
      },
      "execution_count": null,
      "outputs": [
        {
          "output_type": "stream",
          "name": "stdout",
          "text": [
            "XGBClassifier\n",
            "roc_auc_score : 0.7139799826215686 \n",
            "\n",
            "classification_report \n",
            "               precision    recall  f1-score   support\n",
            "\n",
            "           0       0.64      0.60      0.62       161\n",
            "           1       0.68      0.72      0.70       193\n",
            "\n",
            "    accuracy                           0.66       354\n",
            "   macro avg       0.66      0.66      0.66       354\n",
            "weighted avg       0.66      0.66      0.66       354\n",
            "\n"
          ]
        }
      ]
    },
    {
      "cell_type": "code",
      "source": [
        "lgc = LGBMClassifier(random_state=2)\n",
        "\n",
        "lgc.fit(X_train, y_train)\n",
        "\n",
        "lgc_pred = lgc.predict(X_val)\n",
        "lgc_prob = lgc.predict_proba(X_val)[:,1]\n",
        "\n",
        "score_list2.append(roc_auc_score(y_val, lgc_prob))\n",
        "\n",
        "print('LGBMClassifier')\n",
        "print('roc_auc_score :', roc_auc_score(y_val, lgc_prob), '\\n')\n",
        "print('classification_report', '\\n', classification_report(y_val, lgc_pred))"
      ],
      "metadata": {
        "colab": {
          "base_uri": "https://localhost:8080/"
        },
        "outputId": "60ecc8ad-67c8-4fdf-e038-9c35108361d2",
        "id": "qZZp2bUdM3Rj"
      },
      "execution_count": null,
      "outputs": [
        {
          "output_type": "stream",
          "name": "stdout",
          "text": [
            "LGBMClassifier\n",
            "roc_auc_score : 0.6743796865445886 \n",
            "\n",
            "classification_report \n",
            "               precision    recall  f1-score   support\n",
            "\n",
            "           0       0.59      0.58      0.59       161\n",
            "           1       0.66      0.66      0.66       193\n",
            "\n",
            "    accuracy                           0.63       354\n",
            "   macro avg       0.62      0.62      0.62       354\n",
            "weighted avg       0.63      0.63      0.63       354\n",
            "\n"
          ]
        }
      ]
    },
    {
      "cell_type": "code",
      "source": [
        "print('RandomForestClassifier :', score_list2[0])\n",
        "print('XGBClassifier :', score_list2[1])\n",
        "print('LGBMClassifier :', score_list2[2])"
      ],
      "metadata": {
        "colab": {
          "base_uri": "https://localhost:8080/"
        },
        "outputId": "1e6ca6f9-2468-4964-8f68-c2bd576e25be",
        "id": "eW7blWaqM3Rj"
      },
      "execution_count": null,
      "outputs": [
        {
          "output_type": "stream",
          "name": "stdout",
          "text": [
            "RandomForestClassifier : 0.6614424098091591\n",
            "XGBClassifier : 0.7139799826215686\n",
            "LGBMClassifier : 0.6743796865445886\n"
          ]
        }
      ]
    },
    {
      "cell_type": "markdown",
      "source": [
        "## 3. 만족도 + 직전 경기 결과 및 순위 + 직전 예매 특성"
      ],
      "metadata": {
        "id": "DSvITrrJNOjY"
      }
    },
    {
      "cell_type": "code",
      "source": [
        "# 일부 피쳐 드랍\n",
        "X3 = X.drop(['youtube_count', 'youtube_mean_view', 'youtube_mean_like'], axis=1)"
      ],
      "metadata": {
        "id": "3povlW_1g0e2"
      },
      "execution_count": null,
      "outputs": []
    },
    {
      "cell_type": "code",
      "source": [
        "X3.columns"
      ],
      "metadata": {
        "colab": {
          "base_uri": "https://localhost:8080/"
        },
        "id": "86YdYg4z4Lhm",
        "outputId": "5f81d543-d949-4fa1-c66e-4f5dcae9b8ff"
      },
      "execution_count": null,
      "outputs": [
        {
          "output_type": "execute_result",
          "data": {
            "text/plain": [
              "Index(['month', 'before_product_grade', 'before_special_seat_yn',\n",
              "       'before_discount_yn', 'before_discount_way', 'before_first_yn',\n",
              "       'before_reserve_count', 'before_ticket_satisfaction',\n",
              "       'before_gate_satisfaction', 'before_seat_satisfaction', 'weekend_yn',\n",
              "       'night_yn', 'final_yn', 'away_team_name', 'before_home_goal',\n",
              "       'before_goal_diff', 'before_game_result', 'before_rank', 'age_group',\n",
              "       'region', 'job', 'favorite_idx'],\n",
              "      dtype='object')"
            ]
          },
          "metadata": {},
          "execution_count": 38
        }
      ]
    },
    {
      "cell_type": "code",
      "source": [
        "X_train, X_test, y_train, y_test = train_test_split(X3, y, test_size=0.2, random_state=2, stratify=y, shuffle=True)\n",
        "X_train, X_val, y_train, y_val = train_test_split(X_train, y_train, test_size=0.2, random_state=2, stratify=y_train, shuffle=True)"
      ],
      "metadata": {
        "id": "RRbVws6fNOja"
      },
      "execution_count": null,
      "outputs": []
    },
    {
      "cell_type": "code",
      "source": [
        "score_list3 = []"
      ],
      "metadata": {
        "id": "sv4eprCFNOja"
      },
      "execution_count": null,
      "outputs": []
    },
    {
      "cell_type": "code",
      "source": [
        "rfc = RandomForestClassifier(random_state=2)\n",
        "\n",
        "rfc.fit(X_train, y_train)\n",
        "\n",
        "rfc_pred = rfc.predict(X_val)\n",
        "rfc_prob = rfc.predict_proba(X_val)[:,1]\n",
        "\n",
        "score_list3.append(roc_auc_score(y_val, rfc_prob))\n",
        "\n",
        "print('RandomForestClassifier')\n",
        "print('roc_auc_score :', roc_auc_score(y_val, rfc_prob), '\\n')\n",
        "print('classification_report', '\\n', classification_report(y_val, rfc_pred))"
      ],
      "metadata": {
        "colab": {
          "base_uri": "https://localhost:8080/"
        },
        "outputId": "42862e95-6a42-4ea2-d941-443feaf87a92",
        "id": "gA6mxp3sNOjb"
      },
      "execution_count": null,
      "outputs": [
        {
          "output_type": "stream",
          "name": "stdout",
          "text": [
            "RandomForestClassifier\n",
            "roc_auc_score : 0.7314066874778746 \n",
            "\n",
            "classification_report \n",
            "               precision    recall  f1-score   support\n",
            "\n",
            "           0       0.62      0.64      0.63       161\n",
            "           1       0.69      0.67      0.68       193\n",
            "\n",
            "    accuracy                           0.66       354\n",
            "   macro avg       0.66      0.66      0.66       354\n",
            "weighted avg       0.66      0.66      0.66       354\n",
            "\n"
          ]
        }
      ]
    },
    {
      "cell_type": "code",
      "source": [
        "xgc = XGBClassifier(random_state=2)\n",
        "\n",
        "xgc.fit(X_train, y_train)\n",
        "\n",
        "xgc_pred = xgc.predict(X_val)\n",
        "xgc_prob = xgc.predict_proba(X_val)[:,1]\n",
        "\n",
        "score_list3.append(roc_auc_score(y_val, xgc_prob))\n",
        "\n",
        "print('XGBClassifier')\n",
        "print('roc_auc_score :', roc_auc_score(y_val, xgc_prob), '\\n')\n",
        "print('classification_report', '\\n', classification_report(y_val, xgc_pred))"
      ],
      "metadata": {
        "colab": {
          "base_uri": "https://localhost:8080/"
        },
        "outputId": "6ed5da4e-4666-47e5-9e5c-7708766dd3f0",
        "id": "-q_dO7LVNOjb"
      },
      "execution_count": null,
      "outputs": [
        {
          "output_type": "stream",
          "name": "stdout",
          "text": [
            "XGBClassifier\n",
            "roc_auc_score : 0.7660991857883049 \n",
            "\n",
            "classification_report \n",
            "               precision    recall  f1-score   support\n",
            "\n",
            "           0       0.72      0.70      0.71       161\n",
            "           1       0.76      0.77      0.76       193\n",
            "\n",
            "    accuracy                           0.74       354\n",
            "   macro avg       0.74      0.74      0.74       354\n",
            "weighted avg       0.74      0.74      0.74       354\n",
            "\n"
          ]
        }
      ]
    },
    {
      "cell_type": "code",
      "source": [
        "lgc = LGBMClassifier(random_state=2)\n",
        "\n",
        "lgc.fit(X_train, y_train)\n",
        "\n",
        "lgc_pred = lgc.predict(X_val)\n",
        "lgc_prob = lgc.predict_proba(X_val)[:,1]\n",
        "\n",
        "score_list3.append(roc_auc_score(y_val, lgc_prob))\n",
        "\n",
        "print('LGBMClassifier')\n",
        "print('roc_auc_score :', roc_auc_score(y_val, lgc_prob), '\\n')\n",
        "print('classification_report', '\\n', classification_report(y_val, lgc_pred))"
      ],
      "metadata": {
        "colab": {
          "base_uri": "https://localhost:8080/"
        },
        "outputId": "19c2858a-b465-46eb-c10e-935062ee2ec3",
        "id": "hSDP8Ib0NOjb"
      },
      "execution_count": null,
      "outputs": [
        {
          "output_type": "stream",
          "name": "stdout",
          "text": [
            "LGBMClassifier\n",
            "roc_auc_score : 0.7422199337045023 \n",
            "\n",
            "classification_report \n",
            "               precision    recall  f1-score   support\n",
            "\n",
            "           0       0.64      0.65      0.64       161\n",
            "           1       0.70      0.69      0.70       193\n",
            "\n",
            "    accuracy                           0.67       354\n",
            "   macro avg       0.67      0.67      0.67       354\n",
            "weighted avg       0.67      0.67      0.67       354\n",
            "\n"
          ]
        }
      ]
    },
    {
      "cell_type": "code",
      "source": [
        "print('RandomForestClassifier :', score_list3[0])\n",
        "print('XGBClassifier :', score_list3[1])\n",
        "print('LGBMClassifier :', score_list3[2])"
      ],
      "metadata": {
        "colab": {
          "base_uri": "https://localhost:8080/"
        },
        "outputId": "8c6bee33-8eb6-4316-f5f9-5f768b6789ac",
        "id": "mBP8qe_XNOjb"
      },
      "execution_count": null,
      "outputs": [
        {
          "output_type": "stream",
          "name": "stdout",
          "text": [
            "RandomForestClassifier : 0.7314066874778746\n",
            "XGBClassifier : 0.7660991857883049\n",
            "LGBMClassifier : 0.7422199337045023\n"
          ]
        }
      ]
    },
    {
      "cell_type": "markdown",
      "source": [
        "## 4. 만족도 + 직전 경기 결과 및 순위 + 직전 예매 특성 + 유튜브"
      ],
      "metadata": {
        "id": "ukltHTgxhSab"
      }
    },
    {
      "cell_type": "code",
      "source": [
        "# 일부 피쳐 드랍\n",
        "X4 = X.copy()"
      ],
      "metadata": {
        "id": "V_K29xDNhe_y"
      },
      "execution_count": null,
      "outputs": []
    },
    {
      "cell_type": "code",
      "source": [
        "X4.columns"
      ],
      "metadata": {
        "colab": {
          "base_uri": "https://localhost:8080/"
        },
        "outputId": "93402787-266c-4191-e677-95d13107ef71",
        "id": "obDaWD4Ihe_z"
      },
      "execution_count": null,
      "outputs": [
        {
          "output_type": "execute_result",
          "data": {
            "text/plain": [
              "Index(['month', 'before_product_grade', 'before_special_seat_yn',\n",
              "       'before_discount_yn', 'before_discount_way', 'before_first_yn',\n",
              "       'before_reserve_count', 'before_ticket_satisfaction',\n",
              "       'before_gate_satisfaction', 'before_seat_satisfaction', 'weekend_yn',\n",
              "       'night_yn', 'final_yn', 'away_team_name', 'before_home_goal',\n",
              "       'before_goal_diff', 'before_game_result', 'before_rank',\n",
              "       'youtube_count', 'youtube_mean_view', 'youtube_mean_like', 'age_group',\n",
              "       'region', 'job', 'favorite_idx'],\n",
              "      dtype='object')"
            ]
          },
          "metadata": {},
          "execution_count": 46
        }
      ]
    },
    {
      "cell_type": "code",
      "source": [
        "X_train, X_test, y_train, y_test = train_test_split(X4, y, test_size=0.2, random_state=2, stratify=y, shuffle=True)\n",
        "X_train, X_val, y_train, y_val = train_test_split(X_train, y_train, test_size=0.2, random_state=2, stratify=y_train, shuffle=True)"
      ],
      "metadata": {
        "id": "0hBf6GOlhe_z"
      },
      "execution_count": null,
      "outputs": []
    },
    {
      "cell_type": "code",
      "source": [
        "score_list4 = []"
      ],
      "metadata": {
        "id": "wlGlWISLhe_z"
      },
      "execution_count": null,
      "outputs": []
    },
    {
      "cell_type": "code",
      "source": [
        "rfc = RandomForestClassifier(random_state=2)\n",
        "\n",
        "rfc.fit(X_train, y_train)\n",
        "\n",
        "rfc_pred = rfc.predict(X_val)\n",
        "rfc_prob = rfc.predict_proba(X_val)[:,1]\n",
        "\n",
        "score_list4.append(roc_auc_score(y_val, rfc_prob))\n",
        "\n",
        "print('RandomForestClassifier')\n",
        "print('roc_auc_score :', roc_auc_score(y_val, rfc_prob), '\\n')\n",
        "print('classification_report', '\\n', classification_report(y_val, rfc_pred))"
      ],
      "metadata": {
        "colab": {
          "base_uri": "https://localhost:8080/"
        },
        "outputId": "6f6aef26-168c-43f0-8b8c-d5c1c5a36c58",
        "id": "F1s3jJMUhe_z"
      },
      "execution_count": null,
      "outputs": [
        {
          "output_type": "stream",
          "name": "stdout",
          "text": [
            "RandomForestClassifier\n",
            "roc_auc_score : 0.7253886010362695 \n",
            "\n",
            "classification_report \n",
            "               precision    recall  f1-score   support\n",
            "\n",
            "           0       0.64      0.63      0.63       161\n",
            "           1       0.69      0.70      0.70       193\n",
            "\n",
            "    accuracy                           0.67       354\n",
            "   macro avg       0.66      0.66      0.66       354\n",
            "weighted avg       0.67      0.67      0.67       354\n",
            "\n"
          ]
        }
      ]
    },
    {
      "cell_type": "code",
      "source": [
        "xgc = XGBClassifier(random_state=2)\n",
        "\n",
        "xgc.fit(X_train, y_train)\n",
        "\n",
        "xgc_pred = xgc.predict(X_val)\n",
        "xgc_prob = xgc.predict_proba(X_val)[:,1]\n",
        "\n",
        "score_list4.append(roc_auc_score(y_val, xgc_prob))\n",
        "\n",
        "print('XGBClassifier')\n",
        "print('roc_auc_score :', roc_auc_score(y_val, xgc_prob), '\\n')\n",
        "print('classification_report', '\\n', classification_report(y_val, xgc_pred))"
      ],
      "metadata": {
        "colab": {
          "base_uri": "https://localhost:8080/"
        },
        "outputId": "3ed2715e-0f3f-43f4-f598-65b2da871731",
        "id": "-sosCnCzhe_z"
      },
      "execution_count": null,
      "outputs": [
        {
          "output_type": "stream",
          "name": "stdout",
          "text": [
            "XGBClassifier\n",
            "roc_auc_score : 0.7629935957261932 \n",
            "\n",
            "classification_report \n",
            "               precision    recall  f1-score   support\n",
            "\n",
            "           0       0.72      0.70      0.71       161\n",
            "           1       0.76      0.77      0.76       193\n",
            "\n",
            "    accuracy                           0.74       354\n",
            "   macro avg       0.74      0.73      0.73       354\n",
            "weighted avg       0.74      0.74      0.74       354\n",
            "\n"
          ]
        }
      ]
    },
    {
      "cell_type": "code",
      "source": [
        "lgc = LGBMClassifier(random_state=2)\n",
        "\n",
        "lgc.fit(X_train, y_train)\n",
        "\n",
        "lgc_pred = lgc.predict(X_val)\n",
        "lgc_prob = lgc.predict_proba(X_val)[:,1]\n",
        "\n",
        "score_list4.append(roc_auc_score(y_val, lgc_prob))\n",
        "\n",
        "print('LGBMClassifier')\n",
        "print('roc_auc_score :', roc_auc_score(y_val, lgc_prob), '\\n')\n",
        "print('classification_report', '\\n', classification_report(y_val, lgc_pred))"
      ],
      "metadata": {
        "colab": {
          "base_uri": "https://localhost:8080/"
        },
        "outputId": "28fa6d98-657a-4edf-c362-f738d9f0628b",
        "id": "8OMPCgzThe_0"
      },
      "execution_count": null,
      "outputs": [
        {
          "output_type": "stream",
          "name": "stdout",
          "text": [
            "LGBMClassifier\n",
            "roc_auc_score : 0.7292826569690729 \n",
            "\n",
            "classification_report \n",
            "               precision    recall  f1-score   support\n",
            "\n",
            "           0       0.65      0.65      0.65       161\n",
            "           1       0.71      0.70      0.71       193\n",
            "\n",
            "    accuracy                           0.68       354\n",
            "   macro avg       0.68      0.68      0.68       354\n",
            "weighted avg       0.68      0.68      0.68       354\n",
            "\n"
          ]
        }
      ]
    },
    {
      "cell_type": "code",
      "source": [
        "print('RandomForestClassifier :', score_list4[0])\n",
        "print('XGBClassifier :', score_list4[1])\n",
        "print('LGBMClassifier :', score_list4[2])"
      ],
      "metadata": {
        "colab": {
          "base_uri": "https://localhost:8080/"
        },
        "outputId": "8d143415-4fc9-4513-c949-29c288f8cc9a",
        "id": "pmaieGCshe_0"
      },
      "execution_count": null,
      "outputs": [
        {
          "output_type": "stream",
          "name": "stdout",
          "text": [
            "RandomForestClassifier : 0.7253886010362695\n",
            "XGBClassifier : 0.7629935957261932\n",
            "LGBMClassifier : 0.7292826569690729\n"
          ]
        }
      ]
    },
    {
      "cell_type": "markdown",
      "source": [
        "## 스코어 비교"
      ],
      "metadata": {
        "id": "ZP2lMl4kO9Ni"
      }
    },
    {
      "cell_type": "code",
      "source": [
        "print(sum(score_list1)/3)\n",
        "print(sum(score_list2)/3)\n",
        "print(sum(score_list3)/3)\n",
        "print(sum(score_list4)/3)"
      ],
      "metadata": {
        "colab": {
          "base_uri": "https://localhost:8080/"
        },
        "id": "y7qX6lfVOUeS",
        "outputId": "b26caa47-4139-4459-e42a-c6d1f5653ea7"
      },
      "execution_count": null,
      "outputs": [
        {
          "output_type": "stream",
          "name": "stdout",
          "text": [
            "0.6827041697508017\n",
            "0.6832673596584389\n",
            "0.7465752689902274\n",
            "0.7392216179105118\n"
          ]
        }
      ]
    },
    {
      "cell_type": "code",
      "source": [
        "print(score_list1)\n",
        "print(score_list2)\n",
        "print(score_list3)\n",
        "print(score_list4)"
      ],
      "metadata": {
        "colab": {
          "base_uri": "https://localhost:8080/"
        },
        "id": "lrZMJR9BOKB3",
        "outputId": "13ca4e60-d57d-413e-a186-9d6724056294"
      },
      "execution_count": null,
      "outputs": [
        {
          "output_type": "stream",
          "name": "stdout",
          "text": [
            "[0.6550059537218805, 0.7163131979532069, 0.6767933575773181]\n",
            "[0.6614424098091591, 0.7139799826215686, 0.6743796865445886]\n",
            "[0.7314066874778746, 0.7660991857883049, 0.7422199337045023]\n",
            "[0.7253886010362695, 0.7629935957261932, 0.7292826569690729]\n"
          ]
        }
      ]
    },
    {
      "cell_type": "code",
      "source": [
        "# 3. 만족도 + 직전 경기 결과 및 순위 + 직전 예매 특성 변수일 때, xgboost의 성능이 가장 좋다."
      ],
      "metadata": {
        "id": "tWYCeMQCiOLZ"
      },
      "execution_count": null,
      "outputs": []
    },
    {
      "cell_type": "markdown",
      "source": [
        "# Hyper Parameter Tuning"
      ],
      "metadata": {
        "id": "40GQ0npLwzkX"
      }
    },
    {
      "cell_type": "code",
      "source": [
        "X_train, X_test, y_train, y_test = train_test_split(X3, y, test_size=0.2, random_state=2, stratify=y, shuffle=True)\n",
        "X_train, X_val, y_train, y_val = train_test_split(X_train, y_train, test_size=0.2, random_state=2, stratify=y_train, shuffle=True)"
      ],
      "metadata": {
        "id": "F90EllejVinr"
      },
      "execution_count": null,
      "outputs": []
    },
    {
      "cell_type": "code",
      "source": [
        "def objective(trial):\n",
        "  param = {\n",
        "      \"random_state\" : 2,\n",
        "      \"objective\" : \"binary:logistic\",\n",
        "      \"eval_metric\" : \"auc\",\n",
        "      \"learning_rate\" : trial.suggest_float(\"learning_rate\", 0.01, 0.3),\n",
        "      \"n_estimators\":trial.suggest_int(\"n_estimators\", 100, 2000),\n",
        "      \"max_depth\":trial.suggest_int(\"max_depth\", 4, 10),\n",
        "      \"colsample_bytree\": trial.suggest_float(\"colsample_bytree\", 0.4, 1.0),\n",
        "      \"scale_pos_weight\": trial.suggest_float(\"scale_pos_weight\", 1.0, 8.0),\n",
        "      \"reg_lambda\": trial.suggest_float(\"reg_lambda\", 1e-2, 1),\n",
        "      \"reg_alpha\": trial.suggest_float(\"reg_alpha\", 1e-2, 1),\n",
        "      'subsample': trial.suggest_float('subsample', 0.5, 1.0),\n",
        "  }\n",
        "\n",
        "  xgc = XGBClassifier(**param)\n",
        "  xgc.fit(X_train, y_train,\n",
        "          eval_set=[(X_train, y_train), (X_val,y_val)],\n",
        "          early_stopping_rounds=100,\n",
        "          verbose=100)\n",
        "  xgc_prob = xgc.predict_proba(X_val)[:,1]\n",
        "  roc_auc = roc_auc_score(y_val, xgc_prob)\n",
        "\n",
        "  return roc_auc\n",
        "\n",
        "sampler = TPESampler(seed=42)\n",
        "study = optuna.create_study(\n",
        "    study_name = 'xgc_parameter_opt',\n",
        "    direction = 'maximize',\n",
        "    sampler = sampler,\n",
        ")\n",
        "study.optimize(objective, n_trials=30)\n",
        "print(\"Best Score:\",study.best_value)\n",
        "print(\"Best trial\",study.best_trial.params)"
      ],
      "metadata": {
        "id": "F-M7ez7Xw1ch",
        "colab": {
          "base_uri": "https://localhost:8080/"
        },
        "outputId": "87d5876d-0207-452f-e905-882a3260c236"
      },
      "execution_count": null,
      "outputs": [
        {
          "output_type": "stream",
          "name": "stderr",
          "text": [
            "\u001b[32m[I 2023-02-14 20:27:03,046]\u001b[0m A new study created in memory with name: xgc_parameter_opt\u001b[0m\n"
          ]
        },
        {
          "output_type": "stream",
          "name": "stdout",
          "text": [
            "[0]\tvalidation_0-auc:0.89228\tvalidation_1-auc:0.638963\n",
            "Multiple eval metrics have been passed: 'validation_1-auc' will be used for early stopping.\n",
            "\n",
            "Will train until validation_1-auc hasn't improved in 100 rounds.\n",
            "[100]\tvalidation_0-auc:0.999996\tvalidation_1-auc:0.72098\n",
            "Stopping. Best iteration:\n",
            "[62]\tvalidation_0-auc:0.999727\tvalidation_1-auc:0.728285\n",
            "\n"
          ]
        },
        {
          "output_type": "stream",
          "name": "stderr",
          "text": [
            "\u001b[32m[I 2023-02-14 20:27:04,191]\u001b[0m Trial 0 finished with value: 0.7282850062755447 and parameters: {'learning_rate': 0.11861663446573512, 'n_estimators': 1907, 'max_depth': 9, 'colsample_bytree': 0.759195090518222, 'scale_pos_weight': 2.0921304830970557, 'reg_lambda': 0.16443457513284063, 'reg_alpha': 0.06750277604651747, 'subsample': 0.9330880728874675}. Best is trial 0 with value: 0.7282850062755447.\u001b[0m\n"
          ]
        },
        {
          "output_type": "stream",
          "name": "stdout",
          "text": [
            "[0]\tvalidation_0-auc:0.73102\tvalidation_1-auc:0.690069\n",
            "Multiple eval metrics have been passed: 'validation_1-auc' will be used for early stopping.\n",
            "\n",
            "Will train until validation_1-auc hasn't improved in 100 rounds.\n",
            "[100]\tvalidation_0-auc:0.952414\tvalidation_1-auc:0.702153\n",
            "Stopping. Best iteration:\n",
            "[19]\tvalidation_0-auc:0.84284\tvalidation_1-auc:0.731889\n",
            "\n"
          ]
        },
        {
          "output_type": "stream",
          "name": "stderr",
          "text": [
            "\u001b[32m[I 2023-02-14 20:27:04,869]\u001b[0m Trial 1 finished with value: 0.7318894216844205 and parameters: {'learning_rate': 0.18432335340553055, 'n_estimators': 1446, 'max_depth': 4, 'colsample_bytree': 0.9819459112971965, 'scale_pos_weight': 6.827098485602952, 'reg_lambda': 0.2202157195714934, 'reg_alpha': 0.19000671753502962, 'subsample': 0.5917022549267169}. Best is trial 1 with value: 0.7318894216844205.\u001b[0m\n"
          ]
        },
        {
          "output_type": "stream",
          "name": "stdout",
          "text": [
            "[0]\tvalidation_0-auc:0.790348\tvalidation_1-auc:0.700512\n",
            "Multiple eval metrics have been passed: 'validation_1-auc' will be used for early stopping.\n",
            "\n",
            "Will train until validation_1-auc hasn't improved in 100 rounds.\n",
            "[100]\tvalidation_0-auc:0.993141\tvalidation_1-auc:0.731761\n",
            "Stopping. Best iteration:\n",
            "[52]\tvalidation_0-auc:0.967872\tvalidation_1-auc:0.74444\n",
            "\n"
          ]
        },
        {
          "output_type": "stream",
          "name": "stderr",
          "text": [
            "\u001b[32m[I 2023-02-14 20:27:05,999]\u001b[0m Trial 2 finished with value: 0.7444405110546133 and parameters: {'learning_rate': 0.09823025045826593, 'n_estimators': 1097, 'max_depth': 7, 'colsample_bytree': 0.5747374841188252, 'scale_pos_weight': 5.282970263056656, 'reg_lambda': 0.14809892204552141, 'reg_alpha': 0.29922320204986597, 'subsample': 0.6831809216468459}. Best is trial 2 with value: 0.7444405110546133.\u001b[0m\n"
          ]
        },
        {
          "output_type": "stream",
          "name": "stdout",
          "text": [
            "[0]\tvalidation_0-auc:0.768704\tvalidation_1-auc:0.718582\n",
            "Multiple eval metrics have been passed: 'validation_1-auc' will be used for early stopping.\n",
            "\n",
            "Will train until validation_1-auc hasn't improved in 100 rounds.\n",
            "[100]\tvalidation_0-auc:0.973718\tvalidation_1-auc:0.741126\n",
            "Stopping. Best iteration:\n",
            "[49]\tvalidation_0-auc:0.924804\tvalidation_1-auc:0.747337\n",
            "\n"
          ]
        },
        {
          "output_type": "stream",
          "name": "stderr",
          "text": [
            "\u001b[32m[I 2023-02-14 20:27:07,469]\u001b[0m Trial 3 finished with value: 0.7473369162938885 and parameters: {'learning_rate': 0.1422602954229404, 'n_estimators': 1592, 'max_depth': 5, 'colsample_bytree': 0.708540663048167, 'scale_pos_weight': 5.146901982034297, 'reg_lambda': 0.05598590859279775, 'reg_alpha': 0.611469403382424, 'subsample': 0.5852620618436457}. Best is trial 3 with value: 0.7473369162938885.\u001b[0m\n"
          ]
        },
        {
          "output_type": "stream",
          "name": "stdout",
          "text": [
            "[0]\tvalidation_0-auc:0.830339\tvalidation_1-auc:0.643404\n",
            "Multiple eval metrics have been passed: 'validation_1-auc' will be used for early stopping.\n",
            "\n",
            "Will train until validation_1-auc hasn't improved in 100 rounds.\n",
            "[100]\tvalidation_0-auc:0.989062\tvalidation_1-auc:0.740321\n",
            "[200]\tvalidation_0-auc:0.999308\tvalidation_1-auc:0.740032\n",
            "Stopping. Best iteration:\n",
            "[105]\tvalidation_0-auc:0.989771\tvalidation_1-auc:0.742445\n",
            "\n"
          ]
        },
        {
          "output_type": "stream",
          "name": "stderr",
          "text": [
            "\u001b[32m[I 2023-02-14 20:27:10,779]\u001b[0m Trial 4 finished with value: 0.7424452096675571 and parameters: {'learning_rate': 0.02886496196573106, 'n_estimators': 1903, 'max_depth': 10, 'colsample_bytree': 0.8850384088698766, 'scale_pos_weight': 3.132296384213595, 'reg_lambda': 0.10669539286632003, 'reg_alpha': 0.6873906962470353, 'subsample': 0.7200762468698007}. Best is trial 3 with value: 0.7473369162938885.\u001b[0m\n"
          ]
        },
        {
          "output_type": "stream",
          "name": "stdout",
          "text": [
            "[0]\tvalidation_0-auc:0.755847\tvalidation_1-auc:0.6906\n",
            "Multiple eval metrics have been passed: 'validation_1-auc' will be used for early stopping.\n",
            "\n",
            "Will train until validation_1-auc hasn't improved in 100 rounds.\n",
            "[100]\tvalidation_0-auc:0.876791\tvalidation_1-auc:0.753741\n",
            "[200]\tvalidation_0-auc:0.922544\tvalidation_1-auc:0.758697\n",
            "Stopping. Best iteration:\n",
            "[167]\tvalidation_0-auc:0.909967\tvalidation_1-auc:0.759631\n",
            "\n"
          ]
        },
        {
          "output_type": "stream",
          "name": "stderr",
          "text": [
            "\u001b[32m[I 2023-02-14 20:27:11,943]\u001b[0m Trial 5 finished with value: 0.7596305474205902 and parameters: {'learning_rate': 0.045391088104985856, 'n_estimators': 1041, 'max_depth': 4, 'colsample_bytree': 0.9455922412472693, 'scale_pos_weight': 2.8114598712001184, 'reg_lambda': 0.6658970615104421, 'reg_alpha': 0.31859396532851686, 'subsample': 0.7600340105889054}. Best is trial 5 with value: 0.7596305474205902.\u001b[0m\n"
          ]
        },
        {
          "output_type": "stream",
          "name": "stdout",
          "text": [
            "[0]\tvalidation_0-auc:0.751735\tvalidation_1-auc:0.703939\n",
            "Multiple eval metrics have been passed: 'validation_1-auc' will be used for early stopping.\n",
            "\n",
            "Will train until validation_1-auc hasn't improved in 100 rounds.\n",
            "[100]\tvalidation_0-auc:1\tvalidation_1-auc:0.710295\n",
            "Stopping. Best iteration:\n",
            "[16]\tvalidation_0-auc:0.981113\tvalidation_1-auc:0.713224\n",
            "\n"
          ]
        },
        {
          "output_type": "stream",
          "name": "stderr",
          "text": [
            "\u001b[32m[I 2023-02-14 20:27:13,056]\u001b[0m Trial 6 finished with value: 0.7132236990313133 and parameters: {'learning_rate': 0.1685459810095511, 'n_estimators': 451, 'max_depth': 10, 'colsample_bytree': 0.8650796940166687, 'scale_pos_weight': 7.576492590949324, 'reg_lambda': 0.8958790769233723, 'reg_alpha': 0.6019209790229743, 'subsample': 0.9609371175115584}. Best is trial 5 with value: 0.7596305474205902.\u001b[0m\n"
          ]
        },
        {
          "output_type": "stream",
          "name": "stdout",
          "text": [
            "[0]\tvalidation_0-auc:0.742865\tvalidation_1-auc:0.703891\n",
            "Multiple eval metrics have been passed: 'validation_1-auc' will be used for early stopping.\n",
            "\n",
            "Will train until validation_1-auc hasn't improved in 100 rounds.\n",
            "[100]\tvalidation_0-auc:0.854909\tvalidation_1-auc:0.757861\n",
            "[200]\tvalidation_0-auc:0.896821\tvalidation_1-auc:0.759502\n",
            "Stopping. Best iteration:\n",
            "[159]\tvalidation_0-auc:0.882062\tvalidation_1-auc:0.761014\n",
            "\n"
          ]
        },
        {
          "output_type": "stream",
          "name": "stderr",
          "text": [
            "\u001b[32m[I 2023-02-14 20:27:14,043]\u001b[0m Trial 7 finished with value: 0.7610143854793551 and parameters: {'learning_rate': 0.03566282559505665, 'n_estimators': 472, 'max_depth': 4, 'colsample_bytree': 0.5951981984579586, 'scale_pos_weight': 3.720741027826374, 'reg_lambda': 0.27863554145615693, 'reg_alpha': 0.83045013406041, 'subsample': 0.6783766633467947}. Best is trial 7 with value: 0.7610143854793551.\u001b[0m\n"
          ]
        },
        {
          "output_type": "stream",
          "name": "stdout",
          "text": [
            "[0]\tvalidation_0-auc:0.747721\tvalidation_1-auc:0.702378\n",
            "Multiple eval metrics have been passed: 'validation_1-auc' will be used for early stopping.\n",
            "\n",
            "Will train until validation_1-auc hasn't improved in 100 rounds.\n",
            "[100]\tvalidation_0-auc:0.904487\tvalidation_1-auc:0.759148\n",
            "Stopping. Best iteration:\n",
            "[58]\tvalidation_0-auc:0.870391\tvalidation_1-auc:0.765488\n",
            "\n"
          ]
        },
        {
          "output_type": "stream",
          "name": "stderr",
          "text": [
            "\u001b[32m[I 2023-02-14 20:27:14,890]\u001b[0m Trial 8 finished with value: 0.7654877224600135 and parameters: {'learning_rate': 0.09147100780934041, 'n_estimators': 1131, 'max_depth': 4, 'colsample_bytree': 0.8813181884524238, 'scale_pos_weight': 1.5218545057583959, 'reg_lambda': 0.9870180672345121, 'reg_alpha': 0.7745223216036908, 'subsample': 0.5993578407670862}. Best is trial 8 with value: 0.7654877224600135.\u001b[0m\n"
          ]
        },
        {
          "output_type": "stream",
          "name": "stdout",
          "text": [
            "[0]\tvalidation_0-auc:0.789343\tvalidation_1-auc:0.712001\n",
            "Multiple eval metrics have been passed: 'validation_1-auc' will be used for early stopping.\n",
            "\n",
            "Will train until validation_1-auc hasn't improved in 100 rounds.\n",
            "[100]\tvalidation_0-auc:0.932029\tvalidation_1-auc:0.732082\n",
            "[200]\tvalidation_0-auc:0.954618\tvalidation_1-auc:0.735912\n",
            "[300]\tvalidation_0-auc:0.972311\tvalidation_1-auc:0.74193\n",
            "[400]\tvalidation_0-auc:0.984152\tvalidation_1-auc:0.743861\n",
            "Stopping. Best iteration:\n",
            "[333]\tvalidation_0-auc:0.977311\tvalidation_1-auc:0.744634\n",
            "\n"
          ]
        },
        {
          "output_type": "stream",
          "name": "stderr",
          "text": [
            "\u001b[32m[I 2023-02-14 20:27:18,191]\u001b[0m Trial 9 finished with value: 0.7446336047372317 and parameters: {'learning_rate': 0.011601413965844696, 'n_estimators': 1650, 'max_depth': 8, 'colsample_bytree': 0.8374043008245924, 'scale_pos_weight': 6.39889242680162, 'reg_lambda': 0.08330420521674946, 'reg_alpha': 0.3648810712588299, 'subsample': 0.5579345297625649}. Best is trial 8 with value: 0.7654877224600135.\u001b[0m\n"
          ]
        },
        {
          "output_type": "stream",
          "name": "stdout",
          "text": [
            "[0]\tvalidation_0-auc:0.748619\tvalidation_1-auc:0.707624\n",
            "Multiple eval metrics have been passed: 'validation_1-auc' will be used for early stopping.\n",
            "\n",
            "Will train until validation_1-auc hasn't improved in 100 rounds.\n",
            "[100]\tvalidation_0-auc:0.975978\tvalidation_1-auc:0.733659\n",
            "[110]\tvalidation_0-auc:0.977886\tvalidation_1-auc:0.741287\n"
          ]
        },
        {
          "output_type": "stream",
          "name": "stderr",
          "text": [
            "\u001b[32m[I 2023-02-14 20:27:18,932]\u001b[0m Trial 10 finished with value: 0.7768158851736234 and parameters: {'learning_rate': 0.2580018906030962, 'n_estimators': 111, 'max_depth': 6, 'colsample_bytree': 0.4107771253688918, 'scale_pos_weight': 1.1019690548376708, 'reg_lambda': 0.9085881473296924, 'reg_alpha': 0.9661419160789868, 'subsample': 0.5064405747517824}. Best is trial 10 with value: 0.7768158851736234.\u001b[0m\n"
          ]
        },
        {
          "output_type": "stream",
          "name": "stdout",
          "text": [
            "[0]\tvalidation_0-auc:0.749641\tvalidation_1-auc:0.706996\n",
            "Multiple eval metrics have been passed: 'validation_1-auc' will be used for early stopping.\n",
            "\n",
            "Will train until validation_1-auc hasn't improved in 100 rounds.\n",
            "[100]\tvalidation_0-auc:0.97318\tvalidation_1-auc:0.736331\n",
            "[111]\tvalidation_0-auc:0.975628\tvalidation_1-auc:0.741962\n"
          ]
        },
        {
          "output_type": "stream",
          "name": "stderr",
          "text": [
            "\u001b[32m[I 2023-02-14 20:27:20,150]\u001b[0m Trial 11 finished with value: 0.7710874392559457 and parameters: {'learning_rate': 0.27084970441979556, 'n_estimators': 112, 'max_depth': 6, 'colsample_bytree': 0.4103116901613753, 'scale_pos_weight': 1.1646034291831906, 'reg_lambda': 0.9956382388105924, 'reg_alpha': 0.9924246086336254, 'subsample': 0.5054716326541555}. Best is trial 10 with value: 0.7768158851736234.\u001b[0m\n"
          ]
        },
        {
          "output_type": "stream",
          "name": "stdout",
          "text": [
            "[0]\tvalidation_0-auc:0.74016\tvalidation_1-auc:0.722669\n",
            "Multiple eval metrics have been passed: 'validation_1-auc' will be used for early stopping.\n",
            "\n",
            "Will train until validation_1-auc hasn't improved in 100 rounds.\n",
            "[100]\tvalidation_0-auc:0.974034\tvalidation_1-auc:0.724262\n",
            "[113]\tvalidation_0-auc:0.978049\tvalidation_1-auc:0.728639\n"
          ]
        },
        {
          "output_type": "stream",
          "name": "stderr",
          "text": [
            "\u001b[32m[I 2023-02-14 20:27:21,710]\u001b[0m Trial 12 finished with value: 0.7712805329385641 and parameters: {'learning_rate': 0.27713177310227033, 'n_estimators': 114, 'max_depth': 6, 'colsample_bytree': 0.4021844471848666, 'scale_pos_weight': 1.3145829382817795, 'reg_lambda': 0.7929274402390659, 'reg_alpha': 0.9971929688433538, 'subsample': 0.5227498637885779}. Best is trial 10 with value: 0.7768158851736234.\u001b[0m\n"
          ]
        },
        {
          "output_type": "stream",
          "name": "stdout",
          "text": [
            "[0]\tvalidation_0-auc:0.736544\tvalidation_1-auc:0.676488\n",
            "Multiple eval metrics have been passed: 'validation_1-auc' will be used for early stopping.\n",
            "\n",
            "Will train until validation_1-auc hasn't improved in 100 rounds.\n",
            "[100]\tvalidation_0-auc:0.981631\tvalidation_1-auc:0.716603\n",
            "Stopping. Best iteration:\n",
            "[16]\tvalidation_0-auc:0.880328\tvalidation_1-auc:0.758134\n",
            "\n"
          ]
        },
        {
          "output_type": "stream",
          "name": "stderr",
          "text": [
            "\u001b[32m[I 2023-02-14 20:27:22,583]\u001b[0m Trial 13 finished with value: 0.758134071380298 and parameters: {'learning_rate': 0.2968625321171806, 'n_estimators': 163, 'max_depth': 6, 'colsample_bytree': 0.40582958635713684, 'scale_pos_weight': 2.0918693360473815, 'reg_lambda': 0.7853192030826716, 'reg_alpha': 0.9993688142551356, 'subsample': 0.5022590635609818}. Best is trial 10 with value: 0.7768158851736234.\u001b[0m\n"
          ]
        },
        {
          "output_type": "stream",
          "name": "stdout",
          "text": [
            "[0]\tvalidation_0-auc:0.757158\tvalidation_1-auc:0.706031\n",
            "Multiple eval metrics have been passed: 'validation_1-auc' will be used for early stopping.\n",
            "\n",
            "Will train until validation_1-auc hasn't improved in 100 rounds.\n",
            "[100]\tvalidation_0-auc:0.980152\tvalidation_1-auc:0.754095\n",
            "Stopping. Best iteration:\n",
            "[25]\tvalidation_0-auc:0.901979\tvalidation_1-auc:0.781064\n",
            "\n"
          ]
        },
        {
          "output_type": "stream",
          "name": "stderr",
          "text": [
            "\u001b[32m[I 2023-02-14 20:27:23,310]\u001b[0m Trial 14 finished with value: 0.7810639461912271 and parameters: {'learning_rate': 0.23527710607670124, 'n_estimators': 559, 'max_depth': 6, 'colsample_bytree': 0.4880490299944742, 'scale_pos_weight': 1.091982210024657, 'reg_lambda': 0.6732237738899947, 'reg_alpha': 0.8673809714469445, 'subsample': 0.5015623345988715}. Best is trial 14 with value: 0.7810639461912271.\u001b[0m\n"
          ]
        },
        {
          "output_type": "stream",
          "name": "stdout",
          "text": [
            "[0]\tvalidation_0-auc:0.773193\tvalidation_1-auc:0.716555\n",
            "Multiple eval metrics have been passed: 'validation_1-auc' will be used for early stopping.\n",
            "\n",
            "Will train until validation_1-auc hasn't improved in 100 rounds.\n",
            "[100]\tvalidation_0-auc:0.997636\tvalidation_1-auc:0.719692\n",
            "Stopping. Best iteration:\n",
            "[1]\tvalidation_0-auc:0.810921\tvalidation_1-auc:0.747787\n",
            "\n"
          ]
        },
        {
          "output_type": "stream",
          "name": "stderr",
          "text": [
            "\u001b[32m[I 2023-02-14 20:27:23,927]\u001b[0m Trial 15 finished with value: 0.7477874682199981 and parameters: {'learning_rate': 0.2299556907973535, 'n_estimators': 615, 'max_depth': 7, 'colsample_bytree': 0.49933376883122665, 'scale_pos_weight': 2.332242330153563, 'reg_lambda': 0.497385637781703, 'reg_alpha': 0.8463861924842628, 'subsample': 0.643954649732532}. Best is trial 14 with value: 0.7810639461912271.\u001b[0m\n"
          ]
        },
        {
          "output_type": "stream",
          "name": "stdout",
          "text": [
            "[0]\tvalidation_0-auc:0.772259\tvalidation_1-auc:0.737682\n",
            "Multiple eval metrics have been passed: 'validation_1-auc' will be used for early stopping.\n",
            "\n",
            "Will train until validation_1-auc hasn't improved in 100 rounds.\n",
            "[100]\tvalidation_0-auc:0.99539\tvalidation_1-auc:0.73131\n",
            "Stopping. Best iteration:\n",
            "[9]\tvalidation_0-auc:0.88293\tvalidation_1-auc:0.765826\n",
            "\n"
          ]
        },
        {
          "output_type": "stream",
          "name": "stderr",
          "text": [
            "\u001b[32m[I 2023-02-14 20:27:24,685]\u001b[0m Trial 16 finished with value: 0.7658256364045957 and parameters: {'learning_rate': 0.22025817179618218, 'n_estimators': 754, 'max_depth': 8, 'colsample_bytree': 0.5016578976407526, 'scale_pos_weight': 1.0370631620715065, 'reg_lambda': 0.6035068198743504, 'reg_alpha': 0.8713091830237861, 'subsample': 0.5512125924693408}. Best is trial 14 with value: 0.7810639461912271.\u001b[0m\n"
          ]
        },
        {
          "output_type": "stream",
          "name": "stdout",
          "text": [
            "[0]\tvalidation_0-auc:0.761462\tvalidation_1-auc:0.728076\n",
            "Multiple eval metrics have been passed: 'validation_1-auc' will be used for early stopping.\n",
            "\n",
            "Will train until validation_1-auc hasn't improved in 100 rounds.\n",
            "[100]\tvalidation_0-auc:0.981895\tvalidation_1-auc:0.742252\n",
            "Stopping. Best iteration:\n",
            "[25]\tvalidation_0-auc:0.892391\tvalidation_1-auc:0.760918\n",
            "\n"
          ]
        },
        {
          "output_type": "stream",
          "name": "stderr",
          "text": [
            "\u001b[32m[I 2023-02-14 20:27:25,506]\u001b[0m Trial 17 finished with value: 0.760917838638046 and parameters: {'learning_rate': 0.23401127045103198, 'n_estimators': 386, 'max_depth': 5, 'colsample_bytree': 0.6108574577180323, 'scale_pos_weight': 3.5627120425361087, 'reg_lambda': 0.8127886689160082, 'reg_alpha': 0.5268251911475419, 'subsample': 0.504513625970024}. Best is trial 14 with value: 0.7810639461912271.\u001b[0m\n"
          ]
        },
        {
          "output_type": "stream",
          "name": "stdout",
          "text": [
            "[0]\tvalidation_0-auc:0.757914\tvalidation_1-auc:0.719725\n",
            "Multiple eval metrics have been passed: 'validation_1-auc' will be used for early stopping.\n",
            "\n",
            "Will train until validation_1-auc hasn't improved in 100 rounds.\n",
            "[100]\tvalidation_0-auc:0.997754\tvalidation_1-auc:0.716313\n",
            "Stopping. Best iteration:\n",
            "[3]\tvalidation_0-auc:0.835194\tvalidation_1-auc:0.749767\n",
            "\n"
          ]
        },
        {
          "output_type": "stream",
          "name": "stderr",
          "text": [
            "\u001b[32m[I 2023-02-14 20:27:26,254]\u001b[0m Trial 18 finished with value: 0.7497666784668362 and parameters: {'learning_rate': 0.19129676301736342, 'n_estimators': 850, 'max_depth': 7, 'colsample_bytree': 0.48478111546891794, 'scale_pos_weight': 4.052698835005961, 'reg_lambda': 0.452558406900367, 'reg_alpha': 0.7387635003252975, 'subsample': 0.6237043251319232}. Best is trial 14 with value: 0.7810639461912271.\u001b[0m\n"
          ]
        },
        {
          "output_type": "stream",
          "name": "stdout",
          "text": [
            "[0]\tvalidation_0-auc:0.752865\tvalidation_1-auc:0.708284\n",
            "Multiple eval metrics have been passed: 'validation_1-auc' will be used for early stopping.\n",
            "\n",
            "Will train until validation_1-auc hasn't improved in 100 rounds.\n",
            "[100]\tvalidation_0-auc:0.984488\tvalidation_1-auc:0.727834\n",
            "Stopping. Best iteration:\n",
            "[19]\tvalidation_0-auc:0.888544\tvalidation_1-auc:0.767612\n",
            "\n"
          ]
        },
        {
          "output_type": "stream",
          "name": "stderr",
          "text": [
            "\u001b[32m[I 2023-02-14 20:27:27,152]\u001b[0m Trial 19 finished with value: 0.7676117529688153 and parameters: {'learning_rate': 0.25324243649732936, 'n_estimators': 313, 'max_depth': 5, 'colsample_bytree': 0.6596473667082949, 'scale_pos_weight': 2.713253737600193, 'reg_lambda': 0.6614100897939887, 'reg_alpha': 0.8802495194376246, 'subsample': 0.5587683326620567}. Best is trial 14 with value: 0.7810639461912271.\u001b[0m\n"
          ]
        },
        {
          "output_type": "stream",
          "name": "stdout",
          "text": [
            "[0]\tvalidation_0-auc:0.78082\tvalidation_1-auc:0.730618\n",
            "Multiple eval metrics have been passed: 'validation_1-auc' will be used for early stopping.\n",
            "\n",
            "Will train until validation_1-auc hasn't improved in 100 rounds.\n",
            "[100]\tvalidation_0-auc:0.999678\tvalidation_1-auc:0.7409\n",
            "Stopping. Best iteration:\n",
            "[20]\tvalidation_0-auc:0.955971\tvalidation_1-auc:0.761948\n",
            "\n"
          ]
        },
        {
          "output_type": "stream",
          "name": "stderr",
          "text": [
            "\u001b[32m[I 2023-02-14 20:27:28,425]\u001b[0m Trial 20 finished with value: 0.7619476716120104 and parameters: {'learning_rate': 0.21030440663909294, 'n_estimators': 619, 'max_depth': 8, 'colsample_bytree': 0.5389650964047912, 'scale_pos_weight': 1.9547865868002803, 'reg_lambda': 0.8771687137102459, 'reg_alpha': 0.6911481825898464, 'subsample': 0.7712886602730182}. Best is trial 14 with value: 0.7810639461912271.\u001b[0m\n"
          ]
        },
        {
          "output_type": "stream",
          "name": "stdout",
          "text": [
            "[0]\tvalidation_0-auc:0.74083\tvalidation_1-auc:0.708911\n",
            "Multiple eval metrics have been passed: 'validation_1-auc' will be used for early stopping.\n",
            "\n",
            "Will train until validation_1-auc hasn't improved in 100 rounds.\n",
            "[100]\tvalidation_0-auc:0.981864\tvalidation_1-auc:0.72748\n",
            "Stopping. Best iteration:\n",
            "[17]\tvalidation_0-auc:0.884054\tvalidation_1-auc:0.766807\n",
            "\n"
          ]
        },
        {
          "output_type": "stream",
          "name": "stderr",
          "text": [
            "\u001b[32m[I 2023-02-14 20:27:29,065]\u001b[0m Trial 21 finished with value: 0.7668071959579055 and parameters: {'learning_rate': 0.29976913643139785, 'n_estimators': 213, 'max_depth': 6, 'colsample_bytree': 0.4484251989533564, 'scale_pos_weight': 1.1101532817500819, 'reg_lambda': 0.7437632898169699, 'reg_alpha': 0.9489982588210707, 'subsample': 0.5274089597760899}. Best is trial 14 with value: 0.7810639461912271.\u001b[0m\n"
          ]
        },
        {
          "output_type": "stream",
          "name": "stdout",
          "text": [
            "[0]\tvalidation_0-auc:0.74602\tvalidation_1-auc:0.723828\n",
            "Multiple eval metrics have been passed: 'validation_1-auc' will be used for early stopping.\n",
            "\n",
            "Will train until validation_1-auc hasn't improved in 100 rounds.\n",
            "[100]\tvalidation_0-auc:0.979963\tvalidation_1-auc:0.741126\n",
            "Stopping. Best iteration:\n",
            "[17]\tvalidation_0-auc:0.875977\tvalidation_1-auc:0.775191\n",
            "\n"
          ]
        },
        {
          "output_type": "stream",
          "name": "stderr",
          "text": [
            "\u001b[32m[I 2023-02-14 20:27:29,613]\u001b[0m Trial 22 finished with value: 0.7751906800115855 and parameters: {'learning_rate': 0.2611633621693896, 'n_estimators': 286, 'max_depth': 6, 'colsample_bytree': 0.400226163683959, 'scale_pos_weight': 1.6513619665784312, 'reg_lambda': 0.8782538620269951, 'reg_alpha': 0.9326456108253918, 'subsample': 0.5367551552842366}. Best is trial 14 with value: 0.7810639461912271.\u001b[0m\n"
          ]
        },
        {
          "output_type": "stream",
          "name": "stdout",
          "text": [
            "[0]\tvalidation_0-auc:0.747485\tvalidation_1-auc:0.713674\n",
            "Multiple eval metrics have been passed: 'validation_1-auc' will be used for early stopping.\n",
            "\n",
            "Will train until validation_1-auc hasn't improved in 100 rounds.\n",
            "[100]\tvalidation_0-auc:0.973342\tvalidation_1-auc:0.730312\n",
            "Stopping. Best iteration:\n",
            "[3]\tvalidation_0-auc:0.805683\tvalidation_1-auc:0.767773\n",
            "\n"
          ]
        },
        {
          "output_type": "stream",
          "name": "stderr",
          "text": [
            "\u001b[32m[I 2023-02-14 20:27:30,121]\u001b[0m Trial 23 finished with value: 0.7677726643709973 and parameters: {'learning_rate': 0.25562122479112653, 'n_estimators': 327, 'max_depth': 5, 'colsample_bytree': 0.45536802970967816, 'scale_pos_weight': 1.7506719672390285, 'reg_lambda': 0.9291870170592879, 'reg_alpha': 0.8894694131195977, 'subsample': 0.557592197009742}. Best is trial 14 with value: 0.7810639461912271.\u001b[0m\n"
          ]
        },
        {
          "output_type": "stream",
          "name": "stdout",
          "text": [
            "[0]\tvalidation_0-auc:0.765593\tvalidation_1-auc:0.718679\n",
            "Multiple eval metrics have been passed: 'validation_1-auc' will be used for early stopping.\n",
            "\n",
            "Will train until validation_1-auc hasn't improved in 100 rounds.\n",
            "[100]\tvalidation_0-auc:0.997897\tvalidation_1-auc:0.715637\n",
            "Stopping. Best iteration:\n",
            "[10]\tvalidation_0-auc:0.892869\tvalidation_1-auc:0.747417\n",
            "\n"
          ]
        },
        {
          "output_type": "stream",
          "name": "stderr",
          "text": [
            "\u001b[32m[I 2023-02-14 20:27:30,779]\u001b[0m Trial 24 finished with value: 0.7474173719949795 and parameters: {'learning_rate': 0.24552969069012817, 'n_estimators': 574, 'max_depth': 7, 'colsample_bytree': 0.5325089380455869, 'scale_pos_weight': 1.808055448647198, 'reg_lambda': 0.8605906091403831, 'reg_alpha': 0.8004496822983698, 'subsample': 0.6026522248391801}. Best is trial 14 with value: 0.7810639461912271.\u001b[0m\n"
          ]
        },
        {
          "output_type": "stream",
          "name": "stdout",
          "text": [
            "[0]\tvalidation_0-auc:0.760218\tvalidation_1-auc:0.695894\n",
            "Multiple eval metrics have been passed: 'validation_1-auc' will be used for early stopping.\n",
            "\n",
            "Will train until validation_1-auc hasn't improved in 100 rounds.\n",
            "[100]\tvalidation_0-auc:0.980966\tvalidation_1-auc:0.736685\n",
            "Stopping. Best iteration:\n",
            "[10]\tvalidation_0-auc:0.852991\tvalidation_1-auc:0.756782\n",
            "\n"
          ]
        },
        {
          "output_type": "stream",
          "name": "stderr",
          "text": [
            "\u001b[32m[I 2023-02-14 20:27:31,543]\u001b[0m Trial 25 finished with value: 0.7567824156019695 and parameters: {'learning_rate': 0.20306615404611705, 'n_estimators': 787, 'max_depth': 6, 'colsample_bytree': 0.4555883538099051, 'scale_pos_weight': 2.454806878996972, 'reg_lambda': 0.7258833988194653, 'reg_alpha': 0.9174134757383411, 'subsample': 0.5005173023256747}. Best is trial 14 with value: 0.7810639461912271.\u001b[0m\n"
          ]
        },
        {
          "output_type": "stream",
          "name": "stdout",
          "text": [
            "[0]\tvalidation_0-auc:0.740034\tvalidation_1-auc:0.672626\n",
            "Multiple eval metrics have been passed: 'validation_1-auc' will be used for early stopping.\n",
            "\n",
            "Will train until validation_1-auc hasn't improved in 100 rounds.\n",
            "[100]\tvalidation_0-auc:0.973077\tvalidation_1-auc:0.738776\n",
            "Stopping. Best iteration:\n",
            "[11]\tvalidation_0-auc:0.856856\tvalidation_1-auc:0.769591\n",
            "\n"
          ]
        },
        {
          "output_type": "stream",
          "name": "stderr",
          "text": [
            "\u001b[32m[I 2023-02-14 20:27:31,848]\u001b[0m Trial 26 finished with value: 0.7695909632156536 and parameters: {'learning_rate': 0.2731833300941118, 'n_estimators': 284, 'max_depth': 5, 'colsample_bytree': 0.44520669762440496, 'scale_pos_weight': 1.4474751744460739, 'reg_lambda': 0.9237013205209902, 'reg_alpha': 0.9253013929944593, 'subsample': 0.6426344250546621}. Best is trial 14 with value: 0.7810639461912271.\u001b[0m\n"
          ]
        },
        {
          "output_type": "stream",
          "name": "stdout",
          "text": [
            "[0]\tvalidation_0-auc:0.771271\tvalidation_1-auc:0.739613\n",
            "Multiple eval metrics have been passed: 'validation_1-auc' will be used for early stopping.\n",
            "\n",
            "Will train until validation_1-auc hasn't improved in 100 rounds.\n",
            "[100]\tvalidation_0-auc:0.991406\tvalidation_1-auc:0.734947\n",
            "Stopping. Best iteration:\n",
            "[9]\tvalidation_0-auc:0.874016\tvalidation_1-auc:0.776044\n",
            "\n"
          ]
        },
        {
          "output_type": "stream",
          "name": "stderr",
          "text": [
            "\u001b[32m[I 2023-02-14 20:27:32,246]\u001b[0m Trial 27 finished with value: 0.7760435104431499 and parameters: {'learning_rate': 0.22388290719357695, 'n_estimators': 936, 'max_depth': 7, 'colsample_bytree': 0.52679656397218, 'scale_pos_weight': 1.0026430497450634, 'reg_lambda': 0.8150438119198407, 'reg_alpha': 0.789161612565459, 'subsample': 0.5443848179534928}. Best is trial 14 with value: 0.7810639461912271.\u001b[0m\n"
          ]
        },
        {
          "output_type": "stream",
          "name": "stdout",
          "text": [
            "[0]\tvalidation_0-auc:0.779968\tvalidation_1-auc:0.712355\n",
            "Multiple eval metrics have been passed: 'validation_1-auc' will be used for early stopping.\n",
            "\n",
            "Will train until validation_1-auc hasn't improved in 100 rounds.\n",
            "[100]\tvalidation_0-auc:0.998524\tvalidation_1-auc:0.741898\n",
            "Stopping. Best iteration:\n",
            "[26]\tvalidation_0-auc:0.947192\tvalidation_1-auc:0.75107\n",
            "\n"
          ]
        },
        {
          "output_type": "stream",
          "name": "stderr",
          "text": [
            "\u001b[32m[I 2023-02-14 20:27:32,866]\u001b[0m Trial 28 finished with value: 0.75107006082451 and parameters: {'learning_rate': 0.22536187899025514, 'n_estimators': 921, 'max_depth': 7, 'colsample_bytree': 0.5464782150985692, 'scale_pos_weight': 3.0244325498938873, 'reg_lambda': 0.5619424750570794, 'reg_alpha': 0.7809000012673403, 'subsample': 0.5705598071749469}. Best is trial 14 with value: 0.7810639461912271.\u001b[0m\n"
          ]
        },
        {
          "output_type": "stream",
          "name": "stdout",
          "text": [
            "[0]\tvalidation_0-auc:0.797071\tvalidation_1-auc:0.683922\n",
            "Multiple eval metrics have been passed: 'validation_1-auc' will be used for early stopping.\n",
            "\n",
            "Will train until validation_1-auc hasn't improved in 100 rounds.\n",
            "[100]\tvalidation_0-auc:0.999932\tvalidation_1-auc:0.734786\n",
            "Stopping. Best iteration:\n",
            "[27]\tvalidation_0-auc:0.979879\tvalidation_1-auc:0.746532\n",
            "\n"
          ]
        },
        {
          "output_type": "stream",
          "name": "stderr",
          "text": [
            "\u001b[32m[I 2023-02-14 20:27:33,595]\u001b[0m Trial 29 finished with value: 0.7465323592829788 and parameters: {'learning_rate': 0.20672381767250483, 'n_estimators': 1240, 'max_depth': 8, 'colsample_bytree': 0.6328225133603802, 'scale_pos_weight': 2.2839977886306713, 'reg_lambda': 0.7253630494945367, 'reg_alpha': 0.8169379969846826, 'subsample': 0.831653832248192}. Best is trial 14 with value: 0.7810639461912271.\u001b[0m\n"
          ]
        },
        {
          "output_type": "stream",
          "name": "stdout",
          "text": [
            "Best Score: 0.7810639461912271\n",
            "Best trial {'learning_rate': 0.23527710607670124, 'n_estimators': 559, 'max_depth': 6, 'colsample_bytree': 0.4880490299944742, 'scale_pos_weight': 1.091982210024657, 'reg_lambda': 0.6732237738899947, 'reg_alpha': 0.8673809714469445, 'subsample': 0.5015623345988715}\n"
          ]
        }
      ]
    },
    {
      "cell_type": "code",
      "source": [
        "params = study.best_params\n",
        "\n",
        "params[\"random_state\"] = 2\n",
        "params['objective'] = 'binary:logistic'\n",
        "params['eval_metric'] = 'auc'"
      ],
      "metadata": {
        "id": "yv_L5qu57HCw"
      },
      "execution_count": null,
      "outputs": []
    },
    {
      "cell_type": "code",
      "source": [
        "xgc = XGBClassifier(**params)\n",
        "\n",
        "xgc.fit(X_train, y_train,\n",
        "        eval_set=[(X_train, y_train), (X_val,y_val)],\n",
        "        early_stopping_rounds=100,\n",
        "        verbose=100)"
      ],
      "metadata": {
        "colab": {
          "base_uri": "https://localhost:8080/"
        },
        "id": "ArOUVeU7zZKz",
        "outputId": "eed59ab2-f262-492e-cc51-e67f4e5410c3"
      },
      "execution_count": null,
      "outputs": [
        {
          "output_type": "stream",
          "name": "stdout",
          "text": [
            "[0]\tvalidation_0-auc:0.757158\tvalidation_1-auc:0.706031\n",
            "Multiple eval metrics have been passed: 'validation_1-auc' will be used for early stopping.\n",
            "\n",
            "Will train until validation_1-auc hasn't improved in 100 rounds.\n",
            "[100]\tvalidation_0-auc:0.980152\tvalidation_1-auc:0.754095\n",
            "Stopping. Best iteration:\n",
            "[25]\tvalidation_0-auc:0.901979\tvalidation_1-auc:0.781064\n",
            "\n"
          ]
        },
        {
          "output_type": "execute_result",
          "data": {
            "text/plain": [
              "XGBClassifier(colsample_bytree=0.4880490299944742, eval_metric='auc',\n",
              "              learning_rate=0.23527710607670124, max_depth=6, n_estimators=559,\n",
              "              random_state=2, reg_alpha=0.8673809714469445,\n",
              "              reg_lambda=0.6732237738899947, scale_pos_weight=1.091982210024657,\n",
              "              subsample=0.5015623345988715)"
            ]
          },
          "metadata": {},
          "execution_count": 59
        }
      ]
    },
    {
      "cell_type": "code",
      "source": [
        "xgc_pred = xgc.predict(X_val)\n",
        "xgc_prob = xgc.predict_proba(X_val)[:,1]\n",
        "\n",
        "print('XGBClassifier_val')\n",
        "print('roc_auc_score :', roc_auc_score(y_val, xgc_prob), '\\n')\n",
        "print('classification_report', '\\n', classification_report(y_val, xgc_pred))"
      ],
      "metadata": {
        "colab": {
          "base_uri": "https://localhost:8080/"
        },
        "id": "qn6g6Zszil9B",
        "outputId": "26bf9260-2396-4258-ab20-9d7ad21dd175"
      },
      "execution_count": null,
      "outputs": [
        {
          "output_type": "stream",
          "name": "stdout",
          "text": [
            "XGBClassifier_val\n",
            "roc_auc_score : 0.7810639461912271 \n",
            "\n",
            "classification_report \n",
            "               precision    recall  f1-score   support\n",
            "\n",
            "           0       0.69      0.70      0.69       161\n",
            "           1       0.74      0.74      0.74       193\n",
            "\n",
            "    accuracy                           0.72       354\n",
            "   macro avg       0.72      0.72      0.72       354\n",
            "weighted avg       0.72      0.72      0.72       354\n",
            "\n"
          ]
        }
      ]
    },
    {
      "cell_type": "code",
      "source": [
        "xgc_pred = xgc.predict(X_test)\n",
        "xgc_prob = xgc.predict_proba(X_test)[:,1]\n",
        "\n",
        "print('XGCClassifier_test')\n",
        "print('roc_auc_score :', roc_auc_score(y_test, xgc_prob), '\\n')\n",
        "print('classification_report', '\\n', classification_report(y_test, xgc_pred))"
      ],
      "metadata": {
        "colab": {
          "base_uri": "https://localhost:8080/"
        },
        "id": "QjOQZW4Z6zj9",
        "outputId": "ff31e129-69fe-432e-c143-46235f0dde22"
      },
      "execution_count": null,
      "outputs": [
        {
          "output_type": "stream",
          "name": "stdout",
          "text": [
            "XGCClassifier_test\n",
            "roc_auc_score : 0.731615381455158 \n",
            "\n",
            "classification_report \n",
            "               precision    recall  f1-score   support\n",
            "\n",
            "           0       0.65      0.64      0.65       202\n",
            "           1       0.70      0.72      0.71       241\n",
            "\n",
            "    accuracy                           0.68       443\n",
            "   macro avg       0.68      0.68      0.68       443\n",
            "weighted avg       0.68      0.68      0.68       443\n",
            "\n"
          ]
        }
      ]
    },
    {
      "cell_type": "code",
      "source": [
        "feature_importance = pd.DataFrame([X_test.columns, xgc.feature_importances_]).T.rename(columns={0:'features',1:'importance'}).sort_values('importance', ascending=False).reset_index(drop=True)"
      ],
      "metadata": {
        "id": "1qDGOvFJAriv"
      },
      "execution_count": null,
      "outputs": []
    },
    {
      "cell_type": "code",
      "source": [
        "plt.figure(figsize=(10, 8))\n",
        "sns.barplot(x='importance', y='features', data=feature_importance)\n",
        "plt.title('XGBClassifier Feature Importances', fontsize=18)\n",
        "plt.show()"
      ],
      "metadata": {
        "colab": {
          "base_uri": "https://localhost:8080/",
          "height": 517
        },
        "id": "iUHFfH2QAN6b",
        "outputId": "25edd60d-00a1-46a8-e14a-c1beaa433fa8"
      },
      "execution_count": null,
      "outputs": [
        {
          "output_type": "display_data",
          "data": {
            "text/plain": [
              "<Figure size 720x576 with 1 Axes>"
            ],
            "image/png": "[encoded data removed]"
          },
          "metadata": {
            "needs_background": "light"
          }
        }
      ]
    },
    {
      "cell_type": "code",
      "source": [
        "df[['MB_IDX','date']] = raw[['MB_IDX','date']]"
      ],
      "metadata": {
        "id": "8M0TpayUe7E3"
      },
      "execution_count": null,
      "outputs": []
    },
    {
      "cell_type": "code",
      "source": [
        "df.head()"
      ],
      "metadata": {
        "colab": {
          "base_uri": "https://localhost:8080/",
          "height": 386
        },
        "id": "V-K3RJ1rkGJ8",
        "outputId": "7040bf6d-be0b-48fa-9c01-01edf50a8f05"
      },
      "execution_count": null,
      "outputs": [
        {
          "output_type": "execute_result",
          "data": {
            "text/plain": [
              "         date  MB_IDX before_product_grade  before_special_seat_yn  \\\n",
              "0  2022-09-02  121255              1인 테이블석                       1   \n",
              "1  2022-04-10  136710              1인 테이블석                       1   \n",
              "2  2022-02-26  141053              1인 테이블석                       1   \n",
              "3  2022-03-05  127881              1인 테이블석                       1   \n",
              "4  2022-03-13  127881              1인 테이블석                       1   \n",
              "\n",
              "   before_discount_yn before_discount_way  before_first_yn  \\\n",
              "0                   0                  없음                0   \n",
              "1                   1                 멤버십                0   \n",
              "2                   0                  없음                1   \n",
              "3                   0                  없음                0   \n",
              "4                   0                  없음                0   \n",
              "\n",
              "   before_reserve_count  before_ticket_satisfaction  before_gate_satisfaction  \\\n",
              "0                     2                           5                         5   \n",
              "1                     1                           5                         1   \n",
              "2                     4                           5                         5   \n",
              "3                     2                           5                         5   \n",
              "4                     2                           5                         5   \n",
              "\n",
              "   ...  total_special_seat  total_reserve_date  total_reserve_ticket  \\\n",
              "0  ...                   6                   5                    10   \n",
              "1  ...                   5                   6                    10   \n",
              "2  ...                   4                  11                    31   \n",
              "3  ...                  12                  18                    44   \n",
              "4  ...                  12                  18                    44   \n",
              "\n",
              "   rate_ticket_discount rate_special_seat  mean_reserve_ticket  \\\n",
              "0                  0.20              0.60                 2.00   \n",
              "1                  1.00              0.50                 1.67   \n",
              "2                  0.00              0.13                 2.82   \n",
              "3                  0.05              0.27                 2.44   \n",
              "4                  0.05              0.27                 2.44   \n",
              "\n",
              "   mean_game_nth_diff  last_game_nth  cluster  target  \n",
              "0                1.50             19        3       0  \n",
              "1                3.00             19        3       1  \n",
              "2                1.80             19        4       1  \n",
              "3                1.06             19        5       1  \n",
              "4                1.06             19        5       0  \n",
              "\n",
              "[5 rows x 38 columns]"
            ],
            "text/html": [
              "\n",
              "  <div id=\"df-cf4457a7-e0d7-4508-befa-72cd38e75b28\">\n",
              "    <div class=\"colab-df-container\">\n",
              "      <div>\n",
              "<style scoped>\n",
              "    .dataframe tbody tr th:only-of-type {\n",
              "        vertical-align: middle;\n",
              "    }\n",
              "\n",
              "    .dataframe tbody tr th {\n",
              "        vertical-align: top;\n",
              "    }\n",
              "\n",
              "    .dataframe thead th {\n",
              "        text-align: right;\n",
              "    }\n",
              "</style>\n",
              "<table border=\"1\" class=\"dataframe\">\n",
              "  <thead>\n",
              "    <tr style=\"text-align: right;\">\n",
              "      <th></th>\n",
              "      <th>date</th>\n",
              "      <th>MB_IDX</th>\n",
              "      <th>before_product_grade</th>\n",
              "      <th>before_special_seat_yn</th>\n",
              "      <th>before_discount_yn</th>\n",
              "      <th>before_discount_way</th>\n",
              "      <th>before_first_yn</th>\n",
              "      <th>before_reserve_count</th>\n",
              "      <th>before_ticket_satisfaction</th>\n",
              "      <th>before_gate_satisfaction</th>\n",
              "      <th>...</th>\n",
              "      <th>total_special_seat</th>\n",
              "      <th>total_reserve_date</th>\n",
              "      <th>total_reserve_ticket</th>\n",
              "      <th>rate_ticket_discount</th>\n",
              "      <th>rate_special_seat</th>\n",
              "      <th>mean_reserve_ticket</th>\n",
              "      <th>mean_game_nth_diff</th>\n",
              "      <th>last_game_nth</th>\n",
              "      <th>cluster</th>\n",
              "      <th>target</th>\n",
              "    </tr>\n",
              "  </thead>\n",
              "  <tbody>\n",
              "    <tr>\n",
              "      <th>0</th>\n",
              "      <td>2022-09-02</td>\n",
              "      <td>121255</td>\n",
              "      <td>1인 테이블석</td>\n",
              "      <td>1</td>\n",
              "      <td>0</td>\n",
              "      <td>없음</td>\n",
              "      <td>0</td>\n",
              "      <td>2</td>\n",
              "      <td>5</td>\n",
              "      <td>5</td>\n",
              "      <td>...</td>\n",
              "      <td>6</td>\n",
              "      <td>5</td>\n",
              "      <td>10</td>\n",
              "      <td>0.20</td>\n",
              "      <td>0.60</td>\n",
              "      <td>2.00</td>\n",
              "      <td>1.50</td>\n",
              "      <td>19</td>\n",
              "      <td>3</td>\n",
              "      <td>0</td>\n",
              "    </tr>\n",
              "    <tr>\n",
              "      <th>1</th>\n",
              "      <td>2022-04-10</td>\n",
              "      <td>136710</td>\n",
              "      <td>1인 테이블석</td>\n",
              "      <td>1</td>\n",
              "      <td>1</td>\n",
              "      <td>멤버십</td>\n",
              "      <td>0</td>\n",
              "      <td>1</td>\n",
              "      <td>5</td>\n",
              "      <td>1</td>\n",
              "      <td>...</td>\n",
              "      <td>5</td>\n",
              "      <td>6</td>\n",
              "      <td>10</td>\n",
              "      <td>1.00</td>\n",
              "      <td>0.50</td>\n",
              "      <td>1.67</td>\n",
              "      <td>3.00</td>\n",
              "      <td>19</td>\n",
              "      <td>3</td>\n",
              "      <td>1</td>\n",
              "    </tr>\n",
              "    <tr>\n",
              "      <th>2</th>\n",
              "      <td>2022-02-26</td>\n",
              "      <td>141053</td>\n",
              "      <td>1인 테이블석</td>\n",
              "      <td>1</td>\n",
              "      <td>0</td>\n",
              "      <td>없음</td>\n",
              "      <td>1</td>\n",
              "      <td>4</td>\n",
              "      <td>5</td>\n",
              "      <td>5</td>\n",
              "      <td>...</td>\n",
              "      <td>4</td>\n",
              "      <td>11</td>\n",
              "      <td>31</td>\n",
              "      <td>0.00</td>\n",
              "      <td>0.13</td>\n",
              "      <td>2.82</td>\n",
              "      <td>1.80</td>\n",
              "      <td>19</td>\n",
              "      <td>4</td>\n",
              "      <td>1</td>\n",
              "    </tr>\n",
              "    <tr>\n",
              "      <th>3</th>\n",
              "      <td>2022-03-05</td>\n",
              "      <td>127881</td>\n",
              "      <td>1인 테이블석</td>\n",
              "      <td>1</td>\n",
              "      <td>0</td>\n",
              "      <td>없음</td>\n",
              "      <td>0</td>\n",
              "      <td>2</td>\n",
              "      <td>5</td>\n",
              "      <td>5</td>\n",
              "      <td>...</td>\n",
              "      <td>12</td>\n",
              "      <td>18</td>\n",
              "      <td>44</td>\n",
              "      <td>0.05</td>\n",
              "      <td>0.27</td>\n",
              "      <td>2.44</td>\n",
              "      <td>1.06</td>\n",
              "      <td>19</td>\n",
              "      <td>5</td>\n",
              "      <td>1</td>\n",
              "    </tr>\n",
              "    <tr>\n",
              "      <th>4</th>\n",
              "      <td>2022-03-13</td>\n",
              "      <td>127881</td>\n",
              "      <td>1인 테이블석</td>\n",
              "      <td>1</td>\n",
              "      <td>0</td>\n",
              "      <td>없음</td>\n",
              "      <td>0</td>\n",
              "      <td>2</td>\n",
              "      <td>5</td>\n",
              "      <td>5</td>\n",
              "      <td>...</td>\n",
              "      <td>12</td>\n",
              "      <td>18</td>\n",
              "      <td>44</td>\n",
              "      <td>0.05</td>\n",
              "      <td>0.27</td>\n",
              "      <td>2.44</td>\n",
              "      <td>1.06</td>\n",
              "      <td>19</td>\n",
              "      <td>5</td>\n",
              "      <td>0</td>\n",
              "    </tr>\n",
              "  </tbody>\n",
              "</table>\n",
              "<p>5 rows × 38 columns</p>\n",
              "</div>\n",
              "      <button class=\"colab-df-convert\" onclick=\"convertToInteractive('df-cf4457a7-e0d7-4508-befa-72cd38e75b28')\"\n",
              "              title=\"Convert this dataframe to an interactive table.\"\n",
              "              style=\"display:none;\">\n",
              "        \n",
              "  <svg xmlns=\"http://www.w3.org/2000/svg\" height=\"24px\"viewBox=\"0 0 24 24\"\n",
              "       width=\"24px\">\n",
              "    <path d=\"M0 0h24v24H0V0z\" fill=\"none\"/>\n",
              "    <path d=\"M18.56 5.44l.94 2.06.94-2.06 2.06-.94-2.06-.94-.94-2.06-.94 2.06-2.06.94zm-11 1L8.5 8.5l.94-2.06 2.06-.94-2.06-.94L8.5 2.5l-.94 2.06-2.06.94zm10 10l.94 2.06.94-2.06 2.06-.94-2.06-.94-.94-2.06-.94 2.06-2.06.94z\"/><path d=\"M17.41 7.96l-1.37-1.37c-.4-.4-.92-.59-1.43-.59-.52 0-1.04.2-1.43.59L10.3 9.45l-7.72 7.72c-.78.78-.78 2.05 0 2.83L4 21.41c.39.39.9.59 1.41.59.51 0 1.02-.2 1.41-.59l7.78-7.78 2.81-2.81c.8-.78.8-2.07 0-2.86zM5.41 20L4 18.59l7.72-7.72 1.47 1.35L5.41 20z\"/>\n",
              "  </svg>\n",
              "      </button>\n",
              "      \n",
              "  <style>\n",
              "    .colab-df-container {\n",
              "      display:flex;\n",
              "      flex-wrap:wrap;\n",
              "      gap: 12px;\n",
              "    }\n",
              "\n",
              "    .colab-df-convert {\n",
              "      background-color: #E8F0FE;\n",
              "      border: none;\n",
              "      border-radius: 50%;\n",
              "      cursor: pointer;\n",
              "      display: none;\n",
              "      fill: #1967D2;\n",
              "      height: 32px;\n",
              "      padding: 0 0 0 0;\n",
              "      width: 32px;\n",
              "    }\n",
              "\n",
              "    .colab-df-convert:hover {\n",
              "      background-color: #E2EBFA;\n",
              "      box-shadow: 0px 1px 2px rgba(60, 64, 67, 0.3), 0px 1px 3px 1px rgba(60, 64, 67, 0.15);\n",
              "      fill: #174EA6;\n",
              "    }\n",
              "\n",
              "    [theme=dark] .colab-df-convert {\n",
              "      background-color: #3B4455;\n",
              "      fill: #D2E3FC;\n",
              "    }\n",
              "\n",
              "    [theme=dark] .colab-df-convert:hover {\n",
              "      background-color: #434B5C;\n",
              "      box-shadow: 0px 1px 3px 1px rgba(0, 0, 0, 0.15);\n",
              "      filter: drop-shadow(0px 1px 2px rgba(0, 0, 0, 0.3));\n",
              "      fill: #FFFFFF;\n",
              "    }\n",
              "  </style>\n",
              "\n",
              "      <script>\n",
              "        const buttonEl =\n",
              "          document.querySelector('#df-cf4457a7-e0d7-4508-befa-72cd38e75b28 button.colab-df-convert');\n",
              "        buttonEl.style.display =\n",
              "          google.colab.kernel.accessAllowed ? 'block' : 'none';\n",
              "\n",
              "        async function convertToInteractive(key) {\n",
              "          const element = document.querySelector('#df-cf4457a7-e0d7-4508-befa-72cd38e75b28');\n",
              "          const dataTable =\n",
              "            await google.colab.kernel.invokeFunction('convertToInteractive',\n",
              "                                                     [key], {});\n",
              "          if (!dataTable) return;\n",
              "\n",
              "          const docLinkHtml = 'Like what you see? Visit the ' +\n",
              "            '<a target=\"_blank\" href=https://colab.research.google.com/notebooks/data_table.ipynb>data table notebook</a>'\n",
              "            + ' to learn more about interactive tables.';\n",
              "          element.innerHTML = '';\n",
              "          dataTable['output_type'] = 'display_data';\n",
              "          await google.colab.output.renderOutput(dataTable, element);\n",
              "          const docLink = document.createElement('div');\n",
              "          docLink.innerHTML = docLinkHtml;\n",
              "          element.appendChild(docLink);\n",
              "        }\n",
              "      </script>\n",
              "    </div>\n",
              "  </div>\n",
              "  "
            ]
          },
          "metadata": {},
          "execution_count": 65
        }
      ]
    },
    {
      "cell_type": "code",
      "source": [
        "df.to_csv('data_analysis3.csv', index=False)"
      ],
      "metadata": {
        "id": "qW-qMlrPfXlV"
      },
      "execution_count": 67,
      "outputs": []
    },
    {
      "cell_type": "code",
      "source": [],
      "metadata": {
        "id": "xZdoM_sginwP"
      },
      "execution_count": null,
      "outputs": []
    }
  ]
}