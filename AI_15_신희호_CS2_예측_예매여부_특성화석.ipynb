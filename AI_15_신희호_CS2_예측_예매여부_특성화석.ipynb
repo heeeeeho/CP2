{
  "nbformat": 4,
  "nbformat_minor": 0,
  "metadata": {
    "colab": {
      "provenance": [],
      "collapsed_sections": [
        "m1HzoXViN6j4",
        "rMPDbw84N9yx",
        "vEgYeh7llRjK"
      ]
    },
    "kernelspec": {
      "name": "python3",
      "display_name": "Python 3"
    },
    "language_info": {
      "name": "python"
    }
  },
  "cells": [
    {
      "cell_type": "markdown",
      "source": [
        "# Import"
      ],
      "metadata": {
        "id": "m1HzoXViN6j4"
      }
    },
    {
      "cell_type": "code",
      "source": [
        "!pip install optuna"
      ],
      "metadata": {
        "id": "QGPnUvIHvB6Q",
        "colab": {
          "base_uri": "https://localhost:8080/"
        },
        "outputId": "3f626515-ec6f-47d6-b49a-ab17815feb3d"
      },
      "execution_count": 1,
      "outputs": [
        {
          "output_type": "stream",
          "name": "stdout",
          "text": [
            "Looking in indexes: https://pypi.org/simple, https://us-python.pkg.dev/colab-wheels/public/simple/\n",
            "Collecting optuna\n",
            "  Downloading optuna-3.1.0-py3-none-any.whl (365 kB)\n",
            "\u001b[2K     \u001b[90m━━━━━━━━━━━━━━━━━━━━━━━━━━━━━━━━━━━━━━━\u001b[0m \u001b[32m365.3/365.3 KB\u001b[0m \u001b[31m7.8 MB/s\u001b[0m eta \u001b[36m0:00:00\u001b[0m\n",
            "\u001b[?25hCollecting colorlog\n",
            "  Downloading colorlog-6.7.0-py2.py3-none-any.whl (11 kB)\n",
            "Requirement already satisfied: tqdm in /usr/local/lib/python3.8/dist-packages (from optuna) (4.64.1)\n",
            "Requirement already satisfied: PyYAML in /usr/local/lib/python3.8/dist-packages (from optuna) (6.0)\n",
            "Collecting alembic>=1.5.0\n",
            "  Downloading alembic-1.9.3-py3-none-any.whl (210 kB)\n",
            "\u001b[2K     \u001b[90m━━━━━━━━━━━━━━━━━━━━━━━━━━━━━━━━━━━━━━━\u001b[0m \u001b[32m210.6/210.6 KB\u001b[0m \u001b[31m8.0 MB/s\u001b[0m eta \u001b[36m0:00:00\u001b[0m\n",
            "\u001b[?25hRequirement already satisfied: packaging>=20.0 in /usr/local/lib/python3.8/dist-packages (from optuna) (23.0)\n",
            "Requirement already satisfied: sqlalchemy>=1.3.0 in /usr/local/lib/python3.8/dist-packages (from optuna) (1.4.46)\n",
            "Requirement already satisfied: numpy in /usr/local/lib/python3.8/dist-packages (from optuna) (1.21.6)\n",
            "Collecting cmaes>=0.9.1\n",
            "  Downloading cmaes-0.9.1-py3-none-any.whl (21 kB)\n",
            "Requirement already satisfied: importlib-resources in /usr/local/lib/python3.8/dist-packages (from alembic>=1.5.0->optuna) (5.10.2)\n",
            "Requirement already satisfied: importlib-metadata in /usr/local/lib/python3.8/dist-packages (from alembic>=1.5.0->optuna) (6.0.0)\n",
            "Collecting Mako\n",
            "  Downloading Mako-1.2.4-py3-none-any.whl (78 kB)\n",
            "\u001b[2K     \u001b[90m━━━━━━━━━━━━━━━━━━━━━━━━━━━━━━━━━━━━━━━━\u001b[0m \u001b[32m78.7/78.7 KB\u001b[0m \u001b[31m4.4 MB/s\u001b[0m eta \u001b[36m0:00:00\u001b[0m\n",
            "\u001b[?25hRequirement already satisfied: greenlet!=0.4.17 in /usr/local/lib/python3.8/dist-packages (from sqlalchemy>=1.3.0->optuna) (2.0.2)\n",
            "Requirement already satisfied: zipp>=0.5 in /usr/local/lib/python3.8/dist-packages (from importlib-metadata->alembic>=1.5.0->optuna) (3.12.1)\n",
            "Requirement already satisfied: MarkupSafe>=0.9.2 in /usr/local/lib/python3.8/dist-packages (from Mako->alembic>=1.5.0->optuna) (2.0.1)\n",
            "Installing collected packages: Mako, colorlog, cmaes, alembic, optuna\n",
            "Successfully installed Mako-1.2.4 alembic-1.9.3 cmaes-0.9.1 colorlog-6.7.0 optuna-3.1.0\n"
          ]
        }
      ]
    },
    {
      "cell_type": "code",
      "execution_count": 2,
      "metadata": {
        "id": "Xmo7oszcag5o"
      },
      "outputs": [],
      "source": [
        "import pandas as pd\n",
        "import numpy as np\n",
        "\n",
        "import matplotlib.pyplot as plt\n",
        "import seaborn as sns\n",
        "\n",
        "from sklearn.preprocessing import OrdinalEncoder\n",
        "\n",
        "from imblearn.over_sampling import SMOTE\n",
        "\n",
        "from sklearn.model_selection import train_test_split\n",
        "\n",
        "from sklearn.ensemble import RandomForestClassifier\n",
        "from xgboost import XGBClassifier\n",
        "from lightgbm import LGBMClassifier\n",
        "\n",
        "import optuna\n",
        "from optuna import Trial\n",
        "from optuna.samplers import TPESampler\n",
        "\n",
        "from sklearn.metrics import f1_score\n",
        "from sklearn.metrics import roc_auc_score\n",
        "from sklearn.metrics import classification_report"
      ]
    },
    {
      "cell_type": "markdown",
      "source": [
        "# EDA"
      ],
      "metadata": {
        "id": "rMPDbw84N9yx"
      }
    },
    {
      "cell_type": "code",
      "source": [
        "raw = pd.read_csv('predict_yn_special.csv')"
      ],
      "metadata": {
        "id": "RB8ZKm-X4z6b"
      },
      "execution_count": 3,
      "outputs": []
    },
    {
      "cell_type": "code",
      "source": [
        "df = raw.copy()"
      ],
      "metadata": {
        "id": "UHM7boxteBiL"
      },
      "execution_count": 4,
      "outputs": []
    },
    {
      "cell_type": "markdown",
      "source": [
        "## 정리"
      ],
      "metadata": {
        "id": "vEgYeh7llRjK"
      }
    },
    {
      "cell_type": "code",
      "source": [
        "X = df.copy()\n",
        "y = df['target']"
      ],
      "metadata": {
        "id": "sZwGyWG4sngb"
      },
      "execution_count": 5,
      "outputs": []
    },
    {
      "cell_type": "code",
      "source": [
        "X = X.drop(['MB_IDX', 'before_audience'], axis=1)"
      ],
      "metadata": {
        "id": "AJ1H09iPcwLF"
      },
      "execution_count": 6,
      "outputs": []
    },
    {
      "cell_type": "code",
      "source": [
        "X = X[X.columns[:-11]]"
      ],
      "metadata": {
        "id": "1mGstnyA8xWS"
      },
      "execution_count": 7,
      "outputs": []
    },
    {
      "cell_type": "code",
      "source": [
        "X.head()"
      ],
      "metadata": {
        "colab": {
          "base_uri": "https://localhost:8080/",
          "height": 0
        },
        "id": "GywdDvrPteHn",
        "outputId": "6bc5c35f-50a7-471d-dbfa-bf459a24b7b9"
      },
      "execution_count": 8,
      "outputs": [
        {
          "output_type": "execute_result",
          "data": {
            "text/plain": [
              "         date before_product_grade  before_special_seat_yn  \\\n",
              "0  2022-02-26            Exciting석                       0   \n",
              "1  2022-02-26            Exciting석                       0   \n",
              "2  2022-02-26            Exciting석                       0   \n",
              "3  2022-03-05            Exciting석                       0   \n",
              "4  2022-03-05            Exciting석                       0   \n",
              "\n",
              "   before_discount_yn before_discount_way  before_first_yn  \\\n",
              "0                   0                  없음                1   \n",
              "1                   0                  없음                1   \n",
              "2                   0                  없음                1   \n",
              "3                   0                  없음                1   \n",
              "4                   0                  없음                1   \n",
              "\n",
              "   before_reserve_count  weekend_yn  night_yn  final_yn  ... before_goal_diff  \\\n",
              "0                     1           1         0         0  ...                1   \n",
              "1                     1           1         0         0  ...                1   \n",
              "2                     1           1         0         0  ...                1   \n",
              "3                     2           1         1         0  ...                0   \n",
              "4                     3           1         1         0  ...                0   \n",
              "\n",
              "   before_game_result  before_rank  youtube_count  youtube_mean_view  \\\n",
              "0                 1.0            2              4               2794   \n",
              "1                 1.0            2              4               2794   \n",
              "2                 1.0            2              4               2794   \n",
              "3                 0.5            4              4               1816   \n",
              "4                 0.5            4              4               1816   \n",
              "\n",
              "   youtube_mean_like  age_group  region           job favorite_idx  \n",
              "0                158         20   인천광역시           NaN         아길라르  \n",
              "1                158         30   인천광역시            무직         아길라르  \n",
              "2                158         50   인천광역시      서비스업 종사자          이태희  \n",
              "3                 97         30     수도권  회사원(사무직/연구직)          무고사  \n",
              "4                 97         40   인천광역시           공무원        에르난데스  \n",
              "\n",
              "[5 rows x 22 columns]"
            ],
            "text/html": [
              "\n",
              "  <div id=\"df-b04cb022-b25c-4172-b2fe-84f82e8bc0cd\">\n",
              "    <div class=\"colab-df-container\">\n",
              "      <div>\n",
              "<style scoped>\n",
              "    .dataframe tbody tr th:only-of-type {\n",
              "        vertical-align: middle;\n",
              "    }\n",
              "\n",
              "    .dataframe tbody tr th {\n",
              "        vertical-align: top;\n",
              "    }\n",
              "\n",
              "    .dataframe thead th {\n",
              "        text-align: right;\n",
              "    }\n",
              "</style>\n",
              "<table border=\"1\" class=\"dataframe\">\n",
              "  <thead>\n",
              "    <tr style=\"text-align: right;\">\n",
              "      <th></th>\n",
              "      <th>date</th>\n",
              "      <th>before_product_grade</th>\n",
              "      <th>before_special_seat_yn</th>\n",
              "      <th>before_discount_yn</th>\n",
              "      <th>before_discount_way</th>\n",
              "      <th>before_first_yn</th>\n",
              "      <th>before_reserve_count</th>\n",
              "      <th>weekend_yn</th>\n",
              "      <th>night_yn</th>\n",
              "      <th>final_yn</th>\n",
              "      <th>...</th>\n",
              "      <th>before_goal_diff</th>\n",
              "      <th>before_game_result</th>\n",
              "      <th>before_rank</th>\n",
              "      <th>youtube_count</th>\n",
              "      <th>youtube_mean_view</th>\n",
              "      <th>youtube_mean_like</th>\n",
              "      <th>age_group</th>\n",
              "      <th>region</th>\n",
              "      <th>job</th>\n",
              "      <th>favorite_idx</th>\n",
              "    </tr>\n",
              "  </thead>\n",
              "  <tbody>\n",
              "    <tr>\n",
              "      <th>0</th>\n",
              "      <td>2022-02-26</td>\n",
              "      <td>Exciting석</td>\n",
              "      <td>0</td>\n",
              "      <td>0</td>\n",
              "      <td>없음</td>\n",
              "      <td>1</td>\n",
              "      <td>1</td>\n",
              "      <td>1</td>\n",
              "      <td>0</td>\n",
              "      <td>0</td>\n",
              "      <td>...</td>\n",
              "      <td>1</td>\n",
              "      <td>1.0</td>\n",
              "      <td>2</td>\n",
              "      <td>4</td>\n",
              "      <td>2794</td>\n",
              "      <td>158</td>\n",
              "      <td>20</td>\n",
              "      <td>인천광역시</td>\n",
              "      <td>NaN</td>\n",
              "      <td>아길라르</td>\n",
              "    </tr>\n",
              "    <tr>\n",
              "      <th>1</th>\n",
              "      <td>2022-02-26</td>\n",
              "      <td>Exciting석</td>\n",
              "      <td>0</td>\n",
              "      <td>0</td>\n",
              "      <td>없음</td>\n",
              "      <td>1</td>\n",
              "      <td>1</td>\n",
              "      <td>1</td>\n",
              "      <td>0</td>\n",
              "      <td>0</td>\n",
              "      <td>...</td>\n",
              "      <td>1</td>\n",
              "      <td>1.0</td>\n",
              "      <td>2</td>\n",
              "      <td>4</td>\n",
              "      <td>2794</td>\n",
              "      <td>158</td>\n",
              "      <td>30</td>\n",
              "      <td>인천광역시</td>\n",
              "      <td>무직</td>\n",
              "      <td>아길라르</td>\n",
              "    </tr>\n",
              "    <tr>\n",
              "      <th>2</th>\n",
              "      <td>2022-02-26</td>\n",
              "      <td>Exciting석</td>\n",
              "      <td>0</td>\n",
              "      <td>0</td>\n",
              "      <td>없음</td>\n",
              "      <td>1</td>\n",
              "      <td>1</td>\n",
              "      <td>1</td>\n",
              "      <td>0</td>\n",
              "      <td>0</td>\n",
              "      <td>...</td>\n",
              "      <td>1</td>\n",
              "      <td>1.0</td>\n",
              "      <td>2</td>\n",
              "      <td>4</td>\n",
              "      <td>2794</td>\n",
              "      <td>158</td>\n",
              "      <td>50</td>\n",
              "      <td>인천광역시</td>\n",
              "      <td>서비스업 종사자</td>\n",
              "      <td>이태희</td>\n",
              "    </tr>\n",
              "    <tr>\n",
              "      <th>3</th>\n",
              "      <td>2022-03-05</td>\n",
              "      <td>Exciting석</td>\n",
              "      <td>0</td>\n",
              "      <td>0</td>\n",
              "      <td>없음</td>\n",
              "      <td>1</td>\n",
              "      <td>2</td>\n",
              "      <td>1</td>\n",
              "      <td>1</td>\n",
              "      <td>0</td>\n",
              "      <td>...</td>\n",
              "      <td>0</td>\n",
              "      <td>0.5</td>\n",
              "      <td>4</td>\n",
              "      <td>4</td>\n",
              "      <td>1816</td>\n",
              "      <td>97</td>\n",
              "      <td>30</td>\n",
              "      <td>수도권</td>\n",
              "      <td>회사원(사무직/연구직)</td>\n",
              "      <td>무고사</td>\n",
              "    </tr>\n",
              "    <tr>\n",
              "      <th>4</th>\n",
              "      <td>2022-03-05</td>\n",
              "      <td>Exciting석</td>\n",
              "      <td>0</td>\n",
              "      <td>0</td>\n",
              "      <td>없음</td>\n",
              "      <td>1</td>\n",
              "      <td>3</td>\n",
              "      <td>1</td>\n",
              "      <td>1</td>\n",
              "      <td>0</td>\n",
              "      <td>...</td>\n",
              "      <td>0</td>\n",
              "      <td>0.5</td>\n",
              "      <td>4</td>\n",
              "      <td>4</td>\n",
              "      <td>1816</td>\n",
              "      <td>97</td>\n",
              "      <td>40</td>\n",
              "      <td>인천광역시</td>\n",
              "      <td>공무원</td>\n",
              "      <td>에르난데스</td>\n",
              "    </tr>\n",
              "  </tbody>\n",
              "</table>\n",
              "<p>5 rows × 22 columns</p>\n",
              "</div>\n",
              "      <button class=\"colab-df-convert\" onclick=\"convertToInteractive('df-b04cb022-b25c-4172-b2fe-84f82e8bc0cd')\"\n",
              "              title=\"Convert this dataframe to an interactive table.\"\n",
              "              style=\"display:none;\">\n",
              "        \n",
              "  <svg xmlns=\"http://www.w3.org/2000/svg\" height=\"24px\"viewBox=\"0 0 24 24\"\n",
              "       width=\"24px\">\n",
              "    <path d=\"M0 0h24v24H0V0z\" fill=\"none\"/>\n",
              "    <path d=\"M18.56 5.44l.94 2.06.94-2.06 2.06-.94-2.06-.94-.94-2.06-.94 2.06-2.06.94zm-11 1L8.5 8.5l.94-2.06 2.06-.94-2.06-.94L8.5 2.5l-.94 2.06-2.06.94zm10 10l.94 2.06.94-2.06 2.06-.94-2.06-.94-.94-2.06-.94 2.06-2.06.94z\"/><path d=\"M17.41 7.96l-1.37-1.37c-.4-.4-.92-.59-1.43-.59-.52 0-1.04.2-1.43.59L10.3 9.45l-7.72 7.72c-.78.78-.78 2.05 0 2.83L4 21.41c.39.39.9.59 1.41.59.51 0 1.02-.2 1.41-.59l7.78-7.78 2.81-2.81c.8-.78.8-2.07 0-2.86zM5.41 20L4 18.59l7.72-7.72 1.47 1.35L5.41 20z\"/>\n",
              "  </svg>\n",
              "      </button>\n",
              "      \n",
              "  <style>\n",
              "    .colab-df-container {\n",
              "      display:flex;\n",
              "      flex-wrap:wrap;\n",
              "      gap: 12px;\n",
              "    }\n",
              "\n",
              "    .colab-df-convert {\n",
              "      background-color: #E8F0FE;\n",
              "      border: none;\n",
              "      border-radius: 50%;\n",
              "      cursor: pointer;\n",
              "      display: none;\n",
              "      fill: #1967D2;\n",
              "      height: 32px;\n",
              "      padding: 0 0 0 0;\n",
              "      width: 32px;\n",
              "    }\n",
              "\n",
              "    .colab-df-convert:hover {\n",
              "      background-color: #E2EBFA;\n",
              "      box-shadow: 0px 1px 2px rgba(60, 64, 67, 0.3), 0px 1px 3px 1px rgba(60, 64, 67, 0.15);\n",
              "      fill: #174EA6;\n",
              "    }\n",
              "\n",
              "    [theme=dark] .colab-df-convert {\n",
              "      background-color: #3B4455;\n",
              "      fill: #D2E3FC;\n",
              "    }\n",
              "\n",
              "    [theme=dark] .colab-df-convert:hover {\n",
              "      background-color: #434B5C;\n",
              "      box-shadow: 0px 1px 3px 1px rgba(0, 0, 0, 0.15);\n",
              "      filter: drop-shadow(0px 1px 2px rgba(0, 0, 0, 0.3));\n",
              "      fill: #FFFFFF;\n",
              "    }\n",
              "  </style>\n",
              "\n",
              "      <script>\n",
              "        const buttonEl =\n",
              "          document.querySelector('#df-b04cb022-b25c-4172-b2fe-84f82e8bc0cd button.colab-df-convert');\n",
              "        buttonEl.style.display =\n",
              "          google.colab.kernel.accessAllowed ? 'block' : 'none';\n",
              "\n",
              "        async function convertToInteractive(key) {\n",
              "          const element = document.querySelector('#df-b04cb022-b25c-4172-b2fe-84f82e8bc0cd');\n",
              "          const dataTable =\n",
              "            await google.colab.kernel.invokeFunction('convertToInteractive',\n",
              "                                                     [key], {});\n",
              "          if (!dataTable) return;\n",
              "\n",
              "          const docLinkHtml = 'Like what you see? Visit the ' +\n",
              "            '<a target=\"_blank\" href=https://colab.research.google.com/notebooks/data_table.ipynb>data table notebook</a>'\n",
              "            + ' to learn more about interactive tables.';\n",
              "          element.innerHTML = '';\n",
              "          dataTable['output_type'] = 'display_data';\n",
              "          await google.colab.output.renderOutput(dataTable, element);\n",
              "          const docLink = document.createElement('div');\n",
              "          docLink.innerHTML = docLinkHtml;\n",
              "          element.appendChild(docLink);\n",
              "        }\n",
              "      </script>\n",
              "    </div>\n",
              "  </div>\n",
              "  "
            ]
          },
          "metadata": {},
          "execution_count": 8
        }
      ]
    },
    {
      "cell_type": "code",
      "source": [
        "X.info()"
      ],
      "metadata": {
        "colab": {
          "base_uri": "https://localhost:8080/"
        },
        "id": "Mgxo433vs9xh",
        "outputId": "3ae2f7d5-ddff-4df1-a3d7-767b3b7c2e15"
      },
      "execution_count": 9,
      "outputs": [
        {
          "output_type": "stream",
          "name": "stdout",
          "text": [
            "<class 'pandas.core.frame.DataFrame'>\n",
            "RangeIndex: 17658 entries, 0 to 17657\n",
            "Data columns (total 22 columns):\n",
            " #   Column                  Non-Null Count  Dtype  \n",
            "---  ------                  --------------  -----  \n",
            " 0   date                    17658 non-null  object \n",
            " 1   before_product_grade    17658 non-null  object \n",
            " 2   before_special_seat_yn  17658 non-null  int64  \n",
            " 3   before_discount_yn      17658 non-null  int64  \n",
            " 4   before_discount_way     17658 non-null  object \n",
            " 5   before_first_yn         17658 non-null  int64  \n",
            " 6   before_reserve_count    17658 non-null  int64  \n",
            " 7   weekend_yn              17658 non-null  int64  \n",
            " 8   night_yn                17658 non-null  int64  \n",
            " 9   final_yn                17658 non-null  int64  \n",
            " 10  away_team_name          17658 non-null  object \n",
            " 11  before_home_goal        17658 non-null  int64  \n",
            " 12  before_goal_diff        17658 non-null  int64  \n",
            " 13  before_game_result      17658 non-null  float64\n",
            " 14  before_rank             17658 non-null  int64  \n",
            " 15  youtube_count           17658 non-null  int64  \n",
            " 16  youtube_mean_view       17658 non-null  int64  \n",
            " 17  youtube_mean_like       17658 non-null  int64  \n",
            " 18  age_group               17658 non-null  int64  \n",
            " 19  region                  17629 non-null  object \n",
            " 20  job                     15729 non-null  object \n",
            " 21  favorite_idx            17658 non-null  object \n",
            "dtypes: float64(1), int64(14), object(7)\n",
            "memory usage: 3.0+ MB\n"
          ]
        }
      ]
    },
    {
      "cell_type": "code",
      "source": [
        "X.isna().sum()"
      ],
      "metadata": {
        "colab": {
          "base_uri": "https://localhost:8080/"
        },
        "id": "VxAAGxJcs_L3",
        "outputId": "4224600f-9723-4f66-e3c0-215331677c9a"
      },
      "execution_count": 10,
      "outputs": [
        {
          "output_type": "execute_result",
          "data": {
            "text/plain": [
              "date                         0\n",
              "before_product_grade         0\n",
              "before_special_seat_yn       0\n",
              "before_discount_yn           0\n",
              "before_discount_way          0\n",
              "before_first_yn              0\n",
              "before_reserve_count         0\n",
              "weekend_yn                   0\n",
              "night_yn                     0\n",
              "final_yn                     0\n",
              "away_team_name               0\n",
              "before_home_goal             0\n",
              "before_goal_diff             0\n",
              "before_game_result           0\n",
              "before_rank                  0\n",
              "youtube_count                0\n",
              "youtube_mean_view            0\n",
              "youtube_mean_like            0\n",
              "age_group                    0\n",
              "region                      29\n",
              "job                       1929\n",
              "favorite_idx                 0\n",
              "dtype: int64"
            ]
          },
          "metadata": {},
          "execution_count": 10
        }
      ]
    },
    {
      "cell_type": "code",
      "source": [
        "# region과 job에 결측치가 존재함\n",
        "# region은 인천광역시로 결측치를 일괄적으로 채워주기로 함\n",
        "# job은 age_group과 관련성이 높을 것이므로 age_group별로 가장 많은 비중을 차지하는 job을 할당해주기로 함"
      ],
      "metadata": {
        "id": "vrkxxi37g1EN"
      },
      "execution_count": 11,
      "outputs": []
    },
    {
      "cell_type": "code",
      "source": [
        "X['region'] = X['region'].fillna('인천광역시')"
      ],
      "metadata": {
        "id": "udiVapjgiqMx"
      },
      "execution_count": 12,
      "outputs": []
    },
    {
      "cell_type": "code",
      "source": [
        "for i in X['age_group'].unique():\n",
        "    X.loc[X['age_group'] == i, 'job'] = X.loc[X['age_group'] == i, 'job'].fillna(X[X['age_group'] == i]['job'].value_counts().index[0])"
      ],
      "metadata": {
        "id": "RUUfUG6yhv08"
      },
      "execution_count": 13,
      "outputs": []
    },
    {
      "cell_type": "code",
      "source": [
        "X['date'] = X['date'].str.split('-').str[1].astype(int)\n",
        "X = X.rename(columns={'date':'month'})"
      ],
      "metadata": {
        "id": "0zwhQD5TePgi"
      },
      "execution_count": 14,
      "outputs": []
    },
    {
      "cell_type": "code",
      "source": [
        "encoder = OrdinalEncoder()\n",
        "\n",
        "need_encoding = []\n",
        "for i in X.columns:\n",
        "    if type(X.loc[0, i]) == str:\n",
        "        need_encoding.append(i)\n",
        "\n",
        "encoded = encoder.fit_transform(X[need_encoding])"
      ],
      "metadata": {
        "id": "YTw1MzfF8doE"
      },
      "execution_count": 15,
      "outputs": []
    },
    {
      "cell_type": "code",
      "source": [
        "encoded = encoded.astype(int)"
      ],
      "metadata": {
        "id": "Z5FZpirtzeaF"
      },
      "execution_count": 16,
      "outputs": []
    },
    {
      "cell_type": "code",
      "source": [
        "X_encoded = pd.DataFrame(encoded, columns=need_encoding)"
      ],
      "metadata": {
        "id": "1y44xEHd9gAW"
      },
      "execution_count": 17,
      "outputs": []
    },
    {
      "cell_type": "code",
      "source": [
        "X.loc[:, need_encoding] = X_encoded"
      ],
      "metadata": {
        "id": "Mez7u8AL92nu"
      },
      "execution_count": 18,
      "outputs": []
    },
    {
      "cell_type": "code",
      "source": [
        "X.hist(figsize=(16,12), bins=8)\n",
        "plt.show()"
      ],
      "metadata": {
        "colab": {
          "base_uri": "https://localhost:8080/",
          "height": 0
        },
        "id": "W5iXhnfltExO",
        "outputId": "3b0f22b5-8f93-4fcd-f2f0-f712092485c4"
      },
      "execution_count": 19,
      "outputs": [
        {
          "output_type": "display_data",
          "data": {
            "text/plain": [
              "<Figure size 1152x864 with 25 Axes>"
            ],
            "image/png": "[encoded data removed]"
          },
          "metadata": {
            "needs_background": "light"
          }
        }
      ]
    },
    {
      "cell_type": "code",
      "source": [
        "y.hist()\n",
        "plt.show()"
      ],
      "metadata": {
        "colab": {
          "base_uri": "https://localhost:8080/",
          "height": 0
        },
        "id": "W05p6K9utFgk",
        "outputId": "3ef4c148-6297-465b-c3d0-d59c30431c7d"
      },
      "execution_count": 20,
      "outputs": [
        {
          "output_type": "display_data",
          "data": {
            "text/plain": [
              "<Figure size 432x288 with 1 Axes>"
            ],
            "image/png": "[encoded data removed]"
          },
          "metadata": {
            "needs_background": "light"
          }
        }
      ]
    },
    {
      "cell_type": "code",
      "source": [
        "# 타겟 불균형이 심함 > 오버샘플링 SMOTE"
      ],
      "metadata": {
        "id": "lPjKk4shhIj_"
      },
      "execution_count": 21,
      "outputs": []
    },
    {
      "cell_type": "markdown",
      "source": [
        "# Feature Select"
      ],
      "metadata": {
        "id": "NI6KJUbjL0hy"
      }
    },
    {
      "cell_type": "markdown",
      "source": [
        "## 1. 직전 경기 결과 및 순위"
      ],
      "metadata": {
        "id": "XY5Fw02oOsZe"
      }
    },
    {
      "cell_type": "code",
      "source": [
        "# 일부 피쳐 드랍\n",
        "X1 = X.drop(['before_product_grade', 'before_special_seat_yn',\n",
        "            'before_discount_yn', 'before_discount_way', 'before_first_yn', 'before_reserve_count',\n",
        "            'youtube_count', 'youtube_mean_view', 'youtube_mean_like'], axis=1)"
      ],
      "metadata": {
        "id": "BkY34d9-KAam"
      },
      "execution_count": 22,
      "outputs": []
    },
    {
      "cell_type": "code",
      "source": [
        "X1.columns"
      ],
      "metadata": {
        "colab": {
          "base_uri": "https://localhost:8080/"
        },
        "id": "EwuS7cw0LlNC",
        "outputId": "b0869cb6-b27d-4a51-f780-90985297abac"
      },
      "execution_count": 23,
      "outputs": [
        {
          "output_type": "execute_result",
          "data": {
            "text/plain": [
              "Index(['month', 'weekend_yn', 'night_yn', 'final_yn', 'away_team_name',\n",
              "       'before_home_goal', 'before_goal_diff', 'before_game_result',\n",
              "       'before_rank', 'age_group', 'region', 'job', 'favorite_idx'],\n",
              "      dtype='object')"
            ]
          },
          "metadata": {},
          "execution_count": 23
        }
      ]
    },
    {
      "cell_type": "code",
      "source": [
        "X_train, X_test, y_train, y_test = train_test_split(X1, y, test_size=0.2, random_state=2, stratify=y, shuffle=True)\n",
        "X_train, X_val, y_train, y_val = train_test_split(X_train, y_train, test_size=0.2, random_state=2, stratify=y_train, shuffle=True)"
      ],
      "metadata": {
        "id": "JDgk9AkYFEYh"
      },
      "execution_count": 24,
      "outputs": []
    },
    {
      "cell_type": "code",
      "source": [
        "y_train.shape, y_val.shape, y_test.shape"
      ],
      "metadata": {
        "colab": {
          "base_uri": "https://localhost:8080/"
        },
        "id": "d953B7EXvARi",
        "outputId": "351f0a91-314b-4067-c0b8-f063b42ac561"
      },
      "execution_count": 25,
      "outputs": [
        {
          "output_type": "execute_result",
          "data": {
            "text/plain": [
              "((11300,), (2826,), (3532,))"
            ]
          },
          "metadata": {},
          "execution_count": 25
        }
      ]
    },
    {
      "cell_type": "code",
      "source": [
        "y_train.value_counts()"
      ],
      "metadata": {
        "colab": {
          "base_uri": "https://localhost:8080/"
        },
        "id": "1UhAUPGkvU6q",
        "outputId": "98be2ff3-4238-4e4c-c6cd-a1fdc80a6143"
      },
      "execution_count": 26,
      "outputs": [
        {
          "output_type": "execute_result",
          "data": {
            "text/plain": [
              "0    10914\n",
              "1      386\n",
              "Name: target, dtype: int64"
            ]
          },
          "metadata": {},
          "execution_count": 26
        }
      ]
    },
    {
      "cell_type": "code",
      "source": [
        "# smote = SMOTE(random_state=2)\n",
        "# X_train, y_train = smote.fit_resample(X_train, y_train)"
      ],
      "metadata": {
        "id": "2T2CjHCIljrz"
      },
      "execution_count": 27,
      "outputs": []
    },
    {
      "cell_type": "code",
      "source": [
        "y_train.shape"
      ],
      "metadata": {
        "colab": {
          "base_uri": "https://localhost:8080/"
        },
        "id": "PnFOxr87vGqa",
        "outputId": "bbf6c958-02af-4d72-e4f7-099a3c780a73"
      },
      "execution_count": 28,
      "outputs": [
        {
          "output_type": "execute_result",
          "data": {
            "text/plain": [
              "(11300,)"
            ]
          },
          "metadata": {},
          "execution_count": 28
        }
      ]
    },
    {
      "cell_type": "code",
      "source": [
        "y_train.value_counts()"
      ],
      "metadata": {
        "colab": {
          "base_uri": "https://localhost:8080/"
        },
        "id": "x-giGZTavJcw",
        "outputId": "bd7a582f-44c2-45cc-fc2a-b0c632e4c243"
      },
      "execution_count": 29,
      "outputs": [
        {
          "output_type": "execute_result",
          "data": {
            "text/plain": [
              "0    10914\n",
              "1      386\n",
              "Name: target, dtype: int64"
            ]
          },
          "metadata": {},
          "execution_count": 29
        }
      ]
    },
    {
      "cell_type": "code",
      "source": [
        "score_list1 = []\n",
        "f1_list1 = []"
      ],
      "metadata": {
        "id": "gLLIsCqXMZJP"
      },
      "execution_count": 30,
      "outputs": []
    },
    {
      "cell_type": "code",
      "source": [
        "rfc = RandomForestClassifier(random_state=2)\n",
        "\n",
        "rfc.fit(X_train, y_train)\n",
        "\n",
        "rfc_pred = rfc.predict(X_val)\n",
        "rfc_prob = rfc.predict_proba(X_val)[:,1]\n",
        "\n",
        "score_list1.append(roc_auc_score(y_val, rfc_prob))\n",
        "f1_list1.append(f1_score(y_val, rfc_pred))\n",
        "\n",
        "print('RandomForestClassifier')\n",
        "print('roc_auc_score :', roc_auc_score(y_val, rfc_prob), '\\n')\n",
        "print('classification_report', '\\n', classification_report(y_val, rfc_pred))"
      ],
      "metadata": {
        "colab": {
          "base_uri": "https://localhost:8080/"
        },
        "id": "t-zfeUHwvonZ",
        "outputId": "f64e4639-6f1a-4b6e-d5ea-1f0d317c8560"
      },
      "execution_count": 31,
      "outputs": [
        {
          "output_type": "stream",
          "name": "stdout",
          "text": [
            "RandomForestClassifier\n",
            "roc_auc_score : 0.615345676260705 \n",
            "\n",
            "classification_report \n",
            "               precision    recall  f1-score   support\n",
            "\n",
            "           0       0.97      0.99      0.98      2729\n",
            "           1       0.05      0.01      0.02        97\n",
            "\n",
            "    accuracy                           0.96      2826\n",
            "   macro avg       0.51      0.50      0.50      2826\n",
            "weighted avg       0.93      0.96      0.95      2826\n",
            "\n"
          ]
        }
      ]
    },
    {
      "cell_type": "code",
      "source": [
        "xgc = XGBClassifier(random_state=2)\n",
        "\n",
        "xgc.fit(X_train, y_train)\n",
        "\n",
        "xgc_pred = xgc.predict(X_val)\n",
        "xgc_prob = xgc.predict_proba(X_val)[:,1]\n",
        "\n",
        "score_list1.append(roc_auc_score(y_val, xgc_prob))\n",
        "f1_list1.append(f1_score(y_val, xgc_pred))\n",
        "\n",
        "print('XGBClassifier')\n",
        "print('roc_auc_score :', roc_auc_score(y_val, xgc_prob), '\\n')\n",
        "print('classification_report', '\\n', classification_report(y_val, xgc_pred))"
      ],
      "metadata": {
        "colab": {
          "base_uri": "https://localhost:8080/"
        },
        "id": "JnEX6AMmwCe6",
        "outputId": "e6f3738a-d32e-4b1a-9e16-9589ed2f56d6"
      },
      "execution_count": 32,
      "outputs": [
        {
          "output_type": "stream",
          "name": "stdout",
          "text": [
            "XGBClassifier\n",
            "roc_auc_score : 0.7215909305549784 \n",
            "\n",
            "classification_report \n",
            "               precision    recall  f1-score   support\n",
            "\n",
            "           0       0.97      1.00      0.98      2729\n",
            "           1       0.00      0.00      0.00        97\n",
            "\n",
            "    accuracy                           0.97      2826\n",
            "   macro avg       0.48      0.50      0.49      2826\n",
            "weighted avg       0.93      0.97      0.95      2826\n",
            "\n"
          ]
        },
        {
          "output_type": "stream",
          "name": "stderr",
          "text": [
            "/usr/local/lib/python3.8/dist-packages/sklearn/metrics/_classification.py:1318: UndefinedMetricWarning: Precision and F-score are ill-defined and being set to 0.0 in labels with no predicted samples. Use `zero_division` parameter to control this behavior.\n",
            "  _warn_prf(average, modifier, msg_start, len(result))\n",
            "/usr/local/lib/python3.8/dist-packages/sklearn/metrics/_classification.py:1318: UndefinedMetricWarning: Precision and F-score are ill-defined and being set to 0.0 in labels with no predicted samples. Use `zero_division` parameter to control this behavior.\n",
            "  _warn_prf(average, modifier, msg_start, len(result))\n",
            "/usr/local/lib/python3.8/dist-packages/sklearn/metrics/_classification.py:1318: UndefinedMetricWarning: Precision and F-score are ill-defined and being set to 0.0 in labels with no predicted samples. Use `zero_division` parameter to control this behavior.\n",
            "  _warn_prf(average, modifier, msg_start, len(result))\n"
          ]
        }
      ]
    },
    {
      "cell_type": "code",
      "source": [
        "lgc = LGBMClassifier(random_state=2)\n",
        "\n",
        "lgc.fit(X_train, y_train)\n",
        "\n",
        "lgc_pred = lgc.predict(X_val)\n",
        "lgc_prob = lgc.predict_proba(X_val)[:,1]\n",
        "\n",
        "score_list1.append(roc_auc_score(y_val, lgc_prob))\n",
        "f1_list1.append(f1_score(y_val, lgc_pred))\n",
        "\n",
        "print('LGBMClassifier')\n",
        "print('roc_auc_score :', roc_auc_score(y_val, lgc_prob), '\\n')\n",
        "print('classification_report', '\\n', classification_report(y_val, lgc_pred))"
      ],
      "metadata": {
        "colab": {
          "base_uri": "https://localhost:8080/"
        },
        "id": "hM0z9SyJwM_C",
        "outputId": "a721eaf7-f32a-4819-ca5d-265c63cd66c5"
      },
      "execution_count": 33,
      "outputs": [
        {
          "output_type": "stream",
          "name": "stdout",
          "text": [
            "LGBMClassifier\n",
            "roc_auc_score : 0.7317132139335809 \n",
            "\n",
            "classification_report \n",
            "               precision    recall  f1-score   support\n",
            "\n",
            "           0       0.97      1.00      0.98      2729\n",
            "           1       0.42      0.05      0.09        97\n",
            "\n",
            "    accuracy                           0.96      2826\n",
            "   macro avg       0.69      0.52      0.54      2826\n",
            "weighted avg       0.95      0.96      0.95      2826\n",
            "\n"
          ]
        }
      ]
    },
    {
      "cell_type": "code",
      "source": [
        "print('RandomForestClassifier :', score_list1[0])\n",
        "print('XGBClassifier :', score_list1[1])\n",
        "print('LGBMClassifier :', score_list1[2])"
      ],
      "metadata": {
        "colab": {
          "base_uri": "https://localhost:8080/"
        },
        "id": "WgvPhAAvMpTt",
        "outputId": "05e7eb83-23f7-44d2-c5bc-e096831b75cb"
      },
      "execution_count": 34,
      "outputs": [
        {
          "output_type": "stream",
          "name": "stdout",
          "text": [
            "RandomForestClassifier : 0.615345676260705\n",
            "XGBClassifier : 0.7215909305549784\n",
            "LGBMClassifier : 0.7317132139335809\n"
          ]
        }
      ]
    },
    {
      "cell_type": "code",
      "source": [
        "print('RandomForestClassifier :', f1_list1[0])\n",
        "print('XGBClassifier :', f1_list1[1])\n",
        "print('LGBMClassifier :', f1_list1[2])"
      ],
      "metadata": {
        "colab": {
          "base_uri": "https://localhost:8080/"
        },
        "id": "31UFJNVTSsVP",
        "outputId": "75281913-1f02-4385-a6d6-c6b66da48504"
      },
      "execution_count": 35,
      "outputs": [
        {
          "output_type": "stream",
          "name": "stdout",
          "text": [
            "RandomForestClassifier : 0.017094017094017096\n",
            "XGBClassifier : 0.0\n",
            "LGBMClassifier : 0.09174311926605505\n"
          ]
        }
      ]
    },
    {
      "cell_type": "markdown",
      "source": [
        "## 2. 직전 경기 결과 및 순위 + 유튜브"
      ],
      "metadata": {
        "id": "1c1bIBgcNLif"
      }
    },
    {
      "cell_type": "code",
      "source": [
        "# 일부 피쳐 드랍\n",
        "X2 = X.drop(['before_product_grade', 'before_special_seat_yn',\n",
        "            'before_discount_yn', 'before_discount_way', 'before_first_yn', 'before_reserve_count'], axis=1)"
      ],
      "metadata": {
        "id": "EJZymfIyNLig"
      },
      "execution_count": 36,
      "outputs": []
    },
    {
      "cell_type": "code",
      "source": [
        "X2.columns"
      ],
      "metadata": {
        "colab": {
          "base_uri": "https://localhost:8080/"
        },
        "outputId": "f4894770-0f26-4941-d7c5-c97ed332089c",
        "id": "ycPfTy6XNLig"
      },
      "execution_count": 37,
      "outputs": [
        {
          "output_type": "execute_result",
          "data": {
            "text/plain": [
              "Index(['month', 'weekend_yn', 'night_yn', 'final_yn', 'away_team_name',\n",
              "       'before_home_goal', 'before_goal_diff', 'before_game_result',\n",
              "       'before_rank', 'youtube_count', 'youtube_mean_view',\n",
              "       'youtube_mean_like', 'age_group', 'region', 'job', 'favorite_idx'],\n",
              "      dtype='object')"
            ]
          },
          "metadata": {},
          "execution_count": 37
        }
      ]
    },
    {
      "cell_type": "code",
      "source": [
        "X_train, X_test, y_train, y_test = train_test_split(X2, y, test_size=0.2, random_state=2, stratify=y, shuffle=True)\n",
        "X_train, X_val, y_train, y_val = train_test_split(X_train, y_train, test_size=0.2, random_state=2, stratify=y_train, shuffle=True)"
      ],
      "metadata": {
        "id": "p-DNgA0uNLih"
      },
      "execution_count": 38,
      "outputs": []
    },
    {
      "cell_type": "code",
      "source": [
        "# smote = SMOTE(random_state=2)\n",
        "# X_train, y_train = smote.fit_resample(X_train, y_train)"
      ],
      "metadata": {
        "id": "KnZm5a2QlsVx"
      },
      "execution_count": 39,
      "outputs": []
    },
    {
      "cell_type": "code",
      "source": [
        "score_list2 = []\n",
        "f1_list2 = []"
      ],
      "metadata": {
        "id": "CRPevowDNLih"
      },
      "execution_count": 40,
      "outputs": []
    },
    {
      "cell_type": "code",
      "source": [
        "rfc = RandomForestClassifier(random_state=2)\n",
        "\n",
        "rfc.fit(X_train, y_train)\n",
        "\n",
        "rfc_pred = rfc.predict(X_val)\n",
        "rfc_prob = rfc.predict_proba(X_val)[:,1]\n",
        "\n",
        "score_list2.append(roc_auc_score(y_val, rfc_prob))\n",
        "f1_list2.append(f1_score(y_val, rfc_pred))\n",
        "\n",
        "print('RandomForestClassifier')\n",
        "print('roc_auc_score :', roc_auc_score(y_val, rfc_prob), '\\n')\n",
        "print('classification_report', '\\n', classification_report(y_val, rfc_pred))"
      ],
      "metadata": {
        "colab": {
          "base_uri": "https://localhost:8080/"
        },
        "outputId": "5b35a0ac-4d80-4368-a9e7-7cec1686a96a",
        "id": "XG5TeIIANLii"
      },
      "execution_count": 41,
      "outputs": [
        {
          "output_type": "stream",
          "name": "stdout",
          "text": [
            "RandomForestClassifier\n",
            "roc_auc_score : 0.593990472700623 \n",
            "\n",
            "classification_report \n",
            "               precision    recall  f1-score   support\n",
            "\n",
            "           0       0.97      0.99      0.98      2729\n",
            "           1       0.05      0.01      0.02        97\n",
            "\n",
            "    accuracy                           0.96      2826\n",
            "   macro avg       0.51      0.50      0.50      2826\n",
            "weighted avg       0.93      0.96      0.95      2826\n",
            "\n"
          ]
        }
      ]
    },
    {
      "cell_type": "code",
      "source": [
        "xgc = XGBClassifier(random_state=2)\n",
        "\n",
        "xgc.fit(X_train, y_train)\n",
        "\n",
        "xgc_pred = xgc.predict(X_val)\n",
        "xgc_prob = xgc.predict_proba(X_val)[:,1]\n",
        "\n",
        "score_list2.append(roc_auc_score(y_val, xgc_prob))\n",
        "f1_list2.append(f1_score(y_val, xgc_pred))\n",
        "\n",
        "print('XGBClassifier')\n",
        "print('roc_auc_score :', roc_auc_score(y_val, xgc_prob), '\\n')\n",
        "print('classification_report', '\\n', classification_report(y_val, xgc_pred))"
      ],
      "metadata": {
        "colab": {
          "base_uri": "https://localhost:8080/"
        },
        "outputId": "e149d118-6edc-4eb8-e3ed-c3674ef76812",
        "id": "60JXuf5RNLii"
      },
      "execution_count": 42,
      "outputs": [
        {
          "output_type": "stream",
          "name": "stdout",
          "text": [
            "XGBClassifier\n",
            "roc_auc_score : 0.730071813624567 \n",
            "\n",
            "classification_report \n",
            "               precision    recall  f1-score   support\n",
            "\n",
            "           0       0.97      1.00      0.98      2729\n",
            "           1       0.00      0.00      0.00        97\n",
            "\n",
            "    accuracy                           0.97      2826\n",
            "   macro avg       0.48      0.50      0.49      2826\n",
            "weighted avg       0.93      0.97      0.95      2826\n",
            "\n"
          ]
        },
        {
          "output_type": "stream",
          "name": "stderr",
          "text": [
            "/usr/local/lib/python3.8/dist-packages/sklearn/metrics/_classification.py:1318: UndefinedMetricWarning: Precision and F-score are ill-defined and being set to 0.0 in labels with no predicted samples. Use `zero_division` parameter to control this behavior.\n",
            "  _warn_prf(average, modifier, msg_start, len(result))\n",
            "/usr/local/lib/python3.8/dist-packages/sklearn/metrics/_classification.py:1318: UndefinedMetricWarning: Precision and F-score are ill-defined and being set to 0.0 in labels with no predicted samples. Use `zero_division` parameter to control this behavior.\n",
            "  _warn_prf(average, modifier, msg_start, len(result))\n",
            "/usr/local/lib/python3.8/dist-packages/sklearn/metrics/_classification.py:1318: UndefinedMetricWarning: Precision and F-score are ill-defined and being set to 0.0 in labels with no predicted samples. Use `zero_division` parameter to control this behavior.\n",
            "  _warn_prf(average, modifier, msg_start, len(result))\n"
          ]
        }
      ]
    },
    {
      "cell_type": "code",
      "source": [
        "lgc = LGBMClassifier(random_state=2)\n",
        "\n",
        "lgc.fit(X_train, y_train)\n",
        "\n",
        "lgc_pred = lgc.predict(X_val)\n",
        "lgc_prob = lgc.predict_proba(X_val)[:,1]\n",
        "\n",
        "score_list2.append(roc_auc_score(y_val, lgc_prob))\n",
        "f1_list2.append(f1_score(y_val, lgc_pred))\n",
        "\n",
        "print('LGBMClassifier')\n",
        "print('roc_auc_score :', roc_auc_score(y_val, lgc_prob), '\\n')\n",
        "print('classification_report', '\\n', classification_report(y_val, lgc_pred))"
      ],
      "metadata": {
        "colab": {
          "base_uri": "https://localhost:8080/"
        },
        "outputId": "27157454-c71a-4ee2-a0eb-9a9739157583",
        "id": "Zqo5STBQNLii"
      },
      "execution_count": 43,
      "outputs": [
        {
          "output_type": "stream",
          "name": "stdout",
          "text": [
            "LGBMClassifier\n",
            "roc_auc_score : 0.7019942352661185 \n",
            "\n",
            "classification_report \n",
            "               precision    recall  f1-score   support\n",
            "\n",
            "           0       0.97      1.00      0.98      2729\n",
            "           1       0.80      0.04      0.08        97\n",
            "\n",
            "    accuracy                           0.97      2826\n",
            "   macro avg       0.88      0.52      0.53      2826\n",
            "weighted avg       0.96      0.97      0.95      2826\n",
            "\n"
          ]
        }
      ]
    },
    {
      "cell_type": "code",
      "source": [
        "print('RandomForestClassifier :', score_list2[0])\n",
        "print('XGBClassifier :', score_list2[1])\n",
        "print('LGBMClassifier :', score_list2[2])"
      ],
      "metadata": {
        "colab": {
          "base_uri": "https://localhost:8080/"
        },
        "outputId": "fe27e958-671f-4531-922e-2c0b333c9d9c",
        "id": "kgr7L-2ZNLii"
      },
      "execution_count": 44,
      "outputs": [
        {
          "output_type": "stream",
          "name": "stdout",
          "text": [
            "RandomForestClassifier : 0.593990472700623\n",
            "XGBClassifier : 0.730071813624567\n",
            "LGBMClassifier : 0.7019942352661185\n"
          ]
        }
      ]
    },
    {
      "cell_type": "code",
      "source": [
        "print('RandomForestClassifier :', f1_list2[0])\n",
        "print('XGBClassifier :', f1_list2[1])\n",
        "print('LGBMClassifier :', f1_list2[2])"
      ],
      "metadata": {
        "colab": {
          "base_uri": "https://localhost:8080/"
        },
        "id": "x1WMwSWwSqug",
        "outputId": "587a8c75-a1ef-4af0-cd51-482bce399de7"
      },
      "execution_count": 45,
      "outputs": [
        {
          "output_type": "stream",
          "name": "stdout",
          "text": [
            "RandomForestClassifier : 0.017241379310344827\n",
            "XGBClassifier : 0.0\n",
            "LGBMClassifier : 0.0784313725490196\n"
          ]
        }
      ]
    },
    {
      "cell_type": "markdown",
      "source": [
        "## 3. 직전 경기 결과 및 순위 + 직전 예매 특성"
      ],
      "metadata": {
        "id": "VHXmhrbvM3Rh"
      }
    },
    {
      "cell_type": "code",
      "source": [
        "# 일부 피쳐 드랍\n",
        "X3 = X.drop(['youtube_count', 'youtube_mean_view', 'youtube_mean_like'], axis=1)"
      ],
      "metadata": {
        "id": "k0GZ-5FzM3Rh"
      },
      "execution_count": 46,
      "outputs": []
    },
    {
      "cell_type": "code",
      "source": [
        "X3.columns"
      ],
      "metadata": {
        "colab": {
          "base_uri": "https://localhost:8080/"
        },
        "outputId": "92547cb3-55e0-4957-e5da-ae9ab97aaa19",
        "id": "ICcHUqolM3Rh"
      },
      "execution_count": 47,
      "outputs": [
        {
          "output_type": "execute_result",
          "data": {
            "text/plain": [
              "Index(['month', 'before_product_grade', 'before_special_seat_yn',\n",
              "       'before_discount_yn', 'before_discount_way', 'before_first_yn',\n",
              "       'before_reserve_count', 'weekend_yn', 'night_yn', 'final_yn',\n",
              "       'away_team_name', 'before_home_goal', 'before_goal_diff',\n",
              "       'before_game_result', 'before_rank', 'age_group', 'region', 'job',\n",
              "       'favorite_idx'],\n",
              "      dtype='object')"
            ]
          },
          "metadata": {},
          "execution_count": 47
        }
      ]
    },
    {
      "cell_type": "code",
      "source": [
        "X_train, X_test, y_train, y_test = train_test_split(X3, y, test_size=0.2, random_state=2, stratify=y, shuffle=True)\n",
        "X_train, X_val, y_train, y_val = train_test_split(X_train, y_train, test_size=0.2, random_state=2, stratify=y_train, shuffle=True)"
      ],
      "metadata": {
        "id": "HWlFSEqeM3Ri"
      },
      "execution_count": 48,
      "outputs": []
    },
    {
      "cell_type": "code",
      "source": [
        "# smote = SMOTE(random_state=2)\n",
        "# X_train, y_train = smote.fit_resample(X_train, y_train)"
      ],
      "metadata": {
        "id": "2gB6s9ncl8LV"
      },
      "execution_count": 49,
      "outputs": []
    },
    {
      "cell_type": "code",
      "source": [
        "score_list3 = []\n",
        "f1_list3 = []"
      ],
      "metadata": {
        "id": "tZ4Jwc4XM3Rj"
      },
      "execution_count": 50,
      "outputs": []
    },
    {
      "cell_type": "code",
      "source": [
        "rfc = RandomForestClassifier(random_state=2)\n",
        "\n",
        "rfc.fit(X_train, y_train)\n",
        "\n",
        "rfc_pred = rfc.predict(X_val)\n",
        "rfc_prob = rfc.predict_proba(X_val)[:,1]\n",
        "\n",
        "score_list3.append(roc_auc_score(y_val, rfc_prob))\n",
        "f1_list3.append(f1_score(y_val, rfc_pred))\n",
        "\n",
        "print('RandomForestClassifier')\n",
        "print('roc_auc_score :', roc_auc_score(y_val, rfc_prob), '\\n')\n",
        "print('classification_report', '\\n', classification_report(y_val, rfc_pred))"
      ],
      "metadata": {
        "colab": {
          "base_uri": "https://localhost:8080/"
        },
        "outputId": "2e868e6f-4013-4419-c812-28bcbf7635de",
        "id": "cEjWq1EEM3Rj"
      },
      "execution_count": 51,
      "outputs": [
        {
          "output_type": "stream",
          "name": "stdout",
          "text": [
            "RandomForestClassifier\n",
            "roc_auc_score : 0.7835353760487772 \n",
            "\n",
            "classification_report \n",
            "               precision    recall  f1-score   support\n",
            "\n",
            "           0       0.97      0.99      0.98      2729\n",
            "           1       0.45      0.19      0.26        97\n",
            "\n",
            "    accuracy                           0.96      2826\n",
            "   macro avg       0.71      0.59      0.62      2826\n",
            "weighted avg       0.95      0.96      0.96      2826\n",
            "\n"
          ]
        }
      ]
    },
    {
      "cell_type": "code",
      "source": [
        "xgc = XGBClassifier(random_state=2)\n",
        "\n",
        "xgc.fit(X_train, y_train)\n",
        "\n",
        "xgc_pred = xgc.predict(X_val)\n",
        "xgc_prob = xgc.predict_proba(X_val)[:,1]\n",
        "\n",
        "score_list3.append(roc_auc_score(y_val, xgc_prob))\n",
        "f1_list3.append(f1_score(y_val, xgc_pred))\n",
        "\n",
        "print('XGBClassifier')\n",
        "print('roc_auc_score :', roc_auc_score(y_val, xgc_prob), '\\n')\n",
        "print('classification_report', '\\n', classification_report(y_val, xgc_pred))"
      ],
      "metadata": {
        "colab": {
          "base_uri": "https://localhost:8080/"
        },
        "outputId": "b227f306-671a-457d-ae99-e7f262319b2e",
        "id": "mdEyftZ-M3Rj"
      },
      "execution_count": 52,
      "outputs": [
        {
          "output_type": "stream",
          "name": "stdout",
          "text": [
            "XGBClassifier\n",
            "roc_auc_score : 0.823457858133148 \n",
            "\n",
            "classification_report \n",
            "               precision    recall  f1-score   support\n",
            "\n",
            "           0       0.97      1.00      0.98      2729\n",
            "           1       0.82      0.14      0.25        97\n",
            "\n",
            "    accuracy                           0.97      2826\n",
            "   macro avg       0.90      0.57      0.62      2826\n",
            "weighted avg       0.97      0.97      0.96      2826\n",
            "\n"
          ]
        }
      ]
    },
    {
      "cell_type": "code",
      "source": [
        "lgc = LGBMClassifier(random_state=2)\n",
        "\n",
        "lgc.fit(X_train, y_train)\n",
        "\n",
        "lgc_pred = lgc.predict(X_val)\n",
        "lgc_prob = lgc.predict_proba(X_val)[:,1]\n",
        "\n",
        "score_list3.append(roc_auc_score(y_val, lgc_prob))\n",
        "f1_list3.append(f1_score(y_val, lgc_pred))\n",
        "\n",
        "print('LGBMClassifier')\n",
        "print('roc_auc_score :', roc_auc_score(y_val, lgc_prob), '\\n')\n",
        "print('classification_report', '\\n', classification_report(y_val, lgc_pred))"
      ],
      "metadata": {
        "colab": {
          "base_uri": "https://localhost:8080/"
        },
        "outputId": "01abcc48-7f75-42eb-ad90-8d6728b4f5f3",
        "id": "qZZp2bUdM3Rj"
      },
      "execution_count": 53,
      "outputs": [
        {
          "output_type": "stream",
          "name": "stdout",
          "text": [
            "LGBMClassifier\n",
            "roc_auc_score : 0.8137681186794754 \n",
            "\n",
            "classification_report \n",
            "               precision    recall  f1-score   support\n",
            "\n",
            "           0       0.97      0.99      0.98      2729\n",
            "           1       0.57      0.26      0.35        97\n",
            "\n",
            "    accuracy                           0.97      2826\n",
            "   macro avg       0.77      0.63      0.67      2826\n",
            "weighted avg       0.96      0.97      0.96      2826\n",
            "\n"
          ]
        }
      ]
    },
    {
      "cell_type": "code",
      "source": [
        "print('RandomForestClassifier :', score_list3[0])\n",
        "print('XGBClassifier :', score_list3[1])\n",
        "print('LGBMClassifier :', score_list3[2])"
      ],
      "metadata": {
        "colab": {
          "base_uri": "https://localhost:8080/"
        },
        "outputId": "9dc09172-8ac1-4d3f-e007-cd9bcec7d69f",
        "id": "eW7blWaqM3Rj"
      },
      "execution_count": 54,
      "outputs": [
        {
          "output_type": "stream",
          "name": "stdout",
          "text": [
            "RandomForestClassifier : 0.7835353760487772\n",
            "XGBClassifier : 0.823457858133148\n",
            "LGBMClassifier : 0.8137681186794754\n"
          ]
        }
      ]
    },
    {
      "cell_type": "code",
      "source": [
        "print('RandomForestClassifier :', f1_list3[0])\n",
        "print('XGBClassifier :', f1_list3[1])\n",
        "print('LGBMClassifier :', f1_list3[2])"
      ],
      "metadata": {
        "colab": {
          "base_uri": "https://localhost:8080/"
        },
        "id": "uPmRi7TZSoaB",
        "outputId": "3729b2b9-fac3-4c84-cb8d-6bb5ed3fc464"
      },
      "execution_count": 55,
      "outputs": [
        {
          "output_type": "stream",
          "name": "stdout",
          "text": [
            "RandomForestClassifier : 0.2627737226277373\n",
            "XGBClassifier : 0.24561403508771928\n",
            "LGBMClassifier : 0.35460992907801414\n"
          ]
        }
      ]
    },
    {
      "cell_type": "markdown",
      "source": [
        "## 4. 직전 경기 결과 및 순위 + 직전 예매 특성 + 유튜브"
      ],
      "metadata": {
        "id": "DSvITrrJNOjY"
      }
    },
    {
      "cell_type": "code",
      "source": [
        "X4 = X.copy()"
      ],
      "metadata": {
        "id": "gYjVHKT7mH-j"
      },
      "execution_count": 56,
      "outputs": []
    },
    {
      "cell_type": "code",
      "source": [
        "X4.columns"
      ],
      "metadata": {
        "colab": {
          "base_uri": "https://localhost:8080/"
        },
        "id": "Go3jHXerFXaC",
        "outputId": "5dc943da-a1e4-4cb2-b8fd-caddbfd41111"
      },
      "execution_count": 57,
      "outputs": [
        {
          "output_type": "execute_result",
          "data": {
            "text/plain": [
              "Index(['month', 'before_product_grade', 'before_special_seat_yn',\n",
              "       'before_discount_yn', 'before_discount_way', 'before_first_yn',\n",
              "       'before_reserve_count', 'weekend_yn', 'night_yn', 'final_yn',\n",
              "       'away_team_name', 'before_home_goal', 'before_goal_diff',\n",
              "       'before_game_result', 'before_rank', 'youtube_count',\n",
              "       'youtube_mean_view', 'youtube_mean_like', 'age_group', 'region', 'job',\n",
              "       'favorite_idx'],\n",
              "      dtype='object')"
            ]
          },
          "metadata": {},
          "execution_count": 57
        }
      ]
    },
    {
      "cell_type": "code",
      "source": [
        "X_train, X_test, y_train, y_test = train_test_split(X4, y, test_size=0.2, random_state=2, stratify=y, shuffle=True)\n",
        "X_train, X_val, y_train, y_val = train_test_split(X_train, y_train, test_size=0.2, random_state=2, stratify=y_train, shuffle=True)"
      ],
      "metadata": {
        "id": "RRbVws6fNOja"
      },
      "execution_count": 58,
      "outputs": []
    },
    {
      "cell_type": "code",
      "source": [
        "# smote = SMOTE(random_state=2)\n",
        "# X_train, y_train = smote.fit_resample(X_train, y_train)"
      ],
      "metadata": {
        "id": "rqkkkxJrzTbe"
      },
      "execution_count": 59,
      "outputs": []
    },
    {
      "cell_type": "code",
      "source": [
        "score_list4 = []\n",
        "f1_list4 = []"
      ],
      "metadata": {
        "id": "sv4eprCFNOja"
      },
      "execution_count": 60,
      "outputs": []
    },
    {
      "cell_type": "code",
      "source": [
        "rfc = RandomForestClassifier(random_state=2)\n",
        "\n",
        "rfc.fit(X_train, y_train)\n",
        "\n",
        "rfc_pred = rfc.predict(X_val)\n",
        "rfc_prob = rfc.predict_proba(X_val)[:,1]\n",
        "\n",
        "score_list4.append(roc_auc_score(y_val, rfc_prob))\n",
        "f1_list4.append(f1_score(y_val, rfc_pred))\n",
        "\n",
        "print('RandomForestClassifier')\n",
        "print('roc_auc_score :', roc_auc_score(y_val, rfc_prob), '\\n')\n",
        "print('classification_report', '\\n', classification_report(y_val, rfc_pred))"
      ],
      "metadata": {
        "colab": {
          "base_uri": "https://localhost:8080/"
        },
        "outputId": "bac6d6ef-39a6-47c5-9198-7862573c1250",
        "id": "gA6mxp3sNOjb"
      },
      "execution_count": 61,
      "outputs": [
        {
          "output_type": "stream",
          "name": "stdout",
          "text": [
            "RandomForestClassifier\n",
            "roc_auc_score : 0.7896382119503009 \n",
            "\n",
            "classification_report \n",
            "               precision    recall  f1-score   support\n",
            "\n",
            "           0       0.97      0.99      0.98      2729\n",
            "           1       0.46      0.18      0.25        97\n",
            "\n",
            "    accuracy                           0.96      2826\n",
            "   macro avg       0.72      0.58      0.62      2826\n",
            "weighted avg       0.95      0.96      0.96      2826\n",
            "\n"
          ]
        }
      ]
    },
    {
      "cell_type": "code",
      "source": [
        "xgc = XGBClassifier(random_state=2)\n",
        "\n",
        "xgc.fit(X_train, y_train)\n",
        "\n",
        "xgc_pred = xgc.predict(X_val)\n",
        "xgc_prob = xgc.predict_proba(X_val)[:,1]\n",
        "\n",
        "score_list4.append(roc_auc_score(y_val, xgc_prob))\n",
        "f1_list4.append(f1_score(y_val, xgc_pred))\n",
        "\n",
        "print('XGBClassifier')\n",
        "print('roc_auc_score :', roc_auc_score(y_val, xgc_prob), '\\n')\n",
        "print('classification_report', '\\n', classification_report(y_val, xgc_pred))"
      ],
      "metadata": {
        "colab": {
          "base_uri": "https://localhost:8080/"
        },
        "outputId": "2c3295cb-b7e4-48e4-9752-aa26f97b4949",
        "id": "-q_dO7LVNOjb"
      },
      "execution_count": 62,
      "outputs": [
        {
          "output_type": "stream",
          "name": "stdout",
          "text": [
            "XGBClassifier\n",
            "roc_auc_score : 0.8288958230234253 \n",
            "\n",
            "classification_report \n",
            "               precision    recall  f1-score   support\n",
            "\n",
            "           0       0.97      1.00      0.98      2729\n",
            "           1       0.85      0.11      0.20        97\n",
            "\n",
            "    accuracy                           0.97      2826\n",
            "   macro avg       0.91      0.56      0.59      2826\n",
            "weighted avg       0.97      0.97      0.96      2826\n",
            "\n"
          ]
        }
      ]
    },
    {
      "cell_type": "code",
      "source": [
        "lgc = LGBMClassifier(random_state=2)\n",
        "\n",
        "lgc.fit(X_train, y_train)\n",
        "\n",
        "lgc_pred = lgc.predict(X_val)\n",
        "lgc_prob = lgc.predict_proba(X_val)[:,1]\n",
        "\n",
        "score_list4.append(roc_auc_score(y_val, lgc_prob))\n",
        "f1_list4.append(f1_score(y_val, lgc_pred))\n",
        "\n",
        "print('LGBMClassifier')\n",
        "print('roc_auc_score :', roc_auc_score(y_val, lgc_prob), '\\n')\n",
        "print('classification_report', '\\n', classification_report(y_val, lgc_pred))"
      ],
      "metadata": {
        "colab": {
          "base_uri": "https://localhost:8080/"
        },
        "outputId": "5798dbe1-f1ff-4a21-e901-2016e2b6283b",
        "id": "hSDP8Ib0NOjb"
      },
      "execution_count": 63,
      "outputs": [
        {
          "output_type": "stream",
          "name": "stdout",
          "text": [
            "LGBMClassifier\n",
            "roc_auc_score : 0.8127821451912072 \n",
            "\n",
            "classification_report \n",
            "               precision    recall  f1-score   support\n",
            "\n",
            "           0       0.97      0.99      0.98      2729\n",
            "           1       0.53      0.25      0.34        97\n",
            "\n",
            "    accuracy                           0.97      2826\n",
            "   macro avg       0.75      0.62      0.66      2826\n",
            "weighted avg       0.96      0.97      0.96      2826\n",
            "\n"
          ]
        }
      ]
    },
    {
      "cell_type": "code",
      "source": [
        "print('RandomForestClassifier :', score_list4[0])\n",
        "print('XGBClassifier :', score_list4[1])\n",
        "print('LGBMClassifier :', score_list4[2])"
      ],
      "metadata": {
        "colab": {
          "base_uri": "https://localhost:8080/"
        },
        "outputId": "423e1263-d416-4ad7-ab78-da565f2b5b20",
        "id": "mBP8qe_XNOjb"
      },
      "execution_count": 64,
      "outputs": [
        {
          "output_type": "stream",
          "name": "stdout",
          "text": [
            "RandomForestClassifier : 0.7896382119503009\n",
            "XGBClassifier : 0.8288958230234253\n",
            "LGBMClassifier : 0.8127821451912072\n"
          ]
        }
      ]
    },
    {
      "cell_type": "code",
      "source": [
        "print('RandomForestClassifier :', f1_list4[0])\n",
        "print('XGBClassifier :', f1_list4[1])\n",
        "print('LGBMClassifier :', f1_list4[2])"
      ],
      "metadata": {
        "colab": {
          "base_uri": "https://localhost:8080/"
        },
        "id": "bWQ_iWRKSl7V",
        "outputId": "5f31ee08-5304-46b5-8206-5260b9dd8746"
      },
      "execution_count": 65,
      "outputs": [
        {
          "output_type": "stream",
          "name": "stdout",
          "text": [
            "RandomForestClassifier : 0.2537313432835821\n",
            "XGBClassifier : 0.19999999999999998\n",
            "LGBMClassifier : 0.3380281690140845\n"
          ]
        }
      ]
    },
    {
      "cell_type": "markdown",
      "source": [
        "## 스코어 비교"
      ],
      "metadata": {
        "id": "ZP2lMl4kO9Ni"
      }
    },
    {
      "cell_type": "code",
      "source": [
        "print(sum(score_list1)/3)\n",
        "print(sum(score_list2)/3)\n",
        "print(sum(score_list3)/3)\n",
        "print(sum(score_list4)/3)"
      ],
      "metadata": {
        "colab": {
          "base_uri": "https://localhost:8080/"
        },
        "id": "y7qX6lfVOUeS",
        "outputId": "d22445bc-984c-421f-d500-5a9d344bf127"
      },
      "execution_count": 66,
      "outputs": [
        {
          "output_type": "stream",
          "name": "stdout",
          "text": [
            "0.6895499402497548\n",
            "0.6753521738637694\n",
            "0.8069204509538\n",
            "0.8104387267216445\n"
          ]
        }
      ]
    },
    {
      "cell_type": "code",
      "source": [
        "print(score_list1)\n",
        "print(score_list2)\n",
        "print(score_list3)\n",
        "print(score_list4)"
      ],
      "metadata": {
        "colab": {
          "base_uri": "https://localhost:8080/"
        },
        "id": "lrZMJR9BOKB3",
        "outputId": "fb031021-f346-4d9b-ee7a-8196c84739ce"
      },
      "execution_count": 67,
      "outputs": [
        {
          "output_type": "stream",
          "name": "stdout",
          "text": [
            "[0.615345676260705, 0.7215909305549784, 0.7317132139335809]\n",
            "[0.593990472700623, 0.730071813624567, 0.7019942352661185]\n",
            "[0.7835353760487772, 0.823457858133148, 0.8137681186794754]\n",
            "[0.7896382119503009, 0.8288958230234253, 0.8127821451912072]\n"
          ]
        }
      ]
    },
    {
      "cell_type": "code",
      "source": [
        "print(sum(f1_list1)/3)\n",
        "print(sum(f1_list2)/3)\n",
        "print(sum(f1_list3)/3)\n",
        "print(sum(f1_list4)/3)"
      ],
      "metadata": {
        "colab": {
          "base_uri": "https://localhost:8080/"
        },
        "id": "Pj_84VQmTUE6",
        "outputId": "1f78601d-ec3a-45d9-a66f-eeebe20091f7"
      },
      "execution_count": 68,
      "outputs": [
        {
          "output_type": "stream",
          "name": "stdout",
          "text": [
            "0.03627904545335738\n",
            "0.031890917286454816\n",
            "0.2876658955978236\n",
            "0.26391983743255554\n"
          ]
        }
      ]
    },
    {
      "cell_type": "code",
      "source": [
        "print(f1_list1)\n",
        "print(f1_list2)\n",
        "print(f1_list3)\n",
        "print(f1_list4)"
      ],
      "metadata": {
        "colab": {
          "base_uri": "https://localhost:8080/"
        },
        "id": "5GXWARW4TWaE",
        "outputId": "2af378b6-332e-4235-c790-7d5eb5b05207"
      },
      "execution_count": 69,
      "outputs": [
        {
          "output_type": "stream",
          "name": "stdout",
          "text": [
            "[0.017094017094017096, 0.0, 0.09174311926605505]\n",
            "[0.017241379310344827, 0.0, 0.0784313725490196]\n",
            "[0.2627737226277373, 0.24561403508771928, 0.35460992907801414]\n",
            "[0.2537313432835821, 0.19999999999999998, 0.3380281690140845]\n"
          ]
        }
      ]
    },
    {
      "cell_type": "code",
      "source": [
        "# 기본 데이터에 경기 결과 및 순위 + 직전 예매 특성을 추가했을 때때, xgboost의 점수가 가장 높다."
      ],
      "metadata": {
        "id": "v-jDSgKFwa4U"
      },
      "execution_count": 70,
      "outputs": []
    },
    {
      "cell_type": "markdown",
      "source": [
        "# Hyper Parameter Tuning"
      ],
      "metadata": {
        "id": "40GQ0npLwzkX"
      }
    },
    {
      "cell_type": "code",
      "source": [
        "X_train, X_test, y_train, y_test = train_test_split(X3, y, test_size=0.2, random_state=2, stratify=y, shuffle=True)\n",
        "X_train, X_val, y_train, y_val = train_test_split(X_train, y_train, test_size=0.2, random_state=2, stratify=y_train, shuffle=True)"
      ],
      "metadata": {
        "id": "F90EllejVinr"
      },
      "execution_count": 71,
      "outputs": []
    },
    {
      "cell_type": "code",
      "source": [
        "# smote = SMOTE(random_state=2)\n",
        "# X_train, y_train = smote.fit_resample(X_train, y_train)"
      ],
      "metadata": {
        "id": "5tZ5Go4LxGIv"
      },
      "execution_count": 72,
      "outputs": []
    },
    {
      "cell_type": "code",
      "source": [
        "def objective(trial):\n",
        "  param = {\n",
        "      \"random_state\" : 2,\n",
        "      \"objective\" : \"binary\",\n",
        "      \"eval_metric\" : \"auc\",\n",
        "      \"learning_rate\" : trial.suggest_float(\"learning_rate\", 0.01, 0.3),\n",
        "      \"n_estimators\":trial.suggest_int(\"n_estimators\", 100, 2000),\n",
        "      \"max_depth\":trial.suggest_int(\"max_depth\", 4, 10),\n",
        "      \"colsample_bytree\": trial.suggest_float(\"colsample_bytree\", 0.4, 1.0),\n",
        "      \"scale_pos_weight\": trial.suggest_float(\"scale_pos_weight\", 1.0, 8.0),\n",
        "      \"reg_lambda\": trial.suggest_float(\"reg_lambda\", 1e-2, 1),\n",
        "      \"reg_alpha\": trial.suggest_float(\"reg_alpha\", 1e-2, 1),\n",
        "      'subsample': trial.suggest_float('subsample', 0.5, 1.0),\n",
        "  }\n",
        "\n",
        "  lgc = LGBMClassifier(**param)\n",
        "  lgc.fit(X_train, y_train,\n",
        "          eval_set=[(X_train, y_train), (X_val,y_val)],\n",
        "          early_stopping_rounds=100,\n",
        "          verbose=100)\n",
        "  lgc_prob = lgc.predict_proba(X_val)[:,1]\n",
        "  roc_auc = roc_auc_score(y_val, lgc_prob)\n",
        "  lgc_pred = lgc.predict(X_val)\n",
        "  f1 = f1_score(y_val, lgc_pred)\n",
        "\n",
        "  return f1\n",
        "\n",
        "sampler = TPESampler(seed=42)\n",
        "study = optuna.create_study(\n",
        "    study_name = 'lgc_parameter_opt',\n",
        "    direction = 'maximize',\n",
        "    sampler = sampler,\n",
        ")\n",
        "study.optimize(objective, n_trials=30)\n",
        "print(\"Best Score:\",study.best_value)\n",
        "print(\"Best trial\",study.best_trial.params)"
      ],
      "metadata": {
        "colab": {
          "base_uri": "https://localhost:8080/"
        },
        "id": "7DA-ahoBCIAo",
        "outputId": "9fd4dfdc-7e8d-4bce-efa7-632ed0a2fabd"
      },
      "execution_count": 73,
      "outputs": [
        {
          "output_type": "stream",
          "name": "stderr",
          "text": [
            "\u001b[32m[I 2023-02-14 20:22:09,094]\u001b[0m A new study created in memory with name: lgc_parameter_opt\u001b[0m\n"
          ]
        },
        {
          "output_type": "stream",
          "name": "stdout",
          "text": [
            "Training until validation scores don't improve for 100 rounds.\n"
          ]
        },
        {
          "output_type": "stream",
          "name": "stderr",
          "text": [
            "\u001b[32m[I 2023-02-14 20:22:09,872]\u001b[0m Trial 0 finished with value: 0.26562499999999994 and parameters: {'learning_rate': 0.11861663446573512, 'n_estimators': 1907, 'max_depth': 9, 'colsample_bytree': 0.759195090518222, 'scale_pos_weight': 2.0921304830970557, 'reg_lambda': 0.16443457513284063, 'reg_alpha': 0.06750277604651747, 'subsample': 0.9330880728874675}. Best is trial 0 with value: 0.26562499999999994.\u001b[0m\n"
          ]
        },
        {
          "output_type": "stream",
          "name": "stdout",
          "text": [
            "[100]\ttraining's binary_logloss: 0.055844\tvalid_1's binary_logloss: 0.126029\n",
            "Early stopping, best iteration is:\n",
            "[9]\ttraining's binary_logloss: 0.102179\tvalid_1's binary_logloss: 0.118572\n",
            "Training until validation scores don't improve for 100 rounds.\n"
          ]
        },
        {
          "output_type": "stream",
          "name": "stderr",
          "text": [
            "\u001b[32m[I 2023-02-14 20:22:10,351]\u001b[0m Trial 1 finished with value: 0.36866359447004604 and parameters: {'learning_rate': 0.18432335340553055, 'n_estimators': 1446, 'max_depth': 4, 'colsample_bytree': 0.9819459112971965, 'scale_pos_weight': 6.827098485602952, 'reg_lambda': 0.2202157195714934, 'reg_alpha': 0.19000671753502962, 'subsample': 0.5917022549267169}. Best is trial 1 with value: 0.36866359447004604.\u001b[0m\n"
          ]
        },
        {
          "output_type": "stream",
          "name": "stdout",
          "text": [
            "[100]\ttraining's binary_logloss: 0.129587\tvalid_1's binary_logloss: 0.179896\n",
            "Early stopping, best iteration is:\n",
            "[1]\ttraining's binary_logloss: 0.147038\tvalid_1's binary_logloss: 0.149198\n",
            "Training until validation scores don't improve for 100 rounds.\n"
          ]
        },
        {
          "output_type": "stream",
          "name": "stderr",
          "text": [
            "\u001b[32m[I 2023-02-14 20:22:10,936]\u001b[0m Trial 2 finished with value: 0.0 and parameters: {'learning_rate': 0.09823025045826593, 'n_estimators': 1097, 'max_depth': 7, 'colsample_bytree': 0.5747374841188252, 'scale_pos_weight': 5.282970263056656, 'reg_lambda': 0.14809892204552141, 'reg_alpha': 0.29922320204986597, 'subsample': 0.6831809216468459}. Best is trial 1 with value: 0.36866359447004604.\u001b[0m\n"
          ]
        },
        {
          "output_type": "stream",
          "name": "stdout",
          "text": [
            "[100]\ttraining's binary_logloss: 0.0942871\tvalid_1's binary_logloss: 0.153247\n",
            "Early stopping, best iteration is:\n",
            "[2]\ttraining's binary_logloss: 0.122715\tvalid_1's binary_logloss: 0.129177\n",
            "Training until validation scores don't improve for 100 rounds.\n"
          ]
        },
        {
          "output_type": "stream",
          "name": "stderr",
          "text": [
            "\u001b[32m[I 2023-02-14 20:22:11,478]\u001b[0m Trial 3 finished with value: 0.07476635514018691 and parameters: {'learning_rate': 0.1422602954229404, 'n_estimators': 1592, 'max_depth': 5, 'colsample_bytree': 0.708540663048167, 'scale_pos_weight': 5.146901982034297, 'reg_lambda': 0.05598590859279775, 'reg_alpha': 0.611469403382424, 'subsample': 0.5852620618436457}. Best is trial 1 with value: 0.36866359447004604.\u001b[0m\n"
          ]
        },
        {
          "output_type": "stream",
          "name": "stdout",
          "text": [
            "[100]\ttraining's binary_logloss: 0.100156\tvalid_1's binary_logloss: 0.15857\n",
            "Early stopping, best iteration is:\n",
            "[1]\ttraining's binary_logloss: 0.126416\tvalid_1's binary_logloss: 0.132019\n",
            "Training until validation scores don't improve for 100 rounds.\n"
          ]
        },
        {
          "output_type": "stream",
          "name": "stderr",
          "text": [
            "\u001b[32m[I 2023-02-14 20:22:12,229]\u001b[0m Trial 4 finished with value: 0.0 and parameters: {'learning_rate': 0.02886496196573106, 'n_estimators': 1903, 'max_depth': 10, 'colsample_bytree': 0.8850384088698766, 'scale_pos_weight': 3.132296384213595, 'reg_lambda': 0.10669539286632003, 'reg_alpha': 0.6873906962470353, 'subsample': 0.7200762468698007}. Best is trial 1 with value: 0.36866359447004604.\u001b[0m\n"
          ]
        },
        {
          "output_type": "stream",
          "name": "stdout",
          "text": [
            "[100]\ttraining's binary_logloss: 0.0986862\tvalid_1's binary_logloss: 0.129571\n",
            "Early stopping, best iteration is:\n",
            "[19]\ttraining's binary_logloss: 0.111208\tvalid_1's binary_logloss: 0.122198\n",
            "Training until validation scores don't improve for 100 rounds.\n"
          ]
        },
        {
          "output_type": "stream",
          "name": "stderr",
          "text": [
            "\u001b[32m[I 2023-02-14 20:22:12,796]\u001b[0m Trial 5 finished with value: 0.0 and parameters: {'learning_rate': 0.045391088104985856, 'n_estimators': 1041, 'max_depth': 4, 'colsample_bytree': 0.9455922412472693, 'scale_pos_weight': 2.8114598712001184, 'reg_lambda': 0.6658970615104421, 'reg_alpha': 0.31859396532851686, 'subsample': 0.7600340105889054}. Best is trial 1 with value: 0.36866359447004604.\u001b[0m\n"
          ]
        },
        {
          "output_type": "stream",
          "name": "stdout",
          "text": [
            "[100]\ttraining's binary_logloss: 0.112511\tvalid_1's binary_logloss: 0.129006\n",
            "Early stopping, best iteration is:\n",
            "[17]\ttraining's binary_logloss: 0.117934\tvalid_1's binary_logloss: 0.122321\n",
            "Training until validation scores don't improve for 100 rounds.\n"
          ]
        },
        {
          "output_type": "stream",
          "name": "stderr",
          "text": [
            "\u001b[32m[I 2023-02-14 20:22:13,464]\u001b[0m Trial 6 finished with value: 0.36220472440944873 and parameters: {'learning_rate': 0.1685459810095511, 'n_estimators': 451, 'max_depth': 10, 'colsample_bytree': 0.8650796940166687, 'scale_pos_weight': 7.576492590949324, 'reg_lambda': 0.8958790769233723, 'reg_alpha': 0.6019209790229743, 'subsample': 0.9609371175115584}. Best is trial 1 with value: 0.36866359447004604.\u001b[0m\n"
          ]
        },
        {
          "output_type": "stream",
          "name": "stdout",
          "text": [
            "[100]\ttraining's binary_logloss: 0.0736749\tvalid_1's binary_logloss: 0.154856\n",
            "Early stopping, best iteration is:\n",
            "[1]\ttraining's binary_logloss: 0.138787\tvalid_1's binary_logloss: 0.143648\n",
            "Training until validation scores don't improve for 100 rounds.\n"
          ]
        },
        {
          "output_type": "stream",
          "name": "stderr",
          "text": [
            "\u001b[32m[I 2023-02-14 20:22:14,066]\u001b[0m Trial 7 finished with value: 0.0 and parameters: {'learning_rate': 0.03566282559505665, 'n_estimators': 472, 'max_depth': 4, 'colsample_bytree': 0.5951981984579586, 'scale_pos_weight': 3.720741027826374, 'reg_lambda': 0.27863554145615693, 'reg_alpha': 0.83045013406041, 'subsample': 0.6783766633467947}. Best is trial 1 with value: 0.36866359447004604.\u001b[0m\n"
          ]
        },
        {
          "output_type": "stream",
          "name": "stdout",
          "text": [
            "[100]\ttraining's binary_logloss: 0.125567\tvalid_1's binary_logloss: 0.139459\n",
            "Early stopping, best iteration is:\n",
            "[16]\ttraining's binary_logloss: 0.122902\tvalid_1's binary_logloss: 0.126009\n",
            "Training until validation scores don't improve for 100 rounds.\n"
          ]
        },
        {
          "output_type": "stream",
          "name": "stderr",
          "text": [
            "\u001b[32m[I 2023-02-14 20:22:14,643]\u001b[0m Trial 8 finished with value: 0.3582089552238806 and parameters: {'learning_rate': 0.09147100780934041, 'n_estimators': 1131, 'max_depth': 4, 'colsample_bytree': 0.8813181884524238, 'scale_pos_weight': 1.5218545057583959, 'reg_lambda': 0.9870180672345121, 'reg_alpha': 0.7745223216036908, 'subsample': 0.5993578407670862}. Best is trial 1 with value: 0.36866359447004604.\u001b[0m\n"
          ]
        },
        {
          "output_type": "stream",
          "name": "stdout",
          "text": [
            "[100]\ttraining's binary_logloss: 0.0918191\tvalid_1's binary_logloss: 0.114961\n",
            "Early stopping, best iteration is:\n",
            "[43]\ttraining's binary_logloss: 0.0996113\tvalid_1's binary_logloss: 0.113637\n",
            "Training until validation scores don't improve for 100 rounds.\n"
          ]
        },
        {
          "output_type": "stream",
          "name": "stderr",
          "text": [
            "\u001b[32m[I 2023-02-14 20:22:15,431]\u001b[0m Trial 9 finished with value: 0.0 and parameters: {'learning_rate': 0.011601413965844696, 'n_estimators': 1650, 'max_depth': 8, 'colsample_bytree': 0.8374043008245924, 'scale_pos_weight': 6.39889242680162, 'reg_lambda': 0.08330420521674946, 'reg_alpha': 0.3648810712588299, 'subsample': 0.5579345297625649}. Best is trial 1 with value: 0.36866359447004604.\u001b[0m\n"
          ]
        },
        {
          "output_type": "stream",
          "name": "stdout",
          "text": [
            "[100]\ttraining's binary_logloss: 0.126443\tvalid_1's binary_logloss: 0.144581\n",
            "Early stopping, best iteration is:\n",
            "[26]\ttraining's binary_logloss: 0.120298\tvalid_1's binary_logloss: 0.128943\n",
            "Training until validation scores don't improve for 100 rounds.\n"
          ]
        },
        {
          "output_type": "stream",
          "name": "stderr",
          "text": [
            "\u001b[32m[I 2023-02-14 20:22:16,038]\u001b[0m Trial 10 finished with value: 0.3050847457627119 and parameters: {'learning_rate': 0.24213810146325193, 'n_estimators': 111, 'max_depth': 6, 'colsample_bytree': 0.4107771253688918, 'scale_pos_weight': 7.878646176674421, 'reg_lambda': 0.38649003064929244, 'reg_alpha': 0.9601730384859655, 'subsample': 0.5061537738750518}. Best is trial 1 with value: 0.36866359447004604.\u001b[0m\n"
          ]
        },
        {
          "output_type": "stream",
          "name": "stdout",
          "text": [
            "[100]\ttraining's binary_logloss: 0.0872339\tvalid_1's binary_logloss: 0.16988\n",
            "Did not meet early stopping. Best iteration is:\n",
            "[111]\ttraining's binary_logloss: 0.0821073\tvalid_1's binary_logloss: 0.168039\n",
            "Training until validation scores don't improve for 100 rounds.\n",
            "[100]\ttraining's binary_logloss: 0.0611675\tvalid_1's binary_logloss: 0.155918\n"
          ]
        },
        {
          "output_type": "stream",
          "name": "stderr",
          "text": [
            "\u001b[32m[I 2023-02-14 20:22:17,781]\u001b[0m Trial 11 finished with value: 0.34080717488789236 and parameters: {'learning_rate': 0.19721782170200594, 'n_estimators': 672, 'max_depth': 10, 'colsample_bytree': 0.9674858319842279, 'scale_pos_weight': 7.789720941368284, 'reg_lambda': 0.597977243929378, 'reg_alpha': 0.48707736636669624, 'subsample': 0.9721383939142848}. Best is trial 1 with value: 0.36866359447004604.\u001b[0m\n"
          ]
        },
        {
          "output_type": "stream",
          "name": "stdout",
          "text": [
            "[200]\ttraining's binary_logloss: 0.0288799\tvalid_1's binary_logloss: 0.160175\n",
            "Early stopping, best iteration is:\n",
            "[109]\ttraining's binary_logloss: 0.0559036\tvalid_1's binary_logloss: 0.154996\n",
            "Training until validation scores don't improve for 100 rounds.\n"
          ]
        },
        {
          "output_type": "stream",
          "name": "stderr",
          "text": [
            "\u001b[32m[I 2023-02-14 20:22:18,527]\u001b[0m Trial 12 finished with value: 0.3412698412698413 and parameters: {'learning_rate': 0.18608343946963543, 'n_estimators': 1345, 'max_depth': 7, 'colsample_bytree': 0.9823263882858844, 'scale_pos_weight': 6.634359007286474, 'reg_lambda': 0.7929274402390659, 'reg_alpha': 0.11782191853523553, 'subsample': 0.8449680588992676}. Best is trial 1 with value: 0.36866359447004604.\u001b[0m\n"
          ]
        },
        {
          "output_type": "stream",
          "name": "stdout",
          "text": [
            "[100]\ttraining's binary_logloss: 0.0683213\tvalid_1's binary_logloss: 0.157842\n",
            "Early stopping, best iteration is:\n",
            "[1]\ttraining's binary_logloss: 0.140014\tvalid_1's binary_logloss: 0.14534\n",
            "Training until validation scores don't improve for 100 rounds.\n",
            "[100]\ttraining's binary_logloss: 0.0389136\tvalid_1's binary_logloss: 0.165758\n"
          ]
        },
        {
          "output_type": "stream",
          "name": "stderr",
          "text": [
            "\u001b[32m[I 2023-02-14 20:22:19,825]\u001b[0m Trial 13 finished with value: 0.2943722943722944 and parameters: {'learning_rate': 0.2840673647065922, 'n_estimators': 515, 'max_depth': 8, 'colsample_bytree': 0.9976099190484612, 'scale_pos_weight': 6.478958750757207, 'reg_lambda': 0.4310866603655191, 'reg_alpha': 0.5180517394065687, 'subsample': 0.8828541191778306}. Best is trial 1 with value: 0.36866359447004604.\u001b[0m\n"
          ]
        },
        {
          "output_type": "stream",
          "name": "stdout",
          "text": [
            "Early stopping, best iteration is:\n",
            "[54]\ttraining's binary_logloss: 0.0679402\tvalid_1's binary_logloss: 0.163056\n",
            "Training until validation scores don't improve for 100 rounds.\n"
          ]
        },
        {
          "output_type": "stream",
          "name": "stderr",
          "text": [
            "\u001b[32m[I 2023-02-14 20:22:20,311]\u001b[0m Trial 14 finished with value: 0.3302752293577982 and parameters: {'learning_rate': 0.17913587465023492, 'n_estimators': 800, 'max_depth': 6, 'colsample_bytree': 0.8137556909679704, 'scale_pos_weight': 7.1998703356005915, 'reg_lambda': 0.3104118378796723, 'reg_alpha': 0.17985867448517764, 'subsample': 0.9980084946806066}. Best is trial 1 with value: 0.36866359447004604.\u001b[0m\n"
          ]
        },
        {
          "output_type": "stream",
          "name": "stdout",
          "text": [
            "[100]\ttraining's binary_logloss: 0.0794047\tvalid_1's binary_logloss: 0.16286\n",
            "Early stopping, best iteration is:\n",
            "[1]\ttraining's binary_logloss: 0.139743\tvalid_1's binary_logloss: 0.145763\n",
            "Training until validation scores don't improve for 100 rounds.\n",
            "[100]\ttraining's binary_logloss: 0.0483559\tvalid_1's binary_logloss: 0.148914\n"
          ]
        },
        {
          "output_type": "stream",
          "name": "stderr",
          "text": [
            "\u001b[32m[I 2023-02-14 20:22:21,172]\u001b[0m Trial 15 finished with value: 0.31746031746031744 and parameters: {'learning_rate': 0.22174413060289036, 'n_estimators': 168, 'max_depth': 9, 'colsample_bytree': 0.897513730516847, 'scale_pos_weight': 5.934489578210574, 'reg_lambda': 0.5169176929952766, 'reg_alpha': 0.03247382390837719, 'subsample': 0.7957069798496395}. Best is trial 1 with value: 0.36866359447004604.\u001b[0m\n"
          ]
        },
        {
          "output_type": "stream",
          "name": "stdout",
          "text": [
            "Did not meet early stopping. Best iteration is:\n",
            "[168]\ttraining's binary_logloss: 0.025614\tvalid_1's binary_logloss: 0.158844\n",
            "Training until validation scores don't improve for 100 rounds.\n"
          ]
        },
        {
          "output_type": "stream",
          "name": "stderr",
          "text": [
            "\u001b[32m[I 2023-02-14 20:22:21,670]\u001b[0m Trial 16 finished with value: 0.24516129032258063 and parameters: {'learning_rate': 0.15581414517817743, 'n_estimators': 1360, 'max_depth': 6, 'colsample_bytree': 0.7990688482275269, 'scale_pos_weight': 7.990098994396657, 'reg_lambda': 0.9774938009391272, 'reg_alpha': 0.44417483926159085, 'subsample': 0.8957893586116434}. Best is trial 1 with value: 0.36866359447004604.\u001b[0m\n"
          ]
        },
        {
          "output_type": "stream",
          "name": "stdout",
          "text": [
            "[100]\ttraining's binary_logloss: 0.0964969\tvalid_1's binary_logloss: 0.168472\n",
            "Early stopping, best iteration is:\n",
            "[1]\ttraining's binary_logloss: 0.135807\tvalid_1's binary_logloss: 0.13789\n",
            "Training until validation scores don't improve for 100 rounds.\n",
            "[100]\ttraining's binary_logloss: 0.0872069\tvalid_1's binary_logloss: 0.170324\n",
            "[200]\ttraining's binary_logloss: 0.0471713\tvalid_1's binary_logloss: 0.169774\n",
            "Early stopping, best iteration is:\n",
            "[145]\ttraining's binary_logloss: 0.0659513\tvalid_1's binary_logloss: 0.165567\n"
          ]
        },
        {
          "output_type": "stream",
          "name": "stderr",
          "text": [
            "\u001b[32m[I 2023-02-14 20:22:22,645]\u001b[0m Trial 17 finished with value: 0.32142857142857145 and parameters: {'learning_rate': 0.23133452590527526, 'n_estimators': 927, 'max_depth': 5, 'colsample_bytree': 0.9157899251173307, 'scale_pos_weight': 7.179158288749429, 'reg_lambda': 0.8077409014430669, 'reg_alpha': 0.1797752740956229, 'subsample': 0.8348854617915513}. Best is trial 1 with value: 0.36866359447004604.\u001b[0m\n"
          ]
        },
        {
          "output_type": "stream",
          "name": "stdout",
          "text": [
            "Training until validation scores don't improve for 100 rounds.\n"
          ]
        },
        {
          "output_type": "stream",
          "name": "stderr",
          "text": [
            "\u001b[32m[I 2023-02-14 20:22:22,988]\u001b[0m Trial 18 finished with value: 0.0 and parameters: {'learning_rate': 0.13672864804276882, 'n_estimators': 433, 'max_depth': 9, 'colsample_bytree': 0.8690049744766781, 'scale_pos_weight': 4.512185832695632, 'reg_lambda': 0.2567842541704939, 'reg_alpha': 0.5831068554420932, 'subsample': 0.6305487930076097}. Best is trial 1 with value: 0.36866359447004604.\u001b[0m\n"
          ]
        },
        {
          "output_type": "stream",
          "name": "stdout",
          "text": [
            "[100]\ttraining's binary_logloss: 0.0654994\tvalid_1's binary_logloss: 0.142924\n",
            "Early stopping, best iteration is:\n",
            "[1]\ttraining's binary_logloss: 0.120985\tvalid_1's binary_logloss: 0.124397\n",
            "Training until validation scores don't improve for 100 rounds.\n"
          ]
        },
        {
          "output_type": "stream",
          "name": "stderr",
          "text": [
            "\u001b[32m[I 2023-02-14 20:22:23,337]\u001b[0m Trial 19 finished with value: 0.3474576271186441 and parameters: {'learning_rate': 0.1752270928312277, 'n_estimators': 1358, 'max_depth': 8, 'colsample_bytree': 0.9415942892292042, 'scale_pos_weight': 5.683511560376655, 'reg_lambda': 0.4774013494242874, 'reg_alpha': 0.40351159519391333, 'subsample': 0.7710308644408195}. Best is trial 1 with value: 0.36866359447004604.\u001b[0m\n"
          ]
        },
        {
          "output_type": "stream",
          "name": "stdout",
          "text": [
            "[100]\ttraining's binary_logloss: 0.0622882\tvalid_1's binary_logloss: 0.146341\n",
            "Early stopping, best iteration is:\n",
            "[1]\ttraining's binary_logloss: 0.129306\tvalid_1's binary_logloss: 0.133942\n",
            "Training until validation scores don't improve for 100 rounds.\n"
          ]
        },
        {
          "output_type": "stream",
          "name": "stderr",
          "text": [
            "\u001b[32m[I 2023-02-14 20:22:23,660]\u001b[0m Trial 20 finished with value: 0.3461538461538462 and parameters: {'learning_rate': 0.20862724812641031, 'n_estimators': 1616, 'max_depth': 5, 'colsample_bytree': 0.9277004775328421, 'scale_pos_weight': 7.13935688742625, 'reg_lambda': 0.3474689359744797, 'reg_alpha': 0.23777178594566575, 'subsample': 0.9435762267489785}. Best is trial 1 with value: 0.36866359447004604.\u001b[0m\n"
          ]
        },
        {
          "output_type": "stream",
          "name": "stdout",
          "text": [
            "[100]\ttraining's binary_logloss: 0.0942202\tvalid_1's binary_logloss: 0.171138\n",
            "Early stopping, best iteration is:\n",
            "[1]\ttraining's binary_logloss: 0.159222\tvalid_1's binary_logloss: 0.16336\n",
            "Training until validation scores don't improve for 100 rounds.\n",
            "[100]\ttraining's binary_logloss: 0.0907904\tvalid_1's binary_logloss: 0.112132\n",
            "Early stopping, best iteration is:\n",
            "[79]\ttraining's binary_logloss: 0.093177\tvalid_1's binary_logloss: 0.111732\n"
          ]
        },
        {
          "output_type": "stream",
          "name": "stderr",
          "text": [
            "\u001b[32m[I 2023-02-14 20:22:24,172]\u001b[0m Trial 21 finished with value: 0.3333333333333333 and parameters: {'learning_rate': 0.08717456517444896, 'n_estimators': 1218, 'max_depth': 4, 'colsample_bytree': 0.8542184170071299, 'scale_pos_weight': 1.2491659854165316, 'reg_lambda': 0.9847078998273961, 'reg_alpha': 0.755629413876057, 'subsample': 0.6265630152215143}. Best is trial 1 with value: 0.36866359447004604.\u001b[0m\n"
          ]
        },
        {
          "output_type": "stream",
          "name": "stdout",
          "text": [
            "Training until validation scores don't improve for 100 rounds.\n"
          ]
        },
        {
          "output_type": "stream",
          "name": "stderr",
          "text": [
            "\u001b[32m[I 2023-02-14 20:22:24,471]\u001b[0m Trial 22 finished with value: 0.0 and parameters: {'learning_rate': 0.16117653274824378, 'n_estimators': 873, 'max_depth': 4, 'colsample_bytree': 0.9920980211411093, 'scale_pos_weight': 4.106856597800427, 'reg_lambda': 0.8948817738058467, 'reg_alpha': 0.673208195239828, 'subsample': 0.7149872794581776}. Best is trial 1 with value: 0.36866359447004604.\u001b[0m\n"
          ]
        },
        {
          "output_type": "stream",
          "name": "stdout",
          "text": [
            "[100]\ttraining's binary_logloss: 0.107171\tvalid_1's binary_logloss: 0.147384\n",
            "Early stopping, best iteration is:\n",
            "[1]\ttraining's binary_logloss: 0.127696\tvalid_1's binary_logloss: 0.12856\n",
            "Training until validation scores don't improve for 100 rounds.\n"
          ]
        },
        {
          "output_type": "stream",
          "name": "stderr",
          "text": [
            "\u001b[32m[I 2023-02-14 20:22:24,828]\u001b[0m Trial 23 finished with value: 0.36363636363636365 and parameters: {'learning_rate': 0.11682689137526517, 'n_estimators': 1152, 'max_depth': 5, 'colsample_bytree': 0.8930817068496718, 'scale_pos_weight': 1.4305457997437, 'reg_lambda': 0.8709023474027585, 'reg_alpha': 0.5501237277479704, 'subsample': 0.5444698966675545}. Best is trial 1 with value: 0.36866359447004604.\u001b[0m\n"
          ]
        },
        {
          "output_type": "stream",
          "name": "stdout",
          "text": [
            "[100]\ttraining's binary_logloss: 0.0767333\tvalid_1's binary_logloss: 0.117682\n",
            "Early stopping, best iteration is:\n",
            "[21]\ttraining's binary_logloss: 0.098355\tvalid_1's binary_logloss: 0.112292\n",
            "Training until validation scores don't improve for 100 rounds.\n"
          ]
        },
        {
          "output_type": "stream",
          "name": "stderr",
          "text": [
            "\u001b[32m[I 2023-02-14 20:22:25,168]\u001b[0m Trial 24 finished with value: 0.19642857142857142 and parameters: {'learning_rate': 0.12282688403474909, 'n_estimators': 664, 'max_depth': 5, 'colsample_bytree': 0.9382147766401534, 'scale_pos_weight': 2.1204342587519944, 'reg_lambda': 0.7304601781344984, 'reg_alpha': 0.5225196468217143, 'subsample': 0.5071419937773758}. Best is trial 1 with value: 0.36866359447004604.\u001b[0m\n"
          ]
        },
        {
          "output_type": "stream",
          "name": "stdout",
          "text": [
            "[100]\ttraining's binary_logloss: 0.0789791\tvalid_1's binary_logloss: 0.126087\n",
            "Early stopping, best iteration is:\n",
            "[9]\ttraining's binary_logloss: 0.109864\tvalid_1's binary_logloss: 0.11793\n",
            "Training until validation scores don't improve for 100 rounds.\n"
          ]
        },
        {
          "output_type": "stream",
          "name": "stderr",
          "text": [
            "\u001b[32m[I 2023-02-14 20:22:25,505]\u001b[0m Trial 25 finished with value: 0.0 and parameters: {'learning_rate': 0.16588769762242622, 'n_estimators': 1480, 'max_depth': 6, 'colsample_bytree': 0.7896868506088673, 'scale_pos_weight': 4.521637850744749, 'reg_lambda': 0.8691709891787222, 'reg_alpha': 0.4420821701743488, 'subsample': 0.5471456741013475}. Best is trial 1 with value: 0.36866359447004604.\u001b[0m\n"
          ]
        },
        {
          "output_type": "stream",
          "name": "stdout",
          "text": [
            "[100]\ttraining's binary_logloss: 0.0746525\tvalid_1's binary_logloss: 0.145429\n",
            "Early stopping, best iteration is:\n",
            "[1]\ttraining's binary_logloss: 0.124796\tvalid_1's binary_logloss: 0.127285\n",
            "Training until validation scores don't improve for 100 rounds.\n"
          ]
        },
        {
          "output_type": "stream",
          "name": "stderr",
          "text": [
            "\u001b[32m[I 2023-02-14 20:22:25,819]\u001b[0m Trial 26 finished with value: 0.3518518518518519 and parameters: {'learning_rate': 0.19734002781260165, 'n_estimators': 1742, 'max_depth': 5, 'colsample_bytree': 0.8480025035046193, 'scale_pos_weight': 5.20858060145351, 'reg_lambda': 0.591396723922873, 'reg_alpha': 0.36496291641241474, 'subsample': 0.6466191660073358}. Best is trial 1 with value: 0.36866359447004604.\u001b[0m\n"
          ]
        },
        {
          "output_type": "stream",
          "name": "stdout",
          "text": [
            "[100]\ttraining's binary_logloss: 0.0852861\tvalid_1's binary_logloss: 0.155701\n",
            "Early stopping, best iteration is:\n",
            "[1]\ttraining's binary_logloss: 0.137956\tvalid_1's binary_logloss: 0.141464\n",
            "Training until validation scores don't improve for 100 rounds.\n"
          ]
        },
        {
          "output_type": "stream",
          "name": "stderr",
          "text": [
            "\u001b[32m[I 2023-02-14 20:22:26,173]\u001b[0m Trial 27 finished with value: 0.0 and parameters: {'learning_rate': 0.14991823833913895, 'n_estimators': 333, 'max_depth': 7, 'colsample_bytree': 0.9045686700910688, 'scale_pos_weight': 6.172578774707951, 'reg_lambda': 0.744320662069518, 'reg_alpha': 0.6115965053511649, 'subsample': 0.5612230605961804}. Best is trial 1 with value: 0.36866359447004604.\u001b[0m\n"
          ]
        },
        {
          "output_type": "stream",
          "name": "stdout",
          "text": [
            "[100]\ttraining's binary_logloss: 0.0776326\tvalid_1's binary_logloss: 0.152073\n",
            "Early stopping, best iteration is:\n",
            "[1]\ttraining's binary_logloss: 0.125143\tvalid_1's binary_logloss: 0.128496\n",
            "Training until validation scores don't improve for 100 rounds.\n"
          ]
        },
        {
          "output_type": "stream",
          "name": "stderr",
          "text": [
            "\u001b[32m[I 2023-02-14 20:22:26,519]\u001b[0m Trial 28 finished with value: 0.0 and parameters: {'learning_rate': 0.120212177179983, 'n_estimators': 1222, 'max_depth': 10, 'colsample_bytree': 0.960262473287977, 'scale_pos_weight': 6.830376549479356, 'reg_lambda': 0.8654784068405923, 'reg_alpha': 0.5467074133826313, 'subsample': 0.5952721812122496}. Best is trial 1 with value: 0.36866359447004604.\u001b[0m\n"
          ]
        },
        {
          "output_type": "stream",
          "name": "stdout",
          "text": [
            "[100]\ttraining's binary_logloss: 0.0857916\tvalid_1's binary_logloss: 0.155706\n",
            "Early stopping, best iteration is:\n",
            "[1]\ttraining's binary_logloss: 0.124709\tvalid_1's binary_logloss: 0.128572\n",
            "Training until validation scores don't improve for 100 rounds.\n"
          ]
        },
        {
          "output_type": "stream",
          "name": "stderr",
          "text": [
            "\u001b[32m[I 2023-02-14 20:22:26,874]\u001b[0m Trial 29 finished with value: 0.27868852459016397 and parameters: {'learning_rate': 0.13258917676823548, 'n_estimators': 1969, 'max_depth': 5, 'colsample_bytree': 0.7886031992630329, 'scale_pos_weight': 1.0944361583310607, 'reg_lambda': 0.01897589666925298, 'reg_alpha': 0.4655737633524874, 'subsample': 0.9155829793110851}. Best is trial 1 with value: 0.36866359447004604.\u001b[0m\n"
          ]
        },
        {
          "output_type": "stream",
          "name": "stdout",
          "text": [
            "[100]\ttraining's binary_logloss: 0.0704789\tvalid_1's binary_logloss: 0.118319\n",
            "Early stopping, best iteration is:\n",
            "[23]\ttraining's binary_logloss: 0.0938873\tvalid_1's binary_logloss: 0.112334\n",
            "Best Score: 0.36866359447004604\n",
            "Best trial {'learning_rate': 0.18432335340553055, 'n_estimators': 1446, 'max_depth': 4, 'colsample_bytree': 0.9819459112971965, 'scale_pos_weight': 6.827098485602952, 'reg_lambda': 0.2202157195714934, 'reg_alpha': 0.19000671753502962, 'subsample': 0.5917022549267169}\n"
          ]
        }
      ]
    },
    {
      "cell_type": "code",
      "source": [
        "params = study.best_params\n",
        "\n",
        "params[\"random_state\"] = 2\n",
        "params['objective'] = 'binary'\n",
        "params['eval_metric'] = 'auc'"
      ],
      "metadata": {
        "id": "i6x9et3zClRv"
      },
      "execution_count": 74,
      "outputs": []
    },
    {
      "cell_type": "code",
      "source": [
        "lgc = LGBMClassifier(**params)\n",
        "\n",
        "lgc.fit(X_train, y_train,\n",
        "        eval_set=[(X_train, y_train), (X_val,y_val)],\n",
        "        early_stopping_rounds=100,\n",
        "        verbose=100)"
      ],
      "metadata": {
        "colab": {
          "base_uri": "https://localhost:8080/"
        },
        "id": "I6775yNiCmge",
        "outputId": "b727e3d4-1259-46a3-fcd1-afed1d2df40c"
      },
      "execution_count": 75,
      "outputs": [
        {
          "output_type": "stream",
          "name": "stdout",
          "text": [
            "Training until validation scores don't improve for 100 rounds.\n",
            "[100]\ttraining's binary_logloss: 0.129587\tvalid_1's binary_logloss: 0.179896\n",
            "Early stopping, best iteration is:\n",
            "[1]\ttraining's binary_logloss: 0.147038\tvalid_1's binary_logloss: 0.149198\n"
          ]
        },
        {
          "output_type": "execute_result",
          "data": {
            "text/plain": [
              "LGBMClassifier(colsample_bytree=0.9819459112971965, eval_metric='auc',\n",
              "               learning_rate=0.18432335340553055, max_depth=4,\n",
              "               n_estimators=1446, objective='binary', random_state=2,\n",
              "               reg_alpha=0.19000671753502962, reg_lambda=0.2202157195714934,\n",
              "               scale_pos_weight=6.827098485602952,\n",
              "               subsample=0.5917022549267169)"
            ]
          },
          "metadata": {},
          "execution_count": 75
        }
      ]
    },
    {
      "cell_type": "code",
      "source": [
        "lgc_pred = lgc.predict(X_val)\n",
        "lgc_prob = lgc.predict_proba(X_val)[:,1]\n",
        "\n",
        "print('LGBMClassifier_val')\n",
        "print('roc_auc_score :', roc_auc_score(y_val, lgc_prob), '\\n')\n",
        "print('classification_report', '\\n', classification_report(y_val, lgc_pred))"
      ],
      "metadata": {
        "colab": {
          "base_uri": "https://localhost:8080/"
        },
        "outputId": "1c9c452b-f77c-465f-dec5-574172ac309f",
        "id": "eiHNg8SqCvKM"
      },
      "execution_count": 76,
      "outputs": [
        {
          "output_type": "stream",
          "name": "stdout",
          "text": [
            "LGBMClassifier_val\n",
            "roc_auc_score : 0.7633928065489795 \n",
            "\n",
            "classification_report \n",
            "               precision    recall  f1-score   support\n",
            "\n",
            "           0       0.98      0.97      0.97      2729\n",
            "           1       0.33      0.41      0.37        97\n",
            "\n",
            "    accuracy                           0.95      2826\n",
            "   macro avg       0.66      0.69      0.67      2826\n",
            "weighted avg       0.96      0.95      0.95      2826\n",
            "\n"
          ]
        }
      ]
    },
    {
      "cell_type": "code",
      "source": [
        "lgc_pred = lgc.predict(X_test)\n",
        "lgc_prob = lgc.predict_proba(X_test)[:,1]\n",
        "\n",
        "print('LGBMClassifier_test')\n",
        "print('roc_auc_score :', roc_auc_score(y_test, lgc_prob), '\\n')\n",
        "print('classification_report', '\\n', classification_report(y_test, lgc_pred))"
      ],
      "metadata": {
        "colab": {
          "base_uri": "https://localhost:8080/"
        },
        "outputId": "22418a22-fc78-4831-c1de-a13e8552138f",
        "id": "r6VO1NqQCvKN"
      },
      "execution_count": 77,
      "outputs": [
        {
          "output_type": "stream",
          "name": "stdout",
          "text": [
            "LGBMClassifier_test\n",
            "roc_auc_score : 0.7715921508197834 \n",
            "\n",
            "classification_report \n",
            "               precision    recall  f1-score   support\n",
            "\n",
            "           0       0.98      0.98      0.98      3411\n",
            "           1       0.37      0.36      0.37       121\n",
            "\n",
            "    accuracy                           0.96      3532\n",
            "   macro avg       0.67      0.67      0.67      3532\n",
            "weighted avg       0.96      0.96      0.96      3532\n",
            "\n"
          ]
        }
      ]
    },
    {
      "cell_type": "code",
      "source": [
        "X_train, X_test, y_train, y_test = train_test_split(X4, y, test_size=0.2, random_state=2, stratify=y, shuffle=True)\n",
        "X_train, X_val, y_train, y_val = train_test_split(X_train, y_train, test_size=0.2, random_state=2, stratify=y_train, shuffle=True)"
      ],
      "metadata": {
        "id": "k4EQrV5oNkKA"
      },
      "execution_count": 78,
      "outputs": []
    },
    {
      "cell_type": "code",
      "source": [
        "def objective(trial):\n",
        "  param = {\n",
        "      \"random_state\" : 2,\n",
        "      \"objective\" : \"binary:logistic\",\n",
        "      \"eval_metric\" : \"auc\",\n",
        "      \"learning_rate\" : trial.suggest_float(\"learning_rate\", 0.01, 0.3),\n",
        "      \"n_estimators\":trial.suggest_int(\"n_estimators\", 100, 2000),\n",
        "      \"max_depth\":trial.suggest_int(\"max_depth\", 4, 10),\n",
        "      \"colsample_bytree\": trial.suggest_float(\"colsample_bytree\", 0.4, 1.0),\n",
        "      \"scale_pos_weight\": trial.suggest_float(\"scale_pos_weight\", 1.0, 8.0),\n",
        "      \"reg_lambda\": trial.suggest_float(\"reg_lambda\", 1e-2, 1),\n",
        "      \"reg_alpha\": trial.suggest_float(\"reg_alpha\", 1e-2, 1),\n",
        "      'subsample': trial.suggest_float('subsample', 0.5, 1.0),\n",
        "  }\n",
        "\n",
        "  xgc = XGBClassifier(**param)\n",
        "  xgc.fit(X_train, y_train,\n",
        "          eval_set=[(X_train, y_train), (X_val,y_val)],\n",
        "          early_stopping_rounds=100,\n",
        "          verbose=100)\n",
        "  xgc_prob = xgc.predict_proba(X_val)[:,1]\n",
        "  roc_auc = roc_auc_score(y_val, xgc_prob)\n",
        "  xgc_pred = xgc.predict(X_val)\n",
        "  f1 = f1_score(y_val, xgc_pred)\n",
        "\n",
        "  return roc_auc\n",
        "\n",
        "sampler = TPESampler(seed=42)\n",
        "study = optuna.create_study(\n",
        "    study_name = 'xgc_parameter_opt',\n",
        "    direction = 'maximize',\n",
        "    sampler = sampler,\n",
        ")\n",
        "study.optimize(objective, n_trials=30)\n",
        "print(\"Best Score:\",study.best_value)\n",
        "print(\"Best trial\",study.best_trial.params)"
      ],
      "metadata": {
        "colab": {
          "base_uri": "https://localhost:8080/"
        },
        "id": "n08ApK2CyZZS",
        "outputId": "4604d673-7b22-4668-91ef-44f39bbbd346"
      },
      "execution_count": 79,
      "outputs": [
        {
          "output_type": "stream",
          "name": "stderr",
          "text": [
            "\u001b[32m[I 2023-02-14 20:22:27,272]\u001b[0m A new study created in memory with name: xgc_parameter_opt\u001b[0m\n"
          ]
        },
        {
          "output_type": "stream",
          "name": "stdout",
          "text": [
            "[0]\tvalidation_0-auc:0.89006\tvalidation_1-auc:0.779318\n",
            "Multiple eval metrics have been passed: 'validation_1-auc' will be used for early stopping.\n",
            "\n",
            "Will train until validation_1-auc hasn't improved in 100 rounds.\n",
            "[100]\tvalidation_0-auc:0.999743\tvalidation_1-auc:0.805518\n",
            "Stopping. Best iteration:\n",
            "[28]\tvalidation_0-auc:0.989876\tvalidation_1-auc:0.822978\n",
            "\n"
          ]
        },
        {
          "output_type": "stream",
          "name": "stderr",
          "text": [
            "\u001b[32m[I 2023-02-14 20:22:30,923]\u001b[0m Trial 0 finished with value: 0.8229780932557147 and parameters: {'learning_rate': 0.11861663446573512, 'n_estimators': 1907, 'max_depth': 9, 'colsample_bytree': 0.759195090518222, 'scale_pos_weight': 2.0921304830970557, 'reg_lambda': 0.16443457513284063, 'reg_alpha': 0.06750277604651747, 'subsample': 0.9330880728874675}. Best is trial 0 with value: 0.8229780932557147.\u001b[0m\n"
          ]
        },
        {
          "output_type": "stream",
          "name": "stdout",
          "text": [
            "[0]\tvalidation_0-auc:0.843736\tvalidation_1-auc:0.804685\n",
            "Multiple eval metrics have been passed: 'validation_1-auc' will be used for early stopping.\n",
            "\n",
            "Will train until validation_1-auc hasn't improved in 100 rounds.\n",
            "[100]\tvalidation_0-auc:0.972848\tvalidation_1-auc:0.817553\n",
            "Stopping. Best iteration:\n",
            "[14]\tvalidation_0-auc:0.897495\tvalidation_1-auc:0.843028\n",
            "\n"
          ]
        },
        {
          "output_type": "stream",
          "name": "stderr",
          "text": [
            "\u001b[32m[I 2023-02-14 20:22:33,445]\u001b[0m Trial 1 finished with value: 0.8430281096886062 and parameters: {'learning_rate': 0.18432335340553055, 'n_estimators': 1446, 'max_depth': 4, 'colsample_bytree': 0.9819459112971965, 'scale_pos_weight': 6.827098485602952, 'reg_lambda': 0.2202157195714934, 'reg_alpha': 0.19000671753502962, 'subsample': 0.5917022549267169}. Best is trial 1 with value: 0.8430281096886062.\u001b[0m\n"
          ]
        },
        {
          "output_type": "stream",
          "name": "stdout",
          "text": [
            "[0]\tvalidation_0-auc:0.852411\tvalidation_1-auc:0.775517\n",
            "Multiple eval metrics have been passed: 'validation_1-auc' will be used for early stopping.\n",
            "\n",
            "Will train until validation_1-auc hasn't improved in 100 rounds.\n",
            "[100]\tvalidation_0-auc:0.994461\tvalidation_1-auc:0.811479\n",
            "Stopping. Best iteration:\n",
            "[8]\tvalidation_0-auc:0.93803\tvalidation_1-auc:0.841442\n",
            "\n"
          ]
        },
        {
          "output_type": "stream",
          "name": "stderr",
          "text": [
            "\u001b[32m[I 2023-02-14 20:22:36,380]\u001b[0m Trial 2 finished with value: 0.8414414856844961 and parameters: {'learning_rate': 0.09823025045826593, 'n_estimators': 1097, 'max_depth': 7, 'colsample_bytree': 0.5747374841188252, 'scale_pos_weight': 5.282970263056656, 'reg_lambda': 0.14809892204552141, 'reg_alpha': 0.29922320204986597, 'subsample': 0.6831809216468459}. Best is trial 1 with value: 0.8430281096886062.\u001b[0m\n"
          ]
        },
        {
          "output_type": "stream",
          "name": "stdout",
          "text": [
            "[0]\tvalidation_0-auc:0.822946\tvalidation_1-auc:0.75488\n",
            "Multiple eval metrics have been passed: 'validation_1-auc' will be used for early stopping.\n",
            "\n",
            "Will train until validation_1-auc hasn't improved in 100 rounds.\n",
            "[100]\tvalidation_0-auc:0.9807\tvalidation_1-auc:0.818509\n",
            "Stopping. Best iteration:\n",
            "[30]\tvalidation_0-auc:0.939451\tvalidation_1-auc:0.832572\n",
            "\n"
          ]
        },
        {
          "output_type": "stream",
          "name": "stderr",
          "text": [
            "\u001b[32m[I 2023-02-14 20:22:38,861]\u001b[0m Trial 3 finished with value: 0.8325715019662805 and parameters: {'learning_rate': 0.1422602954229404, 'n_estimators': 1592, 'max_depth': 5, 'colsample_bytree': 0.708540663048167, 'scale_pos_weight': 5.146901982034297, 'reg_lambda': 0.05598590859279775, 'reg_alpha': 0.611469403382424, 'subsample': 0.5852620618436457}. Best is trial 1 with value: 0.8430281096886062.\u001b[0m\n"
          ]
        },
        {
          "output_type": "stream",
          "name": "stdout",
          "text": [
            "[0]\tvalidation_0-auc:0.837021\tvalidation_1-auc:0.775674\n",
            "Multiple eval metrics have been passed: 'validation_1-auc' will be used for early stopping.\n",
            "\n",
            "Will train until validation_1-auc hasn't improved in 100 rounds.\n",
            "[100]\tvalidation_0-auc:0.992005\tvalidation_1-auc:0.818775\n",
            "Stopping. Best iteration:\n",
            "[20]\tvalidation_0-auc:0.954252\tvalidation_1-auc:0.829194\n",
            "\n"
          ]
        },
        {
          "output_type": "stream",
          "name": "stderr",
          "text": [
            "\u001b[32m[I 2023-02-14 20:22:43,377]\u001b[0m Trial 4 finished with value: 0.8291942594432461 and parameters: {'learning_rate': 0.02886496196573106, 'n_estimators': 1903, 'max_depth': 10, 'colsample_bytree': 0.8850384088698766, 'scale_pos_weight': 3.132296384213595, 'reg_lambda': 0.10669539286632003, 'reg_alpha': 0.6873906962470353, 'subsample': 0.7200762468698007}. Best is trial 1 with value: 0.8430281096886062.\u001b[0m\n"
          ]
        },
        {
          "output_type": "stream",
          "name": "stdout",
          "text": [
            "[0]\tvalidation_0-auc:0.831023\tvalidation_1-auc:0.81577\n",
            "Multiple eval metrics have been passed: 'validation_1-auc' will be used for early stopping.\n",
            "\n",
            "Will train until validation_1-auc hasn't improved in 100 rounds.\n",
            "[100]\tvalidation_0-auc:0.914812\tvalidation_1-auc:0.837482\n",
            "[200]\tvalidation_0-auc:0.942541\tvalidation_1-auc:0.826945\n",
            "Stopping. Best iteration:\n",
            "[101]\tvalidation_0-auc:0.915236\tvalidation_1-auc:0.838094\n",
            "\n"
          ]
        },
        {
          "output_type": "stream",
          "name": "stderr",
          "text": [
            "\u001b[32m[I 2023-02-14 20:22:47,360]\u001b[0m Trial 5 finished with value: 0.8380944645710637 and parameters: {'learning_rate': 0.045391088104985856, 'n_estimators': 1041, 'max_depth': 4, 'colsample_bytree': 0.9455922412472693, 'scale_pos_weight': 2.8114598712001184, 'reg_lambda': 0.6658970615104421, 'reg_alpha': 0.31859396532851686, 'subsample': 0.7600340105889054}. Best is trial 1 with value: 0.8430281096886062.\u001b[0m\n"
          ]
        },
        {
          "output_type": "stream",
          "name": "stdout",
          "text": [
            "[0]\tvalidation_0-auc:0.931157\tvalidation_1-auc:0.779945\n",
            "Multiple eval metrics have been passed: 'validation_1-auc' will be used for early stopping.\n",
            "\n",
            "Will train until validation_1-auc hasn't improved in 100 rounds.\n",
            "[100]\tvalidation_0-auc:0.999981\tvalidation_1-auc:0.79086\n",
            "Stopping. Best iteration:\n",
            "[10]\tvalidation_0-auc:0.991727\tvalidation_1-auc:0.808396\n",
            "\n"
          ]
        },
        {
          "output_type": "stream",
          "name": "stderr",
          "text": [
            "\u001b[32m[I 2023-02-14 20:22:51,339]\u001b[0m Trial 6 finished with value: 0.8083962631227026 and parameters: {'learning_rate': 0.1685459810095511, 'n_estimators': 451, 'max_depth': 10, 'colsample_bytree': 0.8650796940166687, 'scale_pos_weight': 7.576492590949324, 'reg_lambda': 0.8958790769233723, 'reg_alpha': 0.6019209790229743, 'subsample': 0.9609371175115584}. Best is trial 1 with value: 0.8430281096886062.\u001b[0m\n"
          ]
        },
        {
          "output_type": "stream",
          "name": "stdout",
          "text": [
            "[0]\tvalidation_0-auc:0.804779\tvalidation_1-auc:0.794181\n",
            "Multiple eval metrics have been passed: 'validation_1-auc' will be used for early stopping.\n",
            "\n",
            "Will train until validation_1-auc hasn't improved in 100 rounds.\n",
            "[100]\tvalidation_0-auc:0.901744\tvalidation_1-auc:0.832388\n",
            "Stopping. Best iteration:\n",
            "[10]\tvalidation_0-auc:0.874437\tvalidation_1-auc:0.838102\n",
            "\n"
          ]
        },
        {
          "output_type": "stream",
          "name": "stderr",
          "text": [
            "\u001b[32m[I 2023-02-14 20:22:53,907]\u001b[0m Trial 7 finished with value: 0.8381020199234643 and parameters: {'learning_rate': 0.03566282559505665, 'n_estimators': 472, 'max_depth': 4, 'colsample_bytree': 0.5951981984579586, 'scale_pos_weight': 3.720741027826374, 'reg_lambda': 0.27863554145615693, 'reg_alpha': 0.83045013406041, 'subsample': 0.6783766633467947}. Best is trial 1 with value: 0.8430281096886062.\u001b[0m\n"
          ]
        },
        {
          "output_type": "stream",
          "name": "stdout",
          "text": [
            "[0]\tvalidation_0-auc:0.755971\tvalidation_1-auc:0.749538\n",
            "Multiple eval metrics have been passed: 'validation_1-auc' will be used for early stopping.\n",
            "\n",
            "Will train until validation_1-auc hasn't improved in 100 rounds.\n",
            "[100]\tvalidation_0-auc:0.929723\tvalidation_1-auc:0.82471\n",
            "Stopping. Best iteration:\n",
            "[42]\tvalidation_0-auc:0.895349\tvalidation_1-auc:0.83256\n",
            "\n"
          ]
        },
        {
          "output_type": "stream",
          "name": "stderr",
          "text": [
            "\u001b[32m[I 2023-02-14 20:22:58,107]\u001b[0m Trial 8 finished with value: 0.8325601689376797 and parameters: {'learning_rate': 0.09147100780934041, 'n_estimators': 1131, 'max_depth': 4, 'colsample_bytree': 0.8813181884524238, 'scale_pos_weight': 1.5218545057583959, 'reg_lambda': 0.9870180672345121, 'reg_alpha': 0.7745223216036908, 'subsample': 0.5993578407670862}. Best is trial 1 with value: 0.8430281096886062.\u001b[0m\n"
          ]
        },
        {
          "output_type": "stream",
          "name": "stdout",
          "text": [
            "[0]\tvalidation_0-auc:0.861795\tvalidation_1-auc:0.754984\n",
            "Multiple eval metrics have been passed: 'validation_1-auc' will be used for early stopping.\n",
            "\n",
            "Will train until validation_1-auc hasn't improved in 100 rounds.\n",
            "[100]\tvalidation_0-auc:0.974638\tvalidation_1-auc:0.822706\n",
            "Stopping. Best iteration:\n",
            "[47]\tvalidation_0-auc:0.966168\tvalidation_1-auc:0.829151\n",
            "\n"
          ]
        },
        {
          "output_type": "stream",
          "name": "stderr",
          "text": [
            "\u001b[32m[I 2023-02-14 20:23:07,342]\u001b[0m Trial 9 finished with value: 0.8291508161669431 and parameters: {'learning_rate': 0.011601413965844696, 'n_estimators': 1650, 'max_depth': 8, 'colsample_bytree': 0.8374043008245924, 'scale_pos_weight': 6.39889242680162, 'reg_lambda': 0.08330420521674946, 'reg_alpha': 0.3648810712588299, 'subsample': 0.5579345297625649}. Best is trial 1 with value: 0.8430281096886062.\u001b[0m\n"
          ]
        },
        {
          "output_type": "stream",
          "name": "stdout",
          "text": [
            "[0]\tvalidation_0-auc:0.752127\tvalidation_1-auc:0.658825\n",
            "Multiple eval metrics have been passed: 'validation_1-auc' will be used for early stopping.\n",
            "\n",
            "Will train until validation_1-auc hasn't improved in 100 rounds.\n",
            "[100]\tvalidation_0-auc:0.9924\tvalidation_1-auc:0.781571\n",
            "Stopping. Best iteration:\n",
            "[9]\tvalidation_0-auc:0.922235\tvalidation_1-auc:0.831672\n",
            "\n"
          ]
        },
        {
          "output_type": "stream",
          "name": "stderr",
          "text": [
            "\u001b[32m[I 2023-02-14 20:23:09,353]\u001b[0m Trial 10 finished with value: 0.8316724150306181 and parameters: {'learning_rate': 0.24213810146325193, 'n_estimators': 111, 'max_depth': 6, 'colsample_bytree': 0.4107771253688918, 'scale_pos_weight': 7.878646176674421, 'reg_lambda': 0.38649003064929244, 'reg_alpha': 0.9601730384859655, 'subsample': 0.5061537738750518}. Best is trial 1 with value: 0.8430281096886062.\u001b[0m\n"
          ]
        },
        {
          "output_type": "stream",
          "name": "stdout",
          "text": [
            "[0]\tvalidation_0-auc:0.866051\tvalidation_1-auc:0.772622\n",
            "Multiple eval metrics have been passed: 'validation_1-auc' will be used for early stopping.\n",
            "\n",
            "Will train until validation_1-auc hasn't improved in 100 rounds.\n",
            "[100]\tvalidation_0-auc:0.999759\tvalidation_1-auc:0.792704\n",
            "Stopping. Best iteration:\n",
            "[5]\tvalidation_0-auc:0.945319\tvalidation_1-auc:0.813241\n",
            "\n"
          ]
        },
        {
          "output_type": "stream",
          "name": "stderr",
          "text": [
            "\u001b[32m[I 2023-02-14 20:23:12,852]\u001b[0m Trial 11 finished with value: 0.8132411328495388 and parameters: {'learning_rate': 0.19179625702290465, 'n_estimators': 1148, 'max_depth': 7, 'colsample_bytree': 0.9674858319842279, 'scale_pos_weight': 5.180500194482254, 'reg_lambda': 0.2993160808469662, 'reg_alpha': 0.1501476748688006, 'subsample': 0.659143125062404}. Best is trial 1 with value: 0.8430281096886062.\u001b[0m\n"
          ]
        },
        {
          "output_type": "stream",
          "name": "stdout",
          "text": [
            "[0]\tvalidation_0-auc:0.849303\tvalidation_1-auc:0.777784\n",
            "Multiple eval metrics have been passed: 'validation_1-auc' will be used for early stopping.\n",
            "\n",
            "Will train until validation_1-auc hasn't improved in 100 rounds.\n",
            "[100]\tvalidation_0-auc:0.997125\tvalidation_1-auc:0.793856\n",
            "Stopping. Best iteration:\n",
            "[4]\tvalidation_0-auc:0.917055\tvalidation_1-auc:0.830486\n",
            "\n"
          ]
        },
        {
          "output_type": "stream",
          "name": "stderr",
          "text": [
            "\u001b[32m[I 2023-02-14 20:23:15,407]\u001b[0m Trial 12 finished with value: 0.8304862247037358 and parameters: {'learning_rate': 0.21006822277141063, 'n_estimators': 1393, 'max_depth': 6, 'colsample_bytree': 0.6232744986311256, 'scale_pos_weight': 6.150841947842437, 'reg_lambda': 0.44583266113520925, 'reg_alpha': 0.24713413608717733, 'subsample': 0.7632507419224914}. Best is trial 1 with value: 0.8430281096886062.\u001b[0m\n"
          ]
        },
        {
          "output_type": "stream",
          "name": "stdout",
          "text": [
            "[0]\tvalidation_0-auc:0.84235\tvalidation_1-auc:0.753231\n",
            "Multiple eval metrics have been passed: 'validation_1-auc' will be used for early stopping.\n",
            "\n",
            "Will train until validation_1-auc hasn't improved in 100 rounds.\n",
            "[100]\tvalidation_0-auc:0.999928\tvalidation_1-auc:0.766978\n",
            "Stopping. Best iteration:\n",
            "[4]\tvalidation_0-auc:0.940008\tvalidation_1-auc:0.812285\n",
            "\n"
          ]
        },
        {
          "output_type": "stream",
          "name": "stderr",
          "text": [
            "\u001b[32m[I 2023-02-14 20:23:18,490]\u001b[0m Trial 13 finished with value: 0.8122853807708726 and parameters: {'learning_rate': 0.2840673647065922, 'n_estimators': 884, 'max_depth': 7, 'colsample_bytree': 0.9976099190484612, 'scale_pos_weight': 4.571633143741662, 'reg_lambda': 0.01353424337797482, 'reg_alpha': 0.4408626878732124, 'subsample': 0.6399954876351523}. Best is trial 1 with value: 0.8430281096886062.\u001b[0m\n"
          ]
        },
        {
          "output_type": "stream",
          "name": "stdout",
          "text": [
            "[0]\tvalidation_0-auc:0.846231\tvalidation_1-auc:0.748071\n",
            "Multiple eval metrics have been passed: 'validation_1-auc' will be used for early stopping.\n",
            "\n",
            "Will train until validation_1-auc hasn't improved in 100 rounds.\n",
            "[100]\tvalidation_0-auc:0.99641\tvalidation_1-auc:0.814403\n",
            "Stopping. Best iteration:\n",
            "[27]\tvalidation_0-auc:0.97364\tvalidation_1-auc:0.831841\n",
            "\n"
          ]
        },
        {
          "output_type": "stream",
          "name": "stderr",
          "text": [
            "\u001b[32m[I 2023-02-14 20:23:21,785]\u001b[0m Trial 14 finished with value: 0.8318405216215298 and parameters: {'learning_rate': 0.0905751891624764, 'n_estimators': 771, 'max_depth': 8, 'colsample_bytree': 0.5773316983477264, 'scale_pos_weight': 6.489139245466959, 'reg_lambda': 0.22150130871322832, 'reg_alpha': 0.19872371580915232, 'subsample': 0.5043156248956564}. Best is trial 1 with value: 0.8430281096886062.\u001b[0m\n"
          ]
        },
        {
          "output_type": "stream",
          "name": "stdout",
          "text": [
            "[0]\tvalidation_0-auc:0.822046\tvalidation_1-auc:0.777134\n",
            "Multiple eval metrics have been passed: 'validation_1-auc' will be used for early stopping.\n",
            "\n",
            "Will train until validation_1-auc hasn't improved in 100 rounds.\n",
            "[100]\tvalidation_0-auc:0.987369\tvalidation_1-auc:0.812778\n",
            "Stopping. Best iteration:\n",
            "[6]\tvalidation_0-auc:0.900428\tvalidation_1-auc:0.837212\n",
            "\n"
          ]
        },
        {
          "output_type": "stream",
          "name": "stderr",
          "text": [
            "\u001b[32m[I 2023-02-14 20:23:23,796]\u001b[0m Trial 15 finished with value: 0.8372123771783025 and parameters: {'learning_rate': 0.15980235469353743, 'n_estimators': 1361, 'max_depth': 5, 'colsample_bytree': 0.7777242273310716, 'scale_pos_weight': 6.966938854693334, 'reg_lambda': 0.3294303637477882, 'reg_alpha': 0.030837249141488943, 'subsample': 0.7146499664795539}. Best is trial 1 with value: 0.8430281096886062.\u001b[0m\n"
          ]
        },
        {
          "output_type": "stream",
          "name": "stdout",
          "text": [
            "[0]\tvalidation_0-auc:0.85822\tvalidation_1-auc:0.795871\n",
            "Multiple eval metrics have been passed: 'validation_1-auc' will be used for early stopping.\n",
            "\n",
            "Will train until validation_1-auc hasn't improved in 100 rounds.\n",
            "[100]\tvalidation_0-auc:0.991605\tvalidation_1-auc:0.818377\n",
            "Stopping. Best iteration:\n",
            "[7]\tvalidation_0-auc:0.925488\tvalidation_1-auc:0.834349\n",
            "\n"
          ]
        },
        {
          "output_type": "stream",
          "name": "stderr",
          "text": [
            "\u001b[32m[I 2023-02-14 20:23:26,578]\u001b[0m Trial 16 finished with value: 0.8343488986185038 and parameters: {'learning_rate': 0.12259849562450631, 'n_estimators': 1334, 'max_depth': 6, 'colsample_bytree': 0.6539422792842833, 'scale_pos_weight': 5.693815998234205, 'reg_lambda': 0.21596977040973647, 'reg_alpha': 0.4339081478346279, 'subsample': 0.8197342331354389}. Best is trial 1 with value: 0.8430281096886062.\u001b[0m\n"
          ]
        },
        {
          "output_type": "stream",
          "name": "stdout",
          "text": [
            "[0]\tvalidation_0-auc:0.790887\tvalidation_1-auc:0.647061\n",
            "Multiple eval metrics have been passed: 'validation_1-auc' will be used for early stopping.\n",
            "\n",
            "Will train until validation_1-auc hasn't improved in 100 rounds.\n",
            "[100]\tvalidation_0-auc:0.999522\tvalidation_1-auc:0.80392\n",
            "Stopping. Best iteration:\n",
            "[18]\tvalidation_0-auc:0.978261\tvalidation_1-auc:0.826722\n",
            "\n"
          ]
        },
        {
          "output_type": "stream",
          "name": "stderr",
          "text": [
            "\u001b[32m[I 2023-02-14 20:23:29,755]\u001b[0m Trial 17 finished with value: 0.8267217703701745 and parameters: {'learning_rate': 0.205250471742112, 'n_estimators': 1618, 'max_depth': 8, 'colsample_bytree': 0.5275782177581845, 'scale_pos_weight': 6.9747718239757415, 'reg_lambda': 0.5403851217532545, 'reg_alpha': 0.2879965080239302, 'subsample': 0.6230772116042704}. Best is trial 1 with value: 0.8430281096886062.\u001b[0m\n"
          ]
        },
        {
          "output_type": "stream",
          "name": "stdout",
          "text": [
            "[0]\tvalidation_0-auc:0.82249\tvalidation_1-auc:0.752404\n",
            "Multiple eval metrics have been passed: 'validation_1-auc' will be used for early stopping.\n",
            "\n",
            "Will train until validation_1-auc hasn't improved in 100 rounds.\n",
            "[100]\tvalidation_0-auc:0.959261\tvalidation_1-auc:0.827402\n",
            "Stopping. Best iteration:\n",
            "[41]\tvalidation_0-auc:0.926537\tvalidation_1-auc:0.836096\n",
            "\n"
          ]
        },
        {
          "output_type": "stream",
          "name": "stderr",
          "text": [
            "\u001b[32m[I 2023-02-14 20:23:32,423]\u001b[0m Trial 18 finished with value: 0.836096073861125 and parameters: {'learning_rate': 0.074480443501327, 'n_estimators': 843, 'max_depth': 5, 'colsample_bytree': 0.7044950584836138, 'scale_pos_weight': 4.052698835005961, 'reg_lambda': 0.17241498061745725, 'reg_alpha': 0.178179260794807, 'subsample': 0.5624019036173409}. Best is trial 1 with value: 0.8430281096886062.\u001b[0m\n"
          ]
        },
        {
          "output_type": "stream",
          "name": "stdout",
          "text": [
            "[0]\tvalidation_0-auc:0.851171\tvalidation_1-auc:0.756816\n",
            "Multiple eval metrics have been passed: 'validation_1-auc' will be used for early stopping.\n",
            "\n",
            "Will train until validation_1-auc hasn't improved in 100 rounds.\n",
            "[100]\tvalidation_0-auc:0.998659\tvalidation_1-auc:0.799488\n",
            "Stopping. Best iteration:\n",
            "[31]\tvalidation_0-auc:0.981248\tvalidation_1-auc:0.822181\n",
            "\n"
          ]
        },
        {
          "output_type": "stream",
          "name": "stderr",
          "text": [
            "\u001b[32m[I 2023-02-14 20:23:35,857]\u001b[0m Trial 19 finished with value: 0.8221810035774594 and parameters: {'learning_rate': 0.13364053316728725, 'n_estimators': 601, 'max_depth': 7, 'colsample_bytree': 0.7942270359710376, 'scale_pos_weight': 5.693840275943332, 'reg_lambda': 0.127676320585198, 'reg_alpha': 0.37928987270028885, 'subsample': 0.6589166834365399}. Best is trial 1 with value: 0.8430281096886062.\u001b[0m\n"
          ]
        },
        {
          "output_type": "stream",
          "name": "stdout",
          "text": [
            "[0]\tvalidation_0-auc:0.899318\tvalidation_1-auc:0.762192\n",
            "Multiple eval metrics have been passed: 'validation_1-auc' will be used for early stopping.\n",
            "\n",
            "Will train until validation_1-auc hasn't improved in 100 rounds.\n",
            "[100]\tvalidation_0-auc:0.999971\tvalidation_1-auc:0.804022\n",
            "Stopping. Best iteration:\n",
            "[5]\tvalidation_0-auc:0.968093\tvalidation_1-auc:0.825719\n",
            "\n"
          ]
        },
        {
          "output_type": "stream",
          "name": "stderr",
          "text": [
            "\u001b[32m[I 2023-02-14 20:23:40,346]\u001b[0m Trial 20 finished with value: 0.825718797339005 and parameters: {'learning_rate': 0.16608840683544504, 'n_estimators': 1470, 'max_depth': 9, 'colsample_bytree': 0.9277004775328421, 'scale_pos_weight': 5.00677709344089, 'reg_lambda': 0.23964755200180451, 'reg_alpha': 0.5109876827196866, 'subsample': 0.8159337331229888}. Best is trial 1 with value: 0.8430281096886062.\u001b[0m\n"
          ]
        },
        {
          "output_type": "stream",
          "name": "stdout",
          "text": [
            "[0]\tvalidation_0-auc:0.798007\tvalidation_1-auc:0.778262\n",
            "Multiple eval metrics have been passed: 'validation_1-auc' will be used for early stopping.\n",
            "\n",
            "Will train until validation_1-auc hasn't improved in 100 rounds.\n",
            "[100]\tvalidation_0-auc:0.918411\tvalidation_1-auc:0.832619\n",
            "Stopping. Best iteration:\n",
            "[67]\tvalidation_0-auc:0.904405\tvalidation_1-auc:0.83558\n",
            "\n"
          ]
        },
        {
          "output_type": "stream",
          "name": "stderr",
          "text": [
            "\u001b[32m[I 2023-02-14 20:23:44,213]\u001b[0m Trial 21 finished with value: 0.8355804210597892 and parameters: {'learning_rate': 0.05383707902896787, 'n_estimators': 200, 'max_depth': 4, 'colsample_bytree': 0.5620934524929555, 'scale_pos_weight': 4.080098230387279, 'reg_lambda': 0.2936657431356313, 'reg_alpha': 0.26292584809345837, 'subsample': 0.6841057603698306}. Best is trial 1 with value: 0.8430281096886062.\u001b[0m\n"
          ]
        },
        {
          "output_type": "stream",
          "name": "stdout",
          "text": [
            "[0]\tvalidation_0-auc:0.822145\tvalidation_1-auc:0.811586\n",
            "Multiple eval metrics have been passed: 'validation_1-auc' will be used for early stopping.\n",
            "\n",
            "Will train until validation_1-auc hasn't improved in 100 rounds.\n",
            "[100]\tvalidation_0-auc:0.948155\tvalidation_1-auc:0.828652\n",
            "Stopping. Best iteration:\n",
            "[6]\tvalidation_0-auc:0.887219\tvalidation_1-auc:0.839558\n",
            "\n"
          ]
        },
        {
          "output_type": "stream",
          "name": "stderr",
          "text": [
            "\u001b[32m[I 2023-02-14 20:23:46,277]\u001b[0m Trial 22 finished with value: 0.8395583140986652 and parameters: {'learning_rate': 0.060490952344405935, 'n_estimators': 389, 'max_depth': 5, 'colsample_bytree': 0.6289204650993325, 'scale_pos_weight': 3.601144192408267, 'reg_lambda': 0.36909760880785897, 'reg_alpha': 0.97556602646587, 'subsample': 0.6172175279583285}. Best is trial 1 with value: 0.8430281096886062.\u001b[0m\n"
          ]
        },
        {
          "output_type": "stream",
          "name": "stdout",
          "text": [
            "[0]\tvalidation_0-auc:0.83469\tvalidation_1-auc:0.786461\n",
            "Multiple eval metrics have been passed: 'validation_1-auc' will be used for early stopping.\n",
            "\n",
            "Will train until validation_1-auc hasn't improved in 100 rounds.\n",
            "[100]\tvalidation_0-auc:0.969925\tvalidation_1-auc:0.818286\n",
            "Stopping. Best iteration:\n",
            "[19]\tvalidation_0-auc:0.906073\tvalidation_1-auc:0.831818\n",
            "\n"
          ]
        },
        {
          "output_type": "stream",
          "name": "stderr",
          "text": [
            "\u001b[32m[I 2023-02-14 20:23:48,489]\u001b[0m Trial 23 finished with value: 0.8318178555643281 and parameters: {'learning_rate': 0.10394582669407532, 'n_estimators': 996, 'max_depth': 5, 'colsample_bytree': 0.6677359458388749, 'scale_pos_weight': 4.6572814176456525, 'reg_lambda': 0.33972963689776187, 'reg_alpha': 0.9775847646985901, 'subsample': 0.6288573582938153}. Best is trial 1 with value: 0.8430281096886062.\u001b[0m\n"
          ]
        },
        {
          "output_type": "stream",
          "name": "stdout",
          "text": [
            "[0]\tvalidation_0-auc:0.765171\tvalidation_1-auc:0.652376\n",
            "Multiple eval metrics have been passed: 'validation_1-auc' will be used for early stopping.\n",
            "\n",
            "Will train until validation_1-auc hasn't improved in 100 rounds.\n",
            "[100]\tvalidation_0-auc:0.97216\tvalidation_1-auc:0.825853\n",
            "Stopping. Best iteration:\n",
            "[42]\tvalidation_0-auc:0.942757\tvalidation_1-auc:0.837673\n",
            "\n"
          ]
        },
        {
          "output_type": "stream",
          "name": "stderr",
          "text": [
            "\u001b[32m[I 2023-02-14 20:23:51,567]\u001b[0m Trial 24 finished with value: 0.8376732536747346 and parameters: {'learning_rate': 0.07350023711729534, 'n_estimators': 664, 'max_depth': 6, 'colsample_bytree': 0.5224330674029793, 'scale_pos_weight': 3.524511668896025, 'reg_lambda': 0.41695737575790426, 'reg_alpha': 0.13373431363740937, 'subsample': 0.5901953501019538}. Best is trial 1 with value: 0.8430281096886062.\u001b[0m\n"
          ]
        },
        {
          "output_type": "stream",
          "name": "stdout",
          "text": [
            "[0]\tvalidation_0-auc:0.822962\tvalidation_1-auc:0.730212\n",
            "Multiple eval metrics have been passed: 'validation_1-auc' will be used for early stopping.\n",
            "\n",
            "Will train until validation_1-auc hasn't improved in 100 rounds.\n",
            "[100]\tvalidation_0-auc:0.977678\tvalidation_1-auc:0.823046\n",
            "Stopping. Best iteration:\n",
            "[30]\tvalidation_0-auc:0.932639\tvalidation_1-auc:0.843183\n",
            "\n"
          ]
        },
        {
          "output_type": "stream",
          "name": "stderr",
          "text": [
            "\u001b[32m[I 2023-02-14 20:23:54,666]\u001b[0m Trial 25 finished with value: 0.8431829944128169 and parameters: {'learning_rate': 0.10967457415771312, 'n_estimators': 1224, 'max_depth': 5, 'colsample_bytree': 0.7352556022012098, 'scale_pos_weight': 5.757992006744682, 'reg_lambda': 0.17011273674139785, 'reg_alpha': 0.5336247988073497, 'subsample': 0.5413205420764609}. Best is trial 25 with value: 0.8431829944128169.\u001b[0m\n"
          ]
        },
        {
          "output_type": "stream",
          "name": "stdout",
          "text": [
            "[0]\tvalidation_0-auc:0.818127\tvalidation_1-auc:0.800644\n",
            "Multiple eval metrics have been passed: 'validation_1-auc' will be used for early stopping.\n",
            "\n",
            "Will train until validation_1-auc hasn't improved in 100 rounds.\n",
            "[100]\tvalidation_0-auc:0.955064\tvalidation_1-auc:0.818313\n",
            "Stopping. Best iteration:\n",
            "[6]\tvalidation_0-auc:0.87505\tvalidation_1-auc:0.84676\n",
            "\n"
          ]
        },
        {
          "output_type": "stream",
          "name": "stderr",
          "text": [
            "\u001b[32m[I 2023-02-14 20:23:56,456]\u001b[0m Trial 26 finished with value: 0.8467604537744652 and parameters: {'learning_rate': 0.11441762221985025, 'n_estimators': 1233, 'max_depth': 4, 'colsample_bytree': 0.7365679396128375, 'scale_pos_weight': 5.811188718608187, 'reg_lambda': 0.03477346853472013, 'reg_alpha': 0.5019241998412819, 'subsample': 0.5413497375916007}. Best is trial 26 with value: 0.8467604537744652.\u001b[0m\n"
          ]
        },
        {
          "output_type": "stream",
          "name": "stdout",
          "text": [
            "[0]\tvalidation_0-auc:0.838102\tvalidation_1-auc:0.800779\n",
            "Multiple eval metrics have been passed: 'validation_1-auc' will be used for early stopping.\n",
            "\n",
            "Will train until validation_1-auc hasn't improved in 100 rounds.\n",
            "[100]\tvalidation_0-auc:0.966518\tvalidation_1-auc:0.822362\n",
            "Stopping. Best iteration:\n",
            "[6]\tvalidation_0-auc:0.877033\tvalidation_1-auc:0.841164\n",
            "\n"
          ]
        },
        {
          "output_type": "stream",
          "name": "stderr",
          "text": [
            "\u001b[32m[I 2023-02-14 20:23:58,332]\u001b[0m Trial 27 finished with value: 0.8411638264837766 and parameters: {'learning_rate': 0.1476803002445843, 'n_estimators': 1261, 'max_depth': 4, 'colsample_bytree': 0.8201815308860141, 'scale_pos_weight': 5.9027917975857935, 'reg_lambda': 0.023758582597226352, 'reg_alpha': 0.4563763695662328, 'subsample': 0.5393744476238436}. Best is trial 26 with value: 0.8467604537744652.\u001b[0m\n"
          ]
        },
        {
          "output_type": "stream",
          "name": "stdout",
          "text": [
            "[0]\tvalidation_0-auc:0.818967\tvalidation_1-auc:0.802569\n",
            "Multiple eval metrics have been passed: 'validation_1-auc' will be used for early stopping.\n",
            "\n",
            "Will train until validation_1-auc hasn't improved in 100 rounds.\n",
            "[100]\tvalidation_0-auc:0.956739\tvalidation_1-auc:0.822158\n",
            "Stopping. Best iteration:\n",
            "[6]\tvalidation_0-auc:0.875545\tvalidation_1-auc:0.839171\n",
            "\n"
          ]
        },
        {
          "output_type": "stream",
          "name": "stderr",
          "text": [
            "\u001b[32m[I 2023-02-14 20:24:00,126]\u001b[0m Trial 28 finished with value: 0.8391711022881385 and parameters: {'learning_rate': 0.11845501248801024, 'n_estimators': 1696, 'max_depth': 4, 'colsample_bytree': 0.7479325456407209, 'scale_pos_weight': 6.828291423321961, 'reg_lambda': 0.07406892476046742, 'reg_alpha': 0.5353491265310103, 'subsample': 0.5355390036837607}. Best is trial 26 with value: 0.8467604537744652.\u001b[0m\n"
          ]
        },
        {
          "output_type": "stream",
          "name": "stdout",
          "text": [
            "[0]\tvalidation_0-auc:0.820451\tvalidation_1-auc:0.77723\n",
            "Multiple eval metrics have been passed: 'validation_1-auc' will be used for early stopping.\n",
            "\n",
            "Will train until validation_1-auc hasn't improved in 100 rounds.\n",
            "[100]\tvalidation_0-auc:0.978865\tvalidation_1-auc:0.817833\n",
            "Stopping. Best iteration:\n",
            "[18]\tvalidation_0-auc:0.916276\tvalidation_1-auc:0.833497\n",
            "\n"
          ]
        },
        {
          "output_type": "stream",
          "name": "stderr",
          "text": [
            "\u001b[32m[I 2023-02-14 20:24:02,466]\u001b[0m Trial 29 finished with value: 0.8334970326353446 and parameters: {'learning_rate': 0.11723590792976271, 'n_estimators': 1969, 'max_depth': 5, 'colsample_bytree': 0.732750791259879, 'scale_pos_weight': 5.861007106457835, 'reg_lambda': 0.1639815431822773, 'reg_alpha': 0.3748427481636164, 'subsample': 0.560432302801476}. Best is trial 26 with value: 0.8467604537744652.\u001b[0m\n"
          ]
        },
        {
          "output_type": "stream",
          "name": "stdout",
          "text": [
            "Best Score: 0.8467604537744652\n",
            "Best trial {'learning_rate': 0.11441762221985025, 'n_estimators': 1233, 'max_depth': 4, 'colsample_bytree': 0.7365679396128375, 'scale_pos_weight': 5.811188718608187, 'reg_lambda': 0.03477346853472013, 'reg_alpha': 0.5019241998412819, 'subsample': 0.5413497375916007}\n"
          ]
        }
      ]
    },
    {
      "cell_type": "code",
      "source": [
        "params = study.best_params\n",
        "\n",
        "params[\"random_state\"] = 2\n",
        "params['objective'] = 'binary:logistic'\n",
        "params['eval_metric'] = 'auc'"
      ],
      "metadata": {
        "id": "ArOUVeU7zZKz"
      },
      "execution_count": 80,
      "outputs": []
    },
    {
      "cell_type": "code",
      "source": [
        "xgc1 = XGBClassifier(**params)\n",
        "\n",
        "xgc1.fit(X_train, y_train,\n",
        "        eval_set=[(X_train, y_train), (X_val,y_val)],\n",
        "        early_stopping_rounds=100,\n",
        "        verbose=100)"
      ],
      "metadata": {
        "colab": {
          "base_uri": "https://localhost:8080/"
        },
        "id": "qg7GjMbp7s9l",
        "outputId": "3ae901ab-9ddc-4088-85ba-0ca45a4863c9"
      },
      "execution_count": 81,
      "outputs": [
        {
          "output_type": "stream",
          "name": "stdout",
          "text": [
            "[0]\tvalidation_0-auc:0.818127\tvalidation_1-auc:0.800644\n",
            "Multiple eval metrics have been passed: 'validation_1-auc' will be used for early stopping.\n",
            "\n",
            "Will train until validation_1-auc hasn't improved in 100 rounds.\n",
            "[100]\tvalidation_0-auc:0.955064\tvalidation_1-auc:0.818313\n",
            "Stopping. Best iteration:\n",
            "[6]\tvalidation_0-auc:0.87505\tvalidation_1-auc:0.84676\n",
            "\n"
          ]
        },
        {
          "output_type": "execute_result",
          "data": {
            "text/plain": [
              "XGBClassifier(colsample_bytree=0.7365679396128375, eval_metric='auc',\n",
              "              learning_rate=0.11441762221985025, max_depth=4, n_estimators=1233,\n",
              "              random_state=2, reg_alpha=0.5019241998412819,\n",
              "              reg_lambda=0.03477346853472013,\n",
              "              scale_pos_weight=5.811188718608187, subsample=0.5413497375916007)"
            ]
          },
          "metadata": {},
          "execution_count": 81
        }
      ]
    },
    {
      "cell_type": "code",
      "source": [
        "xgc_pred = xgc1.predict(X_val)\n",
        "xgc_prob = xgc1.predict_proba(X_val)[:,1]\n",
        "\n",
        "print('XGBClassifier_val')\n",
        "print('roc_auc_score :', roc_auc_score(y_val, xgc_prob), '\\n')\n",
        "print('classification_report', '\\n', classification_report(y_val, xgc_pred))"
      ],
      "metadata": {
        "colab": {
          "base_uri": "https://localhost:8080/"
        },
        "id": "eaM5dXH91947",
        "outputId": "a3e7c66a-6dbb-48b3-fc72-d2748d69367b"
      },
      "execution_count": 82,
      "outputs": [
        {
          "output_type": "stream",
          "name": "stdout",
          "text": [
            "XGBClassifier_val\n",
            "roc_auc_score : 0.8467604537744652 \n",
            "\n",
            "classification_report \n",
            "               precision    recall  f1-score   support\n",
            "\n",
            "           0       0.98      0.97      0.98      2729\n",
            "           1       0.35      0.43      0.39        97\n",
            "\n",
            "    accuracy                           0.95      2826\n",
            "   macro avg       0.67      0.70      0.68      2826\n",
            "weighted avg       0.96      0.95      0.96      2826\n",
            "\n"
          ]
        }
      ]
    },
    {
      "cell_type": "code",
      "source": [
        "xgc_pred = xgc1.predict(X_test)\n",
        "xgc_prob = xgc1.predict_proba(X_test)[:,1]\n",
        "\n",
        "print('XGBClassifier_test')\n",
        "print('roc_auc_score :', roc_auc_score(y_test, xgc_prob), '\\n')\n",
        "print('classification_report', '\\n', classification_report(y_test, xgc_pred))"
      ],
      "metadata": {
        "colab": {
          "base_uri": "https://localhost:8080/"
        },
        "id": "QjOQZW4Z6zj9",
        "outputId": "d4fac0f3-85fc-4649-c294-f5cc95b4427c"
      },
      "execution_count": 83,
      "outputs": [
        {
          "output_type": "stream",
          "name": "stdout",
          "text": [
            "XGBClassifier_test\n",
            "roc_auc_score : 0.8163065047209926 \n",
            "\n",
            "classification_report \n",
            "               precision    recall  f1-score   support\n",
            "\n",
            "           0       0.98      0.98      0.98      3411\n",
            "           1       0.34      0.36      0.35       121\n",
            "\n",
            "    accuracy                           0.95      3532\n",
            "   macro avg       0.66      0.67      0.66      3532\n",
            "weighted avg       0.96      0.95      0.95      3532\n",
            "\n"
          ]
        }
      ]
    },
    {
      "cell_type": "code",
      "source": [
        "def objective(trial):\n",
        "  param = {\n",
        "      \"random_state\" : 2,\n",
        "      \"objective\" : \"binary:logistic\",\n",
        "      \"eval_metric\" : \"auc\",\n",
        "      \"learning_rate\" : trial.suggest_float(\"learning_rate\", 0.01, 0.3),\n",
        "      \"n_estimators\":trial.suggest_int(\"n_estimators\", 100, 2000),\n",
        "      \"max_depth\":trial.suggest_int(\"max_depth\", 4, 10),\n",
        "      \"colsample_bytree\": trial.suggest_float(\"colsample_bytree\", 0.4, 1.0),\n",
        "      \"scale_pos_weight\": trial.suggest_float(\"scale_pos_weight\", 1.0, 8.0),\n",
        "      \"reg_lambda\": trial.suggest_float(\"reg_lambda\", 1e-2, 1),\n",
        "      \"reg_alpha\": trial.suggest_float(\"reg_alpha\", 1e-2, 1),\n",
        "      'subsample': trial.suggest_float('subsample', 0.5, 1.0),\n",
        "  }\n",
        "\n",
        "  xgc = XGBClassifier(**param)\n",
        "  xgc.fit(X_train, y_train,\n",
        "          eval_set=[(X_train, y_train), (X_val,y_val)],\n",
        "          early_stopping_rounds=100,\n",
        "          verbose=100)\n",
        "  xgc_prob = xgc.predict_proba(X_val)[:,1]\n",
        "  roc_auc = roc_auc_score(y_val, xgc_prob)\n",
        "  xgc_pred = xgc.predict(X_val)\n",
        "  f1 = f1_score(y_val, xgc_pred)\n",
        "\n",
        "  return f1\n",
        "\n",
        "sampler = TPESampler(seed=42)\n",
        "study = optuna.create_study(\n",
        "    study_name = 'xgc_parameter_opt',\n",
        "    direction = 'maximize',\n",
        "    sampler = sampler,\n",
        ")\n",
        "study.optimize(objective, n_trials=30)\n",
        "print(\"Best Score:\",study.best_value)\n",
        "print(\"Best trial\",study.best_trial.params)"
      ],
      "metadata": {
        "colab": {
          "base_uri": "https://localhost:8080/"
        },
        "outputId": "773b5bba-5a34-49ca-d5f7-422d70e41ab0",
        "id": "7ngjE1bwaDAH"
      },
      "execution_count": 84,
      "outputs": [
        {
          "output_type": "stream",
          "name": "stderr",
          "text": [
            "\u001b[32m[I 2023-02-14 20:24:04,741]\u001b[0m A new study created in memory with name: xgc_parameter_opt\u001b[0m\n"
          ]
        },
        {
          "output_type": "stream",
          "name": "stdout",
          "text": [
            "[0]\tvalidation_0-auc:0.89006\tvalidation_1-auc:0.779318\n",
            "Multiple eval metrics have been passed: 'validation_1-auc' will be used for early stopping.\n",
            "\n",
            "Will train until validation_1-auc hasn't improved in 100 rounds.\n",
            "[100]\tvalidation_0-auc:0.999743\tvalidation_1-auc:0.805518\n",
            "Stopping. Best iteration:\n",
            "[28]\tvalidation_0-auc:0.989876\tvalidation_1-auc:0.822978\n",
            "\n"
          ]
        },
        {
          "output_type": "stream",
          "name": "stderr",
          "text": [
            "\u001b[32m[I 2023-02-14 20:24:08,985]\u001b[0m Trial 0 finished with value: 0.3333333333333333 and parameters: {'learning_rate': 0.11861663446573512, 'n_estimators': 1907, 'max_depth': 9, 'colsample_bytree': 0.759195090518222, 'scale_pos_weight': 2.0921304830970557, 'reg_lambda': 0.16443457513284063, 'reg_alpha': 0.06750277604651747, 'subsample': 0.9330880728874675}. Best is trial 0 with value: 0.3333333333333333.\u001b[0m\n"
          ]
        },
        {
          "output_type": "stream",
          "name": "stdout",
          "text": [
            "[0]\tvalidation_0-auc:0.843736\tvalidation_1-auc:0.804685\n",
            "Multiple eval metrics have been passed: 'validation_1-auc' will be used for early stopping.\n",
            "\n",
            "Will train until validation_1-auc hasn't improved in 100 rounds.\n",
            "[100]\tvalidation_0-auc:0.972848\tvalidation_1-auc:0.817553\n",
            "Stopping. Best iteration:\n",
            "[14]\tvalidation_0-auc:0.897495\tvalidation_1-auc:0.843028\n",
            "\n"
          ]
        },
        {
          "output_type": "stream",
          "name": "stderr",
          "text": [
            "\u001b[32m[I 2023-02-14 20:24:11,351]\u001b[0m Trial 1 finished with value: 0.3629032258064516 and parameters: {'learning_rate': 0.18432335340553055, 'n_estimators': 1446, 'max_depth': 4, 'colsample_bytree': 0.9819459112971965, 'scale_pos_weight': 6.827098485602952, 'reg_lambda': 0.2202157195714934, 'reg_alpha': 0.19000671753502962, 'subsample': 0.5917022549267169}. Best is trial 1 with value: 0.3629032258064516.\u001b[0m\n"
          ]
        },
        {
          "output_type": "stream",
          "name": "stdout",
          "text": [
            "[0]\tvalidation_0-auc:0.852411\tvalidation_1-auc:0.775517\n",
            "Multiple eval metrics have been passed: 'validation_1-auc' will be used for early stopping.\n",
            "\n",
            "Will train until validation_1-auc hasn't improved in 100 rounds.\n",
            "[100]\tvalidation_0-auc:0.994461\tvalidation_1-auc:0.811479\n",
            "Stopping. Best iteration:\n",
            "[8]\tvalidation_0-auc:0.93803\tvalidation_1-auc:0.841442\n",
            "\n"
          ]
        },
        {
          "output_type": "stream",
          "name": "stderr",
          "text": [
            "\u001b[32m[I 2023-02-14 20:24:14,030]\u001b[0m Trial 2 finished with value: 0.3508771929824561 and parameters: {'learning_rate': 0.09823025045826593, 'n_estimators': 1097, 'max_depth': 7, 'colsample_bytree': 0.5747374841188252, 'scale_pos_weight': 5.282970263056656, 'reg_lambda': 0.14809892204552141, 'reg_alpha': 0.29922320204986597, 'subsample': 0.6831809216468459}. Best is trial 1 with value: 0.3629032258064516.\u001b[0m\n"
          ]
        },
        {
          "output_type": "stream",
          "name": "stdout",
          "text": [
            "[0]\tvalidation_0-auc:0.822946\tvalidation_1-auc:0.75488\n",
            "Multiple eval metrics have been passed: 'validation_1-auc' will be used for early stopping.\n",
            "\n",
            "Will train until validation_1-auc hasn't improved in 100 rounds.\n",
            "[100]\tvalidation_0-auc:0.9807\tvalidation_1-auc:0.818509\n",
            "Stopping. Best iteration:\n",
            "[30]\tvalidation_0-auc:0.939451\tvalidation_1-auc:0.832572\n",
            "\n"
          ]
        },
        {
          "output_type": "stream",
          "name": "stderr",
          "text": [
            "\u001b[32m[I 2023-02-14 20:24:16,481]\u001b[0m Trial 3 finished with value: 0.41545893719806765 and parameters: {'learning_rate': 0.1422602954229404, 'n_estimators': 1592, 'max_depth': 5, 'colsample_bytree': 0.708540663048167, 'scale_pos_weight': 5.146901982034297, 'reg_lambda': 0.05598590859279775, 'reg_alpha': 0.611469403382424, 'subsample': 0.5852620618436457}. Best is trial 3 with value: 0.41545893719806765.\u001b[0m\n"
          ]
        },
        {
          "output_type": "stream",
          "name": "stdout",
          "text": [
            "[0]\tvalidation_0-auc:0.837021\tvalidation_1-auc:0.775674\n",
            "Multiple eval metrics have been passed: 'validation_1-auc' will be used for early stopping.\n",
            "\n",
            "Will train until validation_1-auc hasn't improved in 100 rounds.\n",
            "[100]\tvalidation_0-auc:0.992005\tvalidation_1-auc:0.818775\n",
            "Stopping. Best iteration:\n",
            "[20]\tvalidation_0-auc:0.954252\tvalidation_1-auc:0.829194\n",
            "\n"
          ]
        },
        {
          "output_type": "stream",
          "name": "stderr",
          "text": [
            "\u001b[32m[I 2023-02-14 20:24:21,942]\u001b[0m Trial 4 finished with value: 0.33939393939393936 and parameters: {'learning_rate': 0.02886496196573106, 'n_estimators': 1903, 'max_depth': 10, 'colsample_bytree': 0.8850384088698766, 'scale_pos_weight': 3.132296384213595, 'reg_lambda': 0.10669539286632003, 'reg_alpha': 0.6873906962470353, 'subsample': 0.7200762468698007}. Best is trial 3 with value: 0.41545893719806765.\u001b[0m\n"
          ]
        },
        {
          "output_type": "stream",
          "name": "stdout",
          "text": [
            "[0]\tvalidation_0-auc:0.831023\tvalidation_1-auc:0.81577\n",
            "Multiple eval metrics have been passed: 'validation_1-auc' will be used for early stopping.\n",
            "\n",
            "Will train until validation_1-auc hasn't improved in 100 rounds.\n",
            "[100]\tvalidation_0-auc:0.914812\tvalidation_1-auc:0.837482\n",
            "[200]\tvalidation_0-auc:0.942541\tvalidation_1-auc:0.826945\n",
            "Stopping. Best iteration:\n",
            "[101]\tvalidation_0-auc:0.915236\tvalidation_1-auc:0.838094\n",
            "\n"
          ]
        },
        {
          "output_type": "stream",
          "name": "stderr",
          "text": [
            "\u001b[32m[I 2023-02-14 20:24:25,241]\u001b[0m Trial 5 finished with value: 0.35955056179775285 and parameters: {'learning_rate': 0.045391088104985856, 'n_estimators': 1041, 'max_depth': 4, 'colsample_bytree': 0.9455922412472693, 'scale_pos_weight': 2.8114598712001184, 'reg_lambda': 0.6658970615104421, 'reg_alpha': 0.31859396532851686, 'subsample': 0.7600340105889054}. Best is trial 3 with value: 0.41545893719806765.\u001b[0m\n"
          ]
        },
        {
          "output_type": "stream",
          "name": "stdout",
          "text": [
            "[0]\tvalidation_0-auc:0.931157\tvalidation_1-auc:0.779945\n",
            "Multiple eval metrics have been passed: 'validation_1-auc' will be used for early stopping.\n",
            "\n",
            "Will train until validation_1-auc hasn't improved in 100 rounds.\n",
            "[100]\tvalidation_0-auc:0.999981\tvalidation_1-auc:0.79086\n",
            "Stopping. Best iteration:\n",
            "[10]\tvalidation_0-auc:0.991727\tvalidation_1-auc:0.808396\n",
            "\n"
          ]
        },
        {
          "output_type": "stream",
          "name": "stderr",
          "text": [
            "\u001b[32m[I 2023-02-14 20:24:29,025]\u001b[0m Trial 6 finished with value: 0.32142857142857145 and parameters: {'learning_rate': 0.1685459810095511, 'n_estimators': 451, 'max_depth': 10, 'colsample_bytree': 0.8650796940166687, 'scale_pos_weight': 7.576492590949324, 'reg_lambda': 0.8958790769233723, 'reg_alpha': 0.6019209790229743, 'subsample': 0.9609371175115584}. Best is trial 3 with value: 0.41545893719806765.\u001b[0m\n"
          ]
        },
        {
          "output_type": "stream",
          "name": "stdout",
          "text": [
            "[0]\tvalidation_0-auc:0.804779\tvalidation_1-auc:0.794181\n",
            "Multiple eval metrics have been passed: 'validation_1-auc' will be used for early stopping.\n",
            "\n",
            "Will train until validation_1-auc hasn't improved in 100 rounds.\n",
            "[100]\tvalidation_0-auc:0.901744\tvalidation_1-auc:0.832388\n",
            "Stopping. Best iteration:\n",
            "[10]\tvalidation_0-auc:0.874437\tvalidation_1-auc:0.838102\n",
            "\n"
          ]
        },
        {
          "output_type": "stream",
          "name": "stderr",
          "text": [
            "\u001b[32m[I 2023-02-14 20:24:31,170]\u001b[0m Trial 7 finished with value: 0.3225806451612903 and parameters: {'learning_rate': 0.03566282559505665, 'n_estimators': 472, 'max_depth': 4, 'colsample_bytree': 0.5951981984579586, 'scale_pos_weight': 3.720741027826374, 'reg_lambda': 0.27863554145615693, 'reg_alpha': 0.83045013406041, 'subsample': 0.6783766633467947}. Best is trial 3 with value: 0.41545893719806765.\u001b[0m\n"
          ]
        },
        {
          "output_type": "stream",
          "name": "stdout",
          "text": [
            "[0]\tvalidation_0-auc:0.755971\tvalidation_1-auc:0.749538\n",
            "Multiple eval metrics have been passed: 'validation_1-auc' will be used for early stopping.\n",
            "\n",
            "Will train until validation_1-auc hasn't improved in 100 rounds.\n",
            "[100]\tvalidation_0-auc:0.929723\tvalidation_1-auc:0.82471\n",
            "Stopping. Best iteration:\n",
            "[42]\tvalidation_0-auc:0.895349\tvalidation_1-auc:0.83256\n",
            "\n"
          ]
        },
        {
          "output_type": "stream",
          "name": "stderr",
          "text": [
            "\u001b[32m[I 2023-02-14 20:24:34,058]\u001b[0m Trial 8 finished with value: 0.31818181818181823 and parameters: {'learning_rate': 0.09147100780934041, 'n_estimators': 1131, 'max_depth': 4, 'colsample_bytree': 0.8813181884524238, 'scale_pos_weight': 1.5218545057583959, 'reg_lambda': 0.9870180672345121, 'reg_alpha': 0.7745223216036908, 'subsample': 0.5993578407670862}. Best is trial 3 with value: 0.41545893719806765.\u001b[0m\n"
          ]
        },
        {
          "output_type": "stream",
          "name": "stdout",
          "text": [
            "[0]\tvalidation_0-auc:0.861795\tvalidation_1-auc:0.754984\n",
            "Multiple eval metrics have been passed: 'validation_1-auc' will be used for early stopping.\n",
            "\n",
            "Will train until validation_1-auc hasn't improved in 100 rounds.\n",
            "[100]\tvalidation_0-auc:0.974638\tvalidation_1-auc:0.822706\n",
            "Stopping. Best iteration:\n",
            "[47]\tvalidation_0-auc:0.966168\tvalidation_1-auc:0.829151\n",
            "\n"
          ]
        },
        {
          "output_type": "stream",
          "name": "stderr",
          "text": [
            "\u001b[32m[I 2023-02-14 20:24:38,780]\u001b[0m Trial 9 finished with value: 0.34196891191709844 and parameters: {'learning_rate': 0.011601413965844696, 'n_estimators': 1650, 'max_depth': 8, 'colsample_bytree': 0.8374043008245924, 'scale_pos_weight': 6.39889242680162, 'reg_lambda': 0.08330420521674946, 'reg_alpha': 0.3648810712588299, 'subsample': 0.5579345297625649}. Best is trial 3 with value: 0.41545893719806765.\u001b[0m\n"
          ]
        },
        {
          "output_type": "stream",
          "name": "stdout",
          "text": [
            "[0]\tvalidation_0-auc:0.751454\tvalidation_1-auc:0.662591\n",
            "Multiple eval metrics have been passed: 'validation_1-auc' will be used for early stopping.\n",
            "\n",
            "Will train until validation_1-auc hasn't improved in 100 rounds.\n",
            "[100]\tvalidation_0-auc:0.992705\tvalidation_1-auc:0.772017\n",
            "Stopping. Best iteration:\n",
            "[9]\tvalidation_0-auc:0.919238\tvalidation_1-auc:0.835191\n",
            "\n"
          ]
        },
        {
          "output_type": "stream",
          "name": "stderr",
          "text": [
            "\u001b[32m[I 2023-02-14 20:24:40,809]\u001b[0m Trial 10 finished with value: 0.37305699481865284 and parameters: {'learning_rate': 0.25131872283155765, 'n_estimators': 111, 'max_depth': 6, 'colsample_bytree': 0.4107771253688918, 'scale_pos_weight': 4.895827836711128, 'reg_lambda': 0.38649003064929244, 'reg_alpha': 0.9601730384859655, 'subsample': 0.5059262978058227}. Best is trial 3 with value: 0.41545893719806765.\u001b[0m\n"
          ]
        },
        {
          "output_type": "stream",
          "name": "stdout",
          "text": [
            "[0]\tvalidation_0-auc:0.74996\tvalidation_1-auc:0.664148\n",
            "Multiple eval metrics have been passed: 'validation_1-auc' will be used for early stopping.\n",
            "\n",
            "Will train until validation_1-auc hasn't improved in 100 rounds.\n",
            "[100]\tvalidation_0-auc:0.993018\tvalidation_1-auc:0.79429\n",
            "Stopping. Best iteration:\n",
            "[8]\tvalidation_0-auc:0.915125\tvalidation_1-auc:0.833631\n",
            "\n"
          ]
        },
        {
          "output_type": "stream",
          "name": "stderr",
          "text": [
            "\u001b[32m[I 2023-02-14 20:24:42,870]\u001b[0m Trial 11 finished with value: 0.32967032967032966 and parameters: {'learning_rate': 0.2536097612572972, 'n_estimators': 112, 'max_depth': 6, 'colsample_bytree': 0.4103116901613753, 'scale_pos_weight': 4.855115204196004, 'reg_lambda': 0.4086679230054197, 'reg_alpha': 0.9868084691308514, 'subsample': 0.5054537952122307}. Best is trial 3 with value: 0.41545893719806765.\u001b[0m\n"
          ]
        },
        {
          "output_type": "stream",
          "name": "stdout",
          "text": [
            "[0]\tvalidation_0-auc:0.837276\tvalidation_1-auc:0.765646\n",
            "Multiple eval metrics have been passed: 'validation_1-auc' will be used for early stopping.\n",
            "\n",
            "Will train until validation_1-auc hasn't improved in 100 rounds.\n",
            "[100]\tvalidation_0-auc:0.998019\tvalidation_1-auc:0.772489\n",
            "Stopping. Best iteration:\n",
            "[13]\tvalidation_0-auc:0.942673\tvalidation_1-auc:0.818579\n",
            "\n"
          ]
        },
        {
          "output_type": "stream",
          "name": "stderr",
          "text": [
            "\u001b[32m[I 2023-02-14 20:24:46,169]\u001b[0m Trial 12 finished with value: 0.393939393939394 and parameters: {'learning_rate': 0.29716287957484927, 'n_estimators': 739, 'max_depth': 6, 'colsample_bytree': 0.6780324383638742, 'scale_pos_weight': 4.567688670758697, 'reg_lambda': 0.3923563607471256, 'reg_alpha': 0.5006620626804895, 'subsample': 0.5240220444717115}. Best is trial 3 with value: 0.41545893719806765.\u001b[0m\n"
          ]
        },
        {
          "output_type": "stream",
          "name": "stdout",
          "text": [
            "[0]\tvalidation_0-auc:0.836763\tvalidation_1-auc:0.757235\n",
            "Multiple eval metrics have been passed: 'validation_1-auc' will be used for early stopping.\n",
            "\n",
            "Will train until validation_1-auc hasn't improved in 100 rounds.\n",
            "[100]\tvalidation_0-auc:0.998533\tvalidation_1-auc:0.785443\n",
            "Stopping. Best iteration:\n",
            "[2]\tvalidation_0-auc:0.887187\tvalidation_1-auc:0.829636\n",
            "\n"
          ]
        },
        {
          "output_type": "stream",
          "name": "stderr",
          "text": [
            "\u001b[32m[I 2023-02-14 20:24:48,411]\u001b[0m Trial 13 finished with value: 0.328042328042328 and parameters: {'learning_rate': 0.2954059075186708, 'n_estimators': 647, 'max_depth': 6, 'colsample_bytree': 0.6989608940690202, 'scale_pos_weight': 4.096939673989373, 'reg_lambda': 0.012319125815756789, 'reg_alpha': 0.5343407161908297, 'subsample': 0.6186292132314188}. Best is trial 3 with value: 0.41545893719806765.\u001b[0m\n"
          ]
        },
        {
          "output_type": "stream",
          "name": "stdout",
          "text": [
            "[0]\tvalidation_0-auc:0.834619\tvalidation_1-auc:0.761874\n",
            "Multiple eval metrics have been passed: 'validation_1-auc' will be used for early stopping.\n",
            "\n",
            "Will train until validation_1-auc hasn't improved in 100 rounds.\n",
            "[100]\tvalidation_0-auc:0.987611\tvalidation_1-auc:0.796123\n",
            "Stopping. Best iteration:\n",
            "[6]\tvalidation_0-auc:0.896775\tvalidation_1-auc:0.832978\n",
            "\n"
          ]
        },
        {
          "output_type": "stream",
          "name": "stderr",
          "text": [
            "\u001b[32m[I 2023-02-14 20:24:50,479]\u001b[0m Trial 14 finished with value: 0.3653846153846154 and parameters: {'learning_rate': 0.19738079456643653, 'n_estimators': 821, 'max_depth': 5, 'colsample_bytree': 0.7107632514260493, 'scale_pos_weight': 5.870563558007749, 'reg_lambda': 0.5508343618957978, 'reg_alpha': 0.46749361081711666, 'subsample': 0.5009609294299562}. Best is trial 3 with value: 0.41545893719806765.\u001b[0m\n"
          ]
        },
        {
          "output_type": "stream",
          "name": "stdout",
          "text": [
            "[0]\tvalidation_0-auc:0.850307\tvalidation_1-auc:0.783577\n",
            "Multiple eval metrics have been passed: 'validation_1-auc' will be used for early stopping.\n",
            "\n",
            "Will train until validation_1-auc hasn't improved in 100 rounds.\n",
            "[100]\tvalidation_0-auc:0.997024\tvalidation_1-auc:0.816964\n",
            "Stopping. Best iteration:\n",
            "[21]\tvalidation_0-auc:0.956293\tvalidation_1-auc:0.83365\n",
            "\n"
          ]
        },
        {
          "output_type": "stream",
          "name": "stderr",
          "text": [
            "\u001b[32m[I 2023-02-14 20:24:53,341]\u001b[0m Trial 15 finished with value: 0.3891891891891892 and parameters: {'learning_rate': 0.13633797296178612, 'n_estimators': 1425, 'max_depth': 7, 'colsample_bytree': 0.6309807418734319, 'scale_pos_weight': 4.226234998770491, 'reg_lambda': 0.2880972026827563, 'reg_alpha': 0.5937025168273015, 'subsample': 0.6395863958497239}. Best is trial 3 with value: 0.41545893719806765.\u001b[0m\n"
          ]
        },
        {
          "output_type": "stream",
          "name": "stdout",
          "text": [
            "[0]\tvalidation_0-auc:0.823525\tvalidation_1-auc:0.747194\n",
            "Multiple eval metrics have been passed: 'validation_1-auc' will be used for early stopping.\n",
            "\n",
            "Will train until validation_1-auc hasn't improved in 100 rounds.\n",
            "[100]\tvalidation_0-auc:0.990445\tvalidation_1-auc:0.800658\n",
            "Stopping. Best iteration:\n",
            "[5]\tvalidation_0-auc:0.893206\tvalidation_1-auc:0.834287\n",
            "\n"
          ]
        },
        {
          "output_type": "stream",
          "name": "stderr",
          "text": [
            "\u001b[32m[I 2023-02-14 20:24:55,464]\u001b[0m Trial 16 finished with value: 0.35897435897435903 and parameters: {'learning_rate': 0.2021299585602439, 'n_estimators': 1362, 'max_depth': 5, 'colsample_bytree': 0.7826648822829094, 'scale_pos_weight': 5.626413162928091, 'reg_lambda': 0.043537958807485067, 'reg_alpha': 0.43392125732212444, 'subsample': 0.5590103292537871}. Best is trial 3 with value: 0.41545893719806765.\u001b[0m\n"
          ]
        },
        {
          "output_type": "stream",
          "name": "stdout",
          "text": [
            "[0]\tvalidation_0-auc:0.83527\tvalidation_1-auc:0.811067\n",
            "Multiple eval metrics have been passed: 'validation_1-auc' will be used for early stopping.\n",
            "\n",
            "Will train until validation_1-auc hasn't improved in 100 rounds.\n",
            "[100]\tvalidation_0-auc:0.982775\tvalidation_1-auc:0.820606\n",
            "Stopping. Best iteration:\n",
            "[8]\tvalidation_0-auc:0.90646\tvalidation_1-auc:0.832749\n",
            "\n"
          ]
        },
        {
          "output_type": "stream",
          "name": "stderr",
          "text": [
            "\u001b[32m[I 2023-02-14 20:24:58,104]\u001b[0m Trial 17 finished with value: 0.3825136612021858 and parameters: {'learning_rate': 0.15056757426396258, 'n_estimators': 841, 'max_depth': 5, 'colsample_bytree': 0.6582873635246377, 'scale_pos_weight': 4.730659037356523, 'reg_lambda': 0.34813459398613733, 'reg_alpha': 0.6664971408093998, 'subsample': 0.7801606964819783}. Best is trial 3 with value: 0.41545893719806765.\u001b[0m\n"
          ]
        },
        {
          "output_type": "stream",
          "name": "stdout",
          "text": [
            "[0]\tvalidation_0-auc:0.767833\tvalidation_1-auc:0.655074\n",
            "Multiple eval metrics have been passed: 'validation_1-auc' will be used for early stopping.\n",
            "\n",
            "Will train until validation_1-auc hasn't improved in 100 rounds.\n",
            "[100]\tvalidation_0-auc:0.999249\tvalidation_1-auc:0.786773\n",
            "Stopping. Best iteration:\n",
            "[2]\tvalidation_0-auc:0.888936\tvalidation_1-auc:0.828662\n",
            "\n"
          ]
        },
        {
          "output_type": "stream",
          "name": "stderr",
          "text": [
            "\u001b[32m[I 2023-02-14 20:25:00,797]\u001b[0m Trial 18 finished with value: 0.2732919254658385 and parameters: {'learning_rate': 0.2353218597633355, 'n_estimators': 1581, 'max_depth': 8, 'colsample_bytree': 0.5407652486244989, 'scale_pos_weight': 3.641409059430414, 'reg_lambda': 0.5117084943029503, 'reg_alpha': 0.48827350910265177, 'subsample': 0.5640499050315665}. Best is trial 3 with value: 0.41545893719806765.\u001b[0m\n"
          ]
        },
        {
          "output_type": "stream",
          "name": "stdout",
          "text": [
            "[0]\tvalidation_0-auc:0.843759\tvalidation_1-auc:0.777247\n",
            "Multiple eval metrics have been passed: 'validation_1-auc' will be used for early stopping.\n",
            "\n",
            "Will train until validation_1-auc hasn't improved in 100 rounds.\n",
            "[100]\tvalidation_0-auc:0.999157\tvalidation_1-auc:0.787162\n",
            "Stopping. Best iteration:\n",
            "[8]\tvalidation_0-auc:0.934656\tvalidation_1-auc:0.822228\n",
            "\n"
          ]
        },
        {
          "output_type": "stream",
          "name": "stderr",
          "text": [
            "\u001b[32m[I 2023-02-14 20:25:03,246]\u001b[0m Trial 19 finished with value: 0.40196078431372545 and parameters: {'learning_rate': 0.29952130023536017, 'n_estimators': 1255, 'max_depth': 6, 'colsample_bytree': 0.7537374783057327, 'scale_pos_weight': 5.793753383222336, 'reg_lambda': 0.2248340297140193, 'reg_alpha': 0.547029519482701, 'subsample': 0.6373970224771964}. Best is trial 3 with value: 0.41545893719806765.\u001b[0m\n"
          ]
        },
        {
          "output_type": "stream",
          "name": "stdout",
          "text": [
            "[0]\tvalidation_0-auc:0.853598\tvalidation_1-auc:0.763704\n",
            "Multiple eval metrics have been passed: 'validation_1-auc' will be used for early stopping.\n",
            "\n",
            "Will train until validation_1-auc hasn't improved in 100 rounds.\n",
            "[100]\tvalidation_0-auc:0.999457\tvalidation_1-auc:0.800867\n",
            "Stopping. Best iteration:\n",
            "[12]\tvalidation_0-auc:0.963941\tvalidation_1-auc:0.824608\n",
            "\n"
          ]
        },
        {
          "output_type": "stream",
          "name": "stderr",
          "text": [
            "\u001b[32m[I 2023-02-14 20:25:06,165]\u001b[0m Trial 20 finished with value: 0.3692307692307693 and parameters: {'learning_rate': 0.21923059502310974, 'n_estimators': 1239, 'max_depth': 7, 'colsample_bytree': 0.759088985465142, 'scale_pos_weight': 6.2596229770245735, 'reg_lambda': 0.2059588842283444, 'reg_alpha': 0.7222939487756527, 'subsample': 0.6540770638836744}. Best is trial 3 with value: 0.41545893719806765.\u001b[0m\n"
          ]
        },
        {
          "output_type": "stream",
          "name": "stdout",
          "text": [
            "[0]\tvalidation_0-auc:0.832794\tvalidation_1-auc:0.751004\n",
            "Multiple eval metrics have been passed: 'validation_1-auc' will be used for early stopping.\n",
            "\n",
            "Will train until validation_1-auc hasn't improved in 100 rounds.\n",
            "[100]\tvalidation_0-auc:0.998735\tvalidation_1-auc:0.774745\n",
            "Stopping. Best iteration:\n",
            "[9]\tvalidation_0-auc:0.936218\tvalidation_1-auc:0.831946\n",
            "\n"
          ]
        },
        {
          "output_type": "stream",
          "name": "stderr",
          "text": [
            "\u001b[32m[I 2023-02-14 20:25:08,656]\u001b[0m Trial 21 finished with value: 0.371859296482412 and parameters: {'learning_rate': 0.2996099442696955, 'n_estimators': 1737, 'max_depth': 6, 'colsample_bytree': 0.7081388283526165, 'scale_pos_weight': 5.383091862031077, 'reg_lambda': 0.014910348422491199, 'reg_alpha': 0.5697597306745251, 'subsample': 0.5502221581539919}. Best is trial 3 with value: 0.41545893719806765.\u001b[0m\n"
          ]
        },
        {
          "output_type": "stream",
          "name": "stdout",
          "text": [
            "[0]\tvalidation_0-auc:0.8323\tvalidation_1-auc:0.780336\n",
            "Multiple eval metrics have been passed: 'validation_1-auc' will be used for early stopping.\n",
            "\n",
            "Will train until validation_1-auc hasn't improved in 100 rounds.\n",
            "[100]\tvalidation_0-auc:0.994397\tvalidation_1-auc:0.802888\n",
            "Stopping. Best iteration:\n",
            "[9]\tvalidation_0-auc:0.917855\tvalidation_1-auc:0.829538\n",
            "\n"
          ]
        },
        {
          "output_type": "stream",
          "name": "stderr",
          "text": [
            "\u001b[32m[I 2023-02-14 20:25:11,724]\u001b[0m Trial 22 finished with value: 0.36815920398009944 and parameters: {'learning_rate': 0.275396921414608, 'n_estimators': 789, 'max_depth': 5, 'colsample_bytree': 0.7779125385852156, 'scale_pos_weight': 4.684062295041804, 'reg_lambda': 0.21258040124071675, 'reg_alpha': 0.42125901792425624, 'subsample': 0.6227512423153221}. Best is trial 3 with value: 0.41545893719806765.\u001b[0m\n"
          ]
        },
        {
          "output_type": "stream",
          "name": "stdout",
          "text": [
            "[0]\tvalidation_0-auc:0.837016\tvalidation_1-auc:0.777931\n",
            "Multiple eval metrics have been passed: 'validation_1-auc' will be used for early stopping.\n",
            "\n",
            "Will train until validation_1-auc hasn't improved in 100 rounds.\n",
            "[100]\tvalidation_0-auc:0.998029\tvalidation_1-auc:0.791559\n",
            "Stopping. Best iteration:\n",
            "[5]\tvalidation_0-auc:0.913633\tvalidation_1-auc:0.844781\n",
            "\n"
          ]
        },
        {
          "output_type": "stream",
          "name": "stderr",
          "text": [
            "\u001b[32m[I 2023-02-14 20:25:13,983]\u001b[0m Trial 23 finished with value: 0.3756345177664974 and parameters: {'learning_rate': 0.27086541044952644, 'n_estimators': 1276, 'max_depth': 6, 'colsample_bytree': 0.6629171937658396, 'scale_pos_weight': 5.52140187099047, 'reg_lambda': 0.11392210544661158, 'reg_alpha': 0.5182967447976884, 'subsample': 0.5959325995799751}. Best is trial 3 with value: 0.41545893719806765.\u001b[0m\n"
          ]
        },
        {
          "output_type": "stream",
          "name": "stdout",
          "text": [
            "[0]\tvalidation_0-auc:0.843163\tvalidation_1-auc:0.745415\n",
            "Multiple eval metrics have been passed: 'validation_1-auc' will be used for early stopping.\n",
            "\n",
            "Will train until validation_1-auc hasn't improved in 100 rounds.\n",
            "[100]\tvalidation_0-auc:0.999478\tvalidation_1-auc:0.788937\n",
            "Stopping. Best iteration:\n",
            "[13]\tvalidation_0-auc:0.964443\tvalidation_1-auc:0.830651\n",
            "\n"
          ]
        },
        {
          "output_type": "stream",
          "name": "stderr",
          "text": [
            "\u001b[32m[I 2023-02-14 20:25:17,059]\u001b[0m Trial 24 finished with value: 0.38181818181818183 and parameters: {'learning_rate': 0.23217768323128665, 'n_estimators': 947, 'max_depth': 7, 'colsample_bytree': 0.8139566329840935, 'scale_pos_weight': 6.9258274349090705, 'reg_lambda': 0.2887376316109317, 'reg_alpha': 0.6441248320319739, 'subsample': 0.5408081926387531}. Best is trial 3 with value: 0.41545893719806765.\u001b[0m\n"
          ]
        },
        {
          "output_type": "stream",
          "name": "stdout",
          "text": [
            "[0]\tvalidation_0-auc:0.833299\tvalidation_1-auc:0.781286\n",
            "Multiple eval metrics have been passed: 'validation_1-auc' will be used for early stopping.\n",
            "\n",
            "Will train until validation_1-auc hasn't improved in 100 rounds.\n",
            "[100]\tvalidation_0-auc:0.994659\tvalidation_1-auc:0.795186\n",
            "Stopping. Best iteration:\n",
            "[19]\tvalidation_0-auc:0.9412\tvalidation_1-auc:0.828078\n",
            "\n"
          ]
        },
        {
          "output_type": "stream",
          "name": "stderr",
          "text": [
            "\u001b[32m[I 2023-02-14 20:25:19,330]\u001b[0m Trial 25 finished with value: 0.3508771929824562 and parameters: {'learning_rate': 0.2740017265401678, 'n_estimators': 1569, 'max_depth': 5, 'colsample_bytree': 0.7426219580435219, 'scale_pos_weight': 5.944241727121804, 'reg_lambda': 0.12099142478961622, 'reg_alpha': 0.5541599769138247, 'subsample': 0.6534504812362659}. Best is trial 3 with value: 0.41545893719806765.\u001b[0m\n"
          ]
        },
        {
          "output_type": "stream",
          "name": "stdout",
          "text": [
            "[0]\tvalidation_0-auc:0.843225\tvalidation_1-auc:0.778075\n",
            "Multiple eval metrics have been passed: 'validation_1-auc' will be used for early stopping.\n",
            "\n",
            "Will train until validation_1-auc hasn't improved in 100 rounds.\n",
            "[100]\tvalidation_0-auc:0.994584\tvalidation_1-auc:0.816851\n",
            "Stopping. Best iteration:\n",
            "[9]\tvalidation_0-auc:0.925949\tvalidation_1-auc:0.83861\n",
            "\n"
          ]
        },
        {
          "output_type": "stream",
          "name": "stderr",
          "text": [
            "\u001b[32m[I 2023-02-14 20:25:21,989]\u001b[0m Trial 26 finished with value: 0.39153439153439157 and parameters: {'learning_rate': 0.1593767305976078, 'n_estimators': 650, 'max_depth': 6, 'colsample_bytree': 0.7987678716789159, 'scale_pos_weight': 5.149378118570334, 'reg_lambda': 0.42541804633422353, 'reg_alpha': 0.6149119270638637, 'subsample': 0.5974027371364073}. Best is trial 3 with value: 0.41545893719806765.\u001b[0m\n"
          ]
        },
        {
          "output_type": "stream",
          "name": "stdout",
          "text": [
            "[0]\tvalidation_0-auc:0.853028\tvalidation_1-auc:0.764804\n",
            "Multiple eval metrics have been passed: 'validation_1-auc' will be used for early stopping.\n",
            "\n",
            "Will train until validation_1-auc hasn't improved in 100 rounds.\n",
            "[100]\tvalidation_0-auc:0.99968\tvalidation_1-auc:0.797339\n",
            "Stopping. Best iteration:\n",
            "[49]\tvalidation_0-auc:0.997533\tvalidation_1-auc:0.808732\n",
            "\n"
          ]
        },
        {
          "output_type": "stream",
          "name": "stderr",
          "text": [
            "\u001b[32m[I 2023-02-14 20:25:27,001]\u001b[0m Trial 27 finished with value: 0.27322404371584696 and parameters: {'learning_rate': 0.21471322298661777, 'n_estimators': 1773, 'max_depth': 8, 'colsample_bytree': 0.7146586150968411, 'scale_pos_weight': 4.3461895634737076, 'reg_lambda': 0.23504061505626062, 'reg_alpha': 0.42536379120728407, 'subsample': 0.5346938683106505}. Best is trial 3 with value: 0.41545893719806765.\u001b[0m\n"
          ]
        },
        {
          "output_type": "stream",
          "name": "stdout",
          "text": [
            "[0]\tvalidation_0-auc:0.83334\tvalidation_1-auc:0.786327\n",
            "Multiple eval metrics have been passed: 'validation_1-auc' will be used for early stopping.\n",
            "\n",
            "Will train until validation_1-auc hasn't improved in 100 rounds.\n",
            "[100]\tvalidation_0-auc:0.985034\tvalidation_1-auc:0.811766\n",
            "Stopping. Best iteration:\n",
            "[6]\tvalidation_0-auc:0.895351\tvalidation_1-auc:0.836192\n",
            "\n"
          ]
        },
        {
          "output_type": "stream",
          "name": "stderr",
          "text": [
            "\u001b[32m[I 2023-02-14 20:25:29,003]\u001b[0m Trial 28 finished with value: 0.3897435897435898 and parameters: {'learning_rate': 0.18387658309131735, 'n_estimators': 1216, 'max_depth': 5, 'colsample_bytree': 0.6662979746110538, 'scale_pos_weight': 4.9788039086661025, 'reg_lambda': 0.35486383396851423, 'reg_alpha': 0.5126779364780978, 'subsample': 0.5759579582991663}. Best is trial 3 with value: 0.41545893719806765.\u001b[0m\n"
          ]
        },
        {
          "output_type": "stream",
          "name": "stdout",
          "text": [
            "[0]\tvalidation_0-auc:0.867333\tvalidation_1-auc:0.767558\n",
            "Multiple eval metrics have been passed: 'validation_1-auc' will be used for early stopping.\n",
            "\n",
            "Will train until validation_1-auc hasn't improved in 100 rounds.\n",
            "[100]\tvalidation_0-auc:0.998166\tvalidation_1-auc:0.800184\n",
            "Stopping. Best iteration:\n",
            "[6]\tvalidation_0-auc:0.943354\tvalidation_1-auc:0.827846\n",
            "\n"
          ]
        },
        {
          "output_type": "stream",
          "name": "stderr",
          "text": [
            "\u001b[32m[I 2023-02-14 20:25:31,521]\u001b[0m Trial 29 finished with value: 0.3431372549019608 and parameters: {'learning_rate': 0.1271935796918486, 'n_estimators': 1982, 'max_depth': 7, 'colsample_bytree': 0.7339817026230143, 'scale_pos_weight': 5.861007106457835, 'reg_lambda': 0.1639815431822773, 'reg_alpha': 0.7394325094379888, 'subsample': 0.831653832248192}. Best is trial 3 with value: 0.41545893719806765.\u001b[0m\n"
          ]
        },
        {
          "output_type": "stream",
          "name": "stdout",
          "text": [
            "Best Score: 0.41545893719806765\n",
            "Best trial {'learning_rate': 0.1422602954229404, 'n_estimators': 1592, 'max_depth': 5, 'colsample_bytree': 0.708540663048167, 'scale_pos_weight': 5.146901982034297, 'reg_lambda': 0.05598590859279775, 'reg_alpha': 0.611469403382424, 'subsample': 0.5852620618436457}\n"
          ]
        }
      ]
    },
    {
      "cell_type": "code",
      "source": [
        "params = study.best_params\n",
        "\n",
        "params[\"random_state\"] = 2\n",
        "params['objective'] = 'binary:logistic'\n",
        "params['eval_metric'] = 'auc'"
      ],
      "metadata": {
        "id": "0fK5yFLHaDAI"
      },
      "execution_count": 85,
      "outputs": []
    },
    {
      "cell_type": "code",
      "source": [
        "xgc2 = XGBClassifier(**params)\n",
        "\n",
        "xgc2.fit(X_train, y_train,\n",
        "        eval_set=[(X_train, y_train), (X_val,y_val)],\n",
        "        early_stopping_rounds=100,\n",
        "        verbose=100)"
      ],
      "metadata": {
        "colab": {
          "base_uri": "https://localhost:8080/"
        },
        "outputId": "d9d495ba-f28b-45eb-d254-adabf850b7f2",
        "id": "7KoyVrY6aDAI"
      },
      "execution_count": 86,
      "outputs": [
        {
          "output_type": "stream",
          "name": "stdout",
          "text": [
            "[0]\tvalidation_0-auc:0.822946\tvalidation_1-auc:0.75488\n",
            "Multiple eval metrics have been passed: 'validation_1-auc' will be used for early stopping.\n",
            "\n",
            "Will train until validation_1-auc hasn't improved in 100 rounds.\n",
            "[100]\tvalidation_0-auc:0.9807\tvalidation_1-auc:0.818509\n",
            "Stopping. Best iteration:\n",
            "[30]\tvalidation_0-auc:0.939451\tvalidation_1-auc:0.832572\n",
            "\n"
          ]
        },
        {
          "output_type": "execute_result",
          "data": {
            "text/plain": [
              "XGBClassifier(colsample_bytree=0.708540663048167, eval_metric='auc',\n",
              "              learning_rate=0.1422602954229404, max_depth=5, n_estimators=1592,\n",
              "              random_state=2, reg_alpha=0.611469403382424,\n",
              "              reg_lambda=0.05598590859279775,\n",
              "              scale_pos_weight=5.146901982034297, subsample=0.5852620618436457)"
            ]
          },
          "metadata": {},
          "execution_count": 86
        }
      ]
    },
    {
      "cell_type": "code",
      "source": [
        "xgc_pred = xgc2.predict(X_val)\n",
        "xgc_prob = xgc2.predict_proba(X_val)[:,1]\n",
        "\n",
        "print('XGBClassifier_val')\n",
        "print('roc_auc_score :', roc_auc_score(y_val, xgc_prob), '\\n')\n",
        "print('classification_report', '\\n', classification_report(y_val, xgc_pred))"
      ],
      "metadata": {
        "colab": {
          "base_uri": "https://localhost:8080/"
        },
        "outputId": "2bd43133-a7a1-40fc-a35b-da9f8d452812",
        "id": "l2mhBloVaDAI"
      },
      "execution_count": 87,
      "outputs": [
        {
          "output_type": "stream",
          "name": "stdout",
          "text": [
            "XGBClassifier_val\n",
            "roc_auc_score : 0.8325715019662805 \n",
            "\n",
            "classification_report \n",
            "               precision    recall  f1-score   support\n",
            "\n",
            "           0       0.98      0.98      0.98      2729\n",
            "           1       0.39      0.44      0.42        97\n",
            "\n",
            "    accuracy                           0.96      2826\n",
            "   macro avg       0.69      0.71      0.70      2826\n",
            "weighted avg       0.96      0.96      0.96      2826\n",
            "\n"
          ]
        }
      ]
    },
    {
      "cell_type": "code",
      "source": [
        "xgc_pred = xgc2.predict(X_test)\n",
        "xgc_prob = xgc2.predict_proba(X_test)[:,1]\n",
        "\n",
        "print('XGBClassifier_test')\n",
        "print('roc_auc_score :', roc_auc_score(y_test, xgc_prob), '\\n')\n",
        "print('classification_report', '\\n', classification_report(y_test, xgc_pred))"
      ],
      "metadata": {
        "colab": {
          "base_uri": "https://localhost:8080/"
        },
        "outputId": "0ad2b3a9-8bc3-4394-b8c8-9f10d044b62a",
        "id": "Q1FsoRhlaDAI"
      },
      "execution_count": 88,
      "outputs": [
        {
          "output_type": "stream",
          "name": "stdout",
          "text": [
            "XGBClassifier_test\n",
            "roc_auc_score : 0.8206664873731317 \n",
            "\n",
            "classification_report \n",
            "               precision    recall  f1-score   support\n",
            "\n",
            "           0       0.98      0.98      0.98      3411\n",
            "           1       0.39      0.37      0.38       121\n",
            "\n",
            "    accuracy                           0.96      3532\n",
            "   macro avg       0.68      0.68      0.68      3532\n",
            "weighted avg       0.96      0.96      0.96      3532\n",
            "\n"
          ]
        }
      ]
    },
    {
      "cell_type": "code",
      "source": [
        "feature_importance = pd.DataFrame([X_test.columns, xgc2.feature_importances_]).T.rename(columns={0:'features',1:'importance'}).sort_values('importance', ascending=False).reset_index(drop=True)"
      ],
      "metadata": {
        "id": "1qDGOvFJAriv"
      },
      "execution_count": 89,
      "outputs": []
    },
    {
      "cell_type": "code",
      "source": [
        "plt.figure(figsize=(10, 8))\n",
        "sns.barplot(x='importance', y='features', data=feature_importance)\n",
        "plt.title('XGBClassifier Feature Importances', fontsize=18)\n",
        "plt.show()"
      ],
      "metadata": {
        "colab": {
          "base_uri": "https://localhost:8080/",
          "height": 517
        },
        "id": "iUHFfH2QAN6b",
        "outputId": "f40d7362-653c-4644-8c19-6585d9328bf8"
      },
      "execution_count": 90,
      "outputs": [
        {
          "output_type": "display_data",
          "data": {
            "text/plain": [
              "<Figure size 720x576 with 1 Axes>"
            ],
            "image/png": "[encoded data removed]"
          },
          "metadata": {
            "needs_background": "light"
          }
        }
      ]
    },
    {
      "cell_type": "code",
      "source": [
        "df[['MB_IDX','date']] = raw[['MB_IDX','date']]"
      ],
      "metadata": {
        "id": "8M0TpayUe7E3"
      },
      "execution_count": 91,
      "outputs": []
    },
    {
      "cell_type": "code",
      "source": [
        "df.head()"
      ],
      "metadata": {
        "id": "V-K3RJ1rkGJ8",
        "colab": {
          "base_uri": "https://localhost:8080/",
          "height": 386
        },
        "outputId": "ace8645c-294c-40fd-8809-1c4f495cb958"
      },
      "execution_count": 92,
      "outputs": [
        {
          "output_type": "execute_result",
          "data": {
            "text/plain": [
              "         date  MB_IDX before_product_grade  before_special_seat_yn  \\\n",
              "0  2022-02-26  122611            Exciting석                       0   \n",
              "1  2022-02-26  134139            Exciting석                       0   \n",
              "2  2022-02-26  136924            Exciting석                       0   \n",
              "3  2022-03-05  119758            Exciting석                       0   \n",
              "4  2022-03-05  132795            Exciting석                       0   \n",
              "\n",
              "   before_discount_yn before_discount_way  before_first_yn  \\\n",
              "0                   0                  없음                1   \n",
              "1                   0                  없음                1   \n",
              "2                   0                  없음                1   \n",
              "3                   0                  없음                1   \n",
              "4                   0                  없음                1   \n",
              "\n",
              "   before_reserve_count  weekend_yn  night_yn  ...  total_special_seat  \\\n",
              "0                     1           1         0  ...                   0   \n",
              "1                     1           1         0  ...                   0   \n",
              "2                     1           1         0  ...                   0   \n",
              "3                     2           1         1  ...                   0   \n",
              "4                     3           1         1  ...                   6   \n",
              "\n",
              "  total_reserve_date  total_reserve_ticket  rate_ticket_discount  \\\n",
              "0                  5                     9                  0.11   \n",
              "1                  8                    18                  0.50   \n",
              "2                  9                    13                  0.00   \n",
              "3                  2                     4                  0.00   \n",
              "4                  4                    13                  0.00   \n",
              "\n",
              "   rate_special_seat  mean_reserve_ticket  mean_game_nth_diff  last_game_nth  \\\n",
              "0               0.00                 1.80                3.75             16   \n",
              "1               0.00                 2.25                2.57             19   \n",
              "2               0.00                 1.44                2.00             17   \n",
              "3               0.00                 2.00                1.00              3   \n",
              "4               0.46                 3.25                5.67             19   \n",
              "\n",
              "   cluster  target  \n",
              "0        3       0  \n",
              "1        3       0  \n",
              "2        3       0  \n",
              "3        3       0  \n",
              "4        2       0  \n",
              "\n",
              "[5 rows x 35 columns]"
            ],
            "text/html": [
              "\n",
              "  <div id=\"df-c20eab02-454d-498d-b4bf-c9f8ff2f7fe7\">\n",
              "    <div class=\"colab-df-container\">\n",
              "      <div>\n",
              "<style scoped>\n",
              "    .dataframe tbody tr th:only-of-type {\n",
              "        vertical-align: middle;\n",
              "    }\n",
              "\n",
              "    .dataframe tbody tr th {\n",
              "        vertical-align: top;\n",
              "    }\n",
              "\n",
              "    .dataframe thead th {\n",
              "        text-align: right;\n",
              "    }\n",
              "</style>\n",
              "<table border=\"1\" class=\"dataframe\">\n",
              "  <thead>\n",
              "    <tr style=\"text-align: right;\">\n",
              "      <th></th>\n",
              "      <th>date</th>\n",
              "      <th>MB_IDX</th>\n",
              "      <th>before_product_grade</th>\n",
              "      <th>before_special_seat_yn</th>\n",
              "      <th>before_discount_yn</th>\n",
              "      <th>before_discount_way</th>\n",
              "      <th>before_first_yn</th>\n",
              "      <th>before_reserve_count</th>\n",
              "      <th>weekend_yn</th>\n",
              "      <th>night_yn</th>\n",
              "      <th>...</th>\n",
              "      <th>total_special_seat</th>\n",
              "      <th>total_reserve_date</th>\n",
              "      <th>total_reserve_ticket</th>\n",
              "      <th>rate_ticket_discount</th>\n",
              "      <th>rate_special_seat</th>\n",
              "      <th>mean_reserve_ticket</th>\n",
              "      <th>mean_game_nth_diff</th>\n",
              "      <th>last_game_nth</th>\n",
              "      <th>cluster</th>\n",
              "      <th>target</th>\n",
              "    </tr>\n",
              "  </thead>\n",
              "  <tbody>\n",
              "    <tr>\n",
              "      <th>0</th>\n",
              "      <td>2022-02-26</td>\n",
              "      <td>122611</td>\n",
              "      <td>Exciting석</td>\n",
              "      <td>0</td>\n",
              "      <td>0</td>\n",
              "      <td>없음</td>\n",
              "      <td>1</td>\n",
              "      <td>1</td>\n",
              "      <td>1</td>\n",
              "      <td>0</td>\n",
              "      <td>...</td>\n",
              "      <td>0</td>\n",
              "      <td>5</td>\n",
              "      <td>9</td>\n",
              "      <td>0.11</td>\n",
              "      <td>0.00</td>\n",
              "      <td>1.80</td>\n",
              "      <td>3.75</td>\n",
              "      <td>16</td>\n",
              "      <td>3</td>\n",
              "      <td>0</td>\n",
              "    </tr>\n",
              "    <tr>\n",
              "      <th>1</th>\n",
              "      <td>2022-02-26</td>\n",
              "      <td>134139</td>\n",
              "      <td>Exciting석</td>\n",
              "      <td>0</td>\n",
              "      <td>0</td>\n",
              "      <td>없음</td>\n",
              "      <td>1</td>\n",
              "      <td>1</td>\n",
              "      <td>1</td>\n",
              "      <td>0</td>\n",
              "      <td>...</td>\n",
              "      <td>0</td>\n",
              "      <td>8</td>\n",
              "      <td>18</td>\n",
              "      <td>0.50</td>\n",
              "      <td>0.00</td>\n",
              "      <td>2.25</td>\n",
              "      <td>2.57</td>\n",
              "      <td>19</td>\n",
              "      <td>3</td>\n",
              "      <td>0</td>\n",
              "    </tr>\n",
              "    <tr>\n",
              "      <th>2</th>\n",
              "      <td>2022-02-26</td>\n",
              "      <td>136924</td>\n",
              "      <td>Exciting석</td>\n",
              "      <td>0</td>\n",
              "      <td>0</td>\n",
              "      <td>없음</td>\n",
              "      <td>1</td>\n",
              "      <td>1</td>\n",
              "      <td>1</td>\n",
              "      <td>0</td>\n",
              "      <td>...</td>\n",
              "      <td>0</td>\n",
              "      <td>9</td>\n",
              "      <td>13</td>\n",
              "      <td>0.00</td>\n",
              "      <td>0.00</td>\n",
              "      <td>1.44</td>\n",
              "      <td>2.00</td>\n",
              "      <td>17</td>\n",
              "      <td>3</td>\n",
              "      <td>0</td>\n",
              "    </tr>\n",
              "    <tr>\n",
              "      <th>3</th>\n",
              "      <td>2022-03-05</td>\n",
              "      <td>119758</td>\n",
              "      <td>Exciting석</td>\n",
              "      <td>0</td>\n",
              "      <td>0</td>\n",
              "      <td>없음</td>\n",
              "      <td>1</td>\n",
              "      <td>2</td>\n",
              "      <td>1</td>\n",
              "      <td>1</td>\n",
              "      <td>...</td>\n",
              "      <td>0</td>\n",
              "      <td>2</td>\n",
              "      <td>4</td>\n",
              "      <td>0.00</td>\n",
              "      <td>0.00</td>\n",
              "      <td>2.00</td>\n",
              "      <td>1.00</td>\n",
              "      <td>3</td>\n",
              "      <td>3</td>\n",
              "      <td>0</td>\n",
              "    </tr>\n",
              "    <tr>\n",
              "      <th>4</th>\n",
              "      <td>2022-03-05</td>\n",
              "      <td>132795</td>\n",
              "      <td>Exciting석</td>\n",
              "      <td>0</td>\n",
              "      <td>0</td>\n",
              "      <td>없음</td>\n",
              "      <td>1</td>\n",
              "      <td>3</td>\n",
              "      <td>1</td>\n",
              "      <td>1</td>\n",
              "      <td>...</td>\n",
              "      <td>6</td>\n",
              "      <td>4</td>\n",
              "      <td>13</td>\n",
              "      <td>0.00</td>\n",
              "      <td>0.46</td>\n",
              "      <td>3.25</td>\n",
              "      <td>5.67</td>\n",
              "      <td>19</td>\n",
              "      <td>2</td>\n",
              "      <td>0</td>\n",
              "    </tr>\n",
              "  </tbody>\n",
              "</table>\n",
              "<p>5 rows × 35 columns</p>\n",
              "</div>\n",
              "      <button class=\"colab-df-convert\" onclick=\"convertToInteractive('df-c20eab02-454d-498d-b4bf-c9f8ff2f7fe7')\"\n",
              "              title=\"Convert this dataframe to an interactive table.\"\n",
              "              style=\"display:none;\">\n",
              "        \n",
              "  <svg xmlns=\"http://www.w3.org/2000/svg\" height=\"24px\"viewBox=\"0 0 24 24\"\n",
              "       width=\"24px\">\n",
              "    <path d=\"M0 0h24v24H0V0z\" fill=\"none\"/>\n",
              "    <path d=\"M18.56 5.44l.94 2.06.94-2.06 2.06-.94-2.06-.94-.94-2.06-.94 2.06-2.06.94zm-11 1L8.5 8.5l.94-2.06 2.06-.94-2.06-.94L8.5 2.5l-.94 2.06-2.06.94zm10 10l.94 2.06.94-2.06 2.06-.94-2.06-.94-.94-2.06-.94 2.06-2.06.94z\"/><path d=\"M17.41 7.96l-1.37-1.37c-.4-.4-.92-.59-1.43-.59-.52 0-1.04.2-1.43.59L10.3 9.45l-7.72 7.72c-.78.78-.78 2.05 0 2.83L4 21.41c.39.39.9.59 1.41.59.51 0 1.02-.2 1.41-.59l7.78-7.78 2.81-2.81c.8-.78.8-2.07 0-2.86zM5.41 20L4 18.59l7.72-7.72 1.47 1.35L5.41 20z\"/>\n",
              "  </svg>\n",
              "      </button>\n",
              "      \n",
              "  <style>\n",
              "    .colab-df-container {\n",
              "      display:flex;\n",
              "      flex-wrap:wrap;\n",
              "      gap: 12px;\n",
              "    }\n",
              "\n",
              "    .colab-df-convert {\n",
              "      background-color: #E8F0FE;\n",
              "      border: none;\n",
              "      border-radius: 50%;\n",
              "      cursor: pointer;\n",
              "      display: none;\n",
              "      fill: #1967D2;\n",
              "      height: 32px;\n",
              "      padding: 0 0 0 0;\n",
              "      width: 32px;\n",
              "    }\n",
              "\n",
              "    .colab-df-convert:hover {\n",
              "      background-color: #E2EBFA;\n",
              "      box-shadow: 0px 1px 2px rgba(60, 64, 67, 0.3), 0px 1px 3px 1px rgba(60, 64, 67, 0.15);\n",
              "      fill: #174EA6;\n",
              "    }\n",
              "\n",
              "    [theme=dark] .colab-df-convert {\n",
              "      background-color: #3B4455;\n",
              "      fill: #D2E3FC;\n",
              "    }\n",
              "\n",
              "    [theme=dark] .colab-df-convert:hover {\n",
              "      background-color: #434B5C;\n",
              "      box-shadow: 0px 1px 3px 1px rgba(0, 0, 0, 0.15);\n",
              "      filter: drop-shadow(0px 1px 2px rgba(0, 0, 0, 0.3));\n",
              "      fill: #FFFFFF;\n",
              "    }\n",
              "  </style>\n",
              "\n",
              "      <script>\n",
              "        const buttonEl =\n",
              "          document.querySelector('#df-c20eab02-454d-498d-b4bf-c9f8ff2f7fe7 button.colab-df-convert');\n",
              "        buttonEl.style.display =\n",
              "          google.colab.kernel.accessAllowed ? 'block' : 'none';\n",
              "\n",
              "        async function convertToInteractive(key) {\n",
              "          const element = document.querySelector('#df-c20eab02-454d-498d-b4bf-c9f8ff2f7fe7');\n",
              "          const dataTable =\n",
              "            await google.colab.kernel.invokeFunction('convertToInteractive',\n",
              "                                                     [key], {});\n",
              "          if (!dataTable) return;\n",
              "\n",
              "          const docLinkHtml = 'Like what you see? Visit the ' +\n",
              "            '<a target=\"_blank\" href=https://colab.research.google.com/notebooks/data_table.ipynb>data table notebook</a>'\n",
              "            + ' to learn more about interactive tables.';\n",
              "          element.innerHTML = '';\n",
              "          dataTable['output_type'] = 'display_data';\n",
              "          await google.colab.output.renderOutput(dataTable, element);\n",
              "          const docLink = document.createElement('div');\n",
              "          docLink.innerHTML = docLinkHtml;\n",
              "          element.appendChild(docLink);\n",
              "        }\n",
              "      </script>\n",
              "    </div>\n",
              "  </div>\n",
              "  "
            ]
          },
          "metadata": {},
          "execution_count": 92
        }
      ]
    },
    {
      "cell_type": "code",
      "source": [
        "df.to_csv('data_analysis2.csv', index=False)"
      ],
      "metadata": {
        "id": "qW-qMlrPfXlV"
      },
      "execution_count": 93,
      "outputs": []
    }
  ]
}