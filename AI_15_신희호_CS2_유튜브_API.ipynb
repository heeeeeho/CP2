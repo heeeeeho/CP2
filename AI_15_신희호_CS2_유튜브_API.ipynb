{
  "nbformat": 4,
  "nbformat_minor": 0,
  "metadata": {
    "colab": {
      "provenance": []
    },
    "kernelspec": {
      "name": "python3",
      "display_name": "Python 3"
    },
    "language_info": {
      "name": "python"
    }
  },
  "cells": [
    {
      "cell_type": "code",
      "source": [
        "import re\n",
        "import pandas as pd\n",
        "\n",
        "from googleapiclient.discovery import build\n",
        "from googleapiclient.errors import HttpError\n",
        "from oauth2client.tools import argparser"
      ],
      "metadata": {
        "id": "PMM2IoIMoHpX"
      },
      "execution_count": null,
      "outputs": []
    },
    {
      "cell_type": "code",
      "source": [
        "DEVELOPER_KEY='' # KEY 지울 것\n",
        "YOUTUBE_API_SERVICE_NAME='youtube'\n",
        "YOUTUBE_API_VERSION='v3'\n",
        "\n",
        "youtube=build(YOUTUBE_API_SERVICE_NAME,YOUTUBE_API_VERSION,developerKey=DEVELOPER_KEY)"
      ],
      "metadata": {
        "id": "tgg8nJlORCVD"
      },
      "execution_count": null,
      "outputs": []
    },
    {
      "cell_type": "code",
      "source": [
        "search_response=youtube.search().list(\n",
        "    q=\"인천 유나이티드\",\n",
        "    order='relevance',\n",
        "    part='snippet',\n",
        "    maxResults=1,\n",
        "    ).execute()\n",
        "# 검색 시 최상단에 인천 유나이티드 채널이 나옴"
      ],
      "metadata": {
        "id": "voIYVmnuRXw8"
      },
      "execution_count": null,
      "outputs": []
    },
    {
      "cell_type": "code",
      "source": [
        "channel_id=search_response['items'][0]['id']['channelId']"
      ],
      "metadata": {
        "id": "r-UN_hcSRbsg"
      },
      "execution_count": null,
      "outputs": []
    },
    {
      "cell_type": "code",
      "source": [
        "# 인천 유나이티드 채널 ID\n",
        "channel_id"
      ],
      "metadata": {
        "colab": {
          "base_uri": "https://localhost:8080/",
          "height": 35
        },
        "id": "K6Y4Y3fURfV6",
        "outputId": "e3cf888e-368e-46d4-ce66-640c4028f9eb"
      },
      "execution_count": null,
      "outputs": [
        {
          "output_type": "execute_result",
          "data": {
            "text/plain": [
              "'UCGA9gUrYCb4hRk_wHBzB_nQ'"
            ],
            "application/vnd.google.colaboratory.intrinsic+json": {
              "type": "string"
            }
          },
          "metadata": {},
          "execution_count": 12
        }
      ]
    },
    {
      "cell_type": "code",
      "source": [
        "# 25번째 플레이리스트까지가 2019년~2023년이다.\n",
        "playlists=youtube.playlists().list(\n",
        "    channelId=channel_id,\n",
        "    part='snippet',\n",
        "    maxResults=25).execute()"
      ],
      "metadata": {
        "id": "tlmiAqhTRhHL"
      },
      "execution_count": null,
      "outputs": []
    },
    {
      "cell_type": "code",
      "source": [
        "ids=[]\n",
        "titles=[]\n",
        "\n",
        "for i in playlists['items']:\n",
        "    ids.append(i['id'])\n",
        "    titles.append(i['snippet']['title'])\n",
        "    \n",
        "df=pd.DataFrame([ids,titles]).T\n",
        "df.columns=['PlayLists','Titles']"
      ],
      "metadata": {
        "id": "NkjR1aqcRqVx"
      },
      "execution_count": null,
      "outputs": []
    },
    {
      "cell_type": "code",
      "source": [
        "# 플레이리스트 ID를 가져오고\n",
        "df_25 = df[:25]"
      ],
      "metadata": {
        "id": "TBkXZ_9XRskq"
      },
      "execution_count": null,
      "outputs": []
    },
    {
      "cell_type": "code",
      "source": [
        "# 플레이리스트 내의 영상 ID는 50개까지 불러올 수 있다.\n",
        "for i, j in enumerate(list(df_25['PlayLists'])):\n",
        "    playlist_videos=youtube.playlistItems().list(\n",
        "        playlistId=j,\n",
        "        part='snippet',\n",
        "        maxResults=50)\n",
        "\n",
        "    playlistitems_list_response=playlist_videos.execute()\n",
        "    nextPageToken = playlistitems_list_response.get('nextPageToken')\n",
        "\n",
        "     \n",
        "# nextPageToken으로 추가로 불러오기 가능해서 nextPageToken이 있는 경우 ID를 모두 합친다.\n",
        "    while ('nextPageToken' in playlistitems_list_response):\n",
        "        nextPage = youtube.playlistItems().list(\n",
        "            part='snippet',\n",
        "            playlistId=j,\n",
        "            maxResults='50',\n",
        "            pageToken=nextPageToken\n",
        "            ).execute()\n",
        "\n",
        "        playlistitems_list_response['items'] = playlistitems_list_response['items'] + nextPage['items']\n",
        "\n",
        "        if 'nextPageToken' not in nextPage:\n",
        "            playlistitems_list_response.pop('nextPageToken', None)\n",
        "        else:\n",
        "            nextPageToken = nextPage['nextPageToken']\n",
        "\n",
        "    video_names=[]\n",
        "    video_ids=[]\n",
        "    date=[]\n",
        "\n",
        "    for v in playlistitems_list_response['items']:\n",
        "        video_names.append(v['snippet']['title'])\n",
        "        video_ids.append(v['snippet']['resourceId']['videoId'])\n",
        "        date.append(v['snippet']['publishedAt'])\n",
        "        \n",
        "    vdf=pd.DataFrame([date,video_names,video_ids]).T\n",
        "    vdf.columns=['Date','Title','IDS']\n",
        "\n",
        "# 플레이리스트 내 각 영상의 정보를 가져온다.\n",
        "    category_id=[]\n",
        "    views=[]\n",
        "    likes=[]\n",
        "    mins=[]\n",
        "    seconds=[]\n",
        "    title=[]\n",
        "    date=[]\n",
        "\n",
        "    for u in range(len(vdf)):\n",
        "        request=youtube.videos().list(\n",
        "        part='snippet,contentDetails,statistics',\n",
        "        id=vdf['IDS'][u])\n",
        "        \n",
        "        response=request.execute()\n",
        "        \n",
        "        if response['items']==[]:\n",
        "            ids.append('-')\n",
        "            date.append('-')\n",
        "            category_id.append('-')\n",
        "            views.append('-')\n",
        "            likes.append('-')\n",
        "            \n",
        "        else :\n",
        "            title.append(response['items'][0]['snippet']['title'])\n",
        "            date.append(response['items'][0]['snippet']['publishedAt'])\n",
        "            category_id.append(response['items'][0]['snippet']['categoryId'])\n",
        "            views.append(response['items'][0]['statistics']['viewCount'])\n",
        "            likes.append(response['items'][0]['statistics']['likeCount'])\n",
        "        \n",
        "# 플레이리스트마다 vdatas 동적 변수에 저장한다.\n",
        "    globals()['vdatas'+str(i)]=pd.DataFrame([title,date,category_id,views,likes]).T\n",
        "    globals()['vdatas'+str(i)].columns=['title','date','category_id','views','likes']"
      ],
      "metadata": {
        "id": "dAL7Wzf7Rt_8"
      },
      "execution_count": null,
      "outputs": []
    },
    {
      "cell_type": "code",
      "source": [
        "# 모든 플레이리스트를 합친다.\n",
        "vdatas = pd.concat([vdatas0,vdatas1,vdatas2,vdatas3,vdatas4,vdatas5,vdatas6,vdatas7,vdatas8,vdatas9,\n",
        "                    vdatas10,vdatas11,vdatas12,vdatas13,vdatas14,vdatas15,vdatas16,vdatas17,vdatas18,vdatas19,\n",
        "                    vdatas20,vdatas21,vdatas22,vdatas23,vdatas24])"
      ],
      "metadata": {
        "id": "RW1KE0DRXkML"
      },
      "execution_count": null,
      "outputs": []
    },
    {
      "cell_type": "code",
      "source": [
        "vdatas.info()"
      ],
      "metadata": {
        "colab": {
          "base_uri": "https://localhost:8080/"
        },
        "id": "4hiSTQfBqRVP",
        "outputId": "cd6d3b68-1a14-4a53-b2d6-e860186a03d1"
      },
      "execution_count": null,
      "outputs": [
        {
          "output_type": "stream",
          "name": "stdout",
          "text": [
            "<class 'pandas.core.frame.DataFrame'>\n",
            "Int64Index: 698 entries, 0 to 37\n",
            "Data columns (total 5 columns):\n",
            " #   Column       Non-Null Count  Dtype \n",
            "---  ------       --------------  ----- \n",
            " 0   title        698 non-null    object\n",
            " 1   date         698 non-null    object\n",
            " 2   category_id  698 non-null    object\n",
            " 3   views        698 non-null    object\n",
            " 4   likes        698 non-null    object\n",
            "dtypes: object(5)\n",
            "memory usage: 32.7+ KB\n"
          ]
        }
      ]
    },
    {
      "cell_type": "code",
      "source": [
        "vdatas.head()"
      ],
      "metadata": {
        "colab": {
          "base_uri": "https://localhost:8080/",
          "height": 206
        },
        "id": "pDwtKc8yYpG9",
        "outputId": "d915cc9f-829e-4e61-86fc-8236a1027a7a"
      },
      "execution_count": null,
      "outputs": [
        {
          "output_type": "execute_result",
          "data": {
            "text/plain": [
              "                                               title                  date  \\\n",
              "0  \"결과를 만들어 낸 선수들에게 칭찬해 주고 싶습니다\" | 공식 기자회견 10월 11...  2022-10-14T10:00:15Z   \n",
              "1  \"승점 1점에 만족하지 않고 잘 준비하고 대비하겠습니다\" | 공식 기자회견 9월 1...  2022-09-17T06:00:09Z   \n",
              "2        \"시즌 첫 3연승 할 좋은 기회가 왔다\" | 공식 기자회견 8월 13일 전북전  2022-08-17T10:35:53Z   \n",
              "3  \"선수들과 약속한 걸 지킬 수 있어 기분 좋았습니다\" | 공식 기자회견 5월 29일...  2022-06-01T08:00:04Z   \n",
              "4     \"본인의 가치를 더 증명했으면 좋겠습니다\" | 공식 기자회견 5월 17일 대구FC전  2022-05-20T09:00:12Z   \n",
              "\n",
              "  category_id views likes  \n",
              "0          17   883    62  \n",
              "1          17   734    58  \n",
              "2          17  1466    95  \n",
              "3          17  1835    51  \n",
              "4          17  2331    53  "
            ],
            "text/html": [
              "\n",
              "  <div id=\"df-bf644477-4072-4b83-99cb-fceb717be716\">\n",
              "    <div class=\"colab-df-container\">\n",
              "      <div>\n",
              "<style scoped>\n",
              "    .dataframe tbody tr th:only-of-type {\n",
              "        vertical-align: middle;\n",
              "    }\n",
              "\n",
              "    .dataframe tbody tr th {\n",
              "        vertical-align: top;\n",
              "    }\n",
              "\n",
              "    .dataframe thead th {\n",
              "        text-align: right;\n",
              "    }\n",
              "</style>\n",
              "<table border=\"1\" class=\"dataframe\">\n",
              "  <thead>\n",
              "    <tr style=\"text-align: right;\">\n",
              "      <th></th>\n",
              "      <th>title</th>\n",
              "      <th>date</th>\n",
              "      <th>category_id</th>\n",
              "      <th>views</th>\n",
              "      <th>likes</th>\n",
              "    </tr>\n",
              "  </thead>\n",
              "  <tbody>\n",
              "    <tr>\n",
              "      <th>0</th>\n",
              "      <td>\"결과를 만들어 낸 선수들에게 칭찬해 주고 싶습니다\" | 공식 기자회견 10월 11...</td>\n",
              "      <td>2022-10-14T10:00:15Z</td>\n",
              "      <td>17</td>\n",
              "      <td>883</td>\n",
              "      <td>62</td>\n",
              "    </tr>\n",
              "    <tr>\n",
              "      <th>1</th>\n",
              "      <td>\"승점 1점에 만족하지 않고 잘 준비하고 대비하겠습니다\" | 공식 기자회견 9월 1...</td>\n",
              "      <td>2022-09-17T06:00:09Z</td>\n",
              "      <td>17</td>\n",
              "      <td>734</td>\n",
              "      <td>58</td>\n",
              "    </tr>\n",
              "    <tr>\n",
              "      <th>2</th>\n",
              "      <td>\"시즌 첫 3연승 할 좋은 기회가 왔다\" | 공식 기자회견 8월 13일 전북전</td>\n",
              "      <td>2022-08-17T10:35:53Z</td>\n",
              "      <td>17</td>\n",
              "      <td>1466</td>\n",
              "      <td>95</td>\n",
              "    </tr>\n",
              "    <tr>\n",
              "      <th>3</th>\n",
              "      <td>\"선수들과 약속한 걸 지킬 수 있어 기분 좋았습니다\" | 공식 기자회견 5월 29일...</td>\n",
              "      <td>2022-06-01T08:00:04Z</td>\n",
              "      <td>17</td>\n",
              "      <td>1835</td>\n",
              "      <td>51</td>\n",
              "    </tr>\n",
              "    <tr>\n",
              "      <th>4</th>\n",
              "      <td>\"본인의 가치를 더 증명했으면 좋겠습니다\" | 공식 기자회견 5월 17일 대구FC전</td>\n",
              "      <td>2022-05-20T09:00:12Z</td>\n",
              "      <td>17</td>\n",
              "      <td>2331</td>\n",
              "      <td>53</td>\n",
              "    </tr>\n",
              "  </tbody>\n",
              "</table>\n",
              "</div>\n",
              "      <button class=\"colab-df-convert\" onclick=\"convertToInteractive('df-bf644477-4072-4b83-99cb-fceb717be716')\"\n",
              "              title=\"Convert this dataframe to an interactive table.\"\n",
              "              style=\"display:none;\">\n",
              "        \n",
              "  <svg xmlns=\"http://www.w3.org/2000/svg\" height=\"24px\"viewBox=\"0 0 24 24\"\n",
              "       width=\"24px\">\n",
              "    <path d=\"M0 0h24v24H0V0z\" fill=\"none\"/>\n",
              "    <path d=\"M18.56 5.44l.94 2.06.94-2.06 2.06-.94-2.06-.94-.94-2.06-.94 2.06-2.06.94zm-11 1L8.5 8.5l.94-2.06 2.06-.94-2.06-.94L8.5 2.5l-.94 2.06-2.06.94zm10 10l.94 2.06.94-2.06 2.06-.94-2.06-.94-.94-2.06-.94 2.06-2.06.94z\"/><path d=\"M17.41 7.96l-1.37-1.37c-.4-.4-.92-.59-1.43-.59-.52 0-1.04.2-1.43.59L10.3 9.45l-7.72 7.72c-.78.78-.78 2.05 0 2.83L4 21.41c.39.39.9.59 1.41.59.51 0 1.02-.2 1.41-.59l7.78-7.78 2.81-2.81c.8-.78.8-2.07 0-2.86zM5.41 20L4 18.59l7.72-7.72 1.47 1.35L5.41 20z\"/>\n",
              "  </svg>\n",
              "      </button>\n",
              "      \n",
              "  <style>\n",
              "    .colab-df-container {\n",
              "      display:flex;\n",
              "      flex-wrap:wrap;\n",
              "      gap: 12px;\n",
              "    }\n",
              "\n",
              "    .colab-df-convert {\n",
              "      background-color: #E8F0FE;\n",
              "      border: none;\n",
              "      border-radius: 50%;\n",
              "      cursor: pointer;\n",
              "      display: none;\n",
              "      fill: #1967D2;\n",
              "      height: 32px;\n",
              "      padding: 0 0 0 0;\n",
              "      width: 32px;\n",
              "    }\n",
              "\n",
              "    .colab-df-convert:hover {\n",
              "      background-color: #E2EBFA;\n",
              "      box-shadow: 0px 1px 2px rgba(60, 64, 67, 0.3), 0px 1px 3px 1px rgba(60, 64, 67, 0.15);\n",
              "      fill: #174EA6;\n",
              "    }\n",
              "\n",
              "    [theme=dark] .colab-df-convert {\n",
              "      background-color: #3B4455;\n",
              "      fill: #D2E3FC;\n",
              "    }\n",
              "\n",
              "    [theme=dark] .colab-df-convert:hover {\n",
              "      background-color: #434B5C;\n",
              "      box-shadow: 0px 1px 3px 1px rgba(0, 0, 0, 0.15);\n",
              "      filter: drop-shadow(0px 1px 2px rgba(0, 0, 0, 0.3));\n",
              "      fill: #FFFFFF;\n",
              "    }\n",
              "  </style>\n",
              "\n",
              "      <script>\n",
              "        const buttonEl =\n",
              "          document.querySelector('#df-bf644477-4072-4b83-99cb-fceb717be716 button.colab-df-convert');\n",
              "        buttonEl.style.display =\n",
              "          google.colab.kernel.accessAllowed ? 'block' : 'none';\n",
              "\n",
              "        async function convertToInteractive(key) {\n",
              "          const element = document.querySelector('#df-bf644477-4072-4b83-99cb-fceb717be716');\n",
              "          const dataTable =\n",
              "            await google.colab.kernel.invokeFunction('convertToInteractive',\n",
              "                                                     [key], {});\n",
              "          if (!dataTable) return;\n",
              "\n",
              "          const docLinkHtml = 'Like what you see? Visit the ' +\n",
              "            '<a target=\"_blank\" href=https://colab.research.google.com/notebooks/data_table.ipynb>data table notebook</a>'\n",
              "            + ' to learn more about interactive tables.';\n",
              "          element.innerHTML = '';\n",
              "          dataTable['output_type'] = 'display_data';\n",
              "          await google.colab.output.renderOutput(dataTable, element);\n",
              "          const docLink = document.createElement('div');\n",
              "          docLink.innerHTML = docLinkHtml;\n",
              "          element.appendChild(docLink);\n",
              "        }\n",
              "      </script>\n",
              "    </div>\n",
              "  </div>\n",
              "  "
            ]
          },
          "metadata": {},
          "execution_count": 135
        }
      ]
    },
    {
      "cell_type": "code",
      "source": [
        "vdatas['category_id'].value_counts()"
      ],
      "metadata": {
        "colab": {
          "base_uri": "https://localhost:8080/"
        },
        "id": "1Ofb7IemwLHt",
        "outputId": "086855ac-cc4b-4afe-c168-9b2f3c86125e"
      },
      "execution_count": null,
      "outputs": [
        {
          "output_type": "execute_result",
          "data": {
            "text/plain": [
              "17    521\n",
              "24    175\n",
              "20      2\n",
              "Name: category_id, dtype: int64"
            ]
          },
          "metadata": {},
          "execution_count": 139
        }
      ]
    },
    {
      "cell_type": "code",
      "source": [
        "# 연월일만 남기고 시간 순 정리\n",
        "vdatas['date'] = vdatas['date'].str.split('T').str[0]\n",
        "vdatas['date'] = pd.to_datetime(vdatas['date'])\n",
        "vdatas = vdatas.sort_values('date')\n",
        "# 컬럼 타입 변경\n",
        "vdatas['views'] = vdatas['views'].astype(int)\n",
        "vdatas['likes'] = vdatas['likes'].astype(int)\n",
        "# 정리\n",
        "# vdatas = vdatas.drop('category_id', axis=1)\n",
        "vdatas = vdatas.reset_index(drop=True)"
      ],
      "metadata": {
        "id": "kRlv7osiZJAd"
      },
      "execution_count": null,
      "outputs": []
    },
    {
      "cell_type": "code",
      "source": [
        "# vdatas.to_csv('new_incheon_youtube.csv', index=False)"
      ],
      "metadata": {
        "id": "twVD5io01IxU"
      },
      "execution_count": null,
      "outputs": []
    },
    {
      "cell_type": "markdown",
      "source": [
        "\n",
        "\n",
        "---\n",
        "\n"
      ],
      "metadata": {
        "id": "3B1EyOJV0483"
      }
    },
    {
      "cell_type": "code",
      "source": [
        "c1 = vdatas[vdatas['date'].dt.year == 2022]"
      ],
      "metadata": {
        "id": "LvsIGqufxJYr"
      },
      "execution_count": null,
      "outputs": []
    },
    {
      "cell_type": "code",
      "source": [
        "c2 = c1[c1['date'] <= '2022-10-16']"
      ],
      "metadata": {
        "id": "DriSNzAGxNN3"
      },
      "execution_count": null,
      "outputs": []
    },
    {
      "cell_type": "code",
      "source": [
        "c2.head()"
      ],
      "metadata": {
        "colab": {
          "base_uri": "https://localhost:8080/",
          "height": 206
        },
        "id": "Ryz4jbVIxvoi",
        "outputId": "fb86db25-fdd2-4e15-c9ae-298eb64a7edd"
      },
      "execution_count": null,
      "outputs": [
        {
          "output_type": "execute_result",
          "data": {
            "text/plain": [
              "                                               title       date category_id  \\\n",
              "563     [IUFC TV] '임대 종료' 민성준 인천 복귀 현장 | 민성준 오피셜 인터뷰 2022-01-01          17   \n",
              "564  [IUFC TV] ‘헌신의 아이콘’ 베테랑 미드필더 여름 영입 | 여름 오피셜 인터뷰 2022-01-02          17   \n",
              "565   [IUFC TV] 국가대표 출신 수비수 이주용 오피셜 현장 | 이주용 오피셜 인터뷰 2022-01-03          17   \n",
              "566     [IUFC TV] ‘떠오르는 신성’ 홍시후 오피셜 현장 | 홍시후 오피셜 인터뷰 2022-01-05          17   \n",
              "567   [IUFC TV] ‘팔방미인’ 미드필더 이동수 오피셜 현장 | 이동수 오피셜 인터뷰 2022-01-06          17   \n",
              "\n",
              "     views  likes  \n",
              "563   1839     77  \n",
              "564   4190    142  \n",
              "565   3250    112  \n",
              "566   3853    126  \n",
              "567   2342     96  "
            ],
            "text/html": [
              "\n",
              "  <div id=\"df-b491c292-c22c-4480-8321-cea3e718aaee\">\n",
              "    <div class=\"colab-df-container\">\n",
              "      <div>\n",
              "<style scoped>\n",
              "    .dataframe tbody tr th:only-of-type {\n",
              "        vertical-align: middle;\n",
              "    }\n",
              "\n",
              "    .dataframe tbody tr th {\n",
              "        vertical-align: top;\n",
              "    }\n",
              "\n",
              "    .dataframe thead th {\n",
              "        text-align: right;\n",
              "    }\n",
              "</style>\n",
              "<table border=\"1\" class=\"dataframe\">\n",
              "  <thead>\n",
              "    <tr style=\"text-align: right;\">\n",
              "      <th></th>\n",
              "      <th>title</th>\n",
              "      <th>date</th>\n",
              "      <th>category_id</th>\n",
              "      <th>views</th>\n",
              "      <th>likes</th>\n",
              "    </tr>\n",
              "  </thead>\n",
              "  <tbody>\n",
              "    <tr>\n",
              "      <th>563</th>\n",
              "      <td>[IUFC TV] '임대 종료' 민성준 인천 복귀 현장 | 민성준 오피셜 인터뷰</td>\n",
              "      <td>2022-01-01</td>\n",
              "      <td>17</td>\n",
              "      <td>1839</td>\n",
              "      <td>77</td>\n",
              "    </tr>\n",
              "    <tr>\n",
              "      <th>564</th>\n",
              "      <td>[IUFC TV] ‘헌신의 아이콘’ 베테랑 미드필더 여름 영입 | 여름 오피셜 인터뷰</td>\n",
              "      <td>2022-01-02</td>\n",
              "      <td>17</td>\n",
              "      <td>4190</td>\n",
              "      <td>142</td>\n",
              "    </tr>\n",
              "    <tr>\n",
              "      <th>565</th>\n",
              "      <td>[IUFC TV] 국가대표 출신 수비수 이주용 오피셜 현장 | 이주용 오피셜 인터뷰</td>\n",
              "      <td>2022-01-03</td>\n",
              "      <td>17</td>\n",
              "      <td>3250</td>\n",
              "      <td>112</td>\n",
              "    </tr>\n",
              "    <tr>\n",
              "      <th>566</th>\n",
              "      <td>[IUFC TV] ‘떠오르는 신성’ 홍시후 오피셜 현장 | 홍시후 오피셜 인터뷰</td>\n",
              "      <td>2022-01-05</td>\n",
              "      <td>17</td>\n",
              "      <td>3853</td>\n",
              "      <td>126</td>\n",
              "    </tr>\n",
              "    <tr>\n",
              "      <th>567</th>\n",
              "      <td>[IUFC TV] ‘팔방미인’ 미드필더 이동수 오피셜 현장 | 이동수 오피셜 인터뷰</td>\n",
              "      <td>2022-01-06</td>\n",
              "      <td>17</td>\n",
              "      <td>2342</td>\n",
              "      <td>96</td>\n",
              "    </tr>\n",
              "  </tbody>\n",
              "</table>\n",
              "</div>\n",
              "      <button class=\"colab-df-convert\" onclick=\"convertToInteractive('df-b491c292-c22c-4480-8321-cea3e718aaee')\"\n",
              "              title=\"Convert this dataframe to an interactive table.\"\n",
              "              style=\"display:none;\">\n",
              "        \n",
              "  <svg xmlns=\"http://www.w3.org/2000/svg\" height=\"24px\"viewBox=\"0 0 24 24\"\n",
              "       width=\"24px\">\n",
              "    <path d=\"M0 0h24v24H0V0z\" fill=\"none\"/>\n",
              "    <path d=\"M18.56 5.44l.94 2.06.94-2.06 2.06-.94-2.06-.94-.94-2.06-.94 2.06-2.06.94zm-11 1L8.5 8.5l.94-2.06 2.06-.94-2.06-.94L8.5 2.5l-.94 2.06-2.06.94zm10 10l.94 2.06.94-2.06 2.06-.94-2.06-.94-.94-2.06-.94 2.06-2.06.94z\"/><path d=\"M17.41 7.96l-1.37-1.37c-.4-.4-.92-.59-1.43-.59-.52 0-1.04.2-1.43.59L10.3 9.45l-7.72 7.72c-.78.78-.78 2.05 0 2.83L4 21.41c.39.39.9.59 1.41.59.51 0 1.02-.2 1.41-.59l7.78-7.78 2.81-2.81c.8-.78.8-2.07 0-2.86zM5.41 20L4 18.59l7.72-7.72 1.47 1.35L5.41 20z\"/>\n",
              "  </svg>\n",
              "      </button>\n",
              "      \n",
              "  <style>\n",
              "    .colab-df-container {\n",
              "      display:flex;\n",
              "      flex-wrap:wrap;\n",
              "      gap: 12px;\n",
              "    }\n",
              "\n",
              "    .colab-df-convert {\n",
              "      background-color: #E8F0FE;\n",
              "      border: none;\n",
              "      border-radius: 50%;\n",
              "      cursor: pointer;\n",
              "      display: none;\n",
              "      fill: #1967D2;\n",
              "      height: 32px;\n",
              "      padding: 0 0 0 0;\n",
              "      width: 32px;\n",
              "    }\n",
              "\n",
              "    .colab-df-convert:hover {\n",
              "      background-color: #E2EBFA;\n",
              "      box-shadow: 0px 1px 2px rgba(60, 64, 67, 0.3), 0px 1px 3px 1px rgba(60, 64, 67, 0.15);\n",
              "      fill: #174EA6;\n",
              "    }\n",
              "\n",
              "    [theme=dark] .colab-df-convert {\n",
              "      background-color: #3B4455;\n",
              "      fill: #D2E3FC;\n",
              "    }\n",
              "\n",
              "    [theme=dark] .colab-df-convert:hover {\n",
              "      background-color: #434B5C;\n",
              "      box-shadow: 0px 1px 3px 1px rgba(0, 0, 0, 0.15);\n",
              "      filter: drop-shadow(0px 1px 2px rgba(0, 0, 0, 0.3));\n",
              "      fill: #FFFFFF;\n",
              "    }\n",
              "  </style>\n",
              "\n",
              "      <script>\n",
              "        const buttonEl =\n",
              "          document.querySelector('#df-b491c292-c22c-4480-8321-cea3e718aaee button.colab-df-convert');\n",
              "        buttonEl.style.display =\n",
              "          google.colab.kernel.accessAllowed ? 'block' : 'none';\n",
              "\n",
              "        async function convertToInteractive(key) {\n",
              "          const element = document.querySelector('#df-b491c292-c22c-4480-8321-cea3e718aaee');\n",
              "          const dataTable =\n",
              "            await google.colab.kernel.invokeFunction('convertToInteractive',\n",
              "                                                     [key], {});\n",
              "          if (!dataTable) return;\n",
              "\n",
              "          const docLinkHtml = 'Like what you see? Visit the ' +\n",
              "            '<a target=\"_blank\" href=https://colab.research.google.com/notebooks/data_table.ipynb>data table notebook</a>'\n",
              "            + ' to learn more about interactive tables.';\n",
              "          element.innerHTML = '';\n",
              "          dataTable['output_type'] = 'display_data';\n",
              "          await google.colab.output.renderOutput(dataTable, element);\n",
              "          const docLink = document.createElement('div');\n",
              "          docLink.innerHTML = docLinkHtml;\n",
              "          element.appendChild(docLink);\n",
              "        }\n",
              "      </script>\n",
              "    </div>\n",
              "  </div>\n",
              "  "
            ]
          },
          "metadata": {},
          "execution_count": 160
        }
      ]
    }
  ]
}